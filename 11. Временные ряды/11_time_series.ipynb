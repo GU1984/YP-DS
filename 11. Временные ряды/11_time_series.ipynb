{
 "cells": [
  {
   "cell_type": "markdown",
   "metadata": {
    "toc": true
   },
   "source": [
    "<h1>Содержание<span class=\"tocSkip\"></span></h1>\n",
    "<div class=\"toc\"><ul class=\"toc-item\"><li><span><a href=\"#Подготовка\" data-toc-modified-id=\"Подготовка-1\"><span class=\"toc-item-num\">1&nbsp;&nbsp;</span>Подготовка</a></span></li><li><span><a href=\"#Анализ\" data-toc-modified-id=\"Анализ-2\"><span class=\"toc-item-num\">2&nbsp;&nbsp;</span>Анализ</a></span></li><li><span><a href=\"#Обучение\" data-toc-modified-id=\"Обучение-3\"><span class=\"toc-item-num\">3&nbsp;&nbsp;</span>Обучение</a></span><ul class=\"toc-item\"><li><span><a href=\"#Константная-модель\" data-toc-modified-id=\"Константная-модель-3.1\"><span class=\"toc-item-num\">3.1&nbsp;&nbsp;</span>Константная модель</a></span></li><li><span><a href=\"#Подготовка-данных\" data-toc-modified-id=\"Подготовка-данных-3.2\"><span class=\"toc-item-num\">3.2&nbsp;&nbsp;</span>Подготовка данных</a></span></li><li><span><a href=\"#Случайный-лес\" data-toc-modified-id=\"Случайный-лес-3.3\"><span class=\"toc-item-num\">3.3&nbsp;&nbsp;</span>Случайный лес</a></span></li><li><span><a href=\"#Линейная-регрессия\" data-toc-modified-id=\"Линейная-регрессия-3.4\"><span class=\"toc-item-num\">3.4&nbsp;&nbsp;</span>Линейная регрессия</a></span></li></ul></li><li><span><a href=\"#Тестирование\" data-toc-modified-id=\"Тестирование-4\"><span class=\"toc-item-num\">4&nbsp;&nbsp;</span>Тестирование</a></span></li><li><span><a href=\"#Выводы:\" data-toc-modified-id=\"Выводы:-5\"><span class=\"toc-item-num\">5&nbsp;&nbsp;</span>Выводы:</a></span></li><li><span><a href=\"#Чек-лист-проверки\" data-toc-modified-id=\"Чек-лист-проверки-6\"><span class=\"toc-item-num\">6&nbsp;&nbsp;</span>Чек-лист проверки</a></span></li></ul></div>"
   ]
  },
  {
   "cell_type": "markdown",
   "metadata": {},
   "source": [
    "#  Прогнозирование заказов такси"
   ]
  },
  {
   "cell_type": "markdown",
   "metadata": {},
   "source": [
    "Компания «Чётенькое такси» собрала исторические данные о заказах такси в аэропортах. Чтобы привлекать больше водителей в период пиковой нагрузки, нужно спрогнозировать количество заказов такси на следующий час. Постройте модель для такого предсказания.\n",
    "\n",
    "Значение метрики *RMSE* на тестовой выборке должно быть не больше 48.\n",
    "\n",
    "Вам нужно:\n",
    "\n",
    "1. Загрузить данные и выполнить их ресемплирование по одному часу.\n",
    "2. Проанализировать данные.\n",
    "3. Обучить разные модели с различными гиперпараметрами. Сделать тестовую выборку размером 10% от исходных данных.\n",
    "4. Проверить данные на тестовой выборке и сделать выводы.\n",
    "\n",
    "\n",
    "Данные лежат в файле `taxi.csv`. Количество заказов находится в столбце `num_orders` (от англ. *number of orders*, «число заказов»)."
   ]
  },
  {
   "cell_type": "markdown",
   "metadata": {},
   "source": [
    "## Подготовка"
   ]
  },
  {
   "cell_type": "code",
   "execution_count": 1,
   "metadata": {},
   "outputs": [],
   "source": [
    "import numpy as np\n",
    "import matplotlib.pyplot as plt\n",
    "import pandas as pd\n",
    "import seaborn as sns\n",
    "\n",
    "from sklearn.linear_model import (\n",
    "    LinearRegression,\n",
    "    Lasso\n",
    ") \n",
    "\n",
    "from sklearn.ensemble import RandomForestRegressor\n",
    "\n",
    "from sklearn.metrics import mean_squared_error\n",
    "\n",
    "from sklearn.model_selection import (\n",
    "    cross_val_score,\n",
    "    GridSearchCV,\n",
    "    TimeSeriesSplit,\n",
    "    train_test_split   \n",
    ")\n",
    " \n",
    "from statsmodels.tsa.seasonal import seasonal_decompose"
   ]
  },
  {
   "cell_type": "markdown",
   "metadata": {},
   "source": [
    "Загрузка данных"
   ]
  },
  {
   "cell_type": "code",
   "execution_count": 2,
   "metadata": {},
   "outputs": [],
   "source": [
    "data = pd.read_csv('/datasets/taxi.csv', index_col=[0], parse_dates=[0])\n",
    "data.sort_index(inplace=True)"
   ]
  },
  {
   "cell_type": "code",
   "execution_count": 3,
   "metadata": {},
   "outputs": [
    {
     "data": {
      "text/html": [
       "<div>\n",
       "<style scoped>\n",
       "    .dataframe tbody tr th:only-of-type {\n",
       "        vertical-align: middle;\n",
       "    }\n",
       "\n",
       "    .dataframe tbody tr th {\n",
       "        vertical-align: top;\n",
       "    }\n",
       "\n",
       "    .dataframe thead th {\n",
       "        text-align: right;\n",
       "    }\n",
       "</style>\n",
       "<table border=\"1\" class=\"dataframe\">\n",
       "  <thead>\n",
       "    <tr style=\"text-align: right;\">\n",
       "      <th></th>\n",
       "      <th>num_orders</th>\n",
       "    </tr>\n",
       "    <tr>\n",
       "      <th>datetime</th>\n",
       "      <th></th>\n",
       "    </tr>\n",
       "  </thead>\n",
       "  <tbody>\n",
       "    <tr>\n",
       "      <th>2018-03-01 00:00:00</th>\n",
       "      <td>9</td>\n",
       "    </tr>\n",
       "    <tr>\n",
       "      <th>2018-03-01 00:10:00</th>\n",
       "      <td>14</td>\n",
       "    </tr>\n",
       "    <tr>\n",
       "      <th>2018-03-01 00:20:00</th>\n",
       "      <td>28</td>\n",
       "    </tr>\n",
       "    <tr>\n",
       "      <th>2018-03-01 00:30:00</th>\n",
       "      <td>20</td>\n",
       "    </tr>\n",
       "    <tr>\n",
       "      <th>2018-03-01 00:40:00</th>\n",
       "      <td>32</td>\n",
       "    </tr>\n",
       "    <tr>\n",
       "      <th>2018-03-01 00:50:00</th>\n",
       "      <td>21</td>\n",
       "    </tr>\n",
       "    <tr>\n",
       "      <th>2018-03-01 01:00:00</th>\n",
       "      <td>7</td>\n",
       "    </tr>\n",
       "    <tr>\n",
       "      <th>2018-03-01 01:10:00</th>\n",
       "      <td>5</td>\n",
       "    </tr>\n",
       "    <tr>\n",
       "      <th>2018-03-01 01:20:00</th>\n",
       "      <td>17</td>\n",
       "    </tr>\n",
       "    <tr>\n",
       "      <th>2018-03-01 01:30:00</th>\n",
       "      <td>12</td>\n",
       "    </tr>\n",
       "  </tbody>\n",
       "</table>\n",
       "</div>"
      ],
      "text/plain": [
       "                     num_orders\n",
       "datetime                       \n",
       "2018-03-01 00:00:00           9\n",
       "2018-03-01 00:10:00          14\n",
       "2018-03-01 00:20:00          28\n",
       "2018-03-01 00:30:00          20\n",
       "2018-03-01 00:40:00          32\n",
       "2018-03-01 00:50:00          21\n",
       "2018-03-01 01:00:00           7\n",
       "2018-03-01 01:10:00           5\n",
       "2018-03-01 01:20:00          17\n",
       "2018-03-01 01:30:00          12"
      ]
     },
     "metadata": {},
     "output_type": "display_data"
    }
   ],
   "source": [
    "display(data.head(10))"
   ]
  },
  {
   "cell_type": "code",
   "execution_count": 4,
   "metadata": {},
   "outputs": [
    {
     "name": "stdout",
     "output_type": "stream",
     "text": [
      "<class 'pandas.core.frame.DataFrame'>\n",
      "DatetimeIndex: 26496 entries, 2018-03-01 00:00:00 to 2018-08-31 23:50:00\n",
      "Data columns (total 1 columns):\n",
      " #   Column      Non-Null Count  Dtype\n",
      "---  ------      --------------  -----\n",
      " 0   num_orders  26496 non-null  int64\n",
      "dtypes: int64(1)\n",
      "memory usage: 414.0 KB\n"
     ]
    }
   ],
   "source": [
    "data.info()"
   ]
  },
  {
   "cell_type": "code",
   "execution_count": 5,
   "metadata": {},
   "outputs": [
    {
     "data": {
      "text/plain": [
       "(26496, 1)"
      ]
     },
     "execution_count": 5,
     "metadata": {},
     "output_type": "execute_result"
    }
   ],
   "source": [
    "data.shape"
   ]
  },
  {
   "cell_type": "markdown",
   "metadata": {},
   "source": [
    "Проведем семплирование данны, 1 час"
   ]
  },
  {
   "cell_type": "code",
   "execution_count": 6,
   "metadata": {},
   "outputs": [],
   "source": [
    "data_res = data.resample('1H').sum()"
   ]
  },
  {
   "cell_type": "code",
   "execution_count": 7,
   "metadata": {},
   "outputs": [
    {
     "data": {
      "text/plain": [
       "(4416, 1)"
      ]
     },
     "execution_count": 7,
     "metadata": {},
     "output_type": "execute_result"
    }
   ],
   "source": [
    "data_res.shape"
   ]
  },
  {
   "cell_type": "markdown",
   "metadata": {},
   "source": [
    "Визуализируем данные на графике"
   ]
  },
  {
   "cell_type": "code",
   "execution_count": 8,
   "metadata": {},
   "outputs": [
    {
     "data": {
      "image/png": "[encoded data removed]",
      "text/plain": [
       "<Figure size 1152x288 with 1 Axes>"
      ]
     },
     "metadata": {
      "needs_background": "light"
     },
     "output_type": "display_data"
    }
   ],
   "source": [
    "fig = plt.figure(figsize=(16, 4))\n",
    "plt.suptitle('Исходный ряд', fontsize=16)\n",
    "plt.plot(data_res)\n",
    "plt.show()"
   ]
  },
  {
   "cell_type": "markdown",
   "metadata": {},
   "source": [
    "Из графика видно, что есть есть небольшой тренд на увеличение после 6 месяца, особенно заметно в 8. При дальнешем анализе нужно обратить на это внимание."
   ]
  },
  {
   "cell_type": "markdown",
   "metadata": {},
   "source": [
    "## Анализ"
   ]
  },
  {
   "cell_type": "markdown",
   "metadata": {},
   "source": [
    "Чтобы лучше понимать временной ряд, разделим его на тренды и сезонность"
   ]
  },
  {
   "cell_type": "markdown",
   "metadata": {},
   "source": [
    "Напишем функцию построения графиков: тред, сезонность, остаток"
   ]
  },
  {
   "cell_type": "code",
   "execution_count": 9,
   "metadata": {},
   "outputs": [],
   "source": [
    "def show_trens_seas_res(data):\n",
    "    \n",
    "    decomposed = seasonal_decompose(data)\n",
    "    \n",
    "    plt.figure(figsize=(12, 12))\n",
    "    plt.suptitle(\"График тренд/скозоность/остаток\", fontsize=16)\n",
    "    plt.grid()\n",
    "    \n",
    "    plt.subplot(311)\n",
    "    decomposed.trend.plot(ax=plt.gca()) \n",
    "    plt.grid()\n",
    "    plt.xlabel(\"Время\")\n",
    "    plt.ylabel(\"Кол-во заказов\")\n",
    "    plt.title('Тренд')\n",
    "    \n",
    "    plt.subplot(312)\n",
    "    decomposed.seasonal.plot(ax=plt.gca())\n",
    "    plt.xlabel(\"Время\")\n",
    "    plt.ylabel(\"Кол-во заказов\")\n",
    "    plt.title('Сезонность')\n",
    "    \n",
    "    plt.subplot(313)\n",
    "    decomposed.resid.plot(ax=plt.gca())\n",
    "    plt.grid()\n",
    "    plt.xlabel(\"Время\")\n",
    "    plt.ylabel(\"Кол-во заказов\")\n",
    "    plt.title('Остаток')\n",
    "    \n",
    "    plt.tight_layout()"
   ]
  },
  {
   "cell_type": "code",
   "execution_count": 10,
   "metadata": {},
   "outputs": [
    {
     "data": {
      "image/png": "[encoded data removed]",
      "text/plain": [
       "<Figure size 864x864 with 3 Axes>"
      ]
     },
     "metadata": {
      "needs_background": "light"
     },
     "output_type": "display_data"
    }
   ],
   "source": [
    "show_trens_seas_res(data_res)"
   ]
  },
  {
   "cell_type": "markdown",
   "metadata": {},
   "source": [
    "Чтобы более детально рассмотреть данные построим графики для 1 месяца. Выберем последний месяц - август, 08:"
   ]
  },
  {
   "cell_type": "code",
   "execution_count": 11,
   "metadata": {},
   "outputs": [
    {
     "data": {
      "image/png": "[encoded data removed]",
      "text/plain": [
       "<Figure size 864x864 with 3 Axes>"
      ]
     },
     "metadata": {
      "needs_background": "light"
     },
     "output_type": "display_data"
    }
   ],
   "source": [
    "show_trens_seas_res(data_res['2018-08':])"
   ]
  },
  {
   "cell_type": "markdown",
   "metadata": {},
   "source": [
    "- На графике треда мы видим рост,\n",
    "- Сезонная частьявляется статической, если рассмтривать  интервал 1 сутки,\n",
    "- Наблюдается постоянное среднее значение у случайной части,\n",
    "- Так же есть всплески в днях являющимся выходными."
   ]
  },
  {
   "cell_type": "markdown",
   "metadata": {},
   "source": [
    "## Обучение"
   ]
  },
  {
   "cell_type": "code",
   "execution_count": 12,
   "metadata": {},
   "outputs": [
    {
     "data": {
      "text/html": [
       "<div>\n",
       "<style scoped>\n",
       "    .dataframe tbody tr th:only-of-type {\n",
       "        vertical-align: middle;\n",
       "    }\n",
       "\n",
       "    .dataframe tbody tr th {\n",
       "        vertical-align: top;\n",
       "    }\n",
       "\n",
       "    .dataframe thead th {\n",
       "        text-align: right;\n",
       "    }\n",
       "</style>\n",
       "<table border=\"1\" class=\"dataframe\">\n",
       "  <thead>\n",
       "    <tr style=\"text-align: right;\">\n",
       "      <th></th>\n",
       "      <th>num_orders</th>\n",
       "    </tr>\n",
       "    <tr>\n",
       "      <th>datetime</th>\n",
       "      <th></th>\n",
       "    </tr>\n",
       "  </thead>\n",
       "  <tbody>\n",
       "    <tr>\n",
       "      <th>2018-03-01 00:00:00</th>\n",
       "      <td>124</td>\n",
       "    </tr>\n",
       "    <tr>\n",
       "      <th>2018-03-01 01:00:00</th>\n",
       "      <td>85</td>\n",
       "    </tr>\n",
       "    <tr>\n",
       "      <th>2018-03-01 02:00:00</th>\n",
       "      <td>71</td>\n",
       "    </tr>\n",
       "    <tr>\n",
       "      <th>2018-03-01 03:00:00</th>\n",
       "      <td>66</td>\n",
       "    </tr>\n",
       "    <tr>\n",
       "      <th>2018-03-01 04:00:00</th>\n",
       "      <td>43</td>\n",
       "    </tr>\n",
       "  </tbody>\n",
       "</table>\n",
       "</div>"
      ],
      "text/plain": [
       "                     num_orders\n",
       "datetime                       \n",
       "2018-03-01 00:00:00         124\n",
       "2018-03-01 01:00:00          85\n",
       "2018-03-01 02:00:00          71\n",
       "2018-03-01 03:00:00          66\n",
       "2018-03-01 04:00:00          43"
      ]
     },
     "execution_count": 12,
     "metadata": {},
     "output_type": "execute_result"
    }
   ],
   "source": [
    "data_res.head()"
   ]
  },
  {
   "cell_type": "markdown",
   "metadata": {},
   "source": [
    "### Константная модель"
   ]
  },
  {
   "cell_type": "markdown",
   "metadata": {},
   "source": [
    "Построим константную модель. В качестве предсказания будем использовать предыдущие значения, то есть будем предсказывать новые значения предыдущими."
   ]
  },
  {
   "cell_type": "code",
   "execution_count": 13,
   "metadata": {},
   "outputs": [
    {
     "name": "stdout",
     "output_type": "stream",
     "text": [
      "RMSE линейной модели: 58.86\n"
     ]
    }
   ],
   "source": [
    "# резделим выборку на обучающу и тестовую\n",
    "train, test = train_test_split(data_res, shuffle=False, test_size=0.1)\n",
    "# удалим пропуски\n",
    "train = train.dropna()\n",
    "# сделаем сдвиг\n",
    "prediction_previous = test.shift()\n",
    "# возьмем нулевое занчение из обучающей выборки\n",
    "prediction_previous.iloc[0] = train.iloc[-1]\n",
    "# расчитаем RMSE\n",
    "rmse_base =  mean_squared_error(test['num_orders'], prediction_previous) ** 0.5\n",
    "print(\"RMSE линейной модели:\", round(rmse_base, 2))"
   ]
  },
  {
   "cell_type": "markdown",
   "metadata": {},
   "source": [
    "### Подготовка данных"
   ]
  },
  {
   "cell_type": "markdown",
   "metadata": {},
   "source": [
    "Напишем функцию для создания признаков, в которую войдут:\n",
    "- Календарные признаки - dayofweek, day, hour\n",
    "- «Отстающие значения» - max_lag\n",
    "- Скользящее среднее - rolling_mean_size"
   ]
  },
  {
   "cell_type": "code",
   "execution_count": 14,
   "metadata": {},
   "outputs": [],
   "source": [
    "def make_features(data_a, max_lag, rolling_mean_size):\n",
    "    data = data_a.copy()\n",
    "    data['hour'] = data.index.hour\n",
    "    data['day'] = data.index.day\n",
    "    data['dayofweek'] = data.index.dayofweek\n",
    "    \n",
    "    for lag in range(1, max_lag + 1):\n",
    "        data['lag_{}'.format(lag)] = data['num_orders'].shift(lag)\n",
    "\n",
    "    data['rolling_mean'] = data['num_orders'].shift().rolling(rolling_mean_size).mean()\n",
    "    \n",
    "    return data\n"
   ]
  },
  {
   "cell_type": "code",
   "execution_count": 15,
   "metadata": {},
   "outputs": [
    {
     "data": {
      "text/html": [
       "<div>\n",
       "<style scoped>\n",
       "    .dataframe tbody tr th:only-of-type {\n",
       "        vertical-align: middle;\n",
       "    }\n",
       "\n",
       "    .dataframe tbody tr th {\n",
       "        vertical-align: top;\n",
       "    }\n",
       "\n",
       "    .dataframe thead th {\n",
       "        text-align: right;\n",
       "    }\n",
       "</style>\n",
       "<table border=\"1\" class=\"dataframe\">\n",
       "  <thead>\n",
       "    <tr style=\"text-align: right;\">\n",
       "      <th></th>\n",
       "      <th>num_orders</th>\n",
       "      <th>hour</th>\n",
       "      <th>day</th>\n",
       "      <th>dayofweek</th>\n",
       "      <th>lag_1</th>\n",
       "      <th>rolling_mean</th>\n",
       "    </tr>\n",
       "    <tr>\n",
       "      <th>datetime</th>\n",
       "      <th></th>\n",
       "      <th></th>\n",
       "      <th></th>\n",
       "      <th></th>\n",
       "      <th></th>\n",
       "      <th></th>\n",
       "    </tr>\n",
       "  </thead>\n",
       "  <tbody>\n",
       "    <tr>\n",
       "      <th>2018-03-01 00:00:00</th>\n",
       "      <td>124</td>\n",
       "      <td>0</td>\n",
       "      <td>1</td>\n",
       "      <td>3</td>\n",
       "      <td>NaN</td>\n",
       "      <td>NaN</td>\n",
       "    </tr>\n",
       "    <tr>\n",
       "      <th>2018-03-01 01:00:00</th>\n",
       "      <td>85</td>\n",
       "      <td>1</td>\n",
       "      <td>1</td>\n",
       "      <td>3</td>\n",
       "      <td>124.0</td>\n",
       "      <td>124.0</td>\n",
       "    </tr>\n",
       "    <tr>\n",
       "      <th>2018-03-01 02:00:00</th>\n",
       "      <td>71</td>\n",
       "      <td>2</td>\n",
       "      <td>1</td>\n",
       "      <td>3</td>\n",
       "      <td>85.0</td>\n",
       "      <td>85.0</td>\n",
       "    </tr>\n",
       "  </tbody>\n",
       "</table>\n",
       "</div>"
      ],
      "text/plain": [
       "                     num_orders  hour  day  dayofweek  lag_1  rolling_mean\n",
       "datetime                                                                  \n",
       "2018-03-01 00:00:00         124     0    1          3    NaN           NaN\n",
       "2018-03-01 01:00:00          85     1    1          3  124.0         124.0\n",
       "2018-03-01 02:00:00          71     2    1          3   85.0          85.0"
      ]
     },
     "metadata": {},
     "output_type": "display_data"
    }
   ],
   "source": [
    "# check\n",
    "display(make_features(data_res, 1, 1).head(3))"
   ]
  },
  {
   "cell_type": "markdown",
   "metadata": {},
   "source": [
    "Создадим данные с признаками:"
   ]
  },
  {
   "cell_type": "code",
   "execution_count": 16,
   "metadata": {},
   "outputs": [],
   "source": [
    "data_for_analize = make_features(data_res, 20, 30)"
   ]
  },
  {
   "cell_type": "code",
   "execution_count": 17,
   "metadata": {},
   "outputs": [
    {
     "data": {
      "image/png": "[encoded data removed]",
      "text/plain": [
       "<Figure size 432x288 with 1 Axes>"
      ]
     },
     "metadata": {
      "needs_background": "light"
     },
     "output_type": "display_data"
    }
   ],
   "source": [
    "\n",
    "from statsmodels.graphics import tsaplots\n",
    "\n",
    "fig = tsaplots.plot_acf(data_for_analize['num_orders'],lags= 90)\n",
    "plt.show() \n",
    "\n"
   ]
  },
  {
   "cell_type": "markdown",
   "metadata": {},
   "source": [
    "Разделим выборку на тестовую и обучающую"
   ]
  },
  {
   "cell_type": "code",
   "execution_count": 18,
   "metadata": {},
   "outputs": [],
   "source": [
    "train, test = train_test_split(data_for_analize, shuffle=False, test_size=0.1)"
   ]
  },
  {
   "cell_type": "markdown",
   "metadata": {},
   "source": [
    "Удалим строки с пустыми значениями"
   ]
  },
  {
   "cell_type": "code",
   "execution_count": 19,
   "metadata": {},
   "outputs": [],
   "source": [
    "train = train.dropna()"
   ]
  },
  {
   "cell_type": "code",
   "execution_count": 20,
   "metadata": {},
   "outputs": [
    {
     "data": {
      "text/html": [
       "<div>\n",
       "<style scoped>\n",
       "    .dataframe tbody tr th:only-of-type {\n",
       "        vertical-align: middle;\n",
       "    }\n",
       "\n",
       "    .dataframe tbody tr th {\n",
       "        vertical-align: top;\n",
       "    }\n",
       "\n",
       "    .dataframe thead th {\n",
       "        text-align: right;\n",
       "    }\n",
       "</style>\n",
       "<table border=\"1\" class=\"dataframe\">\n",
       "  <thead>\n",
       "    <tr style=\"text-align: right;\">\n",
       "      <th></th>\n",
       "      <th>num_orders</th>\n",
       "      <th>hour</th>\n",
       "      <th>day</th>\n",
       "      <th>dayofweek</th>\n",
       "      <th>lag_1</th>\n",
       "      <th>lag_2</th>\n",
       "      <th>lag_3</th>\n",
       "      <th>lag_4</th>\n",
       "      <th>lag_5</th>\n",
       "      <th>lag_6</th>\n",
       "      <th>...</th>\n",
       "      <th>lag_12</th>\n",
       "      <th>lag_13</th>\n",
       "      <th>lag_14</th>\n",
       "      <th>lag_15</th>\n",
       "      <th>lag_16</th>\n",
       "      <th>lag_17</th>\n",
       "      <th>lag_18</th>\n",
       "      <th>lag_19</th>\n",
       "      <th>lag_20</th>\n",
       "      <th>rolling_mean</th>\n",
       "    </tr>\n",
       "    <tr>\n",
       "      <th>datetime</th>\n",
       "      <th></th>\n",
       "      <th></th>\n",
       "      <th></th>\n",
       "      <th></th>\n",
       "      <th></th>\n",
       "      <th></th>\n",
       "      <th></th>\n",
       "      <th></th>\n",
       "      <th></th>\n",
       "      <th></th>\n",
       "      <th></th>\n",
       "      <th></th>\n",
       "      <th></th>\n",
       "      <th></th>\n",
       "      <th></th>\n",
       "      <th></th>\n",
       "      <th></th>\n",
       "      <th></th>\n",
       "      <th></th>\n",
       "      <th></th>\n",
       "      <th></th>\n",
       "    </tr>\n",
       "  </thead>\n",
       "  <tbody>\n",
       "    <tr>\n",
       "      <th>2018-03-02 06:00:00</th>\n",
       "      <td>11</td>\n",
       "      <td>6</td>\n",
       "      <td>2</td>\n",
       "      <td>4</td>\n",
       "      <td>11.0</td>\n",
       "      <td>20.0</td>\n",
       "      <td>64.0</td>\n",
       "      <td>75.0</td>\n",
       "      <td>120.0</td>\n",
       "      <td>90.0</td>\n",
       "      <td>...</td>\n",
       "      <td>73.0</td>\n",
       "      <td>44.0</td>\n",
       "      <td>43.0</td>\n",
       "      <td>66.0</td>\n",
       "      <td>48.0</td>\n",
       "      <td>32.0</td>\n",
       "      <td>30.0</td>\n",
       "      <td>96.0</td>\n",
       "      <td>64.0</td>\n",
       "      <td>58.133333</td>\n",
       "    </tr>\n",
       "    <tr>\n",
       "      <th>2018-03-02 07:00:00</th>\n",
       "      <td>7</td>\n",
       "      <td>7</td>\n",
       "      <td>2</td>\n",
       "      <td>4</td>\n",
       "      <td>11.0</td>\n",
       "      <td>11.0</td>\n",
       "      <td>20.0</td>\n",
       "      <td>64.0</td>\n",
       "      <td>75.0</td>\n",
       "      <td>120.0</td>\n",
       "      <td>...</td>\n",
       "      <td>45.0</td>\n",
       "      <td>73.0</td>\n",
       "      <td>44.0</td>\n",
       "      <td>43.0</td>\n",
       "      <td>66.0</td>\n",
       "      <td>48.0</td>\n",
       "      <td>32.0</td>\n",
       "      <td>30.0</td>\n",
       "      <td>96.0</td>\n",
       "      <td>54.366667</td>\n",
       "    </tr>\n",
       "    <tr>\n",
       "      <th>2018-03-02 08:00:00</th>\n",
       "      <td>46</td>\n",
       "      <td>8</td>\n",
       "      <td>2</td>\n",
       "      <td>4</td>\n",
       "      <td>7.0</td>\n",
       "      <td>11.0</td>\n",
       "      <td>11.0</td>\n",
       "      <td>20.0</td>\n",
       "      <td>64.0</td>\n",
       "      <td>75.0</td>\n",
       "      <td>...</td>\n",
       "      <td>61.0</td>\n",
       "      <td>45.0</td>\n",
       "      <td>73.0</td>\n",
       "      <td>44.0</td>\n",
       "      <td>43.0</td>\n",
       "      <td>66.0</td>\n",
       "      <td>48.0</td>\n",
       "      <td>32.0</td>\n",
       "      <td>30.0</td>\n",
       "      <td>51.766667</td>\n",
       "    </tr>\n",
       "  </tbody>\n",
       "</table>\n",
       "<p>3 rows × 25 columns</p>\n",
       "</div>"
      ],
      "text/plain": [
       "                     num_orders  hour  day  dayofweek  lag_1  lag_2  lag_3  \\\n",
       "datetime                                                                     \n",
       "2018-03-02 06:00:00          11     6    2          4   11.0   20.0   64.0   \n",
       "2018-03-02 07:00:00           7     7    2          4   11.0   11.0   20.0   \n",
       "2018-03-02 08:00:00          46     8    2          4    7.0   11.0   11.0   \n",
       "\n",
       "                     lag_4  lag_5  lag_6  ...  lag_12  lag_13  lag_14  lag_15  \\\n",
       "datetime                                  ...                                   \n",
       "2018-03-02 06:00:00   75.0  120.0   90.0  ...    73.0    44.0    43.0    66.0   \n",
       "2018-03-02 07:00:00   64.0   75.0  120.0  ...    45.0    73.0    44.0    43.0   \n",
       "2018-03-02 08:00:00   20.0   64.0   75.0  ...    61.0    45.0    73.0    44.0   \n",
       "\n",
       "                     lag_16  lag_17  lag_18  lag_19  lag_20  rolling_mean  \n",
       "datetime                                                                   \n",
       "2018-03-02 06:00:00    48.0    32.0    30.0    96.0    64.0     58.133333  \n",
       "2018-03-02 07:00:00    66.0    48.0    32.0    30.0    96.0     54.366667  \n",
       "2018-03-02 08:00:00    43.0    66.0    48.0    32.0    30.0     51.766667  \n",
       "\n",
       "[3 rows x 25 columns]"
      ]
     },
     "metadata": {},
     "output_type": "display_data"
    }
   ],
   "source": [
    "#check\n",
    "display(train.head(3))"
   ]
  },
  {
   "cell_type": "markdown",
   "metadata": {},
   "source": [
    "Выделим целевой признак"
   ]
  },
  {
   "cell_type": "code",
   "execution_count": 21,
   "metadata": {},
   "outputs": [],
   "source": [
    "target_train = train['num_orders']\n",
    "features_train = train.drop('num_orders', axis=1)\n",
    "\n",
    "target_test = test['num_orders']\n",
    "features_test = test.drop('num_orders', axis=1)"
   ]
  },
  {
   "cell_type": "code",
   "execution_count": 22,
   "metadata": {},
   "outputs": [
    {
     "name": "stdout",
     "output_type": "stream",
     "text": [
      "(3944,)\n",
      "(3944, 24)\n",
      "(442,)\n",
      "(442, 24)\n"
     ]
    }
   ],
   "source": [
    "#check\n",
    "print(target_train.shape)\n",
    "print(features_train.shape)\n",
    "\n",
    "print(target_test.shape)\n",
    "print(features_test.shape)"
   ]
  },
  {
   "cell_type": "markdown",
   "metadata": {},
   "source": [
    "### Случайный лес"
   ]
  },
  {
   "cell_type": "code",
   "execution_count": 23,
   "metadata": {},
   "outputs": [],
   "source": [
    "model_forest_regression = RandomForestRegressor(random_state=12345)"
   ]
  },
  {
   "cell_type": "markdown",
   "metadata": {},
   "source": [
    "Подберем пераметры модели случайного леса"
   ]
  },
  {
   "cell_type": "code",
   "execution_count": 24,
   "metadata": {},
   "outputs": [
    {
     "data": {
      "text/plain": [
       "GridSearchCV(cv=TimeSeriesSplit(gap=0, max_train_size=None, n_splits=10, test_size=None),\n",
       "             estimator=RandomForestRegressor(random_state=12345),\n",
       "             param_grid={'max_depth': [1, 5, 10, 15],\n",
       "                         'n_estimators': [25, 50, 75, 100]},\n",
       "             scoring='neg_mean_squared_error')"
      ]
     },
     "execution_count": 24,
     "metadata": {},
     "output_type": "execute_result"
    }
   ],
   "source": [
    "tscv = TimeSeriesSplit(n_splits=10)\n",
    "\n",
    "param_search = {'n_estimators': [25, 50, 75, 100],\n",
    "                  'max_depth': [1, 5, 10, 15]}\n",
    "\n",
    "gbm = GridSearchCV(\n",
    "    estimator=model_forest_regression,\n",
    "    cv=tscv,\n",
    "    param_grid=param_search,\n",
    "    scoring = 'neg_mean_squared_error')\n",
    "\n",
    "gbm.fit(features_train, target_train)"
   ]
  },
  {
   "cell_type": "code",
   "execution_count": 25,
   "metadata": {},
   "outputs": [
    {
     "name": "stdout",
     "output_type": "stream",
     "text": [
      "{'max_depth': 15, 'n_estimators': 100}\n"
     ]
    }
   ],
   "source": [
    "print(gbm.best_params_)"
   ]
  },
  {
   "cell_type": "code",
   "execution_count": 26,
   "metadata": {},
   "outputs": [
    {
     "name": "stdout",
     "output_type": "stream",
     "text": [
      "RMSE для модели Случайного леса на обучающей выборке: 24.59\n"
     ]
    }
   ],
   "source": [
    "print(\"RMSE для модели Случайного леса на обучающей выборке:\",round((-gbm.best_score_) ** 0.5, 2))"
   ]
  },
  {
   "cell_type": "markdown",
   "metadata": {},
   "source": [
    "### Линейная регрессия"
   ]
  },
  {
   "cell_type": "markdown",
   "metadata": {},
   "source": [
    "Создадим и обучим модель Линейной регрессии"
   ]
  },
  {
   "cell_type": "code",
   "execution_count": 27,
   "metadata": {},
   "outputs": [],
   "source": [
    "model_linear_regression = LinearRegression()\n",
    "mse_linear_regression = cross_val_score(\n",
    "    model_linear_regression,\n",
    "    features_train,\n",
    "    target_train,\n",
    "    cv=tscv,\n",
    "    scoring='neg_mean_squared_error')"
   ]
  },
  {
   "cell_type": "code",
   "execution_count": 28,
   "metadata": {},
   "outputs": [
    {
     "name": "stdout",
     "output_type": "stream",
     "text": [
      "RMSE для модели Линейной регрессии на обучающей выборке: 30.03\n"
     ]
    }
   ],
   "source": [
    "print(\"RMSE для модели Линейной регрессии на обучающей выборке:\", round((-mse_linear_regression.mean()) ** 0.5, 2))"
   ]
  },
  {
   "cell_type": "markdown",
   "metadata": {},
   "source": [
    "Для получения необходимого качества модели и соответсвенно уровня показателя RMSE. Необходимо определить оптимальные показатели «Отстающие значения» - max_lag и скользящее  среднее - rolling_mean_size. Выше у нас стояли случайно проставленные числа."
   ]
  },
  {
   "cell_type": "markdown",
   "metadata": {},
   "source": [
    "Напишем функцию, которая будет возвращать нам оптимальные параметры «Отстающие значения» - max_lag и скользящее среднее - rolling_mean_size"
   ]
  },
  {
   "cell_type": "code",
   "execution_count": 29,
   "metadata": {},
   "outputs": [],
   "source": [
    "def find_model(model):\n",
    "    best_max_lag = 0\n",
    "    best_rolling_mean_size = 0\n",
    "    best_rmse = 48\n",
    "    for max_lag in range(1, 112, 10):\n",
    "        for rolling_mean_size in range(1, 112, 10):\n",
    "            data = make_features(data_res, max_lag, rolling_mean_size)\n",
    "            train, test = train_test_split(data, shuffle=False, test_size=0.2)\n",
    "            train = train.dropna()\n",
    "            features_train = train.drop('num_orders', axis = 1)\n",
    "            target_train = train['num_orders']\n",
    "            features_test = test.drop('num_orders', axis = 1)\n",
    "            target_test = test['num_orders']\n",
    "\n",
    "            mse = cross_val_score(\n",
    "                model,\n",
    "                features_train,\n",
    "                target_train,\n",
    "                cv=tscv,\n",
    "                scoring='neg_mean_squared_error')\n",
    "            \n",
    "            rmse = round((-mse.mean()) ** 0.5, 2)\n",
    "            if rmse < best_rmse :\n",
    "                best_rmse = rmse\n",
    "                best_max_lag = max_lag\n",
    "                best_rolling_mean_size = rolling_mean_size\n",
    "                \n",
    "    print(f\"RMSE на обучающей выборке: {best_rmse}\")\n",
    "    print(f\"Mаксимальное смещение :{best_max_lag}\")\n",
    "    print(f\"Размер скользящего окна: {best_rolling_mean_size}\")            \n",
    "    \n",
    "    return best_max_lag, best_rolling_mean_size"
   ]
  },
  {
   "cell_type": "markdown",
   "metadata": {},
   "source": [
    "Поскольку показатели Линейной регресси были выше будем искать нужные нам параметры на модели Линейной Регрессии."
   ]
  },
  {
   "cell_type": "code",
   "execution_count": 30,
   "metadata": {},
   "outputs": [
    {
     "name": "stdout",
     "output_type": "stream",
     "text": [
      "RMSE на обучающей выборке: 22.97\n",
      "Mаксимальное смещение :81\n",
      "Размер скользящего окна: 11\n"
     ]
    }
   ],
   "source": [
    "best_max_lag, best_rolling_mean_size = find_model(LinearRegression())"
   ]
  },
  {
   "cell_type": "markdown",
   "metadata": {},
   "source": [
    "Подготовим данные в соответстсвии с лучшим значением максимального смещения и лучшим размером скользящего окна."
   ]
  },
  {
   "cell_type": "code",
   "execution_count": 31,
   "metadata": {},
   "outputs": [],
   "source": [
    "data_for_test = make_features(data_res, best_max_lag, best_rolling_mean_size)\n",
    "train, test = train_test_split(data_for_test, shuffle=False, test_size=0.1)\n",
    "train = train.dropna()\n",
    "features_train = train.drop('num_orders', axis = 1)\n",
    "target_train = train['num_orders']\n",
    "features_test = test.drop('num_orders', axis = 1)\n",
    "target_test = test['num_orders']"
   ]
  },
  {
   "cell_type": "markdown",
   "metadata": {},
   "source": [
    "Обучим модель и получим финальное RMSE на обучающей выборке"
   ]
  },
  {
   "cell_type": "code",
   "execution_count": 32,
   "metadata": {},
   "outputs": [
    {
     "name": "stdout",
     "output_type": "stream",
     "text": [
      "Финальное RMSE на обучающей выборки: 22.62\n"
     ]
    }
   ],
   "source": [
    "model = LinearRegression()\n",
    "model.fit(features_train, target_train)\n",
    "prediction_train = model.predict(features_train)\n",
    "rmse_final_train = mean_squared_error(target_train, prediction_train) ** 0.5\n",
    "print(\"Финальное RMSE на обучающей выборки:\", round(rmse_final_train, 2))"
   ]
  },
  {
   "cell_type": "markdown",
   "metadata": {},
   "source": [
    "## Тестирование"
   ]
  },
  {
   "cell_type": "markdown",
   "metadata": {},
   "source": [
    "Лучшая моедль - Модель Линейной регрессии.\n",
    " - Оптимальные параметры «Отстающие значения» - max_lag = 81\n",
    " - скользящее среднее - rolling_mean_size = 11"
   ]
  },
  {
   "cell_type": "markdown",
   "metadata": {},
   "source": [
    "Проведем тестирование и получим финальное RMSE на тестовой выборке"
   ]
  },
  {
   "cell_type": "code",
   "execution_count": 33,
   "metadata": {},
   "outputs": [
    {
     "name": "stdout",
     "output_type": "stream",
     "text": [
      "Финальное RMSE на тестовой выборке: 40.9\n"
     ]
    }
   ],
   "source": [
    "predictions_test = model.predict(features_test)\n",
    "rmse_final = mean_squared_error(target_test, predictions_test) ** 0.5\n",
    "print(\"Финальное RMSE на тестовой выборке:\", round(rmse_final, 2))"
   ]
  },
  {
   "cell_type": "markdown",
   "metadata": {},
   "source": [
    "Визуализируем полученные результаты"
   ]
  },
  {
   "cell_type": "code",
   "execution_count": 34,
   "metadata": {},
   "outputs": [],
   "source": [
    "#Создадим данные предасказания и тестовых данных\n",
    "data_prediction = pd.concat([target_test, \n",
    "                             pd.Series(predictions_test, index = target_test.index, name='predictions')], axis=1)"
   ]
  },
  {
   "cell_type": "code",
   "execution_count": 35,
   "metadata": {},
   "outputs": [
    {
     "data": {
      "text/html": [
       "<div>\n",
       "<style scoped>\n",
       "    .dataframe tbody tr th:only-of-type {\n",
       "        vertical-align: middle;\n",
       "    }\n",
       "\n",
       "    .dataframe tbody tr th {\n",
       "        vertical-align: top;\n",
       "    }\n",
       "\n",
       "    .dataframe thead th {\n",
       "        text-align: right;\n",
       "    }\n",
       "</style>\n",
       "<table border=\"1\" class=\"dataframe\">\n",
       "  <thead>\n",
       "    <tr style=\"text-align: right;\">\n",
       "      <th></th>\n",
       "      <th>num_orders</th>\n",
       "      <th>predictions</th>\n",
       "    </tr>\n",
       "    <tr>\n",
       "      <th>datetime</th>\n",
       "      <th></th>\n",
       "      <th></th>\n",
       "    </tr>\n",
       "  </thead>\n",
       "  <tbody>\n",
       "    <tr>\n",
       "      <th>2018-08-13 14:00:00</th>\n",
       "      <td>102</td>\n",
       "      <td>127.085641</td>\n",
       "    </tr>\n",
       "    <tr>\n",
       "      <th>2018-08-13 15:00:00</th>\n",
       "      <td>175</td>\n",
       "      <td>144.066109</td>\n",
       "    </tr>\n",
       "    <tr>\n",
       "      <th>2018-08-13 16:00:00</th>\n",
       "      <td>144</td>\n",
       "      <td>158.003609</td>\n",
       "    </tr>\n",
       "  </tbody>\n",
       "</table>\n",
       "</div>"
      ],
      "text/plain": [
       "                     num_orders  predictions\n",
       "datetime                                    \n",
       "2018-08-13 14:00:00         102   127.085641\n",
       "2018-08-13 15:00:00         175   144.066109\n",
       "2018-08-13 16:00:00         144   158.003609"
      ]
     },
     "execution_count": 35,
     "metadata": {},
     "output_type": "execute_result"
    }
   ],
   "source": [
    "data_prediction.head(3)"
   ]
  },
  {
   "cell_type": "code",
   "execution_count": 36,
   "metadata": {},
   "outputs": [
    {
     "data": {
      "text/html": [
       "<div>\n",
       "<style scoped>\n",
       "    .dataframe tbody tr th:only-of-type {\n",
       "        vertical-align: middle;\n",
       "    }\n",
       "\n",
       "    .dataframe tbody tr th {\n",
       "        vertical-align: top;\n",
       "    }\n",
       "\n",
       "    .dataframe thead th {\n",
       "        text-align: right;\n",
       "    }\n",
       "</style>\n",
       "<table border=\"1\" class=\"dataframe\">\n",
       "  <thead>\n",
       "    <tr style=\"text-align: right;\">\n",
       "      <th></th>\n",
       "      <th>num_orders</th>\n",
       "      <th>predictions</th>\n",
       "    </tr>\n",
       "    <tr>\n",
       "      <th>datetime</th>\n",
       "      <th></th>\n",
       "      <th></th>\n",
       "    </tr>\n",
       "  </thead>\n",
       "  <tbody>\n",
       "    <tr>\n",
       "      <th>2018-08-31 21:00:00</th>\n",
       "      <td>159</td>\n",
       "      <td>190.653292</td>\n",
       "    </tr>\n",
       "    <tr>\n",
       "      <th>2018-08-31 22:00:00</th>\n",
       "      <td>223</td>\n",
       "      <td>175.415450</td>\n",
       "    </tr>\n",
       "    <tr>\n",
       "      <th>2018-08-31 23:00:00</th>\n",
       "      <td>205</td>\n",
       "      <td>211.269117</td>\n",
       "    </tr>\n",
       "  </tbody>\n",
       "</table>\n",
       "</div>"
      ],
      "text/plain": [
       "                     num_orders  predictions\n",
       "datetime                                    \n",
       "2018-08-31 21:00:00         159   190.653292\n",
       "2018-08-31 22:00:00         223   175.415450\n",
       "2018-08-31 23:00:00         205   211.269117"
      ]
     },
     "execution_count": 36,
     "metadata": {},
     "output_type": "execute_result"
    }
   ],
   "source": [
    "data_prediction.tail(3)"
   ]
  },
  {
   "cell_type": "code",
   "execution_count": 37,
   "metadata": {},
   "outputs": [
    {
     "data": {
      "image/png": "[encoded data removed]",
      "text/plain": [
       "<Figure size 1152x432 with 1 Axes>"
      ]
     },
     "metadata": {
      "needs_background": "light"
     },
     "output_type": "display_data"
    }
   ],
   "source": [
    "# данные для графика\n",
    "data_plot = data_prediction['2018-08-13':'2018-08-31']\n",
    "# построение графика\n",
    "plt.figure(figsize=(16, 6))\n",
    "plt.suptitle('Сравнение тестовых данных и полученных предсказаний лучшей моделью', fontsize=16)\n",
    "plt.plot(data_plot.index, data_plot['num_orders'], label='Тестовые данные')\n",
    "plt.plot(data_plot.index, data_plot['predictions'], label='Предсказание')\n",
    "plt.xlabel(\"Время\")\n",
    "plt.grid()\n",
    "plt.legend(loc='upper center', bbox_to_anchor=(0.5, 1.05), ncol=5, fancybox=True, shadow=True);"
   ]
  },
  {
   "cell_type": "markdown",
   "metadata": {},
   "source": [
    "## Выводы:"
   ]
  },
  {
   "cell_type": "markdown",
   "metadata": {},
   "source": [
    "1. Данные загружены и изучены.\n",
    "2. Произведено семплирование данных по 1 часу.\n",
    "3. Ряд был разделены на тренд и сезонность:\n",
    "   - На графике треда мы видим рост;\n",
    "   - Сезонная часть является статической, если рассмтатривать  интервал 1 сутки;\n",
    "   - Наблюдается постоянное среднее значение у случайной части.\n",
    "   - Есть всплески в днях являющимся выходными.\n",
    "4. Для исследования была выбрана модель Линейной регресии.\n",
    "5. Подобраны параметры скользящего окна и максимального смещения позволившего получить RMSE = 40 на тестовой выборке.\n",
    "6. Построен сравнительный график полученных предсказаний и тестовых данных. На графике видно, что модель хорошо описывает ежедневные данные. Редкие пики (выходные), которые есть в тестовых данных, модель не предсказывает."
   ]
  }
 ],
 "metadata": {
  "ExecuteTimeLog": [
   {
    "duration": 3,
    "start_time": "2023-01-31T09:23:11.260Z"
   },
   {
    "duration": 42,
    "start_time": "2023-01-31T09:23:11.820Z"
   },
   {
    "duration": 6,
    "start_time": "2023-01-31T09:23:12.280Z"
   },
   {
    "duration": 10,
    "start_time": "2023-01-31T09:23:14.585Z"
   },
   {
    "duration": 603,
    "start_time": "2023-01-31T09:23:22.395Z"
   },
   {
    "duration": 4,
    "start_time": "2023-01-31T09:23:24.496Z"
   },
   {
    "duration": 4,
    "start_time": "2023-01-31T09:23:25.533Z"
   },
   {
    "duration": 4,
    "start_time": "2023-01-31T09:23:26.288Z"
   },
   {
    "duration": 4,
    "start_time": "2023-01-31T09:23:26.865Z"
   },
   {
    "duration": 4,
    "start_time": "2023-01-31T09:23:28.350Z"
   },
   {
    "duration": 822,
    "start_time": "2023-01-31T09:23:29.402Z"
   },
   {
    "duration": 771,
    "start_time": "2023-01-31T09:23:31.468Z"
   },
   {
    "duration": 746,
    "start_time": "2023-01-31T09:23:39.364Z"
   },
   {
    "duration": 735,
    "start_time": "2023-01-31T09:23:46.042Z"
   },
   {
    "duration": 833,
    "start_time": "2023-01-31T09:23:47.225Z"
   },
   {
    "duration": 756,
    "start_time": "2023-01-31T09:25:05.088Z"
   },
   {
    "duration": 4,
    "start_time": "2023-01-31T09:25:44.734Z"
   },
   {
    "duration": 22,
    "start_time": "2023-01-31T09:25:54.282Z"
   },
   {
    "duration": 24,
    "start_time": "2023-01-31T09:26:13.789Z"
   },
   {
    "duration": 305,
    "start_time": "2023-01-31T09:27:30.597Z"
   },
   {
    "duration": 41,
    "start_time": "2023-01-31T09:28:34.427Z"
   },
   {
    "duration": 886,
    "start_time": "2023-01-31T09:28:48.061Z"
   },
   {
    "duration": 287,
    "start_time": "2023-01-31T09:29:49.933Z"
   },
   {
    "duration": 261,
    "start_time": "2023-01-31T09:29:53.115Z"
   },
   {
    "duration": 204,
    "start_time": "2023-01-31T09:29:54.297Z"
   },
   {
    "duration": 211,
    "start_time": "2023-01-31T09:29:59.179Z"
   },
   {
    "duration": 244,
    "start_time": "2023-01-31T09:30:04.768Z"
   },
   {
    "duration": 382,
    "start_time": "2023-01-31T09:30:15.152Z"
   },
   {
    "duration": 272,
    "start_time": "2023-01-31T09:30:20.793Z"
   },
   {
    "duration": 279,
    "start_time": "2023-01-31T09:30:38.908Z"
   },
   {
    "duration": 273,
    "start_time": "2023-01-31T09:30:40.024Z"
   },
   {
    "duration": 223,
    "start_time": "2023-01-31T09:30:40.959Z"
   },
   {
    "duration": 51,
    "start_time": "2023-01-31T09:32:25.286Z"
   },
   {
    "duration": 46,
    "start_time": "2023-01-31T09:34:24.905Z"
   },
   {
    "duration": 396,
    "start_time": "2023-01-31T09:35:00.367Z"
   },
   {
    "duration": 422,
    "start_time": "2023-01-31T09:37:38.136Z"
   },
   {
    "duration": 5,
    "start_time": "2023-01-31T09:41:04.191Z"
   },
   {
    "duration": 983,
    "start_time": "2023-01-31T09:42:46.294Z"
   },
   {
    "duration": 46,
    "start_time": "2023-01-31T09:43:50.537Z"
   },
   {
    "duration": 58,
    "start_time": "2023-01-31T09:44:01.166Z"
   },
   {
    "duration": 51,
    "start_time": "2023-01-31T09:44:15.504Z"
   },
   {
    "duration": 4,
    "start_time": "2023-01-31T09:44:22.394Z"
   },
   {
    "duration": 5,
    "start_time": "2023-01-31T09:44:30.139Z"
   },
   {
    "duration": 382,
    "start_time": "2023-01-31T09:44:35.651Z"
   },
   {
    "duration": 4,
    "start_time": "2023-01-31T09:44:59.256Z"
   },
   {
    "duration": 447,
    "start_time": "2023-01-31T09:44:59.835Z"
   },
   {
    "duration": 7,
    "start_time": "2023-01-31T09:45:32.553Z"
   },
   {
    "duration": 477,
    "start_time": "2023-01-31T09:45:35.031Z"
   },
   {
    "duration": 5,
    "start_time": "2023-01-31T09:45:43.720Z"
   },
   {
    "duration": 500,
    "start_time": "2023-01-31T09:45:46.713Z"
   },
   {
    "duration": 6,
    "start_time": "2023-01-31T09:46:08.762Z"
   },
   {
    "duration": 482,
    "start_time": "2023-01-31T09:46:12.214Z"
   },
   {
    "duration": 6,
    "start_time": "2023-01-31T09:46:18.728Z"
   },
   {
    "duration": 513,
    "start_time": "2023-01-31T09:46:21.996Z"
   },
   {
    "duration": 5,
    "start_time": "2023-01-31T09:46:39.367Z"
   },
   {
    "duration": 552,
    "start_time": "2023-01-31T09:46:40.311Z"
   },
   {
    "duration": 6,
    "start_time": "2023-01-31T09:50:09.649Z"
   },
   {
    "duration": 521,
    "start_time": "2023-01-31T09:50:33.002Z"
   },
   {
    "duration": 5,
    "start_time": "2023-01-31T09:50:42.811Z"
   },
   {
    "duration": 500,
    "start_time": "2023-01-31T09:50:44.544Z"
   },
   {
    "duration": 17,
    "start_time": "2023-01-31T09:56:26.895Z"
   },
   {
    "duration": 7,
    "start_time": "2023-01-31T09:57:25.583Z"
   },
   {
    "duration": 660,
    "start_time": "2023-01-31T09:57:26.239Z"
   },
   {
    "duration": 7,
    "start_time": "2023-01-31T09:57:38.672Z"
   },
   {
    "duration": 450,
    "start_time": "2023-01-31T09:57:41.119Z"
   },
   {
    "duration": 5,
    "start_time": "2023-01-31T09:58:04.285Z"
   },
   {
    "duration": 398,
    "start_time": "2023-01-31T09:58:05.823Z"
   },
   {
    "duration": 5,
    "start_time": "2023-01-31T09:58:26.177Z"
   },
   {
    "duration": 444,
    "start_time": "2023-01-31T09:58:27.431Z"
   },
   {
    "duration": 5,
    "start_time": "2023-01-31T09:58:37.814Z"
   },
   {
    "duration": 5,
    "start_time": "2023-01-31T09:58:51.054Z"
   },
   {
    "duration": 498,
    "start_time": "2023-01-31T09:58:52.010Z"
   },
   {
    "duration": 5,
    "start_time": "2023-01-31T09:59:07.986Z"
   },
   {
    "duration": 505,
    "start_time": "2023-01-31T09:59:10.677Z"
   },
   {
    "duration": 15,
    "start_time": "2023-01-31T09:59:52.329Z"
   },
   {
    "duration": 11,
    "start_time": "2023-01-31T10:00:06.691Z"
   },
   {
    "duration": 366,
    "start_time": "2023-01-31T10:01:40.041Z"
   },
   {
    "duration": 174,
    "start_time": "2023-01-31T10:01:50.697Z"
   },
   {
    "duration": 193,
    "start_time": "2023-01-31T10:01:57.543Z"
   },
   {
    "duration": 211,
    "start_time": "2023-01-31T10:02:02.759Z"
   },
   {
    "duration": 6,
    "start_time": "2023-01-31T10:04:20.356Z"
   },
   {
    "duration": 499,
    "start_time": "2023-01-31T10:04:21.488Z"
   },
   {
    "duration": 902,
    "start_time": "2023-01-31T10:06:07.792Z"
   },
   {
    "duration": 5,
    "start_time": "2023-01-31T10:06:16.555Z"
   },
   {
    "duration": 6,
    "start_time": "2023-01-31T10:11:36.014Z"
   },
   {
    "duration": 9,
    "start_time": "2023-01-31T10:12:21.197Z"
   },
   {
    "duration": 7,
    "start_time": "2023-01-31T10:12:57.528Z"
   },
   {
    "duration": 6,
    "start_time": "2023-01-31T10:13:22.733Z"
   },
   {
    "duration": 20,
    "start_time": "2023-01-31T10:13:37.035Z"
   },
   {
    "duration": 9,
    "start_time": "2023-01-31T10:13:47.102Z"
   },
   {
    "duration": 755,
    "start_time": "2023-01-31T10:14:13.464Z"
   },
   {
    "duration": 6,
    "start_time": "2023-01-31T10:14:27.191Z"
   },
   {
    "duration": 64,
    "start_time": "2023-01-31T10:15:01.073Z"
   },
   {
    "duration": 14,
    "start_time": "2023-01-31T10:15:06.014Z"
   },
   {
    "duration": 13,
    "start_time": "2023-01-31T10:15:19.463Z"
   },
   {
    "duration": 9,
    "start_time": "2023-01-31T10:15:22.204Z"
   },
   {
    "duration": 4,
    "start_time": "2023-01-31T10:15:29.809Z"
   },
   {
    "duration": 16,
    "start_time": "2023-01-31T10:15:30.441Z"
   },
   {
    "duration": 5,
    "start_time": "2023-01-31T10:15:31.064Z"
   },
   {
    "duration": 8,
    "start_time": "2023-01-31T10:15:31.620Z"
   },
   {
    "duration": 7,
    "start_time": "2023-01-31T10:15:32.346Z"
   },
   {
    "duration": 18,
    "start_time": "2023-01-31T10:15:39.113Z"
   },
   {
    "duration": 6,
    "start_time": "2023-01-31T10:15:42.893Z"
   },
   {
    "duration": 10,
    "start_time": "2023-01-31T10:19:24.211Z"
   },
   {
    "duration": 14,
    "start_time": "2023-01-31T10:19:25.808Z"
   },
   {
    "duration": 4,
    "start_time": "2023-01-31T10:19:46.909Z"
   },
   {
    "duration": 6,
    "start_time": "2023-01-31T10:19:47.504Z"
   },
   {
    "duration": 8,
    "start_time": "2023-01-31T10:19:47.928Z"
   },
   {
    "duration": 6,
    "start_time": "2023-01-31T10:19:48.649Z"
   },
   {
    "duration": 5,
    "start_time": "2023-01-31T10:19:49.174Z"
   },
   {
    "duration": 19,
    "start_time": "2023-01-31T10:19:56.009Z"
   },
   {
    "duration": 4,
    "start_time": "2023-01-31T10:20:01.624Z"
   },
   {
    "duration": 47,
    "start_time": "2023-01-31T10:20:02.506Z"
   },
   {
    "duration": 7,
    "start_time": "2023-01-31T10:20:03.134Z"
   },
   {
    "duration": 10,
    "start_time": "2023-01-31T10:20:03.317Z"
   },
   {
    "duration": 197,
    "start_time": "2023-01-31T10:20:04.360Z"
   },
   {
    "duration": 4,
    "start_time": "2023-01-31T10:20:04.886Z"
   },
   {
    "duration": 3,
    "start_time": "2023-01-31T10:20:05.263Z"
   },
   {
    "duration": 3,
    "start_time": "2023-01-31T10:20:05.756Z"
   },
   {
    "duration": 3,
    "start_time": "2023-01-31T10:20:06.281Z"
   },
   {
    "duration": 5,
    "start_time": "2023-01-31T10:20:06.999Z"
   },
   {
    "duration": 796,
    "start_time": "2023-01-31T10:20:07.059Z"
   },
   {
    "duration": 841,
    "start_time": "2023-01-31T10:20:07.856Z"
   },
   {
    "duration": 806,
    "start_time": "2023-01-31T10:20:08.699Z"
   },
   {
    "duration": 902,
    "start_time": "2023-01-31T10:20:09.506Z"
   },
   {
    "duration": 725,
    "start_time": "2023-01-31T10:20:10.410Z"
   },
   {
    "duration": 7,
    "start_time": "2023-01-31T10:20:11.137Z"
   },
   {
    "duration": 497,
    "start_time": "2023-01-31T10:20:11.145Z"
   },
   {
    "duration": 8,
    "start_time": "2023-01-31T10:20:11.932Z"
   },
   {
    "duration": 8,
    "start_time": "2023-01-31T10:20:17.879Z"
   },
   {
    "duration": 4,
    "start_time": "2023-01-31T10:20:19.909Z"
   },
   {
    "duration": 8,
    "start_time": "2023-01-31T10:20:21.573Z"
   },
   {
    "duration": 5,
    "start_time": "2023-01-31T10:20:25.350Z"
   },
   {
    "duration": 6,
    "start_time": "2023-01-31T10:20:26.727Z"
   },
   {
    "duration": 5,
    "start_time": "2023-01-31T10:20:27.396Z"
   },
   {
    "duration": 71,
    "start_time": "2023-01-31T10:20:28.299Z"
   },
   {
    "duration": 11,
    "start_time": "2023-01-31T10:21:49.353Z"
   },
   {
    "duration": 4,
    "start_time": "2023-01-31T10:22:37.381Z"
   },
   {
    "duration": 8,
    "start_time": "2023-01-31T10:23:16.111Z"
   },
   {
    "duration": 15,
    "start_time": "2023-01-31T10:24:00.636Z"
   },
   {
    "duration": 4,
    "start_time": "2023-01-31T10:24:01.199Z"
   },
   {
    "duration": 5,
    "start_time": "2023-01-31T10:24:01.610Z"
   },
   {
    "duration": 5,
    "start_time": "2023-01-31T10:24:02.000Z"
   },
   {
    "duration": 4,
    "start_time": "2023-01-31T10:24:02.680Z"
   },
   {
    "duration": 8,
    "start_time": "2023-01-31T10:24:03.806Z"
   },
   {
    "duration": 68,
    "start_time": "2023-01-31T10:24:05.631Z"
   },
   {
    "duration": 7,
    "start_time": "2023-01-31T10:25:27.355Z"
   },
   {
    "duration": 8,
    "start_time": "2023-01-31T10:25:28.043Z"
   },
   {
    "duration": 3,
    "start_time": "2023-01-31T10:26:14.285Z"
   },
   {
    "duration": 14,
    "start_time": "2023-01-31T10:26:15.693Z"
   },
   {
    "duration": 6,
    "start_time": "2023-01-31T10:26:17.291Z"
   },
   {
    "duration": 6,
    "start_time": "2023-01-31T10:26:18.168Z"
   },
   {
    "duration": 5,
    "start_time": "2023-01-31T10:26:19.077Z"
   },
   {
    "duration": 5,
    "start_time": "2023-01-31T10:26:20.599Z"
   },
   {
    "duration": 9,
    "start_time": "2023-01-31T10:26:32.430Z"
   },
   {
    "duration": 26,
    "start_time": "2023-01-31T10:26:42.183Z"
   },
   {
    "duration": 13,
    "start_time": "2023-01-31T10:26:56.591Z"
   },
   {
    "duration": 6,
    "start_time": "2023-01-31T10:27:20.867Z"
   },
   {
    "duration": 5,
    "start_time": "2023-01-31T10:27:21.571Z"
   },
   {
    "duration": 7,
    "start_time": "2023-01-31T10:27:22.096Z"
   },
   {
    "duration": 6,
    "start_time": "2023-01-31T10:27:22.995Z"
   },
   {
    "duration": 5,
    "start_time": "2023-01-31T10:27:23.866Z"
   },
   {
    "duration": 20,
    "start_time": "2023-01-31T10:27:26.648Z"
   },
   {
    "duration": 10,
    "start_time": "2023-01-31T10:27:28.623Z"
   },
   {
    "duration": 8,
    "start_time": "2023-01-31T10:28:38.263Z"
   },
   {
    "duration": 8,
    "start_time": "2023-01-31T10:28:57.456Z"
   },
   {
    "duration": 26,
    "start_time": "2023-01-31T10:33:41.196Z"
   },
   {
    "duration": 8,
    "start_time": "2023-01-31T10:33:50.743Z"
   },
   {
    "duration": 11,
    "start_time": "2023-01-31T10:33:51.327Z"
   },
   {
    "duration": 593,
    "start_time": "2023-01-31T10:34:02.438Z"
   },
   {
    "duration": 9,
    "start_time": "2023-01-31T10:37:29.153Z"
   },
   {
    "duration": 4,
    "start_time": "2023-01-31T10:37:34.027Z"
   },
   {
    "duration": 47,
    "start_time": "2023-01-31T10:37:34.414Z"
   },
   {
    "duration": 9,
    "start_time": "2023-01-31T10:37:34.687Z"
   },
   {
    "duration": 13,
    "start_time": "2023-01-31T10:37:35.049Z"
   },
   {
    "duration": 10,
    "start_time": "2023-01-31T10:37:37.308Z"
   },
   {
    "duration": 5,
    "start_time": "2023-01-31T10:37:40.471Z"
   },
   {
    "duration": 7,
    "start_time": "2023-01-31T10:37:51.760Z"
   },
   {
    "duration": 7,
    "start_time": "2023-01-31T10:40:53.764Z"
   },
   {
    "duration": 118,
    "start_time": "2023-01-31T10:43:32.009Z"
   },
   {
    "duration": 17,
    "start_time": "2023-01-31T10:43:35.611Z"
   },
   {
    "duration": 8,
    "start_time": "2023-01-31T10:43:45.266Z"
   },
   {
    "duration": 256,
    "start_time": "2023-01-31T10:43:47.848Z"
   },
   {
    "duration": 968,
    "start_time": "2023-01-31T10:44:52.889Z"
   },
   {
    "duration": 753,
    "start_time": "2023-01-31T10:45:57.921Z"
   },
   {
    "duration": 3,
    "start_time": "2023-01-31T10:50:07.972Z"
   },
   {
    "duration": 8,
    "start_time": "2023-01-31T10:50:09.570Z"
   },
   {
    "duration": 12,
    "start_time": "2023-01-31T10:50:50.852Z"
   },
   {
    "duration": 4,
    "start_time": "2023-01-31T10:51:00.416Z"
   },
   {
    "duration": 60,
    "start_time": "2023-01-31T10:51:00.913Z"
   },
   {
    "duration": 7,
    "start_time": "2023-01-31T10:51:01.378Z"
   },
   {
    "duration": 10,
    "start_time": "2023-01-31T10:51:01.991Z"
   },
   {
    "duration": 4,
    "start_time": "2023-01-31T10:51:02.568Z"
   },
   {
    "duration": 207,
    "start_time": "2023-01-31T10:51:03.792Z"
   },
   {
    "duration": 7,
    "start_time": "2023-01-31T10:51:04.991Z"
   },
   {
    "duration": 8,
    "start_time": "2023-01-31T10:51:05.787Z"
   },
   {
    "duration": 805,
    "start_time": "2023-01-31T10:51:07.053Z"
   },
   {
    "duration": 4,
    "start_time": "2023-01-31T10:51:19.102Z"
   },
   {
    "duration": 17,
    "start_time": "2023-01-31T10:51:19.761Z"
   },
   {
    "duration": 12,
    "start_time": "2023-01-31T10:51:20.588Z"
   },
   {
    "duration": 3,
    "start_time": "2023-01-31T10:52:12.778Z"
   },
   {
    "duration": 12,
    "start_time": "2023-01-31T10:52:13.349Z"
   },
   {
    "duration": 6,
    "start_time": "2023-01-31T10:52:14.060Z"
   },
   {
    "duration": 6,
    "start_time": "2023-01-31T10:52:15.983Z"
   },
   {
    "duration": 5,
    "start_time": "2023-01-31T10:52:17.351Z"
   },
   {
    "duration": 4,
    "start_time": "2023-01-31T10:52:17.852Z"
   },
   {
    "duration": 16,
    "start_time": "2023-01-31T10:52:55.696Z"
   },
   {
    "duration": 9,
    "start_time": "2023-01-31T10:53:00.312Z"
   },
   {
    "duration": 4,
    "start_time": "2023-01-31T10:53:16.155Z"
   },
   {
    "duration": 7,
    "start_time": "2023-01-31T10:53:16.656Z"
   },
   {
    "duration": 5,
    "start_time": "2023-01-31T10:53:17.188Z"
   },
   {
    "duration": 7,
    "start_time": "2023-01-31T10:53:17.601Z"
   },
   {
    "duration": 5,
    "start_time": "2023-01-31T10:53:18.019Z"
   },
   {
    "duration": 10,
    "start_time": "2023-01-31T10:53:18.724Z"
   },
   {
    "duration": 50,
    "start_time": "2023-01-31T10:53:20.299Z"
   },
   {
    "duration": 20,
    "start_time": "2023-01-31T10:53:23.023Z"
   },
   {
    "duration": 4,
    "start_time": "2023-01-31T10:53:31.120Z"
   },
   {
    "duration": 54,
    "start_time": "2023-01-31T10:53:31.586Z"
   },
   {
    "duration": 9,
    "start_time": "2023-01-31T10:53:31.939Z"
   },
   {
    "duration": 11,
    "start_time": "2023-01-31T10:53:32.451Z"
   },
   {
    "duration": 5,
    "start_time": "2023-01-31T10:53:32.880Z"
   },
   {
    "duration": 224,
    "start_time": "2023-01-31T10:53:33.867Z"
   },
   {
    "duration": 7,
    "start_time": "2023-01-31T10:53:35.353Z"
   },
   {
    "duration": 10,
    "start_time": "2023-01-31T10:53:36.071Z"
   },
   {
    "duration": 1018,
    "start_time": "2023-01-31T10:53:37.103Z"
   },
   {
    "duration": 5,
    "start_time": "2023-01-31T10:55:36.519Z"
   },
   {
    "duration": 8,
    "start_time": "2023-01-31T10:55:37.207Z"
   },
   {
    "duration": 4,
    "start_time": "2023-01-31T10:55:38.783Z"
   },
   {
    "duration": 6,
    "start_time": "2023-01-31T10:55:39.356Z"
   },
   {
    "duration": 5,
    "start_time": "2023-01-31T10:55:39.814Z"
   },
   {
    "duration": 5,
    "start_time": "2023-01-31T10:55:40.658Z"
   },
   {
    "duration": 90,
    "start_time": "2023-01-31T10:55:44.805Z"
   },
   {
    "duration": 4,
    "start_time": "2023-01-31T10:56:08.147Z"
   },
   {
    "duration": 7,
    "start_time": "2023-01-31T10:56:08.716Z"
   },
   {
    "duration": 5,
    "start_time": "2023-01-31T10:56:09.373Z"
   },
   {
    "duration": 7,
    "start_time": "2023-01-31T10:56:10.149Z"
   },
   {
    "duration": 8,
    "start_time": "2023-01-31T10:56:10.748Z"
   },
   {
    "duration": 4,
    "start_time": "2023-01-31T10:56:11.568Z"
   },
   {
    "duration": 15,
    "start_time": "2023-01-31T10:56:13.151Z"
   },
   {
    "duration": 18,
    "start_time": "2023-01-31T10:56:48.294Z"
   },
   {
    "duration": 24,
    "start_time": "2023-01-31T10:57:02.851Z"
   },
   {
    "duration": 6,
    "start_time": "2023-01-31T10:57:13.756Z"
   },
   {
    "duration": 6,
    "start_time": "2023-01-31T10:57:14.393Z"
   },
   {
    "duration": 6,
    "start_time": "2023-01-31T10:57:14.765Z"
   },
   {
    "duration": 4,
    "start_time": "2023-01-31T10:57:15.115Z"
   },
   {
    "duration": 182,
    "start_time": "2023-01-31T10:57:16.869Z"
   },
   {
    "duration": 209,
    "start_time": "2023-01-31T10:57:21.752Z"
   },
   {
    "duration": 12,
    "start_time": "2023-01-31T10:59:59.751Z"
   },
   {
    "duration": 5,
    "start_time": "2023-01-31T11:00:18.152Z"
   },
   {
    "duration": 4,
    "start_time": "2023-01-31T11:00:34.815Z"
   },
   {
    "duration": 26,
    "start_time": "2023-01-31T11:00:36.115Z"
   },
   {
    "duration": 3,
    "start_time": "2023-01-31T11:00:41.894Z"
   },
   {
    "duration": 61,
    "start_time": "2023-01-31T11:00:42.420Z"
   },
   {
    "duration": 6,
    "start_time": "2023-01-31T11:00:42.787Z"
   },
   {
    "duration": 10,
    "start_time": "2023-01-31T11:00:43.274Z"
   },
   {
    "duration": 4,
    "start_time": "2023-01-31T11:00:43.701Z"
   },
   {
    "duration": 213,
    "start_time": "2023-01-31T11:00:46.052Z"
   },
   {
    "duration": 7,
    "start_time": "2023-01-31T11:00:47.852Z"
   },
   {
    "duration": 8,
    "start_time": "2023-01-31T11:00:53.723Z"
   },
   {
    "duration": 4,
    "start_time": "2023-01-31T11:01:08.206Z"
   },
   {
    "duration": 4,
    "start_time": "2023-01-31T11:01:36.602Z"
   },
   {
    "duration": 7,
    "start_time": "2023-01-31T11:01:37.952Z"
   },
   {
    "duration": 815,
    "start_time": "2023-01-31T11:01:39.332Z"
   },
   {
    "duration": 901,
    "start_time": "2023-01-31T11:02:10.881Z"
   },
   {
    "duration": 18,
    "start_time": "2023-01-31T11:02:26.924Z"
   },
   {
    "duration": 947,
    "start_time": "2023-01-31T11:02:27.695Z"
   },
   {
    "duration": 19,
    "start_time": "2023-01-31T11:02:42.119Z"
   },
   {
    "duration": 8,
    "start_time": "2023-01-31T11:02:44.324Z"
   },
   {
    "duration": 3,
    "start_time": "2023-01-31T11:02:48.979Z"
   },
   {
    "duration": 32,
    "start_time": "2023-01-31T11:02:58.115Z"
   },
   {
    "duration": 6,
    "start_time": "2023-01-31T11:02:59.998Z"
   },
   {
    "duration": 6,
    "start_time": "2023-01-31T11:03:01.055Z"
   },
   {
    "duration": 5,
    "start_time": "2023-01-31T11:03:05.773Z"
   },
   {
    "duration": 4,
    "start_time": "2023-01-31T11:03:06.657Z"
   },
   {
    "duration": 21,
    "start_time": "2023-01-31T11:03:10.444Z"
   },
   {
    "duration": 115,
    "start_time": "2023-01-31T11:03:30.735Z"
   },
   {
    "duration": 199,
    "start_time": "2023-01-31T11:03:54.439Z"
   },
   {
    "duration": 11,
    "start_time": "2023-01-31T11:04:28.752Z"
   },
   {
    "duration": 3,
    "start_time": "2023-01-31T11:06:10.980Z"
   },
   {
    "duration": 42,
    "start_time": "2023-01-31T11:06:11.487Z"
   },
   {
    "duration": 8,
    "start_time": "2023-01-31T11:06:11.882Z"
   },
   {
    "duration": 10,
    "start_time": "2023-01-31T11:06:12.352Z"
   },
   {
    "duration": 4,
    "start_time": "2023-01-31T11:06:12.768Z"
   },
   {
    "duration": 204,
    "start_time": "2023-01-31T11:06:13.610Z"
   },
   {
    "duration": 7,
    "start_time": "2023-01-31T11:06:14.194Z"
   },
   {
    "duration": 4,
    "start_time": "2023-01-31T11:06:14.810Z"
   },
   {
    "duration": 8,
    "start_time": "2023-01-31T11:06:15.483Z"
   },
   {
    "duration": 1056,
    "start_time": "2023-01-31T11:06:16.193Z"
   },
   {
    "duration": 10,
    "start_time": "2023-01-31T11:06:18.813Z"
   },
   {
    "duration": 5,
    "start_time": "2023-01-31T11:06:19.683Z"
   },
   {
    "duration": 3,
    "start_time": "2023-01-31T11:06:21.379Z"
   },
   {
    "duration": 65,
    "start_time": "2023-01-31T11:06:24.087Z"
   },
   {
    "duration": 4,
    "start_time": "2023-01-31T11:06:24.612Z"
   },
   {
    "duration": 7,
    "start_time": "2023-01-31T11:06:25.822Z"
   },
   {
    "duration": 5,
    "start_time": "2023-01-31T11:06:26.667Z"
   },
   {
    "duration": 4,
    "start_time": "2023-01-31T11:06:27.288Z"
   },
   {
    "duration": 101,
    "start_time": "2023-01-31T11:06:28.023Z"
   },
   {
    "duration": 11,
    "start_time": "2023-01-31T11:07:14.695Z"
   },
   {
    "duration": 4,
    "start_time": "2023-01-31T11:07:15.287Z"
   },
   {
    "duration": 4,
    "start_time": "2023-01-31T11:07:15.879Z"
   },
   {
    "duration": 24,
    "start_time": "2023-01-31T11:07:16.953Z"
   },
   {
    "duration": 5,
    "start_time": "2023-01-31T11:07:26.208Z"
   },
   {
    "duration": 6,
    "start_time": "2023-01-31T11:07:26.792Z"
   },
   {
    "duration": 5,
    "start_time": "2023-01-31T11:07:27.456Z"
   },
   {
    "duration": 4,
    "start_time": "2023-01-31T11:07:28.080Z"
   },
   {
    "duration": 105,
    "start_time": "2023-01-31T11:07:31.649Z"
   },
   {
    "duration": 9,
    "start_time": "2023-01-31T11:07:35.692Z"
   },
   {
    "duration": 30,
    "start_time": "2023-01-31T11:09:25.124Z"
   },
   {
    "duration": 33,
    "start_time": "2023-01-31T11:10:01.735Z"
   },
   {
    "duration": 5,
    "start_time": "2023-01-31T11:10:23.191Z"
   },
   {
    "duration": 4,
    "start_time": "2023-01-31T11:10:23.967Z"
   },
   {
    "duration": 17,
    "start_time": "2023-01-31T11:10:35.868Z"
   },
   {
    "duration": 7,
    "start_time": "2023-01-31T11:10:37.457Z"
   },
   {
    "duration": 1712,
    "start_time": "2023-02-01T05:47:33.855Z"
   },
   {
    "duration": 141,
    "start_time": "2023-02-01T05:47:39.003Z"
   },
   {
    "duration": 15,
    "start_time": "2023-02-01T05:47:39.518Z"
   },
   {
    "duration": 12,
    "start_time": "2023-02-01T05:47:42.156Z"
   },
   {
    "duration": 4,
    "start_time": "2023-02-01T05:47:43.116Z"
   },
   {
    "duration": 46,
    "start_time": "2023-02-01T05:48:43.257Z"
   },
   {
    "duration": 268,
    "start_time": "2023-02-01T05:48:49.843Z"
   },
   {
    "duration": 8,
    "start_time": "2023-02-01T05:49:41.159Z"
   },
   {
    "duration": 162,
    "start_time": "2023-02-01T05:49:57.530Z"
   },
   {
    "duration": 4,
    "start_time": "2023-02-01T05:50:33.541Z"
   },
   {
    "duration": 50,
    "start_time": "2023-02-01T05:50:54.983Z"
   },
   {
    "duration": 8,
    "start_time": "2023-02-01T05:52:06.813Z"
   },
   {
    "duration": 50,
    "start_time": "2023-02-01T05:55:12.611Z"
   },
   {
    "duration": 1016,
    "start_time": "2023-02-01T05:55:32.451Z"
   },
   {
    "duration": 854,
    "start_time": "2023-02-01T05:55:53.189Z"
   },
   {
    "duration": 845,
    "start_time": "2023-02-01T05:56:11.696Z"
   },
   {
    "duration": 958,
    "start_time": "2023-02-01T05:57:20.992Z"
   },
   {
    "duration": 6,
    "start_time": "2023-02-01T06:02:41.214Z"
   },
   {
    "duration": 875,
    "start_time": "2023-02-01T06:02:58.178Z"
   },
   {
    "duration": 936,
    "start_time": "2023-02-01T06:04:28.420Z"
   },
   {
    "duration": 999,
    "start_time": "2023-02-01T06:04:42.211Z"
   },
   {
    "duration": 7,
    "start_time": "2023-02-01T06:04:57.574Z"
   },
   {
    "duration": 947,
    "start_time": "2023-02-01T06:05:00.311Z"
   },
   {
    "duration": 814,
    "start_time": "2023-02-01T06:05:04.951Z"
   },
   {
    "duration": 907,
    "start_time": "2023-02-01T06:09:43.955Z"
   },
   {
    "duration": 670,
    "start_time": "2023-02-01T06:10:34.260Z"
   },
   {
    "duration": 592,
    "start_time": "2023-02-01T06:10:51.679Z"
   },
   {
    "duration": 807,
    "start_time": "2023-02-01T06:11:10.562Z"
   },
   {
    "duration": 7,
    "start_time": "2023-02-01T06:11:36.026Z"
   },
   {
    "duration": 1073,
    "start_time": "2023-02-01T06:11:36.682Z"
   },
   {
    "duration": 918,
    "start_time": "2023-02-01T06:11:38.643Z"
   },
   {
    "duration": 118,
    "start_time": "2023-02-01T06:11:39.564Z"
   },
   {
    "duration": 123,
    "start_time": "2023-02-01T06:15:40.621Z"
   },
   {
    "duration": 15,
    "start_time": "2023-02-01T06:15:48.322Z"
   },
   {
    "duration": 17,
    "start_time": "2023-02-01T06:15:54.449Z"
   },
   {
    "duration": 4,
    "start_time": "2023-02-01T06:16:19.598Z"
   },
   {
    "duration": 41,
    "start_time": "2023-02-01T06:16:20.808Z"
   },
   {
    "duration": 7,
    "start_time": "2023-02-01T06:16:21.207Z"
   },
   {
    "duration": 10,
    "start_time": "2023-02-01T06:16:21.935Z"
   },
   {
    "duration": 4,
    "start_time": "2023-02-01T06:16:22.306Z"
   },
   {
    "duration": 7,
    "start_time": "2023-02-01T06:16:23.228Z"
   },
   {
    "duration": 3,
    "start_time": "2023-02-01T06:16:23.537Z"
   },
   {
    "duration": 162,
    "start_time": "2023-02-01T06:16:24.194Z"
   },
   {
    "duration": 5,
    "start_time": "2023-02-01T06:16:25.790Z"
   },
   {
    "duration": 861,
    "start_time": "2023-02-01T06:16:26.584Z"
   },
   {
    "duration": 971,
    "start_time": "2023-02-01T06:16:28.424Z"
   },
   {
    "duration": 7,
    "start_time": "2023-02-01T06:16:48.432Z"
   },
   {
    "duration": 16,
    "start_time": "2023-02-01T06:16:52.150Z"
   },
   {
    "duration": 18,
    "start_time": "2023-02-01T06:16:59.081Z"
   },
   {
    "duration": 5,
    "start_time": "2023-02-01T06:17:07.091Z"
   },
   {
    "duration": 5,
    "start_time": "2023-02-01T06:17:30.295Z"
   },
   {
    "duration": 5,
    "start_time": "2023-02-01T06:17:43.478Z"
   },
   {
    "duration": 11,
    "start_time": "2023-02-01T06:17:48.991Z"
   },
   {
    "duration": 11,
    "start_time": "2023-02-01T06:18:16.931Z"
   },
   {
    "duration": 5,
    "start_time": "2023-02-01T06:18:33.984Z"
   },
   {
    "duration": 4,
    "start_time": "2023-02-01T06:22:03.784Z"
   },
   {
    "duration": 53,
    "start_time": "2023-02-01T06:22:18.325Z"
   },
   {
    "duration": 25,
    "start_time": "2023-02-01T06:22:33.356Z"
   },
   {
    "duration": 6,
    "start_time": "2023-02-01T06:23:08.942Z"
   },
   {
    "duration": 6,
    "start_time": "2023-02-01T06:23:41.142Z"
   },
   {
    "duration": 29,
    "start_time": "2023-02-01T06:23:53.612Z"
   },
   {
    "duration": 7,
    "start_time": "2023-02-01T06:24:40.330Z"
   },
   {
    "duration": 4,
    "start_time": "2023-02-01T06:24:44.420Z"
   },
   {
    "duration": 145,
    "start_time": "2023-02-01T06:25:34.483Z"
   },
   {
    "duration": 126,
    "start_time": "2023-02-01T06:26:01.807Z"
   },
   {
    "duration": 16,
    "start_time": "2023-02-01T06:26:18.033Z"
   },
   {
    "duration": 27,
    "start_time": "2023-02-01T06:29:33.836Z"
   },
   {
    "duration": 6,
    "start_time": "2023-02-01T06:29:35.553Z"
   },
   {
    "duration": 7,
    "start_time": "2023-02-01T06:29:38.353Z"
   },
   {
    "duration": 33,
    "start_time": "2023-02-01T06:29:39.044Z"
   },
   {
    "duration": 6,
    "start_time": "2023-02-01T06:29:41.195Z"
   },
   {
    "duration": 4,
    "start_time": "2023-02-01T06:29:42.688Z"
   },
   {
    "duration": 265,
    "start_time": "2023-02-01T06:29:44.277Z"
   },
   {
    "duration": 22,
    "start_time": "2023-02-01T06:30:02.816Z"
   },
   {
    "duration": 4,
    "start_time": "2023-02-01T06:30:08.304Z"
   },
   {
    "duration": 43,
    "start_time": "2023-02-01T06:30:09.177Z"
   },
   {
    "duration": 8,
    "start_time": "2023-02-01T06:30:09.443Z"
   },
   {
    "duration": 11,
    "start_time": "2023-02-01T06:30:09.725Z"
   },
   {
    "duration": 3,
    "start_time": "2023-02-01T06:30:10.037Z"
   },
   {
    "duration": 6,
    "start_time": "2023-02-01T06:30:10.859Z"
   },
   {
    "duration": 4,
    "start_time": "2023-02-01T06:30:11.285Z"
   },
   {
    "duration": 154,
    "start_time": "2023-02-01T06:30:11.949Z"
   },
   {
    "duration": 6,
    "start_time": "2023-02-01T06:30:13.563Z"
   },
   {
    "duration": 923,
    "start_time": "2023-02-01T06:30:14.092Z"
   },
   {
    "duration": 806,
    "start_time": "2023-02-01T06:30:15.743Z"
   },
   {
    "duration": 7,
    "start_time": "2023-02-01T06:30:16.938Z"
   },
   {
    "duration": 11,
    "start_time": "2023-02-01T06:30:18.177Z"
   },
   {
    "duration": 5,
    "start_time": "2023-02-01T06:30:18.987Z"
   },
   {
    "duration": 4,
    "start_time": "2023-02-01T06:32:24.759Z"
   },
   {
    "duration": 5,
    "start_time": "2023-02-01T06:32:35.765Z"
   },
   {
    "duration": 16,
    "start_time": "2023-02-01T06:33:16.956Z"
   },
   {
    "duration": 5,
    "start_time": "2023-02-01T06:33:23.092Z"
   },
   {
    "duration": 7,
    "start_time": "2023-02-01T06:33:24.748Z"
   },
   {
    "duration": 26,
    "start_time": "2023-02-01T06:33:25.878Z"
   },
   {
    "duration": 5,
    "start_time": "2023-02-01T06:33:29.976Z"
   },
   {
    "duration": 4,
    "start_time": "2023-02-01T06:33:32.310Z"
   },
   {
    "duration": 100,
    "start_time": "2023-02-01T06:33:37.434Z"
   },
   {
    "duration": 61,
    "start_time": "2023-02-01T06:33:38.985Z"
   },
   {
    "duration": 39,
    "start_time": "2023-02-01T06:34:01.142Z"
   },
   {
    "duration": 7,
    "start_time": "2023-02-01T06:34:02.127Z"
   },
   {
    "duration": 9,
    "start_time": "2023-02-01T06:34:03.109Z"
   },
   {
    "duration": 33,
    "start_time": "2023-02-01T06:34:03.703Z"
   },
   {
    "duration": 6,
    "start_time": "2023-02-01T06:34:05.216Z"
   },
   {
    "duration": 4,
    "start_time": "2023-02-01T06:34:05.580Z"
   },
   {
    "duration": 30,
    "start_time": "2023-02-01T06:34:07.508Z"
   },
   {
    "duration": 17,
    "start_time": "2023-02-01T06:35:20.544Z"
   },
   {
    "duration": 11,
    "start_time": "2023-02-01T06:35:22.056Z"
   },
   {
    "duration": 108514,
    "start_time": "2023-02-01T06:36:08.316Z"
   },
   {
    "duration": 12,
    "start_time": "2023-02-01T06:40:02.034Z"
   },
   {
    "duration": 12,
    "start_time": "2023-02-01T06:40:31.152Z"
   },
   {
    "duration": 6,
    "start_time": "2023-02-01T06:40:36.963Z"
   },
   {
    "duration": 8,
    "start_time": "2023-02-01T06:41:09.982Z"
   },
   {
    "duration": 13,
    "start_time": "2023-02-01T06:42:47.146Z"
   },
   {
    "duration": 13,
    "start_time": "2023-02-01T06:43:58.778Z"
   },
   {
    "duration": 16,
    "start_time": "2023-02-01T06:44:23.119Z"
   },
   {
    "duration": 154,
    "start_time": "2023-02-01T06:44:51.285Z"
   },
   {
    "duration": 294,
    "start_time": "2023-02-01T06:44:57.634Z"
   },
   {
    "duration": 322,
    "start_time": "2023-02-01T06:45:18.376Z"
   },
   {
    "duration": 28,
    "start_time": "2023-02-01T06:45:59.813Z"
   },
   {
    "duration": 7,
    "start_time": "2023-02-01T06:46:00.754Z"
   },
   {
    "duration": 6,
    "start_time": "2023-02-01T06:46:01.517Z"
   },
   {
    "duration": 26,
    "start_time": "2023-02-01T06:46:01.882Z"
   },
   {
    "duration": 5,
    "start_time": "2023-02-01T06:46:02.830Z"
   },
   {
    "duration": 4,
    "start_time": "2023-02-01T06:46:03.353Z"
   },
   {
    "duration": 221,
    "start_time": "2023-02-01T06:46:04.307Z"
   },
   {
    "duration": 15,
    "start_time": "2023-02-01T06:46:07.009Z"
   },
   {
    "duration": 6,
    "start_time": "2023-02-01T06:46:08.590Z"
   },
   {
    "duration": 11,
    "start_time": "2023-02-01T06:46:09.268Z"
   },
   {
    "duration": 363,
    "start_time": "2023-02-01T06:46:10.082Z"
   },
   {
    "duration": 11,
    "start_time": "2023-02-01T06:46:24.356Z"
   },
   {
    "duration": 313,
    "start_time": "2023-02-01T06:47:06.465Z"
   },
   {
    "duration": 243,
    "start_time": "2023-02-01T06:47:41.989Z"
   },
   {
    "duration": 101,
    "start_time": "2023-02-01T06:49:13.930Z"
   },
   {
    "duration": 11,
    "start_time": "2023-02-01T06:49:42.884Z"
   },
   {
    "duration": 4,
    "start_time": "2023-02-01T06:49:53.238Z"
   },
   {
    "duration": 10,
    "start_time": "2023-02-01T06:50:02.023Z"
   },
   {
    "duration": 9,
    "start_time": "2023-02-01T06:50:15.616Z"
   },
   {
    "duration": 290,
    "start_time": "2023-02-01T06:50:22.729Z"
   },
   {
    "duration": 7,
    "start_time": "2023-02-01T06:52:06.533Z"
   },
   {
    "duration": 6,
    "start_time": "2023-02-01T06:52:07.760Z"
   },
   {
    "duration": 6,
    "start_time": "2023-02-01T06:52:08.783Z"
   },
   {
    "duration": 9,
    "start_time": "2023-02-01T06:52:09.126Z"
   },
   {
    "duration": 6,
    "start_time": "2023-02-01T06:52:19.182Z"
   },
   {
    "duration": 4,
    "start_time": "2023-02-01T06:52:19.508Z"
   },
   {
    "duration": 13,
    "start_time": "2023-02-01T06:52:20.394Z"
   },
   {
    "duration": 7,
    "start_time": "2023-02-01T06:52:21.412Z"
   },
   {
    "duration": 8,
    "start_time": "2023-02-01T06:52:22.099Z"
   },
   {
    "duration": 4,
    "start_time": "2023-02-01T06:52:22.678Z"
   },
   {
    "duration": 9,
    "start_time": "2023-02-01T06:52:23.446Z"
   },
   {
    "duration": 9,
    "start_time": "2023-02-01T06:52:25.136Z"
   },
   {
    "duration": 302,
    "start_time": "2023-02-01T06:52:25.280Z"
   },
   {
    "duration": 10,
    "start_time": "2023-02-01T06:54:30.463Z"
   },
   {
    "duration": 8,
    "start_time": "2023-02-01T06:54:43.052Z"
   },
   {
    "duration": 4,
    "start_time": "2023-02-01T06:56:47.234Z"
   },
   {
    "duration": 938,
    "start_time": "2023-02-01T06:56:49.390Z"
   },
   {
    "duration": 0,
    "start_time": "2023-02-01T06:56:50.330Z"
   },
   {
    "duration": 5,
    "start_time": "2023-02-01T06:57:13.043Z"
   },
   {
    "duration": 12,
    "start_time": "2023-02-01T06:57:15.285Z"
   },
   {
    "duration": 15,
    "start_time": "2023-02-01T06:57:19.814Z"
   },
   {
    "duration": 5,
    "start_time": "2023-02-01T06:57:32.454Z"
   },
   {
    "duration": 6,
    "start_time": "2023-02-01T06:57:33.451Z"
   },
   {
    "duration": 10,
    "start_time": "2023-02-01T06:57:34.031Z"
   },
   {
    "duration": 6,
    "start_time": "2023-02-01T06:57:39.832Z"
   },
   {
    "duration": 6,
    "start_time": "2023-02-01T06:57:40.231Z"
   },
   {
    "duration": 58,
    "start_time": "2023-02-01T06:57:41.582Z"
   },
   {
    "duration": 7,
    "start_time": "2023-02-01T06:57:50.355Z"
   },
   {
    "duration": 6,
    "start_time": "2023-02-01T06:57:56.242Z"
   },
   {
    "duration": 4,
    "start_time": "2023-02-01T06:57:58.888Z"
   },
   {
    "duration": 8,
    "start_time": "2023-02-01T06:57:59.352Z"
   },
   {
    "duration": 10,
    "start_time": "2023-02-01T06:58:00.040Z"
   },
   {
    "duration": 310,
    "start_time": "2023-02-01T06:58:02.536Z"
   },
   {
    "duration": 6,
    "start_time": "2023-02-01T07:04:54.308Z"
   },
   {
    "duration": 64,
    "start_time": "2023-02-01T07:05:30.558Z"
   },
   {
    "duration": 73,
    "start_time": "2023-02-01T07:07:54.575Z"
   },
   {
    "duration": 117505,
    "start_time": "2023-02-01T07:08:03.029Z"
   },
   {
    "duration": 20,
    "start_time": "2023-02-01T07:11:19.231Z"
   },
   {
    "duration": 24,
    "start_time": "2023-02-01T07:11:19.817Z"
   },
   {
    "duration": 6,
    "start_time": "2023-02-01T07:11:25.892Z"
   },
   {
    "duration": 6,
    "start_time": "2023-02-01T07:11:26.692Z"
   },
   {
    "duration": 28,
    "start_time": "2023-02-01T07:11:27.302Z"
   },
   {
    "duration": 7,
    "start_time": "2023-02-01T07:11:30.481Z"
   },
   {
    "duration": 4,
    "start_time": "2023-02-01T07:11:31.180Z"
   },
   {
    "duration": 136,
    "start_time": "2023-02-01T07:11:32.793Z"
   },
   {
    "duration": 9,
    "start_time": "2023-02-01T07:11:34.584Z"
   },
   {
    "duration": 4,
    "start_time": "2023-02-01T07:12:23.960Z"
   },
   {
    "duration": 19,
    "start_time": "2023-02-01T07:12:25.410Z"
   },
   {
    "duration": 23,
    "start_time": "2023-02-01T07:12:26.153Z"
   },
   {
    "duration": 6,
    "start_time": "2023-02-01T07:12:37.839Z"
   },
   {
    "duration": 7,
    "start_time": "2023-02-01T07:12:45.485Z"
   },
   {
    "duration": 10,
    "start_time": "2023-02-01T07:12:45.998Z"
   },
   {
    "duration": 5,
    "start_time": "2023-02-01T07:12:59.016Z"
   },
   {
    "duration": 6,
    "start_time": "2023-02-01T07:12:59.633Z"
   },
   {
    "duration": 12,
    "start_time": "2023-02-01T07:13:02.923Z"
   },
   {
    "duration": 7,
    "start_time": "2023-02-01T07:13:06.243Z"
   },
   {
    "duration": 5,
    "start_time": "2023-02-01T07:13:06.637Z"
   },
   {
    "duration": 80,
    "start_time": "2023-02-01T07:13:07.557Z"
   },
   {
    "duration": 7,
    "start_time": "2023-02-01T07:13:11.500Z"
   },
   {
    "duration": 116300,
    "start_time": "2023-02-01T07:16:16.630Z"
   },
   {
    "duration": 16179,
    "start_time": "2023-02-01T07:19:35.850Z"
   },
   {
    "duration": 15,
    "start_time": "2023-02-01T07:21:14.153Z"
   },
   {
    "duration": 15,
    "start_time": "2023-02-01T07:21:40.699Z"
   },
   {
    "duration": 16444,
    "start_time": "2023-02-01T07:22:23.985Z"
   },
   {
    "duration": 15,
    "start_time": "2023-02-01T07:22:45.759Z"
   },
   {
    "duration": 4,
    "start_time": "2023-02-01T07:23:01.212Z"
   },
   {
    "duration": 10,
    "start_time": "2023-02-01T07:23:56.497Z"
   },
   {
    "duration": 9,
    "start_time": "2023-02-01T07:24:24.308Z"
   },
   {
    "duration": 21951,
    "start_time": "2023-02-01T07:25:30.280Z"
   },
   {
    "duration": 15,
    "start_time": "2023-02-01T07:25:55.183Z"
   },
   {
    "duration": 18,
    "start_time": "2023-02-01T07:27:56.308Z"
   },
   {
    "duration": 71,
    "start_time": "2023-02-01T07:28:41.649Z"
   },
   {
    "duration": 6,
    "start_time": "2023-02-01T07:30:54.357Z"
   },
   {
    "duration": 15509,
    "start_time": "2023-02-01T07:32:04.828Z"
   },
   {
    "duration": 5,
    "start_time": "2023-02-01T07:32:32.803Z"
   },
   {
    "duration": 15022,
    "start_time": "2023-02-01T07:32:35.607Z"
   },
   {
    "duration": 13,
    "start_time": "2023-02-01T07:33:01.431Z"
   },
   {
    "duration": 7,
    "start_time": "2023-02-01T07:33:27.885Z"
   },
   {
    "duration": 16192,
    "start_time": "2023-02-01T07:33:32.145Z"
   },
   {
    "duration": 18,
    "start_time": "2023-02-01T07:33:59.613Z"
   },
   {
    "duration": 64,
    "start_time": "2023-02-01T07:34:24.121Z"
   },
   {
    "duration": 6,
    "start_time": "2023-02-01T07:34:35.619Z"
   },
   {
    "duration": 14112,
    "start_time": "2023-02-01T07:34:39.124Z"
   },
   {
    "duration": 14,
    "start_time": "2023-02-01T07:34:58.685Z"
   },
   {
    "duration": 4,
    "start_time": "2023-02-01T07:35:18.445Z"
   },
   {
    "duration": 15206,
    "start_time": "2023-02-01T07:38:06.532Z"
   },
   {
    "duration": 6,
    "start_time": "2023-02-01T07:39:03.102Z"
   },
   {
    "duration": 16006,
    "start_time": "2023-02-01T07:39:07.223Z"
   },
   {
    "duration": 13,
    "start_time": "2023-02-01T07:41:57.121Z"
   },
   {
    "duration": 401,
    "start_time": "2023-02-01T07:42:06.327Z"
   },
   {
    "duration": 5,
    "start_time": "2023-02-01T07:42:23.925Z"
   },
   {
    "duration": 362,
    "start_time": "2023-02-01T07:42:50.169Z"
   },
   {
    "duration": 245,
    "start_time": "2023-02-01T07:43:11.285Z"
   },
   {
    "duration": 201,
    "start_time": "2023-02-01T07:43:19.028Z"
   },
   {
    "duration": 5,
    "start_time": "2023-02-01T07:43:44.789Z"
   },
   {
    "duration": 32238,
    "start_time": "2023-02-01T07:44:32.590Z"
   },
   {
    "duration": 234,
    "start_time": "2023-02-01T07:45:22.998Z"
   },
   {
    "duration": 383,
    "start_time": "2023-02-01T07:47:36.251Z"
   },
   {
    "duration": 5,
    "start_time": "2023-02-01T07:47:42.283Z"
   },
   {
    "duration": 10,
    "start_time": "2023-02-01T07:47:42.825Z"
   },
   {
    "duration": 4,
    "start_time": "2023-02-01T07:47:54.857Z"
   },
   {
    "duration": 9,
    "start_time": "2023-02-01T07:47:55.450Z"
   },
   {
    "duration": 9,
    "start_time": "2023-02-01T07:47:56.742Z"
   },
   {
    "duration": 310,
    "start_time": "2023-02-01T07:47:59.926Z"
   },
   {
    "duration": 5,
    "start_time": "2023-02-01T07:53:43.944Z"
   },
   {
    "duration": 30045,
    "start_time": "2023-02-01T07:53:44.789Z"
   },
   {
    "duration": 5,
    "start_time": "2023-02-01T07:54:35.014Z"
   },
   {
    "duration": 28811,
    "start_time": "2023-02-01T07:54:39.222Z"
   },
   {
    "duration": 47,
    "start_time": "2023-02-01T07:58:22.621Z"
   },
   {
    "duration": 75,
    "start_time": "2023-02-01T07:58:42.568Z"
   },
   {
    "duration": 40,
    "start_time": "2023-02-01T07:59:54.856Z"
   },
   {
    "duration": 90,
    "start_time": "2023-02-01T08:00:14.746Z"
   },
   {
    "duration": 7,
    "start_time": "2023-02-01T08:01:15.449Z"
   },
   {
    "duration": 45,
    "start_time": "2023-02-01T08:02:14.163Z"
   },
   {
    "duration": 44,
    "start_time": "2023-02-01T08:02:24.750Z"
   },
   {
    "duration": 15,
    "start_time": "2023-02-01T08:02:34.850Z"
   },
   {
    "duration": 8,
    "start_time": "2023-02-01T08:03:40.127Z"
   },
   {
    "duration": 9,
    "start_time": "2023-02-01T08:03:44.489Z"
   },
   {
    "duration": 141,
    "start_time": "2023-02-01T08:03:59.794Z"
   },
   {
    "duration": 4,
    "start_time": "2023-02-01T08:04:56.754Z"
   },
   {
    "duration": 8,
    "start_time": "2023-02-01T08:04:57.230Z"
   },
   {
    "duration": 7,
    "start_time": "2023-02-01T08:04:57.958Z"
   },
   {
    "duration": 319,
    "start_time": "2023-02-01T08:04:58.531Z"
   },
   {
    "duration": 12,
    "start_time": "2023-02-01T08:06:05.748Z"
   },
   {
    "duration": 402,
    "start_time": "2023-02-01T08:06:23.281Z"
   },
   {
    "duration": 300,
    "start_time": "2023-02-01T08:06:54.980Z"
   },
   {
    "duration": 330,
    "start_time": "2023-02-01T08:08:05.561Z"
   },
   {
    "duration": 347,
    "start_time": "2023-02-01T08:08:20.317Z"
   },
   {
    "duration": 154,
    "start_time": "2023-02-01T08:09:11.731Z"
   },
   {
    "duration": 45,
    "start_time": "2023-02-01T08:09:19.925Z"
   },
   {
    "duration": 407,
    "start_time": "2023-02-01T08:09:29.234Z"
   },
   {
    "duration": 356,
    "start_time": "2023-02-01T08:11:30.617Z"
   },
   {
    "duration": 231,
    "start_time": "2023-02-01T08:12:57.520Z"
   },
   {
    "duration": 229,
    "start_time": "2023-02-01T08:13:09.998Z"
   },
   {
    "duration": 203,
    "start_time": "2023-02-01T08:13:27.273Z"
   },
   {
    "duration": 235,
    "start_time": "2023-02-01T08:14:20.906Z"
   },
   {
    "duration": 14,
    "start_time": "2023-02-01T08:16:23.543Z"
   },
   {
    "duration": 251,
    "start_time": "2023-02-01T08:16:33.000Z"
   },
   {
    "duration": 308,
    "start_time": "2023-02-01T08:16:50.280Z"
   },
   {
    "duration": 344,
    "start_time": "2023-02-01T08:17:31.076Z"
   },
   {
    "duration": 244,
    "start_time": "2023-02-01T08:18:35.327Z"
   },
   {
    "duration": 262,
    "start_time": "2023-02-01T08:18:42.989Z"
   },
   {
    "duration": 239,
    "start_time": "2023-02-01T08:18:48.622Z"
   },
   {
    "duration": 7,
    "start_time": "2023-02-01T08:20:11.539Z"
   },
   {
    "duration": 8,
    "start_time": "2023-02-01T08:20:12.180Z"
   },
   {
    "duration": 218,
    "start_time": "2023-02-01T08:25:09.591Z"
   },
   {
    "duration": 236,
    "start_time": "2023-02-01T08:25:35.223Z"
   },
   {
    "duration": 248,
    "start_time": "2023-02-01T08:25:59.775Z"
   },
   {
    "duration": 4,
    "start_time": "2023-02-01T08:35:22.546Z"
   },
   {
    "duration": 43,
    "start_time": "2023-02-01T08:35:23.768Z"
   },
   {
    "duration": 6,
    "start_time": "2023-02-01T08:35:24.334Z"
   },
   {
    "duration": 12,
    "start_time": "2023-02-01T08:35:24.717Z"
   },
   {
    "duration": 4,
    "start_time": "2023-02-01T08:35:24.969Z"
   },
   {
    "duration": 7,
    "start_time": "2023-02-01T08:35:25.793Z"
   },
   {
    "duration": 4,
    "start_time": "2023-02-01T08:35:26.135Z"
   },
   {
    "duration": 163,
    "start_time": "2023-02-01T08:35:26.689Z"
   },
   {
    "duration": 5,
    "start_time": "2023-02-01T08:35:27.821Z"
   },
   {
    "duration": 953,
    "start_time": "2023-02-01T08:35:28.119Z"
   },
   {
    "duration": 807,
    "start_time": "2023-02-01T08:35:29.073Z"
   },
   {
    "duration": 7,
    "start_time": "2023-02-01T08:35:29.882Z"
   },
   {
    "duration": 12,
    "start_time": "2023-02-01T08:35:30.647Z"
   },
   {
    "duration": 5,
    "start_time": "2023-02-01T08:35:30.854Z"
   },
   {
    "duration": 4,
    "start_time": "2023-02-01T08:35:31.220Z"
   },
   {
    "duration": 7,
    "start_time": "2023-02-01T08:35:31.582Z"
   },
   {
    "duration": 10,
    "start_time": "2023-02-01T08:35:31.748Z"
   },
   {
    "duration": 5,
    "start_time": "2023-02-01T08:35:32.118Z"
   },
   {
    "duration": 6,
    "start_time": "2023-02-01T08:35:32.482Z"
   },
   {
    "duration": 10,
    "start_time": "2023-02-01T08:35:32.656Z"
   },
   {
    "duration": 5,
    "start_time": "2023-02-01T08:35:33.018Z"
   },
   {
    "duration": 4,
    "start_time": "2023-02-01T08:35:33.219Z"
   },
   {
    "duration": 49,
    "start_time": "2023-02-01T08:35:33.580Z"
   },
   {
    "duration": 7,
    "start_time": "2023-02-01T08:35:33.960Z"
   },
   {
    "duration": 6,
    "start_time": "2023-02-01T08:35:34.534Z"
   },
   {
    "duration": 28411,
    "start_time": "2023-02-01T08:35:34.725Z"
   },
   {
    "duration": 78,
    "start_time": "2023-02-01T08:36:03.228Z"
   },
   {
    "duration": 123,
    "start_time": "2023-02-01T08:36:03.307Z"
   },
   {
    "duration": 98,
    "start_time": "2023-02-01T08:36:03.432Z"
   },
   {
    "duration": 5,
    "start_time": "2023-02-01T08:36:03.532Z"
   },
   {
    "duration": 89,
    "start_time": "2023-02-01T08:36:03.539Z"
   },
   {
    "duration": 9,
    "start_time": "2023-02-01T08:36:03.630Z"
   },
   {
    "duration": 296,
    "start_time": "2023-02-01T08:36:03.641Z"
   },
   {
    "duration": 238,
    "start_time": "2023-02-01T08:38:38.586Z"
   },
   {
    "duration": 3,
    "start_time": "2023-02-01T08:38:48.199Z"
   },
   {
    "duration": 40,
    "start_time": "2023-02-01T08:38:48.642Z"
   },
   {
    "duration": 7,
    "start_time": "2023-02-01T08:38:48.834Z"
   },
   {
    "duration": 11,
    "start_time": "2023-02-01T08:38:49.037Z"
   },
   {
    "duration": 5,
    "start_time": "2023-02-01T08:38:49.299Z"
   },
   {
    "duration": 7,
    "start_time": "2023-02-01T08:38:49.697Z"
   },
   {
    "duration": 4,
    "start_time": "2023-02-01T08:38:49.902Z"
   },
   {
    "duration": 196,
    "start_time": "2023-02-01T08:38:50.312Z"
   },
   {
    "duration": 5,
    "start_time": "2023-02-01T08:38:51.552Z"
   },
   {
    "duration": 846,
    "start_time": "2023-02-01T08:38:51.820Z"
   },
   {
    "duration": 894,
    "start_time": "2023-02-01T08:38:52.668Z"
   },
   {
    "duration": 6,
    "start_time": "2023-02-01T08:38:53.564Z"
   },
   {
    "duration": 14,
    "start_time": "2023-02-01T08:38:53.572Z"
   },
   {
    "duration": 14,
    "start_time": "2023-02-01T08:38:53.587Z"
   },
   {
    "duration": 4,
    "start_time": "2023-02-01T08:38:54.921Z"
   },
   {
    "duration": 8,
    "start_time": "2023-02-01T08:38:55.417Z"
   },
   {
    "duration": 13,
    "start_time": "2023-02-01T08:38:55.673Z"
   },
   {
    "duration": 4,
    "start_time": "2023-02-01T08:38:56.188Z"
   },
   {
    "duration": 7,
    "start_time": "2023-02-01T08:38:56.719Z"
   },
   {
    "duration": 10,
    "start_time": "2023-02-01T08:38:56.966Z"
   },
   {
    "duration": 5,
    "start_time": "2023-02-01T08:38:57.464Z"
   },
   {
    "duration": 3,
    "start_time": "2023-02-01T08:38:57.795Z"
   },
   {
    "duration": 18,
    "start_time": "2023-02-01T08:38:58.325Z"
   },
   {
    "duration": 7,
    "start_time": "2023-02-01T08:38:58.890Z"
   },
   {
    "duration": 6,
    "start_time": "2023-02-01T08:38:59.718Z"
   },
   {
    "duration": 29995,
    "start_time": "2023-02-01T08:39:00.038Z"
   },
   {
    "duration": 264,
    "start_time": "2023-02-01T08:39:30.035Z"
   },
   {
    "duration": 129,
    "start_time": "2023-02-01T08:39:30.301Z"
   },
   {
    "duration": 196,
    "start_time": "2023-02-01T08:39:30.432Z"
   },
   {
    "duration": 113,
    "start_time": "2023-02-01T08:39:30.630Z"
   },
   {
    "duration": 41,
    "start_time": "2023-02-01T08:39:30.745Z"
   },
   {
    "duration": 29,
    "start_time": "2023-02-01T08:39:30.787Z"
   },
   {
    "duration": 260,
    "start_time": "2023-02-01T08:39:30.818Z"
   },
   {
    "duration": 16,
    "start_time": "2023-02-01T08:40:30.251Z"
   },
   {
    "duration": 4,
    "start_time": "2023-02-01T08:40:51.357Z"
   },
   {
    "duration": 41,
    "start_time": "2023-02-01T08:40:51.709Z"
   },
   {
    "duration": 7,
    "start_time": "2023-02-01T08:40:52.092Z"
   },
   {
    "duration": 28,
    "start_time": "2023-02-01T08:40:52.101Z"
   },
   {
    "duration": 4,
    "start_time": "2023-02-01T08:40:52.228Z"
   },
   {
    "duration": 8,
    "start_time": "2023-02-01T08:40:52.569Z"
   },
   {
    "duration": 4,
    "start_time": "2023-02-01T08:40:52.761Z"
   },
   {
    "duration": 161,
    "start_time": "2023-02-01T08:40:53.319Z"
   },
   {
    "duration": 6,
    "start_time": "2023-02-01T08:40:53.881Z"
   },
   {
    "duration": 918,
    "start_time": "2023-02-01T08:40:54.086Z"
   },
   {
    "duration": 928,
    "start_time": "2023-02-01T08:40:55.006Z"
   },
   {
    "duration": 8,
    "start_time": "2023-02-01T08:40:55.937Z"
   },
   {
    "duration": 16,
    "start_time": "2023-02-01T08:40:55.947Z"
   },
   {
    "duration": 9,
    "start_time": "2023-02-01T08:41:39.428Z"
   },
   {
    "duration": 5,
    "start_time": "2023-02-01T08:41:43.989Z"
   },
   {
    "duration": 10,
    "start_time": "2023-02-01T08:42:02.917Z"
   },
   {
    "duration": 5,
    "start_time": "2023-02-01T08:42:04.012Z"
   },
   {
    "duration": 11,
    "start_time": "2023-02-01T08:42:35.896Z"
   },
   {
    "duration": 6,
    "start_time": "2023-02-01T08:42:53.391Z"
   },
   {
    "duration": 4,
    "start_time": "2023-02-01T08:43:21.160Z"
   },
   {
    "duration": 7,
    "start_time": "2023-02-01T08:43:21.941Z"
   },
   {
    "duration": 9,
    "start_time": "2023-02-01T08:43:22.270Z"
   },
   {
    "duration": 5,
    "start_time": "2023-02-01T08:43:23.074Z"
   },
   {
    "duration": 6,
    "start_time": "2023-02-01T08:43:23.450Z"
   },
   {
    "duration": 9,
    "start_time": "2023-02-01T08:43:23.639Z"
   },
   {
    "duration": 6,
    "start_time": "2023-02-01T08:43:24.002Z"
   },
   {
    "duration": 4,
    "start_time": "2023-02-01T08:43:24.189Z"
   },
   {
    "duration": 16,
    "start_time": "2023-02-01T08:43:24.534Z"
   },
   {
    "duration": 6,
    "start_time": "2023-02-01T08:43:24.916Z"
   },
   {
    "duration": 5,
    "start_time": "2023-02-01T08:43:25.473Z"
   },
   {
    "duration": 27906,
    "start_time": "2023-02-01T08:43:25.724Z"
   },
   {
    "duration": 161,
    "start_time": "2023-02-01T08:43:53.632Z"
   },
   {
    "duration": 238,
    "start_time": "2023-02-01T08:43:53.795Z"
   },
   {
    "duration": 99,
    "start_time": "2023-02-01T08:43:54.035Z"
   },
   {
    "duration": 94,
    "start_time": "2023-02-01T08:43:54.135Z"
   },
   {
    "duration": 97,
    "start_time": "2023-02-01T08:43:54.231Z"
   },
   {
    "duration": 8,
    "start_time": "2023-02-01T08:43:54.329Z"
   },
   {
    "duration": 259,
    "start_time": "2023-02-01T08:43:54.339Z"
   },
   {
    "duration": 4,
    "start_time": "2023-02-01T08:44:29.754Z"
   },
   {
    "duration": 10,
    "start_time": "2023-02-01T08:44:30.321Z"
   },
   {
    "duration": 8,
    "start_time": "2023-02-01T08:44:31.025Z"
   },
   {
    "duration": 271,
    "start_time": "2023-02-01T08:45:13.393Z"
   },
   {
    "duration": 2370,
    "start_time": "2023-02-01T09:07:28.110Z"
   },
   {
    "duration": 48,
    "start_time": "2023-02-01T09:07:30.482Z"
   },
   {
    "duration": 10,
    "start_time": "2023-02-01T09:07:30.532Z"
   },
   {
    "duration": 45,
    "start_time": "2023-02-01T09:07:30.544Z"
   },
   {
    "duration": 38,
    "start_time": "2023-02-01T09:07:30.591Z"
   },
   {
    "duration": 40,
    "start_time": "2023-02-01T09:07:30.631Z"
   },
   {
    "duration": 26,
    "start_time": "2023-02-01T09:07:30.673Z"
   },
   {
    "duration": 286,
    "start_time": "2023-02-01T09:07:30.701Z"
   },
   {
    "duration": 5,
    "start_time": "2023-02-01T09:07:30.990Z"
   },
   {
    "duration": 1026,
    "start_time": "2023-02-01T09:07:30.998Z"
   },
   {
    "duration": 847,
    "start_time": "2023-02-01T09:07:32.025Z"
   },
   {
    "duration": 8,
    "start_time": "2023-02-01T09:07:32.873Z"
   },
   {
    "duration": 18,
    "start_time": "2023-02-01T09:07:32.882Z"
   },
   {
    "duration": 32,
    "start_time": "2023-02-01T09:07:32.902Z"
   },
   {
    "duration": 42,
    "start_time": "2023-02-01T09:07:32.935Z"
   },
   {
    "duration": 30,
    "start_time": "2023-02-01T09:07:32.979Z"
   },
   {
    "duration": 277,
    "start_time": "2023-02-01T09:07:33.011Z"
   },
   {
    "duration": 52,
    "start_time": "2023-02-01T09:38:05.488Z"
   },
   {
    "duration": 47,
    "start_time": "2023-02-01T09:39:13.437Z"
   },
   {
    "duration": 11,
    "start_time": "2023-02-01T09:39:30.272Z"
   },
   {
    "duration": 3,
    "start_time": "2023-02-01T09:40:47.622Z"
   },
   {
    "duration": 45,
    "start_time": "2023-02-01T09:40:48.011Z"
   },
   {
    "duration": 7,
    "start_time": "2023-02-01T09:40:48.485Z"
   },
   {
    "duration": 10,
    "start_time": "2023-02-01T09:40:48.685Z"
   },
   {
    "duration": 4,
    "start_time": "2023-02-01T09:40:48.932Z"
   },
   {
    "duration": 7,
    "start_time": "2023-02-01T09:40:49.517Z"
   },
   {
    "duration": 4,
    "start_time": "2023-02-01T09:40:50.201Z"
   },
   {
    "duration": 206,
    "start_time": "2023-02-01T09:40:50.617Z"
   },
   {
    "duration": 9,
    "start_time": "2023-02-01T09:40:56.441Z"
   },
   {
    "duration": 988,
    "start_time": "2023-02-01T09:40:56.870Z"
   },
   {
    "duration": 844,
    "start_time": "2023-02-01T09:40:57.860Z"
   },
   {
    "duration": 7,
    "start_time": "2023-02-01T09:40:59.397Z"
   },
   {
    "duration": 16,
    "start_time": "2023-02-01T09:41:01.920Z"
   },
   {
    "duration": 5,
    "start_time": "2023-02-01T09:41:17.183Z"
   },
   {
    "duration": 52,
    "start_time": "2023-02-01T09:42:27.143Z"
   },
   {
    "duration": 392,
    "start_time": "2023-02-01T09:42:36.711Z"
   },
   {
    "duration": 11,
    "start_time": "2023-02-01T09:42:58.649Z"
   },
   {
    "duration": 246,
    "start_time": "2023-02-01T09:42:59.670Z"
   },
   {
    "duration": 15,
    "start_time": "2023-02-01T09:43:00.289Z"
   },
   {
    "duration": 14,
    "start_time": "2023-02-01T09:44:05.507Z"
   },
   {
    "duration": 19,
    "start_time": "2023-02-01T09:44:13.292Z"
   },
   {
    "duration": 253,
    "start_time": "2023-02-01T09:44:17.737Z"
   },
   {
    "duration": 7,
    "start_time": "2023-02-01T09:44:24.931Z"
   },
   {
    "duration": 7,
    "start_time": "2023-02-01T09:44:28.003Z"
   },
   {
    "duration": 29,
    "start_time": "2023-02-01T09:44:28.845Z"
   },
   {
    "duration": 23,
    "start_time": "2023-02-01T09:44:37.980Z"
   },
   {
    "duration": 6,
    "start_time": "2023-02-01T09:44:46.790Z"
   },
   {
    "duration": 3,
    "start_time": "2023-02-01T09:44:47.416Z"
   },
   {
    "duration": 5,
    "start_time": "2023-02-01T09:45:22.521Z"
   },
   {
    "duration": 4,
    "start_time": "2023-02-01T09:45:24.179Z"
   },
   {
    "duration": 166,
    "start_time": "2023-02-01T09:45:31.761Z"
   },
   {
    "duration": 49,
    "start_time": "2023-02-01T09:51:32.167Z"
   },
   {
    "duration": 15,
    "start_time": "2023-02-01T09:51:47.281Z"
   },
   {
    "duration": 8,
    "start_time": "2023-02-01T09:52:18.939Z"
   },
   {
    "duration": 931,
    "start_time": "2023-02-01T09:52:27.608Z"
   },
   {
    "duration": 4,
    "start_time": "2023-02-01T09:52:29.971Z"
   },
   {
    "duration": 9,
    "start_time": "2023-02-01T09:54:45.634Z"
   },
   {
    "duration": 91384,
    "start_time": "2023-02-01T09:57:32.558Z"
   },
   {
    "duration": 12,
    "start_time": "2023-02-01T09:59:30.022Z"
   },
   {
    "duration": 6,
    "start_time": "2023-02-01T09:59:31.703Z"
   },
   {
    "duration": 35,
    "start_time": "2023-02-01T09:59:32.813Z"
   },
   {
    "duration": 10,
    "start_time": "2023-02-01T10:00:32.412Z"
   },
   {
    "duration": 5,
    "start_time": "2023-02-01T10:00:33.014Z"
   },
   {
    "duration": 4,
    "start_time": "2023-02-01T10:01:02.400Z"
   },
   {
    "duration": 943,
    "start_time": "2023-02-01T10:01:34.115Z"
   },
   {
    "duration": 81,
    "start_time": "2023-02-01T10:01:35.149Z"
   },
   {
    "duration": 10,
    "start_time": "2023-02-01T10:01:57.825Z"
   },
   {
    "duration": 12699,
    "start_time": "2023-02-01T10:01:58.469Z"
   },
   {
    "duration": 6,
    "start_time": "2023-02-01T10:02:35.467Z"
   },
   {
    "duration": 83155,
    "start_time": "2023-02-01T10:02:36.473Z"
   },
   {
    "duration": 5,
    "start_time": "2023-02-01T10:04:03.193Z"
   },
   {
    "duration": 7,
    "start_time": "2023-02-01T10:04:04.769Z"
   },
   {
    "duration": 34,
    "start_time": "2023-02-01T10:04:05.442Z"
   },
   {
    "duration": 9,
    "start_time": "2023-02-01T10:04:07.069Z"
   },
   {
    "duration": 5,
    "start_time": "2023-02-01T10:04:07.921Z"
   },
   {
    "duration": 1212,
    "start_time": "2023-02-01T10:05:03.335Z"
   },
   {
    "duration": 7,
    "start_time": "2023-02-01T10:05:04.933Z"
   },
   {
    "duration": 6,
    "start_time": "2023-02-01T10:06:52.726Z"
   },
   {
    "duration": 6,
    "start_time": "2023-02-01T10:06:54.385Z"
   },
   {
    "duration": 36,
    "start_time": "2023-02-01T10:06:55.425Z"
   },
   {
    "duration": 5,
    "start_time": "2023-02-01T10:06:57.967Z"
   },
   {
    "duration": 4,
    "start_time": "2023-02-01T10:06:58.625Z"
   },
   {
    "duration": 853,
    "start_time": "2023-02-01T10:07:05.385Z"
   },
   {
    "duration": 4,
    "start_time": "2023-02-01T10:07:06.510Z"
   },
   {
    "duration": 5,
    "start_time": "2023-02-01T10:07:18.106Z"
   },
   {
    "duration": 293293,
    "start_time": "2023-02-01T10:07:21.944Z"
   },
   {
    "duration": 80,
    "start_time": "2023-02-01T10:13:03.166Z"
   },
   {
    "duration": 177,
    "start_time": "2023-02-01T10:13:04.755Z"
   },
   {
    "duration": 9,
    "start_time": "2023-02-01T10:13:10.693Z"
   },
   {
    "duration": 40,
    "start_time": "2023-02-01T10:15:54.755Z"
   },
   {
    "duration": 45,
    "start_time": "2023-02-01T10:16:37.418Z"
   },
   {
    "duration": 13,
    "start_time": "2023-02-01T10:23:20.661Z"
   },
   {
    "duration": 5,
    "start_time": "2023-02-01T10:23:22.067Z"
   },
   {
    "duration": 8,
    "start_time": "2023-02-01T10:23:22.725Z"
   },
   {
    "duration": 8,
    "start_time": "2023-02-01T10:23:23.399Z"
   },
   {
    "duration": 247,
    "start_time": "2023-02-01T10:23:23.839Z"
   },
   {
    "duration": 12,
    "start_time": "2023-02-01T10:24:41.120Z"
   },
   {
    "duration": 4,
    "start_time": "2023-02-01T10:25:11.640Z"
   },
   {
    "duration": 13088,
    "start_time": "2023-02-01T10:25:17.854Z"
   },
   {
    "duration": 13155,
    "start_time": "2023-02-01T10:25:55.074Z"
   },
   {
    "duration": 17393,
    "start_time": "2023-02-01T10:26:44.138Z"
   },
   {
    "duration": 20997,
    "start_time": "2023-02-01T10:27:14.034Z"
   },
   {
    "duration": 9168,
    "start_time": "2023-02-01T10:27:57.862Z"
   },
   {
    "duration": 129385,
    "start_time": "2023-02-01T10:29:34.651Z"
   },
   {
    "duration": 0,
    "start_time": "2023-02-01T10:31:44.038Z"
   },
   {
    "duration": 15433,
    "start_time": "2023-02-01T10:31:46.297Z"
   },
   {
    "duration": 4,
    "start_time": "2023-02-01T11:35:37.871Z"
   },
   {
    "duration": 40,
    "start_time": "2023-02-01T11:35:38.683Z"
   },
   {
    "duration": 7,
    "start_time": "2023-02-01T11:35:39.138Z"
   },
   {
    "duration": 10,
    "start_time": "2023-02-01T11:35:39.361Z"
   },
   {
    "duration": 4,
    "start_time": "2023-02-01T11:35:39.602Z"
   },
   {
    "duration": 7,
    "start_time": "2023-02-01T11:35:40.103Z"
   },
   {
    "duration": 4,
    "start_time": "2023-02-01T11:35:40.504Z"
   },
   {
    "duration": 164,
    "start_time": "2023-02-01T11:35:40.902Z"
   },
   {
    "duration": 5,
    "start_time": "2023-02-01T11:35:43.834Z"
   },
   {
    "duration": 857,
    "start_time": "2023-02-01T11:35:44.103Z"
   },
   {
    "duration": 882,
    "start_time": "2023-02-01T11:35:44.962Z"
   },
   {
    "duration": 8,
    "start_time": "2023-02-01T11:35:45.846Z"
   },
   {
    "duration": 11,
    "start_time": "2023-02-01T11:35:53.521Z"
   },
   {
    "duration": 4,
    "start_time": "2023-02-01T11:36:00.844Z"
   },
   {
    "duration": 14,
    "start_time": "2023-02-01T11:36:01.755Z"
   },
   {
    "duration": 19,
    "start_time": "2023-02-01T11:36:19.465Z"
   },
   {
    "duration": 252,
    "start_time": "2023-02-01T11:36:24.720Z"
   },
   {
    "duration": 6,
    "start_time": "2023-02-01T11:36:28.096Z"
   },
   {
    "duration": 6,
    "start_time": "2023-02-01T11:36:31.908Z"
   },
   {
    "duration": 21,
    "start_time": "2023-02-01T11:36:32.407Z"
   },
   {
    "duration": 5,
    "start_time": "2023-02-01T11:36:35.526Z"
   },
   {
    "duration": 4,
    "start_time": "2023-02-01T11:36:37.505Z"
   },
   {
    "duration": 234,
    "start_time": "2023-02-01T11:36:42.299Z"
   },
   {
    "duration": 4,
    "start_time": "2023-02-01T11:36:43.114Z"
   },
   {
    "duration": 6,
    "start_time": "2023-02-01T11:37:21.399Z"
   },
   {
    "duration": 141577,
    "start_time": "2023-02-01T11:37:26.150Z"
   },
   {
    "duration": 76,
    "start_time": "2023-02-01T11:40:14.042Z"
   },
   {
    "duration": 122,
    "start_time": "2023-02-01T11:40:16.706Z"
   },
   {
    "duration": 7,
    "start_time": "2023-02-01T11:40:45.810Z"
   },
   {
    "duration": 7,
    "start_time": "2023-02-01T11:41:32.148Z"
   },
   {
    "duration": 4,
    "start_time": "2023-02-01T11:41:33.346Z"
   },
   {
    "duration": 8,
    "start_time": "2023-02-01T11:41:34.030Z"
   },
   {
    "duration": 8,
    "start_time": "2023-02-01T11:41:35.038Z"
   },
   {
    "duration": 254,
    "start_time": "2023-02-01T11:41:35.863Z"
   },
   {
    "duration": 61,
    "start_time": "2023-02-01T11:42:16.556Z"
   },
   {
    "duration": 1468,
    "start_time": "2023-02-01T11:48:08.764Z"
   },
   {
    "duration": 9,
    "start_time": "2023-02-01T11:48:49.356Z"
   },
   {
    "duration": 27,
    "start_time": "2023-02-01T11:49:00.964Z"
   },
   {
    "duration": 12,
    "start_time": "2023-02-01T11:49:09.562Z"
   },
   {
    "duration": 3,
    "start_time": "2023-02-01T11:49:55.169Z"
   },
   {
    "duration": 3,
    "start_time": "2023-02-01T11:50:02.451Z"
   },
   {
    "duration": 20129,
    "start_time": "2023-02-01T11:50:04.883Z"
   },
   {
    "duration": 4,
    "start_time": "2023-02-01T11:51:06.754Z"
   },
   {
    "duration": 3,
    "start_time": "2023-02-01T11:51:19.084Z"
   },
   {
    "duration": 1113,
    "start_time": "2023-02-01T11:51:20.727Z"
   },
   {
    "duration": 4,
    "start_time": "2023-02-01T11:51:24.992Z"
   },
   {
    "duration": 3,
    "start_time": "2023-02-01T11:51:38.470Z"
   },
   {
    "duration": 6,
    "start_time": "2023-02-01T11:51:42.044Z"
   },
   {
    "duration": 144180,
    "start_time": "2023-02-01T11:53:08.755Z"
   },
   {
    "duration": 114,
    "start_time": "2023-02-01T11:55:32.937Z"
   },
   {
    "duration": 91679,
    "start_time": "2023-02-01T11:57:16.501Z"
   },
   {
    "duration": 3,
    "start_time": "2023-02-01T12:01:58.080Z"
   },
   {
    "duration": 67183,
    "start_time": "2023-02-01T12:01:59.129Z"
   },
   {
    "duration": 4,
    "start_time": "2023-02-01T12:03:06.315Z"
   },
   {
    "duration": 89373,
    "start_time": "2023-02-01T12:03:37.713Z"
   },
   {
    "duration": 4,
    "start_time": "2023-02-01T12:05:13.861Z"
   },
   {
    "duration": 3,
    "start_time": "2023-02-01T12:05:49.446Z"
   },
   {
    "duration": 249101,
    "start_time": "2023-02-01T12:05:52.031Z"
   },
   {
    "duration": 4,
    "start_time": "2023-02-01T12:10:10.340Z"
   },
   {
    "duration": 3,
    "start_time": "2023-02-01T12:11:52.620Z"
   },
   {
    "duration": 23729,
    "start_time": "2023-02-01T12:12:19.756Z"
   },
   {
    "duration": 244730,
    "start_time": "2023-02-01T12:12:55.110Z"
   },
   {
    "duration": 4,
    "start_time": "2023-02-01T12:17:13.312Z"
   },
   {
    "duration": 4,
    "start_time": "2023-02-01T12:17:15.240Z"
   },
   {
    "duration": 217997,
    "start_time": "2023-02-01T12:17:47.415Z"
   },
   {
    "duration": 4,
    "start_time": "2023-02-01T12:21:25.414Z"
   },
   {
    "duration": 22,
    "start_time": "2023-02-01T12:21:25.427Z"
   },
   {
    "duration": 46,
    "start_time": "2023-02-01T12:22:34.849Z"
   },
   {
    "duration": 236232,
    "start_time": "2023-02-01T12:24:00.513Z"
   },
   {
    "duration": 3,
    "start_time": "2023-02-01T12:27:56.747Z"
   },
   {
    "duration": 11,
    "start_time": "2023-02-01T12:27:56.752Z"
   },
   {
    "duration": 1802,
    "start_time": "2023-02-01T12:29:05.635Z"
   },
   {
    "duration": 4,
    "start_time": "2023-02-01T12:29:09.109Z"
   },
   {
    "duration": 5,
    "start_time": "2023-02-01T12:29:11.397Z"
   },
   {
    "duration": 180118,
    "start_time": "2023-02-01T12:29:17.113Z"
   },
   {
    "duration": 8,
    "start_time": "2023-02-01T12:33:00.623Z"
   },
   {
    "duration": 206908,
    "start_time": "2023-02-01T12:33:05.927Z"
   },
   {
    "duration": 1665,
    "start_time": "2023-02-02T02:41:02.918Z"
   },
   {
    "duration": 147,
    "start_time": "2023-02-02T02:41:06.502Z"
   },
   {
    "duration": 11,
    "start_time": "2023-02-02T02:41:06.908Z"
   },
   {
    "duration": 11,
    "start_time": "2023-02-02T02:41:07.125Z"
   },
   {
    "duration": 6,
    "start_time": "2023-02-02T02:41:07.378Z"
   },
   {
    "duration": 8,
    "start_time": "2023-02-02T02:41:07.806Z"
   },
   {
    "duration": 3,
    "start_time": "2023-02-02T02:41:08.245Z"
   },
   {
    "duration": 256,
    "start_time": "2023-02-02T02:41:08.728Z"
   },
   {
    "duration": 5,
    "start_time": "2023-02-02T02:41:10.632Z"
   },
   {
    "duration": 933,
    "start_time": "2023-02-02T02:41:10.903Z"
   },
   {
    "duration": 791,
    "start_time": "2023-02-02T02:41:12.299Z"
   },
   {
    "duration": 7,
    "start_time": "2023-02-02T02:41:18.104Z"
   },
   {
    "duration": 13,
    "start_time": "2023-02-02T02:41:22.088Z"
   },
   {
    "duration": 5,
    "start_time": "2023-02-02T02:41:25.282Z"
   },
   {
    "duration": 12,
    "start_time": "2023-02-02T02:41:26.488Z"
   },
   {
    "duration": 22,
    "start_time": "2023-02-02T02:41:36.795Z"
   },
   {
    "duration": 243,
    "start_time": "2023-02-02T02:41:42.381Z"
   },
   {
    "duration": 6,
    "start_time": "2023-02-02T02:41:47.233Z"
   },
   {
    "duration": 5,
    "start_time": "2023-02-02T02:41:48.325Z"
   },
   {
    "duration": 20,
    "start_time": "2023-02-02T02:41:48.835Z"
   },
   {
    "duration": 5,
    "start_time": "2023-02-02T02:41:52.442Z"
   },
   {
    "duration": 3,
    "start_time": "2023-02-02T02:41:53.633Z"
   },
   {
    "duration": 3,
    "start_time": "2023-02-02T02:41:58.682Z"
   },
   {
    "duration": 57380,
    "start_time": "2023-02-02T02:42:02.620Z"
   },
   {
    "duration": 3,
    "start_time": "2023-02-02T02:43:04.657Z"
   },
   {
    "duration": 3,
    "start_time": "2023-02-02T02:43:09.585Z"
   },
   {
    "duration": 984,
    "start_time": "2023-02-02T02:43:13.886Z"
   },
   {
    "duration": 9,
    "start_time": "2023-02-02T02:43:17.465Z"
   },
   {
    "duration": 5,
    "start_time": "2023-02-02T02:43:31.035Z"
   },
   {
    "duration": 206630,
    "start_time": "2023-02-02T02:43:33.843Z"
   },
   {
    "duration": 77,
    "start_time": "2023-02-02T02:47:16.538Z"
   },
   {
    "duration": 346,
    "start_time": "2023-02-02T02:47:31.843Z"
   },
   {
    "duration": 8,
    "start_time": "2023-02-02T02:47:40.990Z"
   },
   {
    "duration": 6,
    "start_time": "2023-02-02T02:47:44.712Z"
   },
   {
    "duration": 8,
    "start_time": "2023-02-02T02:47:45.036Z"
   },
   {
    "duration": 7,
    "start_time": "2023-02-02T02:47:45.333Z"
   },
   {
    "duration": 262,
    "start_time": "2023-02-02T02:47:45.727Z"
   },
   {
    "duration": 1639,
    "start_time": "2023-02-02T10:26:24.895Z"
   },
   {
    "duration": 153,
    "start_time": "2023-02-02T10:26:26.536Z"
   },
   {
    "duration": 10,
    "start_time": "2023-02-02T10:26:28.040Z"
   },
   {
    "duration": 9,
    "start_time": "2023-02-02T10:26:28.617Z"
   },
   {
    "duration": 4,
    "start_time": "2023-02-02T10:26:28.960Z"
   },
   {
    "duration": 16,
    "start_time": "2023-02-02T10:26:29.912Z"
   },
   {
    "duration": 4,
    "start_time": "2023-02-02T10:26:30.578Z"
   },
   {
    "duration": 249,
    "start_time": "2023-02-02T10:26:31.098Z"
   },
   {
    "duration": 5,
    "start_time": "2023-02-02T10:26:32.848Z"
   },
   {
    "duration": 960,
    "start_time": "2023-02-02T10:26:33.088Z"
   },
   {
    "duration": 767,
    "start_time": "2023-02-02T10:26:34.050Z"
   },
   {
    "duration": 6,
    "start_time": "2023-02-02T10:26:35.832Z"
   },
   {
    "duration": 12,
    "start_time": "2023-02-02T10:26:37.137Z"
   },
   {
    "duration": 4,
    "start_time": "2023-02-02T10:26:41.048Z"
   },
   {
    "duration": 15,
    "start_time": "2023-02-02T10:26:41.554Z"
   },
   {
    "duration": 18,
    "start_time": "2023-02-02T10:26:45.314Z"
   },
   {
    "duration": 306,
    "start_time": "2023-02-02T10:26:47.944Z"
   },
   {
    "duration": 5,
    "start_time": "2023-02-02T10:26:50.117Z"
   },
   {
    "duration": 6,
    "start_time": "2023-02-02T10:26:51.024Z"
   },
   {
    "duration": 19,
    "start_time": "2023-02-02T10:26:51.256Z"
   },
   {
    "duration": 5,
    "start_time": "2023-02-02T10:26:51.829Z"
   },
   {
    "duration": 4,
    "start_time": "2023-02-02T10:26:52.339Z"
   },
   {
    "duration": 3,
    "start_time": "2023-02-02T10:26:55.837Z"
   },
   {
    "duration": 123,
    "start_time": "2023-02-02T10:26:56.620Z"
   },
   {
    "duration": 65,
    "start_time": "2023-02-02T10:28:00.248Z"
   },
   {
    "duration": 41,
    "start_time": "2023-02-02T10:28:18.739Z"
   },
   {
    "duration": 50,
    "start_time": "2023-02-02T10:29:04.511Z"
   },
   {
    "duration": 29225,
    "start_time": "2023-02-02T10:29:41.513Z"
   },
   {
    "duration": 10,
    "start_time": "2023-02-02T10:30:53.317Z"
   },
   {
    "duration": 79270,
    "start_time": "2023-02-02T10:31:18.857Z"
   },
   {
    "duration": 3,
    "start_time": "2023-02-02T10:33:01.275Z"
   },
   {
    "duration": 3,
    "start_time": "2023-02-02T10:33:02.968Z"
   },
   {
    "duration": 138014,
    "start_time": "2023-02-02T10:36:02.531Z"
   },
   {
    "duration": 3,
    "start_time": "2023-02-02T10:38:28.518Z"
   },
   {
    "duration": 3,
    "start_time": "2023-02-02T10:38:37.031Z"
   },
   {
    "duration": 3,
    "start_time": "2023-02-02T10:38:43.983Z"
   },
   {
    "duration": 329,
    "start_time": "2023-02-02T10:38:49.285Z"
   },
   {
    "duration": 3,
    "start_time": "2023-02-02T10:38:51.200Z"
   },
   {
    "duration": 4,
    "start_time": "2023-02-02T10:39:15.465Z"
   },
   {
    "duration": 6,
    "start_time": "2023-02-02T10:39:25.898Z"
   },
   {
    "duration": 226073,
    "start_time": "2023-02-02T10:39:30.641Z"
   },
   {
    "duration": 55,
    "start_time": "2023-02-02T10:45:44.527Z"
   },
   {
    "duration": 47,
    "start_time": "2023-02-02T10:45:46.262Z"
   },
   {
    "duration": 8,
    "start_time": "2023-02-02T10:46:06.597Z"
   },
   {
    "duration": 3,
    "start_time": "2023-02-02T10:46:09.200Z"
   },
   {
    "duration": 8,
    "start_time": "2023-02-02T10:46:09.447Z"
   },
   {
    "duration": 7,
    "start_time": "2023-02-02T10:46:09.759Z"
   },
   {
    "duration": 311,
    "start_time": "2023-02-02T10:46:10.151Z"
   },
   {
    "duration": 48,
    "start_time": "2023-02-02T10:51:00.541Z"
   },
   {
    "duration": 163666,
    "start_time": "2023-02-02T10:51:09.347Z"
   },
   {
    "duration": 1627,
    "start_time": "2023-02-02T17:58:11.968Z"
   },
   {
    "duration": 125,
    "start_time": "2023-02-02T17:58:13.598Z"
   },
   {
    "duration": 11,
    "start_time": "2023-02-02T17:58:14.696Z"
   },
   {
    "duration": 11,
    "start_time": "2023-02-02T17:58:14.837Z"
   },
   {
    "duration": 5,
    "start_time": "2023-02-02T17:58:15.060Z"
   },
   {
    "duration": 8,
    "start_time": "2023-02-02T17:58:15.458Z"
   },
   {
    "duration": 4,
    "start_time": "2023-02-02T17:58:15.841Z"
   },
   {
    "duration": 313,
    "start_time": "2023-02-02T17:58:16.214Z"
   },
   {
    "duration": 6,
    "start_time": "2023-02-02T17:58:18.149Z"
   },
   {
    "duration": 1093,
    "start_time": "2023-02-02T17:58:18.400Z"
   },
   {
    "duration": 824,
    "start_time": "2023-02-02T17:58:19.495Z"
   },
   {
    "duration": 8,
    "start_time": "2023-02-02T17:58:20.321Z"
   },
   {
    "duration": 11,
    "start_time": "2023-02-02T17:58:20.988Z"
   },
   {
    "duration": 5,
    "start_time": "2023-02-02T17:58:24.503Z"
   },
   {
    "duration": 16,
    "start_time": "2023-02-02T17:58:24.897Z"
   },
   {
    "duration": 25,
    "start_time": "2023-02-02T17:58:26.530Z"
   },
   {
    "duration": 242,
    "start_time": "2023-02-02T17:58:27.988Z"
   },
   {
    "duration": 7,
    "start_time": "2023-02-02T17:58:29.577Z"
   },
   {
    "duration": 7,
    "start_time": "2023-02-02T17:58:30.426Z"
   },
   {
    "duration": 28,
    "start_time": "2023-02-02T17:58:30.712Z"
   },
   {
    "duration": 6,
    "start_time": "2023-02-02T17:58:31.817Z"
   },
   {
    "duration": 4,
    "start_time": "2023-02-02T17:58:32.153Z"
   },
   {
    "duration": 3,
    "start_time": "2023-02-02T17:58:34.110Z"
   },
   {
    "duration": 119198,
    "start_time": "2023-02-02T17:58:34.777Z"
   },
   {
    "duration": 4,
    "start_time": "2023-02-02T18:01:06.565Z"
   },
   {
    "duration": 4,
    "start_time": "2023-02-02T18:01:08.316Z"
   },
   {
    "duration": 371,
    "start_time": "2023-02-02T18:01:09.725Z"
   },
   {
    "duration": 4,
    "start_time": "2023-02-02T18:01:10.380Z"
   },
   {
    "duration": 6,
    "start_time": "2023-02-02T18:01:15.936Z"
   },
   {
    "duration": 284089,
    "start_time": "2023-02-02T18:01:17.793Z"
   },
   {
    "duration": 59,
    "start_time": "2023-02-02T18:17:49.301Z"
   },
   {
    "duration": 33,
    "start_time": "2023-02-02T18:17:50.649Z"
   },
   {
    "duration": 8,
    "start_time": "2023-02-02T18:17:55.521Z"
   },
   {
    "duration": 4,
    "start_time": "2023-02-02T18:17:58.107Z"
   },
   {
    "duration": 8,
    "start_time": "2023-02-02T18:17:58.597Z"
   },
   {
    "duration": 8,
    "start_time": "2023-02-02T18:17:59.298Z"
   },
   {
    "duration": 230,
    "start_time": "2023-02-02T18:17:59.725Z"
   }
  ],
  "kernelspec": {
   "display_name": "Python 3 (ipykernel)",
   "language": "python",
   "name": "python3"
  },
  "language_info": {
   "codemirror_mode": {
    "name": "ipython",
    "version": 3
   },
   "file_extension": ".py",
   "mimetype": "text/x-python",
   "name": "python",
   "nbconvert_exporter": "python",
   "pygments_lexer": "ipython3",
   "version": "3.9.12"
  },
  "toc": {
   "base_numbering": 1,
   "nav_menu": {},
   "number_sections": true,
   "sideBar": true,
   "skip_h1_title": true,
   "title_cell": "Содержание",
   "title_sidebar": "Contents",
   "toc_cell": true,
   "toc_position": {},
   "toc_section_display": true,
   "toc_window_display": false
  }
 },
 "nbformat": 4,
 "nbformat_minor": 2
}
