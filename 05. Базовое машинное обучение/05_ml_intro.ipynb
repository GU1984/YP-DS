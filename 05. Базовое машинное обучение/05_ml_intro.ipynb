{
 "cells": [
  {
   "cell_type": "markdown",
   "metadata": {},
   "source": [
    "# Рекомендация тарифов"
   ]
  },
  {
   "cell_type": "markdown",
   "metadata": {},
   "source": [
    "В вашем распоряжении данные о поведении клиентов, которые уже перешли на эти тарифы (из проекта курса «Статистический анализ данных»). Нужно построить модель для задачи классификации, которая выберет подходящий тариф. Предобработка данных не понадобится — вы её уже сделали.\n",
    "\n",
    "Постройте модель с максимально большим значением *accuracy*. Чтобы сдать проект успешно, нужно довести долю правильных ответов по крайней мере до 0.75. Проверьте *accuracy* на тестовой выборке самостоятельно."
   ]
  },
  {
   "cell_type": "markdown",
   "metadata": {},
   "source": [
    "## Откройте и изучите файл"
   ]
  },
  {
   "cell_type": "code",
   "execution_count": 22,
   "metadata": {},
   "outputs": [],
   "source": [
    "import pandas as pd\n",
    "\n",
    "from sklearn.ensemble import RandomForestClassifier\n",
    "from sklearn.linear_model import LogisticRegression\n",
    "from sklearn.model_selection import train_test_split\n",
    "from sklearn.metrics import accuracy_score\n",
    "from sklearn.tree import DecisionTreeClassifier"
   ]
  },
  {
   "cell_type": "code",
   "execution_count": 23,
   "metadata": {},
   "outputs": [],
   "source": [
    "data = pd.read_csv('/datasets/users_behavior.csv')"
   ]
  },
  {
   "cell_type": "code",
   "execution_count": 24,
   "metadata": {
    "scrolled": true
   },
   "outputs": [
    {
     "data": {
      "text/html": [
       "<div>\n",
       "<style scoped>\n",
       "    .dataframe tbody tr th:only-of-type {\n",
       "        vertical-align: middle;\n",
       "    }\n",
       "\n",
       "    .dataframe tbody tr th {\n",
       "        vertical-align: top;\n",
       "    }\n",
       "\n",
       "    .dataframe thead th {\n",
       "        text-align: right;\n",
       "    }\n",
       "</style>\n",
       "<table border=\"1\" class=\"dataframe\">\n",
       "  <thead>\n",
       "    <tr style=\"text-align: right;\">\n",
       "      <th></th>\n",
       "      <th>calls</th>\n",
       "      <th>minutes</th>\n",
       "      <th>messages</th>\n",
       "      <th>mb_used</th>\n",
       "      <th>is_ultra</th>\n",
       "    </tr>\n",
       "  </thead>\n",
       "  <tbody>\n",
       "    <tr>\n",
       "      <th>0</th>\n",
       "      <td>40.0</td>\n",
       "      <td>311.90</td>\n",
       "      <td>83.0</td>\n",
       "      <td>19915.42</td>\n",
       "      <td>0</td>\n",
       "    </tr>\n",
       "    <tr>\n",
       "      <th>1</th>\n",
       "      <td>85.0</td>\n",
       "      <td>516.75</td>\n",
       "      <td>56.0</td>\n",
       "      <td>22696.96</td>\n",
       "      <td>0</td>\n",
       "    </tr>\n",
       "    <tr>\n",
       "      <th>2</th>\n",
       "      <td>77.0</td>\n",
       "      <td>467.66</td>\n",
       "      <td>86.0</td>\n",
       "      <td>21060.45</td>\n",
       "      <td>0</td>\n",
       "    </tr>\n",
       "    <tr>\n",
       "      <th>3</th>\n",
       "      <td>106.0</td>\n",
       "      <td>745.53</td>\n",
       "      <td>81.0</td>\n",
       "      <td>8437.39</td>\n",
       "      <td>1</td>\n",
       "    </tr>\n",
       "    <tr>\n",
       "      <th>4</th>\n",
       "      <td>66.0</td>\n",
       "      <td>418.74</td>\n",
       "      <td>1.0</td>\n",
       "      <td>14502.75</td>\n",
       "      <td>0</td>\n",
       "    </tr>\n",
       "    <tr>\n",
       "      <th>5</th>\n",
       "      <td>58.0</td>\n",
       "      <td>344.56</td>\n",
       "      <td>21.0</td>\n",
       "      <td>15823.37</td>\n",
       "      <td>0</td>\n",
       "    </tr>\n",
       "    <tr>\n",
       "      <th>6</th>\n",
       "      <td>57.0</td>\n",
       "      <td>431.64</td>\n",
       "      <td>20.0</td>\n",
       "      <td>3738.90</td>\n",
       "      <td>1</td>\n",
       "    </tr>\n",
       "    <tr>\n",
       "      <th>7</th>\n",
       "      <td>15.0</td>\n",
       "      <td>132.40</td>\n",
       "      <td>6.0</td>\n",
       "      <td>21911.60</td>\n",
       "      <td>0</td>\n",
       "    </tr>\n",
       "    <tr>\n",
       "      <th>8</th>\n",
       "      <td>7.0</td>\n",
       "      <td>43.39</td>\n",
       "      <td>3.0</td>\n",
       "      <td>2538.67</td>\n",
       "      <td>1</td>\n",
       "    </tr>\n",
       "    <tr>\n",
       "      <th>9</th>\n",
       "      <td>90.0</td>\n",
       "      <td>665.41</td>\n",
       "      <td>38.0</td>\n",
       "      <td>17358.61</td>\n",
       "      <td>0</td>\n",
       "    </tr>\n",
       "    <tr>\n",
       "      <th>10</th>\n",
       "      <td>82.0</td>\n",
       "      <td>560.51</td>\n",
       "      <td>20.0</td>\n",
       "      <td>9619.53</td>\n",
       "      <td>1</td>\n",
       "    </tr>\n",
       "    <tr>\n",
       "      <th>11</th>\n",
       "      <td>45.0</td>\n",
       "      <td>344.32</td>\n",
       "      <td>13.0</td>\n",
       "      <td>19898.81</td>\n",
       "      <td>0</td>\n",
       "    </tr>\n",
       "    <tr>\n",
       "      <th>12</th>\n",
       "      <td>51.0</td>\n",
       "      <td>437.13</td>\n",
       "      <td>61.0</td>\n",
       "      <td>21523.58</td>\n",
       "      <td>0</td>\n",
       "    </tr>\n",
       "    <tr>\n",
       "      <th>13</th>\n",
       "      <td>56.0</td>\n",
       "      <td>433.07</td>\n",
       "      <td>16.0</td>\n",
       "      <td>16702.36</td>\n",
       "      <td>0</td>\n",
       "    </tr>\n",
       "    <tr>\n",
       "      <th>14</th>\n",
       "      <td>108.0</td>\n",
       "      <td>587.90</td>\n",
       "      <td>0.0</td>\n",
       "      <td>14406.50</td>\n",
       "      <td>1</td>\n",
       "    </tr>\n",
       "    <tr>\n",
       "      <th>15</th>\n",
       "      <td>6.0</td>\n",
       "      <td>22.13</td>\n",
       "      <td>0.0</td>\n",
       "      <td>2710.09</td>\n",
       "      <td>0</td>\n",
       "    </tr>\n",
       "    <tr>\n",
       "      <th>16</th>\n",
       "      <td>2.0</td>\n",
       "      <td>18.73</td>\n",
       "      <td>0.0</td>\n",
       "      <td>588.89</td>\n",
       "      <td>0</td>\n",
       "    </tr>\n",
       "    <tr>\n",
       "      <th>17</th>\n",
       "      <td>26.0</td>\n",
       "      <td>163.62</td>\n",
       "      <td>4.0</td>\n",
       "      <td>16870.34</td>\n",
       "      <td>0</td>\n",
       "    </tr>\n",
       "    <tr>\n",
       "      <th>18</th>\n",
       "      <td>79.0</td>\n",
       "      <td>532.62</td>\n",
       "      <td>90.0</td>\n",
       "      <td>19908.31</td>\n",
       "      <td>0</td>\n",
       "    </tr>\n",
       "    <tr>\n",
       "      <th>19</th>\n",
       "      <td>49.0</td>\n",
       "      <td>341.67</td>\n",
       "      <td>81.0</td>\n",
       "      <td>11770.28</td>\n",
       "      <td>1</td>\n",
       "    </tr>\n",
       "  </tbody>\n",
       "</table>\n",
       "</div>"
      ],
      "text/plain": [
       "    calls  minutes  messages   mb_used  is_ultra\n",
       "0    40.0   311.90      83.0  19915.42         0\n",
       "1    85.0   516.75      56.0  22696.96         0\n",
       "2    77.0   467.66      86.0  21060.45         0\n",
       "3   106.0   745.53      81.0   8437.39         1\n",
       "4    66.0   418.74       1.0  14502.75         0\n",
       "5    58.0   344.56      21.0  15823.37         0\n",
       "6    57.0   431.64      20.0   3738.90         1\n",
       "7    15.0   132.40       6.0  21911.60         0\n",
       "8     7.0    43.39       3.0   2538.67         1\n",
       "9    90.0   665.41      38.0  17358.61         0\n",
       "10   82.0   560.51      20.0   9619.53         1\n",
       "11   45.0   344.32      13.0  19898.81         0\n",
       "12   51.0   437.13      61.0  21523.58         0\n",
       "13   56.0   433.07      16.0  16702.36         0\n",
       "14  108.0   587.90       0.0  14406.50         1\n",
       "15    6.0    22.13       0.0   2710.09         0\n",
       "16    2.0    18.73       0.0    588.89         0\n",
       "17   26.0   163.62       4.0  16870.34         0\n",
       "18   79.0   532.62      90.0  19908.31         0\n",
       "19   49.0   341.67      81.0  11770.28         1"
      ]
     },
     "metadata": {},
     "output_type": "display_data"
    }
   ],
   "source": [
    "display(data.head(20))"
   ]
  },
  {
   "cell_type": "code",
   "execution_count": 25,
   "metadata": {},
   "outputs": [
    {
     "name": "stdout",
     "output_type": "stream",
     "text": [
      "<class 'pandas.core.frame.DataFrame'>\n",
      "RangeIndex: 3214 entries, 0 to 3213\n",
      "Data columns (total 5 columns):\n",
      " #   Column    Non-Null Count  Dtype  \n",
      "---  ------    --------------  -----  \n",
      " 0   calls     3214 non-null   float64\n",
      " 1   minutes   3214 non-null   float64\n",
      " 2   messages  3214 non-null   float64\n",
      " 3   mb_used   3214 non-null   float64\n",
      " 4   is_ultra  3214 non-null   int64  \n",
      "dtypes: float64(4), int64(1)\n",
      "memory usage: 125.7 KB\n"
     ]
    }
   ],
   "source": [
    "# выведем информацию о датасете\n",
    "data.info()"
   ]
  },
  {
   "cell_type": "code",
   "execution_count": 26,
   "metadata": {},
   "outputs": [
    {
     "data": {
      "text/plain": [
       "array([0, 1])"
      ]
     },
     "execution_count": 26,
     "metadata": {},
     "output_type": "execute_result"
    }
   ],
   "source": [
    "data['is_ultra'].unique()"
   ]
  },
  {
   "cell_type": "code",
   "execution_count": 27,
   "metadata": {},
   "outputs": [
    {
     "data": {
      "text/plain": [
       "0    2229\n",
       "1     985\n",
       "Name: is_ultra, dtype: int64"
      ]
     },
     "execution_count": 27,
     "metadata": {},
     "output_type": "execute_result"
    }
   ],
   "source": [
    "data['is_ultra'].value_counts()"
   ]
  },
  {
   "cell_type": "markdown",
   "metadata": {},
   "source": [
    "Промежуточный вывод:\n",
    "- пропуски отсутствуют,\n",
    "- значения в столбце 'is_ultra' соответсвуют категориальному признаку и имеет значение только 0 или 1.\n",
    "- видно, что распрееление столбце 'is_ultra' значений 0 и 1 не равноварное, нелбходимо это учесть при дальнешей расделении выборки. "
   ]
  },
  {
   "cell_type": "markdown",
   "metadata": {},
   "source": [
    "## Разбейте данные на выборки"
   ]
  },
  {
   "cell_type": "markdown",
   "metadata": {},
   "source": [
    "Разделим выборку на обучающую, валидационную и тестовую в пропорции 3:1:1."
   ]
  },
  {
   "cell_type": "markdown",
   "metadata": {},
   "source": [
    "### Обучающая  выборка "
   ]
  },
  {
   "cell_type": "code",
   "execution_count": 29,
   "metadata": {},
   "outputs": [
    {
     "name": "stdout",
     "output_type": "stream",
     "text": [
      "Исходная выборка: (3214, 5)\n"
     ]
    }
   ],
   "source": [
    "print('Исходная выборка:',data.shape)"
   ]
  },
  {
   "cell_type": "code",
   "execution_count": 30,
   "metadata": {},
   "outputs": [],
   "source": [
    "# выделим обучающую выборку, 60% от общей выборки\n",
    "data_train, data2 = train_test_split(data, test_size=0.4, random_state=12345, stratify=data[['is_ultra']])"
   ]
  },
  {
   "cell_type": "code",
   "execution_count": 31,
   "metadata": {},
   "outputs": [
    {
     "name": "stdout",
     "output_type": "stream",
     "text": [
      "Обучающая выборка: (1928, 5)\n",
      "Валидационная и Тестовая выборки: (1286, 5)\n"
     ]
    }
   ],
   "source": [
    "print('Обучающая выборка:',data_train.shape)\n",
    "print('Валидационная и Тестовая выборки:',data2.shape)"
   ]
  },
  {
   "cell_type": "markdown",
   "metadata": {},
   "source": [
    "### Валидационая и тестовая выборки"
   ]
  },
  {
   "cell_type": "code",
   "execution_count": 32,
   "metadata": {},
   "outputs": [],
   "source": [
    "# разделим оставшуюся часть 40% (features2 и target2 см. выше) на две равные выборки: валидационную и тестовую\n",
    "data_valid, data_test = train_test_split(data2, test_size=0.5, random_state=12345, stratify=data2[['is_ultra']])"
   ]
  },
  {
   "cell_type": "code",
   "execution_count": 33,
   "metadata": {},
   "outputs": [
    {
     "name": "stdout",
     "output_type": "stream",
     "text": [
      "Валидационная выборка: (643, 5)\n",
      "Тестовая выборка: (643, 5)\n"
     ]
    }
   ],
   "source": [
    "print('Валидационная выборка:',data_test.shape)\n",
    "print('Тестовая выборка:',data_test.shape)"
   ]
  },
  {
   "cell_type": "markdown",
   "metadata": {},
   "source": [
    "## Исследуйте модели"
   ]
  },
  {
   "cell_type": "markdown",
   "metadata": {},
   "source": [
    "В задании нужно разработать модель рекомендации тарифа Смарт или Ультра. Выбор тарифа — это качественный целевой признак. "
   ]
  },
  {
   "cell_type": "markdown",
   "metadata": {},
   "source": [
    "### Извлечение признаков и целевого признака"
   ]
  },
  {
   "cell_type": "code",
   "execution_count": 34,
   "metadata": {},
   "outputs": [],
   "source": [
    "# извлекем признаки и целевой признак\n",
    "\n",
    "# обучающая выборка\n",
    "features_train = data_train.drop(['is_ultra'], axis=1)\n",
    "target_train = data_train['is_ultra']\n",
    "\n",
    "# валидационная выборка\n",
    "features_valid = data_valid.drop(['is_ultra'], axis=1)\n",
    "target_valid = data_valid['is_ultra']\n",
    "\n",
    "# тестовая выборка\n",
    "features_test = data_test.drop(['is_ultra'], axis=1)\n",
    "target_test = data_test['is_ultra']"
   ]
  },
  {
   "cell_type": "markdown",
   "metadata": {},
   "source": [
    "### Модели"
   ]
  },
  {
   "cell_type": "markdown",
   "metadata": {},
   "source": [
    "Тариф - качественный признак, значит, нужно решить задачу классификации. Будем исследовать следующие модели:\n",
    "- Решающее дерево;\n",
    "- Случайцный лес;\n",
    "- Логистическая регрессия."
   ]
  },
  {
   "cell_type": "markdown",
   "metadata": {},
   "source": [
    "####  Модель - решающее дерево"
   ]
  },
  {
   "cell_type": "markdown",
   "metadata": {},
   "source": [
    "Для получения наилучшей модели исользуем гирпепаратметр - глубина дерева."
   ]
  },
  {
   "cell_type": "code",
   "execution_count": 35,
   "metadata": {},
   "outputs": [
    {
     "name": "stdout",
     "output_type": "stream",
     "text": [
      "Accuracy наилучшей модели решающего дерева на валидационной выборке: 0.80248833592535\n",
      "Глубина наилучшей модели решающего дерева на валидационной выборке: 8\n"
     ]
    }
   ],
   "source": [
    "model_tree = None\n",
    "best_depth = 0\n",
    "best_result_tree = 0\n",
    "accuracy_result = []\n",
    "tree_result = []\n",
    "  \n",
    "for depth in range(1,13):\n",
    "    model = DecisionTreeClassifier(random_state=12345, max_depth=depth)\n",
    "    # посчитаем качество модели на валидационной выборке\n",
    "    model.fit(features_train, target_train)\n",
    "    # получим предсказание модели\n",
    "    predictions_valid = model.predict(features_valid)\n",
    "    # посчитаем качество модели на валидационной выборке\n",
    "    result = accuracy_score(target_valid, predictions_valid)\n",
    "    # сохраним результат для построения графика\n",
    "    accuracy_result.append(result)\n",
    "    tree_result.append(depth)\n",
    "    if result > best_result_tree:\n",
    "        # сохраним наилучшую модель\n",
    "        model_tree = model\n",
    "        #  сохраниим наилучшее значение метрики accuracy на валидационных данных\n",
    "        best_result_tree = result \n",
    "        #  сохраниим наилучшее значение глубины\n",
    "        best_depth = depth \n",
    "\n",
    "print(\"Accuracy наилучшей модели решающего дерева на валидационной выборке:\", best_result_tree)\n",
    "print(\"Глубина наилучшей модели решающего дерева на валидационной выборке:\", best_depth)"
   ]
  },
  {
   "cell_type": "code",
   "execution_count": 36,
   "metadata": {},
   "outputs": [
    {
     "data": {
      "image/png": "[encoded data removed]",
      "text/plain": [
       "<Figure size 720x432 with 1 Axes>"
      ]
     },
     "metadata": {
      "needs_background": "light"
     },
     "output_type": "display_data"
    }
   ],
   "source": [
    "import matplotlib.pyplot as plt\n",
    "plt.figure(figsize=(10,6))\n",
    "plt.title('Зависимость Accuracy от глубины дерева',fontsize=20)\n",
    "plt.ylabel('Accuracy')\n",
    "plt.xlim([1, 12])\n",
    "plt.grid(True)\n",
    "plt.plot(tree_result, accuracy_result)\n",
    "plt.show()"
   ]
  },
  {
   "cell_type": "markdown",
   "metadata": {},
   "source": [
    "Промежуточный выод:\n",
    "- Аccuracy наилучшей модели решающего дерева на валидационной выборке: 0.802. Соответствующая глубина равна 8."
   ]
  },
  {
   "cell_type": "markdown",
   "metadata": {},
   "source": [
    "####  Модель - случайный лес"
   ]
  },
  {
   "cell_type": "markdown",
   "metadata": {},
   "source": [
    "Для выбора наилучшей модели будем использовать следующие гиперпараметры:\n",
    "1. n_estimators - колчиество деревьев\n",
    "2. max_depth - глубина деревьев\n",
    "3. bootstrap - использование для построения деревьев подвыборки с возвращением."
   ]
  },
  {
   "cell_type": "code",
   "execution_count": 37,
   "metadata": {},
   "outputs": [
    {
     "name": "stdout",
     "output_type": "stream",
     "text": [
      "Accuracy наилучшей модели на валидационной выборке: 0.8227060653188181\n",
      "Количество деревьев наилучшей модели на валидационной выборке: 39\n",
      "Максимальная глубина деревьев на валидационной выборке: 9\n",
      "CPU times: user 35.1 s, sys: 172 ms, total: 35.3 s\n",
      "Wall time: 1min 10s\n"
     ]
    }
   ],
   "source": [
    "%%time\n",
    "\n",
    "model_forest = None\n",
    "tree_numbers = 0\n",
    "best_result_forest = 0\n",
    "for est in range(1, 50):\n",
    "    for depth in range(1,12):\n",
    "    # обучим модель с заданным количеством деревьев\n",
    "        model = RandomForestClassifier(random_state=12345, n_estimators=est, max_depth=depth, bootstrap=True) \n",
    "    # обучаем модель на тренировочной выборке\n",
    "        model.fit(features_train, target_train) \n",
    "    # получим предсказание модели\n",
    "        predictions_valid = model.predict(features_valid)\n",
    "    # посчитаем качество модели на валидационной выборке\n",
    "        result = accuracy_score(target_valid, predictions_valid) \n",
    "        if result > best_result_forest:\n",
    "        # сохраним наилучшую модель\n",
    "            model_forest = model \n",
    "        # сохраним наилучшее значение метрики accuracy на валидационных данных \n",
    "            best_result_forest = result \n",
    "        # сохраним количество диревьев для наилучшей модели на валидационных данных\n",
    "            tree_numbers = est\n",
    "        # сохраним глубину для наилучшей модели на валидационных данных   \n",
    "            best_depth = depth\n",
    "\n",
    "print(\"Accuracy наилучшей модели на валидационной выборке:\", best_result_forest)\n",
    "print(\"Количество деревьев наилучшей модели на валидационной выборке:\", tree_numbers)\n",
    "print(\"Максимальная глубина деревьев на валидационной выборке:\", best_depth)"
   ]
  },
  {
   "cell_type": "markdown",
   "metadata": {},
   "source": [
    "Промежуточный вывод:\n",
    "- Аccuracy наилучшей модели случайного леса на валидационной выборке: 0.823.\n",
    "- Соответствующая глубина равна 9.\n",
    "- Количество деревьев 39."
   ]
  },
  {
   "cell_type": "markdown",
   "metadata": {},
   "source": [
    "####  Модель - логистическая регрессия"
   ]
  },
  {
   "cell_type": "code",
   "execution_count": 38,
   "metadata": {},
   "outputs": [
    {
     "name": "stdout",
     "output_type": "stream",
     "text": [
      "Accuracy наилучшей модели на валидационной выборке: 0.7387247278382582\n"
     ]
    }
   ],
   "source": [
    "# обучим модель с заданным количеством деревьев \n",
    "model_log_reg = LogisticRegression(random_state=12345, solver='lbfgs', max_iter=1000)\n",
    "# обучим модель на тренировочной выборке\n",
    "model_log_reg.fit(features_train, target_train) \n",
    "# получим предсказание модели\n",
    "predictions_log_reg_valid = model_log_reg.predict(features_valid)\n",
    "# посчитаем качество модели на валидационной выборке\n",
    "result_log_reg = accuracy_score(target_valid, predictions_log_reg_valid) \n",
    "\n",
    "print(\"Accuracy наилучшей модели на валидационной выборке:\", result_log_reg)"
   ]
  },
  {
   "cell_type": "markdown",
   "metadata": {},
   "source": [
    "Вывод:\n",
    "1. Наилучшей результат на валидационной выборке показала модель случайного леса со следующимим гиперепараметрами:\n",
    "- количество деревьев 23;\n",
    "- глубина деревьев 7;\n",
    "- параметр использование для построения деревьев подвыборки с возвращением bootstrap=False.\n",
    "2. Модель логистической реграссии показала наихудший результат.\n"
   ]
  },
  {
   "cell_type": "markdown",
   "metadata": {},
   "source": [
    "## Проверьте модель на тестовой выборке"
   ]
  },
  {
   "cell_type": "markdown",
   "metadata": {},
   "source": [
    "Поскольку модель случайного леса показала наилучшие результат, выбираем ее для проверки на тестовых данных."
   ]
  },
  {
   "cell_type": "markdown",
   "metadata": {},
   "source": [
    "### Проверка модели случаного леса на тестовой выборке"
   ]
  },
  {
   "cell_type": "code",
   "execution_count": 39,
   "metadata": {},
   "outputs": [
    {
     "name": "stdout",
     "output_type": "stream",
     "text": [
      "Accuracy модели случайного леса на тестовой выборке: 0.8118195956454122\n"
     ]
    }
   ],
   "source": [
    "# получим предсказание модели случацного леса на тестовой выборке\n",
    "predictions_forest_test = model_forest.predict(features_test)\n",
    "# посчитаем качество модели случацного леса на тестовой выборке\n",
    "result_forest = accuracy_score(target_test, predictions_forest_test)\n",
    "# результат\n",
    "print(\"Accuracy модели случайного леса на тестовой выборке:\", result_forest)"
   ]
  },
  {
   "cell_type": "markdown",
   "metadata": {},
   "source": [
    "## Общий вывод:\n",
    "В ходе работы были выполнены следующие задания:\n",
    "1. Загружены данные о поведении клиентов, которые уже перешли на исследуемые тарифы.\n",
    "2. В данных видно, что один из тарифов выбирают чаще, это было учтено при далнешем разбиении.\n",
    "3. Данные разбиты на 3 выборки (тренировочная, валидаионная и тестовая) в пропорциях 3:1:1 с учетом стратификации данных.\n",
    "4. Были рассмотрены 3 модели: \n",
    "- Случайный лес.  Наилучшей результат accurcy на валидационной выборке составил 0,823 со следующимим гиперепараметрами: количество деревьев 39, глубина деревьев 9;\n",
    "- Логистическое дерево.  Результаты accurcy на валидационной выборке нескоклько хуже, accuracy = 0,785;\n",
    "- Логистическая реграссия. Наихудший результат accurcy на валидационной выборке с показателем accurcy = 0,711.\n",
    "5. В качестве наилцчшей модели была выбрана модель случайного леса.\n",
    "6. Для проверки работоспособности модели  случайного леса на тестовой выборке: accuracy=0.802.\n"
   ]
  }
 ],
 "metadata": {
  "ExecuteTimeLog": [
   {
    "duration": 44,
    "start_time": "2022-11-02T03:04:18.647Z"
   },
   {
    "duration": 384,
    "start_time": "2022-11-02T03:04:30.585Z"
   },
   {
    "duration": 119,
    "start_time": "2022-11-02T03:04:31.110Z"
   },
   {
    "duration": 15,
    "start_time": "2022-11-02T03:04:32.149Z"
   },
   {
    "duration": 13,
    "start_time": "2022-11-02T03:09:11.236Z"
   },
   {
    "duration": 5,
    "start_time": "2022-11-02T03:23:28.828Z"
   },
   {
    "duration": 29,
    "start_time": "2022-11-02T03:25:36.008Z"
   },
   {
    "duration": 652,
    "start_time": "2022-11-02T03:25:53.114Z"
   },
   {
    "duration": 2,
    "start_time": "2022-11-02T03:25:55.576Z"
   },
   {
    "duration": 3,
    "start_time": "2022-11-02T03:25:56.081Z"
   },
   {
    "duration": 30,
    "start_time": "2022-11-02T03:25:56.586Z"
   },
   {
    "duration": 15,
    "start_time": "2022-11-02T03:25:56.639Z"
   },
   {
    "duration": 4,
    "start_time": "2022-11-02T03:25:57.330Z"
   },
   {
    "duration": 4,
    "start_time": "2022-11-02T03:25:58.888Z"
   },
   {
    "duration": 5,
    "start_time": "2022-11-02T03:26:54.023Z"
   },
   {
    "duration": 3,
    "start_time": "2022-11-02T05:31:31.818Z"
   },
   {
    "duration": 2,
    "start_time": "2022-11-02T05:31:55.106Z"
   },
   {
    "duration": 369,
    "start_time": "2022-11-02T05:34:12.193Z"
   },
   {
    "duration": 669,
    "start_time": "2022-11-02T05:34:12.645Z"
   },
   {
    "duration": 155,
    "start_time": "2022-11-02T05:34:13.316Z"
   },
   {
    "duration": 19,
    "start_time": "2022-11-02T05:34:13.503Z"
   },
   {
    "duration": 5,
    "start_time": "2022-11-02T05:34:15.826Z"
   },
   {
    "duration": 97,
    "start_time": "2022-11-02T05:34:17.798Z"
   },
   {
    "duration": 5,
    "start_time": "2022-11-02T05:34:24.416Z"
   },
   {
    "duration": 6,
    "start_time": "2022-11-02T05:34:26.382Z"
   },
   {
    "duration": 15,
    "start_time": "2022-11-02T05:35:59.227Z"
   },
   {
    "duration": 5,
    "start_time": "2022-11-02T05:36:12.148Z"
   },
   {
    "duration": 5,
    "start_time": "2022-11-02T05:36:13.247Z"
   },
   {
    "duration": 6,
    "start_time": "2022-11-02T05:36:25.882Z"
   },
   {
    "duration": 7,
    "start_time": "2022-11-02T05:37:11.645Z"
   },
   {
    "duration": 35,
    "start_time": "2022-11-02T05:41:48.071Z"
   },
   {
    "duration": 49,
    "start_time": "2022-11-02T05:42:19.230Z"
   },
   {
    "duration": 41,
    "start_time": "2022-11-02T05:42:27.369Z"
   },
   {
    "duration": 83,
    "start_time": "2022-11-02T05:42:33.583Z"
   },
   {
    "duration": 164,
    "start_time": "2022-11-02T05:43:13.543Z"
   },
   {
    "duration": 34,
    "start_time": "2022-11-02T05:43:42.842Z"
   },
   {
    "duration": 46,
    "start_time": "2022-11-02T05:45:37.078Z"
   },
   {
    "duration": 15,
    "start_time": "2022-11-02T05:47:22.843Z"
   },
   {
    "duration": 10,
    "start_time": "2022-11-02T05:47:42.088Z"
   },
   {
    "duration": 264,
    "start_time": "2022-11-02T05:47:42.752Z"
   },
   {
    "duration": 818,
    "start_time": "2022-11-02T05:48:02.592Z"
   },
   {
    "duration": 5053,
    "start_time": "2022-11-02T05:48:09.819Z"
   },
   {
    "duration": 1892,
    "start_time": "2022-11-02T05:48:25.147Z"
   },
   {
    "duration": 1820,
    "start_time": "2022-11-02T05:49:42.343Z"
   },
   {
    "duration": 1862,
    "start_time": "2022-11-02T05:50:35.073Z"
   },
   {
    "duration": 2,
    "start_time": "2022-11-02T06:52:16.061Z"
   },
   {
    "duration": 29,
    "start_time": "2022-11-02T06:52:16.586Z"
   },
   {
    "duration": 14,
    "start_time": "2022-11-02T06:52:17.217Z"
   },
   {
    "duration": 2,
    "start_time": "2022-11-02T06:52:19.650Z"
   },
   {
    "duration": 5,
    "start_time": "2022-11-02T06:52:20.172Z"
   },
   {
    "duration": 5,
    "start_time": "2022-11-02T06:52:21.247Z"
   },
   {
    "duration": 6,
    "start_time": "2022-11-02T06:52:31.974Z"
   },
   {
    "duration": 6,
    "start_time": "2022-11-02T06:53:01.109Z"
   },
   {
    "duration": 3,
    "start_time": "2022-11-02T06:53:03.077Z"
   },
   {
    "duration": 3,
    "start_time": "2022-11-02T06:53:08.899Z"
   },
   {
    "duration": 38,
    "start_time": "2022-11-02T06:56:09.493Z"
   },
   {
    "duration": 36,
    "start_time": "2022-11-02T06:56:46.586Z"
   },
   {
    "duration": 56,
    "start_time": "2022-11-02T06:56:56.663Z"
   },
   {
    "duration": 63,
    "start_time": "2022-11-02T06:57:15.235Z"
   },
   {
    "duration": 144,
    "start_time": "2022-11-02T06:57:23.840Z"
   },
   {
    "duration": 1954,
    "start_time": "2022-11-02T06:58:14.942Z"
   },
   {
    "duration": 3,
    "start_time": "2022-11-02T06:58:21.454Z"
   },
   {
    "duration": 1918,
    "start_time": "2022-11-02T06:58:21.994Z"
   },
   {
    "duration": 1884,
    "start_time": "2022-11-02T06:58:44.790Z"
   },
   {
    "duration": 1831,
    "start_time": "2022-11-02T06:58:59.559Z"
   },
   {
    "duration": 149,
    "start_time": "2022-11-02T06:59:55.039Z"
   },
   {
    "duration": 160,
    "start_time": "2022-11-02T07:00:01.073Z"
   },
   {
    "duration": 38,
    "start_time": "2022-11-02T07:01:57.362Z"
   },
   {
    "duration": 186,
    "start_time": "2022-11-02T07:03:40.913Z"
   },
   {
    "duration": 384,
    "start_time": "2022-11-02T07:04:03.237Z"
   },
   {
    "duration": 312,
    "start_time": "2022-11-02T07:04:29.785Z"
   },
   {
    "duration": 187,
    "start_time": "2022-11-02T07:04:48.068Z"
   },
   {
    "duration": 297,
    "start_time": "2022-11-02T07:05:49.072Z"
   },
   {
    "duration": 504,
    "start_time": "2022-11-02T07:06:01.240Z"
   },
   {
    "duration": 692,
    "start_time": "2022-11-02T07:06:07.006Z"
   },
   {
    "duration": 371,
    "start_time": "2022-11-02T07:06:41.546Z"
   },
   {
    "duration": 56,
    "start_time": "2022-11-02T07:06:47.438Z"
   },
   {
    "duration": 30,
    "start_time": "2022-11-02T07:06:52.472Z"
   },
   {
    "duration": 25,
    "start_time": "2022-11-02T07:07:01.698Z"
   },
   {
    "duration": 51,
    "start_time": "2022-11-02T07:08:09.164Z"
   },
   {
    "duration": 58,
    "start_time": "2022-11-02T07:08:18.321Z"
   },
   {
    "duration": 66,
    "start_time": "2022-11-02T07:08:36.580Z"
   },
   {
    "duration": 74,
    "start_time": "2022-11-02T07:09:04.054Z"
   },
   {
    "duration": 61,
    "start_time": "2022-11-02T07:09:30.279Z"
   },
   {
    "duration": 60,
    "start_time": "2022-11-02T07:09:48.279Z"
   },
   {
    "duration": 128,
    "start_time": "2022-11-02T07:10:05.348Z"
   },
   {
    "duration": 62,
    "start_time": "2022-11-02T07:10:49.293Z"
   },
   {
    "duration": 57,
    "start_time": "2022-11-02T07:11:10.300Z"
   },
   {
    "duration": 1859,
    "start_time": "2022-11-02T07:13:48.373Z"
   },
   {
    "duration": 3,
    "start_time": "2022-11-02T07:13:52.117Z"
   },
   {
    "duration": 1782,
    "start_time": "2022-11-02T07:13:52.807Z"
   },
   {
    "duration": 3,
    "start_time": "2022-11-02T07:30:26.512Z"
   },
   {
    "duration": 27,
    "start_time": "2022-11-02T07:30:27.045Z"
   },
   {
    "duration": 25,
    "start_time": "2022-11-02T07:30:34.556Z"
   },
   {
    "duration": 23,
    "start_time": "2022-11-02T07:30:42.939Z"
   },
   {
    "duration": 25,
    "start_time": "2022-11-02T07:31:25.888Z"
   },
   {
    "duration": 26,
    "start_time": "2022-11-02T07:31:42.786Z"
   },
   {
    "duration": 29,
    "start_time": "2022-11-02T07:31:49.945Z"
   },
   {
    "duration": 25,
    "start_time": "2022-11-02T07:32:12.436Z"
   },
   {
    "duration": 32,
    "start_time": "2022-11-02T07:36:29.150Z"
   },
   {
    "duration": 1817,
    "start_time": "2022-11-02T07:44:32.503Z"
   },
   {
    "duration": 69,
    "start_time": "2022-11-02T07:44:56.002Z"
   },
   {
    "duration": 6,
    "start_time": "2022-11-02T08:07:37.286Z"
   },
   {
    "duration": 6,
    "start_time": "2022-11-02T08:09:23.626Z"
   },
   {
    "duration": 7,
    "start_time": "2022-11-02T08:10:20.210Z"
   },
   {
    "duration": 7,
    "start_time": "2022-11-02T08:11:29.263Z"
   },
   {
    "duration": 12,
    "start_time": "2022-11-02T08:11:42.100Z"
   },
   {
    "duration": 6,
    "start_time": "2022-11-02T08:11:45.393Z"
   },
   {
    "duration": 12,
    "start_time": "2022-11-02T08:12:04.176Z"
   },
   {
    "duration": 9,
    "start_time": "2022-11-02T08:15:05.149Z"
   },
   {
    "duration": 12,
    "start_time": "2022-11-02T08:18:38.831Z"
   },
   {
    "duration": 26,
    "start_time": "2022-11-02T08:18:44.584Z"
   },
   {
    "duration": 37,
    "start_time": "2022-11-02T08:20:29.227Z"
   },
   {
    "duration": 26,
    "start_time": "2022-11-02T08:20:33.997Z"
   },
   {
    "duration": 945,
    "start_time": "2022-11-02T08:25:42.573Z"
   },
   {
    "duration": 1458,
    "start_time": "2022-11-02T08:25:49.635Z"
   },
   {
    "duration": 1587,
    "start_time": "2022-11-02T08:25:59.966Z"
   },
   {
    "duration": 1863,
    "start_time": "2022-11-02T08:26:15.138Z"
   },
   {
    "duration": 993,
    "start_time": "2022-11-02T08:26:39.910Z"
   },
   {
    "duration": 1633,
    "start_time": "2022-11-02T08:26:46.865Z"
   },
   {
    "duration": 1816,
    "start_time": "2022-11-02T08:27:09.558Z"
   },
   {
    "duration": 1646,
    "start_time": "2022-11-02T08:27:16.790Z"
   },
   {
    "duration": 1545,
    "start_time": "2022-11-02T08:27:22.268Z"
   },
   {
    "duration": 1244,
    "start_time": "2022-11-02T08:27:30.936Z"
   },
   {
    "duration": 1181,
    "start_time": "2022-11-02T08:27:40.680Z"
   },
   {
    "duration": 957,
    "start_time": "2022-11-02T08:27:45.721Z"
   },
   {
    "duration": 904,
    "start_time": "2022-11-02T08:27:50.129Z"
   },
   {
    "duration": 969,
    "start_time": "2022-11-02T08:27:57.270Z"
   },
   {
    "duration": 1048,
    "start_time": "2022-11-02T08:28:02.109Z"
   },
   {
    "duration": 49,
    "start_time": "2022-11-02T08:28:58.332Z"
   },
   {
    "duration": 67,
    "start_time": "2022-11-02T08:29:04.898Z"
   },
   {
    "duration": 1468,
    "start_time": "2022-11-02T08:29:27.356Z"
   },
   {
    "duration": 1582,
    "start_time": "2022-11-02T08:29:45.706Z"
   },
   {
    "duration": 98,
    "start_time": "2022-11-02T08:30:19.062Z"
   },
   {
    "duration": 13252,
    "start_time": "2022-11-02T08:30:47.334Z"
   },
   {
    "duration": 13700,
    "start_time": "2022-11-02T08:31:20.657Z"
   },
   {
    "duration": 13646,
    "start_time": "2022-11-02T08:31:49.984Z"
   },
   {
    "duration": 13454,
    "start_time": "2022-11-02T08:33:07.297Z"
   },
   {
    "duration": 11,
    "start_time": "2022-11-02T08:35:33.780Z"
   },
   {
    "duration": 14773,
    "start_time": "2022-11-02T08:36:03.204Z"
   },
   {
    "duration": 13305,
    "start_time": "2022-11-02T08:36:35.635Z"
   },
   {
    "duration": 78,
    "start_time": "2022-11-02T08:43:37.201Z"
   },
   {
    "duration": 78,
    "start_time": "2022-11-02T08:44:07.341Z"
   },
   {
    "duration": 4,
    "start_time": "2022-11-02T08:44:28.601Z"
   },
   {
    "duration": 67,
    "start_time": "2022-11-02T08:44:32.258Z"
   },
   {
    "duration": 4,
    "start_time": "2022-11-02T08:45:23.561Z"
   },
   {
    "duration": 72,
    "start_time": "2022-11-02T08:46:58.720Z"
   },
   {
    "duration": 55,
    "start_time": "2022-11-02T08:47:07.117Z"
   },
   {
    "duration": 15,
    "start_time": "2022-11-02T08:47:16.541Z"
   },
   {
    "duration": 16,
    "start_time": "2022-11-02T08:47:31.459Z"
   },
   {
    "duration": 63,
    "start_time": "2022-11-02T08:47:37.049Z"
   },
   {
    "duration": 74,
    "start_time": "2022-11-02T08:48:06.156Z"
   },
   {
    "duration": 59,
    "start_time": "2022-11-02T08:48:17.359Z"
   },
   {
    "duration": 59,
    "start_time": "2022-11-02T08:48:23.395Z"
   },
   {
    "duration": 4,
    "start_time": "2022-11-02T08:48:28.550Z"
   },
   {
    "duration": 58,
    "start_time": "2022-11-02T08:48:34.695Z"
   },
   {
    "duration": 4,
    "start_time": "2022-11-02T08:48:36.624Z"
   },
   {
    "duration": 6,
    "start_time": "2022-11-02T08:53:17.215Z"
   },
   {
    "duration": 12,
    "start_time": "2022-11-02T08:53:19.435Z"
   },
   {
    "duration": 34,
    "start_time": "2022-11-02T08:55:13.585Z"
   },
   {
    "duration": 6,
    "start_time": "2022-11-02T08:57:56.354Z"
   },
   {
    "duration": 6,
    "start_time": "2022-11-02T08:57:58.299Z"
   },
   {
    "duration": 6,
    "start_time": "2022-11-02T08:58:18.275Z"
   },
   {
    "duration": 3,
    "start_time": "2022-11-02T08:58:20.952Z"
   },
   {
    "duration": 3,
    "start_time": "2022-11-02T08:58:31.629Z"
   },
   {
    "duration": 62,
    "start_time": "2022-11-02T08:58:33.495Z"
   },
   {
    "duration": 62,
    "start_time": "2022-11-02T08:59:13.609Z"
   },
   {
    "duration": 59,
    "start_time": "2022-11-02T08:59:45.359Z"
   },
   {
    "duration": 3,
    "start_time": "2022-11-02T09:00:04.316Z"
   },
   {
    "duration": 13164,
    "start_time": "2022-11-02T09:00:11.720Z"
   },
   {
    "duration": 13138,
    "start_time": "2022-11-02T09:01:19.262Z"
   },
   {
    "duration": 7,
    "start_time": "2022-11-02T09:03:20.117Z"
   },
   {
    "duration": 8,
    "start_time": "2022-11-02T09:10:13.981Z"
   },
   {
    "duration": 13,
    "start_time": "2022-11-02T09:15:24.474Z"
   },
   {
    "duration": 7,
    "start_time": "2022-11-02T09:15:33.242Z"
   },
   {
    "duration": 25,
    "start_time": "2022-11-02T09:16:51.663Z"
   },
   {
    "duration": 20,
    "start_time": "2022-11-02T09:16:57.107Z"
   },
   {
    "duration": 19,
    "start_time": "2022-11-02T09:17:06.366Z"
   },
   {
    "duration": 35,
    "start_time": "2022-11-02T09:17:13.216Z"
   },
   {
    "duration": 27,
    "start_time": "2022-11-02T09:23:10.003Z"
   },
   {
    "duration": 25,
    "start_time": "2022-11-02T09:23:15.421Z"
   },
   {
    "duration": 62,
    "start_time": "2022-11-02T09:27:58.301Z"
   },
   {
    "duration": 391,
    "start_time": "2022-11-02T09:50:20.573Z"
   },
   {
    "duration": 65,
    "start_time": "2022-11-02T09:50:20.966Z"
   },
   {
    "duration": 20,
    "start_time": "2022-11-02T09:50:21.033Z"
   },
   {
    "duration": 1254,
    "start_time": "2022-11-02T09:50:21.055Z"
   },
   {
    "duration": 5,
    "start_time": "2022-11-02T09:50:22.311Z"
   },
   {
    "duration": 18,
    "start_time": "2022-11-02T09:50:22.318Z"
   },
   {
    "duration": 21,
    "start_time": "2022-11-02T09:50:22.338Z"
   },
   {
    "duration": 21,
    "start_time": "2022-11-02T09:50:22.361Z"
   },
   {
    "duration": 44,
    "start_time": "2022-11-02T09:50:22.383Z"
   },
   {
    "duration": 62,
    "start_time": "2022-11-02T09:50:22.429Z"
   },
   {
    "duration": 10,
    "start_time": "2022-11-02T09:50:22.493Z"
   },
   {
    "duration": 13660,
    "start_time": "2022-11-02T09:50:22.505Z"
   },
   {
    "duration": 2,
    "start_time": "2022-11-02T09:50:36.167Z"
   },
   {
    "duration": 40,
    "start_time": "2022-11-02T09:50:36.170Z"
   },
   {
    "duration": 6,
    "start_time": "2022-11-02T09:50:36.212Z"
   },
   {
    "duration": 11,
    "start_time": "2022-11-02T09:50:36.223Z"
   },
   {
    "duration": 6,
    "start_time": "2022-11-02T09:50:36.235Z"
   },
   {
    "duration": 157,
    "start_time": "2022-11-03T03:33:04.108Z"
   },
   {
    "duration": 1045,
    "start_time": "2022-11-03T03:33:35.813Z"
   },
   {
    "duration": 89,
    "start_time": "2022-11-03T03:34:14.522Z"
   },
   {
    "duration": 119,
    "start_time": "2022-11-03T03:34:20.810Z"
   },
   {
    "duration": 17,
    "start_time": "2022-11-03T03:34:21.807Z"
   },
   {
    "duration": 11,
    "start_time": "2022-11-03T03:34:22.701Z"
   },
   {
    "duration": 9,
    "start_time": "2022-11-03T03:36:52.198Z"
   },
   {
    "duration": 4,
    "start_time": "2022-11-03T03:37:32.398Z"
   },
   {
    "duration": 5,
    "start_time": "2022-11-03T03:37:48.675Z"
   },
   {
    "duration": 11,
    "start_time": "2022-11-03T03:38:21.030Z"
   },
   {
    "duration": 5,
    "start_time": "2022-11-03T03:38:36.695Z"
   },
   {
    "duration": 99,
    "start_time": "2022-11-03T03:46:52.306Z"
   },
   {
    "duration": 13,
    "start_time": "2022-11-03T03:57:57.861Z"
   },
   {
    "duration": 8,
    "start_time": "2022-11-03T03:58:07.751Z"
   },
   {
    "duration": 16,
    "start_time": "2022-11-03T04:03:29.339Z"
   },
   {
    "duration": 10,
    "start_time": "2022-11-03T04:09:07.604Z"
   },
   {
    "duration": 6,
    "start_time": "2022-11-03T04:09:11.123Z"
   },
   {
    "duration": 66,
    "start_time": "2022-11-03T04:09:13.238Z"
   },
   {
    "duration": 11818,
    "start_time": "2022-11-03T04:09:27.085Z"
   },
   {
    "duration": 4,
    "start_time": "2022-11-03T04:09:38.905Z"
   },
   {
    "duration": 29,
    "start_time": "2022-11-03T04:09:40.838Z"
   },
   {
    "duration": 16,
    "start_time": "2022-11-03T04:09:41.573Z"
   },
   {
    "duration": 9,
    "start_time": "2022-11-03T04:09:42.204Z"
   },
   {
    "duration": 6,
    "start_time": "2022-11-03T04:09:42.665Z"
   },
   {
    "duration": 5,
    "start_time": "2022-11-03T04:09:43.205Z"
   },
   {
    "duration": 2,
    "start_time": "2022-11-03T04:09:47.228Z"
   },
   {
    "duration": 17,
    "start_time": "2022-11-03T04:09:48.258Z"
   },
   {
    "duration": 11,
    "start_time": "2022-11-03T04:09:49.442Z"
   },
   {
    "duration": 6,
    "start_time": "2022-11-03T04:09:53.305Z"
   },
   {
    "duration": 61,
    "start_time": "2022-11-03T04:09:57.053Z"
   },
   {
    "duration": 11911,
    "start_time": "2022-11-03T04:10:06.428Z"
   },
   {
    "duration": 32164,
    "start_time": "2022-11-03T04:10:40.878Z"
   },
   {
    "duration": 32425,
    "start_time": "2022-11-03T04:12:10.431Z"
   },
   {
    "duration": 9,
    "start_time": "2022-11-03T04:12:50.346Z"
   },
   {
    "duration": 2,
    "start_time": "2022-11-03T04:13:26.992Z"
   },
   {
    "duration": 38,
    "start_time": "2022-11-03T04:14:41.998Z"
   },
   {
    "duration": 44,
    "start_time": "2022-11-03T04:14:50.099Z"
   },
   {
    "duration": 31937,
    "start_time": "2022-11-03T04:30:37.802Z"
   },
   {
    "duration": 8,
    "start_time": "2022-11-03T04:41:36.670Z"
   },
   {
    "duration": 8,
    "start_time": "2022-11-03T04:42:05.615Z"
   },
   {
    "duration": 3,
    "start_time": "2022-11-03T04:42:33.542Z"
   },
   {
    "duration": 2,
    "start_time": "2022-11-03T04:43:09.834Z"
   },
   {
    "duration": 3,
    "start_time": "2022-11-03T04:43:34.866Z"
   },
   {
    "duration": 16,
    "start_time": "2022-11-03T04:43:39.995Z"
   },
   {
    "duration": 4,
    "start_time": "2022-11-03T04:44:30.231Z"
   },
   {
    "duration": 3,
    "start_time": "2022-11-03T04:44:59.164Z"
   },
   {
    "duration": 17,
    "start_time": "2022-11-03T04:45:04.044Z"
   },
   {
    "duration": 3,
    "start_time": "2022-11-03T04:45:05.101Z"
   },
   {
    "duration": 11,
    "start_time": "2022-11-03T04:45:10.419Z"
   },
   {
    "duration": 3,
    "start_time": "2022-11-03T04:45:10.908Z"
   },
   {
    "duration": 334,
    "start_time": "2022-11-03T04:58:44.277Z"
   },
   {
    "duration": 56,
    "start_time": "2022-11-03T04:58:48.366Z"
   },
   {
    "duration": 8,
    "start_time": "2022-11-03T04:58:49.504Z"
   },
   {
    "duration": 3,
    "start_time": "2022-11-03T04:59:14.781Z"
   },
   {
    "duration": 55,
    "start_time": "2022-11-03T04:59:48.620Z"
   },
   {
    "duration": 53,
    "start_time": "2022-11-03T04:59:57.149Z"
   },
   {
    "duration": 3,
    "start_time": "2022-11-03T04:59:58.114Z"
   },
   {
    "duration": 8,
    "start_time": "2022-11-03T05:00:08.647Z"
   },
   {
    "duration": 121,
    "start_time": "2022-11-03T05:01:24.456Z"
   },
   {
    "duration": 110,
    "start_time": "2022-11-03T05:01:45.765Z"
   },
   {
    "duration": 93,
    "start_time": "2022-11-03T05:01:53.858Z"
   },
   {
    "duration": 102,
    "start_time": "2022-11-03T05:02:25.122Z"
   },
   {
    "duration": 121,
    "start_time": "2022-11-03T05:03:46.723Z"
   },
   {
    "duration": 137,
    "start_time": "2022-11-03T05:04:07.962Z"
   },
   {
    "duration": 105,
    "start_time": "2022-11-03T05:04:09.692Z"
   },
   {
    "duration": 99,
    "start_time": "2022-11-03T05:04:29.570Z"
   },
   {
    "duration": 109,
    "start_time": "2022-11-03T05:07:02.586Z"
   },
   {
    "duration": 102,
    "start_time": "2022-11-03T05:08:15.988Z"
   },
   {
    "duration": 108,
    "start_time": "2022-11-03T05:08:25.591Z"
   },
   {
    "duration": 99,
    "start_time": "2022-11-03T05:08:50.454Z"
   },
   {
    "duration": 110,
    "start_time": "2022-11-03T05:08:59.834Z"
   },
   {
    "duration": 112,
    "start_time": "2022-11-03T05:09:57.763Z"
   },
   {
    "duration": 135,
    "start_time": "2022-11-03T05:10:11.600Z"
   },
   {
    "duration": 92,
    "start_time": "2022-11-03T05:10:53.957Z"
   },
   {
    "duration": 119,
    "start_time": "2022-11-03T05:11:09.043Z"
   },
   {
    "duration": 195,
    "start_time": "2022-11-03T05:12:04.981Z"
   },
   {
    "duration": 101,
    "start_time": "2022-11-03T05:12:16.715Z"
   },
   {
    "duration": 125,
    "start_time": "2022-11-03T05:12:30.439Z"
   },
   {
    "duration": 104,
    "start_time": "2022-11-03T05:12:52.011Z"
   },
   {
    "duration": 113,
    "start_time": "2022-11-03T05:13:26.550Z"
   },
   {
    "duration": 99,
    "start_time": "2022-11-03T05:14:33.124Z"
   },
   {
    "duration": 107,
    "start_time": "2022-11-03T05:14:43.839Z"
   },
   {
    "duration": 111,
    "start_time": "2022-11-03T05:15:29.245Z"
   },
   {
    "duration": 116,
    "start_time": "2022-11-03T05:18:19.897Z"
   },
   {
    "duration": 110,
    "start_time": "2022-11-03T05:18:27.661Z"
   },
   {
    "duration": 104,
    "start_time": "2022-11-03T05:19:39.264Z"
   },
   {
    "duration": 113,
    "start_time": "2022-11-03T05:19:45.814Z"
   },
   {
    "duration": 110,
    "start_time": "2022-11-03T05:20:51.728Z"
   },
   {
    "duration": 118,
    "start_time": "2022-11-03T05:21:08.044Z"
   },
   {
    "duration": 163,
    "start_time": "2022-11-03T05:21:35.748Z"
   },
   {
    "duration": 266,
    "start_time": "2022-11-03T05:21:44.012Z"
   },
   {
    "duration": 48,
    "start_time": "2022-11-03T05:22:00.679Z"
   },
   {
    "duration": 130,
    "start_time": "2022-11-03T05:22:07.629Z"
   },
   {
    "duration": 137,
    "start_time": "2022-11-03T05:22:14.619Z"
   },
   {
    "duration": 129,
    "start_time": "2022-11-03T05:22:21.074Z"
   },
   {
    "duration": 160,
    "start_time": "2022-11-03T05:22:28.882Z"
   },
   {
    "duration": 127,
    "start_time": "2022-11-03T05:22:33.802Z"
   },
   {
    "duration": 125,
    "start_time": "2022-11-03T05:22:42.540Z"
   },
   {
    "duration": 162,
    "start_time": "2022-11-03T05:22:51.417Z"
   },
   {
    "duration": 144,
    "start_time": "2022-11-03T05:23:10.353Z"
   },
   {
    "duration": 122,
    "start_time": "2022-11-03T05:23:21.009Z"
   },
   {
    "duration": 138,
    "start_time": "2022-11-03T05:23:21.821Z"
   },
   {
    "duration": 117,
    "start_time": "2022-11-03T05:25:15.368Z"
   },
   {
    "duration": 115,
    "start_time": "2022-11-03T05:25:20.127Z"
   },
   {
    "duration": 136,
    "start_time": "2022-11-03T05:26:46.413Z"
   },
   {
    "duration": 130,
    "start_time": "2022-11-03T05:26:51.907Z"
   },
   {
    "duration": 100,
    "start_time": "2022-11-03T05:27:01.453Z"
   },
   {
    "duration": 134,
    "start_time": "2022-11-03T05:27:02.194Z"
   },
   {
    "duration": 68,
    "start_time": "2022-11-03T05:27:19.705Z"
   },
   {
    "duration": 144,
    "start_time": "2022-11-03T05:27:20.989Z"
   },
   {
    "duration": 121,
    "start_time": "2022-11-03T05:27:35.111Z"
   },
   {
    "duration": 77,
    "start_time": "2022-11-03T05:27:48.003Z"
   },
   {
    "duration": 128,
    "start_time": "2022-11-03T05:27:49.165Z"
   },
   {
    "duration": 45,
    "start_time": "2022-11-03T12:06:23.928Z"
   },
   {
    "duration": 1036,
    "start_time": "2022-11-03T12:06:30.877Z"
   },
   {
    "duration": 181,
    "start_time": "2022-11-03T12:06:31.915Z"
   },
   {
    "duration": 26,
    "start_time": "2022-11-03T12:06:32.762Z"
   },
   {
    "duration": 12,
    "start_time": "2022-11-03T12:06:33.410Z"
   },
   {
    "duration": 4,
    "start_time": "2022-11-03T12:06:33.780Z"
   },
   {
    "duration": 5,
    "start_time": "2022-11-03T12:06:34.592Z"
   },
   {
    "duration": 3,
    "start_time": "2022-11-03T12:06:41.311Z"
   },
   {
    "duration": 3,
    "start_time": "2022-11-03T12:06:42.394Z"
   },
   {
    "duration": 27,
    "start_time": "2022-11-03T12:06:42.821Z"
   },
   {
    "duration": 4,
    "start_time": "2022-11-03T12:06:43.179Z"
   },
   {
    "duration": 9,
    "start_time": "2022-11-03T12:06:43.880Z"
   },
   {
    "duration": 3,
    "start_time": "2022-11-03T12:06:44.204Z"
   },
   {
    "duration": 5,
    "start_time": "2022-11-03T12:06:45.963Z"
   },
   {
    "duration": 75,
    "start_time": "2022-11-03T12:06:48.423Z"
   },
   {
    "duration": 508,
    "start_time": "2022-11-03T12:06:50.342Z"
   },
   {
    "duration": 31339,
    "start_time": "2022-11-03T12:07:23.064Z"
   },
   {
    "duration": 34,
    "start_time": "2022-11-03T12:08:07.500Z"
   },
   {
    "duration": 13,
    "start_time": "2022-11-03T12:08:12.801Z"
   },
   {
    "duration": 74,
    "start_time": "2022-11-03T12:27:26.764Z"
   },
   {
    "duration": 4,
    "start_time": "2022-11-03T12:35:38.004Z"
   },
   {
    "duration": 40,
    "start_time": "2022-11-03T12:35:39.238Z"
   },
   {
    "duration": 21,
    "start_time": "2022-11-03T12:35:39.478Z"
   },
   {
    "duration": 13,
    "start_time": "2022-11-03T12:35:39.987Z"
   },
   {
    "duration": 4,
    "start_time": "2022-11-03T12:35:40.256Z"
   },
   {
    "duration": 6,
    "start_time": "2022-11-03T12:35:40.444Z"
   },
   {
    "duration": 2,
    "start_time": "2022-11-03T12:35:42.568Z"
   },
   {
    "duration": 4,
    "start_time": "2022-11-03T12:35:42.821Z"
   },
   {
    "duration": 20,
    "start_time": "2022-11-03T12:35:43.215Z"
   },
   {
    "duration": 4,
    "start_time": "2022-11-03T12:35:43.501Z"
   },
   {
    "duration": 11,
    "start_time": "2022-11-03T12:35:44.048Z"
   },
   {
    "duration": 9,
    "start_time": "2022-11-03T12:35:44.287Z"
   },
   {
    "duration": 7,
    "start_time": "2022-11-03T12:35:47.042Z"
   },
   {
    "duration": 235,
    "start_time": "2022-11-03T12:35:48.363Z"
   },
   {
    "duration": 380,
    "start_time": "2022-11-03T12:35:48.743Z"
   },
   {
    "duration": 70677,
    "start_time": "2022-11-03T12:35:51.225Z"
   },
   {
    "duration": 88,
    "start_time": "2022-11-03T12:37:01.904Z"
   },
   {
    "duration": 83,
    "start_time": "2022-11-03T12:37:01.994Z"
   },
   {
    "duration": 262651,
    "start_time": "2022-11-03T12:38:01.284Z"
   },
   {
    "duration": 4,
    "start_time": "2022-11-03T12:43:43.722Z"
   },
   {
    "duration": 74,
    "start_time": "2022-11-03T12:46:43.147Z"
   },
   {
    "duration": 69,
    "start_time": "2022-11-03T12:47:06.971Z"
   },
   {
    "duration": 33,
    "start_time": "2022-11-03T12:47:28.615Z"
   },
   {
    "duration": 34,
    "start_time": "2022-11-03T12:48:38.135Z"
   },
   {
    "duration": 33,
    "start_time": "2022-11-03T12:53:35.670Z"
   }
  ],
  "kernelspec": {
   "display_name": "Python 3 (ipykernel)",
   "language": "python",
   "name": "python3"
  },
  "language_info": {
   "codemirror_mode": {
    "name": "ipython",
    "version": 3
   },
   "file_extension": ".py",
   "mimetype": "text/x-python",
   "name": "python",
   "nbconvert_exporter": "python",
   "pygments_lexer": "ipython3",
   "version": "3.9.12"
  },
  "toc": {
   "base_numbering": 1,
   "nav_menu": {},
   "number_sections": true,
   "sideBar": true,
   "skip_h1_title": true,
   "title_cell": "Table of Contents",
   "title_sidebar": "Contents",
   "toc_cell": false,
   "toc_position": {},
   "toc_section_display": true,
   "toc_window_display": false
  }
 },
 "nbformat": 4,
 "nbformat_minor": 2
}
