{
 "cells": [
  {
   "cell_type": "markdown",
   "metadata": {
    "toc": true
   },
   "source": [
    "<h1>Содержание<span class=\"tocSkip\"></span></h1>\n",
    "<div class=\"toc\"><ul class=\"toc-item\"><li><span><a href=\"#Подготовка\" data-toc-modified-id=\"Подготовка-1\"><span class=\"toc-item-num\">1&nbsp;&nbsp;</span>Подготовка</a></span></li><li><span><a href=\"#Обучение\" data-toc-modified-id=\"Обучение-2\"><span class=\"toc-item-num\">2&nbsp;&nbsp;</span>Обучение</a></span><ul class=\"toc-item\"><li><span><a href=\"#Функция-для-поиска-лучшей-модели\" data-toc-modified-id=\"Функция-для-поиска-лучшей-модели-2.1\"><span class=\"toc-item-num\">2.1&nbsp;&nbsp;</span>Функция для поиска лучшей модели</a></span></li><li><span><a href=\"#Модель-дерева\" data-toc-modified-id=\"Модель-дерева-2.2\"><span class=\"toc-item-num\">2.2&nbsp;&nbsp;</span>Модель дерева</a></span></li><li><span><a href=\"#Модель-логистической-регрессии\" data-toc-modified-id=\"Модель-логистической-регрессии-2.3\"><span class=\"toc-item-num\">2.3&nbsp;&nbsp;</span>Модель логистической регрессии</a></span></li><li><span><a href=\"#Модель-CatBoost\" data-toc-modified-id=\"Модель-CatBoost-2.4\"><span class=\"toc-item-num\">2.4&nbsp;&nbsp;</span>Модель CatBoost</a></span></li></ul></li><li><span><a href=\"#Тестирование-модели\" data-toc-modified-id=\"Тестирование-модели-3\"><span class=\"toc-item-num\">3&nbsp;&nbsp;</span>Тестирование модели</a></span></li><li><span><a href=\"#Выводы\" data-toc-modified-id=\"Выводы-4\"><span class=\"toc-item-num\">4&nbsp;&nbsp;</span>Выводы</a></span></li><li><span><a href=\"#Чек-лист-проверки\" data-toc-modified-id=\"Чек-лист-проверки-5\"><span class=\"toc-item-num\">5&nbsp;&nbsp;</span>Чек-лист проверки</a></span></li></ul></div>"
   ]
  },
  {
   "cell_type": "markdown",
   "metadata": {},
   "source": [
    "# Проект для «Викишоп»"
   ]
  },
  {
   "cell_type": "markdown",
   "metadata": {},
   "source": [
    "Интернет-магазин «Викишоп» запускает новый сервис. Теперь пользователи могут редактировать и дополнять описания товаров, как в вики-сообществах. То есть клиенты предлагают свои правки и комментируют изменения других. Магазину нужен инструмент, который будет искать токсичные комментарии и отправлять их на модерацию. \n",
    "\n",
    "Обучите модель классифицировать комментарии на позитивные и негативные. В вашем распоряжении набор данных с разметкой о токсичности правок.\n",
    "\n",
    "Постройте модель со значением метрики качества *F1* не меньше 0.75. \n",
    "\n",
    "**Инструкция по выполнению проекта**\n",
    "\n",
    "1. Загрузите и подготовьте данные.\n",
    "2. Обучите разные модели. \n",
    "3. Сделайте выводы.\n",
    "\n",
    "Для выполнения проекта применять *BERT* необязательно, но вы можете попробовать.\n",
    "\n",
    "**Описание данных**\n",
    "\n",
    "Данные находятся в файле `toxic_comments.csv`. Столбец *text* в нём содержит текст комментария, а *toxic* — целевой признак."
   ]
  },
  {
   "cell_type": "markdown",
   "metadata": {},
   "source": [
    "## Подготовка"
   ]
  },
  {
   "cell_type": "code",
   "execution_count": 1,
   "metadata": {},
   "outputs": [
    {
     "name": "stdout",
     "output_type": "stream",
     "text": [
      "Requirement already satisfied: catboost in /opt/conda/lib/python3.9/site-packages (1.0.3)\n",
      "Requirement already satisfied: numpy>=1.16.0 in /opt/conda/lib/python3.9/site-packages (from catboost) (1.21.1)\n",
      "Requirement already satisfied: plotly in /opt/conda/lib/python3.9/site-packages (from catboost) (5.4.0)\n",
      "Requirement already satisfied: matplotlib in /opt/conda/lib/python3.9/site-packages (from catboost) (3.3.4)\n",
      "Requirement already satisfied: six in /opt/conda/lib/python3.9/site-packages (from catboost) (1.16.0)\n",
      "Requirement already satisfied: scipy in /opt/conda/lib/python3.9/site-packages (from catboost) (1.9.1)\n",
      "Requirement already satisfied: graphviz in /opt/conda/lib/python3.9/site-packages (from catboost) (0.20.1)\n",
      "Requirement already satisfied: pandas>=0.24.0 in /opt/conda/lib/python3.9/site-packages (from catboost) (1.2.4)\n",
      "Requirement already satisfied: python-dateutil>=2.7.3 in /opt/conda/lib/python3.9/site-packages (from pandas>=0.24.0->catboost) (2.8.1)\n",
      "Requirement already satisfied: pytz>=2017.3 in /opt/conda/lib/python3.9/site-packages (from pandas>=0.24.0->catboost) (2021.1)\n",
      "Requirement already satisfied: pillow>=6.2.0 in /opt/conda/lib/python3.9/site-packages (from matplotlib->catboost) (8.4.0)\n",
      "Requirement already satisfied: pyparsing!=2.0.4,!=2.1.2,!=2.1.6,>=2.0.3 in /opt/conda/lib/python3.9/site-packages (from matplotlib->catboost) (2.4.7)\n",
      "Requirement already satisfied: cycler>=0.10 in /opt/conda/lib/python3.9/site-packages (from matplotlib->catboost) (0.11.0)\n",
      "Requirement already satisfied: kiwisolver>=1.0.1 in /opt/conda/lib/python3.9/site-packages (from matplotlib->catboost) (1.4.4)\n",
      "Requirement already satisfied: tenacity>=6.2.0 in /opt/conda/lib/python3.9/site-packages (from plotly->catboost) (8.0.1)\n",
      "Note: you may need to restart the kernel to use updated packages.\n"
     ]
    }
   ],
   "source": [
    "pip install catboost"
   ]
  },
  {
   "cell_type": "code",
   "execution_count": 75,
   "metadata": {},
   "outputs": [],
   "source": [
    "import pandas as pd \n",
    "import numpy as np \n",
    "import nltk\n",
    "import re\n",
    "\n",
    "from nltk.corpus import stopwords as nltk_stopwords\n",
    "from nltk.corpus import wordnet\n",
    "from nltk.tokenize import word_tokenize\n",
    "from nltk.stem import WordNetLemmatizer\n",
    "\n",
    "from sklearn.feature_extraction.text import (\n",
    "    TfidfVectorizer,\n",
    "    CountVectorizer\n",
    ") \n",
    "\n",
    "from sklearn.model_selection import (\n",
    "    GridSearchCV,\n",
    "    train_test_split\n",
    ") \n",
    "\n",
    "from catboost import CatBoostClassifier\n",
    "from sklearn.linear_model import LogisticRegression\n",
    "from sklearn.tree import DecisionTreeClassifier\n",
    "\n",
    "from sklearn.metrics import f1_score\n",
    "\n",
    "import warnings\n",
    "warnings.filterwarnings(\"ignore\")"
   ]
  },
  {
   "cell_type": "code",
   "execution_count": 76,
   "metadata": {},
   "outputs": [],
   "source": [
    "try:\n",
    "    data = pd.read_csv('/Users/a1/Documents/DataScientist/DataSets/toxic_comments.csv')\n",
    "except:\n",
    "    data = pd.read_csv('/datasets/toxic_comments.csv')"
   ]
  },
  {
   "cell_type": "code",
   "execution_count": 77,
   "metadata": {},
   "outputs": [
    {
     "name": "stdout",
     "output_type": "stream",
     "text": [
      "<class 'pandas.core.frame.DataFrame'>\n",
      "RangeIndex: 159292 entries, 0 to 159291\n",
      "Data columns (total 3 columns):\n",
      " #   Column      Non-Null Count   Dtype \n",
      "---  ------      --------------   ----- \n",
      " 0   Unnamed: 0  159292 non-null  int64 \n",
      " 1   text        159292 non-null  object\n",
      " 2   toxic       159292 non-null  int64 \n",
      "dtypes: int64(2), object(1)\n",
      "memory usage: 3.6+ MB\n"
     ]
    }
   ],
   "source": [
    "data.info()"
   ]
  },
  {
   "cell_type": "code",
   "execution_count": 78,
   "metadata": {},
   "outputs": [
    {
     "data": {
      "text/html": [
       "<div>\n",
       "<style scoped>\n",
       "    .dataframe tbody tr th:only-of-type {\n",
       "        vertical-align: middle;\n",
       "    }\n",
       "\n",
       "    .dataframe tbody tr th {\n",
       "        vertical-align: top;\n",
       "    }\n",
       "\n",
       "    .dataframe thead th {\n",
       "        text-align: right;\n",
       "    }\n",
       "</style>\n",
       "<table border=\"1\" class=\"dataframe\">\n",
       "  <thead>\n",
       "    <tr style=\"text-align: right;\">\n",
       "      <th></th>\n",
       "      <th>Unnamed: 0</th>\n",
       "      <th>text</th>\n",
       "      <th>toxic</th>\n",
       "    </tr>\n",
       "  </thead>\n",
       "  <tbody>\n",
       "    <tr>\n",
       "      <th>0</th>\n",
       "      <td>0</td>\n",
       "      <td>Explanation\\nWhy the edits made under my usern...</td>\n",
       "      <td>0</td>\n",
       "    </tr>\n",
       "    <tr>\n",
       "      <th>1</th>\n",
       "      <td>1</td>\n",
       "      <td>D'aww! He matches this background colour I'm s...</td>\n",
       "      <td>0</td>\n",
       "    </tr>\n",
       "    <tr>\n",
       "      <th>2</th>\n",
       "      <td>2</td>\n",
       "      <td>Hey man, I'm really not trying to edit war. It...</td>\n",
       "      <td>0</td>\n",
       "    </tr>\n",
       "    <tr>\n",
       "      <th>3</th>\n",
       "      <td>3</td>\n",
       "      <td>\"\\nMore\\nI can't make any real suggestions on ...</td>\n",
       "      <td>0</td>\n",
       "    </tr>\n",
       "    <tr>\n",
       "      <th>4</th>\n",
       "      <td>4</td>\n",
       "      <td>You, sir, are my hero. Any chance you remember...</td>\n",
       "      <td>0</td>\n",
       "    </tr>\n",
       "  </tbody>\n",
       "</table>\n",
       "</div>"
      ],
      "text/plain": [
       "   Unnamed: 0                                               text  toxic\n",
       "0           0  Explanation\\nWhy the edits made under my usern...      0\n",
       "1           1  D'aww! He matches this background colour I'm s...      0\n",
       "2           2  Hey man, I'm really not trying to edit war. It...      0\n",
       "3           3  \"\\nMore\\nI can't make any real suggestions on ...      0\n",
       "4           4  You, sir, are my hero. Any chance you remember...      0"
      ]
     },
     "execution_count": 78,
     "metadata": {},
     "output_type": "execute_result"
    }
   ],
   "source": [
    "data.head()"
   ]
  },
  {
   "cell_type": "code",
   "execution_count": 79,
   "metadata": {},
   "outputs": [
    {
     "data": {
      "text/html": [
       "<div>\n",
       "<style scoped>\n",
       "    .dataframe tbody tr th:only-of-type {\n",
       "        vertical-align: middle;\n",
       "    }\n",
       "\n",
       "    .dataframe tbody tr th {\n",
       "        vertical-align: top;\n",
       "    }\n",
       "\n",
       "    .dataframe thead th {\n",
       "        text-align: right;\n",
       "    }\n",
       "</style>\n",
       "<table border=\"1\" class=\"dataframe\">\n",
       "  <thead>\n",
       "    <tr style=\"text-align: right;\">\n",
       "      <th></th>\n",
       "      <th>Unnamed: 0</th>\n",
       "      <th>text</th>\n",
       "      <th>toxic</th>\n",
       "    </tr>\n",
       "  </thead>\n",
       "  <tbody>\n",
       "    <tr>\n",
       "      <th>159287</th>\n",
       "      <td>159446</td>\n",
       "      <td>\":::::And for the second time of asking, when ...</td>\n",
       "      <td>0</td>\n",
       "    </tr>\n",
       "    <tr>\n",
       "      <th>159288</th>\n",
       "      <td>159447</td>\n",
       "      <td>You should be ashamed of yourself \\n\\nThat is ...</td>\n",
       "      <td>0</td>\n",
       "    </tr>\n",
       "    <tr>\n",
       "      <th>159289</th>\n",
       "      <td>159448</td>\n",
       "      <td>Spitzer \\n\\nUmm, theres no actual article for ...</td>\n",
       "      <td>0</td>\n",
       "    </tr>\n",
       "    <tr>\n",
       "      <th>159290</th>\n",
       "      <td>159449</td>\n",
       "      <td>And it looks like it was actually you who put ...</td>\n",
       "      <td>0</td>\n",
       "    </tr>\n",
       "    <tr>\n",
       "      <th>159291</th>\n",
       "      <td>159450</td>\n",
       "      <td>\"\\nAnd ... I really don't think you understand...</td>\n",
       "      <td>0</td>\n",
       "    </tr>\n",
       "  </tbody>\n",
       "</table>\n",
       "</div>"
      ],
      "text/plain": [
       "        Unnamed: 0                                               text  toxic\n",
       "159287      159446  \":::::And for the second time of asking, when ...      0\n",
       "159288      159447  You should be ashamed of yourself \\n\\nThat is ...      0\n",
       "159289      159448  Spitzer \\n\\nUmm, theres no actual article for ...      0\n",
       "159290      159449  And it looks like it was actually you who put ...      0\n",
       "159291      159450  \"\\nAnd ... I really don't think you understand...      0"
      ]
     },
     "execution_count": 79,
     "metadata": {},
     "output_type": "execute_result"
    }
   ],
   "source": [
    "data.tail()"
   ]
  },
  {
   "cell_type": "markdown",
   "metadata": {},
   "source": [
    "В данных пристуствуют пробелы, символы и прочий \"муссор\" от которого нужно избавится."
   ]
  },
  {
   "cell_type": "code",
   "execution_count": 80,
   "metadata": {},
   "outputs": [
    {
     "data": {
      "text/plain": [
       "Unnamed: 0    0\n",
       "text          0\n",
       "toxic         0\n",
       "dtype: int64"
      ]
     },
     "execution_count": 80,
     "metadata": {},
     "output_type": "execute_result"
    }
   ],
   "source": [
    "data.isnull().sum()"
   ]
  },
  {
   "cell_type": "markdown",
   "metadata": {},
   "source": [
    "Удалим не информативный столбец 'Unnamed: 0':"
   ]
  },
  {
   "cell_type": "code",
   "execution_count": 81,
   "metadata": {},
   "outputs": [],
   "source": [
    "data = data.drop(['Unnamed: 0'], axis=1)"
   ]
  },
  {
   "cell_type": "code",
   "execution_count": 82,
   "metadata": {
    "scrolled": true
   },
   "outputs": [
    {
     "data": {
      "text/plain": [
       "<AxesSubplot:>"
      ]
     },
     "execution_count": 82,
     "metadata": {},
     "output_type": "execute_result"
    },
    {
     "data": {
      "image/png": "[encoded data removed]",
      "text/plain": [
       "<Figure size 432x288 with 1 Axes>"
      ]
     },
     "metadata": {
      "needs_background": "light"
     },
     "output_type": "display_data"
    }
   ],
   "source": [
    "data[\"toxic\"].hist()"
   ]
  },
  {
   "cell_type": "markdown",
   "metadata": {},
   "source": [
    "Кол-во 0 и 1 в целевом признаке разное. 1 в разы меньше."
   ]
  },
  {
   "cell_type": "markdown",
   "metadata": {},
   "source": [
    "Создадим функцию которая будет приводить текст к нижнему регистру"
   ]
  },
  {
   "cell_type": "code",
   "execution_count": 83,
   "metadata": {},
   "outputs": [],
   "source": [
    "def clear_text(text):\n",
    "    text = re.sub(r'[^a-zA-Z ]', ' ', text.lower())\n",
    "    retext = text.split() \n",
    "    text = \" \".join(retext)\n",
    "    return text"
   ]
  },
  {
   "cell_type": "markdown",
   "metadata": {},
   "source": [
    "Создадим функцию, которая будет токенизировать и лемматезировать текст"
   ]
  },
  {
   "cell_type": "code",
   "execution_count": 84,
   "metadata": {},
   "outputs": [],
   "source": [
    "def lemmetize(words):\n",
    "    lemmatizer = WordNetLemmatizer()\n",
    "    # список для заполнения\n",
    "    text = [] \n",
    "    # токенизация\n",
    "    tokens = word_tokenize(words)\n",
    "    # лемматизация\n",
    "    for token in tokens: \n",
    "        lemmetized_word = lemmatizer.lemmatize(token) \n",
    "        text.append(lemmetized_word)\n",
    "    # объединение   \n",
    "    sentence = \" \".join(text) \n",
    "    return sentence"
   ]
  },
  {
   "cell_type": "markdown",
   "metadata": {},
   "source": [
    "Загрузим список стоп-слов:"
   ]
  },
  {
   "cell_type": "code",
   "execution_count": 85,
   "metadata": {},
   "outputs": [
    {
     "name": "stderr",
     "output_type": "stream",
     "text": [
      "[nltk_data] Downloading package punkt to /home/jovyan/nltk_data...\n",
      "[nltk_data]   Package punkt is already up-to-date!\n",
      "[nltk_data] Downloading package wordnet to /home/jovyan/nltk_data...\n",
      "[nltk_data]   Package wordnet is already up-to-date!\n",
      "[nltk_data] Downloading package stopwords to /home/jovyan/nltk_data...\n",
      "[nltk_data]   Package stopwords is already up-to-date!\n"
     ]
    },
    {
     "data": {
      "text/plain": [
       "True"
      ]
     },
     "execution_count": 85,
     "metadata": {},
     "output_type": "execute_result"
    }
   ],
   "source": [
    "nltk.download('punkt')\n",
    "nltk.download('wordnet')\n",
    "nltk.download('stopwords')"
   ]
  },
  {
   "cell_type": "code",
   "execution_count": 86,
   "metadata": {},
   "outputs": [],
   "source": [
    "stopwords = set(nltk_stopwords.words('english'))"
   ]
  },
  {
   "cell_type": "code",
   "execution_count": 87,
   "metadata": {},
   "outputs": [
    {
     "data": {
      "text/plain": [
       "179"
      ]
     },
     "execution_count": 87,
     "metadata": {},
     "output_type": "execute_result"
    }
   ],
   "source": [
    "len(stopwords)"
   ]
  },
  {
   "cell_type": "markdown",
   "metadata": {},
   "source": [
    "Обработка исходных данных:"
   ]
  },
  {
   "cell_type": "markdown",
   "metadata": {},
   "source": [
    "Создаим кпоию данных и применим созданные ранее функции"
   ]
  },
  {
   "cell_type": "code",
   "execution_count": 88,
   "metadata": {},
   "outputs": [],
   "source": [
    "data_lem = data.copy()"
   ]
  },
  {
   "cell_type": "code",
   "execution_count": 89,
   "metadata": {},
   "outputs": [],
   "source": [
    "data_lem['lemm_text'] = data_lem['text'].apply(clear_text)\n",
    "data_lem['lemm_text'] = data_lem['lemm_text'].apply(lemmetize)"
   ]
  },
  {
   "cell_type": "code",
   "execution_count": 90,
   "metadata": {},
   "outputs": [
    {
     "data": {
      "text/plain": [
       "0         explanation why the edits made under my userna...\n",
       "1         d aww he match this background colour i m seem...\n",
       "2         hey man i m really not trying to edit war it s...\n",
       "3         more i can t make any real suggestion on impro...\n",
       "4         you sir are my hero any chance you remember wh...\n",
       "                                ...                        \n",
       "159287    and for the second time of asking when your vi...\n",
       "159288    you should be ashamed of yourself that is a ho...\n",
       "159289    spitzer umm there no actual article for prosti...\n",
       "159290    and it look like it wa actually you who put on...\n",
       "159291    and i really don t think you understand i came...\n",
       "Name: lemm_text, Length: 159292, dtype: object"
      ]
     },
     "execution_count": 90,
     "metadata": {},
     "output_type": "execute_result"
    }
   ],
   "source": [
    "# check\n",
    "data_lem['lemm_text']"
   ]
  },
  {
   "cell_type": "markdown",
   "metadata": {},
   "source": [
    "Выделим целевой признак и признаки"
   ]
  },
  {
   "cell_type": "code",
   "execution_count": 98,
   "metadata": {},
   "outputs": [],
   "source": [
    "features = data_lem.drop('toxic', axis=1)\n",
    "train = data_lem['toxic']"
   ]
  },
  {
   "cell_type": "markdown",
   "metadata": {},
   "source": [
    "Разделим выборки"
   ]
  },
  {
   "cell_type": "code",
   "execution_count": 101,
   "metadata": {},
   "outputs": [],
   "source": [
    "features_train, features_test, target_train, target_test = train_test_split(\n",
    "    features,\n",
    "    train,\n",
    "    test_size=0.2,\n",
    "    random_state=12345,\n",
    "    stratify=train\n",
    ")"
   ]
  },
  {
   "cell_type": "markdown",
   "metadata": {},
   "source": [
    "Создадим корпусы"
   ]
  },
  {
   "cell_type": "code",
   "execution_count": 102,
   "metadata": {},
   "outputs": [],
   "source": [
    "corpus_train = features_train['lemm_text']\n",
    "corpus_test = features_test['lemm_text']"
   ]
  },
  {
   "cell_type": "code",
   "execution_count": 103,
   "metadata": {},
   "outputs": [
    {
     "data": {
      "text/plain": [
       "4627      i don t mean to intrude but i have noticed the...\n",
       "23542     god or whoever whatever i now decree you the c...\n",
       "128384    can we keep this neat and sequential we have a...\n",
       "31111     here s what you said may rama blocked expires ...\n",
       "41207     sir giggsy ha often said that he like to keep ...\n",
       "                                ...                        \n",
       "54715     indeed bigdunc that page rightly say that para...\n",
       "75564     i m not trying to make a point or anything exc...\n",
       "71196     forgive my cruddy formattingi m still relative...\n",
       "55751     talk grasshopper scout i moved your comment fr...\n",
       "11543                                  oppose wp commonname\n",
       "Name: lemm_text, Length: 127433, dtype: object"
      ]
     },
     "execution_count": 103,
     "metadata": {},
     "output_type": "execute_result"
    }
   ],
   "source": [
    "#check\n",
    "corpus_train"
   ]
  },
  {
   "cell_type": "markdown",
   "metadata": {},
   "source": [
    "При создании счётчика передадим список стоп-слов в счётчик векторов "
   ]
  },
  {
   "cell_type": "code",
   "execution_count": 104,
   "metadata": {},
   "outputs": [],
   "source": [
    "count_tf_idf = TfidfVectorizer(stop_words=stopwords)"
   ]
  },
  {
   "cell_type": "markdown",
   "metadata": {},
   "source": [
    "Чтобы посчитать TF-IDF для корпуса текстов, вызовем функцию fit_transform():"
   ]
  },
  {
   "cell_type": "code",
   "execution_count": 105,
   "metadata": {},
   "outputs": [],
   "source": [
    "tf_idf_train = count_tf_idf.fit_transform(corpus_train)\n",
    "tf_idf_test = count_tf_idf.transform(corpus_test)"
   ]
  },
  {
   "cell_type": "code",
   "execution_count": 106,
   "metadata": {},
   "outputs": [
    {
     "name": "stdout",
     "output_type": "stream",
     "text": [
      "Размер тренировочной матрицы: (127433, 138910)\n",
      "Размер тестовой матрицы: (31859, 138910)\n"
     ]
    }
   ],
   "source": [
    "#check\n",
    "print(\"Размер тренировочной матрицы:\", tf_idf_train.shape)\n",
    "print(\"Размер тестовой матрицы:\", tf_idf_test.shape)"
   ]
  },
  {
   "cell_type": "markdown",
   "metadata": {},
   "source": [
    "## Обучение"
   ]
  },
  {
   "cell_type": "markdown",
   "metadata": {},
   "source": [
    "### Функция для поиска лучшей модели"
   ]
  },
  {
   "cell_type": "code",
   "execution_count": 107,
   "metadata": {},
   "outputs": [],
   "source": [
    "# функцию для подбора параметров\n",
    "def train_model(model, parameters):   \n",
    "    gbm = GridSearchCV(\n",
    "        estimator=model,\n",
    "        param_grid=parameters,\n",
    "        scoring='f1', \n",
    "        n_jobs=-1,\n",
    "        cv=5, \n",
    "        verbose=2\n",
    "    )\n",
    "    \n",
    "    gbm.fit(tf_idf_train, target_train)\n",
    "   \n",
    "    f1 = gbm.best_score_\n",
    "    f1_train = f1_score(target_train, gbm.predict(tf_idf_train))\n",
    "    print('Лучшие параметры модели:', gbm.best_params_)\n",
    "    print('F1 обученной модели:', f1)\n",
    "    print('F1 на тренировочной выборке:', f1_train)\n",
    "    \n",
    "    return gbm"
   ]
  },
  {
   "cell_type": "markdown",
   "metadata": {},
   "source": [
    "### Модель дерева"
   ]
  },
  {
   "cell_type": "code",
   "execution_count": 108,
   "metadata": {},
   "outputs": [
    {
     "name": "stdout",
     "output_type": "stream",
     "text": [
      "Fitting 4 folds for each of 6 candidates, totalling 24 fits\n",
      "[CV] END .......................................max_depth=50; total time=  25.2s\n",
      "[CV] END .......................................max_depth=50; total time=  25.4s\n",
      "[CV] END .......................................max_depth=50; total time=  24.7s\n",
      "[CV] END .......................................max_depth=50; total time=  25.0s\n",
      "[CV] END .......................................max_depth=51; total time=  25.7s\n",
      "[CV] END .......................................max_depth=51; total time=  25.6s\n",
      "[CV] END .......................................max_depth=51; total time=  25.2s\n",
      "[CV] END .......................................max_depth=51; total time=  25.0s\n",
      "[CV] END .......................................max_depth=52; total time=  26.5s\n",
      "[CV] END .......................................max_depth=52; total time=  25.8s\n",
      "[CV] END .......................................max_depth=52; total time=  26.2s\n",
      "[CV] END .......................................max_depth=52; total time=  25.5s\n",
      "[CV] END .......................................max_depth=53; total time=  26.4s\n",
      "[CV] END .......................................max_depth=53; total time=  26.4s\n",
      "[CV] END .......................................max_depth=53; total time=  25.9s\n",
      "[CV] END .......................................max_depth=53; total time=  26.0s\n",
      "[CV] END .......................................max_depth=54; total time=  26.6s\n",
      "[CV] END .......................................max_depth=54; total time=  27.0s\n",
      "[CV] END .......................................max_depth=54; total time=  26.5s\n",
      "[CV] END .......................................max_depth=54; total time=  26.7s\n",
      "[CV] END .......................................max_depth=55; total time=  27.0s\n",
      "[CV] END .......................................max_depth=55; total time=  27.2s\n",
      "[CV] END .......................................max_depth=55; total time=  27.2s\n",
      "[CV] END .......................................max_depth=55; total time=  26.7s\n",
      "RandomizedSearchCV подбирал параметры 653.69 секунд\n",
      "Лучшие параметры: {'max_depth': 52}\n",
      "F1 обученной модели: 0.704221506331654\n",
      "F1 на тренировочной выборке: 0.8167310752443737\n"
     ]
    }
   ],
   "source": [
    "model_tree = DecisionTreeClassifier()\n",
    "\n",
    "params_tree = {\n",
    "    \"max_depth\": list(range(50, 56))\n",
    "}\n",
    "model_tree_best = train_model(model_tree, params_tree)"
   ]
  },
  {
   "cell_type": "markdown",
   "metadata": {},
   "source": [
    "### Модель логистической регрессии"
   ]
  },
  {
   "cell_type": "code",
   "execution_count": 111,
   "metadata": {},
   "outputs": [
    {
     "name": "stdout",
     "output_type": "stream",
     "text": [
      "Fitting 4 folds for each of 4 candidates, totalling 16 fits\n",
      "[CV] END ..................class_weight=balanced, penalty=l1; total time=   0.0s\n",
      "[CV] END ..................class_weight=balanced, penalty=l1; total time=   0.0s\n",
      "[CV] END ..................class_weight=balanced, penalty=l1; total time=   0.0s\n",
      "[CV] END ..................class_weight=balanced, penalty=l1; total time=   0.0s\n",
      "[CV] END ..................class_weight=balanced, penalty=l2; total time= 1.0min\n",
      "[CV] END ..................class_weight=balanced, penalty=l2; total time=  49.4s\n",
      "[CV] END ..................class_weight=balanced, penalty=l2; total time=  45.4s\n",
      "[CV] END ..................class_weight=balanced, penalty=l2; total time=  58.5s\n",
      "[CV] END ......................class_weight=None, penalty=l1; total time=   0.1s\n",
      "[CV] END ......................class_weight=None, penalty=l1; total time=   0.0s\n",
      "[CV] END ......................class_weight=None, penalty=l1; total time=   0.0s\n",
      "[CV] END ......................class_weight=None, penalty=l1; total time=   0.0s\n",
      "[CV] END ......................class_weight=None, penalty=l2; total time=  41.8s\n",
      "[CV] END ......................class_weight=None, penalty=l2; total time=  54.5s\n",
      "[CV] END ......................class_weight=None, penalty=l2; total time=  39.9s\n",
      "[CV] END ......................class_weight=None, penalty=l2; total time=  40.5s\n",
      "RandomizedSearchCV подбирал параметры 450.23 секунд\n",
      "Лучшие параметры: {'penalty': 'l2', 'class_weight': 'balanced'}\n",
      "F1 обученной модели: 0.7457082089350278\n",
      "F1 на тренировочной выборке: 0.8300029923197129\n"
     ]
    }
   ],
   "source": [
    "model_logreg = LogisticRegression(max_iter = 1000)\n",
    "\n",
    "params_logreg = {\n",
    "    \"penalty\": ['l1', 'l2'],\n",
    "    \"class_weight\": ['balanced', 'None']\n",
    "}\n",
    "model_logreg_best = train_model(model_logreg, params_logreg)"
   ]
  },
  {
   "cell_type": "markdown",
   "metadata": {},
   "source": [
    "### Модель CatBoost"
   ]
  },
  {
   "cell_type": "code",
   "execution_count": 112,
   "metadata": {},
   "outputs": [
    {
     "name": "stdout",
     "output_type": "stream",
     "text": [
      "Fitting 4 folds for each of 4 candidates, totalling 16 fits\n",
      "[CV] END .............................depth=3, iterations=20; total time=  38.8s\n",
      "[CV] END .............................depth=3, iterations=20; total time=  37.7s\n",
      "[CV] END .............................depth=3, iterations=20; total time=  38.2s\n",
      "[CV] END .............................depth=3, iterations=20; total time=  37.8s\n",
      "[CV] END .............................depth=3, iterations=40; total time=  52.5s\n",
      "[CV] END .............................depth=3, iterations=40; total time=  52.7s\n",
      "[CV] END .............................depth=3, iterations=40; total time=  52.7s\n",
      "[CV] END .............................depth=3, iterations=40; total time=  53.1s\n",
      "[CV] END .............................depth=6, iterations=20; total time= 1.0min\n",
      "[CV] END .............................depth=6, iterations=20; total time= 1.0min\n",
      "[CV] END .............................depth=6, iterations=20; total time= 1.0min\n",
      "[CV] END .............................depth=6, iterations=20; total time= 1.0min\n",
      "[CV] END .............................depth=6, iterations=40; total time= 1.6min\n",
      "[CV] END .............................depth=6, iterations=40; total time= 1.6min\n",
      "[CV] END .............................depth=6, iterations=40; total time= 1.6min\n",
      "[CV] END .............................depth=6, iterations=40; total time= 1.6min\n",
      "RandomizedSearchCV подбирал параметры 1135.89 секунд\n",
      "Лучшие параметры: {'iterations': 40, 'depth': 6}\n",
      "F1 обученной модели: 0.5171206092204149\n",
      "F1 на тренировочной выборке: 0.5098551547855723\n"
     ]
    }
   ],
   "source": [
    "model_catboost = CatBoostClassifier(logging_level='Silent', learning_rate = 0.04)\n",
    "\n",
    "params_catboost = {\n",
    "    'depth': [3,6],\n",
    "    'iterations' : [20, 40]\n",
    "}\n",
    "model_catboost_best = train_model(model_catboost, params_catboost)"
   ]
  },
  {
   "cell_type": "markdown",
   "metadata": {},
   "source": [
    "Лучшей результаты показала модель Логистической регрессии"
   ]
  },
  {
   "cell_type": "markdown",
   "metadata": {},
   "source": [
    "## Тестирование модели"
   ]
  },
  {
   "cell_type": "markdown",
   "metadata": {},
   "source": [
    "Лучшая модель модель Логистической регрессии:"
   ]
  },
  {
   "cell_type": "code",
   "execution_count": 113,
   "metadata": {},
   "outputs": [
    {
     "name": "stdout",
     "output_type": "stream",
     "text": [
      "F1 на тестовой выборке: 0.7521691973969632\n"
     ]
    }
   ],
   "source": [
    "f1_test_ = f1_score(target_test, model_logreg_best.predict(tf_idf_test))\n",
    "print('F1 на тестовой выборке:', f1_test_)"
   ]
  },
  {
   "cell_type": "markdown",
   "metadata": {},
   "source": [
    "## Выводы"
   ]
  },
  {
   "cell_type": "markdown",
   "metadata": {},
   "source": [
    "1. Данные загружены\n",
    "2. Проведена подготовка данных:\n",
    "   - тексты приведены к нижнему регистру,\n",
    "   - выполнена токенизация текстов,\n",
    "   - выполнена лемматизация текстов,\n",
    "   - переданы стоп-слов,\n",
    "   - данные векторизированны.\n",
    "3. Исследованы 3 модели: Дерево, Логистическая регрессия, CatBoost.\n",
    "4. Лучший результат f1 на обучающей выборке показала модель Логистической регрессия.\n",
    "5. Модель логистической регрессии проверена на тестовой выборке, результат f1=0,752."
   ]
  }
 ],
 "metadata": {
  "ExecuteTimeLog": [
   {
    "duration": 404,
    "start_time": "2023-02-08T13:11:07.450Z"
   },
   {
    "duration": 109,
    "start_time": "2023-02-08T13:11:45.677Z"
   },
   {
    "duration": 2558,
    "start_time": "2023-02-08T13:12:22.713Z"
   },
   {
    "duration": 41,
    "start_time": "2023-02-08T13:12:37.631Z"
   },
   {
    "duration": 17,
    "start_time": "2023-02-08T13:12:52.416Z"
   },
   {
    "duration": 30,
    "start_time": "2023-02-08T13:13:15.318Z"
   },
   {
    "duration": 556,
    "start_time": "2023-02-08T13:13:46.076Z"
   },
   {
    "duration": 921,
    "start_time": "2023-02-08T13:14:23.148Z"
   },
   {
    "duration": 202,
    "start_time": "2023-02-08T13:15:22.714Z"
   },
   {
    "duration": 377,
    "start_time": "2023-02-08T13:15:24.280Z"
   },
   {
    "duration": 105,
    "start_time": "2023-02-08T13:16:26.551Z"
   },
   {
    "duration": 530,
    "start_time": "2023-02-08T13:16:28.295Z"
   },
   {
    "duration": 4,
    "start_time": "2023-02-08T13:17:07.523Z"
   },
   {
    "duration": 487,
    "start_time": "2023-02-08T13:17:15.609Z"
   },
   {
    "duration": 117,
    "start_time": "2023-02-08T13:17:50.523Z"
   },
   {
    "duration": 731,
    "start_time": "2023-02-08T13:17:52.938Z"
   },
   {
    "duration": 39,
    "start_time": "2023-02-08T13:17:53.671Z"
   },
   {
    "duration": 10,
    "start_time": "2023-02-08T13:17:53.727Z"
   },
   {
    "duration": 32,
    "start_time": "2023-02-08T13:17:53.907Z"
   },
   {
    "duration": 156,
    "start_time": "2023-02-08T13:17:54.177Z"
   },
   {
    "duration": 66,
    "start_time": "2023-02-08T13:17:54.547Z"
   },
   {
    "duration": 3,
    "start_time": "2023-02-08T13:18:02.476Z"
   },
   {
    "duration": 358,
    "start_time": "2023-02-08T13:18:03.524Z"
   },
   {
    "duration": 118,
    "start_time": "2023-02-08T13:18:46.800Z"
   },
   {
    "duration": 13,
    "start_time": "2023-02-08T13:19:03.006Z"
   },
   {
    "duration": 4,
    "start_time": "2023-02-08T13:19:24.093Z"
   },
   {
    "duration": 13,
    "start_time": "2023-02-08T13:19:36.576Z"
   },
   {
    "duration": 4,
    "start_time": "2023-02-08T13:20:43.008Z"
   },
   {
    "duration": 4,
    "start_time": "2023-02-08T13:20:44.976Z"
   },
   {
    "duration": 309,
    "start_time": "2023-02-08T13:20:46.388Z"
   },
   {
    "duration": 5,
    "start_time": "2023-02-08T13:21:49.713Z"
   },
   {
    "duration": 4,
    "start_time": "2023-02-08T13:21:50.852Z"
   },
   {
    "duration": 3,
    "start_time": "2023-02-08T13:21:51.400Z"
   },
   {
    "duration": 377,
    "start_time": "2023-02-08T13:21:51.812Z"
   },
   {
    "duration": 1296,
    "start_time": "2023-02-08T13:21:59.040Z"
   },
   {
    "duration": 4,
    "start_time": "2023-02-08T13:22:47.241Z"
   },
   {
    "duration": 828,
    "start_time": "2023-02-08T13:22:48.075Z"
   },
   {
    "duration": 36,
    "start_time": "2023-02-08T13:22:48.905Z"
   },
   {
    "duration": 10,
    "start_time": "2023-02-08T13:22:50.555Z"
   },
   {
    "duration": 31,
    "start_time": "2023-02-08T13:22:55.227Z"
   },
   {
    "duration": 139,
    "start_time": "2023-02-08T13:22:56.377Z"
   },
   {
    "duration": 7,
    "start_time": "2023-02-08T13:22:57.273Z"
   },
   {
    "duration": 4,
    "start_time": "2023-02-08T13:23:00.916Z"
   },
   {
    "duration": 6,
    "start_time": "2023-02-08T13:23:10.965Z"
   },
   {
    "duration": 10,
    "start_time": "2023-02-08T13:23:19.166Z"
   },
   {
    "duration": 14,
    "start_time": "2023-02-08T13:23:24.668Z"
   },
   {
    "duration": 4,
    "start_time": "2023-02-08T13:23:36.274Z"
   },
   {
    "duration": 5,
    "start_time": "2023-02-08T13:23:42.202Z"
   },
   {
    "duration": 4,
    "start_time": "2023-02-08T13:23:47.281Z"
   },
   {
    "duration": 1809,
    "start_time": "2023-02-08T13:24:04.104Z"
   },
   {
    "duration": 9646,
    "start_time": "2023-02-08T13:24:05.916Z"
   },
   {
    "duration": 63,
    "start_time": "2023-02-08T13:29:15.931Z"
   },
   {
    "duration": 4,
    "start_time": "2023-02-08T13:29:29.984Z"
   },
   {
    "duration": 25,
    "start_time": "2023-02-08T13:33:30.385Z"
   },
   {
    "duration": 14,
    "start_time": "2023-02-08T13:34:53.647Z"
   },
   {
    "duration": 5,
    "start_time": "2023-02-08T13:35:15.716Z"
   },
   {
    "duration": 13,
    "start_time": "2023-02-08T13:35:21.403Z"
   },
   {
    "duration": 12,
    "start_time": "2023-02-08T13:35:35.978Z"
   },
   {
    "duration": 19,
    "start_time": "2023-02-08T13:35:39.484Z"
   },
   {
    "duration": 23,
    "start_time": "2023-02-08T13:36:04.601Z"
   },
   {
    "duration": 113,
    "start_time": "2023-02-08T13:36:05.624Z"
   },
   {
    "duration": 3,
    "start_time": "2023-02-08T13:36:33.714Z"
   },
   {
    "duration": 14,
    "start_time": "2023-02-08T13:37:11.032Z"
   },
   {
    "duration": 6,
    "start_time": "2023-02-08T13:37:23.158Z"
   },
   {
    "duration": 11,
    "start_time": "2023-02-08T13:39:16.990Z"
   },
   {
    "duration": 6,
    "start_time": "2023-02-08T13:40:15.985Z"
   },
   {
    "duration": 6,
    "start_time": "2023-02-08T13:40:30.832Z"
   },
   {
    "duration": 11,
    "start_time": "2023-02-08T13:42:13.602Z"
   },
   {
    "duration": 222,
    "start_time": "2023-02-08T13:42:14.450Z"
   },
   {
    "duration": 8,
    "start_time": "2023-02-08T13:42:19.510Z"
   },
   {
    "duration": 4,
    "start_time": "2023-02-08T13:42:19.730Z"
   },
   {
    "duration": 5,
    "start_time": "2023-02-08T13:42:20.097Z"
   },
   {
    "duration": 28,
    "start_time": "2023-02-08T13:42:20.446Z"
   },
   {
    "duration": 69,
    "start_time": "2023-02-08T13:42:24.505Z"
   },
   {
    "duration": 8,
    "start_time": "2023-02-08T13:42:32.097Z"
   },
   {
    "duration": 9,
    "start_time": "2023-02-08T13:47:12.851Z"
   },
   {
    "duration": 1426,
    "start_time": "2023-02-08T13:47:17.149Z"
   },
   {
    "duration": 2830,
    "start_time": "2023-02-08T13:47:19.669Z"
   },
   {
    "duration": 33,
    "start_time": "2023-02-08T13:47:23.506Z"
   },
   {
    "duration": 16,
    "start_time": "2023-02-08T13:47:24.274Z"
   },
   {
    "duration": 7,
    "start_time": "2023-02-08T13:47:25.549Z"
   },
   {
    "duration": 35,
    "start_time": "2023-02-08T13:47:26.655Z"
   },
   {
    "duration": 11,
    "start_time": "2023-02-08T13:47:36.269Z"
   },
   {
    "duration": 381,
    "start_time": "2023-02-08T13:47:37.848Z"
   },
   {
    "duration": 19,
    "start_time": "2023-02-08T13:47:43.471Z"
   },
   {
    "duration": 398,
    "start_time": "2023-02-08T13:47:44.849Z"
   },
   {
    "duration": 5,
    "start_time": "2023-02-08T13:47:46.857Z"
   },
   {
    "duration": 5,
    "start_time": "2023-02-08T13:47:48.028Z"
   },
   {
    "duration": 3,
    "start_time": "2023-02-08T13:47:56.221Z"
   },
   {
    "duration": 133,
    "start_time": "2023-02-08T13:48:09.565Z"
   },
   {
    "duration": 83,
    "start_time": "2023-02-08T13:48:48.554Z"
   },
   {
    "duration": 5,
    "start_time": "2023-02-08T13:48:50.659Z"
   },
   {
    "duration": 67,
    "start_time": "2023-02-08T13:51:01.813Z"
   },
   {
    "duration": 1561,
    "start_time": "2023-02-08T13:51:06.182Z"
   },
   {
    "duration": 3024,
    "start_time": "2023-02-08T13:51:08.375Z"
   },
   {
    "duration": 32,
    "start_time": "2023-02-08T13:51:11.401Z"
   },
   {
    "duration": 46,
    "start_time": "2023-02-08T13:51:11.435Z"
   },
   {
    "duration": 10,
    "start_time": "2023-02-08T13:51:11.484Z"
   },
   {
    "duration": 41,
    "start_time": "2023-02-08T13:51:11.496Z"
   },
   {
    "duration": 16,
    "start_time": "2023-02-08T13:51:13.766Z"
   },
   {
    "duration": 462,
    "start_time": "2023-02-08T13:51:14.071Z"
   },
   {
    "duration": 21,
    "start_time": "2023-02-08T13:51:14.646Z"
   },
   {
    "duration": 329,
    "start_time": "2023-02-08T13:51:14.862Z"
   },
   {
    "duration": 6,
    "start_time": "2023-02-08T13:51:15.194Z"
   },
   {
    "duration": 5,
    "start_time": "2023-02-08T13:51:19.608Z"
   },
   {
    "duration": 3,
    "start_time": "2023-02-08T13:51:21.950Z"
   },
   {
    "duration": 90,
    "start_time": "2023-02-08T13:51:22.384Z"
   },
   {
    "duration": 4,
    "start_time": "2023-02-08T13:51:23.076Z"
   },
   {
    "duration": 2001,
    "start_time": "2023-02-08T13:51:27.308Z"
   },
   {
    "duration": 134,
    "start_time": "2023-02-08T13:52:30.653Z"
   },
   {
    "duration": 17,
    "start_time": "2023-02-08T13:52:59.371Z"
   },
   {
    "duration": 12,
    "start_time": "2023-02-08T13:53:12.653Z"
   },
   {
    "duration": 4,
    "start_time": "2023-02-08T13:53:18.678Z"
   },
   {
    "duration": 31,
    "start_time": "2023-02-08T13:56:02.086Z"
   },
   {
    "duration": 6,
    "start_time": "2023-02-08T13:56:11.885Z"
   },
   {
    "duration": 18,
    "start_time": "2023-02-08T13:56:17.645Z"
   },
   {
    "duration": 4,
    "start_time": "2023-02-08T13:57:51.846Z"
   },
   {
    "duration": 5,
    "start_time": "2023-02-08T13:57:53.208Z"
   },
   {
    "duration": 5967,
    "start_time": "2023-02-08T13:57:56.286Z"
   },
   {
    "duration": 9478,
    "start_time": "2023-02-08T13:58:56.971Z"
   },
   {
    "duration": 8,
    "start_time": "2023-02-08T13:59:55.175Z"
   },
   {
    "duration": 11,
    "start_time": "2023-02-08T14:00:07.306Z"
   },
   {
    "duration": 4,
    "start_time": "2023-02-08T14:01:01.171Z"
   },
   {
    "duration": 11799,
    "start_time": "2023-02-08T14:01:14.051Z"
   },
   {
    "duration": 5,
    "start_time": "2023-02-08T14:01:26.819Z"
   },
   {
    "duration": 4,
    "start_time": "2023-02-08T14:10:26.764Z"
   },
   {
    "duration": 1523,
    "start_time": "2023-02-09T04:48:25.405Z"
   },
   {
    "duration": 3864,
    "start_time": "2023-02-09T04:48:28.700Z"
   },
   {
    "duration": 34,
    "start_time": "2023-02-09T04:48:32.566Z"
   },
   {
    "duration": 21,
    "start_time": "2023-02-09T04:48:33.653Z"
   },
   {
    "duration": 8,
    "start_time": "2023-02-09T04:48:34.371Z"
   },
   {
    "duration": 27,
    "start_time": "2023-02-09T04:48:35.215Z"
   },
   {
    "duration": 17,
    "start_time": "2023-02-09T04:48:35.744Z"
   },
   {
    "duration": 3,
    "start_time": "2023-02-09T04:52:56.332Z"
   },
   {
    "duration": 3,
    "start_time": "2023-02-09T04:53:18.491Z"
   },
   {
    "duration": 4,
    "start_time": "2023-02-09T04:53:22.838Z"
   },
   {
    "duration": 125,
    "start_time": "2023-02-09T04:53:24.573Z"
   },
   {
    "duration": 11,
    "start_time": "2023-02-09T04:53:28.667Z"
   },
   {
    "duration": 19,
    "start_time": "2023-02-09T04:53:59.249Z"
   },
   {
    "duration": 3,
    "start_time": "2023-02-09T04:54:02.907Z"
   },
   {
    "duration": 991,
    "start_time": "2023-02-09T04:54:05.080Z"
   },
   {
    "duration": 34,
    "start_time": "2023-02-09T04:54:06.079Z"
   },
   {
    "duration": 11,
    "start_time": "2023-02-09T04:54:06.115Z"
   },
   {
    "duration": 9,
    "start_time": "2023-02-09T04:54:06.128Z"
   },
   {
    "duration": 34,
    "start_time": "2023-02-09T04:54:06.283Z"
   },
   {
    "duration": 11,
    "start_time": "2023-02-09T04:54:06.480Z"
   },
   {
    "duration": 654,
    "start_time": "2023-02-09T04:54:06.993Z"
   },
   {
    "duration": 4,
    "start_time": "2023-02-09T04:54:07.652Z"
   },
   {
    "duration": 3,
    "start_time": "2023-02-09T04:54:10.113Z"
   },
   {
    "duration": 4,
    "start_time": "2023-02-09T04:54:12.039Z"
   },
   {
    "duration": 4,
    "start_time": "2023-02-09T04:55:29.833Z"
   },
   {
    "duration": 30,
    "start_time": "2023-02-09T04:55:30.941Z"
   },
   {
    "duration": 12,
    "start_time": "2023-02-09T04:55:38.030Z"
   },
   {
    "duration": 2392,
    "start_time": "2023-02-09T04:55:45.215Z"
   },
   {
    "duration": 2614,
    "start_time": "2023-02-09T04:55:58.693Z"
   },
   {
    "duration": 5,
    "start_time": "2023-02-09T04:56:56.539Z"
   },
   {
    "duration": 2621,
    "start_time": "2023-02-09T04:56:59.681Z"
   },
   {
    "duration": 4,
    "start_time": "2023-02-09T04:57:21.146Z"
   },
   {
    "duration": 2620,
    "start_time": "2023-02-09T04:57:21.930Z"
   },
   {
    "duration": 3,
    "start_time": "2023-02-09T04:58:23.901Z"
   },
   {
    "duration": 2666,
    "start_time": "2023-02-09T04:58:24.825Z"
   },
   {
    "duration": 4,
    "start_time": "2023-02-09T04:58:33.726Z"
   },
   {
    "duration": 4,
    "start_time": "2023-02-09T04:58:42.373Z"
   },
   {
    "duration": 92215,
    "start_time": "2023-02-09T04:58:43.345Z"
   },
   {
    "duration": 9,
    "start_time": "2023-02-09T05:00:57.171Z"
   },
   {
    "duration": 54,
    "start_time": "2023-02-09T05:02:42.078Z"
   },
   {
    "duration": 9,
    "start_time": "2023-02-09T05:02:52.743Z"
   },
   {
    "duration": 10,
    "start_time": "2023-02-09T05:03:08.547Z"
   },
   {
    "duration": 241,
    "start_time": "2023-02-09T05:03:27.363Z"
   },
   {
    "duration": 4,
    "start_time": "2023-02-09T05:03:28.844Z"
   },
   {
    "duration": 4,
    "start_time": "2023-02-09T05:03:29.507Z"
   },
   {
    "duration": 58,
    "start_time": "2023-02-09T05:03:50.429Z"
   },
   {
    "duration": 4,
    "start_time": "2023-02-09T05:03:54.381Z"
   },
   {
    "duration": 3,
    "start_time": "2023-02-09T05:03:55.055Z"
   },
   {
    "duration": 62,
    "start_time": "2023-02-09T05:03:57.748Z"
   },
   {
    "duration": 713,
    "start_time": "2023-02-09T05:04:36.259Z"
   },
   {
    "duration": 4,
    "start_time": "2023-02-09T05:04:45.304Z"
   },
   {
    "duration": 4,
    "start_time": "2023-02-09T05:04:56.003Z"
   },
   {
    "duration": 6798,
    "start_time": "2023-02-09T05:05:01.477Z"
   },
   {
    "duration": 4,
    "start_time": "2023-02-09T05:05:08.277Z"
   },
   {
    "duration": 3,
    "start_time": "2023-02-09T05:06:25.988Z"
   },
   {
    "duration": 4,
    "start_time": "2023-02-09T05:06:27.370Z"
   },
   {
    "duration": 7254,
    "start_time": "2023-02-09T05:06:31.016Z"
   },
   {
    "duration": 6,
    "start_time": "2023-02-09T05:06:38.274Z"
   },
   {
    "duration": 14,
    "start_time": "2023-02-09T05:08:13.979Z"
   },
   {
    "duration": 8210,
    "start_time": "2023-02-09T05:08:16.499Z"
   },
   {
    "duration": 9,
    "start_time": "2023-02-09T05:09:20.626Z"
   },
   {
    "duration": 3,
    "start_time": "2023-02-09T05:09:25.573Z"
   },
   {
    "duration": 3,
    "start_time": "2023-02-09T05:09:26.384Z"
   },
   {
    "duration": 12,
    "start_time": "2023-02-09T05:09:37.004Z"
   },
   {
    "duration": 8268,
    "start_time": "2023-02-09T05:10:07.109Z"
   },
   {
    "duration": 4,
    "start_time": "2023-02-09T05:10:19.618Z"
   },
   {
    "duration": 314,
    "start_time": "2023-02-09T05:11:26.895Z"
   },
   {
    "duration": 4,
    "start_time": "2023-02-09T05:11:29.071Z"
   },
   {
    "duration": 6,
    "start_time": "2023-02-09T05:11:31.216Z"
   },
   {
    "duration": 97,
    "start_time": "2023-02-09T05:11:31.993Z"
   },
   {
    "duration": 5,
    "start_time": "2023-02-09T05:11:32.625Z"
   },
   {
    "duration": 3,
    "start_time": "2023-02-09T05:11:33.437Z"
   },
   {
    "duration": 3,
    "start_time": "2023-02-09T05:11:34.131Z"
   },
   {
    "duration": 12,
    "start_time": "2023-02-09T05:11:35.203Z"
   },
   {
    "duration": 7401,
    "start_time": "2023-02-09T05:11:35.872Z"
   },
   {
    "duration": 4,
    "start_time": "2023-02-09T05:11:43.275Z"
   },
   {
    "duration": 4,
    "start_time": "2023-02-09T05:12:06.560Z"
   },
   {
    "duration": 7244,
    "start_time": "2023-02-09T05:12:10.966Z"
   },
   {
    "duration": 4,
    "start_time": "2023-02-09T05:12:18.212Z"
   },
   {
    "duration": 4,
    "start_time": "2023-02-09T05:12:29.949Z"
   },
   {
    "duration": 28,
    "start_time": "2023-02-09T05:12:42.746Z"
   },
   {
    "duration": 6,
    "start_time": "2023-02-09T05:16:47.613Z"
   },
   {
    "duration": 5,
    "start_time": "2023-02-09T05:16:54.252Z"
   },
   {
    "duration": 21,
    "start_time": "2023-02-09T05:17:19.160Z"
   },
   {
    "duration": 5,
    "start_time": "2023-02-09T05:17:58.035Z"
   },
   {
    "duration": 121720,
    "start_time": "2023-02-09T05:17:59.618Z"
   },
   {
    "duration": 5,
    "start_time": "2023-02-09T05:20:56.585Z"
   },
   {
    "duration": 948,
    "start_time": "2023-02-09T05:20:56.994Z"
   },
   {
    "duration": 38,
    "start_time": "2023-02-09T05:20:57.944Z"
   },
   {
    "duration": 18,
    "start_time": "2023-02-09T05:20:57.984Z"
   },
   {
    "duration": 9,
    "start_time": "2023-02-09T05:21:00.547Z"
   },
   {
    "duration": 32,
    "start_time": "2023-02-09T05:21:01.390Z"
   },
   {
    "duration": 16,
    "start_time": "2023-02-09T05:21:02.738Z"
   },
   {
    "duration": 145,
    "start_time": "2023-02-09T05:21:04.383Z"
   },
   {
    "duration": 7,
    "start_time": "2023-02-09T05:21:07.348Z"
   },
   {
    "duration": 3,
    "start_time": "2023-02-09T05:21:10.900Z"
   },
   {
    "duration": 5,
    "start_time": "2023-02-09T05:21:12.443Z"
   },
   {
    "duration": 14,
    "start_time": "2023-02-09T05:21:22.707Z"
   },
   {
    "duration": 7,
    "start_time": "2023-02-09T05:21:44.847Z"
   },
   {
    "duration": 94585,
    "start_time": "2023-02-09T05:21:45.445Z"
   },
   {
    "duration": 7,
    "start_time": "2023-02-09T05:23:20.033Z"
   },
   {
    "duration": 163,
    "start_time": "2023-02-09T05:23:25.770Z"
   },
   {
    "duration": 7239,
    "start_time": "2023-02-09T05:23:33.297Z"
   },
   {
    "duration": 7,
    "start_time": "2023-02-09T05:24:51.452Z"
   },
   {
    "duration": 10,
    "start_time": "2023-02-09T05:24:54.794Z"
   },
   {
    "duration": 8,
    "start_time": "2023-02-09T05:25:01.622Z"
   },
   {
    "duration": 8,
    "start_time": "2023-02-09T05:25:05.313Z"
   },
   {
    "duration": 10,
    "start_time": "2023-02-09T05:25:06.375Z"
   },
   {
    "duration": 7,
    "start_time": "2023-02-09T05:26:39.501Z"
   },
   {
    "duration": 90685,
    "start_time": "2023-02-09T05:26:40.263Z"
   },
   {
    "duration": 43,
    "start_time": "2023-02-09T05:28:27.516Z"
   },
   {
    "duration": 120,
    "start_time": "2023-02-09T05:28:47.521Z"
   },
   {
    "duration": 7,
    "start_time": "2023-02-09T05:29:53.379Z"
   },
   {
    "duration": 8,
    "start_time": "2023-02-09T05:34:52.528Z"
   },
   {
    "duration": 9025,
    "start_time": "2023-02-09T05:35:45.363Z"
   },
   {
    "duration": 5,
    "start_time": "2023-02-09T05:37:36.367Z"
   },
   {
    "duration": 6,
    "start_time": "2023-02-09T05:37:57.792Z"
   },
   {
    "duration": 769,
    "start_time": "2023-02-09T05:38:00.865Z"
   },
   {
    "duration": 9,
    "start_time": "2023-02-09T05:54:23.482Z"
   },
   {
    "duration": 2187,
    "start_time": "2023-02-09T10:01:21.909Z"
   },
   {
    "duration": 2425,
    "start_time": "2023-02-09T10:01:25.577Z"
   },
   {
    "duration": 31,
    "start_time": "2023-02-09T10:01:28.736Z"
   },
   {
    "duration": 13,
    "start_time": "2023-02-09T10:01:31.467Z"
   },
   {
    "duration": 7,
    "start_time": "2023-02-09T10:01:34.601Z"
   },
   {
    "duration": 28,
    "start_time": "2023-02-09T10:01:36.284Z"
   },
   {
    "duration": 10,
    "start_time": "2023-02-09T10:01:37.303Z"
   },
   {
    "duration": 536,
    "start_time": "2023-02-09T10:01:38.294Z"
   },
   {
    "duration": 3,
    "start_time": "2023-02-09T10:01:41.406Z"
   },
   {
    "duration": 3,
    "start_time": "2023-02-09T10:01:42.990Z"
   },
   {
    "duration": 4,
    "start_time": "2023-02-09T10:01:43.855Z"
   },
   {
    "duration": 33,
    "start_time": "2023-02-09T10:01:44.840Z"
   },
   {
    "duration": 79513,
    "start_time": "2023-02-09T10:01:45.550Z"
   },
   {
    "duration": 79670,
    "start_time": "2023-02-09T10:03:36.357Z"
   },
   {
    "duration": 100,
    "start_time": "2023-02-09T10:04:56.029Z"
   },
   {
    "duration": 126,
    "start_time": "2023-02-09T10:05:12.930Z"
   },
   {
    "duration": 540,
    "start_time": "2023-02-09T10:05:45.303Z"
   },
   {
    "duration": 5,
    "start_time": "2023-02-09T10:06:20.067Z"
   },
   {
    "duration": 11,
    "start_time": "2023-02-09T10:06:23.664Z"
   },
   {
    "duration": 81662,
    "start_time": "2023-02-09T10:06:24.684Z"
   },
   {
    "duration": 109,
    "start_time": "2023-02-09T10:07:46.347Z"
   },
   {
    "duration": 0,
    "start_time": "2023-02-09T10:07:46.458Z"
   },
   {
    "duration": 91,
    "start_time": "2023-02-09T10:08:12.419Z"
   },
   {
    "duration": 6514,
    "start_time": "2023-02-09T10:08:17.032Z"
   },
   {
    "duration": 7,
    "start_time": "2023-02-09T10:08:41.733Z"
   },
   {
    "duration": 81278,
    "start_time": "2023-02-09T10:08:42.568Z"
   },
   {
    "duration": 26,
    "start_time": "2023-02-09T10:10:03.848Z"
   },
   {
    "duration": 80,
    "start_time": "2023-02-09T10:10:03.876Z"
   },
   {
    "duration": 5,
    "start_time": "2023-02-09T10:10:03.958Z"
   },
   {
    "duration": 6671,
    "start_time": "2023-02-09T10:10:03.965Z"
   },
   {
    "duration": 4,
    "start_time": "2023-02-09T10:18:26.323Z"
   },
   {
    "duration": 72,
    "start_time": "2023-02-09T10:21:06.196Z"
   },
   {
    "duration": 2250,
    "start_time": "2023-02-09T10:21:44.132Z"
   },
   {
    "duration": 30,
    "start_time": "2023-02-09T10:21:46.384Z"
   },
   {
    "duration": 26,
    "start_time": "2023-02-09T10:21:46.416Z"
   },
   {
    "duration": 33,
    "start_time": "2023-02-09T10:21:46.444Z"
   },
   {
    "duration": 37,
    "start_time": "2023-02-09T10:21:46.478Z"
   },
   {
    "duration": 10,
    "start_time": "2023-02-09T10:21:46.571Z"
   },
   {
    "duration": 145,
    "start_time": "2023-02-09T10:21:47.131Z"
   },
   {
    "duration": 3,
    "start_time": "2023-02-09T10:21:48.008Z"
   },
   {
    "duration": 3,
    "start_time": "2023-02-09T10:21:48.669Z"
   },
   {
    "duration": 4,
    "start_time": "2023-02-09T10:21:49.068Z"
   },
   {
    "duration": 6,
    "start_time": "2023-02-09T10:21:49.701Z"
   },
   {
    "duration": 5,
    "start_time": "2023-02-09T10:21:49.999Z"
   },
   {
    "duration": 4,
    "start_time": "2023-02-09T10:21:51.563Z"
   },
   {
    "duration": 11,
    "start_time": "2023-02-09T10:21:52.078Z"
   },
   {
    "duration": 83998,
    "start_time": "2023-02-09T10:21:53.067Z"
   },
   {
    "duration": 47,
    "start_time": "2023-02-09T10:23:17.067Z"
   },
   {
    "duration": 105,
    "start_time": "2023-02-09T10:23:17.116Z"
   },
   {
    "duration": 10,
    "start_time": "2023-02-09T10:23:17.224Z"
   },
   {
    "duration": 7152,
    "start_time": "2023-02-09T10:23:17.236Z"
   },
   {
    "duration": 4,
    "start_time": "2023-02-09T10:23:24.390Z"
   },
   {
    "duration": 5,
    "start_time": "2023-02-09T10:23:41.265Z"
   },
   {
    "duration": 5,
    "start_time": "2023-02-09T10:23:58.023Z"
   },
   {
    "duration": 97213,
    "start_time": "2023-02-09T10:24:06.828Z"
   },
   {
    "duration": 6,
    "start_time": "2023-02-09T10:27:18.969Z"
   },
   {
    "duration": 0,
    "start_time": "2023-02-09T10:30:31.708Z"
   },
   {
    "duration": 3,
    "start_time": "2023-02-09T10:32:02.863Z"
   },
   {
    "duration": 16,
    "start_time": "2023-02-09T10:32:56.895Z"
   },
   {
    "duration": 6,
    "start_time": "2023-02-09T10:33:22.003Z"
   },
   {
    "duration": 4,
    "start_time": "2023-02-09T10:33:27.001Z"
   },
   {
    "duration": 38,
    "start_time": "2023-02-09T10:33:27.818Z"
   },
   {
    "duration": 3,
    "start_time": "2023-02-09T10:41:00.559Z"
   },
   {
    "duration": 1010,
    "start_time": "2023-02-09T10:41:01.487Z"
   },
   {
    "duration": 388144,
    "start_time": "2023-02-09T10:42:06.688Z"
   },
   {
    "duration": 4,
    "start_time": "2023-02-09T10:48:43.664Z"
   },
   {
    "duration": 5,
    "start_time": "2023-02-09T10:48:54.204Z"
   },
   {
    "duration": 5,
    "start_time": "2023-02-09T10:51:18.230Z"
   },
   {
    "duration": 41,
    "start_time": "2023-02-09T10:53:33.900Z"
   },
   {
    "duration": 39,
    "start_time": "2023-02-09T10:53:48.491Z"
   },
   {
    "duration": 35,
    "start_time": "2023-02-09T10:54:44.551Z"
   },
   {
    "duration": 42,
    "start_time": "2023-02-09T10:55:11.679Z"
   },
   {
    "duration": 90146,
    "start_time": "2023-02-09T10:55:21.910Z"
   },
   {
    "duration": 3752,
    "start_time": "2023-02-10T05:31:02.113Z"
   },
   {
    "duration": 1770,
    "start_time": "2023-02-10T05:31:05.867Z"
   },
   {
    "duration": 2581,
    "start_time": "2023-02-10T05:31:07.639Z"
   },
   {
    "duration": 30,
    "start_time": "2023-02-10T05:31:16.383Z"
   },
   {
    "duration": 13,
    "start_time": "2023-02-10T05:31:16.581Z"
   },
   {
    "duration": 7,
    "start_time": "2023-02-10T05:31:16.936Z"
   },
   {
    "duration": 24,
    "start_time": "2023-02-10T05:31:18.381Z"
   },
   {
    "duration": 9,
    "start_time": "2023-02-10T05:31:18.838Z"
   },
   {
    "duration": 542,
    "start_time": "2023-02-10T05:31:19.053Z"
   },
   {
    "duration": 4,
    "start_time": "2023-02-10T05:31:51.175Z"
   },
   {
    "duration": 3,
    "start_time": "2023-02-10T05:31:54.238Z"
   },
   {
    "duration": 261,
    "start_time": "2023-02-10T05:31:56.511Z"
   },
   {
    "duration": 6,
    "start_time": "2023-02-10T05:31:58.223Z"
   },
   {
    "duration": 3,
    "start_time": "2023-02-10T05:31:58.482Z"
   },
   {
    "duration": 25,
    "start_time": "2023-02-10T05:31:59.750Z"
   },
   {
    "duration": 80302,
    "start_time": "2023-02-10T05:32:00.911Z"
   },
   {
    "duration": 5,
    "start_time": "2023-02-10T05:33:21.215Z"
   },
   {
    "duration": 29,
    "start_time": "2023-02-10T05:33:21.221Z"
   },
   {
    "duration": 135,
    "start_time": "2023-02-10T05:33:21.252Z"
   },
   {
    "duration": 0,
    "start_time": "2023-02-10T05:33:21.388Z"
   },
   {
    "duration": 0,
    "start_time": "2023-02-10T05:33:21.389Z"
   },
   {
    "duration": 0,
    "start_time": "2023-02-10T05:33:21.391Z"
   },
   {
    "duration": 0,
    "start_time": "2023-02-10T05:33:21.392Z"
   },
   {
    "duration": 0,
    "start_time": "2023-02-10T05:33:21.393Z"
   },
   {
    "duration": 0,
    "start_time": "2023-02-10T05:33:21.394Z"
   },
   {
    "duration": 86,
    "start_time": "2023-02-10T05:34:50.523Z"
   },
   {
    "duration": 3,
    "start_time": "2023-02-10T05:34:52.428Z"
   },
   {
    "duration": 10,
    "start_time": "2023-02-10T05:34:55.812Z"
   },
   {
    "duration": 2,
    "start_time": "2023-02-10T05:35:00.662Z"
   },
   {
    "duration": 6,
    "start_time": "2023-02-10T05:35:01.156Z"
   },
   {
    "duration": 4,
    "start_time": "2023-02-10T05:35:03.196Z"
   },
   {
    "duration": 7246,
    "start_time": "2023-02-10T05:35:03.684Z"
   },
   {
    "duration": 4,
    "start_time": "2023-02-10T05:35:10.932Z"
   },
   {
    "duration": 4,
    "start_time": "2023-02-10T05:35:41.693Z"
   },
   {
    "duration": 13,
    "start_time": "2023-02-10T05:35:42.566Z"
   },
   {
    "duration": 10,
    "start_time": "2023-02-10T05:36:08.854Z"
   },
   {
    "duration": 116266,
    "start_time": "2023-02-10T05:36:16.744Z"
   },
   {
    "duration": 27,
    "start_time": "2023-02-10T06:50:17.380Z"
   },
   {
    "duration": 2247,
    "start_time": "2023-02-10T06:50:18.275Z"
   },
   {
    "duration": 24,
    "start_time": "2023-02-10T06:50:20.524Z"
   },
   {
    "duration": 7,
    "start_time": "2023-02-10T06:50:20.550Z"
   },
   {
    "duration": 7,
    "start_time": "2023-02-10T06:50:21.558Z"
   },
   {
    "duration": 26,
    "start_time": "2023-02-10T06:50:23.156Z"
   },
   {
    "duration": 10,
    "start_time": "2023-02-10T06:50:25.823Z"
   },
   {
    "duration": 147,
    "start_time": "2023-02-10T06:50:26.552Z"
   },
   {
    "duration": 3,
    "start_time": "2023-02-10T06:50:31.991Z"
   },
   {
    "duration": 3,
    "start_time": "2023-02-10T06:50:35.042Z"
   },
   {
    "duration": 498,
    "start_time": "2023-02-10T06:50:38.088Z"
   },
   {
    "duration": 5,
    "start_time": "2023-02-10T06:50:39.602Z"
   },
   {
    "duration": 4,
    "start_time": "2023-02-10T06:50:42.826Z"
   },
   {
    "duration": 11,
    "start_time": "2023-02-10T06:50:45.941Z"
   },
   {
    "duration": 73779,
    "start_time": "2023-02-10T06:50:46.523Z"
   },
   {
    "duration": 6,
    "start_time": "2023-02-10T06:52:00.304Z"
   },
   {
    "duration": 70,
    "start_time": "2023-02-10T06:52:29.103Z"
   },
   {
    "duration": 1108,
    "start_time": "2023-02-10T06:52:42.938Z"
   },
   {
    "duration": 10,
    "start_time": "2023-02-10T06:52:57.800Z"
   },
   {
    "duration": 289,
    "start_time": "2023-02-10T06:53:02.114Z"
   },
   {
    "duration": 264,
    "start_time": "2023-02-10T06:53:22.213Z"
   },
   {
    "duration": 7,
    "start_time": "2023-02-10T06:54:22.156Z"
   },
   {
    "duration": 9,
    "start_time": "2023-02-10T06:54:30.236Z"
   },
   {
    "duration": 14,
    "start_time": "2023-02-10T06:55:09.413Z"
   },
   {
    "duration": 9,
    "start_time": "2023-02-10T06:55:10.247Z"
   },
   {
    "duration": 4,
    "start_time": "2023-02-10T06:55:18.692Z"
   },
   {
    "duration": 68,
    "start_time": "2023-02-10T06:55:25.833Z"
   },
   {
    "duration": 5,
    "start_time": "2023-02-10T06:55:33.614Z"
   },
   {
    "duration": 5,
    "start_time": "2023-02-10T06:55:34.278Z"
   },
   {
    "duration": 11,
    "start_time": "2023-02-10T06:55:38.602Z"
   },
   {
    "duration": 6023,
    "start_time": "2023-02-10T06:55:39.883Z"
   },
   {
    "duration": 3,
    "start_time": "2023-02-10T06:56:23.626Z"
   },
   {
    "duration": 5,
    "start_time": "2023-02-10T06:56:36.091Z"
   },
   {
    "duration": 653857,
    "start_time": "2023-02-10T06:56:40.045Z"
   },
   {
    "duration": 76,
    "start_time": "2023-02-10T07:07:33.903Z"
   },
   {
    "duration": 83,
    "start_time": "2023-02-10T07:07:34.845Z"
   },
   {
    "duration": 450453,
    "start_time": "2023-02-10T07:07:54.388Z"
   },
   {
    "duration": 1136842,
    "start_time": "2023-02-10T07:15:38.247Z"
   },
   {
    "duration": 14,
    "start_time": "2023-02-10T07:41:19.635Z"
   },
   {
    "duration": 73,
    "start_time": "2023-02-10T07:41:59.744Z"
   }
  ],
  "kernelspec": {
   "display_name": "Python 3 (ipykernel)",
   "language": "python",
   "name": "python3"
  },
  "language_info": {
   "codemirror_mode": {
    "name": "ipython",
    "version": 3
   },
   "file_extension": ".py",
   "mimetype": "text/x-python",
   "name": "python",
   "nbconvert_exporter": "python",
   "pygments_lexer": "ipython3",
   "version": "3.9.12"
  },
  "toc": {
   "base_numbering": 1,
   "nav_menu": {},
   "number_sections": true,
   "sideBar": true,
   "skip_h1_title": true,
   "title_cell": "Содержание",
   "title_sidebar": "Contents",
   "toc_cell": true,
   "toc_position": {
    "height": "calc(100% - 180px)",
    "left": "10px",
    "top": "150px",
    "width": "302.391px"
   },
   "toc_section_display": true,
   "toc_window_display": false
  }
 },
 "nbformat": 4,
 "nbformat_minor": 2
}
