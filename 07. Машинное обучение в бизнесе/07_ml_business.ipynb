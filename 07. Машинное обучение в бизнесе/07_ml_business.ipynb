{
 "cells": [
  {
   "cell_type": "markdown",
   "metadata": {},
   "source": [
    "# Выбор локации для скважины"
   ]
  },
  {
   "cell_type": "markdown",
   "metadata": {},
   "source": [
    "Допустим, вы работаете в добывающей компании «ГлавРосГосНефть». Нужно решить, где бурить новую скважину.\n",
    "\n",
    "Вам предоставлены пробы нефти в трёх регионах: в каждом 10 000 месторождений, где измерили качество нефти и объём её запасов. Постройте модель машинного обучения, которая поможет определить регион, где добыча принесёт наибольшую прибыль. Проанализируйте возможную прибыль и риски техникой *Bootstrap.*\n",
    "\n",
    "Шаги для выбора локации:\n",
    "\n",
    "- В избранном регионе ищут месторождения, для каждого определяют значения признаков;\n",
    "- Строят модель и оценивают объём запасов;\n",
    "- Выбирают месторождения с самым высокими оценками значений. Количество месторождений зависит от бюджета компании и стоимости разработки одной скважины;\n",
    "- Прибыль равна суммарной прибыли отобранных месторождений."
   ]
  },
  {
   "cell_type": "markdown",
   "metadata": {},
   "source": [
    "Признаки:\n",
    "- id — уникальный идентификатор скважины;\n",
    "- f0, f1, f2 — три признака точек (неважно, что они означают, но сами признаки значимы);\n",
    "- product — объём запасов в скважине (тыс. баррелей)."
   ]
  },
  {
   "cell_type": "markdown",
   "metadata": {},
   "source": [
    "Условия задачи:\n",
    "- Для обучения модели подходит только линейная регрессия (остальные — недостаточно предсказуемые).\n",
    "- При разведке региона исследуют 500 точек, из которых с помощью машинного обучения выбирают 200 лучших для разработки.\n",
    "- Бюджет на разработку скважин в регионе — 10 млрд рублей.\n",
    "- При нынешних ценах один баррель сырья приносит 450 рублей дохода. Доход с каждой единицы продукта составляет 450 тыс. рублей, поскольку объём указан в тысячах баррелей.\n",
    "- После оценки рисков нужно оставить лишь те регионы, в которых вероятность убытков меньше 2.5%. Среди них выбирают регион с наибольшей средней прибылью."
   ]
  },
  {
   "cell_type": "markdown",
   "metadata": {},
   "source": [
    " # План работы"
   ]
  },
  {
   "cell_type": "markdown",
   "metadata": {},
   "source": [
    "1. Загрузка и подготовка данных.\n",
    "2. Обучение и проверка модель для каждого региона:\n",
    " - Разбиение данных на обучающую и валидационную выборки в соотношении 75:25.\n",
    " - Обучение модели и получение предсказания на валидационной выборке.\n",
    " - Сохранение предсказания и правильных ответов на валидационной выборке.\n",
    " - Расчет среднего запаса предсказанного сырья и RMSE модели.\n",
    " - Анализ результатов.\n",
    "3. Подготовка к расчёту прибыли:\n",
    " - Сохранение всех ключевых значений для расчётов в отдельных переменных.\n",
    " - Рассчет достаточного объём сырья для безубыточной разработки новой скважины. Сравнение полученного объёма сырья со средним запасом в каждом регионе.\n",
    " - Выводы по этапу подготовки расчёта прибыли.\n",
    "4. Создание функции для расчёта прибыли по выбранным скважинам и предсказаниям модели:\n",
    " - Выбор скважины с максимальными значениями предсказаний.\n",
    " - Суммирование целевого значение объёма сырья, соответствующее этим предсказаниям.\n",
    " - Рассчет прибыли для полученного объёма сырья.\n",
    "5. Расчет рисков и прибыли для каждого региона:\n",
    " - Применение техники Bootstrap с 1000 выборок, чтобы найти распределение прибыли.\n",
    " - Расчет средней прибыли, 95%-й доверительный интервал и риск убытков. Убыток — это отрицательная прибыль.\n",
    " - Выводы: выбор региона для разработки скважин и обоснование выбора."
   ]
  },
  {
   "cell_type": "markdown",
   "metadata": {},
   "source": [
    "## Загрузка и подготовка данных"
   ]
  },
  {
   "cell_type": "code",
   "execution_count": 2,
   "metadata": {},
   "outputs": [],
   "source": [
    "import pandas as pd\n",
    "import numpy as np\n",
    "\n",
    "from sklearn.model_selection import train_test_split\n",
    "from sklearn.linear_model import LinearRegression\n",
    "from sklearn.metrics import mean_squared_error\n",
    "\n",
    "from sklearn.metrics import accuracy_score\n",
    "from sklearn.metrics import recall_score\n",
    "from sklearn.metrics import precision_score\n",
    "from sklearn.metrics import f1_score\n",
    "from sklearn.metrics import roc_auc_score\n",
    "\n",
    "from sklearn.metrics import precision_recall_curve\n",
    "from sklearn.metrics import roc_curve"
   ]
  },
  {
   "cell_type": "code",
   "execution_count": 3,
   "metadata": {},
   "outputs": [],
   "source": [
    "data_0 = pd.read_csv('/datasets/geo_data_0.csv')\n",
    "data_1 = pd.read_csv('/datasets/geo_data_1.csv')\n",
    "data_2 = pd.read_csv('/datasets/geo_data_2.csv')"
   ]
  },
  {
   "cell_type": "code",
   "execution_count": 4,
   "metadata": {},
   "outputs": [
    {
     "data": {
      "text/html": [
       "<div>\n",
       "<style scoped>\n",
       "    .dataframe tbody tr th:only-of-type {\n",
       "        vertical-align: middle;\n",
       "    }\n",
       "\n",
       "    .dataframe tbody tr th {\n",
       "        vertical-align: top;\n",
       "    }\n",
       "\n",
       "    .dataframe thead th {\n",
       "        text-align: right;\n",
       "    }\n",
       "</style>\n",
       "<table border=\"1\" class=\"dataframe\">\n",
       "  <thead>\n",
       "    <tr style=\"text-align: right;\">\n",
       "      <th></th>\n",
       "      <th>id</th>\n",
       "      <th>f0</th>\n",
       "      <th>f1</th>\n",
       "      <th>f2</th>\n",
       "      <th>product</th>\n",
       "    </tr>\n",
       "  </thead>\n",
       "  <tbody>\n",
       "    <tr>\n",
       "      <th>0</th>\n",
       "      <td>txEyH</td>\n",
       "      <td>0.705745</td>\n",
       "      <td>-0.497823</td>\n",
       "      <td>1.221170</td>\n",
       "      <td>105.280062</td>\n",
       "    </tr>\n",
       "    <tr>\n",
       "      <th>1</th>\n",
       "      <td>2acmU</td>\n",
       "      <td>1.334711</td>\n",
       "      <td>-0.340164</td>\n",
       "      <td>4.365080</td>\n",
       "      <td>73.037750</td>\n",
       "    </tr>\n",
       "    <tr>\n",
       "      <th>2</th>\n",
       "      <td>409Wp</td>\n",
       "      <td>1.022732</td>\n",
       "      <td>0.151990</td>\n",
       "      <td>1.419926</td>\n",
       "      <td>85.265647</td>\n",
       "    </tr>\n",
       "    <tr>\n",
       "      <th>3</th>\n",
       "      <td>iJLyR</td>\n",
       "      <td>-0.032172</td>\n",
       "      <td>0.139033</td>\n",
       "      <td>2.978566</td>\n",
       "      <td>168.620776</td>\n",
       "    </tr>\n",
       "    <tr>\n",
       "      <th>4</th>\n",
       "      <td>Xdl7t</td>\n",
       "      <td>1.988431</td>\n",
       "      <td>0.155413</td>\n",
       "      <td>4.751769</td>\n",
       "      <td>154.036647</td>\n",
       "    </tr>\n",
       "  </tbody>\n",
       "</table>\n",
       "</div>"
      ],
      "text/plain": [
       "      id        f0        f1        f2     product\n",
       "0  txEyH  0.705745 -0.497823  1.221170  105.280062\n",
       "1  2acmU  1.334711 -0.340164  4.365080   73.037750\n",
       "2  409Wp  1.022732  0.151990  1.419926   85.265647\n",
       "3  iJLyR -0.032172  0.139033  2.978566  168.620776\n",
       "4  Xdl7t  1.988431  0.155413  4.751769  154.036647"
      ]
     },
     "metadata": {},
     "output_type": "display_data"
    }
   ],
   "source": [
    "display(data_0.head(5))"
   ]
  },
  {
   "cell_type": "code",
   "execution_count": 5,
   "metadata": {},
   "outputs": [
    {
     "name": "stdout",
     "output_type": "stream",
     "text": [
      "<class 'pandas.core.frame.DataFrame'>\n",
      "RangeIndex: 100000 entries, 0 to 99999\n",
      "Data columns (total 5 columns):\n",
      " #   Column   Non-Null Count   Dtype  \n",
      "---  ------   --------------   -----  \n",
      " 0   id       100000 non-null  object \n",
      " 1   f0       100000 non-null  float64\n",
      " 2   f1       100000 non-null  float64\n",
      " 3   f2       100000 non-null  float64\n",
      " 4   product  100000 non-null  float64\n",
      "dtypes: float64(4), object(1)\n",
      "memory usage: 3.8+ MB\n"
     ]
    }
   ],
   "source": [
    "data_0.info()"
   ]
  },
  {
   "cell_type": "code",
   "execution_count": 6,
   "metadata": {},
   "outputs": [
    {
     "data": {
      "text/html": [
       "<div>\n",
       "<style scoped>\n",
       "    .dataframe tbody tr th:only-of-type {\n",
       "        vertical-align: middle;\n",
       "    }\n",
       "\n",
       "    .dataframe tbody tr th {\n",
       "        vertical-align: top;\n",
       "    }\n",
       "\n",
       "    .dataframe thead th {\n",
       "        text-align: right;\n",
       "    }\n",
       "</style>\n",
       "<table border=\"1\" class=\"dataframe\">\n",
       "  <thead>\n",
       "    <tr style=\"text-align: right;\">\n",
       "      <th></th>\n",
       "      <th>id</th>\n",
       "      <th>f0</th>\n",
       "      <th>f1</th>\n",
       "      <th>f2</th>\n",
       "      <th>product</th>\n",
       "    </tr>\n",
       "  </thead>\n",
       "  <tbody>\n",
       "    <tr>\n",
       "      <th>0</th>\n",
       "      <td>kBEdx</td>\n",
       "      <td>-15.001348</td>\n",
       "      <td>-8.276000</td>\n",
       "      <td>-0.005876</td>\n",
       "      <td>3.179103</td>\n",
       "    </tr>\n",
       "    <tr>\n",
       "      <th>1</th>\n",
       "      <td>62mP7</td>\n",
       "      <td>14.272088</td>\n",
       "      <td>-3.475083</td>\n",
       "      <td>0.999183</td>\n",
       "      <td>26.953261</td>\n",
       "    </tr>\n",
       "    <tr>\n",
       "      <th>2</th>\n",
       "      <td>vyE1P</td>\n",
       "      <td>6.263187</td>\n",
       "      <td>-5.948386</td>\n",
       "      <td>5.001160</td>\n",
       "      <td>134.766305</td>\n",
       "    </tr>\n",
       "    <tr>\n",
       "      <th>3</th>\n",
       "      <td>KcrkZ</td>\n",
       "      <td>-13.081196</td>\n",
       "      <td>-11.506057</td>\n",
       "      <td>4.999415</td>\n",
       "      <td>137.945408</td>\n",
       "    </tr>\n",
       "    <tr>\n",
       "      <th>4</th>\n",
       "      <td>AHL4O</td>\n",
       "      <td>12.702195</td>\n",
       "      <td>-8.147433</td>\n",
       "      <td>5.004363</td>\n",
       "      <td>134.766305</td>\n",
       "    </tr>\n",
       "  </tbody>\n",
       "</table>\n",
       "</div>"
      ],
      "text/plain": [
       "      id         f0         f1        f2     product\n",
       "0  kBEdx -15.001348  -8.276000 -0.005876    3.179103\n",
       "1  62mP7  14.272088  -3.475083  0.999183   26.953261\n",
       "2  vyE1P   6.263187  -5.948386  5.001160  134.766305\n",
       "3  KcrkZ -13.081196 -11.506057  4.999415  137.945408\n",
       "4  AHL4O  12.702195  -8.147433  5.004363  134.766305"
      ]
     },
     "metadata": {},
     "output_type": "display_data"
    }
   ],
   "source": [
    "display(data_1.head(5))"
   ]
  },
  {
   "cell_type": "code",
   "execution_count": 7,
   "metadata": {},
   "outputs": [
    {
     "name": "stdout",
     "output_type": "stream",
     "text": [
      "<class 'pandas.core.frame.DataFrame'>\n",
      "RangeIndex: 100000 entries, 0 to 99999\n",
      "Data columns (total 5 columns):\n",
      " #   Column   Non-Null Count   Dtype  \n",
      "---  ------   --------------   -----  \n",
      " 0   id       100000 non-null  object \n",
      " 1   f0       100000 non-null  float64\n",
      " 2   f1       100000 non-null  float64\n",
      " 3   f2       100000 non-null  float64\n",
      " 4   product  100000 non-null  float64\n",
      "dtypes: float64(4), object(1)\n",
      "memory usage: 3.8+ MB\n"
     ]
    }
   ],
   "source": [
    "data_1.info()"
   ]
  },
  {
   "cell_type": "code",
   "execution_count": 8,
   "metadata": {},
   "outputs": [
    {
     "data": {
      "text/html": [
       "<div>\n",
       "<style scoped>\n",
       "    .dataframe tbody tr th:only-of-type {\n",
       "        vertical-align: middle;\n",
       "    }\n",
       "\n",
       "    .dataframe tbody tr th {\n",
       "        vertical-align: top;\n",
       "    }\n",
       "\n",
       "    .dataframe thead th {\n",
       "        text-align: right;\n",
       "    }\n",
       "</style>\n",
       "<table border=\"1\" class=\"dataframe\">\n",
       "  <thead>\n",
       "    <tr style=\"text-align: right;\">\n",
       "      <th></th>\n",
       "      <th>id</th>\n",
       "      <th>f0</th>\n",
       "      <th>f1</th>\n",
       "      <th>f2</th>\n",
       "      <th>product</th>\n",
       "    </tr>\n",
       "  </thead>\n",
       "  <tbody>\n",
       "    <tr>\n",
       "      <th>0</th>\n",
       "      <td>fwXo0</td>\n",
       "      <td>-1.146987</td>\n",
       "      <td>0.963328</td>\n",
       "      <td>-0.828965</td>\n",
       "      <td>27.758673</td>\n",
       "    </tr>\n",
       "    <tr>\n",
       "      <th>1</th>\n",
       "      <td>WJtFt</td>\n",
       "      <td>0.262778</td>\n",
       "      <td>0.269839</td>\n",
       "      <td>-2.530187</td>\n",
       "      <td>56.069697</td>\n",
       "    </tr>\n",
       "    <tr>\n",
       "      <th>2</th>\n",
       "      <td>ovLUW</td>\n",
       "      <td>0.194587</td>\n",
       "      <td>0.289035</td>\n",
       "      <td>-5.586433</td>\n",
       "      <td>62.871910</td>\n",
       "    </tr>\n",
       "    <tr>\n",
       "      <th>3</th>\n",
       "      <td>q6cA6</td>\n",
       "      <td>2.236060</td>\n",
       "      <td>-0.553760</td>\n",
       "      <td>0.930038</td>\n",
       "      <td>114.572842</td>\n",
       "    </tr>\n",
       "    <tr>\n",
       "      <th>4</th>\n",
       "      <td>WPMUX</td>\n",
       "      <td>-0.515993</td>\n",
       "      <td>1.716266</td>\n",
       "      <td>5.899011</td>\n",
       "      <td>149.600746</td>\n",
       "    </tr>\n",
       "  </tbody>\n",
       "</table>\n",
       "</div>"
      ],
      "text/plain": [
       "      id        f0        f1        f2     product\n",
       "0  fwXo0 -1.146987  0.963328 -0.828965   27.758673\n",
       "1  WJtFt  0.262778  0.269839 -2.530187   56.069697\n",
       "2  ovLUW  0.194587  0.289035 -5.586433   62.871910\n",
       "3  q6cA6  2.236060 -0.553760  0.930038  114.572842\n",
       "4  WPMUX -0.515993  1.716266  5.899011  149.600746"
      ]
     },
     "metadata": {},
     "output_type": "display_data"
    }
   ],
   "source": [
    "display(data_2.head(5))"
   ]
  },
  {
   "cell_type": "code",
   "execution_count": 9,
   "metadata": {},
   "outputs": [
    {
     "name": "stdout",
     "output_type": "stream",
     "text": [
      "<class 'pandas.core.frame.DataFrame'>\n",
      "RangeIndex: 100000 entries, 0 to 99999\n",
      "Data columns (total 5 columns):\n",
      " #   Column   Non-Null Count   Dtype  \n",
      "---  ------   --------------   -----  \n",
      " 0   id       100000 non-null  object \n",
      " 1   f0       100000 non-null  float64\n",
      " 2   f1       100000 non-null  float64\n",
      " 3   f2       100000 non-null  float64\n",
      " 4   product  100000 non-null  float64\n",
      "dtypes: float64(4), object(1)\n",
      "memory usage: 3.8+ MB\n"
     ]
    }
   ],
   "source": [
    "data_2.info()"
   ]
  },
  {
   "cell_type": "markdown",
   "metadata": {},
   "source": [
    "Удалим столбец ID, так как данные в данном столбце не оказывают влияние на целевой признак."
   ]
  },
  {
   "cell_type": "code",
   "execution_count": 10,
   "metadata": {},
   "outputs": [],
   "source": [
    "data_0= data_0.drop(columns=['id'], axis=1)"
   ]
  },
  {
   "cell_type": "code",
   "execution_count": 11,
   "metadata": {},
   "outputs": [],
   "source": [
    "data_1= data_1.drop(columns=['id'], axis=1)"
   ]
  },
  {
   "cell_type": "code",
   "execution_count": 12,
   "metadata": {},
   "outputs": [],
   "source": [
    "data_2= data_2.drop(columns=['id'], axis=1)"
   ]
  },
  {
   "cell_type": "markdown",
   "metadata": {},
   "source": [
    "Посмотрим на численные данные оставшиеся в таблице"
   ]
  },
  {
   "cell_type": "code",
   "execution_count": 13,
   "metadata": {},
   "outputs": [
    {
     "data": {
      "text/html": [
       "<div>\n",
       "<style scoped>\n",
       "    .dataframe tbody tr th:only-of-type {\n",
       "        vertical-align: middle;\n",
       "    }\n",
       "\n",
       "    .dataframe tbody tr th {\n",
       "        vertical-align: top;\n",
       "    }\n",
       "\n",
       "    .dataframe thead th {\n",
       "        text-align: right;\n",
       "    }\n",
       "</style>\n",
       "<table border=\"1\" class=\"dataframe\">\n",
       "  <thead>\n",
       "    <tr style=\"text-align: right;\">\n",
       "      <th></th>\n",
       "      <th>f0</th>\n",
       "      <th>f1</th>\n",
       "      <th>f2</th>\n",
       "      <th>product</th>\n",
       "    </tr>\n",
       "  </thead>\n",
       "  <tbody>\n",
       "    <tr>\n",
       "      <th>count</th>\n",
       "      <td>100000.000000</td>\n",
       "      <td>100000.000000</td>\n",
       "      <td>100000.000000</td>\n",
       "      <td>100000.000000</td>\n",
       "    </tr>\n",
       "    <tr>\n",
       "      <th>mean</th>\n",
       "      <td>0.500419</td>\n",
       "      <td>0.250143</td>\n",
       "      <td>2.502647</td>\n",
       "      <td>92.500000</td>\n",
       "    </tr>\n",
       "    <tr>\n",
       "      <th>std</th>\n",
       "      <td>0.871832</td>\n",
       "      <td>0.504433</td>\n",
       "      <td>3.248248</td>\n",
       "      <td>44.288691</td>\n",
       "    </tr>\n",
       "    <tr>\n",
       "      <th>min</th>\n",
       "      <td>-1.408605</td>\n",
       "      <td>-0.848218</td>\n",
       "      <td>-12.088328</td>\n",
       "      <td>0.000000</td>\n",
       "    </tr>\n",
       "    <tr>\n",
       "      <th>25%</th>\n",
       "      <td>-0.072580</td>\n",
       "      <td>-0.200881</td>\n",
       "      <td>0.287748</td>\n",
       "      <td>56.497507</td>\n",
       "    </tr>\n",
       "    <tr>\n",
       "      <th>50%</th>\n",
       "      <td>0.502360</td>\n",
       "      <td>0.250252</td>\n",
       "      <td>2.515969</td>\n",
       "      <td>91.849972</td>\n",
       "    </tr>\n",
       "    <tr>\n",
       "      <th>75%</th>\n",
       "      <td>1.073581</td>\n",
       "      <td>0.700646</td>\n",
       "      <td>4.715088</td>\n",
       "      <td>128.564089</td>\n",
       "    </tr>\n",
       "    <tr>\n",
       "      <th>max</th>\n",
       "      <td>2.362331</td>\n",
       "      <td>1.343769</td>\n",
       "      <td>16.003790</td>\n",
       "      <td>185.364347</td>\n",
       "    </tr>\n",
       "  </tbody>\n",
       "</table>\n",
       "</div>"
      ],
      "text/plain": [
       "                  f0             f1             f2        product\n",
       "count  100000.000000  100000.000000  100000.000000  100000.000000\n",
       "mean        0.500419       0.250143       2.502647      92.500000\n",
       "std         0.871832       0.504433       3.248248      44.288691\n",
       "min        -1.408605      -0.848218     -12.088328       0.000000\n",
       "25%        -0.072580      -0.200881       0.287748      56.497507\n",
       "50%         0.502360       0.250252       2.515969      91.849972\n",
       "75%         1.073581       0.700646       4.715088     128.564089\n",
       "max         2.362331       1.343769      16.003790     185.364347"
      ]
     },
     "execution_count": 13,
     "metadata": {},
     "output_type": "execute_result"
    }
   ],
   "source": [
    "data_0.describe()"
   ]
  },
  {
   "cell_type": "code",
   "execution_count": 14,
   "metadata": {},
   "outputs": [
    {
     "data": {
      "text/html": [
       "<div>\n",
       "<style scoped>\n",
       "    .dataframe tbody tr th:only-of-type {\n",
       "        vertical-align: middle;\n",
       "    }\n",
       "\n",
       "    .dataframe tbody tr th {\n",
       "        vertical-align: top;\n",
       "    }\n",
       "\n",
       "    .dataframe thead th {\n",
       "        text-align: right;\n",
       "    }\n",
       "</style>\n",
       "<table border=\"1\" class=\"dataframe\">\n",
       "  <thead>\n",
       "    <tr style=\"text-align: right;\">\n",
       "      <th></th>\n",
       "      <th>f0</th>\n",
       "      <th>f1</th>\n",
       "      <th>f2</th>\n",
       "      <th>product</th>\n",
       "    </tr>\n",
       "  </thead>\n",
       "  <tbody>\n",
       "    <tr>\n",
       "      <th>count</th>\n",
       "      <td>100000.000000</td>\n",
       "      <td>100000.000000</td>\n",
       "      <td>100000.000000</td>\n",
       "      <td>100000.000000</td>\n",
       "    </tr>\n",
       "    <tr>\n",
       "      <th>mean</th>\n",
       "      <td>1.141296</td>\n",
       "      <td>-4.796579</td>\n",
       "      <td>2.494541</td>\n",
       "      <td>68.825000</td>\n",
       "    </tr>\n",
       "    <tr>\n",
       "      <th>std</th>\n",
       "      <td>8.965932</td>\n",
       "      <td>5.119872</td>\n",
       "      <td>1.703572</td>\n",
       "      <td>45.944423</td>\n",
       "    </tr>\n",
       "    <tr>\n",
       "      <th>min</th>\n",
       "      <td>-31.609576</td>\n",
       "      <td>-26.358598</td>\n",
       "      <td>-0.018144</td>\n",
       "      <td>0.000000</td>\n",
       "    </tr>\n",
       "    <tr>\n",
       "      <th>25%</th>\n",
       "      <td>-6.298551</td>\n",
       "      <td>-8.267985</td>\n",
       "      <td>1.000021</td>\n",
       "      <td>26.953261</td>\n",
       "    </tr>\n",
       "    <tr>\n",
       "      <th>50%</th>\n",
       "      <td>1.153055</td>\n",
       "      <td>-4.813172</td>\n",
       "      <td>2.011479</td>\n",
       "      <td>57.085625</td>\n",
       "    </tr>\n",
       "    <tr>\n",
       "      <th>75%</th>\n",
       "      <td>8.621015</td>\n",
       "      <td>-1.332816</td>\n",
       "      <td>3.999904</td>\n",
       "      <td>107.813044</td>\n",
       "    </tr>\n",
       "    <tr>\n",
       "      <th>max</th>\n",
       "      <td>29.421755</td>\n",
       "      <td>18.734063</td>\n",
       "      <td>5.019721</td>\n",
       "      <td>137.945408</td>\n",
       "    </tr>\n",
       "  </tbody>\n",
       "</table>\n",
       "</div>"
      ],
      "text/plain": [
       "                  f0             f1             f2        product\n",
       "count  100000.000000  100000.000000  100000.000000  100000.000000\n",
       "mean        1.141296      -4.796579       2.494541      68.825000\n",
       "std         8.965932       5.119872       1.703572      45.944423\n",
       "min       -31.609576     -26.358598      -0.018144       0.000000\n",
       "25%        -6.298551      -8.267985       1.000021      26.953261\n",
       "50%         1.153055      -4.813172       2.011479      57.085625\n",
       "75%         8.621015      -1.332816       3.999904     107.813044\n",
       "max        29.421755      18.734063       5.019721     137.945408"
      ]
     },
     "execution_count": 14,
     "metadata": {},
     "output_type": "execute_result"
    }
   ],
   "source": [
    "data_1.describe()"
   ]
  },
  {
   "cell_type": "code",
   "execution_count": 15,
   "metadata": {},
   "outputs": [
    {
     "data": {
      "text/html": [
       "<div>\n",
       "<style scoped>\n",
       "    .dataframe tbody tr th:only-of-type {\n",
       "        vertical-align: middle;\n",
       "    }\n",
       "\n",
       "    .dataframe tbody tr th {\n",
       "        vertical-align: top;\n",
       "    }\n",
       "\n",
       "    .dataframe thead th {\n",
       "        text-align: right;\n",
       "    }\n",
       "</style>\n",
       "<table border=\"1\" class=\"dataframe\">\n",
       "  <thead>\n",
       "    <tr style=\"text-align: right;\">\n",
       "      <th></th>\n",
       "      <th>f0</th>\n",
       "      <th>f1</th>\n",
       "      <th>f2</th>\n",
       "      <th>product</th>\n",
       "    </tr>\n",
       "  </thead>\n",
       "  <tbody>\n",
       "    <tr>\n",
       "      <th>count</th>\n",
       "      <td>100000.000000</td>\n",
       "      <td>100000.000000</td>\n",
       "      <td>100000.000000</td>\n",
       "      <td>100000.000000</td>\n",
       "    </tr>\n",
       "    <tr>\n",
       "      <th>mean</th>\n",
       "      <td>0.002023</td>\n",
       "      <td>-0.002081</td>\n",
       "      <td>2.495128</td>\n",
       "      <td>95.000000</td>\n",
       "    </tr>\n",
       "    <tr>\n",
       "      <th>std</th>\n",
       "      <td>1.732045</td>\n",
       "      <td>1.730417</td>\n",
       "      <td>3.473445</td>\n",
       "      <td>44.749921</td>\n",
       "    </tr>\n",
       "    <tr>\n",
       "      <th>min</th>\n",
       "      <td>-8.760004</td>\n",
       "      <td>-7.084020</td>\n",
       "      <td>-11.970335</td>\n",
       "      <td>0.000000</td>\n",
       "    </tr>\n",
       "    <tr>\n",
       "      <th>25%</th>\n",
       "      <td>-1.162288</td>\n",
       "      <td>-1.174820</td>\n",
       "      <td>0.130359</td>\n",
       "      <td>59.450441</td>\n",
       "    </tr>\n",
       "    <tr>\n",
       "      <th>50%</th>\n",
       "      <td>0.009424</td>\n",
       "      <td>-0.009482</td>\n",
       "      <td>2.484236</td>\n",
       "      <td>94.925613</td>\n",
       "    </tr>\n",
       "    <tr>\n",
       "      <th>75%</th>\n",
       "      <td>1.158535</td>\n",
       "      <td>1.163678</td>\n",
       "      <td>4.858794</td>\n",
       "      <td>130.595027</td>\n",
       "    </tr>\n",
       "    <tr>\n",
       "      <th>max</th>\n",
       "      <td>7.238262</td>\n",
       "      <td>7.844801</td>\n",
       "      <td>16.739402</td>\n",
       "      <td>190.029838</td>\n",
       "    </tr>\n",
       "  </tbody>\n",
       "</table>\n",
       "</div>"
      ],
      "text/plain": [
       "                  f0             f1             f2        product\n",
       "count  100000.000000  100000.000000  100000.000000  100000.000000\n",
       "mean        0.002023      -0.002081       2.495128      95.000000\n",
       "std         1.732045       1.730417       3.473445      44.749921\n",
       "min        -8.760004      -7.084020     -11.970335       0.000000\n",
       "25%        -1.162288      -1.174820       0.130359      59.450441\n",
       "50%         0.009424      -0.009482       2.484236      94.925613\n",
       "75%         1.158535       1.163678       4.858794     130.595027\n",
       "max         7.238262       7.844801      16.739402     190.029838"
      ]
     },
     "execution_count": 15,
     "metadata": {},
     "output_type": "execute_result"
    }
   ],
   "source": [
    "data_2.describe()"
   ]
  },
  {
   "cell_type": "markdown",
   "metadata": {},
   "source": [
    "Промежуточный вывод:\n",
    " 1. В загруженных данных были удалены столбцы ID для всех регионов как невлияющий на целевой признак.\n",
    " 2. При рассмотрении данных было устанволено, что целевой признак product имеет очень большой разброс:\n",
    "  - 1-й регион: среднее 92.5, min=0, max=185;\n",
    "  - 2-й регион: среднее 69, min=0, max=137;\n",
    "  - 3-й регион: среднее 95, min=0, max=190.\n",
    " 3. При дальнешем определении региона и поиске лучших скважин нужно учитвывать, что отклонение от среднего в большую и меньшую сторону достаточно большое. "
   ]
  },
  {
   "cell_type": "markdown",
   "metadata": {},
   "source": [
    "## Обучение и проверка модели"
   ]
  },
  {
   "cell_type": "markdown",
   "metadata": {},
   "source": [
    "### Разбиение данных на обучающую и валидационную выборки в соотношении 75:25"
   ]
  },
  {
   "cell_type": "markdown",
   "metadata": {},
   "source": [
    "Создадим функцию для деления выборки на обучающущю и валидационную."
   ]
  },
  {
   "cell_type": "code",
   "execution_count": 16,
   "metadata": {},
   "outputs": [],
   "source": [
    "# функция деления выборки\n",
    "def separate(data):\n",
    "    target = data['product']\n",
    "    features = data.drop('product', axis=1)\n",
    "    features_train, features_valid, target_train, target_valid = train_test_split(\n",
    "    features, target, test_size=0.25, random_state=12345)\n",
    "    return features_train, features_valid, target_train, target_valid"
   ]
  },
  {
   "cell_type": "markdown",
   "metadata": {},
   "source": [
    "#### 1-й регион"
   ]
  },
  {
   "cell_type": "code",
   "execution_count": 17,
   "metadata": {},
   "outputs": [],
   "source": [
    "# применим функцию деления на выборки для 1-го региона\n",
    "features_train_0, features_valid_0, target_train_0, target_valid_0 = separate(data_0)"
   ]
  },
  {
   "cell_type": "code",
   "execution_count": 18,
   "metadata": {},
   "outputs": [
    {
     "name": "stdout",
     "output_type": "stream",
     "text": [
      "(75000, 3)\n",
      "(25000, 3)\n",
      "(75000,)\n",
      "(25000,)\n"
     ]
    }
   ],
   "source": [
    "#check\n",
    "print(features_train_0.shape)\n",
    "print(features_valid_0.shape)\n",
    "print(target_train_0.shape)\n",
    "print(target_valid_0.shape)"
   ]
  },
  {
   "cell_type": "markdown",
   "metadata": {},
   "source": [
    "#### 2-й регион"
   ]
  },
  {
   "cell_type": "code",
   "execution_count": 19,
   "metadata": {},
   "outputs": [],
   "source": [
    "# применим функцию деления на выборки для 2-го региона\n",
    "features_train_1, features_valid_1, target_train_1, target_valid_1 = separate(data_1)"
   ]
  },
  {
   "cell_type": "code",
   "execution_count": 20,
   "metadata": {},
   "outputs": [
    {
     "name": "stdout",
     "output_type": "stream",
     "text": [
      "(75000, 3)\n",
      "(25000, 3)\n",
      "(75000,)\n",
      "(25000,)\n"
     ]
    }
   ],
   "source": [
    "#check\n",
    "print(features_train_1.shape)\n",
    "print(features_valid_1.shape)\n",
    "print(target_train_1.shape)\n",
    "print(target_valid_1.shape)"
   ]
  },
  {
   "cell_type": "markdown",
   "metadata": {},
   "source": [
    "#### 3-й регион"
   ]
  },
  {
   "cell_type": "code",
   "execution_count": 21,
   "metadata": {},
   "outputs": [],
   "source": [
    "# применим функцию деления на выборки для 3-го региона\n",
    "features_train_2, features_valid_2, target_train_2, target_valid_2 = separate(data_2)"
   ]
  },
  {
   "cell_type": "code",
   "execution_count": 22,
   "metadata": {},
   "outputs": [
    {
     "name": "stdout",
     "output_type": "stream",
     "text": [
      "(75000, 3)\n",
      "(25000, 3)\n",
      "(75000,)\n",
      "(25000,)\n"
     ]
    }
   ],
   "source": [
    "#check\n",
    "print(features_train_2.shape)\n",
    "print(features_valid_2.shape)\n",
    "print(target_train_2.shape)\n",
    "print(target_valid_2.shape)"
   ]
  },
  {
   "cell_type": "code",
   "execution_count": 23,
   "metadata": {},
   "outputs": [
    {
     "data": {
      "text/plain": [
       "pandas.core.series.Series"
      ]
     },
     "execution_count": 23,
     "metadata": {},
     "output_type": "execute_result"
    }
   ],
   "source": [
    "# check\n",
    "type(target_valid_2)"
   ]
  },
  {
   "cell_type": "markdown",
   "metadata": {},
   "source": [
    "### Обучение модели и получение предсказания на валидационной выборке."
   ]
  },
  {
   "cell_type": "markdown",
   "metadata": {},
   "source": [
    "Создадим функцию для получения предсказаний"
   ]
  },
  {
   "cell_type": "code",
   "execution_count": 24,
   "metadata": {},
   "outputs": [],
   "source": [
    "# функиця обучения модели о получения предсказаний на валидационнйо выборке\n",
    "def model_prediction(features_train, target_train, features_valid, target_valid):\n",
    "    # модель LinearRegression\n",
    "    model = LinearRegression()\n",
    "    # обучение модель на тренировочной выборке\n",
    "    model.fit(features_train, target_train) \n",
    "    # получите предсказания модели на валидационной выборке\n",
    "    predictions_valid = model.predict(features_valid)\n",
    "    # посчтаем среднее прдесказаний на валидационной выборке\n",
    "    predictions_valid_mean = predictions_valid.mean()\n",
    "    # посчитайте значение метрики RMSE на валидационной выборке\n",
    "    rmse = mean_squared_error(target_valid, predictions_valid)**0.5\n",
    "  \n",
    "    return predictions_valid, predictions_valid_mean, rmse"
   ]
  },
  {
   "cell_type": "code",
   "execution_count": 25,
   "metadata": {},
   "outputs": [
    {
     "name": "stdout",
     "output_type": "stream",
     "text": [
      "Среднее запаса предсказанного сырья для 1 региона: 92.59256778438035\n",
      "RMSE модели для 1 региона: 37.5794217150813\n"
     ]
    }
   ],
   "source": [
    "# получение предсказаний для 1 региона\n",
    "predictions_valid_0, predictions_valid_mean_0, rmse_0 = model_prediction(\n",
    "    features_train_0, target_train_0, features_valid_0, target_valid_0)\n",
    "print('Среднее запаса предсказанного сырья для 1 региона:', predictions_valid_mean_0)\n",
    "print('RMSE модели для 1 региона:', rmse_0)"
   ]
  },
  {
   "cell_type": "code",
   "execution_count": 26,
   "metadata": {},
   "outputs": [
    {
     "name": "stdout",
     "output_type": "stream",
     "text": [
      "Среднее запаса предсказанного сырья для 2 региона: 68.728546895446\n",
      "RMSE модели для 2 региона: 0.893099286775617\n"
     ]
    }
   ],
   "source": [
    "# получение предсказаний для 2 региона\n",
    "predictions_valid_1, predictions_valid_mean_1, rmse_1 = model_prediction(\n",
    "    features_train_1, target_train_1, features_valid_1, target_valid_1)\n",
    "print('Среднее запаса предсказанного сырья для 2 региона:', predictions_valid_mean_1)\n",
    "print('RMSE модели для 2 региона:', rmse_1)"
   ]
  },
  {
   "cell_type": "code",
   "execution_count": 27,
   "metadata": {},
   "outputs": [
    {
     "name": "stdout",
     "output_type": "stream",
     "text": [
      "Среднее запаса предсказанного сырья для 2 региона: 94.96504596800489\n",
      "RMSE модели для 2 региона: 40.02970873393434\n"
     ]
    }
   ],
   "source": [
    "# получение предсказаний для 3 региона\n",
    "predictions_valid_2, predictions_valid_mean_2, rmse_2 = model_prediction(\n",
    "    features_train_2, target_train_2, features_valid_2, target_valid_2)\n",
    "print('Среднее запаса предсказанного сырья для 2 региона:', predictions_valid_mean_2)\n",
    "print('RMSE модели для 2 региона:', rmse_2)"
   ]
  },
  {
   "cell_type": "markdown",
   "metadata": {},
   "source": [
    "Сохраним полученные предсказания predictions_valid в отдельные переменные типа Series в соответствии с индексами target_valid.\n",
    "Данные значения будут использоваться в функции для расчета прибыли и рисков."
   ]
  },
  {
   "cell_type": "code",
   "execution_count": 28,
   "metadata": {},
   "outputs": [],
   "source": [
    "prediction_0 = pd.Series(predictions_valid_0, index = target_valid_0.index)\n",
    "prediction_1 = pd.Series(predictions_valid_1, index = target_valid_1.index) \n",
    "prediction_2 = pd.Series(predictions_valid_2, index = target_valid_2.index) "
   ]
  },
  {
   "cell_type": "code",
   "execution_count": 29,
   "metadata": {},
   "outputs": [
    {
     "name": "stdout",
     "output_type": "stream",
     "text": [
      "<class 'pandas.core.series.Series'>\n",
      "\n",
      "(25000,)\n",
      "(25000,)\n",
      "(25000,)\n"
     ]
    }
   ],
   "source": [
    "#check\n",
    "print(type(prediction_0))\n",
    "print()\n",
    "print(prediction_0.shape)\n",
    "print(prediction_1.shape)\n",
    "print(prediction_2.shape)"
   ]
  },
  {
   "cell_type": "markdown",
   "metadata": {},
   "source": [
    "### Анализ результатов."
   ]
  },
  {
   "cell_type": "markdown",
   "metadata": {},
   "source": [
    "Из полученных результатов видно:\n",
    "  - 1-й и 3-й регионы очень похожи у них высокий уровень среднего запаса сырья, однако очень высокое значение отклонения,\n",
    "  - 2-й регион обладает более низким значением среднего предсказанного запаса сырья, однако у него очень низкое значение отклонения,\n",
    "  - на данном этапе 1 и 3 регион выглядят перспективными."
   ]
  },
  {
   "cell_type": "markdown",
   "metadata": {},
   "source": [
    "## Подготовка к расчёту прибыли"
   ]
  },
  {
   "cell_type": "markdown",
   "metadata": {},
   "source": [
    "Исходные данные"
   ]
  },
  {
   "cell_type": "code",
   "execution_count": 30,
   "metadata": {},
   "outputs": [],
   "source": [
    "# бюджет на разработку скважин в регионе\n",
    "NET_COST = 10000000000\n",
    "# стоиомсть бареля нефти\n",
    "BARELL_COST = 450000\n",
    "# количество скважин к разработке\n",
    "WELL_NUMBER = 200\n",
    "# количество точек для исследования\n",
    "POINT_NUMBER = 500"
   ]
  },
  {
   "cell_type": "markdown",
   "metadata": {},
   "source": [
    "Создадим функцию для расчета необходимого объема добычи сырья по всем скважинам и для одной скважины. Получаемая величина измеряется тысячах бареллей."
   ]
  },
  {
   "cell_type": "code",
   "execution_count": 31,
   "metadata": {},
   "outputs": [],
   "source": [
    " # функция для расчета необъодимого запаса сырья\n",
    "def production(netcost, barellcost, wellnumber):\n",
    "    # расчет необходимого количества добычи нефти в регионе\n",
    "    production_total = netcost / barellcost\n",
    "    # расчет необходимого количества добычи нефти в регионе на одну скважину\n",
    "    production_per_well = production_total / wellnumber\n",
    "    return production_total, production_per_well"
   ]
  },
  {
   "cell_type": "markdown",
   "metadata": {},
   "source": [
    "Расчитаем необходимый объем добычи сырья по всем скважинам и для одной скважины. Получаемая велична измеряется тысячах бареллей."
   ]
  },
  {
   "cell_type": "code",
   "execution_count": 32,
   "metadata": {},
   "outputs": [
    {
     "name": "stdout",
     "output_type": "stream",
     "text": [
      "Необходимое количество добычи нефти в регионе не менее: 22222\n",
      "Необходимое среднее количество добычи нефти в регионе на одну скважину: 111\n"
     ]
    }
   ],
   "source": [
    "oil_production_per_total, oil_production_per_well = production(NET_COST, BARELL_COST, WELL_NUMBER)\n",
    "print('Необходимое количество добычи нефти в регионе не менее:', round(oil_production_per_total))\n",
    "print('Необходимое среднее количество добычи нефти в регионе на одну скважину:', round(oil_production_per_well))"
   ]
  },
  {
   "cell_type": "markdown",
   "metadata": {},
   "source": [
    "Промежуточный вывод: \n",
    "- Необходимое количество сырья для добычи нефти превышает среднии значения предсказанного сырья по всем регионам.\n",
    "- Cтоит учесть что, это средние занчения. В регионах есть скавжины, в которых можно добывать существенно больше сырья.\n",
    "- Имеено эти скважины с максимальным объемом добычи и обеспечать необходимый уровень добычи сырья и прибыль."
   ]
  },
  {
   "cell_type": "markdown",
   "metadata": {},
   "source": [
    "## Создание функции для расчёта прибыли по выбранным скважинам и предсказаниям модели:"
   ]
  },
  {
   "cell_type": "markdown",
   "metadata": {},
   "source": [
    "Создадим функцию для расчета максимальной прибыли для определенного количества сважин 'barellcost' и конкретной стоимости за едницу сырья 'wellnumber'"
   ]
  },
  {
   "cell_type": "code",
   "execution_count": 36,
   "metadata": {},
   "outputs": [],
   "source": [
    "def profit(target, predictions, wellnumber):\n",
    "    predictions = pd.Series(predictions, index = target.index)\n",
    "    # делаем сорировку по возрастанию\n",
    "    predictions_sorted = predictions.sort_values(ascending=False)\n",
    "    # делаем срез по нужному количеству скважин\n",
    "    selected = target[predictions_sorted.index][:wellnumber]\n",
    "    return BARELL_COST * selected.sum() - NET_COST"
   ]
  },
  {
   "cell_type": "code",
   "execution_count": 37,
   "metadata": {},
   "outputs": [
    {
     "name": "stdout",
     "output_type": "stream",
     "text": [
      "MAX прибыль по предсказаниям модели по лучшим 200 скважинам, млрд:\n",
      "1-й регион: 3.32\n",
      "2-й регион: 2.42\n",
      "3-й регион: 2.71\n"
     ]
    }
   ],
   "source": [
    "# расчитаем прибыль\n",
    "print('MAX прибыль по предсказаниям модели по лучшим 200 скважинам, млрд:')\n",
    "print('1-й регион:', round(profit(target_valid_0, predictions_valid_0, WELL_NUMBER)/1000000000, 2))\n",
    "print('2-й регион:', round(profit(target_valid_1, predictions_valid_1, WELL_NUMBER)/1000000000, 2))\n",
    "print('3-й регион:', round(profit(target_valid_2, predictions_valid_2, WELL_NUMBER)/1000000000, 2))"
   ]
  },
  {
   "cell_type": "markdown",
   "metadata": {},
   "source": [
    "Промежучтоный вывод:\n",
    " - Полученная функция вычисляет прибыль по заданному числу скважин = 200,\n",
    " - Взяты скважины с максимальным количеством добычи сырья. \n",
    " - Из полученных результатов видно, что максимально возможная прибыль исчисляется милиардами.\n",
    " - Лучший результат у 1-го региона, худший и 2-го региона."
   ]
  },
  {
   "cell_type": "markdown",
   "metadata": {},
   "source": [
    "## Расчет рисков и прибыли"
   ]
  },
  {
   "cell_type": "markdown",
   "metadata": {},
   "source": [
    "Создадим функцию для расчета прибыли и риска "
   ]
  },
  {
   "cell_type": "code",
   "execution_count": 45,
   "metadata": {},
   "outputs": [],
   "source": [
    "def profit_calc(target_valid, prediction):\n",
    "    state = np.random.RandomState(12345)\n",
    "    values = []\n",
    "    risk_count = 0\n",
    "    for i in range(1000):\n",
    "        # количество точек для исследования 500\n",
    "        target_subsample = target_valid.sample(500, replace=True, random_state=state)\n",
    "        probs_subsample = prediction[target_valid.index]\n",
    "        value  = profit(target_subsample, probs_subsample, WELL_NUMBER)\n",
    "        values.append(value) \n",
    "        # расчетаем количество вычислений с отрицаиельным результатом\n",
    "        if  value < 0:\n",
    "            risk_count += 1\n",
    "        \n",
    "    \n",
    "    \n",
    "    \n",
    "    values = pd.Series(values)\n",
    "    # нижняя граница прибыли\n",
    "    lower = values.quantile(0.025)\n",
    "    # нижняя граница прибыли\n",
    "    upper = values.quantile(0.975)\n",
    "    # среднее значение\n",
    "    mean = values.mean()\n",
    "    # процент риска\n",
    "    risk = (risk_count/1000)*100\n",
    "    \n",
    "    # вывод результатов\n",
    "    print(\"2,5%-квантиль\", round(lower/1000000, 2), 'млн.')\n",
    "    print(\"97,5%-квантиль:\", round(upper/1000000, 2), 'млн.')\n",
    "    print(\"Средняя выручка:\", round(mean/1000000, 2), 'млн.')\n",
    "    print(\"Риск убытка:\", round(risk, 2), '%')\n",
    "    \n",
    "    return lower, upper, mean, risk"
   ]
  },
  {
   "cell_type": "markdown",
   "metadata": {},
   "source": [
    "###  Риски и прибыли 1-й регион"
   ]
  },
  {
   "cell_type": "code",
   "execution_count": 46,
   "metadata": {},
   "outputs": [
    {
     "name": "stdout",
     "output_type": "stream",
     "text": [
      "2,5%-квантиль -102.09 млн.\n",
      "97,5%-квантиль: 947.98 млн.\n",
      "Средняя выручка: 425.94 млн.\n",
      "Риск убытка: 6.0 %\n"
     ]
    }
   ],
   "source": [
    "# расчет прибыли и рисков для 1-го региона\n",
    "lower_0, upper_0, mean_0, risk_0 = profit_calc(target_valid_0, prediction_0)"
   ]
  },
  {
   "cell_type": "markdown",
   "metadata": {},
   "source": [
    "###  Риски и прибыли 2-й регион"
   ]
  },
  {
   "cell_type": "code",
   "execution_count": 47,
   "metadata": {},
   "outputs": [
    {
     "name": "stdout",
     "output_type": "stream",
     "text": [
      "2,5%-квантиль 68.87 млн.\n",
      "97,5%-квантиль: 931.55 млн.\n",
      "Средняя выручка: 515.22 млн.\n",
      "Риск убытка: 1.0 %\n"
     ]
    }
   ],
   "source": [
    "# расчет прибыли и рисков для 2-го региона\n",
    "lower_1, upper_1, mean_1, risk_1 = profit_calc(target_valid_1, prediction_1)"
   ]
  },
  {
   "cell_type": "markdown",
   "metadata": {},
   "source": [
    "###  Риски и прибыли 3-й регион"
   ]
  },
  {
   "cell_type": "code",
   "execution_count": 49,
   "metadata": {},
   "outputs": [
    {
     "name": "stdout",
     "output_type": "stream",
     "text": [
      "2,5%-квантиль -128.88 млн.\n",
      "97,5%-квантиль: 969.71 млн.\n",
      "Средняя выручка: 435.01 млн.\n",
      "Риск убытка: 6.4 %\n"
     ]
    }
   ],
   "source": [
    "# расчет прибыли и рисков для 2-го региона\n",
    "lower_2, upper_2, mean_2, risk_2 = profit_calc(target_valid_2, prediction_2)"
   ]
  },
  {
   "cell_type": "markdown",
   "metadata": {},
   "source": [
    "### Выбор региона"
   ]
  },
  {
   "cell_type": "markdown",
   "metadata": {},
   "source": [
    " Сведем все данные вместе\n",
    " - 1-й регион: средняя выручка 425 млн, есть риск убытков на уровне 6%.\n",
    " - 2-й регион: средняя выручка 515 млн, есть риск убытков на уровне 1%.\n",
    " - 3-й регион: средняя выручка 435 млн, есть риск убытков на уровне 6,4%."
   ]
  },
  {
   "cell_type": "markdown",
   "metadata": {},
   "source": [
    "Построим график для наглядного сравнения полученных результатов."
   ]
  },
  {
   "cell_type": "code",
   "execution_count": 43,
   "metadata": {},
   "outputs": [
    {
     "data": {
      "image/png": "[encoded data removed]",
      "text/plain": [
       "<Figure size 864x432 with 1 Axes>"
      ]
     },
     "metadata": {
      "needs_background": "light"
     },
     "output_type": "display_data"
    }
   ],
   "source": [
    "lower = [lower_0, lower_1, lower_2]\n",
    "upper = [upper_0, upper_1, upper_2]\n",
    "mean = [mean_0, mean_1, mean_2]\n",
    "index = ['1-й регион', '2-й регион', '3-й регион']\n",
    "df = pd.DataFrame({'2,5%-квантиль': lower,'Среднее': mean, '97,5%-квантиль': upper}, index=index)\n",
    "ax = df.plot.barh(\n",
    "    grid = True,\n",
    "    title = 'Сравнение значений 2,5%-квантиль, среднее и 97,5%-квантиль для 3-х регионов',\n",
    "    figsize=(12,6))"
   ]
  },
  {
   "cell_type": "code",
   "execution_count": 56,
   "metadata": {},
   "outputs": [
    {
     "data": {
      "image/png": "[encoded data removed]",
      "text/plain": [
       "<Figure size 576x288 with 1 Axes>"
      ]
     },
     "metadata": {
      "needs_background": "light"
     },
     "output_type": "display_data"
    }
   ],
   "source": [
    "risk = [risk_0, risk_1, risk_2]\n",
    "df = pd.DataFrame(risk, index=index)\n",
    "ax = df.plot.bar(\n",
    "    title = 'Риски убутков для трех регионов, %',\n",
    "    legend = False,\n",
    "    figsize=(8,4))"
   ]
  },
  {
   "cell_type": "markdown",
   "metadata": {},
   "source": [
    "Вывод: \n",
    "- Хотя1-й и 3-й регионы имеют более широкий доверителный интервал, эти регионы имеет риск убытка на уровне 6%.\n",
    "- Средняя выручка самая высокая во 2-м регионе, а также самый низкий уровень риска 1%.\n",
    "- Выбираем 2-ой регион."
   ]
  },
  {
   "cell_type": "markdown",
   "metadata": {},
   "source": [
    "## Общий вывод"
   ]
  },
  {
   "cell_type": "markdown",
   "metadata": {},
   "source": [
    "В ходе выполнения данного проекта были выполнены следующие действия и получены соответсвующие результаты:\n",
    "1. Произведена загрузка и подготовка данных:\n",
    " - Удалены ненужные данные для модели.\n",
    " - Изучено расперделние будущего целевого признака.\n",
    "2. Обучена и проверена модель для каждого региона:\n",
    " - Разбиение данных на обучающую и валидационную выборки в соотношении 75:25.\n",
    " - Обучение модели и получение предсказания на валидационной выборке.\n",
    " - Получены мледущие данные для каждого региона:\n",
    "    - 1-й регион средний запас сыря : 92.59, RMSE: 37.58,\n",
    "    - 2-й регион средний запас сыря : 68.73, RMSE: 0.89,\n",
    "    - 3-й регион средний запас сыря : 94.97, RMSE: 40.03.\n",
    "3. Расчёт прибыли (подготовка):\n",
    " - Произведен рассчет достаточного объём сырья для безубыточной разработки новой скважины, что составило 111 тыс. бар.\n",
    "4. Создана функция для расчёта прибыли:\n",
    " - Создана функция для расчета максималной прибыли по заданому количеству скважин 200.\n",
    " - Произведен рассчет максимально возможной прибыли:\n",
    "    - 1-й регион 3.32 млрд,\n",
    "    - 2-й регион 2.42 млрд,\n",
    "    - 3-й регион 2,42 млрд.\n",
    "5. Роизведен расчет рисков и прибыли для каждого региона:\n",
    " - Была применена техника Bootstrap с 1000 выборок.\n",
    " - Произведен расчет средней прибыли, 95%-й доверительный интервал и риск убытков.\n",
    "    - 1-й регион: средняя выручка 425 млн, есть риск убытков 6.0%, 95% довертильный интервал -102 млн - 947 млн.\n",
    "    - 2-й регион: средняя выручка 515 млн, есть риск убытков 1.0%, 95% довертильный интервал   68 млн - 931 млн.\n",
    "    - 3-й регион: средняя выручка 435 млн, есть риск убытков 6.4%, 95% довертильный интервал -128 млн - 969 млн.\n",
    "6. Выбран 2-й регион, как регион с наибольшим средним значением прибыли и наименьшим риском понести убыток."
   ]
  }
 ],
 "metadata": {
  "ExecuteTimeLog": [
   {
    "duration": 50,
    "start_time": "2022-11-29T17:07:33.186Z"
   },
   {
    "duration": 1080,
    "start_time": "2022-11-29T17:08:24.040Z"
   },
   {
    "duration": 1628,
    "start_time": "2022-11-29T17:08:25.122Z"
   },
   {
    "duration": 2,
    "start_time": "2022-11-29T17:10:17.670Z"
   },
   {
    "duration": 18,
    "start_time": "2022-11-29T17:11:58.844Z"
   },
   {
    "duration": 16,
    "start_time": "2022-11-29T17:12:00.534Z"
   },
   {
    "duration": 14,
    "start_time": "2022-11-29T17:12:03.936Z"
   },
   {
    "duration": 9,
    "start_time": "2022-11-29T17:13:05.742Z"
   },
   {
    "duration": 65,
    "start_time": "2022-11-29T17:13:14.238Z"
   },
   {
    "duration": 2172,
    "start_time": "2022-11-29T17:13:27.200Z"
   },
   {
    "duration": 16,
    "start_time": "2022-11-29T17:13:34.217Z"
   },
   {
    "duration": 6,
    "start_time": "2022-11-29T17:13:50.843Z"
   },
   {
    "duration": 5,
    "start_time": "2022-11-29T17:14:13.295Z"
   },
   {
    "duration": 18,
    "start_time": "2022-11-29T17:14:43.581Z"
   },
   {
    "duration": 22,
    "start_time": "2022-11-29T17:15:17.066Z"
   },
   {
    "duration": 29,
    "start_time": "2022-11-29T17:16:39.756Z"
   },
   {
    "duration": 30,
    "start_time": "2022-11-29T17:16:49.695Z"
   },
   {
    "duration": 36,
    "start_time": "2022-11-29T17:17:12.311Z"
   },
   {
    "duration": 52,
    "start_time": "2022-11-29T17:17:45.475Z"
   },
   {
    "duration": 1295,
    "start_time": "2022-11-29T17:21:22.440Z"
   },
   {
    "duration": 31,
    "start_time": "2022-11-29T17:22:39.280Z"
   },
   {
    "duration": 26,
    "start_time": "2022-11-29T17:24:02.633Z"
   },
   {
    "duration": 20,
    "start_time": "2022-11-29T17:24:04.310Z"
   },
   {
    "duration": 27,
    "start_time": "2022-11-29T17:24:42.414Z"
   },
   {
    "duration": 8,
    "start_time": "2022-11-29T17:25:06.657Z"
   },
   {
    "duration": 3,
    "start_time": "2022-11-29T17:25:12.290Z"
   },
   {
    "duration": 4,
    "start_time": "2022-11-29T17:25:25.957Z"
   },
   {
    "duration": 4,
    "start_time": "2022-11-29T17:25:42.701Z"
   },
   {
    "duration": 4,
    "start_time": "2022-11-29T17:26:14.741Z"
   },
   {
    "duration": 5,
    "start_time": "2022-11-29T17:26:57.624Z"
   },
   {
    "duration": 5,
    "start_time": "2022-11-29T17:27:16.249Z"
   },
   {
    "duration": 9,
    "start_time": "2022-11-29T17:31:29.852Z"
   },
   {
    "duration": 4,
    "start_time": "2022-11-29T17:31:39.514Z"
   },
   {
    "duration": 11,
    "start_time": "2022-11-29T17:31:41.378Z"
   },
   {
    "duration": 26,
    "start_time": "2022-11-29T17:31:49.187Z"
   },
   {
    "duration": 4,
    "start_time": "2022-11-29T17:31:51.206Z"
   },
   {
    "duration": 20,
    "start_time": "2022-11-29T17:32:08.066Z"
   },
   {
    "duration": 25,
    "start_time": "2022-11-29T17:32:47.936Z"
   },
   {
    "duration": 5,
    "start_time": "2022-11-29T17:32:48.661Z"
   },
   {
    "duration": 21,
    "start_time": "2022-11-29T17:33:16.749Z"
   },
   {
    "duration": 4,
    "start_time": "2022-11-29T17:33:19.401Z"
   },
   {
    "duration": 8,
    "start_time": "2022-11-29T17:33:58.612Z"
   },
   {
    "duration": 12,
    "start_time": "2022-11-29T17:34:10.583Z"
   },
   {
    "duration": 13,
    "start_time": "2022-11-29T17:34:24.999Z"
   },
   {
    "duration": 22,
    "start_time": "2022-11-29T17:34:26.005Z"
   },
   {
    "duration": 9,
    "start_time": "2022-11-29T17:34:34.278Z"
   },
   {
    "duration": 4,
    "start_time": "2022-11-29T17:35:17.948Z"
   },
   {
    "duration": 1087,
    "start_time": "2022-11-30T16:17:30.017Z"
   },
   {
    "duration": 610,
    "start_time": "2022-11-30T16:17:31.106Z"
   },
   {
    "duration": 18,
    "start_time": "2022-11-30T16:17:31.717Z"
   },
   {
    "duration": 15,
    "start_time": "2022-11-30T16:17:31.737Z"
   },
   {
    "duration": 9,
    "start_time": "2022-11-30T16:17:31.754Z"
   },
   {
    "duration": 31,
    "start_time": "2022-11-30T16:17:31.765Z"
   },
   {
    "duration": 9,
    "start_time": "2022-11-30T16:17:33.348Z"
   },
   {
    "duration": 14,
    "start_time": "2022-11-30T16:17:33.833Z"
   },
   {
    "duration": 36,
    "start_time": "2022-11-30T16:17:33.860Z"
   },
   {
    "duration": 38,
    "start_time": "2022-11-30T16:17:34.079Z"
   },
   {
    "duration": 34,
    "start_time": "2022-11-30T16:17:34.334Z"
   },
   {
    "duration": 3,
    "start_time": "2022-11-30T16:17:35.428Z"
   },
   {
    "duration": 20,
    "start_time": "2022-11-30T16:17:36.578Z"
   },
   {
    "duration": 4,
    "start_time": "2022-11-30T16:17:36.906Z"
   },
   {
    "duration": 23,
    "start_time": "2022-11-30T16:17:37.920Z"
   },
   {
    "duration": 4,
    "start_time": "2022-11-30T16:17:38.190Z"
   },
   {
    "duration": 21,
    "start_time": "2022-11-30T16:17:38.655Z"
   },
   {
    "duration": 3,
    "start_time": "2022-11-30T16:17:39.114Z"
   },
   {
    "duration": 4,
    "start_time": "2022-11-30T16:17:39.743Z"
   },
   {
    "duration": 97,
    "start_time": "2022-11-30T16:19:19.486Z"
   },
   {
    "duration": 3,
    "start_time": "2022-11-30T16:19:25.453Z"
   },
   {
    "duration": 12,
    "start_time": "2022-11-30T16:19:26.494Z"
   },
   {
    "duration": 3,
    "start_time": "2022-11-30T16:20:25.785Z"
   },
   {
    "duration": 52,
    "start_time": "2022-11-30T16:20:46.525Z"
   },
   {
    "duration": 39,
    "start_time": "2022-11-30T16:21:47.410Z"
   },
   {
    "duration": 44,
    "start_time": "2022-11-30T16:22:53.014Z"
   },
   {
    "duration": 36,
    "start_time": "2022-11-30T16:22:59.023Z"
   },
   {
    "duration": 6,
    "start_time": "2022-11-30T16:27:13.670Z"
   },
   {
    "duration": 6,
    "start_time": "2022-11-30T16:27:32.776Z"
   },
   {
    "duration": 7,
    "start_time": "2022-11-30T16:27:33.324Z"
   },
   {
    "duration": 4,
    "start_time": "2022-11-30T16:27:34.761Z"
   },
   {
    "duration": 19,
    "start_time": "2022-11-30T16:27:36.405Z"
   },
   {
    "duration": 5,
    "start_time": "2022-11-30T16:27:36.990Z"
   },
   {
    "duration": 16,
    "start_time": "2022-11-30T16:27:38.148Z"
   },
   {
    "duration": 4,
    "start_time": "2022-11-30T16:27:38.539Z"
   },
   {
    "duration": 21,
    "start_time": "2022-11-30T16:27:39.452Z"
   },
   {
    "duration": 4,
    "start_time": "2022-11-30T16:27:39.735Z"
   },
   {
    "duration": 2,
    "start_time": "2022-11-30T16:27:40.434Z"
   },
   {
    "duration": 18,
    "start_time": "2022-11-30T16:27:41.606Z"
   },
   {
    "duration": 20,
    "start_time": "2022-11-30T16:27:47.201Z"
   },
   {
    "duration": 15,
    "start_time": "2022-11-30T16:27:56.126Z"
   },
   {
    "duration": 20,
    "start_time": "2022-11-30T16:28:31.448Z"
   },
   {
    "duration": 10,
    "start_time": "2022-11-30T16:29:09.790Z"
   },
   {
    "duration": 9,
    "start_time": "2022-11-30T16:29:14.656Z"
   },
   {
    "duration": 8,
    "start_time": "2022-11-30T16:29:30.094Z"
   },
   {
    "duration": 3,
    "start_time": "2022-11-30T16:29:41.519Z"
   },
   {
    "duration": 4,
    "start_time": "2022-11-30T16:30:08.846Z"
   },
   {
    "duration": 53,
    "start_time": "2022-11-30T16:34:02.798Z"
   },
   {
    "duration": 67,
    "start_time": "2022-11-30T16:34:09.463Z"
   },
   {
    "duration": 4,
    "start_time": "2022-11-30T16:34:26.185Z"
   },
   {
    "duration": 12,
    "start_time": "2022-11-30T16:35:05.455Z"
   },
   {
    "duration": 3,
    "start_time": "2022-11-30T16:35:25.748Z"
   },
   {
    "duration": 13,
    "start_time": "2022-11-30T16:36:00.060Z"
   },
   {
    "duration": 12,
    "start_time": "2022-11-30T16:41:11.671Z"
   },
   {
    "duration": 18,
    "start_time": "2022-11-30T16:44:50.807Z"
   },
   {
    "duration": 4,
    "start_time": "2022-11-30T16:45:27.066Z"
   },
   {
    "duration": 19,
    "start_time": "2022-11-30T16:45:27.597Z"
   },
   {
    "duration": 50,
    "start_time": "2022-11-30T16:45:46.756Z"
   },
   {
    "duration": 13,
    "start_time": "2022-11-30T16:46:00.345Z"
   },
   {
    "duration": 156,
    "start_time": "2022-11-30T16:48:47.742Z"
   },
   {
    "duration": 21,
    "start_time": "2022-11-30T16:49:26.479Z"
   },
   {
    "duration": 19,
    "start_time": "2022-11-30T16:50:03.317Z"
   },
   {
    "duration": 13,
    "start_time": "2022-11-30T16:50:20.289Z"
   },
   {
    "duration": 3,
    "start_time": "2022-11-30T16:50:54.922Z"
   },
   {
    "duration": 11,
    "start_time": "2022-11-30T16:50:55.548Z"
   },
   {
    "duration": 15,
    "start_time": "2022-11-30T16:51:01.823Z"
   },
   {
    "duration": 14,
    "start_time": "2022-11-30T16:51:26.332Z"
   },
   {
    "duration": 15,
    "start_time": "2022-11-30T16:51:39.129Z"
   },
   {
    "duration": 13,
    "start_time": "2022-11-30T16:52:25.886Z"
   },
   {
    "duration": 15,
    "start_time": "2022-11-30T16:52:38.994Z"
   },
   {
    "duration": 15,
    "start_time": "2022-11-30T16:53:23.624Z"
   },
   {
    "duration": 3,
    "start_time": "2022-11-30T16:56:18.561Z"
   },
   {
    "duration": 15,
    "start_time": "2022-11-30T16:56:19.082Z"
   },
   {
    "duration": 1099,
    "start_time": "2022-12-01T06:53:08.726Z"
   },
   {
    "duration": 644,
    "start_time": "2022-12-01T06:53:09.827Z"
   },
   {
    "duration": 18,
    "start_time": "2022-12-01T06:53:10.473Z"
   },
   {
    "duration": 16,
    "start_time": "2022-12-01T06:53:10.493Z"
   },
   {
    "duration": 10,
    "start_time": "2022-12-01T06:53:10.695Z"
   },
   {
    "duration": 15,
    "start_time": "2022-12-01T06:53:11.150Z"
   },
   {
    "duration": 11,
    "start_time": "2022-12-01T06:53:11.679Z"
   },
   {
    "duration": 15,
    "start_time": "2022-12-01T06:53:12.006Z"
   },
   {
    "duration": 41,
    "start_time": "2022-12-01T06:53:12.278Z"
   },
   {
    "duration": 33,
    "start_time": "2022-12-01T06:53:12.549Z"
   },
   {
    "duration": 39,
    "start_time": "2022-12-01T06:53:14.330Z"
   },
   {
    "duration": 8,
    "start_time": "2022-12-01T06:53:15.439Z"
   },
   {
    "duration": 8,
    "start_time": "2022-12-01T06:53:16.340Z"
   },
   {
    "duration": 3,
    "start_time": "2022-12-01T07:02:00.611Z"
   },
   {
    "duration": 3,
    "start_time": "2022-12-01T07:02:12.178Z"
   },
   {
    "duration": 44,
    "start_time": "2022-12-01T07:02:47.638Z"
   },
   {
    "duration": 98,
    "start_time": "2022-12-01T07:04:06.693Z"
   },
   {
    "duration": 4,
    "start_time": "2022-12-01T07:04:23.434Z"
   },
   {
    "duration": 4,
    "start_time": "2022-12-01T07:06:30.267Z"
   },
   {
    "duration": 4,
    "start_time": "2022-12-01T07:07:05.523Z"
   },
   {
    "duration": 3,
    "start_time": "2022-12-01T07:07:32.114Z"
   },
   {
    "duration": 73,
    "start_time": "2022-12-01T07:07:45.671Z"
   },
   {
    "duration": 3,
    "start_time": "2022-12-01T07:08:25.697Z"
   },
   {
    "duration": 3,
    "start_time": "2022-12-01T07:08:26.497Z"
   },
   {
    "duration": 3,
    "start_time": "2022-12-01T07:08:27.050Z"
   },
   {
    "duration": 3,
    "start_time": "2022-12-01T07:10:29.680Z"
   },
   {
    "duration": 3,
    "start_time": "2022-12-01T07:10:32.172Z"
   },
   {
    "duration": 4,
    "start_time": "2022-12-01T07:14:53.992Z"
   },
   {
    "duration": 4,
    "start_time": "2022-12-01T07:15:02.180Z"
   },
   {
    "duration": 10,
    "start_time": "2022-12-01T07:15:02.636Z"
   },
   {
    "duration": 3,
    "start_time": "2022-12-01T07:15:09.583Z"
   },
   {
    "duration": 359,
    "start_time": "2022-12-01T07:15:09.805Z"
   },
   {
    "duration": 9,
    "start_time": "2022-12-01T07:15:10.166Z"
   },
   {
    "duration": 17,
    "start_time": "2022-12-01T07:15:10.280Z"
   },
   {
    "duration": 10,
    "start_time": "2022-12-01T07:15:10.549Z"
   },
   {
    "duration": 15,
    "start_time": "2022-12-01T07:15:10.787Z"
   },
   {
    "duration": 9,
    "start_time": "2022-12-01T07:15:11.011Z"
   },
   {
    "duration": 16,
    "start_time": "2022-12-01T07:15:11.216Z"
   },
   {
    "duration": 34,
    "start_time": "2022-12-01T07:15:11.457Z"
   },
   {
    "duration": 31,
    "start_time": "2022-12-01T07:15:11.662Z"
   },
   {
    "duration": 41,
    "start_time": "2022-12-01T07:15:11.933Z"
   },
   {
    "duration": 6,
    "start_time": "2022-12-01T07:15:12.416Z"
   },
   {
    "duration": 6,
    "start_time": "2022-12-01T07:15:12.719Z"
   },
   {
    "duration": 7,
    "start_time": "2022-12-01T07:15:13.196Z"
   },
   {
    "duration": 3,
    "start_time": "2022-12-01T07:15:14.199Z"
   },
   {
    "duration": 15,
    "start_time": "2022-12-01T07:15:14.687Z"
   },
   {
    "duration": 5,
    "start_time": "2022-12-01T07:15:14.988Z"
   },
   {
    "duration": 17,
    "start_time": "2022-12-01T07:15:15.747Z"
   },
   {
    "duration": 5,
    "start_time": "2022-12-01T07:15:16.080Z"
   },
   {
    "duration": 16,
    "start_time": "2022-12-01T07:15:16.689Z"
   },
   {
    "duration": 4,
    "start_time": "2022-12-01T07:15:17.029Z"
   },
   {
    "duration": 4,
    "start_time": "2022-12-01T07:15:17.844Z"
   },
   {
    "duration": 23,
    "start_time": "2022-12-01T07:15:18.601Z"
   },
   {
    "duration": 14,
    "start_time": "2022-12-01T07:15:19.736Z"
   },
   {
    "duration": 14,
    "start_time": "2022-12-01T07:15:20.366Z"
   },
   {
    "duration": 3,
    "start_time": "2022-12-01T07:18:01.571Z"
   },
   {
    "duration": 4,
    "start_time": "2022-12-01T07:18:02.863Z"
   },
   {
    "duration": 4,
    "start_time": "2022-12-01T07:18:25.612Z"
   },
   {
    "duration": 9,
    "start_time": "2022-12-01T07:28:25.012Z"
   },
   {
    "duration": 3,
    "start_time": "2022-12-01T07:28:38.336Z"
   },
   {
    "duration": 4,
    "start_time": "2022-12-01T07:28:39.078Z"
   },
   {
    "duration": 3,
    "start_time": "2022-12-01T07:30:00.046Z"
   },
   {
    "duration": 4,
    "start_time": "2022-12-01T07:30:10.227Z"
   },
   {
    "duration": 6,
    "start_time": "2022-12-01T07:41:32.254Z"
   },
   {
    "duration": 46,
    "start_time": "2022-12-01T07:41:33.052Z"
   },
   {
    "duration": 4,
    "start_time": "2022-12-01T07:42:07.929Z"
   },
   {
    "duration": 356,
    "start_time": "2022-12-01T07:42:08.395Z"
   },
   {
    "duration": 9,
    "start_time": "2022-12-01T07:42:08.753Z"
   },
   {
    "duration": 14,
    "start_time": "2022-12-01T07:42:08.898Z"
   },
   {
    "duration": 9,
    "start_time": "2022-12-01T07:42:09.170Z"
   },
   {
    "duration": 14,
    "start_time": "2022-12-01T07:42:09.492Z"
   },
   {
    "duration": 10,
    "start_time": "2022-12-01T07:42:09.750Z"
   },
   {
    "duration": 14,
    "start_time": "2022-12-01T07:42:10.003Z"
   },
   {
    "duration": 39,
    "start_time": "2022-12-01T07:42:10.267Z"
   },
   {
    "duration": 31,
    "start_time": "2022-12-01T07:42:10.513Z"
   },
   {
    "duration": 34,
    "start_time": "2022-12-01T07:42:10.822Z"
   },
   {
    "duration": 7,
    "start_time": "2022-12-01T07:42:12.406Z"
   },
   {
    "duration": 6,
    "start_time": "2022-12-01T07:42:12.813Z"
   },
   {
    "duration": 5,
    "start_time": "2022-12-01T07:42:13.392Z"
   },
   {
    "duration": 4,
    "start_time": "2022-12-01T07:42:14.866Z"
   },
   {
    "duration": 12,
    "start_time": "2022-12-01T07:42:15.606Z"
   },
   {
    "duration": 5,
    "start_time": "2022-12-01T07:42:16.083Z"
   },
   {
    "duration": 12,
    "start_time": "2022-12-01T07:42:16.928Z"
   },
   {
    "duration": 4,
    "start_time": "2022-12-01T07:42:17.403Z"
   },
   {
    "duration": 11,
    "start_time": "2022-12-01T07:42:18.212Z"
   },
   {
    "duration": 4,
    "start_time": "2022-12-01T07:42:18.704Z"
   },
   {
    "duration": 5,
    "start_time": "2022-12-01T07:42:19.815Z"
   },
   {
    "duration": 86,
    "start_time": "2022-12-01T07:42:20.912Z"
   },
   {
    "duration": 5,
    "start_time": "2022-12-01T07:42:56.067Z"
   },
   {
    "duration": 108,
    "start_time": "2022-12-01T07:42:56.789Z"
   },
   {
    "duration": 5,
    "start_time": "2022-12-01T07:43:27.874Z"
   },
   {
    "duration": 54,
    "start_time": "2022-12-01T07:43:28.344Z"
   },
   {
    "duration": 4,
    "start_time": "2022-12-01T07:43:49.251Z"
   },
   {
    "duration": 13,
    "start_time": "2022-12-01T07:43:49.874Z"
   },
   {
    "duration": 5,
    "start_time": "2022-12-01T07:43:56.088Z"
   },
   {
    "duration": 66,
    "start_time": "2022-12-01T07:43:56.934Z"
   },
   {
    "duration": 47,
    "start_time": "2022-12-01T07:44:39.027Z"
   },
   {
    "duration": 97,
    "start_time": "2022-12-01T07:44:39.901Z"
   },
   {
    "duration": 50,
    "start_time": "2022-12-01T07:45:08.418Z"
   },
   {
    "duration": 55,
    "start_time": "2022-12-01T07:45:09.145Z"
   },
   {
    "duration": 66,
    "start_time": "2022-12-01T07:46:38.139Z"
   },
   {
    "duration": 78,
    "start_time": "2022-12-01T07:46:38.720Z"
   },
   {
    "duration": 4,
    "start_time": "2022-12-01T07:46:56.007Z"
   },
   {
    "duration": 77,
    "start_time": "2022-12-01T07:46:56.621Z"
   },
   {
    "duration": 4,
    "start_time": "2022-12-01T07:47:13.283Z"
   },
   {
    "duration": 176,
    "start_time": "2022-12-01T07:47:14.022Z"
   },
   {
    "duration": 5,
    "start_time": "2022-12-01T07:47:25.904Z"
   },
   {
    "duration": 99,
    "start_time": "2022-12-01T07:47:27.499Z"
   },
   {
    "duration": 4,
    "start_time": "2022-12-01T07:48:09.067Z"
   },
   {
    "duration": 13,
    "start_time": "2022-12-01T07:48:09.524Z"
   },
   {
    "duration": 15,
    "start_time": "2022-12-01T07:48:10.343Z"
   },
   {
    "duration": 14,
    "start_time": "2022-12-01T07:48:10.801Z"
   },
   {
    "duration": 38,
    "start_time": "2022-12-01T07:54:13.803Z"
   },
   {
    "duration": 42,
    "start_time": "2022-12-01T07:54:54.600Z"
   },
   {
    "duration": 33,
    "start_time": "2022-12-01T07:55:45.968Z"
   },
   {
    "duration": 9,
    "start_time": "2022-12-01T07:57:55.568Z"
   },
   {
    "duration": 4,
    "start_time": "2022-12-01T07:58:02.586Z"
   },
   {
    "duration": 351,
    "start_time": "2022-12-01T07:58:02.932Z"
   },
   {
    "duration": 12,
    "start_time": "2022-12-01T07:58:03.285Z"
   },
   {
    "duration": 16,
    "start_time": "2022-12-01T07:58:03.298Z"
   },
   {
    "duration": 9,
    "start_time": "2022-12-01T07:58:03.496Z"
   },
   {
    "duration": 16,
    "start_time": "2022-12-01T07:58:03.946Z"
   },
   {
    "duration": 9,
    "start_time": "2022-12-01T07:58:04.210Z"
   },
   {
    "duration": 13,
    "start_time": "2022-12-01T07:58:04.517Z"
   },
   {
    "duration": 8,
    "start_time": "2022-12-01T07:58:05.768Z"
   },
   {
    "duration": 6,
    "start_time": "2022-12-01T07:58:06.084Z"
   },
   {
    "duration": 6,
    "start_time": "2022-12-01T07:58:06.437Z"
   },
   {
    "duration": 38,
    "start_time": "2022-12-01T07:58:07.718Z"
   },
   {
    "duration": 38,
    "start_time": "2022-12-01T07:58:10.037Z"
   },
   {
    "duration": 37,
    "start_time": "2022-12-01T07:58:11.029Z"
   },
   {
    "duration": 32,
    "start_time": "2022-12-01T08:03:59.465Z"
   },
   {
    "duration": 29,
    "start_time": "2022-12-01T08:04:02.681Z"
   },
   {
    "duration": 36,
    "start_time": "2022-12-01T08:04:04.753Z"
   },
   {
    "duration": 4,
    "start_time": "2022-12-01T08:04:56.626Z"
   },
   {
    "duration": 14,
    "start_time": "2022-12-01T08:04:57.346Z"
   },
   {
    "duration": 4,
    "start_time": "2022-12-01T08:04:57.628Z"
   },
   {
    "duration": 13,
    "start_time": "2022-12-01T08:04:58.211Z"
   },
   {
    "duration": 4,
    "start_time": "2022-12-01T08:04:58.454Z"
   },
   {
    "duration": 12,
    "start_time": "2022-12-01T08:04:59.024Z"
   },
   {
    "duration": 5,
    "start_time": "2022-12-01T08:04:59.288Z"
   },
   {
    "duration": 4,
    "start_time": "2022-12-01T08:05:00.659Z"
   },
   {
    "duration": 17,
    "start_time": "2022-12-01T08:05:02.177Z"
   },
   {
    "duration": 14,
    "start_time": "2022-12-01T08:05:02.602Z"
   },
   {
    "duration": 13,
    "start_time": "2022-12-01T08:05:03.862Z"
   },
   {
    "duration": 2,
    "start_time": "2022-12-01T08:05:22.797Z"
   },
   {
    "duration": 3,
    "start_time": "2022-12-01T08:05:24.188Z"
   },
   {
    "duration": 4,
    "start_time": "2022-12-01T08:05:25.637Z"
   },
   {
    "duration": 3,
    "start_time": "2022-12-01T08:10:46.107Z"
   },
   {
    "duration": 27,
    "start_time": "2022-12-01T08:10:46.671Z"
   },
   {
    "duration": 3,
    "start_time": "2022-12-01T08:19:46.977Z"
   },
   {
    "duration": 13,
    "start_time": "2022-12-01T08:19:47.796Z"
   },
   {
    "duration": 4,
    "start_time": "2022-12-01T09:35:26.593Z"
   },
   {
    "duration": 4,
    "start_time": "2022-12-01T09:36:00.574Z"
   },
   {
    "duration": 12,
    "start_time": "2022-12-01T09:36:31.590Z"
   },
   {
    "duration": 11,
    "start_time": "2022-12-01T09:37:19.107Z"
   },
   {
    "duration": 3,
    "start_time": "2022-12-01T09:37:30.753Z"
   },
   {
    "duration": 5,
    "start_time": "2022-12-01T09:39:47.459Z"
   },
   {
    "duration": 11,
    "start_time": "2022-12-01T09:39:48.446Z"
   },
   {
    "duration": 3,
    "start_time": "2022-12-01T09:39:57.948Z"
   },
   {
    "duration": 11,
    "start_time": "2022-12-01T09:39:58.595Z"
   },
   {
    "duration": 4,
    "start_time": "2022-12-01T09:40:18.396Z"
   },
   {
    "duration": 11,
    "start_time": "2022-12-01T09:40:18.999Z"
   },
   {
    "duration": 8,
    "start_time": "2022-12-01T09:42:05.025Z"
   },
   {
    "duration": 4,
    "start_time": "2022-12-01T09:44:14.463Z"
   },
   {
    "duration": 11,
    "start_time": "2022-12-01T09:44:15.242Z"
   },
   {
    "duration": 4,
    "start_time": "2022-12-01T09:44:32.678Z"
   },
   {
    "duration": 19,
    "start_time": "2022-12-01T09:44:33.244Z"
   },
   {
    "duration": 9,
    "start_time": "2022-12-01T09:44:50.502Z"
   },
   {
    "duration": 4,
    "start_time": "2022-12-01T09:45:06.916Z"
   },
   {
    "duration": 10,
    "start_time": "2022-12-01T09:45:16.275Z"
   },
   {
    "duration": 3,
    "start_time": "2022-12-01T09:47:29.553Z"
   },
   {
    "duration": 5,
    "start_time": "2022-12-01T09:47:30.091Z"
   },
   {
    "duration": 3,
    "start_time": "2022-12-01T09:48:04.497Z"
   },
   {
    "duration": 5,
    "start_time": "2022-12-01T09:48:05.025Z"
   },
   {
    "duration": 9,
    "start_time": "2022-12-01T09:48:46.565Z"
   },
   {
    "duration": 3,
    "start_time": "2022-12-01T09:50:53.536Z"
   },
   {
    "duration": 12,
    "start_time": "2022-12-01T09:50:54.077Z"
   },
   {
    "duration": 3,
    "start_time": "2022-12-01T09:51:53.707Z"
   },
   {
    "duration": 5,
    "start_time": "2022-12-01T09:51:54.404Z"
   },
   {
    "duration": 3,
    "start_time": "2022-12-01T09:52:08.573Z"
   },
   {
    "duration": 16,
    "start_time": "2022-12-01T09:52:09.007Z"
   },
   {
    "duration": 4,
    "start_time": "2022-12-01T09:53:08.904Z"
   },
   {
    "duration": 12,
    "start_time": "2022-12-01T09:53:09.671Z"
   },
   {
    "duration": 5,
    "start_time": "2022-12-01T09:53:26.414Z"
   },
   {
    "duration": 4,
    "start_time": "2022-12-01T09:53:32.947Z"
   },
   {
    "duration": 8,
    "start_time": "2022-12-01T09:53:48.006Z"
   },
   {
    "duration": 5,
    "start_time": "2022-12-01T09:54:32.607Z"
   },
   {
    "duration": 4,
    "start_time": "2022-12-01T09:56:09.630Z"
   },
   {
    "duration": 12,
    "start_time": "2022-12-01T09:56:24.347Z"
   },
   {
    "duration": 16,
    "start_time": "2022-12-01T09:56:39.879Z"
   },
   {
    "duration": 14,
    "start_time": "2022-12-01T09:57:11.871Z"
   },
   {
    "duration": 74,
    "start_time": "2022-12-01T09:57:43.560Z"
   },
   {
    "duration": 20,
    "start_time": "2022-12-01T09:57:49.095Z"
   },
   {
    "duration": 14,
    "start_time": "2022-12-01T09:58:15.536Z"
   },
   {
    "duration": 16,
    "start_time": "2022-12-01T09:59:05.167Z"
   },
   {
    "duration": 13,
    "start_time": "2022-12-01T09:59:19.924Z"
   },
   {
    "duration": 3,
    "start_time": "2022-12-01T10:01:42.931Z"
   },
   {
    "duration": 10,
    "start_time": "2022-12-01T10:01:55.507Z"
   },
   {
    "duration": 3,
    "start_time": "2022-12-01T10:02:07.567Z"
   },
   {
    "duration": 14,
    "start_time": "2022-12-01T10:02:08.328Z"
   },
   {
    "duration": 3,
    "start_time": "2022-12-01T10:02:18.799Z"
   },
   {
    "duration": 8,
    "start_time": "2022-12-01T10:02:19.671Z"
   },
   {
    "duration": 6,
    "start_time": "2022-12-01T10:02:25.397Z"
   },
   {
    "duration": 8,
    "start_time": "2022-12-01T10:02:29.113Z"
   },
   {
    "duration": 4,
    "start_time": "2022-12-01T10:06:10.446Z"
   },
   {
    "duration": 45,
    "start_time": "2022-12-01T10:06:11.006Z"
   },
   {
    "duration": 4,
    "start_time": "2022-12-01T10:06:46.175Z"
   },
   {
    "duration": 47,
    "start_time": "2022-12-01T10:06:46.577Z"
   },
   {
    "duration": 3,
    "start_time": "2022-12-01T10:07:04.009Z"
   },
   {
    "duration": 51,
    "start_time": "2022-12-01T10:07:04.519Z"
   },
   {
    "duration": 6,
    "start_time": "2022-12-01T10:07:14.151Z"
   },
   {
    "duration": 5,
    "start_time": "2022-12-01T10:08:40.568Z"
   },
   {
    "duration": 16,
    "start_time": "2022-12-01T10:08:41.066Z"
   },
   {
    "duration": 4,
    "start_time": "2022-12-01T10:08:57.645Z"
   },
   {
    "duration": 9,
    "start_time": "2022-12-01T10:08:58.273Z"
   },
   {
    "duration": 3,
    "start_time": "2022-12-01T10:09:33.958Z"
   },
   {
    "duration": 8,
    "start_time": "2022-12-01T10:09:34.496Z"
   },
   {
    "duration": 4,
    "start_time": "2022-12-01T10:09:55.848Z"
   },
   {
    "duration": 8,
    "start_time": "2022-12-01T10:09:57.018Z"
   },
   {
    "duration": 10,
    "start_time": "2022-12-01T10:10:20.409Z"
   },
   {
    "duration": 10,
    "start_time": "2022-12-01T10:10:30.911Z"
   },
   {
    "duration": 10,
    "start_time": "2022-12-01T10:10:36.238Z"
   },
   {
    "duration": 5,
    "start_time": "2022-12-01T10:10:52.120Z"
   },
   {
    "duration": 4,
    "start_time": "2022-12-01T10:13:19.840Z"
   },
   {
    "duration": 11,
    "start_time": "2022-12-01T10:13:20.775Z"
   },
   {
    "duration": 4,
    "start_time": "2022-12-01T10:16:46.915Z"
   },
   {
    "duration": 7,
    "start_time": "2022-12-01T10:16:47.743Z"
   },
   {
    "duration": 3,
    "start_time": "2022-12-01T10:18:36.562Z"
   },
   {
    "duration": 12,
    "start_time": "2022-12-01T10:18:51.355Z"
   },
   {
    "duration": 3,
    "start_time": "2022-12-01T10:18:59.493Z"
   },
   {
    "duration": 8,
    "start_time": "2022-12-01T10:18:59.872Z"
   },
   {
    "duration": 9,
    "start_time": "2022-12-01T10:19:01.575Z"
   },
   {
    "duration": 8,
    "start_time": "2022-12-01T10:19:02.099Z"
   },
   {
    "duration": 3,
    "start_time": "2022-12-01T10:20:05.539Z"
   },
   {
    "duration": 7,
    "start_time": "2022-12-01T10:20:05.932Z"
   },
   {
    "duration": 10,
    "start_time": "2022-12-01T10:20:06.221Z"
   },
   {
    "duration": 11,
    "start_time": "2022-12-01T10:20:06.833Z"
   },
   {
    "duration": 4,
    "start_time": "2022-12-01T10:21:46.965Z"
   },
   {
    "duration": 8,
    "start_time": "2022-12-01T10:21:47.416Z"
   },
   {
    "duration": 8,
    "start_time": "2022-12-01T10:21:48.029Z"
   },
   {
    "duration": 85,
    "start_time": "2022-12-01T10:23:08.563Z"
   },
   {
    "duration": 4,
    "start_time": "2022-12-01T10:26:08.295Z"
   },
   {
    "duration": 4,
    "start_time": "2022-12-01T10:26:42.870Z"
   },
   {
    "duration": 4,
    "start_time": "2022-12-01T10:34:07.967Z"
   },
   {
    "duration": 8,
    "start_time": "2022-12-01T10:34:08.838Z"
   },
   {
    "duration": 9,
    "start_time": "2022-12-01T10:34:09.449Z"
   },
   {
    "duration": 9,
    "start_time": "2022-12-01T10:34:10.336Z"
   },
   {
    "duration": 3,
    "start_time": "2022-12-01T10:50:23.808Z"
   },
   {
    "duration": 9,
    "start_time": "2022-12-01T10:51:37.309Z"
   },
   {
    "duration": 10,
    "start_time": "2022-12-01T10:51:45.633Z"
   },
   {
    "duration": 3,
    "start_time": "2022-12-01T10:51:58.712Z"
   },
   {
    "duration": 11,
    "start_time": "2022-12-01T10:51:59.169Z"
   },
   {
    "duration": 3,
    "start_time": "2022-12-01T10:53:07.161Z"
   },
   {
    "duration": 22,
    "start_time": "2022-12-01T10:53:07.783Z"
   },
   {
    "duration": 3,
    "start_time": "2022-12-01T10:53:50.098Z"
   },
   {
    "duration": 22,
    "start_time": "2022-12-01T10:53:50.837Z"
   },
   {
    "duration": 3,
    "start_time": "2022-12-01T10:54:13.392Z"
   },
   {
    "duration": 30,
    "start_time": "2022-12-01T10:54:14.079Z"
   },
   {
    "duration": 9,
    "start_time": "2022-12-01T10:55:20.506Z"
   },
   {
    "duration": 9,
    "start_time": "2022-12-01T10:55:24.838Z"
   },
   {
    "duration": 4,
    "start_time": "2022-12-01T10:55:34.918Z"
   },
   {
    "duration": 5,
    "start_time": "2022-12-01T10:57:36.017Z"
   },
   {
    "duration": 20,
    "start_time": "2022-12-01T10:57:37.612Z"
   },
   {
    "duration": 3,
    "start_time": "2022-12-01T10:58:13.193Z"
   },
   {
    "duration": 7,
    "start_time": "2022-12-01T10:58:13.675Z"
   },
   {
    "duration": 4,
    "start_time": "2022-12-01T10:58:45.745Z"
   },
   {
    "duration": 24,
    "start_time": "2022-12-01T10:58:46.262Z"
   },
   {
    "duration": 3,
    "start_time": "2022-12-01T10:59:12.165Z"
   },
   {
    "duration": 19,
    "start_time": "2022-12-01T10:59:12.869Z"
   },
   {
    "duration": 3,
    "start_time": "2022-12-01T10:59:54.362Z"
   },
   {
    "duration": 6,
    "start_time": "2022-12-01T10:59:55.058Z"
   },
   {
    "duration": 3,
    "start_time": "2022-12-01T11:05:27.235Z"
   },
   {
    "duration": 112,
    "start_time": "2022-12-01T11:05:27.695Z"
   },
   {
    "duration": 87,
    "start_time": "2022-12-01T11:06:13.814Z"
   },
   {
    "duration": 5,
    "start_time": "2022-12-01T11:06:33.776Z"
   },
   {
    "duration": 17,
    "start_time": "2022-12-01T11:06:34.331Z"
   },
   {
    "duration": 4,
    "start_time": "2022-12-01T11:07:29.234Z"
   },
   {
    "duration": 4,
    "start_time": "2022-12-01T11:07:45.361Z"
   },
   {
    "duration": 5,
    "start_time": "2022-12-01T11:07:58.867Z"
   },
   {
    "duration": 4,
    "start_time": "2022-12-01T11:08:56.866Z"
   },
   {
    "duration": 7,
    "start_time": "2022-12-01T11:09:39.780Z"
   },
   {
    "duration": 4,
    "start_time": "2022-12-01T11:09:54.277Z"
   },
   {
    "duration": 3,
    "start_time": "2022-12-01T11:10:02.517Z"
   },
   {
    "duration": 17,
    "start_time": "2022-12-01T11:10:03.491Z"
   },
   {
    "duration": 4,
    "start_time": "2022-12-01T11:11:46.941Z"
   },
   {
    "duration": 22,
    "start_time": "2022-12-01T11:25:33.945Z"
   },
   {
    "duration": 32,
    "start_time": "2022-12-01T11:26:53.107Z"
   },
   {
    "duration": 9,
    "start_time": "2022-12-01T11:27:00.211Z"
   },
   {
    "duration": 9,
    "start_time": "2022-12-01T11:27:11.525Z"
   },
   {
    "duration": 10,
    "start_time": "2022-12-01T11:27:17.152Z"
   },
   {
    "duration": 6,
    "start_time": "2022-12-01T11:27:26.343Z"
   },
   {
    "duration": 4,
    "start_time": "2022-12-01T11:27:41.959Z"
   },
   {
    "duration": 8,
    "start_time": "2022-12-01T11:27:53.834Z"
   },
   {
    "duration": 4,
    "start_time": "2022-12-01T11:28:06.666Z"
   },
   {
    "duration": 3,
    "start_time": "2022-12-01T11:28:20.459Z"
   },
   {
    "duration": 8,
    "start_time": "2022-12-01T11:28:50.527Z"
   },
   {
    "duration": 10,
    "start_time": "2022-12-01T11:29:44.186Z"
   },
   {
    "duration": 13,
    "start_time": "2022-12-01T11:29:55.191Z"
   },
   {
    "duration": 8,
    "start_time": "2022-12-01T11:30:28.916Z"
   },
   {
    "duration": 7,
    "start_time": "2022-12-01T11:31:36.179Z"
   },
   {
    "duration": 9,
    "start_time": "2022-12-01T11:32:06.732Z"
   },
   {
    "duration": 4,
    "start_time": "2022-12-01T11:33:52.221Z"
   },
   {
    "duration": 18,
    "start_time": "2022-12-01T11:33:52.641Z"
   },
   {
    "duration": 5,
    "start_time": "2022-12-01T11:36:17.322Z"
   },
   {
    "duration": 10,
    "start_time": "2022-12-01T11:41:09.936Z"
   },
   {
    "duration": 11,
    "start_time": "2022-12-01T11:41:25.449Z"
   },
   {
    "duration": 6,
    "start_time": "2022-12-01T11:41:43.523Z"
   },
   {
    "duration": 6,
    "start_time": "2022-12-01T11:42:00.956Z"
   },
   {
    "duration": 7,
    "start_time": "2022-12-01T11:42:11.231Z"
   },
   {
    "duration": 4,
    "start_time": "2022-12-01T11:42:27.269Z"
   },
   {
    "duration": 5,
    "start_time": "2022-12-01T11:42:52.633Z"
   },
   {
    "duration": 4,
    "start_time": "2022-12-01T11:43:03.561Z"
   },
   {
    "duration": 8,
    "start_time": "2022-12-01T12:00:41.053Z"
   },
   {
    "duration": 3,
    "start_time": "2022-12-01T12:04:26.092Z"
   },
   {
    "duration": 3,
    "start_time": "2022-12-01T12:04:36.585Z"
   },
   {
    "duration": 7,
    "start_time": "2022-12-01T12:04:43.127Z"
   },
   {
    "duration": 26,
    "start_time": "2022-12-01T12:05:10.950Z"
   },
   {
    "duration": 3,
    "start_time": "2022-12-01T12:05:16.717Z"
   },
   {
    "duration": 9,
    "start_time": "2022-12-01T12:07:29.984Z"
   },
   {
    "duration": 3,
    "start_time": "2022-12-01T12:07:39.457Z"
   },
   {
    "duration": 12,
    "start_time": "2022-12-01T12:07:42.060Z"
   },
   {
    "duration": 13,
    "start_time": "2022-12-01T12:14:00.358Z"
   },
   {
    "duration": 8,
    "start_time": "2022-12-01T12:14:10.471Z"
   },
   {
    "duration": 6,
    "start_time": "2022-12-01T12:15:26.982Z"
   },
   {
    "duration": 9,
    "start_time": "2022-12-01T12:15:37.419Z"
   },
   {
    "duration": 8,
    "start_time": "2022-12-01T12:15:43.689Z"
   },
   {
    "duration": 12,
    "start_time": "2022-12-01T12:15:56.194Z"
   },
   {
    "duration": 11,
    "start_time": "2022-12-01T12:16:03.842Z"
   },
   {
    "duration": 15,
    "start_time": "2022-12-01T12:16:50.952Z"
   },
   {
    "duration": 11,
    "start_time": "2022-12-01T12:16:55.534Z"
   },
   {
    "duration": 11,
    "start_time": "2022-12-01T12:17:18.153Z"
   },
   {
    "duration": 9,
    "start_time": "2022-12-01T12:17:32.675Z"
   },
   {
    "duration": 797,
    "start_time": "2022-12-01T12:17:40.186Z"
   },
   {
    "duration": 7,
    "start_time": "2022-12-01T12:18:01.497Z"
   },
   {
    "duration": 10,
    "start_time": "2022-12-01T12:18:20.979Z"
   },
   {
    "duration": 10,
    "start_time": "2022-12-01T12:19:08.695Z"
   },
   {
    "duration": 10,
    "start_time": "2022-12-01T12:19:13.203Z"
   },
   {
    "duration": 6,
    "start_time": "2022-12-01T12:20:58.815Z"
   },
   {
    "duration": 12,
    "start_time": "2022-12-01T12:21:13.517Z"
   },
   {
    "duration": 12,
    "start_time": "2022-12-01T12:22:54.304Z"
   },
   {
    "duration": 3,
    "start_time": "2022-12-01T12:23:36.206Z"
   },
   {
    "duration": 4,
    "start_time": "2022-12-01T12:24:11.055Z"
   },
   {
    "duration": 344,
    "start_time": "2022-12-01T12:24:11.448Z"
   },
   {
    "duration": 9,
    "start_time": "2022-12-01T12:24:11.794Z"
   },
   {
    "duration": 17,
    "start_time": "2022-12-01T12:24:11.804Z"
   },
   {
    "duration": 9,
    "start_time": "2022-12-01T12:24:11.980Z"
   },
   {
    "duration": 15,
    "start_time": "2022-12-01T12:24:12.168Z"
   },
   {
    "duration": 9,
    "start_time": "2022-12-01T12:24:12.339Z"
   },
   {
    "duration": 14,
    "start_time": "2022-12-01T12:24:12.562Z"
   },
   {
    "duration": 6,
    "start_time": "2022-12-01T12:24:12.927Z"
   },
   {
    "duration": 6,
    "start_time": "2022-12-01T12:24:13.159Z"
   },
   {
    "duration": 6,
    "start_time": "2022-12-01T12:24:13.415Z"
   },
   {
    "duration": 37,
    "start_time": "2022-12-01T12:24:13.828Z"
   },
   {
    "duration": 35,
    "start_time": "2022-12-01T12:24:14.011Z"
   },
   {
    "duration": 35,
    "start_time": "2022-12-01T12:24:14.214Z"
   },
   {
    "duration": 4,
    "start_time": "2022-12-01T12:24:15.381Z"
   },
   {
    "duration": 12,
    "start_time": "2022-12-01T12:24:15.927Z"
   },
   {
    "duration": 4,
    "start_time": "2022-12-01T12:24:16.218Z"
   },
   {
    "duration": 14,
    "start_time": "2022-12-01T12:24:17.185Z"
   },
   {
    "duration": 4,
    "start_time": "2022-12-01T12:24:17.558Z"
   },
   {
    "duration": 12,
    "start_time": "2022-12-01T12:24:18.153Z"
   },
   {
    "duration": 4,
    "start_time": "2022-12-01T12:24:18.499Z"
   },
   {
    "duration": 4,
    "start_time": "2022-12-01T12:24:18.988Z"
   },
   {
    "duration": 5,
    "start_time": "2022-12-01T12:24:19.945Z"
   },
   {
    "duration": 18,
    "start_time": "2022-12-01T12:24:20.177Z"
   },
   {
    "duration": 2,
    "start_time": "2022-12-01T12:24:20.549Z"
   },
   {
    "duration": 11,
    "start_time": "2022-12-01T12:24:20.907Z"
   },
   {
    "duration": 6,
    "start_time": "2022-12-01T12:24:50.271Z"
   },
   {
    "duration": 4,
    "start_time": "2022-12-01T12:24:59.089Z"
   },
   {
    "duration": 12,
    "start_time": "2022-12-01T12:25:07.540Z"
   },
   {
    "duration": 6,
    "start_time": "2022-12-01T12:25:38.673Z"
   },
   {
    "duration": 6,
    "start_time": "2022-12-01T12:26:47.085Z"
   },
   {
    "duration": 13,
    "start_time": "2022-12-01T12:26:48.737Z"
   },
   {
    "duration": 5,
    "start_time": "2022-12-01T12:28:05.454Z"
   },
   {
    "duration": 13,
    "start_time": "2022-12-01T12:28:07.205Z"
   },
   {
    "duration": 13,
    "start_time": "2022-12-01T12:28:25.016Z"
   },
   {
    "duration": 16,
    "start_time": "2022-12-01T12:28:26.487Z"
   },
   {
    "duration": 8,
    "start_time": "2022-12-01T12:28:31.494Z"
   },
   {
    "duration": 10,
    "start_time": "2022-12-01T12:28:45.429Z"
   },
   {
    "duration": 3,
    "start_time": "2022-12-01T12:30:33.886Z"
   },
   {
    "duration": 10,
    "start_time": "2022-12-01T12:30:49.282Z"
   },
   {
    "duration": 6,
    "start_time": "2022-12-01T12:31:08.649Z"
   },
   {
    "duration": 12,
    "start_time": "2022-12-01T12:31:22.289Z"
   },
   {
    "duration": 3,
    "start_time": "2022-12-01T12:31:45.664Z"
   },
   {
    "duration": 11,
    "start_time": "2022-12-01T12:31:46.284Z"
   },
   {
    "duration": 6,
    "start_time": "2022-12-01T12:31:55.879Z"
   },
   {
    "duration": 11,
    "start_time": "2022-12-01T12:31:56.370Z"
   },
   {
    "duration": 24,
    "start_time": "2022-12-01T12:32:02.905Z"
   },
   {
    "duration": 3,
    "start_time": "2022-12-01T12:32:03.334Z"
   },
   {
    "duration": 4,
    "start_time": "2022-12-01T12:32:11.334Z"
   },
   {
    "duration": 376,
    "start_time": "2022-12-01T12:32:11.828Z"
   },
   {
    "duration": 10,
    "start_time": "2022-12-01T12:32:12.206Z"
   },
   {
    "duration": 14,
    "start_time": "2022-12-01T12:32:12.339Z"
   },
   {
    "duration": 10,
    "start_time": "2022-12-01T12:32:13.189Z"
   },
   {
    "duration": 17,
    "start_time": "2022-12-01T12:32:13.624Z"
   },
   {
    "duration": 10,
    "start_time": "2022-12-01T12:32:13.935Z"
   },
   {
    "duration": 14,
    "start_time": "2022-12-01T12:32:14.239Z"
   },
   {
    "duration": 8,
    "start_time": "2022-12-01T12:32:14.854Z"
   },
   {
    "duration": 9,
    "start_time": "2022-12-01T12:32:15.136Z"
   },
   {
    "duration": 7,
    "start_time": "2022-12-01T12:32:15.398Z"
   },
   {
    "duration": 38,
    "start_time": "2022-12-01T12:32:15.933Z"
   },
   {
    "duration": 43,
    "start_time": "2022-12-01T12:32:16.189Z"
   },
   {
    "duration": 35,
    "start_time": "2022-12-01T12:32:16.444Z"
   },
   {
    "duration": 4,
    "start_time": "2022-12-01T12:32:17.646Z"
   },
   {
    "duration": 14,
    "start_time": "2022-12-01T12:32:18.447Z"
   },
   {
    "duration": 4,
    "start_time": "2022-12-01T12:32:18.676Z"
   },
   {
    "duration": 13,
    "start_time": "2022-12-01T12:32:19.268Z"
   },
   {
    "duration": 4,
    "start_time": "2022-12-01T12:32:19.569Z"
   },
   {
    "duration": 12,
    "start_time": "2022-12-01T12:32:20.154Z"
   },
   {
    "duration": 4,
    "start_time": "2022-12-01T12:32:20.688Z"
   },
   {
    "duration": 3,
    "start_time": "2022-12-01T12:32:21.248Z"
   },
   {
    "duration": 4,
    "start_time": "2022-12-01T12:32:23.259Z"
   },
   {
    "duration": 13,
    "start_time": "2022-12-01T12:32:24.256Z"
   },
   {
    "duration": 2,
    "start_time": "2022-12-01T12:32:27.185Z"
   },
   {
    "duration": 9,
    "start_time": "2022-12-01T12:32:27.861Z"
   },
   {
    "duration": 7,
    "start_time": "2022-12-01T12:32:35.106Z"
   },
   {
    "duration": 4,
    "start_time": "2022-12-01T12:34:48.829Z"
   },
   {
    "duration": 9,
    "start_time": "2022-12-01T12:34:49.690Z"
   },
   {
    "duration": 5,
    "start_time": "2022-12-01T12:34:59.398Z"
   },
   {
    "duration": 13,
    "start_time": "2022-12-01T12:35:00.262Z"
   },
   {
    "duration": 16,
    "start_time": "2022-12-01T12:35:33.610Z"
   },
   {
    "duration": 19,
    "start_time": "2022-12-01T12:40:46.249Z"
   },
   {
    "duration": 13,
    "start_time": "2022-12-01T12:40:46.856Z"
   },
   {
    "duration": 3,
    "start_time": "2022-12-01T12:40:47.222Z"
   },
   {
    "duration": 4,
    "start_time": "2022-12-01T12:41:39.311Z"
   },
   {
    "duration": 6,
    "start_time": "2022-12-01T12:42:17.255Z"
   },
   {
    "duration": 6,
    "start_time": "2022-12-01T12:42:25.913Z"
   },
   {
    "duration": 23,
    "start_time": "2022-12-01T12:42:29.113Z"
   },
   {
    "duration": 4,
    "start_time": "2022-12-01T12:42:36.074Z"
   },
   {
    "duration": 12,
    "start_time": "2022-12-01T12:42:38.157Z"
   },
   {
    "duration": 36,
    "start_time": "2022-12-01T12:42:44.828Z"
   },
   {
    "duration": 5,
    "start_time": "2022-12-01T12:42:59.292Z"
   },
   {
    "duration": 29,
    "start_time": "2022-12-01T12:42:59.916Z"
   },
   {
    "duration": 4,
    "start_time": "2022-12-01T12:43:07.937Z"
   },
   {
    "duration": 364,
    "start_time": "2022-12-01T12:43:08.381Z"
   },
   {
    "duration": 10,
    "start_time": "2022-12-01T12:43:08.748Z"
   },
   {
    "duration": 21,
    "start_time": "2022-12-01T12:43:08.876Z"
   },
   {
    "duration": 10,
    "start_time": "2022-12-01T12:43:09.129Z"
   },
   {
    "duration": 14,
    "start_time": "2022-12-01T12:43:09.386Z"
   },
   {
    "duration": 10,
    "start_time": "2022-12-01T12:43:09.625Z"
   },
   {
    "duration": 22,
    "start_time": "2022-12-01T12:43:09.864Z"
   },
   {
    "duration": 8,
    "start_time": "2022-12-01T12:43:10.339Z"
   },
   {
    "duration": 6,
    "start_time": "2022-12-01T12:43:10.595Z"
   },
   {
    "duration": 8,
    "start_time": "2022-12-01T12:43:10.834Z"
   },
   {
    "duration": 50,
    "start_time": "2022-12-01T12:43:11.292Z"
   },
   {
    "duration": 37,
    "start_time": "2022-12-01T12:43:11.492Z"
   },
   {
    "duration": 39,
    "start_time": "2022-12-01T12:43:11.693Z"
   },
   {
    "duration": 4,
    "start_time": "2022-12-01T12:43:13.667Z"
   },
   {
    "duration": 13,
    "start_time": "2022-12-01T12:43:14.643Z"
   },
   {
    "duration": 4,
    "start_time": "2022-12-01T12:43:14.863Z"
   },
   {
    "duration": 14,
    "start_time": "2022-12-01T12:43:15.430Z"
   },
   {
    "duration": 7,
    "start_time": "2022-12-01T12:43:16.258Z"
   },
   {
    "duration": 16,
    "start_time": "2022-12-01T12:43:19.701Z"
   },
   {
    "duration": 4,
    "start_time": "2022-12-01T12:43:20.495Z"
   },
   {
    "duration": 4,
    "start_time": "2022-12-01T12:43:22.393Z"
   },
   {
    "duration": 4,
    "start_time": "2022-12-01T12:43:24.259Z"
   },
   {
    "duration": 20,
    "start_time": "2022-12-01T12:43:26.667Z"
   },
   {
    "duration": 6,
    "start_time": "2022-12-01T12:43:53.950Z"
   },
   {
    "duration": 8,
    "start_time": "2022-12-01T12:44:34.505Z"
   },
   {
    "duration": 44,
    "start_time": "2022-12-01T12:46:03.513Z"
   },
   {
    "duration": 9,
    "start_time": "2022-12-01T12:46:14.440Z"
   },
   {
    "duration": 5,
    "start_time": "2022-12-01T12:46:30.704Z"
   },
   {
    "duration": 4,
    "start_time": "2022-12-01T12:46:37.519Z"
   },
   {
    "duration": 19,
    "start_time": "2022-12-01T12:46:38.000Z"
   },
   {
    "duration": 3,
    "start_time": "2022-12-01T12:46:40.530Z"
   },
   {
    "duration": 2,
    "start_time": "2022-12-01T12:46:54.702Z"
   },
   {
    "duration": 18,
    "start_time": "2022-12-01T12:46:55.772Z"
   },
   {
    "duration": 4,
    "start_time": "2022-12-01T12:46:56.364Z"
   },
   {
    "duration": 8,
    "start_time": "2022-12-01T12:47:20.049Z"
   },
   {
    "duration": 5,
    "start_time": "2022-12-01T12:47:49.093Z"
   },
   {
    "duration": 6,
    "start_time": "2022-12-01T12:47:49.962Z"
   },
   {
    "duration": 7,
    "start_time": "2022-12-01T12:48:13.235Z"
   },
   {
    "duration": 10,
    "start_time": "2022-12-01T12:50:33.078Z"
   },
   {
    "duration": 2,
    "start_time": "2022-12-01T12:50:53.487Z"
   },
   {
    "duration": 7,
    "start_time": "2022-12-01T12:51:04.074Z"
   },
   {
    "duration": 5,
    "start_time": "2022-12-01T12:51:34.802Z"
   },
   {
    "duration": 5,
    "start_time": "2022-12-01T12:51:48.508Z"
   },
   {
    "duration": 8,
    "start_time": "2022-12-01T12:52:13.529Z"
   },
   {
    "duration": 8,
    "start_time": "2022-12-01T12:52:17.863Z"
   },
   {
    "duration": 10,
    "start_time": "2022-12-01T12:52:26.435Z"
   },
   {
    "duration": 11,
    "start_time": "2022-12-01T12:52:34.907Z"
   },
   {
    "duration": 10,
    "start_time": "2022-12-01T12:52:40.098Z"
   },
   {
    "duration": 5,
    "start_time": "2022-12-01T12:52:44.347Z"
   },
   {
    "duration": 8,
    "start_time": "2022-12-01T12:53:12.070Z"
   },
   {
    "duration": 4,
    "start_time": "2022-12-01T12:53:24.052Z"
   },
   {
    "duration": 4,
    "start_time": "2022-12-01T12:53:34.952Z"
   },
   {
    "duration": 3,
    "start_time": "2022-12-01T12:53:47.424Z"
   },
   {
    "duration": 12,
    "start_time": "2022-12-01T12:53:48.173Z"
   },
   {
    "duration": 5,
    "start_time": "2022-12-01T12:53:48.902Z"
   },
   {
    "duration": 11,
    "start_time": "2022-12-01T12:53:52.866Z"
   },
   {
    "duration": 4,
    "start_time": "2022-12-01T12:53:53.468Z"
   },
   {
    "duration": 12,
    "start_time": "2022-12-01T12:53:54.814Z"
   },
   {
    "duration": 5,
    "start_time": "2022-12-01T12:53:55.317Z"
   },
   {
    "duration": 3,
    "start_time": "2022-12-01T12:53:55.718Z"
   },
   {
    "duration": 4,
    "start_time": "2022-12-01T12:54:03.147Z"
   },
   {
    "duration": 23,
    "start_time": "2022-12-01T12:54:03.645Z"
   },
   {
    "duration": 4,
    "start_time": "2022-12-01T12:54:17.518Z"
   },
   {
    "duration": 4,
    "start_time": "2022-12-01T12:54:22.218Z"
   },
   {
    "duration": 5,
    "start_time": "2022-12-01T12:54:26.294Z"
   },
   {
    "duration": 4,
    "start_time": "2022-12-01T12:54:48.648Z"
   },
   {
    "duration": 6,
    "start_time": "2022-12-01T12:54:56.076Z"
   },
   {
    "duration": 5,
    "start_time": "2022-12-01T12:55:18.635Z"
   },
   {
    "duration": 8,
    "start_time": "2022-12-01T12:55:48.541Z"
   },
   {
    "duration": 2,
    "start_time": "2022-12-01T12:55:56.730Z"
   },
   {
    "duration": 4,
    "start_time": "2022-12-01T12:56:02.266Z"
   },
   {
    "duration": 4,
    "start_time": "2022-12-01T12:56:51.445Z"
   },
   {
    "duration": 4,
    "start_time": "2022-12-01T12:58:49.636Z"
   },
   {
    "duration": 30,
    "start_time": "2022-12-01T12:59:18.446Z"
   },
   {
    "duration": 4,
    "start_time": "2022-12-01T12:59:59.602Z"
   },
   {
    "duration": 371,
    "start_time": "2022-12-01T12:59:59.965Z"
   },
   {
    "duration": 13,
    "start_time": "2022-12-01T13:00:00.339Z"
   },
   {
    "duration": 14,
    "start_time": "2022-12-01T13:00:00.453Z"
   },
   {
    "duration": 10,
    "start_time": "2022-12-01T13:00:00.669Z"
   },
   {
    "duration": 16,
    "start_time": "2022-12-01T13:00:00.876Z"
   },
   {
    "duration": 10,
    "start_time": "2022-12-01T13:00:01.064Z"
   },
   {
    "duration": 15,
    "start_time": "2022-12-01T13:00:01.269Z"
   },
   {
    "duration": 8,
    "start_time": "2022-12-01T13:00:01.696Z"
   },
   {
    "duration": 7,
    "start_time": "2022-12-01T13:00:01.919Z"
   },
   {
    "duration": 7,
    "start_time": "2022-12-01T13:00:02.138Z"
   },
   {
    "duration": 37,
    "start_time": "2022-12-01T13:00:02.583Z"
   },
   {
    "duration": 37,
    "start_time": "2022-12-01T13:00:02.798Z"
   },
   {
    "duration": 38,
    "start_time": "2022-12-01T13:01:44.629Z"
   },
   {
    "duration": 4,
    "start_time": "2022-12-01T13:01:55.543Z"
   },
   {
    "duration": 12,
    "start_time": "2022-12-01T13:01:56.582Z"
   },
   {
    "duration": 5,
    "start_time": "2022-12-01T13:01:57.097Z"
   },
   {
    "duration": 12,
    "start_time": "2022-12-01T13:01:57.764Z"
   },
   {
    "duration": 5,
    "start_time": "2022-12-01T13:01:58.025Z"
   },
   {
    "duration": 11,
    "start_time": "2022-12-01T13:01:58.505Z"
   },
   {
    "duration": 4,
    "start_time": "2022-12-01T13:01:58.740Z"
   },
   {
    "duration": 5,
    "start_time": "2022-12-01T13:01:59.066Z"
   },
   {
    "duration": 4,
    "start_time": "2022-12-01T13:02:00.157Z"
   },
   {
    "duration": 14,
    "start_time": "2022-12-01T13:02:00.481Z"
   },
   {
    "duration": 15,
    "start_time": "2022-12-01T13:02:01.363Z"
   },
   {
    "duration": 19,
    "start_time": "2022-12-01T13:02:01.714Z"
   },
   {
    "duration": 4,
    "start_time": "2022-12-01T13:02:02.058Z"
   },
   {
    "duration": 4,
    "start_time": "2022-12-01T13:02:19.543Z"
   },
   {
    "duration": 10,
    "start_time": "2022-12-01T13:02:20.269Z"
   },
   {
    "duration": 9,
    "start_time": "2022-12-01T13:02:21.353Z"
   },
   {
    "duration": 8,
    "start_time": "2022-12-01T13:02:21.861Z"
   },
   {
    "duration": 3,
    "start_time": "2022-12-01T13:02:41.256Z"
   },
   {
    "duration": 9,
    "start_time": "2022-12-01T13:02:41.948Z"
   },
   {
    "duration": 9,
    "start_time": "2022-12-01T13:02:50.150Z"
   },
   {
    "duration": 3,
    "start_time": "2022-12-01T13:06:11.503Z"
   },
   {
    "duration": 4,
    "start_time": "2022-12-01T13:06:30.134Z"
   },
   {
    "duration": 3,
    "start_time": "2022-12-01T13:06:54.242Z"
   },
   {
    "duration": 4,
    "start_time": "2022-12-01T13:07:18.551Z"
   },
   {
    "duration": 102,
    "start_time": "2022-12-01T13:08:15.995Z"
   },
   {
    "duration": 13,
    "start_time": "2022-12-01T13:08:16.825Z"
   },
   {
    "duration": 4,
    "start_time": "2022-12-01T13:10:20.541Z"
   },
   {
    "duration": 3,
    "start_time": "2022-12-01T13:12:36.153Z"
   },
   {
    "duration": 3,
    "start_time": "2022-12-01T13:13:14.269Z"
   },
   {
    "duration": 5,
    "start_time": "2022-12-01T13:13:25.190Z"
   },
   {
    "duration": 13,
    "start_time": "2022-12-01T13:13:50.591Z"
   },
   {
    "duration": 5,
    "start_time": "2022-12-01T13:13:56.302Z"
   },
   {
    "duration": 5,
    "start_time": "2022-12-01T13:13:56.890Z"
   },
   {
    "duration": 5,
    "start_time": "2022-12-01T13:14:16.765Z"
   },
   {
    "duration": 7,
    "start_time": "2022-12-01T13:14:30.895Z"
   },
   {
    "duration": 13,
    "start_time": "2022-12-01T13:14:45.936Z"
   },
   {
    "duration": 7,
    "start_time": "2022-12-01T13:14:46.535Z"
   },
   {
    "duration": 3,
    "start_time": "2022-12-01T13:14:59.263Z"
   },
   {
    "duration": 7,
    "start_time": "2022-12-01T13:15:00.002Z"
   },
   {
    "duration": 12,
    "start_time": "2022-12-01T13:15:19.198Z"
   },
   {
    "duration": 10,
    "start_time": "2022-12-01T13:15:26.221Z"
   },
   {
    "duration": 11,
    "start_time": "2022-12-01T13:15:38.580Z"
   },
   {
    "duration": 13,
    "start_time": "2022-12-01T13:16:02.706Z"
   },
   {
    "duration": 18,
    "start_time": "2022-12-01T13:16:30.241Z"
   },
   {
    "duration": 3,
    "start_time": "2022-12-01T13:16:55.069Z"
   },
   {
    "duration": 3,
    "start_time": "2022-12-01T13:17:17.130Z"
   },
   {
    "duration": 3,
    "start_time": "2022-12-01T13:17:27.352Z"
   },
   {
    "duration": 9,
    "start_time": "2022-12-01T13:17:36.757Z"
   },
   {
    "duration": 3,
    "start_time": "2022-12-01T13:19:49.741Z"
   },
   {
    "duration": 8,
    "start_time": "2022-12-01T13:19:51.361Z"
   },
   {
    "duration": 3,
    "start_time": "2022-12-01T13:20:50.966Z"
   },
   {
    "duration": 9,
    "start_time": "2022-12-01T13:20:51.717Z"
   },
   {
    "duration": 9,
    "start_time": "2022-12-01T13:21:28.538Z"
   },
   {
    "duration": 9,
    "start_time": "2022-12-01T13:21:33.092Z"
   },
   {
    "duration": 9,
    "start_time": "2022-12-01T13:21:43.432Z"
   },
   {
    "duration": 4,
    "start_time": "2022-12-01T13:22:26.455Z"
   },
   {
    "duration": 9,
    "start_time": "2022-12-01T13:23:08.886Z"
   },
   {
    "duration": 10,
    "start_time": "2022-12-01T13:23:09.497Z"
   },
   {
    "duration": 10,
    "start_time": "2022-12-01T13:23:10.023Z"
   },
   {
    "duration": 8,
    "start_time": "2022-12-01T13:23:57.076Z"
   },
   {
    "duration": 3,
    "start_time": "2022-12-01T13:25:01.930Z"
   },
   {
    "duration": 2063,
    "start_time": "2022-12-01T13:27:19.887Z"
   },
   {
    "duration": 14,
    "start_time": "2022-12-01T13:27:56.852Z"
   },
   {
    "duration": 2106,
    "start_time": "2022-12-01T13:28:20.774Z"
   },
   {
    "duration": 4,
    "start_time": "2022-12-01T13:28:28.289Z"
   },
   {
    "duration": 2161,
    "start_time": "2022-12-01T13:28:46.699Z"
   },
   {
    "duration": 2194,
    "start_time": "2022-12-01T13:28:55.885Z"
   },
   {
    "duration": 2106,
    "start_time": "2022-12-01T13:29:26.875Z"
   },
   {
    "duration": 2102,
    "start_time": "2022-12-01T13:37:16.949Z"
   },
   {
    "duration": 2186,
    "start_time": "2022-12-01T13:37:52.685Z"
   },
   {
    "duration": 2058,
    "start_time": "2022-12-01T13:38:56.542Z"
   },
   {
    "duration": 51,
    "start_time": "2022-12-01T13:39:19.458Z"
   },
   {
    "duration": 2171,
    "start_time": "2022-12-01T13:39:26.066Z"
   },
   {
    "duration": 2025,
    "start_time": "2022-12-01T13:40:12.737Z"
   },
   {
    "duration": 3,
    "start_time": "2022-12-01T13:41:02.671Z"
   },
   {
    "duration": 9,
    "start_time": "2022-12-01T13:41:03.299Z"
   },
   {
    "duration": 9,
    "start_time": "2022-12-01T13:41:04.726Z"
   },
   {
    "duration": 9,
    "start_time": "2022-12-01T13:41:05.354Z"
   },
   {
    "duration": 2077,
    "start_time": "2022-12-01T13:41:06.743Z"
   },
   {
    "duration": 2139,
    "start_time": "2022-12-01T13:41:08.822Z"
   },
   {
    "duration": 2111,
    "start_time": "2022-12-01T13:41:24.607Z"
   },
   {
    "duration": 2087,
    "start_time": "2022-12-01T13:41:58.536Z"
   },
   {
    "duration": 2087,
    "start_time": "2022-12-01T13:42:41.105Z"
   },
   {
    "duration": 2041,
    "start_time": "2022-12-01T13:42:58.159Z"
   },
   {
    "duration": 1118,
    "start_time": "2022-12-02T07:34:38.810Z"
   },
   {
    "duration": 621,
    "start_time": "2022-12-02T07:34:39.930Z"
   },
   {
    "duration": 16,
    "start_time": "2022-12-02T07:34:40.553Z"
   },
   {
    "duration": 22,
    "start_time": "2022-12-02T07:34:40.571Z"
   },
   {
    "duration": 12,
    "start_time": "2022-12-02T07:34:40.595Z"
   },
   {
    "duration": 14,
    "start_time": "2022-12-02T07:34:40.663Z"
   },
   {
    "duration": 9,
    "start_time": "2022-12-02T07:34:40.998Z"
   },
   {
    "duration": 13,
    "start_time": "2022-12-02T07:34:41.672Z"
   },
   {
    "duration": 7,
    "start_time": "2022-12-02T07:34:42.808Z"
   },
   {
    "duration": 8,
    "start_time": "2022-12-02T07:34:43.369Z"
   },
   {
    "duration": 8,
    "start_time": "2022-12-02T07:34:47.784Z"
   },
   {
    "duration": 39,
    "start_time": "2022-12-02T07:34:49.099Z"
   },
   {
    "duration": 35,
    "start_time": "2022-12-02T07:34:50.042Z"
   },
   {
    "duration": 37,
    "start_time": "2022-12-02T07:34:50.521Z"
   },
   {
    "duration": 4,
    "start_time": "2022-12-02T07:34:56.247Z"
   },
   {
    "duration": 95,
    "start_time": "2022-12-02T07:36:59.666Z"
   },
   {
    "duration": 4,
    "start_time": "2022-12-02T07:37:02.433Z"
   },
   {
    "duration": 13,
    "start_time": "2022-12-02T07:37:03.495Z"
   },
   {
    "duration": 4,
    "start_time": "2022-12-02T07:37:04.225Z"
   },
   {
    "duration": 15,
    "start_time": "2022-12-02T07:37:16.092Z"
   },
   {
    "duration": 4,
    "start_time": "2022-12-02T07:37:19.202Z"
   },
   {
    "duration": 15,
    "start_time": "2022-12-02T07:37:31.067Z"
   },
   {
    "duration": 3,
    "start_time": "2022-12-02T07:37:35.478Z"
   },
   {
    "duration": 4,
    "start_time": "2022-12-02T07:37:54.899Z"
   },
   {
    "duration": 16,
    "start_time": "2022-12-02T07:39:46.730Z"
   },
   {
    "duration": 4,
    "start_time": "2022-12-02T07:39:50.036Z"
   },
   {
    "duration": 22,
    "start_time": "2022-12-02T07:39:50.617Z"
   },
   {
    "duration": 14,
    "start_time": "2022-12-02T07:39:52.214Z"
   },
   {
    "duration": 15,
    "start_time": "2022-12-02T07:39:53.125Z"
   },
   {
    "duration": 3,
    "start_time": "2022-12-02T07:40:05.443Z"
   },
   {
    "duration": 3,
    "start_time": "2022-12-02T07:41:30.709Z"
   },
   {
    "duration": 3,
    "start_time": "2022-12-02T07:41:50.085Z"
   },
   {
    "duration": 3,
    "start_time": "2022-12-02T07:42:14.854Z"
   },
   {
    "duration": 12,
    "start_time": "2022-12-02T07:42:18.058Z"
   },
   {
    "duration": 2,
    "start_time": "2022-12-02T07:42:24.583Z"
   },
   {
    "duration": 2,
    "start_time": "2022-12-02T07:42:25.668Z"
   },
   {
    "duration": 14,
    "start_time": "2022-12-02T07:42:26.772Z"
   },
   {
    "duration": 12,
    "start_time": "2022-12-02T07:43:38.109Z"
   },
   {
    "duration": 4,
    "start_time": "2022-12-02T07:43:59.387Z"
   },
   {
    "duration": 11,
    "start_time": "2022-12-02T07:44:00.368Z"
   },
   {
    "duration": 3,
    "start_time": "2022-12-02T07:44:13.068Z"
   },
   {
    "duration": 4,
    "start_time": "2022-12-02T07:44:14.273Z"
   },
   {
    "duration": 4,
    "start_time": "2022-12-02T07:49:28.339Z"
   },
   {
    "duration": 9,
    "start_time": "2022-12-02T07:50:34.582Z"
   },
   {
    "duration": 8,
    "start_time": "2022-12-02T07:50:53.656Z"
   },
   {
    "duration": 8,
    "start_time": "2022-12-02T07:51:20.043Z"
   },
   {
    "duration": 11,
    "start_time": "2022-12-02T07:51:22.464Z"
   },
   {
    "duration": 9,
    "start_time": "2022-12-02T07:51:35.723Z"
   },
   {
    "duration": 9,
    "start_time": "2022-12-02T07:51:42.070Z"
   },
   {
    "duration": 9,
    "start_time": "2022-12-02T07:51:42.703Z"
   },
   {
    "duration": 10,
    "start_time": "2022-12-02T07:58:20.862Z"
   },
   {
    "duration": 7,
    "start_time": "2022-12-02T07:58:25.097Z"
   },
   {
    "duration": 2479,
    "start_time": "2022-12-02T07:58:26.070Z"
   },
   {
    "duration": 4,
    "start_time": "2022-12-02T07:58:43.256Z"
   },
   {
    "duration": 7,
    "start_time": "2022-12-02T08:00:24.143Z"
   },
   {
    "duration": 2169,
    "start_time": "2022-12-02T08:08:50.643Z"
   },
   {
    "duration": 4,
    "start_time": "2022-12-02T08:09:07.958Z"
   },
   {
    "duration": 1992,
    "start_time": "2022-12-02T08:09:08.718Z"
   },
   {
    "duration": 2155,
    "start_time": "2022-12-02T08:10:21.672Z"
   },
   {
    "duration": 22,
    "start_time": "2022-12-02T08:10:38.283Z"
   },
   {
    "duration": 2020,
    "start_time": "2022-12-02T08:11:03.433Z"
   },
   {
    "duration": 2038,
    "start_time": "2022-12-02T08:11:29.917Z"
   },
   {
    "duration": 1967,
    "start_time": "2022-12-02T08:11:34.311Z"
   },
   {
    "duration": 1974,
    "start_time": "2022-12-02T08:11:49.663Z"
   },
   {
    "duration": 5,
    "start_time": "2022-12-02T08:12:20.214Z"
   },
   {
    "duration": 2022,
    "start_time": "2022-12-02T08:12:22.518Z"
   },
   {
    "duration": 1982,
    "start_time": "2022-12-02T08:12:27.523Z"
   },
   {
    "duration": 2015,
    "start_time": "2022-12-02T08:12:46.126Z"
   },
   {
    "duration": 16,
    "start_time": "2022-12-02T08:12:48.142Z"
   },
   {
    "duration": 1985,
    "start_time": "2022-12-02T08:13:18.820Z"
   },
   {
    "duration": 1946,
    "start_time": "2022-12-02T08:13:24.584Z"
   },
   {
    "duration": 16,
    "start_time": "2022-12-02T08:14:57.159Z"
   },
   {
    "duration": 15,
    "start_time": "2022-12-02T08:15:33.705Z"
   },
   {
    "duration": 3,
    "start_time": "2022-12-02T08:18:22.137Z"
   },
   {
    "duration": 2033,
    "start_time": "2022-12-02T08:18:48.132Z"
   },
   {
    "duration": 2077,
    "start_time": "2022-12-02T08:48:00.642Z"
   },
   {
    "duration": 10,
    "start_time": "2022-12-02T08:48:28.253Z"
   },
   {
    "duration": 5,
    "start_time": "2022-12-02T08:48:32.221Z"
   },
   {
    "duration": 2010,
    "start_time": "2022-12-02T08:48:35.077Z"
   },
   {
    "duration": 5,
    "start_time": "2022-12-02T08:48:48.700Z"
   },
   {
    "duration": 1990,
    "start_time": "2022-12-02T08:48:50.110Z"
   },
   {
    "duration": 2021,
    "start_time": "2022-12-02T08:49:14.583Z"
   },
   {
    "duration": 2033,
    "start_time": "2022-12-02T08:49:46.447Z"
   },
   {
    "duration": 1985,
    "start_time": "2022-12-02T08:49:52.957Z"
   },
   {
    "duration": 6,
    "start_time": "2022-12-02T08:53:37.098Z"
   },
   {
    "duration": 6,
    "start_time": "2022-12-02T08:53:55.802Z"
   },
   {
    "duration": 5,
    "start_time": "2022-12-02T08:54:00.726Z"
   },
   {
    "duration": 2225,
    "start_time": "2022-12-02T08:54:02.428Z"
   },
   {
    "duration": 5,
    "start_time": "2022-12-02T08:54:07.914Z"
   },
   {
    "duration": 1611,
    "start_time": "2022-12-02T08:54:15.003Z"
   },
   {
    "duration": 116,
    "start_time": "2022-12-02T08:54:37.136Z"
   },
   {
    "duration": 8,
    "start_time": "2022-12-02T08:55:06.322Z"
   },
   {
    "duration": 4,
    "start_time": "2022-12-02T08:55:14.414Z"
   },
   {
    "duration": 126,
    "start_time": "2022-12-02T08:55:30.882Z"
   },
   {
    "duration": 20,
    "start_time": "2022-12-02T08:55:52.340Z"
   },
   {
    "duration": 125,
    "start_time": "2022-12-02T08:55:59.775Z"
   },
   {
    "duration": 129,
    "start_time": "2022-12-02T08:56:26.728Z"
   },
   {
    "duration": 155,
    "start_time": "2022-12-02T08:56:42.466Z"
   },
   {
    "duration": 119,
    "start_time": "2022-12-02T08:58:29.863Z"
   },
   {
    "duration": 187,
    "start_time": "2022-12-02T09:00:44.693Z"
   },
   {
    "duration": 12,
    "start_time": "2022-12-02T09:08:18.011Z"
   },
   {
    "duration": 2142,
    "start_time": "2022-12-02T09:08:34.450Z"
   },
   {
    "duration": 2060,
    "start_time": "2022-12-02T09:08:39.858Z"
   },
   {
    "duration": 139,
    "start_time": "2022-12-02T09:09:00.520Z"
   },
   {
    "duration": 12,
    "start_time": "2022-12-02T09:09:46.936Z"
   },
   {
    "duration": 155,
    "start_time": "2022-12-02T09:09:52.268Z"
   },
   {
    "duration": 162,
    "start_time": "2022-12-02T09:10:33.418Z"
   },
   {
    "duration": 136,
    "start_time": "2022-12-02T09:10:45.794Z"
   },
   {
    "duration": 120,
    "start_time": "2022-12-02T09:11:00.371Z"
   },
   {
    "duration": 5,
    "start_time": "2022-12-02T09:12:35.537Z"
   },
   {
    "duration": 131,
    "start_time": "2022-12-02T09:12:45.995Z"
   },
   {
    "duration": 132,
    "start_time": "2022-12-02T09:13:10.954Z"
   },
   {
    "duration": 138,
    "start_time": "2022-12-02T09:14:08.234Z"
   },
   {
    "duration": 121,
    "start_time": "2022-12-02T09:14:36.915Z"
   },
   {
    "duration": 130,
    "start_time": "2022-12-02T09:14:51.801Z"
   },
   {
    "duration": 107,
    "start_time": "2022-12-02T09:15:42.652Z"
   },
   {
    "duration": 196,
    "start_time": "2022-12-02T09:16:33.744Z"
   },
   {
    "duration": 176,
    "start_time": "2022-12-02T09:17:28.228Z"
   },
   {
    "duration": 228,
    "start_time": "2022-12-02T09:18:06.597Z"
   },
   {
    "duration": 50,
    "start_time": "2022-12-02T09:19:43.227Z"
   },
   {
    "duration": 193,
    "start_time": "2022-12-02T09:19:50.031Z"
   },
   {
    "duration": 162,
    "start_time": "2022-12-02T09:22:05.394Z"
   },
   {
    "duration": 3,
    "start_time": "2022-12-02T09:23:42.182Z"
   },
   {
    "duration": 4,
    "start_time": "2022-12-02T09:23:56.288Z"
   },
   {
    "duration": 1868,
    "start_time": "2022-12-02T09:23:57.562Z"
   },
   {
    "duration": 7,
    "start_time": "2022-12-02T09:24:12.994Z"
   },
   {
    "duration": 2041,
    "start_time": "2022-12-02T09:24:14.095Z"
   },
   {
    "duration": 5,
    "start_time": "2022-12-02T09:24:39.261Z"
   },
   {
    "duration": 1853,
    "start_time": "2022-12-02T09:24:40.718Z"
   },
   {
    "duration": 2573,
    "start_time": "2022-12-02T09:24:45.800Z"
   },
   {
    "duration": 6,
    "start_time": "2022-12-02T09:24:56.470Z"
   },
   {
    "duration": 2168,
    "start_time": "2022-12-02T09:24:57.553Z"
   },
   {
    "duration": 2522,
    "start_time": "2022-12-02T09:24:59.863Z"
   },
   {
    "duration": 5,
    "start_time": "2022-12-02T09:25:29.199Z"
   },
   {
    "duration": 2130,
    "start_time": "2022-12-02T09:25:30.127Z"
   },
   {
    "duration": 2258,
    "start_time": "2022-12-02T09:25:35.484Z"
   },
   {
    "duration": 2671,
    "start_time": "2022-12-02T09:25:37.745Z"
   },
   {
    "duration": 317,
    "start_time": "2022-12-02T09:25:40.419Z"
   },
   {
    "duration": 11,
    "start_time": "2022-12-02T09:27:04.725Z"
   },
   {
    "duration": 12,
    "start_time": "2022-12-02T09:27:46.009Z"
   },
   {
    "duration": 5,
    "start_time": "2022-12-02T09:29:00.558Z"
   },
   {
    "duration": 10,
    "start_time": "2022-12-02T09:29:04.513Z"
   },
   {
    "duration": 10,
    "start_time": "2022-12-02T09:29:30.358Z"
   },
   {
    "duration": 11,
    "start_time": "2022-12-02T09:29:44.456Z"
   },
   {
    "duration": 8,
    "start_time": "2022-12-02T09:31:31.564Z"
   },
   {
    "duration": 2654,
    "start_time": "2022-12-02T09:31:32.734Z"
   },
   {
    "duration": 2555,
    "start_time": "2022-12-02T09:31:40.033Z"
   },
   {
    "duration": 2825,
    "start_time": "2022-12-02T09:31:44.222Z"
   },
   {
    "duration": 279,
    "start_time": "2022-12-02T09:31:52.133Z"
   },
   {
    "duration": 4,
    "start_time": "2022-12-02T09:38:50.050Z"
   },
   {
    "duration": 4,
    "start_time": "2022-12-02T09:38:50.751Z"
   },
   {
    "duration": 3,
    "start_time": "2022-12-02T09:39:47.280Z"
   },
   {
    "duration": 4,
    "start_time": "2022-12-02T09:39:54.465Z"
   },
   {
    "duration": 5,
    "start_time": "2022-12-02T09:40:05.112Z"
   },
   {
    "duration": 5,
    "start_time": "2022-12-02T09:40:13.146Z"
   },
   {
    "duration": 4,
    "start_time": "2022-12-02T09:40:26.285Z"
   },
   {
    "duration": 9,
    "start_time": "2022-12-02T09:40:27.586Z"
   },
   {
    "duration": 10,
    "start_time": "2022-12-02T09:40:31.131Z"
   },
   {
    "duration": 9,
    "start_time": "2022-12-02T09:40:31.922Z"
   },
   {
    "duration": 9,
    "start_time": "2022-12-02T09:40:33.626Z"
   },
   {
    "duration": 20,
    "start_time": "2022-12-02T09:41:13.477Z"
   },
   {
    "duration": 24,
    "start_time": "2022-12-02T09:42:59.459Z"
   },
   {
    "duration": 25,
    "start_time": "2022-12-02T09:43:35.932Z"
   },
   {
    "duration": 9,
    "start_time": "2022-12-03T01:58:36.790Z"
   },
   {
    "duration": 39,
    "start_time": "2022-12-03T01:58:39.865Z"
   },
   {
    "duration": 1047,
    "start_time": "2022-12-03T01:58:48.132Z"
   },
   {
    "duration": 634,
    "start_time": "2022-12-03T01:58:49.181Z"
   },
   {
    "duration": 16,
    "start_time": "2022-12-03T01:58:49.817Z"
   },
   {
    "duration": 47,
    "start_time": "2022-12-03T01:58:49.835Z"
   },
   {
    "duration": 10,
    "start_time": "2022-12-03T01:58:49.951Z"
   },
   {
    "duration": 14,
    "start_time": "2022-12-03T01:58:51.033Z"
   },
   {
    "duration": 9,
    "start_time": "2022-12-03T01:58:51.342Z"
   },
   {
    "duration": 15,
    "start_time": "2022-12-03T01:58:51.610Z"
   },
   {
    "duration": 7,
    "start_time": "2022-12-03T01:58:52.106Z"
   },
   {
    "duration": 8,
    "start_time": "2022-12-03T01:58:52.323Z"
   },
   {
    "duration": 12,
    "start_time": "2022-12-03T01:58:52.544Z"
   },
   {
    "duration": 36,
    "start_time": "2022-12-03T01:58:52.947Z"
   },
   {
    "duration": 34,
    "start_time": "2022-12-03T01:58:53.155Z"
   },
   {
    "duration": 33,
    "start_time": "2022-12-03T01:58:53.357Z"
   },
   {
    "duration": 4,
    "start_time": "2022-12-03T01:58:54.515Z"
   },
   {
    "duration": 14,
    "start_time": "2022-12-03T01:58:54.946Z"
   },
   {
    "duration": 4,
    "start_time": "2022-12-03T01:58:55.187Z"
   },
   {
    "duration": 17,
    "start_time": "2022-12-03T01:58:55.679Z"
   },
   {
    "duration": 5,
    "start_time": "2022-12-03T01:58:55.917Z"
   },
   {
    "duration": 22,
    "start_time": "2022-12-03T01:58:56.358Z"
   },
   {
    "duration": 5,
    "start_time": "2022-12-03T01:58:56.597Z"
   },
   {
    "duration": 4,
    "start_time": "2022-12-03T01:58:56.818Z"
   },
   {
    "duration": 4,
    "start_time": "2022-12-03T01:58:57.418Z"
   },
   {
    "duration": 82,
    "start_time": "2022-12-03T01:58:57.639Z"
   },
   {
    "duration": 20,
    "start_time": "2022-12-03T01:58:57.843Z"
   },
   {
    "duration": 26,
    "start_time": "2022-12-03T01:58:58.034Z"
   },
   {
    "duration": 4,
    "start_time": "2022-12-03T01:58:58.464Z"
   },
   {
    "duration": 5,
    "start_time": "2022-12-03T01:58:58.668Z"
   },
   {
    "duration": 3,
    "start_time": "2022-12-03T01:59:19.490Z"
   },
   {
    "duration": 4,
    "start_time": "2022-12-03T01:59:21.800Z"
   },
   {
    "duration": 5,
    "start_time": "2022-12-03T01:59:22.275Z"
   },
   {
    "duration": 5,
    "start_time": "2022-12-03T01:59:23.523Z"
   },
   {
    "duration": 20,
    "start_time": "2022-12-03T01:59:23.932Z"
   },
   {
    "duration": 5,
    "start_time": "2022-12-03T01:59:25.466Z"
   },
   {
    "duration": 1925,
    "start_time": "2022-12-03T01:59:28.947Z"
   },
   {
    "duration": 1911,
    "start_time": "2022-12-03T01:59:36.384Z"
   },
   {
    "duration": 1972,
    "start_time": "2022-12-03T01:59:48.595Z"
   },
   {
    "duration": 597,
    "start_time": "2022-12-03T02:00:55.063Z"
   },
   {
    "duration": 4,
    "start_time": "2022-12-03T02:07:14.102Z"
   },
   {
    "duration": 4,
    "start_time": "2022-12-03T02:07:15.153Z"
   },
   {
    "duration": 82,
    "start_time": "2022-12-03T02:07:42.005Z"
   },
   {
    "duration": 3,
    "start_time": "2022-12-03T02:07:51.798Z"
   },
   {
    "duration": 4,
    "start_time": "2022-12-03T02:07:53.052Z"
   },
   {
    "duration": 5,
    "start_time": "2022-12-03T02:07:53.734Z"
   },
   {
    "duration": 5,
    "start_time": "2022-12-03T02:09:05.843Z"
   },
   {
    "duration": 12,
    "start_time": "2022-12-03T02:09:20.430Z"
   },
   {
    "duration": 7,
    "start_time": "2022-12-03T02:09:29.300Z"
   },
   {
    "duration": 22,
    "start_time": "2022-12-03T02:09:31.012Z"
   },
   {
    "duration": 5,
    "start_time": "2022-12-03T02:09:33.492Z"
   },
   {
    "duration": 2043,
    "start_time": "2022-12-03T02:09:35.970Z"
   },
   {
    "duration": 1986,
    "start_time": "2022-12-03T02:09:42.366Z"
   },
   {
    "duration": 2055,
    "start_time": "2022-12-03T02:09:45.404Z"
   },
   {
    "duration": 176,
    "start_time": "2022-12-03T02:09:48.088Z"
   },
   {
    "duration": 55,
    "start_time": "2022-12-04T10:33:03.848Z"
   },
   {
    "duration": 1068,
    "start_time": "2022-12-04T10:34:29.437Z"
   },
   {
    "duration": 614,
    "start_time": "2022-12-04T10:34:30.507Z"
   },
   {
    "duration": 15,
    "start_time": "2022-12-04T10:34:31.123Z"
   },
   {
    "duration": 21,
    "start_time": "2022-12-04T10:34:31.140Z"
   },
   {
    "duration": 10,
    "start_time": "2022-12-04T10:34:32.955Z"
   },
   {
    "duration": 15,
    "start_time": "2022-12-04T10:34:33.297Z"
   },
   {
    "duration": 9,
    "start_time": "2022-12-04T10:34:33.624Z"
   },
   {
    "duration": 13,
    "start_time": "2022-12-04T10:34:33.905Z"
   },
   {
    "duration": 8,
    "start_time": "2022-12-04T10:34:34.460Z"
   },
   {
    "duration": 9,
    "start_time": "2022-12-04T10:34:34.772Z"
   },
   {
    "duration": 8,
    "start_time": "2022-12-04T10:34:34.983Z"
   },
   {
    "duration": 45,
    "start_time": "2022-12-04T10:34:35.538Z"
   },
   {
    "duration": 34,
    "start_time": "2022-12-04T10:34:35.770Z"
   },
   {
    "duration": 33,
    "start_time": "2022-12-04T10:34:36.275Z"
   },
   {
    "duration": 3,
    "start_time": "2022-12-04T10:34:37.827Z"
   },
   {
    "duration": 12,
    "start_time": "2022-12-04T10:34:38.395Z"
   },
   {
    "duration": 3,
    "start_time": "2022-12-04T10:34:38.633Z"
   },
   {
    "duration": 17,
    "start_time": "2022-12-04T10:34:39.173Z"
   },
   {
    "duration": 3,
    "start_time": "2022-12-04T10:34:39.411Z"
   },
   {
    "duration": 12,
    "start_time": "2022-12-04T10:34:39.932Z"
   },
   {
    "duration": 3,
    "start_time": "2022-12-04T10:34:40.183Z"
   },
   {
    "duration": 3,
    "start_time": "2022-12-04T10:34:40.437Z"
   },
   {
    "duration": 3,
    "start_time": "2022-12-04T10:34:41.213Z"
   },
   {
    "duration": 87,
    "start_time": "2022-12-04T10:34:41.534Z"
   },
   {
    "duration": 15,
    "start_time": "2022-12-04T10:34:42.548Z"
   },
   {
    "duration": 16,
    "start_time": "2022-12-04T10:34:42.853Z"
   },
   {
    "duration": 3,
    "start_time": "2022-12-04T10:34:43.390Z"
   },
   {
    "duration": 3,
    "start_time": "2022-12-04T10:34:43.660Z"
   },
   {
    "duration": 2,
    "start_time": "2022-12-04T10:34:45.253Z"
   },
   {
    "duration": 4,
    "start_time": "2022-12-04T10:34:46.852Z"
   },
   {
    "duration": 5,
    "start_time": "2022-12-04T10:34:50.953Z"
   },
   {
    "duration": 3,
    "start_time": "2022-12-04T10:34:52.847Z"
   },
   {
    "duration": 120,
    "start_time": "2022-12-04T10:34:55.278Z"
   },
   {
    "duration": 19,
    "start_time": "2022-12-04T10:35:15.128Z"
   },
   {
    "duration": 3,
    "start_time": "2022-12-04T10:35:44.248Z"
   },
   {
    "duration": 24,
    "start_time": "2022-12-04T10:35:45.490Z"
   },
   {
    "duration": 5,
    "start_time": "2022-12-04T10:39:10.236Z"
   },
   {
    "duration": 49,
    "start_time": "2022-12-04T10:39:38.732Z"
   },
   {
    "duration": 2067,
    "start_time": "2022-12-04T10:39:44.266Z"
   },
   {
    "duration": 1864,
    "start_time": "2022-12-04T10:39:51.633Z"
   },
   {
    "duration": 1837,
    "start_time": "2022-12-04T10:39:55.859Z"
   },
   {
    "duration": 580,
    "start_time": "2022-12-04T10:46:38.524Z"
   },
   {
    "duration": 1954,
    "start_time": "2022-12-04T10:47:29.061Z"
   },
   {
    "duration": 6,
    "start_time": "2022-12-04T10:47:38.078Z"
   },
   {
    "duration": 1984,
    "start_time": "2022-12-04T10:47:42.322Z"
   },
   {
    "duration": 1930,
    "start_time": "2022-12-04T10:47:46.219Z"
   },
   {
    "duration": 1895,
    "start_time": "2022-12-04T10:47:49.466Z"
   },
   {
    "duration": 1869,
    "start_time": "2022-12-04T10:47:56.264Z"
   },
   {
    "duration": 149,
    "start_time": "2022-12-04T10:49:56.331Z"
   },
   {
    "duration": 161,
    "start_time": "2022-12-04T10:50:02.034Z"
   },
   {
    "duration": 141,
    "start_time": "2022-12-04T10:50:08.256Z"
   },
   {
    "duration": 58,
    "start_time": "2022-12-04T10:50:21.236Z"
   },
   {
    "duration": 141,
    "start_time": "2022-12-04T10:50:25.442Z"
   },
   {
    "duration": 215,
    "start_time": "2022-12-04T10:50:49.383Z"
   },
   {
    "duration": 137,
    "start_time": "2022-12-04T10:51:08.718Z"
   }
  ],
  "kernelspec": {
   "display_name": "Python 3 (ipykernel)",
   "language": "python",
   "name": "python3"
  },
  "language_info": {
   "codemirror_mode": {
    "name": "ipython",
    "version": 3
   },
   "file_extension": ".py",
   "mimetype": "text/x-python",
   "name": "python",
   "nbconvert_exporter": "python",
   "pygments_lexer": "ipython3",
   "version": "3.9.12"
  },
  "toc": {
   "base_numbering": 1,
   "nav_menu": {},
   "number_sections": true,
   "sideBar": true,
   "skip_h1_title": true,
   "title_cell": "Table of Contents",
   "title_sidebar": "Contents",
   "toc_cell": false,
   "toc_position": {},
   "toc_section_display": true,
   "toc_window_display": false
  }
 },
 "nbformat": 4,
 "nbformat_minor": 2
}
