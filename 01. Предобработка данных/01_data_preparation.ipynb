{
 "cells": [
  {
   "cell_type": "markdown",
   "id": "dbbd27a8",
   "metadata": {
    "deletable": false,
    "editable": false,
    "id": "c81daeeb"
   },
   "source": [
    "# Исследование надежности заемщиков\n"
   ]
  },
  {
   "cell_type": "markdown",
   "id": "41e997b5",
   "metadata": {
    "deletable": false,
    "editable": false,
    "id": "827c20bf"
   },
   "source": [
    "Во второй части проекта вы выполните шаги 3 и 4. Их вручную проверит ревьюер.\n",
    "Чтобы вам не пришлось писать код заново для шагов 1 и 2, мы добавили авторские решения в ячейки с кодом. \n",
    "\n"
   ]
  },
  {
   "cell_type": "markdown",
   "id": "ac99d016",
   "metadata": {
    "deletable": false,
    "editable": false,
    "id": "744d7639"
   },
   "source": [
    "## Откройте таблицу и изучите общую информацию о данных"
   ]
  },
  {
   "cell_type": "markdown",
   "id": "bf33e41b",
   "metadata": {
    "deletable": false,
    "editable": false,
    "id": "e7a14c31"
   },
   "source": [
    "**Задание 1. Импортируйте библиотеку pandas. Считайте данные из csv-файла в датафрейм и сохраните в переменную `data`. Путь к файлу:**\n",
    "\n",
    "`/datasets/data.csv`"
   ]
  },
  {
   "cell_type": "code",
   "execution_count": 1,
   "id": "434abb92",
   "metadata": {
    "deletable": false,
    "id": "7bcf75c9"
   },
   "outputs": [],
   "source": [
    "import pandas as pd\n",
    "\n",
    "try:\n",
    "    data = pd.read_csv('/datasets/data.csv')\n",
    "except:\n",
    "    data = pd.read_csv('https://code.s3.yandex.net/datasets/data.csv')"
   ]
  },
  {
   "cell_type": "markdown",
   "id": "9ed2df96",
   "metadata": {
    "deletable": false,
    "editable": false,
    "id": "b8038fe3"
   },
   "source": [
    "**Задание 2. Выведите первые 20 строчек датафрейма `data` на экран.**"
   ]
  },
  {
   "cell_type": "code",
   "execution_count": 2,
   "id": "dc28631a",
   "metadata": {
    "deletable": false,
    "id": "2a7cab99",
    "outputId": "1a8f3ef2-d323-4ec2-ddf7-89670b5944c4"
   },
   "outputs": [
    {
     "data": {
      "text/html": [
       "<div>\n",
       "<style scoped>\n",
       "    .dataframe tbody tr th:only-of-type {\n",
       "        vertical-align: middle;\n",
       "    }\n",
       "\n",
       "    .dataframe tbody tr th {\n",
       "        vertical-align: top;\n",
       "    }\n",
       "\n",
       "    .dataframe thead th {\n",
       "        text-align: right;\n",
       "    }\n",
       "</style>\n",
       "<table border=\"1\" class=\"dataframe\">\n",
       "  <thead>\n",
       "    <tr style=\"text-align: right;\">\n",
       "      <th></th>\n",
       "      <th>children</th>\n",
       "      <th>days_employed</th>\n",
       "      <th>dob_years</th>\n",
       "      <th>education</th>\n",
       "      <th>education_id</th>\n",
       "      <th>family_status</th>\n",
       "      <th>family_status_id</th>\n",
       "      <th>gender</th>\n",
       "      <th>income_type</th>\n",
       "      <th>debt</th>\n",
       "      <th>total_income</th>\n",
       "      <th>purpose</th>\n",
       "    </tr>\n",
       "  </thead>\n",
       "  <tbody>\n",
       "    <tr>\n",
       "      <th>0</th>\n",
       "      <td>1</td>\n",
       "      <td>-8437.673028</td>\n",
       "      <td>42</td>\n",
       "      <td>высшее</td>\n",
       "      <td>0</td>\n",
       "      <td>женат / замужем</td>\n",
       "      <td>0</td>\n",
       "      <td>F</td>\n",
       "      <td>сотрудник</td>\n",
       "      <td>0</td>\n",
       "      <td>253875.639453</td>\n",
       "      <td>покупка жилья</td>\n",
       "    </tr>\n",
       "    <tr>\n",
       "      <th>1</th>\n",
       "      <td>1</td>\n",
       "      <td>-4024.803754</td>\n",
       "      <td>36</td>\n",
       "      <td>среднее</td>\n",
       "      <td>1</td>\n",
       "      <td>женат / замужем</td>\n",
       "      <td>0</td>\n",
       "      <td>F</td>\n",
       "      <td>сотрудник</td>\n",
       "      <td>0</td>\n",
       "      <td>112080.014102</td>\n",
       "      <td>приобретение автомобиля</td>\n",
       "    </tr>\n",
       "    <tr>\n",
       "      <th>2</th>\n",
       "      <td>0</td>\n",
       "      <td>-5623.422610</td>\n",
       "      <td>33</td>\n",
       "      <td>Среднее</td>\n",
       "      <td>1</td>\n",
       "      <td>женат / замужем</td>\n",
       "      <td>0</td>\n",
       "      <td>M</td>\n",
       "      <td>сотрудник</td>\n",
       "      <td>0</td>\n",
       "      <td>145885.952297</td>\n",
       "      <td>покупка жилья</td>\n",
       "    </tr>\n",
       "    <tr>\n",
       "      <th>3</th>\n",
       "      <td>3</td>\n",
       "      <td>-4124.747207</td>\n",
       "      <td>32</td>\n",
       "      <td>среднее</td>\n",
       "      <td>1</td>\n",
       "      <td>женат / замужем</td>\n",
       "      <td>0</td>\n",
       "      <td>M</td>\n",
       "      <td>сотрудник</td>\n",
       "      <td>0</td>\n",
       "      <td>267628.550329</td>\n",
       "      <td>дополнительное образование</td>\n",
       "    </tr>\n",
       "    <tr>\n",
       "      <th>4</th>\n",
       "      <td>0</td>\n",
       "      <td>340266.072047</td>\n",
       "      <td>53</td>\n",
       "      <td>среднее</td>\n",
       "      <td>1</td>\n",
       "      <td>гражданский брак</td>\n",
       "      <td>1</td>\n",
       "      <td>F</td>\n",
       "      <td>пенсионер</td>\n",
       "      <td>0</td>\n",
       "      <td>158616.077870</td>\n",
       "      <td>сыграть свадьбу</td>\n",
       "    </tr>\n",
       "    <tr>\n",
       "      <th>5</th>\n",
       "      <td>0</td>\n",
       "      <td>-926.185831</td>\n",
       "      <td>27</td>\n",
       "      <td>высшее</td>\n",
       "      <td>0</td>\n",
       "      <td>гражданский брак</td>\n",
       "      <td>1</td>\n",
       "      <td>M</td>\n",
       "      <td>компаньон</td>\n",
       "      <td>0</td>\n",
       "      <td>255763.565419</td>\n",
       "      <td>покупка жилья</td>\n",
       "    </tr>\n",
       "    <tr>\n",
       "      <th>6</th>\n",
       "      <td>0</td>\n",
       "      <td>-2879.202052</td>\n",
       "      <td>43</td>\n",
       "      <td>высшее</td>\n",
       "      <td>0</td>\n",
       "      <td>женат / замужем</td>\n",
       "      <td>0</td>\n",
       "      <td>F</td>\n",
       "      <td>компаньон</td>\n",
       "      <td>0</td>\n",
       "      <td>240525.971920</td>\n",
       "      <td>операции с жильем</td>\n",
       "    </tr>\n",
       "    <tr>\n",
       "      <th>7</th>\n",
       "      <td>0</td>\n",
       "      <td>-152.779569</td>\n",
       "      <td>50</td>\n",
       "      <td>СРЕДНЕЕ</td>\n",
       "      <td>1</td>\n",
       "      <td>женат / замужем</td>\n",
       "      <td>0</td>\n",
       "      <td>M</td>\n",
       "      <td>сотрудник</td>\n",
       "      <td>0</td>\n",
       "      <td>135823.934197</td>\n",
       "      <td>образование</td>\n",
       "    </tr>\n",
       "    <tr>\n",
       "      <th>8</th>\n",
       "      <td>2</td>\n",
       "      <td>-6929.865299</td>\n",
       "      <td>35</td>\n",
       "      <td>ВЫСШЕЕ</td>\n",
       "      <td>0</td>\n",
       "      <td>гражданский брак</td>\n",
       "      <td>1</td>\n",
       "      <td>F</td>\n",
       "      <td>сотрудник</td>\n",
       "      <td>0</td>\n",
       "      <td>95856.832424</td>\n",
       "      <td>на проведение свадьбы</td>\n",
       "    </tr>\n",
       "    <tr>\n",
       "      <th>9</th>\n",
       "      <td>0</td>\n",
       "      <td>-2188.756445</td>\n",
       "      <td>41</td>\n",
       "      <td>среднее</td>\n",
       "      <td>1</td>\n",
       "      <td>женат / замужем</td>\n",
       "      <td>0</td>\n",
       "      <td>M</td>\n",
       "      <td>сотрудник</td>\n",
       "      <td>0</td>\n",
       "      <td>144425.938277</td>\n",
       "      <td>покупка жилья для семьи</td>\n",
       "    </tr>\n",
       "    <tr>\n",
       "      <th>10</th>\n",
       "      <td>2</td>\n",
       "      <td>-4171.483647</td>\n",
       "      <td>36</td>\n",
       "      <td>высшее</td>\n",
       "      <td>0</td>\n",
       "      <td>женат / замужем</td>\n",
       "      <td>0</td>\n",
       "      <td>M</td>\n",
       "      <td>компаньон</td>\n",
       "      <td>0</td>\n",
       "      <td>113943.491460</td>\n",
       "      <td>покупка недвижимости</td>\n",
       "    </tr>\n",
       "    <tr>\n",
       "      <th>11</th>\n",
       "      <td>0</td>\n",
       "      <td>-792.701887</td>\n",
       "      <td>40</td>\n",
       "      <td>среднее</td>\n",
       "      <td>1</td>\n",
       "      <td>женат / замужем</td>\n",
       "      <td>0</td>\n",
       "      <td>F</td>\n",
       "      <td>сотрудник</td>\n",
       "      <td>0</td>\n",
       "      <td>77069.234271</td>\n",
       "      <td>покупка коммерческой недвижимости</td>\n",
       "    </tr>\n",
       "    <tr>\n",
       "      <th>12</th>\n",
       "      <td>0</td>\n",
       "      <td>NaN</td>\n",
       "      <td>65</td>\n",
       "      <td>среднее</td>\n",
       "      <td>1</td>\n",
       "      <td>гражданский брак</td>\n",
       "      <td>1</td>\n",
       "      <td>M</td>\n",
       "      <td>пенсионер</td>\n",
       "      <td>0</td>\n",
       "      <td>NaN</td>\n",
       "      <td>сыграть свадьбу</td>\n",
       "    </tr>\n",
       "    <tr>\n",
       "      <th>13</th>\n",
       "      <td>0</td>\n",
       "      <td>-1846.641941</td>\n",
       "      <td>54</td>\n",
       "      <td>неоконченное высшее</td>\n",
       "      <td>2</td>\n",
       "      <td>женат / замужем</td>\n",
       "      <td>0</td>\n",
       "      <td>F</td>\n",
       "      <td>сотрудник</td>\n",
       "      <td>0</td>\n",
       "      <td>130458.228857</td>\n",
       "      <td>приобретение автомобиля</td>\n",
       "    </tr>\n",
       "    <tr>\n",
       "      <th>14</th>\n",
       "      <td>0</td>\n",
       "      <td>-1844.956182</td>\n",
       "      <td>56</td>\n",
       "      <td>высшее</td>\n",
       "      <td>0</td>\n",
       "      <td>гражданский брак</td>\n",
       "      <td>1</td>\n",
       "      <td>F</td>\n",
       "      <td>компаньон</td>\n",
       "      <td>1</td>\n",
       "      <td>165127.911772</td>\n",
       "      <td>покупка жилой недвижимости</td>\n",
       "    </tr>\n",
       "    <tr>\n",
       "      <th>15</th>\n",
       "      <td>1</td>\n",
       "      <td>-972.364419</td>\n",
       "      <td>26</td>\n",
       "      <td>среднее</td>\n",
       "      <td>1</td>\n",
       "      <td>женат / замужем</td>\n",
       "      <td>0</td>\n",
       "      <td>F</td>\n",
       "      <td>сотрудник</td>\n",
       "      <td>0</td>\n",
       "      <td>116820.904450</td>\n",
       "      <td>строительство собственной недвижимости</td>\n",
       "    </tr>\n",
       "    <tr>\n",
       "      <th>16</th>\n",
       "      <td>0</td>\n",
       "      <td>-1719.934226</td>\n",
       "      <td>35</td>\n",
       "      <td>среднее</td>\n",
       "      <td>1</td>\n",
       "      <td>женат / замужем</td>\n",
       "      <td>0</td>\n",
       "      <td>F</td>\n",
       "      <td>сотрудник</td>\n",
       "      <td>0</td>\n",
       "      <td>289202.704229</td>\n",
       "      <td>недвижимость</td>\n",
       "    </tr>\n",
       "    <tr>\n",
       "      <th>17</th>\n",
       "      <td>0</td>\n",
       "      <td>-2369.999720</td>\n",
       "      <td>33</td>\n",
       "      <td>высшее</td>\n",
       "      <td>0</td>\n",
       "      <td>гражданский брак</td>\n",
       "      <td>1</td>\n",
       "      <td>M</td>\n",
       "      <td>сотрудник</td>\n",
       "      <td>0</td>\n",
       "      <td>90410.586745</td>\n",
       "      <td>строительство недвижимости</td>\n",
       "    </tr>\n",
       "    <tr>\n",
       "      <th>18</th>\n",
       "      <td>0</td>\n",
       "      <td>400281.136913</td>\n",
       "      <td>53</td>\n",
       "      <td>среднее</td>\n",
       "      <td>1</td>\n",
       "      <td>вдовец / вдова</td>\n",
       "      <td>2</td>\n",
       "      <td>F</td>\n",
       "      <td>пенсионер</td>\n",
       "      <td>0</td>\n",
       "      <td>56823.777243</td>\n",
       "      <td>на покупку подержанного автомобиля</td>\n",
       "    </tr>\n",
       "    <tr>\n",
       "      <th>19</th>\n",
       "      <td>0</td>\n",
       "      <td>-10038.818549</td>\n",
       "      <td>48</td>\n",
       "      <td>СРЕДНЕЕ</td>\n",
       "      <td>1</td>\n",
       "      <td>в разводе</td>\n",
       "      <td>3</td>\n",
       "      <td>F</td>\n",
       "      <td>сотрудник</td>\n",
       "      <td>0</td>\n",
       "      <td>242831.107982</td>\n",
       "      <td>на покупку своего автомобиля</td>\n",
       "    </tr>\n",
       "  </tbody>\n",
       "</table>\n",
       "</div>"
      ],
      "text/plain": [
       "    children  days_employed  dob_years            education  education_id  \\\n",
       "0          1   -8437.673028         42               высшее             0   \n",
       "1          1   -4024.803754         36              среднее             1   \n",
       "2          0   -5623.422610         33              Среднее             1   \n",
       "3          3   -4124.747207         32              среднее             1   \n",
       "4          0  340266.072047         53              среднее             1   \n",
       "5          0    -926.185831         27               высшее             0   \n",
       "6          0   -2879.202052         43               высшее             0   \n",
       "7          0    -152.779569         50              СРЕДНЕЕ             1   \n",
       "8          2   -6929.865299         35               ВЫСШЕЕ             0   \n",
       "9          0   -2188.756445         41              среднее             1   \n",
       "10         2   -4171.483647         36               высшее             0   \n",
       "11         0    -792.701887         40              среднее             1   \n",
       "12         0            NaN         65              среднее             1   \n",
       "13         0   -1846.641941         54  неоконченное высшее             2   \n",
       "14         0   -1844.956182         56               высшее             0   \n",
       "15         1    -972.364419         26              среднее             1   \n",
       "16         0   -1719.934226         35              среднее             1   \n",
       "17         0   -2369.999720         33               высшее             0   \n",
       "18         0  400281.136913         53              среднее             1   \n",
       "19         0  -10038.818549         48              СРЕДНЕЕ             1   \n",
       "\n",
       "       family_status  family_status_id gender income_type  debt  \\\n",
       "0    женат / замужем                 0      F   сотрудник     0   \n",
       "1    женат / замужем                 0      F   сотрудник     0   \n",
       "2    женат / замужем                 0      M   сотрудник     0   \n",
       "3    женат / замужем                 0      M   сотрудник     0   \n",
       "4   гражданский брак                 1      F   пенсионер     0   \n",
       "5   гражданский брак                 1      M   компаньон     0   \n",
       "6    женат / замужем                 0      F   компаньон     0   \n",
       "7    женат / замужем                 0      M   сотрудник     0   \n",
       "8   гражданский брак                 1      F   сотрудник     0   \n",
       "9    женат / замужем                 0      M   сотрудник     0   \n",
       "10   женат / замужем                 0      M   компаньон     0   \n",
       "11   женат / замужем                 0      F   сотрудник     0   \n",
       "12  гражданский брак                 1      M   пенсионер     0   \n",
       "13   женат / замужем                 0      F   сотрудник     0   \n",
       "14  гражданский брак                 1      F   компаньон     1   \n",
       "15   женат / замужем                 0      F   сотрудник     0   \n",
       "16   женат / замужем                 0      F   сотрудник     0   \n",
       "17  гражданский брак                 1      M   сотрудник     0   \n",
       "18    вдовец / вдова                 2      F   пенсионер     0   \n",
       "19         в разводе                 3      F   сотрудник     0   \n",
       "\n",
       "     total_income                                 purpose  \n",
       "0   253875.639453                           покупка жилья  \n",
       "1   112080.014102                 приобретение автомобиля  \n",
       "2   145885.952297                           покупка жилья  \n",
       "3   267628.550329              дополнительное образование  \n",
       "4   158616.077870                         сыграть свадьбу  \n",
       "5   255763.565419                           покупка жилья  \n",
       "6   240525.971920                       операции с жильем  \n",
       "7   135823.934197                             образование  \n",
       "8    95856.832424                   на проведение свадьбы  \n",
       "9   144425.938277                 покупка жилья для семьи  \n",
       "10  113943.491460                    покупка недвижимости  \n",
       "11   77069.234271       покупка коммерческой недвижимости  \n",
       "12            NaN                         сыграть свадьбу  \n",
       "13  130458.228857                 приобретение автомобиля  \n",
       "14  165127.911772              покупка жилой недвижимости  \n",
       "15  116820.904450  строительство собственной недвижимости  \n",
       "16  289202.704229                            недвижимость  \n",
       "17   90410.586745              строительство недвижимости  \n",
       "18   56823.777243      на покупку подержанного автомобиля  \n",
       "19  242831.107982            на покупку своего автомобиля  "
      ]
     },
     "execution_count": 2,
     "metadata": {},
     "output_type": "execute_result"
    }
   ],
   "source": [
    "data.head(20)"
   ]
  },
  {
   "cell_type": "markdown",
   "id": "8aa802b3",
   "metadata": {
    "deletable": false,
    "editable": false,
    "id": "1c12e233"
   },
   "source": [
    "**Задание 3. Выведите основную информацию о датафрейме с помощью метода `info()`.**"
   ]
  },
  {
   "cell_type": "code",
   "execution_count": 3,
   "id": "a39312d8",
   "metadata": {
    "deletable": false,
    "id": "2b757bca",
    "outputId": "15376089-8dad-46c9-b520-c05248d43158"
   },
   "outputs": [
    {
     "name": "stdout",
     "output_type": "stream",
     "text": [
      "<class 'pandas.core.frame.DataFrame'>\n",
      "RangeIndex: 21525 entries, 0 to 21524\n",
      "Data columns (total 12 columns):\n",
      " #   Column            Non-Null Count  Dtype  \n",
      "---  ------            --------------  -----  \n",
      " 0   children          21525 non-null  int64  \n",
      " 1   days_employed     19351 non-null  float64\n",
      " 2   dob_years         21525 non-null  int64  \n",
      " 3   education         21525 non-null  object \n",
      " 4   education_id      21525 non-null  int64  \n",
      " 5   family_status     21525 non-null  object \n",
      " 6   family_status_id  21525 non-null  int64  \n",
      " 7   gender            21525 non-null  object \n",
      " 8   income_type       21525 non-null  object \n",
      " 9   debt              21525 non-null  int64  \n",
      " 10  total_income      19351 non-null  float64\n",
      " 11  purpose           21525 non-null  object \n",
      "dtypes: float64(2), int64(5), object(5)\n",
      "memory usage: 2.0+ MB\n"
     ]
    }
   ],
   "source": [
    "data.info()"
   ]
  },
  {
   "cell_type": "markdown",
   "id": "75a1ab8d",
   "metadata": {
    "deletable": false,
    "editable": false,
    "id": "333ec665"
   },
   "source": [
    "## Предобработка данных"
   ]
  },
  {
   "cell_type": "markdown",
   "id": "1fa8e00e",
   "metadata": {
    "deletable": false,
    "editable": false,
    "id": "02d92d53"
   },
   "source": [
    "### Удаление пропусков"
   ]
  },
  {
   "cell_type": "markdown",
   "id": "de46c597",
   "metadata": {
    "deletable": false,
    "editable": false,
    "id": "cd84967c"
   },
   "source": [
    "**Задание 4. Выведите количество пропущенных значений для каждого столбца. Используйте комбинацию двух методов.**"
   ]
  },
  {
   "cell_type": "code",
   "execution_count": 4,
   "id": "a6e0b68d",
   "metadata": {
    "deletable": false,
    "id": "7f9b2309",
    "outputId": "81f4d817-781c-465c-ed15-91ce4446810d"
   },
   "outputs": [
    {
     "data": {
      "text/plain": [
       "children               0\n",
       "days_employed       2174\n",
       "dob_years              0\n",
       "education              0\n",
       "education_id           0\n",
       "family_status          0\n",
       "family_status_id       0\n",
       "gender                 0\n",
       "income_type            0\n",
       "debt                   0\n",
       "total_income        2174\n",
       "purpose                0\n",
       "dtype: int64"
      ]
     },
     "execution_count": 4,
     "metadata": {},
     "output_type": "execute_result"
    }
   ],
   "source": [
    "data.isna().sum()"
   ]
  },
  {
   "cell_type": "markdown",
   "id": "6a5b598f",
   "metadata": {
    "deletable": false,
    "editable": false,
    "id": "db86e27b"
   },
   "source": [
    "**Задание 5. В двух столбцах есть пропущенные значения. Один из них — `days_employed`. Пропуски в этом столбце вы обработаете на следующем этапе. Другой столбец с пропущенными значениями — `total_income` — хранит данные о доходах. На сумму дохода сильнее всего влияет тип занятости, поэтому заполнить пропуски в этом столбце нужно медианным значением по каждому типу из столбца `income_type`. Например, у человека с типом занятости `сотрудник` пропуск в столбце `total_income` должен быть заполнен медианным доходом среди всех записей с тем же типом.**"
   ]
  },
  {
   "cell_type": "code",
   "execution_count": 5,
   "id": "df736dfd",
   "metadata": {
    "deletable": false,
    "id": "42006a93"
   },
   "outputs": [],
   "source": [
    "for t in data['income_type'].unique():\n",
    "    data.loc[(data['income_type'] == t) & (data['total_income'].isna()), 'total_income'] = \\\n",
    "    data.loc[(data['income_type'] == t), 'total_income'].median()"
   ]
  },
  {
   "cell_type": "markdown",
   "id": "e4be9e34",
   "metadata": {
    "deletable": false,
    "editable": false,
    "id": "89da5ece"
   },
   "source": [
    "### Обработка аномальных значений"
   ]
  },
  {
   "cell_type": "markdown",
   "id": "07926fe9",
   "metadata": {
    "deletable": false,
    "editable": false,
    "id": "57964554"
   },
   "source": [
    "**Задание 6. В данных могут встречаться артефакты (аномалии) — значения, которые не отражают действительность и появились по какой-то ошибке. таким артефактом будет отрицательное количество дней трудового стажа в столбце `days_employed`. Для реальных данных это нормально. Обработайте значения в этом столбце: замените все отрицательные значения положительными с помощью метода `abs()`.**"
   ]
  },
  {
   "cell_type": "code",
   "execution_count": 6,
   "id": "e446c044",
   "metadata": {
    "deletable": false,
    "id": "f6f055bf"
   },
   "outputs": [],
   "source": [
    "data['days_employed'] = data['days_employed'].abs()"
   ]
  },
  {
   "cell_type": "markdown",
   "id": "6bc2e0ac",
   "metadata": {
    "deletable": false,
    "editable": false,
    "id": "6107dd2f"
   },
   "source": [
    "**Задание 7. Для каждого типа занятости выведите медианное значение трудового стажа `days_employed` в днях.**"
   ]
  },
  {
   "cell_type": "code",
   "execution_count": 7,
   "id": "78a803ac",
   "metadata": {
    "deletable": false,
    "id": "85a5faf6",
    "outputId": "801ef80e-522b-4668-f34e-565af7432bcf"
   },
   "outputs": [
    {
     "data": {
      "text/plain": [
       "income_type\n",
       "безработный        366413.652744\n",
       "в декрете            3296.759962\n",
       "госслужащий          2689.368353\n",
       "компаньон            1547.382223\n",
       "пенсионер          365213.306266\n",
       "предприниматель       520.848083\n",
       "сотрудник            1574.202821\n",
       "студент               578.751554\n",
       "Name: days_employed, dtype: float64"
      ]
     },
     "execution_count": 7,
     "metadata": {},
     "output_type": "execute_result"
    }
   ],
   "source": [
    "data.groupby('income_type')['days_employed'].agg('median')"
   ]
  },
  {
   "cell_type": "markdown",
   "id": "7f0b1de4",
   "metadata": {
    "deletable": false,
    "editable": false,
    "id": "38d1a030"
   },
   "source": [
    "У двух типов (безработные и пенсионеры) получатся аномально большие значения. Исправить такие значения сложно, поэтому оставьте их как есть. Тем более этот столбец не понадобится вам для исследования."
   ]
  },
  {
   "cell_type": "markdown",
   "id": "1d29f272",
   "metadata": {
    "deletable": false,
    "editable": false,
    "id": "d8a9f147"
   },
   "source": [
    "**Задание 8. Выведите перечень уникальных значений столбца `children`.**"
   ]
  },
  {
   "cell_type": "code",
   "execution_count": 8,
   "id": "78890479",
   "metadata": {
    "deletable": false,
    "id": "ef5056eb",
    "outputId": "6975b15c-7f95-4697-d16d-a0c79b657b03"
   },
   "outputs": [
    {
     "data": {
      "text/plain": [
       "array([ 1,  0,  3,  2, -1,  4, 20,  5])"
      ]
     },
     "execution_count": 8,
     "metadata": {},
     "output_type": "execute_result"
    }
   ],
   "source": [
    "data['children'].unique()"
   ]
  },
  {
   "cell_type": "markdown",
   "id": "55cebc60",
   "metadata": {
    "deletable": false,
    "editable": false,
    "id": "40b9ebf2"
   },
   "source": [
    "**Задание 9. В столбце `children` есть два аномальных значения. Удалите строки, в которых встречаются такие аномальные значения из датафрейма `data`.**"
   ]
  },
  {
   "cell_type": "code",
   "execution_count": 9,
   "id": "740c6b60",
   "metadata": {
    "deletable": false,
    "id": "3ff9801d"
   },
   "outputs": [],
   "source": [
    "data = data[(data['children'] != -1) & (data['children'] != 20)]"
   ]
  },
  {
   "cell_type": "markdown",
   "id": "bb019a2b",
   "metadata": {
    "deletable": false,
    "editable": false,
    "id": "bbc4d0ce"
   },
   "source": [
    "**Задание 10. Ещё раз выведите перечень уникальных значений столбца `children`, чтобы убедиться, что артефакты удалены.**"
   ]
  },
  {
   "cell_type": "code",
   "execution_count": 10,
   "id": "b13e34fd",
   "metadata": {
    "deletable": false,
    "id": "ad4fa8b7",
    "outputId": "b2097101-d49d-44d9-901b-32a65c9463d1"
   },
   "outputs": [
    {
     "data": {
      "text/plain": [
       "array([1, 0, 3, 2, 4, 5])"
      ]
     },
     "execution_count": 10,
     "metadata": {},
     "output_type": "execute_result"
    }
   ],
   "source": [
    "data['children'].unique()"
   ]
  },
  {
   "cell_type": "markdown",
   "id": "dc63a39a",
   "metadata": {
    "deletable": false,
    "editable": false,
    "id": "75440b63"
   },
   "source": [
    "### Удаление пропусков (продолжение)"
   ]
  },
  {
   "cell_type": "markdown",
   "id": "08891e0c",
   "metadata": {
    "deletable": false,
    "editable": false,
    "id": "f4ea573f"
   },
   "source": [
    "**Задание 11. Заполните пропуски в столбце `days_employed` медианными значениями по каждого типа занятости `income_type`.**"
   ]
  },
  {
   "cell_type": "code",
   "execution_count": 11,
   "id": "0a8b9de7",
   "metadata": {
    "deletable": false,
    "id": "af6b1a7e"
   },
   "outputs": [],
   "source": [
    "for t in data['income_type'].unique():\n",
    "    data.loc[(data['income_type'] == t) & (data['days_employed'].isna()), 'days_employed'] = \\\n",
    "    data.loc[(data['income_type'] == t), 'days_employed'].median()"
   ]
  },
  {
   "cell_type": "markdown",
   "id": "d3a21e4b",
   "metadata": {
    "deletable": false,
    "editable": false,
    "id": "2753f40d"
   },
   "source": [
    "**Задание 12. Убедитесь, что все пропуски заполнены. Проверьте себя и ещё раз выведите количество пропущенных значений для каждого столбца с помощью двух методов.**"
   ]
  },
  {
   "cell_type": "code",
   "execution_count": 12,
   "id": "6990b92f",
   "metadata": {
    "deletable": false,
    "id": "55f78bc2",
    "outputId": "8da1e4e1-358e-4e87-98c9-f261bce0a7b2"
   },
   "outputs": [
    {
     "data": {
      "text/plain": [
       "children            0\n",
       "days_employed       0\n",
       "dob_years           0\n",
       "education           0\n",
       "education_id        0\n",
       "family_status       0\n",
       "family_status_id    0\n",
       "gender              0\n",
       "income_type         0\n",
       "debt                0\n",
       "total_income        0\n",
       "purpose             0\n",
       "dtype: int64"
      ]
     },
     "execution_count": 12,
     "metadata": {},
     "output_type": "execute_result"
    }
   ],
   "source": [
    "data.isna().sum()"
   ]
  },
  {
   "cell_type": "markdown",
   "id": "597dcc6b",
   "metadata": {
    "deletable": false,
    "editable": false,
    "id": "ddc81e43"
   },
   "source": [
    "### Изменение типов данных"
   ]
  },
  {
   "cell_type": "markdown",
   "id": "698b58d7",
   "metadata": {
    "deletable": false,
    "editable": false,
    "id": "42d19d24"
   },
   "source": [
    "**Задание 13. Замените вещественный тип данных в столбце `total_income` на целочисленный с помощью метода `astype()`.**"
   ]
  },
  {
   "cell_type": "code",
   "execution_count": 13,
   "id": "a42c023c",
   "metadata": {
    "deletable": false,
    "id": "920b65ad"
   },
   "outputs": [],
   "source": [
    "data['total_income'] = data['total_income'].astype(int)"
   ]
  },
  {
   "cell_type": "markdown",
   "id": "4d223a78",
   "metadata": {
    "deletable": false,
    "editable": false,
    "id": "80c420ba"
   },
   "source": [
    "### Обработка дубликатов"
   ]
  },
  {
   "cell_type": "markdown",
   "id": "208bb466",
   "metadata": {
    "deletable": false,
    "editable": false
   },
   "source": [
    "**Задание 14. Обработайте неявные дубликаты в столбце `education`. В этом столбце есть одни и те же значения, но записанные по-разному: с использованием заглавных и строчных букв. Приведите их к нижнему регистру. Проверьте остальные столбцы.**"
   ]
  },
  {
   "cell_type": "code",
   "execution_count": 14,
   "id": "54d463cb",
   "metadata": {
    "deletable": false
   },
   "outputs": [],
   "source": [
    "data['education'] = data['education'].str.lower()"
   ]
  },
  {
   "cell_type": "markdown",
   "id": "2b3da3c4",
   "metadata": {
    "deletable": false,
    "editable": false,
    "id": "dc587695"
   },
   "source": [
    "**Задание 15. Выведите на экран количество строк-дубликатов в данных. Если такие строки присутствуют, удалите их.**"
   ]
  },
  {
   "cell_type": "code",
   "execution_count": 15,
   "id": "a9fc1a51",
   "metadata": {
    "deletable": false,
    "id": "3ee445e4",
    "outputId": "9684deba-1934-42d1-99e1-cda61740f822"
   },
   "outputs": [
    {
     "data": {
      "text/plain": [
       "71"
      ]
     },
     "execution_count": 15,
     "metadata": {},
     "output_type": "execute_result"
    }
   ],
   "source": [
    "data.duplicated().sum()"
   ]
  },
  {
   "cell_type": "code",
   "execution_count": 16,
   "id": "21264af3",
   "metadata": {
    "deletable": false,
    "id": "8575fe05"
   },
   "outputs": [],
   "source": [
    "data = data.drop_duplicates()"
   ]
  },
  {
   "cell_type": "markdown",
   "id": "bc446510",
   "metadata": {
    "deletable": false,
    "editable": false,
    "id": "9904cf55"
   },
   "source": [
    "### Категоризация данных"
   ]
  },
  {
   "cell_type": "markdown",
   "id": "83690376",
   "metadata": {
    "deletable": false,
    "editable": false,
    "id": "72fcc8a2"
   },
   "source": [
    "**Задание 16. На основании диапазонов, указанных ниже, создайте в датафрейме `data` столбец `total_income_category` с категориями:**\n",
    "\n",
    "- 0–30000 — `'E'`;\n",
    "- 30001–50000 — `'D'`;\n",
    "- 50001–200000 — `'C'`;\n",
    "- 200001–1000000 — `'B'`;\n",
    "- 1000001 и выше — `'A'`.\n",
    "\n",
    "\n",
    "**Например, кредитополучателю с доходом 25000 нужно назначить категорию `'E'`, а клиенту, получающему 235000, — `'B'`. Используйте собственную функцию с именем `categorize_income()` и метод `apply()`.**"
   ]
  },
  {
   "cell_type": "code",
   "execution_count": 17,
   "id": "c11990ac",
   "metadata": {
    "deletable": false,
    "id": "e1771346"
   },
   "outputs": [],
   "source": [
    "def categorize_income(income):\n",
    "    try:\n",
    "        if 0 <= income <= 30000:\n",
    "            return 'E'\n",
    "        elif 30001 <= income <= 50000:\n",
    "            return 'D'\n",
    "        elif 50001 <= income <= 200000:\n",
    "            return 'C'\n",
    "        elif 200001 <= income <= 1000000:\n",
    "            return 'B'\n",
    "        elif income >= 1000001:\n",
    "            return 'A'\n",
    "    except:\n",
    "        pass"
   ]
  },
  {
   "cell_type": "code",
   "execution_count": 18,
   "id": "5f7132da",
   "metadata": {
    "deletable": false,
    "id": "d5f3586d"
   },
   "outputs": [],
   "source": [
    "data['total_income_category'] = data['total_income'].apply(categorize_income)"
   ]
  },
  {
   "cell_type": "markdown",
   "id": "ffbf20df",
   "metadata": {
    "deletable": false,
    "editable": false,
    "id": "dde49b5c"
   },
   "source": [
    "**Задание 17. Выведите на экран перечень уникальных целей взятия кредита из столбца `purpose`.**"
   ]
  },
  {
   "cell_type": "code",
   "execution_count": 19,
   "id": "a8ca2d67",
   "metadata": {
    "deletable": false,
    "id": "f67ce9b3",
    "outputId": "673c12d9-7d7e-4ae0-9812-c622c89dd244"
   },
   "outputs": [
    {
     "data": {
      "text/plain": [
       "array(['покупка жилья', 'приобретение автомобиля',\n",
       "       'дополнительное образование', 'сыграть свадьбу',\n",
       "       'операции с жильем', 'образование', 'на проведение свадьбы',\n",
       "       'покупка жилья для семьи', 'покупка недвижимости',\n",
       "       'покупка коммерческой недвижимости', 'покупка жилой недвижимости',\n",
       "       'строительство собственной недвижимости', 'недвижимость',\n",
       "       'строительство недвижимости', 'на покупку подержанного автомобиля',\n",
       "       'на покупку своего автомобиля',\n",
       "       'операции с коммерческой недвижимостью',\n",
       "       'строительство жилой недвижимости', 'жилье',\n",
       "       'операции со своей недвижимостью', 'автомобили',\n",
       "       'заняться образованием', 'сделка с подержанным автомобилем',\n",
       "       'получение образования', 'автомобиль', 'свадьба',\n",
       "       'получение дополнительного образования', 'покупка своего жилья',\n",
       "       'операции с недвижимостью', 'получение высшего образования',\n",
       "       'свой автомобиль', 'сделка с автомобилем',\n",
       "       'профильное образование', 'высшее образование',\n",
       "       'покупка жилья для сдачи', 'на покупку автомобиля', 'ремонт жилью',\n",
       "       'заняться высшим образованием'], dtype=object)"
      ]
     },
     "execution_count": 19,
     "metadata": {},
     "output_type": "execute_result"
    }
   ],
   "source": [
    "data['purpose'].unique()"
   ]
  },
  {
   "cell_type": "markdown",
   "id": "96a2328c",
   "metadata": {
    "deletable": false,
    "editable": false,
    "id": "85d0aef0"
   },
   "source": [
    "**Задание 18. Создайте функцию, которая на основании данных из столбца `purpose` сформирует новый столбец `purpose_category`, в который войдут следующие категории:**\n",
    "\n",
    "- `'операции с автомобилем'`,\n",
    "- `'операции с недвижимостью'`,\n",
    "- `'проведение свадьбы'`,\n",
    "- `'получение образования'`.\n",
    "\n",
    "**Например, если в столбце `purpose` находится подстрока `'на покупку автомобиля'`, то в столбце `purpose_category` должна появиться строка `'операции с автомобилем'`.**\n",
    "\n",
    "**Используйте собственную функцию с именем `categorize_purpose()` и метод `apply()`. Изучите данные в столбце `purpose` и определите, какие подстроки помогут вам правильно определить категорию.**"
   ]
  },
  {
   "cell_type": "code",
   "execution_count": 20,
   "id": "e81ccb8f",
   "metadata": {
    "deletable": false,
    "id": "e149fab4"
   },
   "outputs": [],
   "source": [
    "def categorize_purpose(row):\n",
    "    try:\n",
    "        if 'автом' in row:\n",
    "            return 'операции с автомобилем'\n",
    "        elif 'жил' in row or 'недвиж' in row:\n",
    "            return 'операции с недвижимостью'\n",
    "        elif 'свад' in row:\n",
    "            return 'проведение свадьбы'\n",
    "        elif 'образов' in row:\n",
    "            return 'получение образования'\n",
    "    except:\n",
    "        return 'нет категории'"
   ]
  },
  {
   "cell_type": "code",
   "execution_count": 21,
   "id": "da6fa939",
   "metadata": {
    "deletable": false,
    "id": "bf36e69b"
   },
   "outputs": [],
   "source": [
    "data['purpose_category'] = data['purpose'].apply(categorize_purpose)"
   ]
  },
  {
   "cell_type": "markdown",
   "id": "37cda21e",
   "metadata": {
    "deletable": false,
    "editable": false,
    "id": "09b242bf"
   },
   "source": [
    "### Шаг 3. Исследуйте данные и ответьте на вопросы"
   ]
  },
  {
   "cell_type": "markdown",
   "id": "29ad5589",
   "metadata": {
    "deletable": false,
    "editable": false,
    "id": "c5d66278"
   },
   "source": [
    "#### 3.1 Есть ли зависимость между количеством детей и возвратом кредита в срок?"
   ]
  },
  {
   "cell_type": "code",
   "execution_count": 22,
   "id": "2e32d77b",
   "metadata": {
    "deletable": false,
    "id": "2cacfc4a"
   },
   "outputs": [
    {
     "data": {
      "text/html": [
       "<div>\n",
       "<style scoped>\n",
       "    .dataframe tbody tr th:only-of-type {\n",
       "        vertical-align: middle;\n",
       "    }\n",
       "\n",
       "    .dataframe tbody tr th {\n",
       "        vertical-align: top;\n",
       "    }\n",
       "\n",
       "    .dataframe thead th {\n",
       "        text-align: right;\n",
       "    }\n",
       "</style>\n",
       "<table border=\"1\" class=\"dataframe\">\n",
       "  <thead>\n",
       "    <tr style=\"text-align: right;\">\n",
       "      <th></th>\n",
       "      <th>debt</th>\n",
       "      <th>total</th>\n",
       "      <th>ratio</th>\n",
       "    </tr>\n",
       "    <tr>\n",
       "      <th>children</th>\n",
       "      <th></th>\n",
       "      <th></th>\n",
       "      <th></th>\n",
       "    </tr>\n",
       "  </thead>\n",
       "  <tbody>\n",
       "    <tr>\n",
       "      <th>0</th>\n",
       "      <td>1063</td>\n",
       "      <td>14091</td>\n",
       "      <td>0.075438</td>\n",
       "    </tr>\n",
       "    <tr>\n",
       "      <th>1</th>\n",
       "      <td>444</td>\n",
       "      <td>4808</td>\n",
       "      <td>0.092346</td>\n",
       "    </tr>\n",
       "    <tr>\n",
       "      <th>2</th>\n",
       "      <td>194</td>\n",
       "      <td>2052</td>\n",
       "      <td>0.094542</td>\n",
       "    </tr>\n",
       "    <tr>\n",
       "      <th>3</th>\n",
       "      <td>27</td>\n",
       "      <td>330</td>\n",
       "      <td>0.081818</td>\n",
       "    </tr>\n",
       "    <tr>\n",
       "      <th>4</th>\n",
       "      <td>4</td>\n",
       "      <td>41</td>\n",
       "      <td>0.097561</td>\n",
       "    </tr>\n",
       "    <tr>\n",
       "      <th>5</th>\n",
       "      <td>0</td>\n",
       "      <td>9</td>\n",
       "      <td>0.000000</td>\n",
       "    </tr>\n",
       "  </tbody>\n",
       "</table>\n",
       "</div>"
      ],
      "text/plain": [
       "          debt  total     ratio\n",
       "children                       \n",
       "0         1063  14091  0.075438\n",
       "1          444   4808  0.092346\n",
       "2          194   2052  0.094542\n",
       "3           27    330  0.081818\n",
       "4            4     41  0.097561\n",
       "5            0      9  0.000000"
      ]
     },
     "metadata": {},
     "output_type": "display_data"
    }
   ],
   "source": [
    "# Ваш код будет здесь. Вы можете создавать новые ячейки.\n",
    "\n",
    "# Создадим сводную таблицу по всем невозвратам для каждой группы детей.\n",
    "data_pivot_children = data.pivot_table(index=['children'], values='debt', aggfunc='sum') \n",
    "\n",
    "# Сгруппируем данные, чтобы получить общее количество кредитов выданное заемщикам по группам с соотвествующим количеством детей.\n",
    "data_pivot_children['total'] = data.groupby('children')['children'].count()\n",
    "\n",
    "# Посчиатем отношение количества невозвратов кредитов в срок к выданным кредитам по каждой группе.\n",
    "data_pivot_children['ratio'] = data_pivot_children['debt'] / data.groupby('children')['children'].count()\n",
    "\n",
    "display(data_pivot_children)"
   ]
  },
  {
   "cell_type": "markdown",
   "id": "fc5f8cab",
   "metadata": {},
   "source": [
    "Из таблицы видно, что данных по кредитам при количестве детей 3 и более мало. Объеденим данные для 3-5 детей в одну группу."
   ]
  },
  {
   "cell_type": "code",
   "execution_count": 23,
   "id": "85d77fd2",
   "metadata": {},
   "outputs": [],
   "source": [
    "#создадим функцию для создании укрупненной групировки по детям\n",
    "def categorize_children(children):\n",
    "    try:\n",
    "        if children >= 3:\n",
    "            return '>3'\n",
    "        else:\n",
    "            return children\n",
    "    except:\n",
    "        pass"
   ]
  },
  {
   "cell_type": "code",
   "execution_count": 24,
   "id": "c8327b40",
   "metadata": {},
   "outputs": [],
   "source": [
    "# применим функцию и создаим новый столбец\n",
    "data['categorize_children'] = data['children'].apply(categorize_children)"
   ]
  },
  {
   "cell_type": "code",
   "execution_count": 25,
   "id": "9339f431",
   "metadata": {},
   "outputs": [
    {
     "data": {
      "text/html": [
       "<div>\n",
       "<style scoped>\n",
       "    .dataframe tbody tr th:only-of-type {\n",
       "        vertical-align: middle;\n",
       "    }\n",
       "\n",
       "    .dataframe tbody tr th {\n",
       "        vertical-align: top;\n",
       "    }\n",
       "\n",
       "    .dataframe thead th {\n",
       "        text-align: right;\n",
       "    }\n",
       "</style>\n",
       "<table border=\"1\" class=\"dataframe\">\n",
       "  <thead>\n",
       "    <tr style=\"text-align: right;\">\n",
       "      <th></th>\n",
       "      <th>debt</th>\n",
       "      <th>total</th>\n",
       "      <th>ratio</th>\n",
       "    </tr>\n",
       "    <tr>\n",
       "      <th>categorize_children</th>\n",
       "      <th></th>\n",
       "      <th></th>\n",
       "      <th></th>\n",
       "    </tr>\n",
       "  </thead>\n",
       "  <tbody>\n",
       "    <tr>\n",
       "      <th>0</th>\n",
       "      <td>1063</td>\n",
       "      <td>14091</td>\n",
       "      <td>0.075438</td>\n",
       "    </tr>\n",
       "    <tr>\n",
       "      <th>1</th>\n",
       "      <td>444</td>\n",
       "      <td>4808</td>\n",
       "      <td>0.092346</td>\n",
       "    </tr>\n",
       "    <tr>\n",
       "      <th>2</th>\n",
       "      <td>194</td>\n",
       "      <td>2052</td>\n",
       "      <td>0.094542</td>\n",
       "    </tr>\n",
       "    <tr>\n",
       "      <th>&gt;3</th>\n",
       "      <td>31</td>\n",
       "      <td>380</td>\n",
       "      <td>0.081579</td>\n",
       "    </tr>\n",
       "  </tbody>\n",
       "</table>\n",
       "</div>"
      ],
      "text/plain": [
       "                     debt  total     ratio\n",
       "categorize_children                       \n",
       "0                    1063  14091  0.075438\n",
       "1                     444   4808  0.092346\n",
       "2                     194   2052  0.094542\n",
       ">3                     31    380  0.081579"
      ]
     },
     "metadata": {},
     "output_type": "display_data"
    }
   ],
   "source": [
    "# Создадим сводную таблицу по всем невозвратам для каждой категории детей.\n",
    "data_pivot_categorize_children = data.pivot_table(index=['categorize_children'], values='debt', aggfunc='sum') \n",
    "\n",
    "\n",
    "# Сгруппируем данные, чтобы получить общее количество кредитов выданное заемщикам с соотвествующим количеством детей.\n",
    "data_pivot_categorize_children['total'] = data.groupby('categorize_children')['categorize_children'].count()\n",
    "\n",
    "# Посчиатем отношение количества невозвратов кредитов в срок к выданным кредитам по каждой группе.\n",
    "data_pivot_categorize_children['ratio'] = data_pivot_categorize_children['debt'] / \\\n",
    "data_pivot_categorize_children['total']\n",
    "\n",
    "# Выведем таблицу на экран\n",
    "display(data_pivot_categorize_children)"
   ]
  },
  {
   "cell_type": "markdown",
   "id": "38009889",
   "metadata": {
    "deletable": false,
    "id": "3a6b99ec"
   },
   "source": [
    "**Вывод:**  \n",
    "- Заемщики без детей возвращают куредиты в срок лучше, чем заемщики с детьми.\n",
    "- У заемщиков с 1 или 2 детьми показатель невозврата кредита в срок самый высокий. "
   ]
  },
  {
   "cell_type": "markdown",
   "id": "72b442b0",
   "metadata": {
    "deletable": false,
    "editable": false,
    "id": "97be82ca"
   },
   "source": [
    "#### 3.2 Есть ли зависимость между семейным положением и возвратом кредита в срок?"
   ]
  },
  {
   "cell_type": "code",
   "execution_count": 26,
   "id": "d0452d89",
   "metadata": {
    "deletable": false,
    "id": "dc3f7ee8"
   },
   "outputs": [
    {
     "data": {
      "text/html": [
       "<div>\n",
       "<style scoped>\n",
       "    .dataframe tbody tr th:only-of-type {\n",
       "        vertical-align: middle;\n",
       "    }\n",
       "\n",
       "    .dataframe tbody tr th {\n",
       "        vertical-align: top;\n",
       "    }\n",
       "\n",
       "    .dataframe thead th {\n",
       "        text-align: right;\n",
       "    }\n",
       "</style>\n",
       "<table border=\"1\" class=\"dataframe\">\n",
       "  <thead>\n",
       "    <tr style=\"text-align: right;\">\n",
       "      <th></th>\n",
       "      <th>debt</th>\n",
       "      <th>total</th>\n",
       "      <th>ratio</th>\n",
       "    </tr>\n",
       "    <tr>\n",
       "      <th>family_status</th>\n",
       "      <th></th>\n",
       "      <th></th>\n",
       "      <th></th>\n",
       "    </tr>\n",
       "  </thead>\n",
       "  <tbody>\n",
       "    <tr>\n",
       "      <th>женат / замужем</th>\n",
       "      <td>927</td>\n",
       "      <td>12261</td>\n",
       "      <td>0.075606</td>\n",
       "    </tr>\n",
       "    <tr>\n",
       "      <th>гражданский брак</th>\n",
       "      <td>385</td>\n",
       "      <td>4134</td>\n",
       "      <td>0.093130</td>\n",
       "    </tr>\n",
       "    <tr>\n",
       "      <th>Не женат / не замужем</th>\n",
       "      <td>273</td>\n",
       "      <td>2796</td>\n",
       "      <td>0.097639</td>\n",
       "    </tr>\n",
       "    <tr>\n",
       "      <th>в разводе</th>\n",
       "      <td>84</td>\n",
       "      <td>1189</td>\n",
       "      <td>0.070648</td>\n",
       "    </tr>\n",
       "    <tr>\n",
       "      <th>вдовец / вдова</th>\n",
       "      <td>63</td>\n",
       "      <td>951</td>\n",
       "      <td>0.066246</td>\n",
       "    </tr>\n",
       "  </tbody>\n",
       "</table>\n",
       "</div>"
      ],
      "text/plain": [
       "                       debt  total     ratio\n",
       "family_status                               \n",
       "женат / замужем         927  12261  0.075606\n",
       "гражданский брак        385   4134  0.093130\n",
       "Не женат / не замужем   273   2796  0.097639\n",
       "в разводе                84   1189  0.070648\n",
       "вдовец / вдова           63    951  0.066246"
      ]
     },
     "metadata": {},
     "output_type": "display_data"
    }
   ],
   "source": [
    "# Ваш код будет здесь. Вы можете создавать новые ячейки.\n",
    "\n",
    "# Создадим сводную таблицу по всем невозвратам для каждой категории детей.\n",
    "data_pivot_family_status = data.pivot_table(index=['family_status'], values='debt', aggfunc='sum')\n",
    "\n",
    "# Сгруппируем данные, чтобы получить общее количество кредитов выданное заемщикам с соотвествующим семейным положением. \n",
    "data_pivot_family_status['total'] = data.groupby('family_status')['family_status'].count()\n",
    "\n",
    "# Посчиатем отношение количества невозвратов кредитов в срок к выданным кредитам по каждой группе.\n",
    "data_pivot_family_status['ratio'] = data_pivot_family_status['debt'] / data_pivot_family_status['total']\n",
    "\n",
    "# Выведем на экран полученную сводную таблицу\n",
    "display(data_pivot_family_status.sort_values(by='debt', ascending=False))"
   ]
  },
  {
   "cell_type": "markdown",
   "id": "550aba53",
   "metadata": {
    "deletable": false,
    "id": "1cef7837"
   },
   "source": [
    "**Вывод:**\n",
    "Есть определенная зависимость между семейным положенеим и возвратом кредита: \n",
    "- У людей не состоящих в официальных зарегестированных отнощениях 'Не женат / не замужем' и 'гражданский брак' показатель невозврата кредита в срок  выше по отнощению к людям, которые состоят в браке 'женат / замужем' или же когда-то в нем состояли 'в разводе';\n",
    "- Лучше всех возвращают кредит в скрок категория заемщиков 'вдовец / вдова'. \n"
   ]
  },
  {
   "cell_type": "markdown",
   "id": "b2825817",
   "metadata": {
    "deletable": false,
    "editable": false,
    "id": "1e8b2fca"
   },
   "source": [
    "#### 3.3 Есть ли зависимость между уровнем дохода и возвратом кредита в срок?"
   ]
  },
  {
   "cell_type": "code",
   "execution_count": 27,
   "id": "e1a870a0",
   "metadata": {
    "deletable": false,
    "id": "cd7e3720"
   },
   "outputs": [
    {
     "data": {
      "text/html": [
       "<div>\n",
       "<style scoped>\n",
       "    .dataframe tbody tr th:only-of-type {\n",
       "        vertical-align: middle;\n",
       "    }\n",
       "\n",
       "    .dataframe tbody tr th {\n",
       "        vertical-align: top;\n",
       "    }\n",
       "\n",
       "    .dataframe thead th {\n",
       "        text-align: right;\n",
       "    }\n",
       "</style>\n",
       "<table border=\"1\" class=\"dataframe\">\n",
       "  <thead>\n",
       "    <tr style=\"text-align: right;\">\n",
       "      <th></th>\n",
       "      <th>debt</th>\n",
       "      <th>total</th>\n",
       "      <th>ratio</th>\n",
       "    </tr>\n",
       "    <tr>\n",
       "      <th>total_income_category</th>\n",
       "      <th></th>\n",
       "      <th></th>\n",
       "      <th></th>\n",
       "    </tr>\n",
       "  </thead>\n",
       "  <tbody>\n",
       "    <tr>\n",
       "      <th>A</th>\n",
       "      <td>2</td>\n",
       "      <td>25</td>\n",
       "      <td>0.080000</td>\n",
       "    </tr>\n",
       "    <tr>\n",
       "      <th>B</th>\n",
       "      <td>354</td>\n",
       "      <td>5014</td>\n",
       "      <td>0.070602</td>\n",
       "    </tr>\n",
       "    <tr>\n",
       "      <th>C</th>\n",
       "      <td>1353</td>\n",
       "      <td>15921</td>\n",
       "      <td>0.084982</td>\n",
       "    </tr>\n",
       "    <tr>\n",
       "      <th>D</th>\n",
       "      <td>21</td>\n",
       "      <td>349</td>\n",
       "      <td>0.060172</td>\n",
       "    </tr>\n",
       "    <tr>\n",
       "      <th>E</th>\n",
       "      <td>2</td>\n",
       "      <td>22</td>\n",
       "      <td>0.090909</td>\n",
       "    </tr>\n",
       "  </tbody>\n",
       "</table>\n",
       "</div>"
      ],
      "text/plain": [
       "                       debt  total     ratio\n",
       "total_income_category                       \n",
       "A                         2     25  0.080000\n",
       "B                       354   5014  0.070602\n",
       "C                      1353  15921  0.084982\n",
       "D                        21    349  0.060172\n",
       "E                         2     22  0.090909"
      ]
     },
     "metadata": {},
     "output_type": "display_data"
    }
   ],
   "source": [
    "# Ваш код будет здесь. Вы можете создавать новые ячейки.\n",
    "data_pivot_income = data.pivot_table(index=['total_income_category'], values='debt', aggfunc='sum')\n",
    "\n",
    "# Сгруппируем данные, чтобы получить общее количество кредитов выданное заемщикам с уровнем дохода. \n",
    "data_pivot_income['total'] = data.groupby('total_income_category')['total_income_category'].count()\n",
    "\n",
    "# Посчиатем отношение количества невозвратов кредитов в срок к выданным кредитам по каждой группе.\n",
    "data_pivot_income['ratio'] = data_pivot_income['debt'] / data_pivot_income['total']\n",
    "\n",
    "# Выведем таблицу на экран\n",
    "display(data_pivot_income.sort_values(by='total_income_category'))"
   ]
  },
  {
   "cell_type": "markdown",
   "id": "10301af7",
   "metadata": {},
   "source": [
    "Из приведенной выше таблицы видно, что абсолютное количество кредитов выданное категории 'A' и 'E' существенно меньше, чем другим категориям. Укрупним категоризацию по доходу на три более крупные группы:\n",
    "- 'A-B' - доход ниже среднего 0 - 50 000(объеденим A и B);\n",
    "- 'C'  - средний уровень дохода 50 001 – 200 000 ;\n",
    "- 'D-E' - высокий уровень дохода больше 200 001 (объеденим D и E)."
   ]
  },
  {
   "cell_type": "code",
   "execution_count": 28,
   "id": "4fed96ea",
   "metadata": {},
   "outputs": [],
   "source": [
    "#создадим функцию для создании укрупненной групировки по доходу\n",
    "def categorize_income_large(income):\n",
    "    try:\n",
    "        if 0 <= income <= 50000:\n",
    "            return 'E-D'\n",
    "        elif 50001 <= income <= 200000:\n",
    "            return 'C'\n",
    "        elif  income >= 200001:\n",
    "            return 'A-B'\n",
    "    except:\n",
    "        pass"
   ]
  },
  {
   "cell_type": "code",
   "execution_count": 29,
   "id": "5700d861",
   "metadata": {},
   "outputs": [],
   "source": [
    "# применим функцию и создаим новый столбец\n",
    "data['total_income_category_large'] = data['total_income'].apply(categorize_income_large)"
   ]
  },
  {
   "cell_type": "code",
   "execution_count": 30,
   "id": "1ffe4d59",
   "metadata": {},
   "outputs": [
    {
     "data": {
      "text/html": [
       "<div>\n",
       "<style scoped>\n",
       "    .dataframe tbody tr th:only-of-type {\n",
       "        vertical-align: middle;\n",
       "    }\n",
       "\n",
       "    .dataframe tbody tr th {\n",
       "        vertical-align: top;\n",
       "    }\n",
       "\n",
       "    .dataframe thead th {\n",
       "        text-align: right;\n",
       "    }\n",
       "</style>\n",
       "<table border=\"1\" class=\"dataframe\">\n",
       "  <thead>\n",
       "    <tr style=\"text-align: right;\">\n",
       "      <th></th>\n",
       "      <th>debt</th>\n",
       "      <th>total</th>\n",
       "      <th>ratio</th>\n",
       "    </tr>\n",
       "    <tr>\n",
       "      <th>total_income_category_large</th>\n",
       "      <th></th>\n",
       "      <th></th>\n",
       "      <th></th>\n",
       "    </tr>\n",
       "  </thead>\n",
       "  <tbody>\n",
       "    <tr>\n",
       "      <th>A-B</th>\n",
       "      <td>356</td>\n",
       "      <td>5039</td>\n",
       "      <td>0.070649</td>\n",
       "    </tr>\n",
       "    <tr>\n",
       "      <th>C</th>\n",
       "      <td>1353</td>\n",
       "      <td>15921</td>\n",
       "      <td>0.084982</td>\n",
       "    </tr>\n",
       "    <tr>\n",
       "      <th>E-D</th>\n",
       "      <td>23</td>\n",
       "      <td>371</td>\n",
       "      <td>0.061995</td>\n",
       "    </tr>\n",
       "  </tbody>\n",
       "</table>\n",
       "</div>"
      ],
      "text/plain": [
       "                             debt  total     ratio\n",
       "total_income_category_large                       \n",
       "A-B                           356   5039  0.070649\n",
       "C                            1353  15921  0.084982\n",
       "E-D                            23    371  0.061995"
      ]
     },
     "metadata": {},
     "output_type": "display_data"
    }
   ],
   "source": [
    "# посомтрим как изменится зависимость между уровнем дозхода и возвратом крелита в срок\n",
    "data_pivot_income_large = data.pivot_table(index=['total_income_category_large'], values='debt', aggfunc='sum')\n",
    "\n",
    "# Сгруппируем данные, чтобы получить общее количество кредитов выданное заемщикам с уровнем дохода по новой группировке. \n",
    "data_pivot_income_large['total'] = data.groupby('total_income_category_large')['total_income_category_large'].count()\n",
    "\n",
    "# Посчиатем отношение количества невозвратов кредитов в срок к выданным кредитам по каждой группе.\n",
    "data_pivot_income_large['ratio'] = data_pivot_income_large['debt'] / data_pivot_income_large['total']\n",
    "\n",
    "# Выведем таблицу на экран\n",
    "display(data_pivot_income_large.sort_values(by='total_income_category_large'))"
   ]
  },
  {
   "cell_type": "markdown",
   "id": "4d33da55",
   "metadata": {
    "deletable": false,
    "id": "e8593def"
   },
   "source": [
    "**Вывод:** \n",
    "- У заемщиков со средним уровнем дохода самый высокий уровень невозврата кредита в срок;\n",
    "- Заемщики с доходом выше среднего отдают кредиты в срок лучше всех, по отношению к другим группам по доходу."
   ]
  },
  {
   "cell_type": "markdown",
   "id": "aaaa70f8",
   "metadata": {
    "deletable": false,
    "editable": false,
    "id": "99ecbd1f"
   },
   "source": [
    "#### 3.4 Как разные цели кредита влияют на его возврат в срок?"
   ]
  },
  {
   "cell_type": "code",
   "execution_count": 31,
   "id": "a1f170cf",
   "metadata": {
    "deletable": false,
    "id": "2b687290"
   },
   "outputs": [
    {
     "data": {
      "text/html": [
       "<div>\n",
       "<style scoped>\n",
       "    .dataframe tbody tr th:only-of-type {\n",
       "        vertical-align: middle;\n",
       "    }\n",
       "\n",
       "    .dataframe tbody tr th {\n",
       "        vertical-align: top;\n",
       "    }\n",
       "\n",
       "    .dataframe thead th {\n",
       "        text-align: right;\n",
       "    }\n",
       "</style>\n",
       "<table border=\"1\" class=\"dataframe\">\n",
       "  <thead>\n",
       "    <tr style=\"text-align: right;\">\n",
       "      <th></th>\n",
       "      <th>debt</th>\n",
       "      <th>total</th>\n",
       "      <th>ratio</th>\n",
       "    </tr>\n",
       "    <tr>\n",
       "      <th>purpose_category</th>\n",
       "      <th></th>\n",
       "      <th></th>\n",
       "      <th></th>\n",
       "    </tr>\n",
       "  </thead>\n",
       "  <tbody>\n",
       "    <tr>\n",
       "      <th>операции с недвижимостью</th>\n",
       "      <td>780</td>\n",
       "      <td>10751</td>\n",
       "      <td>0.072551</td>\n",
       "    </tr>\n",
       "    <tr>\n",
       "      <th>проведение свадьбы</th>\n",
       "      <td>183</td>\n",
       "      <td>2313</td>\n",
       "      <td>0.079118</td>\n",
       "    </tr>\n",
       "    <tr>\n",
       "      <th>получение образования</th>\n",
       "      <td>369</td>\n",
       "      <td>3988</td>\n",
       "      <td>0.092528</td>\n",
       "    </tr>\n",
       "    <tr>\n",
       "      <th>операции с автомобилем</th>\n",
       "      <td>400</td>\n",
       "      <td>4279</td>\n",
       "      <td>0.093480</td>\n",
       "    </tr>\n",
       "  </tbody>\n",
       "</table>\n",
       "</div>"
      ],
      "text/plain": [
       "                          debt  total     ratio\n",
       "purpose_category                               \n",
       "операции с недвижимостью   780  10751  0.072551\n",
       "проведение свадьбы         183   2313  0.079118\n",
       "получение образования      369   3988  0.092528\n",
       "операции с автомобилем     400   4279  0.093480"
      ]
     },
     "metadata": {},
     "output_type": "display_data"
    }
   ],
   "source": [
    "# Ваш код будет здесь. Вы можете создавать новые ячейки.\n",
    "data_pivot_category = data.pivot_table(index=['purpose_category'], values='debt', aggfunc='sum')\n",
    "\n",
    "# Сгруппируем данные, чтобы получить общее количество кредитов выданное заемщикам на разные цели. \n",
    "data_pivot_category['total'] = data.groupby('purpose_category')['purpose_category'].count()\n",
    "\n",
    "# Посчиатем отношение количества невозвратов кредитов в срок к выданным кредитам по каждой группе.\n",
    "data_pivot_category['ratio'] = data_pivot_category['debt'] / data_pivot_category['total']\n",
    "\n",
    "# Выведем таблицу на экран\n",
    "display(data_pivot_category.sort_values(by='ratio'))"
   ]
  },
  {
   "cell_type": "markdown",
   "id": "b52ea382",
   "metadata": {
    "deletable": false,
    "id": "b4bb2ce6"
   },
   "source": [
    "**Вывод:**  Заемщики, которые берут кредит на 'операции с недвижимостью' возвращают кредит в срок лучше, чем заемщики, которые берут кредит на 'получение образование' или 'операции с автомобилем'."
   ]
  },
  {
   "cell_type": "markdown",
   "id": "4957fc05",
   "metadata": {
    "deletable": false,
    "editable": false,
    "id": "09c3ac4c"
   },
   "source": [
    "#### 3.5 Приведите возможные причины появления пропусков в исходных данных."
   ]
  },
  {
   "cell_type": "markdown",
   "id": "16e2146f",
   "metadata": {
    "deletable": false,
    "id": "9da2ceda"
   },
   "source": [
    "*Ответ:* Возможные причины пропуков:\n",
    "- Ошибки операторов заполняющих формы;\n",
    "- Специально не заполнется ячейка с доходом или со стажем, чтобы получить одобрение на выдачу кредита."
   ]
  },
  {
   "cell_type": "markdown",
   "id": "d3538c00",
   "metadata": {
    "deletable": false,
    "editable": false,
    "id": "7b0487d6"
   },
   "source": [
    "#### 3.6 Объясните, почему заполнить пропуски медианным значением — лучшее решение для количественных переменных."
   ]
  },
  {
   "cell_type": "markdown",
   "id": "2bb87225",
   "metadata": {
    "deletable": false,
    "id": "7ecf2b8e"
   },
   "source": [
    "*Ответ:* Для заполнения пропусков есть два способа: среденее значение и медианное значение. Для заполнения пропусков по доходу нельзя использовать среднее значение. Несколько сильно богатых людей могут увеличить средний доход и исказить дальнейшее иследование. Медиана - это серединное значение упорядоченного ряда. Соотственно, значении медианы даст более правильный результат. Тоже самое и с занятостью. Медиана даст серединное заначение по занятости в целом и исключит искажение по занятости. Так как в таблице есть группы с очень низкой занятостью или наоборот с очень высокой занятостью, заполнение пустых ячеек средним занчением может исказить дальнешие результаты исследования. "
   ]
  },
  {
   "cell_type": "markdown",
   "id": "71b968df",
   "metadata": {
    "deletable": false,
    "editable": false,
    "id": "6db5255a"
   },
   "source": [
    "### Шаг 4: общий вывод."
   ]
  },
  {
   "cell_type": "markdown",
   "id": "67c1808e",
   "metadata": {
    "deletable": false,
    "id": "bad65432"
   },
   "source": [
    "Лучшех всех возвращают кредиты в срок следующие категории заемщиков:\n",
    "- Заемщики без детей;\n",
    "- Заемщики состоящие в браке или же в нем уже были (в разводе, вдова/вдовец);\n",
    "- Замещики с высоким доходом;\n",
    "- Если кредит берется на операции с недвижимостью.\n",
    "\n",
    "Хуже возвращают кредиты в срок следующие категории заемщиков:\n",
    "- Заемщики имеющие 1-2 ребенка;\n",
    "- Заемщики не состоящие в официальном браке;\n",
    "- Заемщики имеющие средний уровень дохода;\n",
    "- Если кредит берется на операции с автомобилем."
   ]
  }
 ],
 "metadata": {
  "ExecuteTimeLog": [
   {
    "duration": 489,
    "start_time": "2022-09-12T06:27:08.502Z"
   },
   {
    "duration": 23,
    "start_time": "2022-09-12T06:27:22.697Z"
   },
   {
    "duration": 74,
    "start_time": "2022-09-12T06:48:36.391Z"
   },
   {
    "duration": 17,
    "start_time": "2022-09-12T06:48:54.839Z"
   },
   {
    "duration": 13,
    "start_time": "2022-09-12T06:49:20.107Z"
   },
   {
    "duration": 11,
    "start_time": "2022-09-12T06:49:34.467Z"
   },
   {
    "duration": 68,
    "start_time": "2022-09-12T06:49:44.960Z"
   },
   {
    "duration": 15,
    "start_time": "2022-09-12T06:49:45.720Z"
   },
   {
    "duration": 14,
    "start_time": "2022-09-12T06:49:46.339Z"
   },
   {
    "duration": 10,
    "start_time": "2022-09-12T06:49:48.099Z"
   },
   {
    "duration": 33,
    "start_time": "2022-09-12T06:49:48.542Z"
   },
   {
    "duration": 3,
    "start_time": "2022-09-12T06:49:49.349Z"
   },
   {
    "duration": 8,
    "start_time": "2022-09-12T06:49:49.857Z"
   },
   {
    "duration": 4,
    "start_time": "2022-09-12T06:49:50.613Z"
   },
   {
    "duration": 7,
    "start_time": "2022-09-12T06:49:51.062Z"
   },
   {
    "duration": 5,
    "start_time": "2022-09-12T06:49:51.506Z"
   },
   {
    "duration": 49,
    "start_time": "2022-09-12T06:49:52.212Z"
   },
   {
    "duration": 13,
    "start_time": "2022-09-12T06:49:52.687Z"
   },
   {
    "duration": 4,
    "start_time": "2022-09-12T06:49:53.424Z"
   },
   {
    "duration": 11,
    "start_time": "2022-09-12T06:49:54.205Z"
   },
   {
    "duration": 20,
    "start_time": "2022-09-12T06:49:54.742Z"
   },
   {
    "duration": 19,
    "start_time": "2022-09-12T06:49:55.045Z"
   },
   {
    "duration": 5,
    "start_time": "2022-09-12T06:49:56.579Z"
   },
   {
    "duration": 10,
    "start_time": "2022-09-12T06:49:56.814Z"
   },
   {
    "duration": 5,
    "start_time": "2022-09-12T06:49:57.397Z"
   },
   {
    "duration": 3,
    "start_time": "2022-09-12T06:49:58.031Z"
   },
   {
    "duration": 9,
    "start_time": "2022-09-12T06:49:58.410Z"
   },
   {
    "duration": 16,
    "start_time": "2022-09-12T06:49:59.480Z"
   },
   {
    "duration": 15,
    "start_time": "2022-09-12T06:54:04.143Z"
   },
   {
    "duration": 16,
    "start_time": "2022-09-12T06:55:33.918Z"
   },
   {
    "duration": 21,
    "start_time": "2022-09-12T07:05:27.002Z"
   },
   {
    "duration": 4,
    "start_time": "2022-09-12T07:05:39.753Z"
   },
   {
    "duration": 13,
    "start_time": "2022-09-12T07:05:40.469Z"
   },
   {
    "duration": 13,
    "start_time": "2022-09-12T07:06:23.771Z"
   },
   {
    "duration": 15,
    "start_time": "2022-09-12T07:07:23.261Z"
   },
   {
    "duration": 11,
    "start_time": "2022-09-12T07:07:50.919Z"
   },
   {
    "duration": 65,
    "start_time": "2022-09-12T07:13:31.812Z"
   },
   {
    "duration": 15,
    "start_time": "2022-09-12T07:13:32.378Z"
   },
   {
    "duration": 16,
    "start_time": "2022-09-12T07:13:32.707Z"
   },
   {
    "duration": 9,
    "start_time": "2022-09-12T07:13:33.389Z"
   },
   {
    "duration": 31,
    "start_time": "2022-09-12T07:13:33.740Z"
   },
   {
    "duration": 4,
    "start_time": "2022-09-12T07:13:34.301Z"
   },
   {
    "duration": 9,
    "start_time": "2022-09-12T07:13:34.678Z"
   },
   {
    "duration": 6,
    "start_time": "2022-09-12T07:13:35.246Z"
   },
   {
    "duration": 6,
    "start_time": "2022-09-12T07:13:35.669Z"
   },
   {
    "duration": 5,
    "start_time": "2022-09-12T07:13:36.330Z"
   },
   {
    "duration": 36,
    "start_time": "2022-09-12T07:13:36.936Z"
   },
   {
    "duration": 10,
    "start_time": "2022-09-12T07:13:37.360Z"
   },
   {
    "duration": 5,
    "start_time": "2022-09-12T07:13:38.014Z"
   },
   {
    "duration": 10,
    "start_time": "2022-09-12T07:13:39.359Z"
   },
   {
    "duration": 23,
    "start_time": "2022-09-12T07:13:40.956Z"
   },
   {
    "duration": 24,
    "start_time": "2022-09-12T07:13:41.796Z"
   },
   {
    "duration": 3,
    "start_time": "2022-09-12T07:13:48.676Z"
   },
   {
    "duration": 15,
    "start_time": "2022-09-12T07:13:48.946Z"
   },
   {
    "duration": 5,
    "start_time": "2022-09-12T07:13:49.903Z"
   },
   {
    "duration": 3,
    "start_time": "2022-09-12T07:13:51.166Z"
   },
   {
    "duration": 8,
    "start_time": "2022-09-12T07:13:51.654Z"
   },
   {
    "duration": 14,
    "start_time": "2022-09-12T07:13:53.616Z"
   },
   {
    "duration": 14,
    "start_time": "2022-09-12T07:13:58.281Z"
   },
   {
    "duration": 21,
    "start_time": "2022-09-12T07:18:28.080Z"
   },
   {
    "duration": 13,
    "start_time": "2022-09-12T07:18:43.747Z"
   },
   {
    "duration": 18,
    "start_time": "2022-09-12T07:20:18.524Z"
   },
   {
    "duration": 13,
    "start_time": "2022-09-12T07:24:25.714Z"
   },
   {
    "duration": 13,
    "start_time": "2022-09-12T07:31:37.955Z"
   },
   {
    "duration": 14,
    "start_time": "2022-09-12T07:33:22.653Z"
   },
   {
    "duration": 14,
    "start_time": "2022-09-12T07:34:45.472Z"
   },
   {
    "duration": 14,
    "start_time": "2022-09-12T07:35:10.479Z"
   },
   {
    "duration": 14,
    "start_time": "2022-09-12T07:37:24.904Z"
   },
   {
    "duration": 25,
    "start_time": "2022-09-12T07:38:57.711Z"
   },
   {
    "duration": 17,
    "start_time": "2022-09-12T07:39:20.143Z"
   },
   {
    "duration": 17,
    "start_time": "2022-09-12T07:39:43.411Z"
   },
   {
    "duration": 20,
    "start_time": "2022-09-12T07:41:03.179Z"
   },
   {
    "duration": 46,
    "start_time": "2022-09-12T07:41:36.118Z"
   },
   {
    "duration": 23,
    "start_time": "2022-09-12T07:41:47.629Z"
   },
   {
    "duration": 20,
    "start_time": "2022-09-12T07:42:16.168Z"
   },
   {
    "duration": 16,
    "start_time": "2022-09-12T07:42:25.372Z"
   },
   {
    "duration": 18,
    "start_time": "2022-09-12T07:42:56.336Z"
   },
   {
    "duration": 18,
    "start_time": "2022-09-12T07:43:08.409Z"
   },
   {
    "duration": 21,
    "start_time": "2022-09-12T07:45:57.001Z"
   },
   {
    "duration": 14,
    "start_time": "2022-09-12T07:47:32.452Z"
   },
   {
    "duration": 20,
    "start_time": "2022-09-12T07:48:51.969Z"
   },
   {
    "duration": 21,
    "start_time": "2022-09-12T07:49:13.296Z"
   },
   {
    "duration": 21,
    "start_time": "2022-09-12T08:27:28.386Z"
   },
   {
    "duration": 16,
    "start_time": "2022-09-12T08:27:49.049Z"
   },
   {
    "duration": 16,
    "start_time": "2022-09-12T08:28:02.692Z"
   },
   {
    "duration": 18,
    "start_time": "2022-09-12T08:29:30.968Z"
   },
   {
    "duration": 17,
    "start_time": "2022-09-12T08:29:53.247Z"
   },
   {
    "duration": 18,
    "start_time": "2022-09-12T09:19:33.170Z"
   },
   {
    "duration": 18,
    "start_time": "2022-09-12T09:19:49.370Z"
   },
   {
    "duration": 18,
    "start_time": "2022-09-12T09:20:13.282Z"
   },
   {
    "duration": 51,
    "start_time": "2022-09-12T09:45:20.510Z"
   },
   {
    "duration": 41,
    "start_time": "2022-09-12T09:45:32.321Z"
   },
   {
    "duration": 4,
    "start_time": "2022-09-12T09:45:45.344Z"
   },
   {
    "duration": 14,
    "start_time": "2022-09-12T09:47:13.242Z"
   },
   {
    "duration": 9,
    "start_time": "2022-09-12T09:48:03.682Z"
   },
   {
    "duration": 23,
    "start_time": "2022-09-12T09:48:05.721Z"
   },
   {
    "duration": 579,
    "start_time": "2022-09-12T12:08:43.300Z"
   },
   {
    "duration": 20,
    "start_time": "2022-09-12T12:08:44.851Z"
   },
   {
    "duration": 27,
    "start_time": "2022-09-12T12:08:46.318Z"
   },
   {
    "duration": 8,
    "start_time": "2022-09-12T12:08:48.357Z"
   },
   {
    "duration": 30,
    "start_time": "2022-09-12T12:08:49.289Z"
   },
   {
    "duration": 3,
    "start_time": "2022-09-12T12:08:50.657Z"
   },
   {
    "duration": 8,
    "start_time": "2022-09-12T12:08:51.649Z"
   },
   {
    "duration": 4,
    "start_time": "2022-09-12T12:08:52.914Z"
   },
   {
    "duration": 6,
    "start_time": "2022-09-12T12:08:53.432Z"
   },
   {
    "duration": 4,
    "start_time": "2022-09-12T12:08:53.911Z"
   },
   {
    "duration": 27,
    "start_time": "2022-09-12T12:08:54.488Z"
   },
   {
    "duration": 8,
    "start_time": "2022-09-12T12:08:55.137Z"
   },
   {
    "duration": 4,
    "start_time": "2022-09-12T12:08:55.945Z"
   },
   {
    "duration": 10,
    "start_time": "2022-09-12T12:08:56.687Z"
   },
   {
    "duration": 21,
    "start_time": "2022-09-12T12:08:57.326Z"
   },
   {
    "duration": 16,
    "start_time": "2022-09-12T12:08:57.871Z"
   },
   {
    "duration": 4,
    "start_time": "2022-09-12T12:08:59.133Z"
   },
   {
    "duration": 12,
    "start_time": "2022-09-12T12:08:59.363Z"
   },
   {
    "duration": 5,
    "start_time": "2022-09-12T12:09:00.383Z"
   },
   {
    "duration": 12,
    "start_time": "2022-09-12T12:09:01.418Z"
   },
   {
    "duration": 14,
    "start_time": "2022-09-12T12:09:01.867Z"
   },
   {
    "duration": 22,
    "start_time": "2022-09-12T12:09:03.345Z"
   },
   {
    "duration": 24,
    "start_time": "2022-09-12T12:09:22.917Z"
   },
   {
    "duration": 81,
    "start_time": "2022-09-12T12:13:52.764Z"
   },
   {
    "duration": 4,
    "start_time": "2022-09-12T12:14:00.824Z"
   },
   {
    "duration": 10,
    "start_time": "2022-09-12T12:14:01.941Z"
   },
   {
    "duration": 9,
    "start_time": "2022-09-12T12:14:33.106Z"
   },
   {
    "duration": 17,
    "start_time": "2022-09-12T12:17:10.194Z"
   },
   {
    "duration": 14,
    "start_time": "2022-09-12T12:17:31.651Z"
   },
   {
    "duration": 3,
    "start_time": "2022-09-12T12:17:58.338Z"
   },
   {
    "duration": 5,
    "start_time": "2022-09-12T12:17:59.247Z"
   },
   {
    "duration": 17,
    "start_time": "2022-09-12T12:18:00.538Z"
   },
   {
    "duration": 31,
    "start_time": "2022-09-12T12:24:15.018Z"
   },
   {
    "duration": 70,
    "start_time": "2022-09-12T12:26:31.984Z"
   },
   {
    "duration": 19,
    "start_time": "2022-09-12T12:27:00.435Z"
   },
   {
    "duration": 3,
    "start_time": "2022-09-12T12:27:02.033Z"
   },
   {
    "duration": 8,
    "start_time": "2022-09-12T12:27:02.899Z"
   },
   {
    "duration": 19,
    "start_time": "2022-09-12T12:27:03.882Z"
   },
   {
    "duration": 3,
    "start_time": "2022-09-12T12:27:19.444Z"
   },
   {
    "duration": 4,
    "start_time": "2022-09-12T12:28:15.558Z"
   },
   {
    "duration": 11,
    "start_time": "2022-09-12T12:28:16.169Z"
   },
   {
    "duration": 24,
    "start_time": "2022-09-12T12:28:16.811Z"
   },
   {
    "duration": 22,
    "start_time": "2022-09-12T12:28:38.916Z"
   },
   {
    "duration": 985,
    "start_time": "2022-09-12T12:29:39.812Z"
   },
   {
    "duration": 52,
    "start_time": "2022-09-12T12:30:52.616Z"
   },
   {
    "duration": 3,
    "start_time": "2022-09-12T12:30:58.787Z"
   },
   {
    "duration": 10,
    "start_time": "2022-09-12T12:30:59.505Z"
   },
   {
    "duration": 21,
    "start_time": "2022-09-12T12:31:00.998Z"
   },
   {
    "duration": 14,
    "start_time": "2022-09-12T12:31:06.398Z"
   },
   {
    "duration": 9,
    "start_time": "2022-09-12T12:32:11.058Z"
   },
   {
    "duration": 3,
    "start_time": "2022-09-12T12:32:13.972Z"
   },
   {
    "duration": 7,
    "start_time": "2022-09-12T12:32:14.665Z"
   },
   {
    "duration": 16,
    "start_time": "2022-09-12T12:32:15.566Z"
   },
   {
    "duration": 3,
    "start_time": "2022-09-12T12:32:15.938Z"
   },
   {
    "duration": 9,
    "start_time": "2022-09-12T12:32:16.119Z"
   },
   {
    "duration": 19,
    "start_time": "2022-09-12T12:32:16.289Z"
   },
   {
    "duration": 19,
    "start_time": "2022-09-12T12:32:17.066Z"
   },
   {
    "duration": 14,
    "start_time": "2022-09-12T12:32:17.762Z"
   },
   {
    "duration": 7,
    "start_time": "2022-09-12T12:32:18.227Z"
   },
   {
    "duration": 9,
    "start_time": "2022-09-12T12:32:18.446Z"
   },
   {
    "duration": 23,
    "start_time": "2022-09-12T12:32:19.215Z"
   },
   {
    "duration": 28,
    "start_time": "2022-09-12T12:32:21.376Z"
   },
   {
    "duration": 16,
    "start_time": "2022-09-12T12:32:48.704Z"
   },
   {
    "duration": 73,
    "start_time": "2022-09-12T12:32:53.159Z"
   },
   {
    "duration": 13,
    "start_time": "2022-09-12T12:32:53.959Z"
   },
   {
    "duration": 21,
    "start_time": "2022-09-12T12:32:55.010Z"
   },
   {
    "duration": 9,
    "start_time": "2022-09-12T12:32:58.310Z"
   },
   {
    "duration": 28,
    "start_time": "2022-09-12T12:32:59.187Z"
   },
   {
    "duration": 3,
    "start_time": "2022-09-12T12:33:00.164Z"
   },
   {
    "duration": 7,
    "start_time": "2022-09-12T12:33:00.840Z"
   },
   {
    "duration": 10,
    "start_time": "2022-09-12T12:33:01.720Z"
   },
   {
    "duration": 5,
    "start_time": "2022-09-12T12:33:02.315Z"
   },
   {
    "duration": 5,
    "start_time": "2022-09-12T12:33:03.033Z"
   },
   {
    "duration": 29,
    "start_time": "2022-09-12T12:33:04.050Z"
   },
   {
    "duration": 9,
    "start_time": "2022-09-12T12:33:05.196Z"
   },
   {
    "duration": 5,
    "start_time": "2022-09-12T12:33:06.047Z"
   },
   {
    "duration": 10,
    "start_time": "2022-09-12T12:33:06.875Z"
   },
   {
    "duration": 20,
    "start_time": "2022-09-12T12:33:07.470Z"
   },
   {
    "duration": 18,
    "start_time": "2022-09-12T12:33:07.741Z"
   },
   {
    "duration": 4,
    "start_time": "2022-09-12T12:33:08.600Z"
   },
   {
    "duration": 9,
    "start_time": "2022-09-12T12:33:08.902Z"
   },
   {
    "duration": 5,
    "start_time": "2022-09-12T12:33:09.710Z"
   },
   {
    "duration": 3,
    "start_time": "2022-09-12T12:33:10.493Z"
   },
   {
    "duration": 8,
    "start_time": "2022-09-12T12:33:10.863Z"
   },
   {
    "duration": 20,
    "start_time": "2022-09-12T12:33:12.580Z"
   },
   {
    "duration": 2,
    "start_time": "2022-09-12T12:33:14.368Z"
   },
   {
    "duration": 5,
    "start_time": "2022-09-12T12:33:15.813Z"
   },
   {
    "duration": 24,
    "start_time": "2022-09-12T12:33:16.306Z"
   },
   {
    "duration": 17,
    "start_time": "2022-09-12T12:33:22.334Z"
   },
   {
    "duration": 19,
    "start_time": "2022-09-12T12:33:29.587Z"
   },
   {
    "duration": 18,
    "start_time": "2022-09-12T12:33:35.837Z"
   },
   {
    "duration": 18,
    "start_time": "2022-09-12T12:34:03.372Z"
   },
   {
    "duration": 3,
    "start_time": "2022-09-12T12:34:07.239Z"
   },
   {
    "duration": 9,
    "start_time": "2022-09-12T12:34:08.632Z"
   },
   {
    "duration": 23,
    "start_time": "2022-09-12T12:34:09.435Z"
   },
   {
    "duration": 40,
    "start_time": "2022-09-12T12:37:02.727Z"
   },
   {
    "duration": 153,
    "start_time": "2022-09-12T12:40:01.933Z"
   },
   {
    "duration": 18,
    "start_time": "2022-09-12T12:40:19.333Z"
   },
   {
    "duration": 102,
    "start_time": "2022-09-12T12:40:33.587Z"
   },
   {
    "duration": 96,
    "start_time": "2022-09-12T12:40:58.601Z"
   },
   {
    "duration": 121,
    "start_time": "2022-09-12T12:42:27.712Z"
   },
   {
    "duration": 3618,
    "start_time": "2022-09-12T12:43:44.383Z"
   },
   {
    "duration": 3240,
    "start_time": "2022-09-12T12:43:48.172Z"
   },
   {
    "duration": 104,
    "start_time": "2022-09-12T12:44:14.870Z"
   },
   {
    "duration": 115,
    "start_time": "2022-09-12T12:44:38.554Z"
   },
   {
    "duration": 160,
    "start_time": "2022-09-12T12:44:57.584Z"
   },
   {
    "duration": 90,
    "start_time": "2022-09-12T12:45:06.816Z"
   },
   {
    "duration": 3,
    "start_time": "2022-09-12T12:47:04.233Z"
   },
   {
    "duration": 6,
    "start_time": "2022-09-12T12:47:16.147Z"
   },
   {
    "duration": 76,
    "start_time": "2022-09-12T12:47:43.622Z"
   },
   {
    "duration": 80,
    "start_time": "2022-09-12T12:54:25.280Z"
   },
   {
    "duration": 2297,
    "start_time": "2022-09-12T12:54:31.776Z"
   },
   {
    "duration": 271,
    "start_time": "2022-09-12T12:54:59.634Z"
   },
   {
    "duration": 108,
    "start_time": "2022-09-12T12:55:25.354Z"
   },
   {
    "duration": 170,
    "start_time": "2022-09-12T12:56:36.587Z"
   },
   {
    "duration": 103,
    "start_time": "2022-09-12T12:56:44.566Z"
   },
   {
    "duration": 138,
    "start_time": "2022-09-12T12:58:16.136Z"
   },
   {
    "duration": 9,
    "start_time": "2022-09-12T12:58:37.200Z"
   },
   {
    "duration": 111,
    "start_time": "2022-09-12T12:58:43.238Z"
   },
   {
    "duration": 766,
    "start_time": "2022-09-12T16:56:10.806Z"
   },
   {
    "duration": 22,
    "start_time": "2022-09-12T16:56:14.322Z"
   },
   {
    "duration": 16,
    "start_time": "2022-09-12T16:56:15.427Z"
   },
   {
    "duration": 12,
    "start_time": "2022-09-12T16:56:17.388Z"
   },
   {
    "duration": 42,
    "start_time": "2022-09-12T16:56:18.323Z"
   },
   {
    "duration": 3,
    "start_time": "2022-09-12T16:56:19.623Z"
   },
   {
    "duration": 13,
    "start_time": "2022-09-12T16:56:20.441Z"
   },
   {
    "duration": 4,
    "start_time": "2022-09-12T16:56:22.240Z"
   },
   {
    "duration": 7,
    "start_time": "2022-09-12T16:56:23.206Z"
   },
   {
    "duration": 5,
    "start_time": "2022-09-12T16:56:23.902Z"
   },
   {
    "duration": 51,
    "start_time": "2022-09-12T16:56:24.925Z"
   },
   {
    "duration": 9,
    "start_time": "2022-09-12T16:56:25.522Z"
   },
   {
    "duration": 4,
    "start_time": "2022-09-12T16:56:26.774Z"
   },
   {
    "duration": 11,
    "start_time": "2022-09-12T16:56:28.113Z"
   },
   {
    "duration": 20,
    "start_time": "2022-09-12T16:56:29.173Z"
   },
   {
    "duration": 16,
    "start_time": "2022-09-12T16:56:29.719Z"
   },
   {
    "duration": 3,
    "start_time": "2022-09-12T16:56:31.513Z"
   },
   {
    "duration": 13,
    "start_time": "2022-09-12T16:56:32.770Z"
   },
   {
    "duration": 6,
    "start_time": "2022-09-12T16:56:34.078Z"
   },
   {
    "duration": 4,
    "start_time": "2022-09-12T16:57:00.975Z"
   },
   {
    "duration": 709,
    "start_time": "2022-09-13T03:58:04.149Z"
   },
   {
    "duration": 23,
    "start_time": "2022-09-13T03:58:04.940Z"
   },
   {
    "duration": 16,
    "start_time": "2022-09-13T03:58:05.344Z"
   },
   {
    "duration": 11,
    "start_time": "2022-09-13T03:58:06.643Z"
   },
   {
    "duration": 35,
    "start_time": "2022-09-13T03:58:07.088Z"
   },
   {
    "duration": 4,
    "start_time": "2022-09-13T03:58:07.806Z"
   },
   {
    "duration": 8,
    "start_time": "2022-09-13T03:58:08.331Z"
   },
   {
    "duration": 5,
    "start_time": "2022-09-13T03:58:09.040Z"
   },
   {
    "duration": 10,
    "start_time": "2022-09-13T03:58:09.615Z"
   },
   {
    "duration": 6,
    "start_time": "2022-09-13T03:58:10.015Z"
   },
   {
    "duration": 34,
    "start_time": "2022-09-13T03:58:10.697Z"
   },
   {
    "duration": 11,
    "start_time": "2022-09-13T03:58:11.180Z"
   },
   {
    "duration": 4,
    "start_time": "2022-09-13T03:58:11.929Z"
   },
   {
    "duration": 17,
    "start_time": "2022-09-13T03:58:12.705Z"
   },
   {
    "duration": 20,
    "start_time": "2022-09-13T03:58:13.308Z"
   },
   {
    "duration": 18,
    "start_time": "2022-09-13T03:58:13.574Z"
   },
   {
    "duration": 4,
    "start_time": "2022-09-13T03:58:14.512Z"
   },
   {
    "duration": 11,
    "start_time": "2022-09-13T03:58:14.750Z"
   },
   {
    "duration": 9,
    "start_time": "2022-09-13T03:58:16.183Z"
   },
   {
    "duration": 4,
    "start_time": "2022-09-13T03:58:20.548Z"
   },
   {
    "duration": 8,
    "start_time": "2022-09-13T03:58:37.280Z"
   },
   {
    "duration": 22,
    "start_time": "2022-09-13T03:58:55.200Z"
   },
   {
    "duration": 3,
    "start_time": "2022-09-13T03:58:59.795Z"
   },
   {
    "duration": 6,
    "start_time": "2022-09-13T03:59:00.872Z"
   },
   {
    "duration": 23,
    "start_time": "2022-09-13T03:59:01.439Z"
   },
   {
    "duration": 21,
    "start_time": "2022-09-13T03:59:02.768Z"
   },
   {
    "duration": 19,
    "start_time": "2022-09-13T03:59:04.064Z"
   },
   {
    "duration": 4,
    "start_time": "2022-09-13T03:59:04.827Z"
   },
   {
    "duration": 10,
    "start_time": "2022-09-13T03:59:05.129Z"
   },
   {
    "duration": 35,
    "start_time": "2022-09-13T03:59:05.646Z"
   },
   {
    "duration": 4291,
    "start_time": "2022-09-13T04:04:16.516Z"
   },
   {
    "duration": 1393,
    "start_time": "2022-09-13T04:05:06.212Z"
   },
   {
    "duration": 27,
    "start_time": "2022-09-13T04:05:32.563Z"
   },
   {
    "duration": 29,
    "start_time": "2022-09-13T04:06:10.284Z"
   },
   {
    "duration": 32,
    "start_time": "2022-09-13T04:06:57.311Z"
   },
   {
    "duration": 16,
    "start_time": "2022-09-13T04:09:42.543Z"
   },
   {
    "duration": 17,
    "start_time": "2022-09-13T04:11:02.310Z"
   },
   {
    "duration": 32,
    "start_time": "2022-09-13T04:12:38.863Z"
   },
   {
    "duration": 20,
    "start_time": "2022-09-13T04:12:43.915Z"
   },
   {
    "duration": 23,
    "start_time": "2022-09-13T04:12:48.947Z"
   },
   {
    "duration": 19,
    "start_time": "2022-09-13T04:15:06.060Z"
   },
   {
    "duration": 19,
    "start_time": "2022-09-13T04:16:44.138Z"
   },
   {
    "duration": 26,
    "start_time": "2022-09-13T04:16:50.896Z"
   },
   {
    "duration": 30,
    "start_time": "2022-09-13T04:18:30.123Z"
   },
   {
    "duration": 75,
    "start_time": "2022-09-13T04:46:05.404Z"
   },
   {
    "duration": 25,
    "start_time": "2022-09-13T04:46:39.055Z"
   },
   {
    "duration": 539,
    "start_time": "2022-09-13T05:02:49.173Z"
   },
   {
    "duration": 21,
    "start_time": "2022-09-13T05:02:49.714Z"
   },
   {
    "duration": 14,
    "start_time": "2022-09-13T05:02:49.736Z"
   },
   {
    "duration": 8,
    "start_time": "2022-09-13T05:02:49.752Z"
   },
   {
    "duration": 42,
    "start_time": "2022-09-13T05:02:49.762Z"
   },
   {
    "duration": 3,
    "start_time": "2022-09-13T05:02:49.806Z"
   },
   {
    "duration": 11,
    "start_time": "2022-09-13T05:02:49.810Z"
   },
   {
    "duration": 10,
    "start_time": "2022-09-13T05:02:49.822Z"
   },
   {
    "duration": 9,
    "start_time": "2022-09-13T05:02:49.833Z"
   },
   {
    "duration": 4,
    "start_time": "2022-09-13T05:02:49.843Z"
   },
   {
    "duration": 34,
    "start_time": "2022-09-13T05:02:49.848Z"
   },
   {
    "duration": 9,
    "start_time": "2022-09-13T05:02:49.895Z"
   },
   {
    "duration": 4,
    "start_time": "2022-09-13T05:02:49.906Z"
   },
   {
    "duration": 14,
    "start_time": "2022-09-13T05:02:49.912Z"
   },
   {
    "duration": 18,
    "start_time": "2022-09-13T05:02:49.928Z"
   },
   {
    "duration": 16,
    "start_time": "2022-09-13T05:02:49.947Z"
   },
   {
    "duration": 31,
    "start_time": "2022-09-13T05:02:49.965Z"
   },
   {
    "duration": 12,
    "start_time": "2022-09-13T05:02:49.998Z"
   },
   {
    "duration": 6,
    "start_time": "2022-09-13T05:02:50.012Z"
   },
   {
    "duration": 5,
    "start_time": "2022-09-13T05:02:50.019Z"
   },
   {
    "duration": 12,
    "start_time": "2022-09-13T05:02:50.025Z"
   },
   {
    "duration": 22,
    "start_time": "2022-09-13T05:02:50.039Z"
   },
   {
    "duration": 3,
    "start_time": "2022-09-13T05:02:50.063Z"
   },
   {
    "duration": 34,
    "start_time": "2022-09-13T05:02:50.067Z"
   },
   {
    "duration": 26,
    "start_time": "2022-09-13T05:02:50.102Z"
   },
   {
    "duration": 25,
    "start_time": "2022-09-13T05:02:50.129Z"
   },
   {
    "duration": 41,
    "start_time": "2022-09-13T05:02:50.156Z"
   },
   {
    "duration": 2,
    "start_time": "2022-09-13T05:02:50.199Z"
   },
   {
    "duration": 14,
    "start_time": "2022-09-13T05:02:50.203Z"
   },
   {
    "duration": 25,
    "start_time": "2022-09-13T05:02:50.218Z"
   },
   {
    "duration": 18,
    "start_time": "2022-09-13T05:02:50.244Z"
   },
   {
    "duration": 476,
    "start_time": "2022-09-13T05:28:47.067Z"
   },
   {
    "duration": 21,
    "start_time": "2022-09-13T05:28:47.545Z"
   },
   {
    "duration": 14,
    "start_time": "2022-09-13T05:28:47.568Z"
   },
   {
    "duration": 9,
    "start_time": "2022-09-13T05:28:47.596Z"
   },
   {
    "duration": 32,
    "start_time": "2022-09-13T05:28:47.606Z"
   },
   {
    "duration": 3,
    "start_time": "2022-09-13T05:28:47.640Z"
   },
   {
    "duration": 13,
    "start_time": "2022-09-13T05:28:47.646Z"
   },
   {
    "duration": 5,
    "start_time": "2022-09-13T05:28:47.661Z"
   },
   {
    "duration": 29,
    "start_time": "2022-09-13T05:28:47.667Z"
   },
   {
    "duration": 17,
    "start_time": "2022-09-13T05:28:47.700Z"
   },
   {
    "duration": 35,
    "start_time": "2022-09-13T05:28:47.718Z"
   },
   {
    "duration": 9,
    "start_time": "2022-09-13T05:28:47.755Z"
   },
   {
    "duration": 3,
    "start_time": "2022-09-13T05:28:47.766Z"
   },
   {
    "duration": 42,
    "start_time": "2022-09-13T05:28:47.770Z"
   },
   {
    "duration": 20,
    "start_time": "2022-09-13T05:28:47.814Z"
   },
   {
    "duration": 16,
    "start_time": "2022-09-13T05:28:47.835Z"
   },
   {
    "duration": 4,
    "start_time": "2022-09-13T05:28:47.852Z"
   },
   {
    "duration": 42,
    "start_time": "2022-09-13T05:28:47.857Z"
   },
   {
    "duration": 7,
    "start_time": "2022-09-13T05:28:47.901Z"
   },
   {
    "duration": 5,
    "start_time": "2022-09-13T05:28:47.909Z"
   },
   {
    "duration": 11,
    "start_time": "2022-09-13T05:28:47.915Z"
   },
   {
    "duration": 23,
    "start_time": "2022-09-13T05:28:47.927Z"
   },
   {
    "duration": 4,
    "start_time": "2022-09-13T05:28:47.952Z"
   },
   {
    "duration": 37,
    "start_time": "2022-09-13T05:28:47.958Z"
   },
   {
    "duration": 30,
    "start_time": "2022-09-13T05:28:47.997Z"
   },
   {
    "duration": 36,
    "start_time": "2022-09-13T05:28:48.029Z"
   },
   {
    "duration": 20,
    "start_time": "2022-09-13T05:28:48.066Z"
   },
   {
    "duration": 4,
    "start_time": "2022-09-13T05:28:48.097Z"
   },
   {
    "duration": 17,
    "start_time": "2022-09-13T05:28:48.103Z"
   },
   {
    "duration": 24,
    "start_time": "2022-09-13T05:28:48.122Z"
   },
   {
    "duration": 22,
    "start_time": "2022-09-13T05:28:48.148Z"
   },
   {
    "duration": 513,
    "start_time": "2022-09-13T20:55:36.247Z"
   },
   {
    "duration": 24,
    "start_time": "2022-09-13T20:55:36.764Z"
   },
   {
    "duration": 16,
    "start_time": "2022-09-13T20:55:36.790Z"
   },
   {
    "duration": 15,
    "start_time": "2022-09-13T20:55:36.821Z"
   },
   {
    "duration": 52,
    "start_time": "2022-09-13T20:55:36.839Z"
   },
   {
    "duration": 3,
    "start_time": "2022-09-13T20:55:36.893Z"
   },
   {
    "duration": 19,
    "start_time": "2022-09-13T20:55:36.898Z"
   },
   {
    "duration": 36,
    "start_time": "2022-09-13T20:55:36.921Z"
   },
   {
    "duration": 26,
    "start_time": "2022-09-13T20:55:36.959Z"
   },
   {
    "duration": 16,
    "start_time": "2022-09-13T20:55:36.987Z"
   },
   {
    "duration": 57,
    "start_time": "2022-09-13T20:55:37.005Z"
   },
   {
    "duration": 9,
    "start_time": "2022-09-13T20:55:37.064Z"
   },
   {
    "duration": 14,
    "start_time": "2022-09-13T20:55:37.075Z"
   },
   {
    "duration": 26,
    "start_time": "2022-09-13T20:55:37.092Z"
   },
   {
    "duration": 54,
    "start_time": "2022-09-13T20:55:37.120Z"
   },
   {
    "duration": 21,
    "start_time": "2022-09-13T20:55:37.176Z"
   },
   {
    "duration": 5,
    "start_time": "2022-09-13T20:55:37.199Z"
   },
   {
    "duration": 14,
    "start_time": "2022-09-13T20:55:37.205Z"
   },
   {
    "duration": 28,
    "start_time": "2022-09-13T20:55:37.221Z"
   },
   {
    "duration": 8,
    "start_time": "2022-09-13T20:55:37.251Z"
   },
   {
    "duration": 20,
    "start_time": "2022-09-13T20:55:37.261Z"
   },
   {
    "duration": 25,
    "start_time": "2022-09-13T20:55:37.283Z"
   },
   {
    "duration": 3,
    "start_time": "2022-09-13T20:55:37.310Z"
   },
   {
    "duration": 49,
    "start_time": "2022-09-13T20:55:37.315Z"
   },
   {
    "duration": 28,
    "start_time": "2022-09-13T20:55:37.365Z"
   },
   {
    "duration": 21,
    "start_time": "2022-09-13T20:55:37.395Z"
   },
   {
    "duration": 33,
    "start_time": "2022-09-13T20:55:37.418Z"
   },
   {
    "duration": 4,
    "start_time": "2022-09-13T20:55:37.453Z"
   },
   {
    "duration": 17,
    "start_time": "2022-09-13T20:55:37.459Z"
   },
   {
    "duration": 24,
    "start_time": "2022-09-13T20:55:37.478Z"
   },
   {
    "duration": 57,
    "start_time": "2022-09-13T20:55:37.504Z"
   },
   {
    "duration": 36,
    "start_time": "2022-09-13T20:57:22.368Z"
   },
   {
    "duration": 96,
    "start_time": "2022-09-13T20:58:13.354Z"
   },
   {
    "duration": 509,
    "start_time": "2022-09-13T20:58:16.102Z"
   }
  ],
  "colab": {
   "name": "dpp_template_part2.ipynb",
   "provenance": []
  },
  "kernelspec": {
   "display_name": "Python 3 (ipykernel)",
   "language": "python",
   "name": "python3"
  },
  "language_info": {
   "codemirror_mode": {
    "name": "ipython",
    "version": 3
   },
   "file_extension": ".py",
   "mimetype": "text/x-python",
   "name": "python",
   "nbconvert_exporter": "python",
   "pygments_lexer": "ipython3",
   "version": "3.9.12"
  },
  "toc": {
   "base_numbering": 1,
   "nav_menu": {},
   "number_sections": true,
   "sideBar": true,
   "skip_h1_title": true,
   "title_cell": "Table of Contents",
   "title_sidebar": "Contents",
   "toc_cell": false,
   "toc_position": {},
   "toc_section_display": true,
   "toc_window_display": false
  }
 },
 "nbformat": 4,
 "nbformat_minor": 5
}
