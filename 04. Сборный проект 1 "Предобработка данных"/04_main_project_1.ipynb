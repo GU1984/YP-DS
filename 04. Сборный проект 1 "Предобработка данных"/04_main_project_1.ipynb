{
 "cells": [
  {
   "cell_type": "markdown",
   "metadata": {},
   "source": [
    "### Данные и общая информация"
   ]
  },
  {
   "cell_type": "markdown",
   "metadata": {},
   "source": [
    "# Описание\n",
    "\n",
    "Интернет-магазине «Стримчик», который продаёт по всему миру компьютерные игры. \n",
    "Доступны исторические данные о продажах игр, оценки пользователей и экспертов, жанры и платформы (Xbox, PlayStation и т.д.). Данные до 2016 года. "
   ]
  },
  {
   "cell_type": "markdown",
   "metadata": {},
   "source": [
    "# План:\n",
    "1. Подготовка данных:\n",
    "    - Замена названия столбцов (к нижнему регистру);\n",
    "    - Преобразование данных в нужные типы;\n",
    "    - Обработка пропусков при необходимости;\n",
    "    - Расчет суммарных продаж во всех регионах и запись их в отдельный столбец.\n",
    "2. Исследовательский анализ данных:\n",
    "    - Сколько игр выпускалось в разные годы;\n",
    "    - Как менялись продажи по платформам;\n",
    "    - Выбор актуального  периода;\n",
    "    - Какие платформы лидируют по продажам, растут или падают;\n",
    "    - График «ящик с усами» по глобальным продажам игр в разбивке по платформам;\n",
    "    - Как влияют на продажи внутри одной популярной платформы отзывы пользователей и критиков;\n",
    "    - Общее распределение игр по жанрам. \n",
    "    \n",
    "3. Составление портрета пользователя каждого региона:\n",
    "    - Определить для пользователя каждого региона (NA, EU, JP):\n",
    "        - Самые популярные платформы (топ-5);\n",
    "        - Самые популярные жанры (топ-5).\n",
    "        - Влияет ли рейтинг ESRB на продажи в отдельном регионе?\n",
    "4. Проверка гипотез:\n",
    "    - Средние пользовательские рейтинги платформ Xbox One и PC одинаковые;\n",
    "    - Средние пользовательские рейтинги жанров Action (англ. «действие», экшен-игры) и Sports (англ. «спортивные соревнования») разные.\n",
    "5. Выводы"
   ]
  },
  {
   "cell_type": "markdown",
   "metadata": {},
   "source": [
    "#### Данные"
   ]
  },
  {
   "cell_type": "code",
   "execution_count": 316,
   "metadata": {},
   "outputs": [],
   "source": [
    "import pandas as pd\n",
    "import seaborn as sb"
   ]
  },
  {
   "cell_type": "code",
   "execution_count": 317,
   "metadata": {},
   "outputs": [],
   "source": [
    "data = pd.read_csv('/datasets/games.csv')"
   ]
  },
  {
   "cell_type": "markdown",
   "metadata": {},
   "source": [
    "#### Вывод 5 строк"
   ]
  },
  {
   "cell_type": "code",
   "execution_count": 318,
   "metadata": {},
   "outputs": [
    {
     "data": {
      "text/html": [
       "<div>\n",
       "<style scoped>\n",
       "    .dataframe tbody tr th:only-of-type {\n",
       "        vertical-align: middle;\n",
       "    }\n",
       "\n",
       "    .dataframe tbody tr th {\n",
       "        vertical-align: top;\n",
       "    }\n",
       "\n",
       "    .dataframe thead th {\n",
       "        text-align: right;\n",
       "    }\n",
       "</style>\n",
       "<table border=\"1\" class=\"dataframe\">\n",
       "  <thead>\n",
       "    <tr style=\"text-align: right;\">\n",
       "      <th></th>\n",
       "      <th>Name</th>\n",
       "      <th>Platform</th>\n",
       "      <th>Year_of_Release</th>\n",
       "      <th>Genre</th>\n",
       "      <th>NA_sales</th>\n",
       "      <th>EU_sales</th>\n",
       "      <th>JP_sales</th>\n",
       "      <th>Other_sales</th>\n",
       "      <th>Critic_Score</th>\n",
       "      <th>User_Score</th>\n",
       "      <th>Rating</th>\n",
       "    </tr>\n",
       "  </thead>\n",
       "  <tbody>\n",
       "    <tr>\n",
       "      <th>0</th>\n",
       "      <td>Wii Sports</td>\n",
       "      <td>Wii</td>\n",
       "      <td>2006.0</td>\n",
       "      <td>Sports</td>\n",
       "      <td>41.36</td>\n",
       "      <td>28.96</td>\n",
       "      <td>3.77</td>\n",
       "      <td>8.45</td>\n",
       "      <td>76.0</td>\n",
       "      <td>8</td>\n",
       "      <td>E</td>\n",
       "    </tr>\n",
       "    <tr>\n",
       "      <th>1</th>\n",
       "      <td>Super Mario Bros.</td>\n",
       "      <td>NES</td>\n",
       "      <td>1985.0</td>\n",
       "      <td>Platform</td>\n",
       "      <td>29.08</td>\n",
       "      <td>3.58</td>\n",
       "      <td>6.81</td>\n",
       "      <td>0.77</td>\n",
       "      <td>NaN</td>\n",
       "      <td>NaN</td>\n",
       "      <td>NaN</td>\n",
       "    </tr>\n",
       "    <tr>\n",
       "      <th>2</th>\n",
       "      <td>Mario Kart Wii</td>\n",
       "      <td>Wii</td>\n",
       "      <td>2008.0</td>\n",
       "      <td>Racing</td>\n",
       "      <td>15.68</td>\n",
       "      <td>12.76</td>\n",
       "      <td>3.79</td>\n",
       "      <td>3.29</td>\n",
       "      <td>82.0</td>\n",
       "      <td>8.3</td>\n",
       "      <td>E</td>\n",
       "    </tr>\n",
       "    <tr>\n",
       "      <th>3</th>\n",
       "      <td>Wii Sports Resort</td>\n",
       "      <td>Wii</td>\n",
       "      <td>2009.0</td>\n",
       "      <td>Sports</td>\n",
       "      <td>15.61</td>\n",
       "      <td>10.93</td>\n",
       "      <td>3.28</td>\n",
       "      <td>2.95</td>\n",
       "      <td>80.0</td>\n",
       "      <td>8</td>\n",
       "      <td>E</td>\n",
       "    </tr>\n",
       "    <tr>\n",
       "      <th>4</th>\n",
       "      <td>Pokemon Red/Pokemon Blue</td>\n",
       "      <td>GB</td>\n",
       "      <td>1996.0</td>\n",
       "      <td>Role-Playing</td>\n",
       "      <td>11.27</td>\n",
       "      <td>8.89</td>\n",
       "      <td>10.22</td>\n",
       "      <td>1.00</td>\n",
       "      <td>NaN</td>\n",
       "      <td>NaN</td>\n",
       "      <td>NaN</td>\n",
       "    </tr>\n",
       "    <tr>\n",
       "      <th>5</th>\n",
       "      <td>Tetris</td>\n",
       "      <td>GB</td>\n",
       "      <td>1989.0</td>\n",
       "      <td>Puzzle</td>\n",
       "      <td>23.20</td>\n",
       "      <td>2.26</td>\n",
       "      <td>4.22</td>\n",
       "      <td>0.58</td>\n",
       "      <td>NaN</td>\n",
       "      <td>NaN</td>\n",
       "      <td>NaN</td>\n",
       "    </tr>\n",
       "    <tr>\n",
       "      <th>6</th>\n",
       "      <td>New Super Mario Bros.</td>\n",
       "      <td>DS</td>\n",
       "      <td>2006.0</td>\n",
       "      <td>Platform</td>\n",
       "      <td>11.28</td>\n",
       "      <td>9.14</td>\n",
       "      <td>6.50</td>\n",
       "      <td>2.88</td>\n",
       "      <td>89.0</td>\n",
       "      <td>8.5</td>\n",
       "      <td>E</td>\n",
       "    </tr>\n",
       "    <tr>\n",
       "      <th>7</th>\n",
       "      <td>Wii Play</td>\n",
       "      <td>Wii</td>\n",
       "      <td>2006.0</td>\n",
       "      <td>Misc</td>\n",
       "      <td>13.96</td>\n",
       "      <td>9.18</td>\n",
       "      <td>2.93</td>\n",
       "      <td>2.84</td>\n",
       "      <td>58.0</td>\n",
       "      <td>6.6</td>\n",
       "      <td>E</td>\n",
       "    </tr>\n",
       "    <tr>\n",
       "      <th>8</th>\n",
       "      <td>New Super Mario Bros. Wii</td>\n",
       "      <td>Wii</td>\n",
       "      <td>2009.0</td>\n",
       "      <td>Platform</td>\n",
       "      <td>14.44</td>\n",
       "      <td>6.94</td>\n",
       "      <td>4.70</td>\n",
       "      <td>2.24</td>\n",
       "      <td>87.0</td>\n",
       "      <td>8.4</td>\n",
       "      <td>E</td>\n",
       "    </tr>\n",
       "    <tr>\n",
       "      <th>9</th>\n",
       "      <td>Duck Hunt</td>\n",
       "      <td>NES</td>\n",
       "      <td>1984.0</td>\n",
       "      <td>Shooter</td>\n",
       "      <td>26.93</td>\n",
       "      <td>0.63</td>\n",
       "      <td>0.28</td>\n",
       "      <td>0.47</td>\n",
       "      <td>NaN</td>\n",
       "      <td>NaN</td>\n",
       "      <td>NaN</td>\n",
       "    </tr>\n",
       "  </tbody>\n",
       "</table>\n",
       "</div>"
      ],
      "text/plain": [
       "                        Name Platform  Year_of_Release         Genre  \\\n",
       "0                 Wii Sports      Wii           2006.0        Sports   \n",
       "1          Super Mario Bros.      NES           1985.0      Platform   \n",
       "2             Mario Kart Wii      Wii           2008.0        Racing   \n",
       "3          Wii Sports Resort      Wii           2009.0        Sports   \n",
       "4   Pokemon Red/Pokemon Blue       GB           1996.0  Role-Playing   \n",
       "5                     Tetris       GB           1989.0        Puzzle   \n",
       "6      New Super Mario Bros.       DS           2006.0      Platform   \n",
       "7                   Wii Play      Wii           2006.0          Misc   \n",
       "8  New Super Mario Bros. Wii      Wii           2009.0      Platform   \n",
       "9                  Duck Hunt      NES           1984.0       Shooter   \n",
       "\n",
       "   NA_sales  EU_sales  JP_sales  Other_sales  Critic_Score User_Score Rating  \n",
       "0     41.36     28.96      3.77         8.45          76.0          8      E  \n",
       "1     29.08      3.58      6.81         0.77           NaN        NaN    NaN  \n",
       "2     15.68     12.76      3.79         3.29          82.0        8.3      E  \n",
       "3     15.61     10.93      3.28         2.95          80.0          8      E  \n",
       "4     11.27      8.89     10.22         1.00           NaN        NaN    NaN  \n",
       "5     23.20      2.26      4.22         0.58           NaN        NaN    NaN  \n",
       "6     11.28      9.14      6.50         2.88          89.0        8.5      E  \n",
       "7     13.96      9.18      2.93         2.84          58.0        6.6      E  \n",
       "8     14.44      6.94      4.70         2.24          87.0        8.4      E  \n",
       "9     26.93      0.63      0.28         0.47           NaN        NaN    NaN  "
      ]
     },
     "metadata": {},
     "output_type": "display_data"
    }
   ],
   "source": [
    "display(data.head(10))"
   ]
  },
  {
   "cell_type": "markdown",
   "metadata": {},
   "source": [
    "#### Общая информация о таблице"
   ]
  },
  {
   "cell_type": "code",
   "execution_count": 319,
   "metadata": {},
   "outputs": [
    {
     "name": "stdout",
     "output_type": "stream",
     "text": [
      "<class 'pandas.core.frame.DataFrame'>\n",
      "RangeIndex: 16715 entries, 0 to 16714\n",
      "Data columns (total 11 columns):\n",
      " #   Column           Non-Null Count  Dtype  \n",
      "---  ------           --------------  -----  \n",
      " 0   Name             16713 non-null  object \n",
      " 1   Platform         16715 non-null  object \n",
      " 2   Year_of_Release  16446 non-null  float64\n",
      " 3   Genre            16713 non-null  object \n",
      " 4   NA_sales         16715 non-null  float64\n",
      " 5   EU_sales         16715 non-null  float64\n",
      " 6   JP_sales         16715 non-null  float64\n",
      " 7   Other_sales      16715 non-null  float64\n",
      " 8   Critic_Score     8137 non-null   float64\n",
      " 9   User_Score       10014 non-null  object \n",
      " 10  Rating           9949 non-null   object \n",
      "dtypes: float64(6), object(5)\n",
      "memory usage: 1.4+ MB\n"
     ]
    }
   ],
   "source": [
    "#Информации о таблице\n",
    "data.info()"
   ]
  },
  {
   "cell_type": "markdown",
   "metadata": {},
   "source": [
    "### Подготовка данных"
   ]
  },
  {
   "cell_type": "markdown",
   "metadata": {},
   "source": [
    "#### Замена названия столбцов (приведим к нижнему регистру)"
   ]
  },
  {
   "cell_type": "code",
   "execution_count": 320,
   "metadata": {},
   "outputs": [],
   "source": [
    "data = data.rename(columns={\n",
    "    'Name':'name',\n",
    "    'Platform':'platform',\n",
    "    'Year_of_Release': 'year_of_release',\n",
    "    'Genre': 'genre',\n",
    "    'NA_sales':'na_sales',\n",
    "    'EU_sales':'eu_sales',\n",
    "    'JP_sales':'jp_sales',\n",
    "    'Other_sales':'other_sales',\n",
    "    'Critic_Score':'critic_score',\n",
    "    'User_Score':'user_score',\n",
    "    'Rating':'rating'\n",
    "})"
   ]
  },
  {
   "cell_type": "markdown",
   "metadata": {},
   "source": [
    "#### Преобразование данных в нужные типы."
   ]
  },
  {
   "cell_type": "code",
   "execution_count": 321,
   "metadata": {},
   "outputs": [
    {
     "data": {
      "text/plain": [
       "array(['8', nan, '8.3', '8.5', '6.6', '8.4', '8.6', '7.7', '6.3', '7.4',\n",
       "       '8.2', '9', '7.9', '8.1', '8.7', '7.1', '3.4', '5.3', '4.8', '3.2',\n",
       "       '8.9', '6.4', '7.8', '7.5', '2.6', '7.2', '9.2', '7', '7.3', '4.3',\n",
       "       '7.6', '5.7', '5', '9.1', '6.5', 'tbd', '8.8', '6.9', '9.4', '6.8',\n",
       "       '6.1', '6.7', '5.4', '4', '4.9', '4.5', '9.3', '6.2', '4.2', '6',\n",
       "       '3.7', '4.1', '5.8', '5.6', '5.5', '4.4', '4.6', '5.9', '3.9',\n",
       "       '3.1', '2.9', '5.2', '3.3', '4.7', '5.1', '3.5', '2.5', '1.9', '3',\n",
       "       '2.7', '2.2', '2', '9.5', '2.1', '3.6', '2.8', '1.8', '3.8', '0',\n",
       "       '1.6', '9.6', '2.4', '1.7', '1.1', '0.3', '1.5', '0.7', '1.2',\n",
       "       '2.3', '0.5', '1.3', '0.2', '0.6', '1.4', '0.9', '1', '9.7'],\n",
       "      dtype=object)"
      ]
     },
     "execution_count": 321,
     "metadata": {},
     "output_type": "execute_result"
    }
   ],
   "source": [
    "data['user_score'].unique()"
   ]
  },
  {
   "cell_type": "code",
   "execution_count": 322,
   "metadata": {},
   "outputs": [],
   "source": [
    "# замена tbd на nan, nan отсавим без именений\n",
    "data['user_score'] = data['user_score'].replace('tbd','nan')\n",
    "# заменим тип данных в столбце 'user_score'\n",
    "data['user_score'] = pd.to_numeric(data['user_score'], errors = 'coerce')\n"
   ]
  },
  {
   "cell_type": "markdown",
   "metadata": {},
   "source": [
    "#### Обработка пропусков."
   ]
  },
  {
   "cell_type": "code",
   "execution_count": 323,
   "metadata": {},
   "outputs": [],
   "source": [
    "# удалим пропуски в столбцах 'year_of_release', 'genre'\n",
    "data = data.dropna(subset=['year_of_release', 'genre'])"
   ]
  },
  {
   "cell_type": "code",
   "execution_count": 326,
   "metadata": {},
   "outputs": [],
   "source": [
    "#пропуски в столбце rating заполним заглушкой unknown\n",
    "data['rating']=data['rating'].fillna(value='unknown')"
   ]
  },
  {
   "cell_type": "code",
   "execution_count": 327,
   "metadata": {},
   "outputs": [
    {
     "data": {
      "text/plain": [
       "unknown    6676\n",
       "E          3921\n",
       "T          2905\n",
       "M          1536\n",
       "E10+       1393\n",
       "EC            8\n",
       "K-A           3\n",
       "RP            1\n",
       "AO            1\n",
       "Name: rating, dtype: int64"
      ]
     },
     "execution_count": 327,
     "metadata": {},
     "output_type": "execute_result"
    }
   ],
   "source": [
    "data['rating'].value_counts()"
   ]
  },
  {
   "cell_type": "markdown",
   "metadata": {},
   "source": [
    "#### Cуммарные продажи во всех регионах."
   ]
  },
  {
   "cell_type": "code",
   "execution_count": 328,
   "metadata": {},
   "outputs": [],
   "source": [
    "#  Создадим столбец с суммарным количеством продаж по всем регионам\n",
    "data['total_sales'] = data['na_sales'] + data['eu_sales'] + data['jp_sales'] + data['other_sales'] "
   ]
  },
  {
   "cell_type": "code",
   "execution_count": 329,
   "metadata": {},
   "outputs": [
    {
     "name": "stdout",
     "output_type": "stream",
     "text": [
      "<class 'pandas.core.frame.DataFrame'>\n",
      "Int64Index: 16444 entries, 0 to 16714\n",
      "Data columns (total 12 columns):\n",
      " #   Column           Non-Null Count  Dtype  \n",
      "---  ------           --------------  -----  \n",
      " 0   name             16444 non-null  object \n",
      " 1   platform         16444 non-null  object \n",
      " 2   year_of_release  16444 non-null  float64\n",
      " 3   genre            16444 non-null  object \n",
      " 4   na_sales         16444 non-null  float64\n",
      " 5   eu_sales         16444 non-null  float64\n",
      " 6   jp_sales         16444 non-null  float64\n",
      " 7   other_sales      16444 non-null  float64\n",
      " 8   critic_score     7983 non-null   float64\n",
      " 9   user_score       7463 non-null   float64\n",
      " 10  rating           16444 non-null  object \n",
      " 11  total_sales      16444 non-null  float64\n",
      "dtypes: float64(8), object(4)\n",
      "memory usage: 1.6+ MB\n"
     ]
    }
   ],
   "source": [
    "data.info()"
   ]
  },
  {
   "cell_type": "markdown",
   "metadata": {},
   "source": [
    "#### Промежуточный вывод:"
   ]
  },
  {
   "cell_type": "markdown",
   "metadata": {},
   "source": [
    "В процессе подготовки данных было сделано:\n",
    "- Привели столбцы к нижнему регистру;\n",
    "- Произвели преобразование данных в столбце 'user_score' к числовому;\n",
    "- Посчитали суммарные продажи во всех регионах и записали в отдельный столбец."
   ]
  },
  {
   "cell_type": "markdown",
   "metadata": {},
   "source": [
    "### Исследовательский анализ данных"
   ]
  },
  {
   "cell_type": "markdown",
   "metadata": {},
   "source": [
    "#### Сколько игр выпускалось в разные годы. Важны ли данные за все периоды?"
   ]
  },
  {
   "cell_type": "markdown",
   "metadata": {},
   "source": [
    "##### Сгрупируем данные по столбцу год."
   ]
  },
  {
   "cell_type": "code",
   "execution_count": 330,
   "metadata": {},
   "outputs": [
    {
     "name": "stdout",
     "output_type": "stream",
     "text": [
      "year_of_release\n",
      "1980.0       9\n",
      "1981.0      46\n",
      "1982.0      36\n",
      "1983.0      17\n",
      "1984.0      14\n",
      "1985.0      14\n",
      "1986.0      21\n",
      "1987.0      16\n",
      "1988.0      15\n",
      "1989.0      17\n",
      "1990.0      16\n",
      "1991.0      41\n",
      "1992.0      43\n",
      "1993.0      60\n",
      "1994.0     121\n",
      "1995.0     219\n",
      "1996.0     263\n",
      "1997.0     289\n",
      "1998.0     379\n",
      "1999.0     338\n",
      "2000.0     350\n",
      "2001.0     482\n",
      "2002.0     829\n",
      "2003.0     775\n",
      "2004.0     762\n",
      "2005.0     939\n",
      "2006.0    1006\n",
      "2007.0    1197\n",
      "2008.0    1427\n",
      "2009.0    1426\n",
      "2010.0    1255\n",
      "2011.0    1136\n",
      "2012.0     653\n",
      "2013.0     544\n",
      "2014.0     581\n",
      "2015.0     606\n",
      "2016.0     502\n",
      "Name: year_of_release, dtype: int64\n"
     ]
    }
   ],
   "source": [
    "data_groupby_year = data.groupby('year_of_release')['year_of_release'].count()\n",
    "print(data_groupby_year)"
   ]
  },
  {
   "cell_type": "markdown",
   "metadata": {},
   "source": [
    "##### Построим график для наглядности"
   ]
  },
  {
   "cell_type": "code",
   "execution_count": 331,
   "metadata": {},
   "outputs": [
    {
     "data": {
      "image/png": "[encoded data removed]",
      "text/plain": [
       "<Figure size 864x360 with 1 Axes>"
      ]
     },
     "metadata": {
      "needs_background": "light"
     },
     "output_type": "display_data"
    }
   ],
   "source": [
    "(\n",
    "    data\n",
    "    .pivot_table(index='year_of_release', values='name', aggfunc='count')\n",
    "    .plot(grid=True, xlabel= 'Год',  ylabel = 'Кол-во игр', legend= False, figsize=(12, 5))\n",
    "    .set_title('Кол-во игр выпущенных в год' + \"\\n\", fontsize = 22, color = 'SteelBlue')\n",
    ");"
   ]
  },
  {
   "cell_type": "markdown",
   "metadata": {},
   "source": [
    "Из графика видно, что\n",
    "- до 1990 года объем выпускаемых игр был малым,\n",
    "- в дальнешем анализе этимим данными можно либо пренебречь."
   ]
  },
  {
   "cell_type": "markdown",
   "metadata": {},
   "source": [
    "#### Зависимость продаж по платформам. Выберите платформы с наибольшими суммарными продажами и постройте распределение по годам. За какой характерный срок появляются новые и исчезают старые платформы?"
   ]
  },
  {
   "cell_type": "code",
   "execution_count": 332,
   "metadata": {},
   "outputs": [
    {
     "name": "stdout",
     "output_type": "stream",
     "text": [
      "platform\n",
      "PS2     1233.56\n",
      "X360     961.24\n",
      "PS3      931.34\n",
      "Wii      891.18\n",
      "DS       802.78\n",
      "PS       727.58\n",
      "PS4      314.14\n",
      "GBA      312.88\n",
      "PSP      289.53\n",
      "3DS      257.81\n",
      "PC       255.76\n",
      "GB       254.43\n",
      "XB       251.57\n",
      "NES      251.05\n",
      "N64      218.01\n",
      "SNES     200.04\n",
      "GC       196.73\n",
      "XOne     159.32\n",
      "2600      86.48\n",
      "WiiU      82.19\n",
      "Name: total_sales, dtype: float64\n"
     ]
    }
   ],
   "source": [
    "# Сгруппируем данные для каждой платформы по суммарным продажам и выберем топ платформ.\n",
    "print(data.groupby('platform')['total_sales'].sum().sort_values(ascending=False).head(20))"
   ]
  },
  {
   "cell_type": "markdown",
   "metadata": {},
   "source": [
    "Топ платформ по продажам - это первые 6 платформ."
   ]
  },
  {
   "cell_type": "code",
   "execution_count": 333,
   "metadata": {},
   "outputs": [
    {
     "data": {
      "text/html": [
       "<div>\n",
       "<style scoped>\n",
       "    .dataframe tbody tr th:only-of-type {\n",
       "        vertical-align: middle;\n",
       "    }\n",
       "\n",
       "    .dataframe tbody tr th {\n",
       "        vertical-align: top;\n",
       "    }\n",
       "\n",
       "    .dataframe thead th {\n",
       "        text-align: right;\n",
       "    }\n",
       "</style>\n",
       "<table border=\"1\" class=\"dataframe\">\n",
       "  <thead>\n",
       "    <tr style=\"text-align: right;\">\n",
       "      <th></th>\n",
       "      <th>sales</th>\n",
       "    </tr>\n",
       "    <tr>\n",
       "      <th>platform</th>\n",
       "      <th></th>\n",
       "    </tr>\n",
       "  </thead>\n",
       "  <tbody>\n",
       "    <tr>\n",
       "      <th>PS2</th>\n",
       "      <td>1233.56</td>\n",
       "    </tr>\n",
       "    <tr>\n",
       "      <th>X360</th>\n",
       "      <td>961.24</td>\n",
       "    </tr>\n",
       "    <tr>\n",
       "      <th>PS3</th>\n",
       "      <td>931.34</td>\n",
       "    </tr>\n",
       "    <tr>\n",
       "      <th>Wii</th>\n",
       "      <td>891.18</td>\n",
       "    </tr>\n",
       "    <tr>\n",
       "      <th>DS</th>\n",
       "      <td>802.78</td>\n",
       "    </tr>\n",
       "    <tr>\n",
       "      <th>PS</th>\n",
       "      <td>727.58</td>\n",
       "    </tr>\n",
       "  </tbody>\n",
       "</table>\n",
       "</div>"
      ],
      "text/plain": [
       "            sales\n",
       "platform         \n",
       "PS2       1233.56\n",
       "X360       961.24\n",
       "PS3        931.34\n",
       "Wii        891.18\n",
       "DS         802.78\n",
       "PS         727.58"
      ]
     },
     "metadata": {},
     "output_type": "display_data"
    }
   ],
   "source": [
    "# соберем сводную таблтцу по названию  платформы и расчитаем общие продажи\n",
    "platform_name_stаt = data.pivot_table(index=['platform'], values='total_sales', aggfunc='sum')\n",
    "# переименуем названия столбцов\n",
    "platform_name_stаt.columns = ['sales']\n",
    "# оставим только 6 платформ с самыми большими продажами\n",
    "platform_name_stаt = platform_name_stаt.sort_values(by='sales',ascending=False).head(6)\n",
    "# выведем на экран таблтцу\n",
    "display(platform_name_stаt)"
   ]
  },
  {
   "cell_type": "code",
   "execution_count": 334,
   "metadata": {},
   "outputs": [
    {
     "data": {
      "image/png": "[encoded data removed]",
      "text/plain": [
       "<Figure size 864x360 with 1 Axes>"
      ]
     },
     "metadata": {
      "needs_background": "light"
     },
     "output_type": "display_data"
    }
   ],
   "source": [
    "(\n",
    "    data\n",
    "    .query('platform in @platform_name_stаt.index')\n",
    "    .pivot_table(index='year_of_release',columns='platform', values='total_sales', aggfunc='sum')\n",
    "    .plot(grid=True, xlabel='Год',ylabel='Кол-во игр', figsize=(12, 5))\n",
    "    .set_title('Распределение продаж по годам топ-6 платформ' + \"\\n\", fontsize = 22, color = 'SteelBlue')\n",
    ");"
   ]
  },
  {
   "cell_type": "markdown",
   "metadata": {},
   "source": [
    "Из приведенных выше графиков видно, что срок жизни платформы составляет в среднем не более 10 лет."
   ]
  },
  {
   "cell_type": "markdown",
   "metadata": {},
   "source": [
    "#### Выбор данных за соответствующий актуальный период. Основной фактор — эти данные помогут построить прогноз на 2017 год. Не учитывайте в работе данные за предыдущие годы."
   ]
  },
  {
   "cell_type": "markdown",
   "metadata": {},
   "source": [
    "В качестве актуального периода выберем диапозон с 2013 года до 2016. Для этого периода характерно:\n",
    "- появляются новые платформы, которые могут представлять интерес в будущем,\n",
    "- верхнее ограничение берем поскольку данные за 2016 год на данном этапе могут быть не полными,\n",
    "- нет платформы, которые уже заканчивают свою \"жизнь\" в данном периоде."
   ]
  },
  {
   "cell_type": "code",
   "execution_count": 335,
   "metadata": {},
   "outputs": [],
   "source": [
    "# актцальные данные которые будем использовать при дальнейшем анализе.\n",
    "actual_data = data.query('year_of_release>2012')"
   ]
  },
  {
   "cell_type": "markdown",
   "metadata": {},
   "source": [
    "#### Какие платформы лидируют по продажам, растут или падают? Выберите несколько потенциально прибыльных платформ."
   ]
  },
  {
   "cell_type": "markdown",
   "metadata": {},
   "source": [
    "##### Определим Топ-5 прибыльных платформ за последнии 4 года."
   ]
  },
  {
   "cell_type": "code",
   "execution_count": 336,
   "metadata": {},
   "outputs": [
    {
     "data": {
      "text/html": [
       "<div>\n",
       "<style scoped>\n",
       "    .dataframe tbody tr th:only-of-type {\n",
       "        vertical-align: middle;\n",
       "    }\n",
       "\n",
       "    .dataframe tbody tr th {\n",
       "        vertical-align: top;\n",
       "    }\n",
       "\n",
       "    .dataframe thead th {\n",
       "        text-align: right;\n",
       "    }\n",
       "</style>\n",
       "<table border=\"1\" class=\"dataframe\">\n",
       "  <thead>\n",
       "    <tr style=\"text-align: right;\">\n",
       "      <th></th>\n",
       "      <th>sales</th>\n",
       "    </tr>\n",
       "    <tr>\n",
       "      <th>platform</th>\n",
       "      <th></th>\n",
       "    </tr>\n",
       "  </thead>\n",
       "  <tbody>\n",
       "    <tr>\n",
       "      <th>PS4</th>\n",
       "      <td>314.14</td>\n",
       "    </tr>\n",
       "    <tr>\n",
       "      <th>PS3</th>\n",
       "      <td>181.43</td>\n",
       "    </tr>\n",
       "    <tr>\n",
       "      <th>XOne</th>\n",
       "      <td>159.32</td>\n",
       "    </tr>\n",
       "    <tr>\n",
       "      <th>3DS</th>\n",
       "      <td>143.25</td>\n",
       "    </tr>\n",
       "    <tr>\n",
       "      <th>X360</th>\n",
       "      <td>136.80</td>\n",
       "    </tr>\n",
       "  </tbody>\n",
       "</table>\n",
       "</div>"
      ],
      "text/plain": [
       "           sales\n",
       "platform        \n",
       "PS4       314.14\n",
       "PS3       181.43\n",
       "XOne      159.32\n",
       "3DS       143.25\n",
       "X360      136.80"
      ]
     },
     "metadata": {},
     "output_type": "display_data"
    }
   ],
   "source": [
    "# соберем сводную таблицу по названию платформы и расчитаем общие продажи\n",
    "actual_data_stat = actual_data.pivot_table(index=['platform'], values='total_sales', aggfunc='sum')\n",
    "# переименуем названия столбцов\n",
    "actual_data_stat.columns = ['sales']\n",
    "# оставим только 5 платформ с самыми большими продажами\n",
    "actual_data_stat = actual_data_stat.sort_values(by='sales',ascending=False).head(5)\n",
    "# выведем на экран таблицу\n",
    "display(actual_data_stat)"
   ]
  },
  {
   "cell_type": "markdown",
   "metadata": {},
   "source": [
    "Из приведенной выше таблицы видно, что лидерами являются первые 5 платформ."
   ]
  },
  {
   "cell_type": "markdown",
   "metadata": {},
   "source": [
    "### График распределения продаж с 2012 года за  4 года для топ-5 платформ."
   ]
  },
  {
   "cell_type": "code",
   "execution_count": 337,
   "metadata": {},
   "outputs": [
    {
     "data": {
      "image/png": "[encoded data removed]",
      "text/plain": [
       "<Figure size 864x360 with 1 Axes>"
      ]
     },
     "metadata": {
      "needs_background": "light"
     },
     "output_type": "display_data"
    }
   ],
   "source": [
    "(\n",
    "    actual_data\n",
    "    .query('platform in @actual_data_stat.index')\n",
    "    .pivot_table(index='year_of_release',columns='platform', values='total_sales', aggfunc='sum')\n",
    "    .plot(grid=True, xlabel='Год',ylabel='Продажи', figsize=(12, 5))\n",
    "    .set_title('Распределение продаж по годам топ-5 платформ' + \"\\n\", fontsize = 22, color = 'SteelBlue')\n",
    ");"
   ]
  },
  {
   "cell_type": "markdown",
   "metadata": {},
   "source": [
    "##### Промежуточный вывод:\n",
    "- За последнии 4 года появилось 2 новые платофрмы: PS4 и XONE;\n",
    "- Эти две платформы показали рост продаж;\n",
    "- Поскольку срок жизни платформы составляет не более 10 лет, наиболее интерсными и прибыльными могут оказаться платформы PS4 и XONE, поскольку они показывали рост в период с 2013 по 2015 год.\n",
    "- объем продаж приходящийся на две новые платофрмы существенно больше, чем объем продаж на остальные 3 платформы."
   ]
  },
  {
   "cell_type": "markdown",
   "metadata": {},
   "source": [
    "#### Постройте график «ящик с усами» по глобальным продажам игр в разбивке по платформам. Опишите результат."
   ]
  },
  {
   "cell_type": "code",
   "execution_count": 338,
   "metadata": {},
   "outputs": [],
   "source": [
    "import matplotlib.pyplot as plt"
   ]
  },
  {
   "cell_type": "markdown",
   "metadata": {},
   "source": [
    "##### Ящик с усами для платформ c учетом выбросов."
   ]
  },
  {
   "cell_type": "code",
   "execution_count": 339,
   "metadata": {},
   "outputs": [
    {
     "data": {
      "image/png": "[encoded data removed]",
      "text/plain": [
       "<Figure size 432x288 with 1 Axes>"
      ]
     },
     "metadata": {
      "needs_background": "light"
     },
     "output_type": "display_data"
    }
   ],
   "source": [
    "actual_data.boxplot(column='total_sales', by='platform', showfliers=True)\n",
    "plt.title('')\n",
    "plt.ylim(0, 2)\n",
    "plt.ylabel('Продажи')\n",
    "plt.xlabel('Платформы');"
   ]
  },
  {
   "cell_type": "markdown",
   "metadata": {},
   "source": [
    "##### Ящик с усами для платформ без учтеа выбросов."
   ]
  },
  {
   "cell_type": "code",
   "execution_count": 340,
   "metadata": {},
   "outputs": [
    {
     "data": {
      "image/png": "[encoded data removed]",
      "text/plain": [
       "<Figure size 432x288 with 1 Axes>"
      ]
     },
     "metadata": {
      "needs_background": "light"
     },
     "output_type": "display_data"
    }
   ],
   "source": [
    "actual_data.boxplot(column='total_sales', by='platform', showfliers=False)\n",
    "plt.title('')\n",
    "plt.ylim(0, 2)\n",
    "plt.ylabel('Продажи')\n",
    "plt.xlabel('Платформы');"
   ]
  },
  {
   "cell_type": "code",
   "execution_count": 342,
   "metadata": {},
   "outputs": [],
   "source": [
    "# удалим выбросы\n",
    "actual_data =  actual_data[actual_data['total_sales']<2]"
   ]
  },
  {
   "cell_type": "markdown",
   "metadata": {},
   "source": [
    "Из полученного графика видно, что:\n",
    "- продажи лежат в пределах диапозона до 2,\n",
    "- медианы лежат в диапозоне до 0,5."
   ]
  },
  {
   "cell_type": "markdown",
   "metadata": {},
   "source": [
    "#### Диаграмма рассения и корреляция между отзывами и продажами. "
   ]
  },
  {
   "cell_type": "markdown",
   "metadata": {},
   "source": [
    "##### Платформы XOne."
   ]
  },
  {
   "cell_type": "code",
   "execution_count": 343,
   "metadata": {},
   "outputs": [
    {
     "data": {
      "image/png": "[encoded data removed]",
      "text/plain": [
       "<Figure size 576x288 with 1 Axes>"
      ]
     },
     "metadata": {
      "needs_background": "light"
     },
     "output_type": "display_data"
    }
   ],
   "source": [
    "(\n",
    "    actual_data\n",
    "    .query('platform == \"XOne\"')\n",
    "    .plot(x='user_score',\n",
    "          y='total_sales',\n",
    "          kind='scatter',\n",
    "          figsize=(8,4),\n",
    "          alpha=0.1,\n",
    "          xlabel='Отзывы пользователь',\n",
    "          ylabel='Продажи',\n",
    "          legend=False)\n",
    "    .set_title('Зависимость между продажами и отзывами пользователей платформа XOne' + \"\\n\", fontsize = 22, color = 'SteelBlue')\n",
    ");"
   ]
  },
  {
   "cell_type": "code",
   "execution_count": 344,
   "metadata": {},
   "outputs": [
    {
     "name": "stdout",
     "output_type": "stream",
     "text": [
      "0.07989048879133732\n"
     ]
    }
   ],
   "source": [
    "#Найдем коэффициент корреляции\n",
    "print(actual_data.query('platform == \"XOne\"')['user_score'].corr(data['total_sales']))"
   ]
  },
  {
   "cell_type": "code",
   "execution_count": 345,
   "metadata": {},
   "outputs": [
    {
     "data": {
      "image/png": "[encoded data removed]",
      "text/plain": [
       "<Figure size 576x288 with 1 Axes>"
      ]
     },
     "metadata": {
      "needs_background": "light"
     },
     "output_type": "display_data"
    }
   ],
   "source": [
    "(\n",
    "    actual_data\n",
    "    .query('platform == \"XOne\"')\n",
    "    .plot(x='critic_score',\n",
    "          y='total_sales',\n",
    "          kind='scatter',\n",
    "          figsize=(8,4),\n",
    "          alpha=0.1,\n",
    "          xlabel='Отзывы критиков',\n",
    "          ylabel='Продажи',\n",
    "          legend=False)\n",
    "    .set_title('Зависимость между продажами и отзывами критиков платформа XOne' + \"\\n\", fontsize = 22, color = 'SteelBlue')\n",
    ");"
   ]
  },
  {
   "cell_type": "code",
   "execution_count": 346,
   "metadata": {},
   "outputs": [
    {
     "name": "stdout",
     "output_type": "stream",
     "text": [
      "0.43369651269944526\n"
     ]
    }
   ],
   "source": [
    "#Найдем коэффициент корреляции\n",
    "print(actual_data.query('platform == \"XOne\"')['critic_score'].corr(data['total_sales']))"
   ]
  },
  {
   "cell_type": "markdown",
   "metadata": {},
   "source": [
    "Промежуточный вывод: продажи не зависят от мнения пользователей, но имеется средняя зависимость от мнения критиков."
   ]
  },
  {
   "cell_type": "markdown",
   "metadata": {},
   "source": [
    "##### Платформы  PS4."
   ]
  },
  {
   "cell_type": "code",
   "execution_count": 347,
   "metadata": {},
   "outputs": [
    {
     "data": {
      "image/png": "[encoded data removed]",
      "text/plain": [
       "<Figure size 576x288 with 1 Axes>"
      ]
     },
     "metadata": {
      "needs_background": "light"
     },
     "output_type": "display_data"
    }
   ],
   "source": [
    "(\n",
    "    actual_data\n",
    "    .query('platform == \"PS4\"')\n",
    "    .plot(x='user_score',\n",
    "          y='total_sales',\n",
    "          kind='scatter',\n",
    "          figsize=(8,4),\n",
    "          alpha=0.1,\n",
    "          xlabel='Отзывы пользователь',\n",
    "          ylabel='Продажи',\n",
    "          legend=False)\n",
    "    .set_title('Зависимость между продажами и отзывами пользователей платформа PS4' + \"\\n\", fontsize = 22, color = 'SteelBlue')\n",
    ");"
   ]
  },
  {
   "cell_type": "code",
   "execution_count": 348,
   "metadata": {},
   "outputs": [
    {
     "name": "stdout",
     "output_type": "stream",
     "text": [
      "-0.013177580196306398\n"
     ]
    }
   ],
   "source": [
    "#Найдем коэффициент корреляции\n",
    "print(actual_data.query('platform == \"PS4\"')['user_score'].corr(data['total_sales']))"
   ]
  },
  {
   "cell_type": "code",
   "execution_count": 349,
   "metadata": {},
   "outputs": [
    {
     "data": {
      "image/png": "[encoded data removed]",
      "text/plain": [
       "<Figure size 576x288 with 1 Axes>"
      ]
     },
     "metadata": {
      "needs_background": "light"
     },
     "output_type": "display_data"
    }
   ],
   "source": [
    "(\n",
    "    actual_data\n",
    "    .query('platform == \"PS4\"')\n",
    "    .plot(x='critic_score',\n",
    "          y='total_sales',\n",
    "          kind='scatter',\n",
    "          figsize=(8,4),\n",
    "          alpha=0.1,\n",
    "          xlabel='Отзывы критиков',\n",
    "          ylabel='Продажи',\n",
    "          legend=False)\n",
    "    .set_title('Зависимость между продажами и отзывами критиков платформа PS4' + \"\\n\", fontsize = 22, color = 'SteelBlue')\n",
    ");"
   ]
  },
  {
   "cell_type": "code",
   "execution_count": 350,
   "metadata": {},
   "outputs": [
    {
     "name": "stdout",
     "output_type": "stream",
     "text": [
      "0.2943676743921166\n"
     ]
    }
   ],
   "source": [
    "#Найдем коэффициент корреляции\n",
    "print(actual_data.query('platform == \"PS4\"')['critic_score'].corr(data['total_sales']))"
   ]
  },
  {
   "cell_type": "markdown",
   "metadata": {},
   "source": [
    "Промежуточный вывод: продажи на платформе PS4 не зависят от мнения пользователей, но имеется средняя зависимость от мнения критиков."
   ]
  },
  {
   "cell_type": "markdown",
   "metadata": {},
   "source": [
    "#### Соотнесите выводы с продажами игр на других платформах."
   ]
  },
  {
   "cell_type": "markdown",
   "metadata": {},
   "source": [
    "##### Сравним уровень кореляции проджа на других платформах с меннием критиков"
   ]
  },
  {
   "cell_type": "code",
   "execution_count": 351,
   "metadata": {},
   "outputs": [
    {
     "name": "stdout",
     "output_type": "stream",
     "text": [
      "Коэффциенты корреляции между продажамими и оценками критиков:\n",
      "0.2943676743921166\n",
      "0.46635646945577286\n",
      "0.18069228080399052\n",
      "0.4912768032145573\n",
      "0.43369651269944526\n"
     ]
    }
   ],
   "source": [
    "print('Коэффциенты корреляции между продажамими и оценками критиков:')\n",
    "print(actual_data.query('platform == \"PS4\"')['critic_score'].corr(data['total_sales']))\n",
    "print(actual_data.query('platform == \"PS3\"')['critic_score'].corr(data['total_sales']))\n",
    "print(actual_data.query('platform == \"3DS\"')['critic_score'].corr(data['total_sales']))\n",
    "print(actual_data.query('platform == \"X360\"')['critic_score'].corr(data['total_sales']))\n",
    "print(actual_data.query('platform == \"XOne\"')['critic_score'].corr(data['total_sales']))\n"
   ]
  },
  {
   "cell_type": "markdown",
   "metadata": {},
   "source": [
    "##### Сравним уровень кореляции продаж на других платформах с мнением пользователей"
   ]
  },
  {
   "cell_type": "code",
   "execution_count": 352,
   "metadata": {},
   "outputs": [
    {
     "name": "stdout",
     "output_type": "stream",
     "text": [
      "Коэффциенты корреляции между продажамими и оценками пользователей:\n",
      "-0.013177580196306398\n",
      "0.03260488672647325\n",
      "0.08701169155707066\n",
      "0.0713851230747753\n",
      "0.07989048879133732\n"
     ]
    }
   ],
   "source": [
    "print('Коэффциенты корреляции между продажамими и оценками пользователей:')\n",
    "print(actual_data.query('platform == \"PS4\"')['user_score'].corr(data['total_sales']))\n",
    "print(actual_data.query('platform == \"PS3\"')['user_score'].corr(data['total_sales']))\n",
    "print(actual_data.query('platform == \"3DS\"')['user_score'].corr(data['total_sales']))\n",
    "print(actual_data.query('platform == \"X360\"')['user_score'].corr(data['total_sales']))\n",
    "print(actual_data.query('platform == \"XOne\"')['user_score'].corr(data['total_sales']))"
   ]
  },
  {
   "cell_type": "markdown",
   "metadata": {},
   "source": [
    "Промежуточный вывод:\n",
    "- имеется средняя зависимость продаж от мнения критиков на всех потенциальных платформах,\n",
    "- мнение пользователей не влияет на продажи на всех платформах кроме 3DS,\n",
    "- на платформе 3DS есть слабая зависимость от мения пользователей на уровень продаж."
   ]
  },
  {
   "cell_type": "markdown",
   "metadata": {},
   "source": [
    "#### Общее распределение игр по жанрам. Что можно сказать о самых прибыльных жанрах? Выделяются ли жанры с высокими и низкими продажами?"
   ]
  },
  {
   "cell_type": "markdown",
   "metadata": {},
   "source": [
    "Для того, чтобы найти жанр, где игры стабильно приносят высокий доход -рассмотреть медианные продажи по каждому жанру."
   ]
  },
  {
   "cell_type": "code",
   "execution_count": 353,
   "metadata": {},
   "outputs": [
    {
     "data": {
      "text/html": [
       "<div>\n",
       "<style scoped>\n",
       "    .dataframe tbody tr th:only-of-type {\n",
       "        vertical-align: middle;\n",
       "    }\n",
       "\n",
       "    .dataframe tbody tr th {\n",
       "        vertical-align: top;\n",
       "    }\n",
       "\n",
       "    .dataframe thead th {\n",
       "        text-align: right;\n",
       "    }\n",
       "</style>\n",
       "<table border=\"1\" class=\"dataframe\">\n",
       "  <thead>\n",
       "    <tr style=\"text-align: right;\">\n",
       "      <th></th>\n",
       "      <th>total_sales</th>\n",
       "    </tr>\n",
       "    <tr>\n",
       "      <th>genre</th>\n",
       "      <th></th>\n",
       "    </tr>\n",
       "  </thead>\n",
       "  <tbody>\n",
       "    <tr>\n",
       "      <th>Shooter</th>\n",
       "      <td>0.335</td>\n",
       "    </tr>\n",
       "    <tr>\n",
       "      <th>Platform</th>\n",
       "      <td>0.185</td>\n",
       "    </tr>\n",
       "    <tr>\n",
       "      <th>Sports</th>\n",
       "      <td>0.175</td>\n",
       "    </tr>\n",
       "    <tr>\n",
       "      <th>Fighting</th>\n",
       "      <td>0.120</td>\n",
       "    </tr>\n",
       "    <tr>\n",
       "      <th>Role-Playing</th>\n",
       "      <td>0.120</td>\n",
       "    </tr>\n",
       "    <tr>\n",
       "      <th>Action</th>\n",
       "      <td>0.100</td>\n",
       "    </tr>\n",
       "    <tr>\n",
       "      <th>Racing</th>\n",
       "      <td>0.100</td>\n",
       "    </tr>\n",
       "    <tr>\n",
       "      <th>Misc</th>\n",
       "      <td>0.090</td>\n",
       "    </tr>\n",
       "    <tr>\n",
       "      <th>Simulation</th>\n",
       "      <td>0.090</td>\n",
       "    </tr>\n",
       "    <tr>\n",
       "      <th>Strategy</th>\n",
       "      <td>0.080</td>\n",
       "    </tr>\n",
       "    <tr>\n",
       "      <th>Puzzle</th>\n",
       "      <td>0.060</td>\n",
       "    </tr>\n",
       "    <tr>\n",
       "      <th>Adventure</th>\n",
       "      <td>0.030</td>\n",
       "    </tr>\n",
       "  </tbody>\n",
       "</table>\n",
       "</div>"
      ],
      "text/plain": [
       "              total_sales\n",
       "genre                    \n",
       "Shooter             0.335\n",
       "Platform            0.185\n",
       "Sports              0.175\n",
       "Fighting            0.120\n",
       "Role-Playing        0.120\n",
       "Action              0.100\n",
       "Racing              0.100\n",
       "Misc                0.090\n",
       "Simulation          0.090\n",
       "Strategy            0.080\n",
       "Puzzle              0.060\n",
       "Adventure           0.030"
      ]
     },
     "metadata": {},
     "output_type": "display_data"
    }
   ],
   "source": [
    "# соберем сводную таблицу по жанрам и расчитаем общие продажи\n",
    "genre_stаt = actual_data.pivot_table(index=['genre'], values='total_sales', aggfunc='median')\n",
    "# переименуем названия столбцов\n",
    "genre_stаt.columns = ['total_sales']\n",
    "# выведем на экран таблицу\n",
    "display(genre_stаt.sort_values(by='total_sales',ascending=False))"
   ]
  },
  {
   "cell_type": "code",
   "execution_count": 354,
   "metadata": {},
   "outputs": [
    {
     "data": {
      "image/png": "[encoded data removed]",
      "text/plain": [
       "<Figure size 864x360 with 1 Axes>"
      ]
     },
     "metadata": {
      "needs_background": "light"
     },
     "output_type": "display_data"
    }
   ],
   "source": [
    "# Построим график продаж по жанрам\n",
    "(\n",
    "    genre_stаt\n",
    "    .sort_values(by='total_sales',ascending=True)\n",
    "    .plot(kind='barh', grid=True, xlabel='Жанр',figsize=(12, 5))\n",
    "    .set_title('Распределение продаж по жанрам' + \"\\n\", fontsize = 22, color = 'SteelBlue')\n",
    ");"
   ]
  },
  {
   "cell_type": "markdown",
   "metadata": {},
   "source": [
    "Промежуточный вывод:\n",
    "- самые прибыльные жанры - Shooter и Sports,\n",
    "- самые низкие продажи - Adventure и Puzzle."
   ]
  },
  {
   "cell_type": "markdown",
   "metadata": {},
   "source": [
    "### Составление портрета пользователя"
   ]
  },
  {
   "cell_type": "markdown",
   "metadata": {},
   "source": [
    "Определите для пользователя каждого региона (NA, EU, JP):"
   ]
  },
  {
   "cell_type": "markdown",
   "metadata": {},
   "source": [
    "#### Самые популярные платформы (топ-5). Опишите различия в долях продаж."
   ]
  },
  {
   "cell_type": "markdown",
   "metadata": {},
   "source": [
    "Общее количество продаж"
   ]
  },
  {
   "cell_type": "code",
   "execution_count": 355,
   "metadata": {},
   "outputs": [
    {
     "name": "stdout",
     "output_type": "stream",
     "text": [
      "Общее число продаж для региона NA 220.01\n",
      "Общее число продаж для региона EU 191.23\n",
      "Общее число продаж для региона JP 90.29\n"
     ]
    }
   ],
   "source": [
    "# общее число продаж для региона 'na_sales'\n",
    "actual_data_na_sales_total = actual_data['na_sales'].sum()\n",
    "print('Общее число продаж для региона NA', actual_data_na_sales_total)\n",
    "# общее число продаж для региона 'eu_sales'\n",
    "actual_data_eu_sales_total = actual_data['eu_sales'].sum()\n",
    "print('Общее число продаж для региона EU', actual_data_eu_sales_total)\n",
    "# общее число продаж для региона 'jp_sales'\n",
    "actual_data_jp_sales_total = actual_data['jp_sales'].sum()\n",
    "print('Общее число продаж для региона JP', actual_data_jp_sales_total)"
   ]
  },
  {
   "cell_type": "markdown",
   "metadata": {},
   "source": [
    "##### Регион NA"
   ]
  },
  {
   "cell_type": "code",
   "execution_count": 356,
   "metadata": {},
   "outputs": [
    {
     "data": {
      "text/html": [
       "<div>\n",
       "<style scoped>\n",
       "    .dataframe tbody tr th:only-of-type {\n",
       "        vertical-align: middle;\n",
       "    }\n",
       "\n",
       "    .dataframe tbody tr th {\n",
       "        vertical-align: top;\n",
       "    }\n",
       "\n",
       "    .dataframe thead th {\n",
       "        text-align: right;\n",
       "    }\n",
       "</style>\n",
       "<table border=\"1\" class=\"dataframe\">\n",
       "  <thead>\n",
       "    <tr style=\"text-align: right;\">\n",
       "      <th></th>\n",
       "      <th>na_sales</th>\n",
       "      <th>ratio</th>\n",
       "    </tr>\n",
       "    <tr>\n",
       "      <th>platform</th>\n",
       "      <th></th>\n",
       "      <th></th>\n",
       "    </tr>\n",
       "  </thead>\n",
       "  <tbody>\n",
       "    <tr>\n",
       "      <th>XOne</th>\n",
       "      <td>46.99</td>\n",
       "      <td>0.213581</td>\n",
       "    </tr>\n",
       "    <tr>\n",
       "      <th>X360</th>\n",
       "      <td>43.95</td>\n",
       "      <td>0.199764</td>\n",
       "    </tr>\n",
       "    <tr>\n",
       "      <th>PS4</th>\n",
       "      <td>42.26</td>\n",
       "      <td>0.192082</td>\n",
       "    </tr>\n",
       "    <tr>\n",
       "      <th>PS3</th>\n",
       "      <td>36.92</td>\n",
       "      <td>0.167811</td>\n",
       "    </tr>\n",
       "    <tr>\n",
       "      <th>WiiU</th>\n",
       "      <td>17.38</td>\n",
       "      <td>0.078996</td>\n",
       "    </tr>\n",
       "  </tbody>\n",
       "</table>\n",
       "</div>"
      ],
      "text/plain": [
       "          na_sales     ratio\n",
       "platform                    \n",
       "XOne         46.99  0.213581\n",
       "X360         43.95  0.199764\n",
       "PS4          42.26  0.192082\n",
       "PS3          36.92  0.167811\n",
       "WiiU         17.38  0.078996"
      ]
     },
     "metadata": {},
     "output_type": "display_data"
    }
   ],
   "source": [
    "# соберем сводную таблицу по названию  платформы и расчитаем общие продажи\n",
    "actual_data_na_sales = actual_data.pivot_table(index=['platform'], values=['na_sales'], aggfunc='sum')\n",
    "# оставим только 5 платформ с самыми большими продажами\n",
    "actual_data_na_sales = actual_data_na_sales.sort_values(by='na_sales',ascending=False)\n",
    "# добавим столбец с долей от общего числа продаж \n",
    "actual_data_na_sales['ratio'] = actual_data_na_sales['na_sales'] / actual_data_na_sales_total\n",
    "# выведем на экран таблтцу\n",
    "display(actual_data_na_sales.head(5))"
   ]
  },
  {
   "cell_type": "markdown",
   "metadata": {},
   "source": [
    "##### Регион EU"
   ]
  },
  {
   "cell_type": "code",
   "execution_count": 357,
   "metadata": {},
   "outputs": [
    {
     "data": {
      "text/html": [
       "<div>\n",
       "<style scoped>\n",
       "    .dataframe tbody tr th:only-of-type {\n",
       "        vertical-align: middle;\n",
       "    }\n",
       "\n",
       "    .dataframe tbody tr th {\n",
       "        vertical-align: top;\n",
       "    }\n",
       "\n",
       "    .dataframe thead th {\n",
       "        text-align: right;\n",
       "    }\n",
       "</style>\n",
       "<table border=\"1\" class=\"dataframe\">\n",
       "  <thead>\n",
       "    <tr style=\"text-align: right;\">\n",
       "      <th></th>\n",
       "      <th>eu_sales</th>\n",
       "      <th>ratio</th>\n",
       "    </tr>\n",
       "    <tr>\n",
       "      <th>platform</th>\n",
       "      <th></th>\n",
       "      <th></th>\n",
       "    </tr>\n",
       "  </thead>\n",
       "  <tbody>\n",
       "    <tr>\n",
       "      <th>PS4</th>\n",
       "      <td>51.11</td>\n",
       "      <td>0.267270</td>\n",
       "    </tr>\n",
       "    <tr>\n",
       "      <th>PS3</th>\n",
       "      <td>31.74</td>\n",
       "      <td>0.165978</td>\n",
       "    </tr>\n",
       "    <tr>\n",
       "      <th>XOne</th>\n",
       "      <td>26.32</td>\n",
       "      <td>0.137635</td>\n",
       "    </tr>\n",
       "    <tr>\n",
       "      <th>PC</th>\n",
       "      <td>23.54</td>\n",
       "      <td>0.123098</td>\n",
       "    </tr>\n",
       "    <tr>\n",
       "      <th>X360</th>\n",
       "      <td>23.03</td>\n",
       "      <td>0.120431</td>\n",
       "    </tr>\n",
       "  </tbody>\n",
       "</table>\n",
       "</div>"
      ],
      "text/plain": [
       "          eu_sales     ratio\n",
       "platform                    \n",
       "PS4          51.11  0.267270\n",
       "PS3          31.74  0.165978\n",
       "XOne         26.32  0.137635\n",
       "PC           23.54  0.123098\n",
       "X360         23.03  0.120431"
      ]
     },
     "metadata": {},
     "output_type": "display_data"
    }
   ],
   "source": [
    "# соберем сводную таблицу по названию  платформы и расчитаем общие продажи\n",
    "actual_data_eu_sales = actual_data.pivot_table(index=['platform'], values=['eu_sales'], aggfunc='sum')\n",
    "# оставим только 5 платформ с самыми большими продажами\n",
    "actual_data_eu_sales = actual_data_eu_sales.sort_values(by='eu_sales',ascending=False)\n",
    "# добавим столбец с долей от общего числа продаж \n",
    "actual_data_eu_sales['ratio'] = actual_data_eu_sales['eu_sales'] / actual_data_eu_sales_total\n",
    "# выведем на экран таблицу\n",
    "display(actual_data_eu_sales.head(5))"
   ]
  },
  {
   "cell_type": "markdown",
   "metadata": {},
   "source": [
    "##### Регион JP"
   ]
  },
  {
   "cell_type": "code",
   "execution_count": 358,
   "metadata": {},
   "outputs": [
    {
     "data": {
      "text/html": [
       "<div>\n",
       "<style scoped>\n",
       "    .dataframe tbody tr th:only-of-type {\n",
       "        vertical-align: middle;\n",
       "    }\n",
       "\n",
       "    .dataframe tbody tr th {\n",
       "        vertical-align: top;\n",
       "    }\n",
       "\n",
       "    .dataframe thead th {\n",
       "        text-align: right;\n",
       "    }\n",
       "</style>\n",
       "<table border=\"1\" class=\"dataframe\">\n",
       "  <thead>\n",
       "    <tr style=\"text-align: right;\">\n",
       "      <th></th>\n",
       "      <th>jp_sales</th>\n",
       "      <th>ratio</th>\n",
       "    </tr>\n",
       "    <tr>\n",
       "      <th>platform</th>\n",
       "      <th></th>\n",
       "      <th></th>\n",
       "    </tr>\n",
       "  </thead>\n",
       "  <tbody>\n",
       "    <tr>\n",
       "      <th>3DS</th>\n",
       "      <td>31.54</td>\n",
       "      <td>0.349319</td>\n",
       "    </tr>\n",
       "    <tr>\n",
       "      <th>PS3</th>\n",
       "      <td>20.36</td>\n",
       "      <td>0.225496</td>\n",
       "    </tr>\n",
       "    <tr>\n",
       "      <th>PSV</th>\n",
       "      <td>18.59</td>\n",
       "      <td>0.205892</td>\n",
       "    </tr>\n",
       "    <tr>\n",
       "      <th>PS4</th>\n",
       "      <td>10.45</td>\n",
       "      <td>0.115738</td>\n",
       "    </tr>\n",
       "    <tr>\n",
       "      <th>WiiU</th>\n",
       "      <td>5.48</td>\n",
       "      <td>0.060693</td>\n",
       "    </tr>\n",
       "  </tbody>\n",
       "</table>\n",
       "</div>"
      ],
      "text/plain": [
       "          jp_sales     ratio\n",
       "platform                    \n",
       "3DS          31.54  0.349319\n",
       "PS3          20.36  0.225496\n",
       "PSV          18.59  0.205892\n",
       "PS4          10.45  0.115738\n",
       "WiiU          5.48  0.060693"
      ]
     },
     "metadata": {},
     "output_type": "display_data"
    }
   ],
   "source": [
    "# соберем сводную таблицу по названию  платформы и расчитаем общие продажи\n",
    "actual_data_jp_sales = actual_data.pivot_table(index=['platform'], values=['jp_sales'], aggfunc='sum')\n",
    "# оставим только 5 платформ с самыми большими продажами\n",
    "actual_data_jp_sales = actual_data_jp_sales.sort_values(by='jp_sales',ascending=False)\n",
    "# добавим столбец с долей от общего числа продаж \n",
    "actual_data_jp_sales['ratio'] = actual_data_jp_sales['jp_sales'] / actual_data_jp_sales_total\n",
    "# выведем на экран таблтцу\n",
    "display(actual_data_jp_sales.head(5))"
   ]
  },
  {
   "cell_type": "markdown",
   "metadata": {},
   "source": [
    "##### Графики распрелделения продаж по платформам в заивсимости от региона"
   ]
  },
  {
   "cell_type": "code",
   "execution_count": 359,
   "metadata": {},
   "outputs": [
    {
     "data": {
      "image/png": "[encoded data removed]",
      "text/plain": [
       "<Figure size 1152x432 with 3 Axes>"
      ]
     },
     "metadata": {},
     "output_type": "display_data"
    }
   ],
   "source": [
    "import matplotlib.pyplot as plt\n",
    "\n",
    "plt.figure(figsize=(16, 6))\n",
    "\n",
    "plt.subplot(1, 3, 1)\n",
    "plt.pie(actual_data_na_sales['ratio'], labels = actual_data_na_sales.index)\n",
    "plt.title('Регион NA')\n",
    "\n",
    "plt.subplot(1, 3, 2)\n",
    "plt.pie(actual_data_eu_sales['ratio'], labels = actual_data_eu_sales.index)\n",
    "plt.title('Регион EU')\n",
    "\n",
    "plt.subplot(1, 3, 3)\n",
    "plt.pie(actual_data_jp_sales['ratio'], labels = actual_data_jp_sales.index)\n",
    "plt.title('Регион JP')\n",
    "\n",
    "plt.suptitle('Распределение продаж по платформам')\n",
    "plt.show()"
   ]
  },
  {
   "cell_type": "markdown",
   "metadata": {},
   "source": [
    "Промежуточный вывод:\n",
    "- на рынках EA и NA очень похожее распределение популярности платформа. Лидирует PS4.\n",
    "- для JP совсем другое распределение платформ. Лидирующее место занимает платформа 3DS. А такие платформы как XOne и X360 вообще непользуются популярностью."
   ]
  },
  {
   "cell_type": "markdown",
   "metadata": {},
   "source": [
    "#### Самые популярные жанры (топ-5). Поясните разницу."
   ]
  },
  {
   "cell_type": "markdown",
   "metadata": {},
   "source": [
    "Разница между платформой и жанром заключается в том, что на одной платформе может быть разное количество игр в определенном жанре. Наличие определенных жанров на конкретных платформах, может определять популярность платформы."
   ]
  },
  {
   "cell_type": "markdown",
   "metadata": {},
   "source": [
    "##### Регион NA"
   ]
  },
  {
   "cell_type": "code",
   "execution_count": 360,
   "metadata": {},
   "outputs": [
    {
     "data": {
      "text/html": [
       "<div>\n",
       "<style scoped>\n",
       "    .dataframe tbody tr th:only-of-type {\n",
       "        vertical-align: middle;\n",
       "    }\n",
       "\n",
       "    .dataframe tbody tr th {\n",
       "        vertical-align: top;\n",
       "    }\n",
       "\n",
       "    .dataframe thead th {\n",
       "        text-align: right;\n",
       "    }\n",
       "</style>\n",
       "<table border=\"1\" class=\"dataframe\">\n",
       "  <thead>\n",
       "    <tr style=\"text-align: right;\">\n",
       "      <th></th>\n",
       "      <th>sales</th>\n",
       "      <th>ratio</th>\n",
       "    </tr>\n",
       "    <tr>\n",
       "      <th>genre</th>\n",
       "      <th></th>\n",
       "      <th></th>\n",
       "    </tr>\n",
       "  </thead>\n",
       "  <tbody>\n",
       "    <tr>\n",
       "      <th>Action</th>\n",
       "      <td>68.53</td>\n",
       "      <td>0.311486</td>\n",
       "    </tr>\n",
       "    <tr>\n",
       "      <th>Sports</th>\n",
       "      <td>37.52</td>\n",
       "      <td>0.170538</td>\n",
       "    </tr>\n",
       "    <tr>\n",
       "      <th>Shooter</th>\n",
       "      <td>33.85</td>\n",
       "      <td>0.153857</td>\n",
       "    </tr>\n",
       "    <tr>\n",
       "      <th>Role-Playing</th>\n",
       "      <td>25.09</td>\n",
       "      <td>0.114040</td>\n",
       "    </tr>\n",
       "    <tr>\n",
       "      <th>Misc</th>\n",
       "      <td>13.80</td>\n",
       "      <td>0.062724</td>\n",
       "    </tr>\n",
       "  </tbody>\n",
       "</table>\n",
       "</div>"
      ],
      "text/plain": [
       "              sales     ratio\n",
       "genre                        \n",
       "Action        68.53  0.311486\n",
       "Sports        37.52  0.170538\n",
       "Shooter       33.85  0.153857\n",
       "Role-Playing  25.09  0.114040\n",
       "Misc          13.80  0.062724"
      ]
     },
     "metadata": {},
     "output_type": "display_data"
    }
   ],
   "source": [
    "# соберем сводную таблицу по названию  платформы и расчитаем общие продажи\n",
    "actual_data_na_genre = actual_data.pivot_table(index=['genre'], values=['na_sales'], aggfunc=['sum'])\n",
    "# переименуем столбцы\n",
    "actual_data_na_genre.columns =['sales']\n",
    "# оставим только 5 платформ с самыми большими продажами\n",
    "actual_data_na_genre = actual_data_na_genre.sort_values(by='sales',ascending=False).head(5)\n",
    "# добавим столбец с долей от общего числа продаж \n",
    "actual_data_na_genre['ratio'] = actual_data_na_genre['sales'] / actual_data_na_sales_total\n",
    "# выведем на экран таблицу\n",
    "display(actual_data_na_genre)"
   ]
  },
  {
   "cell_type": "code",
   "execution_count": 361,
   "metadata": {},
   "outputs": [
    {
     "data": {
      "image/png": "[encoded data removed]",
      "text/plain": [
       "<Figure size 576x576 with 1 Axes>"
      ]
     },
     "metadata": {},
     "output_type": "display_data"
    }
   ],
   "source": [
    "actual_data_na_genre.plot(\n",
    "    kind='pie',\n",
    "    y='ratio',\n",
    "    ylabel = 'Доля',\n",
    "    normalize=False,\n",
    "    figsize=(8, 8),\n",
    "    legend = False\n",
    ").set_title('Распределение продаж по жанрам, регион NA' + \"\\n\", fontsize = 22, color = 'SteelBlue');"
   ]
  },
  {
   "cell_type": "code",
   "execution_count": 362,
   "metadata": {},
   "outputs": [
    {
     "data": {
      "text/html": [
       "<div>\n",
       "<style scoped>\n",
       "    .dataframe tbody tr th:only-of-type {\n",
       "        vertical-align: middle;\n",
       "    }\n",
       "\n",
       "    .dataframe tbody tr th {\n",
       "        vertical-align: top;\n",
       "    }\n",
       "\n",
       "    .dataframe thead th {\n",
       "        text-align: right;\n",
       "    }\n",
       "</style>\n",
       "<table border=\"1\" class=\"dataframe\">\n",
       "  <thead>\n",
       "    <tr style=\"text-align: right;\">\n",
       "      <th></th>\n",
       "      <th>sales</th>\n",
       "      <th>ratio</th>\n",
       "    </tr>\n",
       "    <tr>\n",
       "      <th>genre</th>\n",
       "      <th></th>\n",
       "      <th></th>\n",
       "    </tr>\n",
       "  </thead>\n",
       "  <tbody>\n",
       "    <tr>\n",
       "      <th>Action</th>\n",
       "      <td>63.17</td>\n",
       "      <td>0.330733</td>\n",
       "    </tr>\n",
       "    <tr>\n",
       "      <th>Shooter</th>\n",
       "      <td>29.50</td>\n",
       "      <td>0.154450</td>\n",
       "    </tr>\n",
       "    <tr>\n",
       "      <th>Sports</th>\n",
       "      <td>20.37</td>\n",
       "      <td>0.106649</td>\n",
       "    </tr>\n",
       "    <tr>\n",
       "      <th>Role-Playing</th>\n",
       "      <td>18.73</td>\n",
       "      <td>0.098063</td>\n",
       "    </tr>\n",
       "    <tr>\n",
       "      <th>Racing</th>\n",
       "      <td>12.70</td>\n",
       "      <td>0.066492</td>\n",
       "    </tr>\n",
       "  </tbody>\n",
       "</table>\n",
       "</div>"
      ],
      "text/plain": [
       "              sales     ratio\n",
       "genre                        \n",
       "Action        63.17  0.330733\n",
       "Shooter       29.50  0.154450\n",
       "Sports        20.37  0.106649\n",
       "Role-Playing  18.73  0.098063\n",
       "Racing        12.70  0.066492"
      ]
     },
     "metadata": {},
     "output_type": "display_data"
    }
   ],
   "source": [
    "# соберем сводную таблицу по названию  платформы и расчитаем общие продажи\n",
    "actual_data_eu_genre = actual_data.pivot_table(index=['genre'], values=['eu_sales'], aggfunc=['sum'])\n",
    "# переименуем столбцы\n",
    "actual_data_eu_genre.columns =['sales']\n",
    "# оставим только 5 платформ с самыми большими продажами\n",
    "actual_data_eu_genre = actual_data_eu_genre.sort_values(by='sales',ascending=False).head(5)\n",
    "# добавим столбец с долей от общего числа продаж \n",
    "actual_data_eu_genre['ratio'] = actual_data_eu_genre['sales'] / round(actual_data_eu_sales_total)\n",
    "# выведем на экран таблтцу\n",
    "display(actual_data_eu_genre)"
   ]
  },
  {
   "cell_type": "code",
   "execution_count": 363,
   "metadata": {},
   "outputs": [
    {
     "data": {
      "image/png": "[encoded data removed]",
      "text/plain": [
       "<Figure size 576x576 with 1 Axes>"
      ]
     },
     "metadata": {},
     "output_type": "display_data"
    }
   ],
   "source": [
    "actual_data_eu_genre.plot(\n",
    "    kind='pie',\n",
    "    y='ratio',\n",
    "    ylabel = 'Доля',\n",
    "    normalize=False,\n",
    "    figsize=(8, 8),\n",
    "    legend = False\n",
    ").set_title('Распределение продаж по платформам, регион EU' + \"\\n\", fontsize = 22, color = 'SteelBlue');"
   ]
  },
  {
   "cell_type": "code",
   "execution_count": 364,
   "metadata": {},
   "outputs": [
    {
     "data": {
      "text/html": [
       "<div>\n",
       "<style scoped>\n",
       "    .dataframe tbody tr th:only-of-type {\n",
       "        vertical-align: middle;\n",
       "    }\n",
       "\n",
       "    .dataframe tbody tr th {\n",
       "        vertical-align: top;\n",
       "    }\n",
       "\n",
       "    .dataframe thead th {\n",
       "        text-align: right;\n",
       "    }\n",
       "</style>\n",
       "<table border=\"1\" class=\"dataframe\">\n",
       "  <thead>\n",
       "    <tr style=\"text-align: right;\">\n",
       "      <th></th>\n",
       "      <th>sales</th>\n",
       "      <th>ratio</th>\n",
       "    </tr>\n",
       "    <tr>\n",
       "      <th>genre</th>\n",
       "      <th></th>\n",
       "      <th></th>\n",
       "    </tr>\n",
       "  </thead>\n",
       "  <tbody>\n",
       "    <tr>\n",
       "      <th>Action</th>\n",
       "      <td>29.75</td>\n",
       "      <td>0.330556</td>\n",
       "    </tr>\n",
       "    <tr>\n",
       "      <th>Role-Playing</th>\n",
       "      <td>27.06</td>\n",
       "      <td>0.300667</td>\n",
       "    </tr>\n",
       "    <tr>\n",
       "      <th>Misc</th>\n",
       "      <td>9.04</td>\n",
       "      <td>0.100444</td>\n",
       "    </tr>\n",
       "    <tr>\n",
       "      <th>Adventure</th>\n",
       "      <td>5.82</td>\n",
       "      <td>0.064667</td>\n",
       "    </tr>\n",
       "    <tr>\n",
       "      <th>Sports</th>\n",
       "      <td>4.86</td>\n",
       "      <td>0.054000</td>\n",
       "    </tr>\n",
       "  </tbody>\n",
       "</table>\n",
       "</div>"
      ],
      "text/plain": [
       "              sales     ratio\n",
       "genre                        \n",
       "Action        29.75  0.330556\n",
       "Role-Playing  27.06  0.300667\n",
       "Misc           9.04  0.100444\n",
       "Adventure      5.82  0.064667\n",
       "Sports         4.86  0.054000"
      ]
     },
     "metadata": {},
     "output_type": "display_data"
    }
   ],
   "source": [
    "# соберем сводную таблицу по названию  платформы и расчитаем общие продажи\n",
    "actual_data_jp_genre = actual_data.pivot_table(index=['genre'], values=['jp_sales'], aggfunc=['sum'])\n",
    "# переименуем столбцы\n",
    "actual_data_jp_genre.columns =['sales']\n",
    "# оставим только 5 платформ с самыми большими продажами\n",
    "actual_data_jp_genre = actual_data_jp_genre.sort_values(by='sales',ascending=False).head(5)\n",
    "# добавим столбец с долей от общего числа продаж \n",
    "actual_data_jp_genre['ratio'] = actual_data_jp_genre['sales'] / round(actual_data['jp_sales'].sum())\n",
    "# выведем на экран таблтцу\n",
    "display(actual_data_jp_genre)"
   ]
  },
  {
   "cell_type": "code",
   "execution_count": 365,
   "metadata": {},
   "outputs": [
    {
     "data": {
      "image/png": "[encoded data removed]",
      "text/plain": [
       "<Figure size 576x576 with 1 Axes>"
      ]
     },
     "metadata": {},
     "output_type": "display_data"
    }
   ],
   "source": [
    "actual_data_jp_genre.plot(\n",
    "    kind='pie',\n",
    "    y='ratio',\n",
    "    ylabel = 'Доля',\n",
    "    normalize=False,\n",
    "    figsize=(8, 8),\n",
    "    legend = False\n",
    ").set_title('Распределение продаж по платформам, регион JP' + \"\\n\", fontsize = 22, color = 'SteelBlue');"
   ]
  },
  {
   "cell_type": "markdown",
   "metadata": {},
   "source": [
    "Промежуточный вывод:\n",
    "- на рынках EA и NA очень похожее распределение популярности жанров, отличие только в одно жанре, который занимает 5 место.\n",
    "- для JP совсем другое распределение жанров, как в качественном, так и в количественном выражении, жанр  Role-Playinf на первом месте."
   ]
  },
  {
   "cell_type": "markdown",
   "metadata": {},
   "source": [
    "#### Влияет ли рейтинг ESRB на продажи в отдельном регионе?"
   ]
  },
  {
   "cell_type": "code",
   "execution_count": 366,
   "metadata": {},
   "outputs": [
    {
     "data": {
      "text/html": [
       "<div>\n",
       "<style scoped>\n",
       "    .dataframe tbody tr th:only-of-type {\n",
       "        vertical-align: middle;\n",
       "    }\n",
       "\n",
       "    .dataframe tbody tr th {\n",
       "        vertical-align: top;\n",
       "    }\n",
       "\n",
       "    .dataframe thead th {\n",
       "        text-align: right;\n",
       "    }\n",
       "</style>\n",
       "<table border=\"1\" class=\"dataframe\">\n",
       "  <thead>\n",
       "    <tr style=\"text-align: right;\">\n",
       "      <th></th>\n",
       "      <th>sales</th>\n",
       "    </tr>\n",
       "    <tr>\n",
       "      <th>rating</th>\n",
       "      <th></th>\n",
       "    </tr>\n",
       "  </thead>\n",
       "  <tbody>\n",
       "    <tr>\n",
       "      <th>M</th>\n",
       "      <td>63.53</td>\n",
       "    </tr>\n",
       "    <tr>\n",
       "      <th>E</th>\n",
       "      <td>42.05</td>\n",
       "    </tr>\n",
       "    <tr>\n",
       "      <th>E10+</th>\n",
       "      <td>41.79</td>\n",
       "    </tr>\n",
       "    <tr>\n",
       "      <th>unknown</th>\n",
       "      <td>39.02</td>\n",
       "    </tr>\n",
       "    <tr>\n",
       "      <th>T</th>\n",
       "      <td>33.62</td>\n",
       "    </tr>\n",
       "  </tbody>\n",
       "</table>\n",
       "</div>"
      ],
      "text/plain": [
       "         sales\n",
       "rating        \n",
       "M        63.53\n",
       "E        42.05\n",
       "E10+     41.79\n",
       "unknown  39.02\n",
       "T        33.62"
      ]
     },
     "metadata": {},
     "output_type": "display_data"
    }
   ],
   "source": [
    "# соберем сводную таблицу по названию платформы и расчитаем общие продажи\n",
    "actual_data_na_rating = actual_data.pivot_table(index=['rating'], values=['na_sales'], aggfunc=['sum'])\n",
    "# переименуем столбцы\n",
    "actual_data_na_rating.columns =['sales']\n",
    "# выведем на экран таблтцу\n",
    "display(actual_data_na_rating.sort_values(by='sales',ascending=False))"
   ]
  },
  {
   "cell_type": "code",
   "execution_count": 367,
   "metadata": {},
   "outputs": [
    {
     "data": {
      "text/html": [
       "<div>\n",
       "<style scoped>\n",
       "    .dataframe tbody tr th:only-of-type {\n",
       "        vertical-align: middle;\n",
       "    }\n",
       "\n",
       "    .dataframe tbody tr th {\n",
       "        vertical-align: top;\n",
       "    }\n",
       "\n",
       "    .dataframe thead th {\n",
       "        text-align: right;\n",
       "    }\n",
       "</style>\n",
       "<table border=\"1\" class=\"dataframe\">\n",
       "  <thead>\n",
       "    <tr style=\"text-align: right;\">\n",
       "      <th></th>\n",
       "      <th>sales</th>\n",
       "    </tr>\n",
       "    <tr>\n",
       "      <th>rating</th>\n",
       "      <th></th>\n",
       "    </tr>\n",
       "  </thead>\n",
       "  <tbody>\n",
       "    <tr>\n",
       "      <th>M</th>\n",
       "      <td>55.83</td>\n",
       "    </tr>\n",
       "    <tr>\n",
       "      <th>unknown</th>\n",
       "      <td>38.54</td>\n",
       "    </tr>\n",
       "    <tr>\n",
       "      <th>E10+</th>\n",
       "      <td>36.37</td>\n",
       "    </tr>\n",
       "    <tr>\n",
       "      <th>E</th>\n",
       "      <td>31.94</td>\n",
       "    </tr>\n",
       "    <tr>\n",
       "      <th>T</th>\n",
       "      <td>28.55</td>\n",
       "    </tr>\n",
       "  </tbody>\n",
       "</table>\n",
       "</div>"
      ],
      "text/plain": [
       "         sales\n",
       "rating        \n",
       "M        55.83\n",
       "unknown  38.54\n",
       "E10+     36.37\n",
       "E        31.94\n",
       "T        28.55"
      ]
     },
     "metadata": {},
     "output_type": "display_data"
    }
   ],
   "source": [
    "# соберем сводную таблицу по названию  платформы и расчитаем общие продажи\n",
    "actual_data_eu_rating = actual_data.pivot_table(index=['rating'], values=['eu_sales'], aggfunc=['sum'])\n",
    "# переименуем столбцы\n",
    "actual_data_eu_rating.columns =['sales']\n",
    "# выведем на экран таблтцу\n",
    "display(actual_data_eu_rating.sort_values(by='sales',ascending=False))"
   ]
  },
  {
   "cell_type": "code",
   "execution_count": 368,
   "metadata": {},
   "outputs": [
    {
     "data": {
      "text/html": [
       "<div>\n",
       "<style scoped>\n",
       "    .dataframe tbody tr th:only-of-type {\n",
       "        vertical-align: middle;\n",
       "    }\n",
       "\n",
       "    .dataframe tbody tr th {\n",
       "        vertical-align: top;\n",
       "    }\n",
       "\n",
       "    .dataframe thead th {\n",
       "        text-align: right;\n",
       "    }\n",
       "</style>\n",
       "<table border=\"1\" class=\"dataframe\">\n",
       "  <thead>\n",
       "    <tr style=\"text-align: right;\">\n",
       "      <th></th>\n",
       "      <th>sales</th>\n",
       "    </tr>\n",
       "    <tr>\n",
       "      <th>rating</th>\n",
       "      <th></th>\n",
       "    </tr>\n",
       "  </thead>\n",
       "  <tbody>\n",
       "    <tr>\n",
       "      <th>unknown</th>\n",
       "      <td>53.06</td>\n",
       "    </tr>\n",
       "    <tr>\n",
       "      <th>T</th>\n",
       "      <td>17.25</td>\n",
       "    </tr>\n",
       "    <tr>\n",
       "      <th>E</th>\n",
       "      <td>8.09</td>\n",
       "    </tr>\n",
       "    <tr>\n",
       "      <th>M</th>\n",
       "      <td>7.96</td>\n",
       "    </tr>\n",
       "    <tr>\n",
       "      <th>E10+</th>\n",
       "      <td>3.93</td>\n",
       "    </tr>\n",
       "  </tbody>\n",
       "</table>\n",
       "</div>"
      ],
      "text/plain": [
       "         sales\n",
       "rating        \n",
       "unknown  53.06\n",
       "T        17.25\n",
       "E         8.09\n",
       "M         7.96\n",
       "E10+      3.93"
      ]
     },
     "metadata": {},
     "output_type": "display_data"
    }
   ],
   "source": [
    "# соберем сводную таблицу по названию  платформы и расчитаем общие продажи\n",
    "actual_data_jp_rating = actual_data.pivot_table(index=['rating'], values=['jp_sales'], aggfunc=['sum'])\n",
    "# переименуем столбцы\n",
    "actual_data_jp_rating.columns =['sales']\n",
    "# выведем на экран таблтцу\n",
    "display(actual_data_jp_rating.sort_values(by='sales',ascending=False))"
   ]
  },
  {
   "cell_type": "markdown",
   "metadata": {},
   "source": [
    "Промежуточный вывод:\n",
    "- наличие не заполненого рейтинга сильно влияет на анализ. Видно, что игры с неизвестным рейтингом составляют существенный объем, \n",
    "- на рынках EA и NA очень похожие продажи по рейтингу ESRB,\n",
    "- для JP совсем другое распределение влияния рейтинга ESRB на продажи, как в качественном, так и в количественном выражении."
   ]
  },
  {
   "cell_type": "markdown",
   "metadata": {},
   "source": [
    "### Проверка гипотез"
   ]
  },
  {
   "cell_type": "code",
   "execution_count": 369,
   "metadata": {},
   "outputs": [
    {
     "name": "stdout",
     "output_type": "stream",
     "text": [
      "<class 'pandas.core.frame.DataFrame'>\n",
      "Int64Index: 2111 entries, 863 to 16714\n",
      "Data columns (total 12 columns):\n",
      " #   Column           Non-Null Count  Dtype  \n",
      "---  ------           --------------  -----  \n",
      " 0   name             2111 non-null   object \n",
      " 1   platform         2111 non-null   object \n",
      " 2   year_of_release  2111 non-null   float64\n",
      " 3   genre            2111 non-null   object \n",
      " 4   na_sales         2111 non-null   float64\n",
      " 5   eu_sales         2111 non-null   float64\n",
      " 6   jp_sales         2111 non-null   float64\n",
      " 7   other_sales      2111 non-null   float64\n",
      " 8   critic_score     903 non-null    float64\n",
      " 9   user_score       1094 non-null   float64\n",
      " 10  rating           2111 non-null   object \n",
      " 11  total_sales      2111 non-null   float64\n",
      "dtypes: float64(8), object(4)\n",
      "memory usage: 214.4+ KB\n"
     ]
    }
   ],
   "source": [
    "from scipy import stats as st\n",
    "\n",
    "actual_data.info()"
   ]
  },
  {
   "cell_type": "code",
   "execution_count": 370,
   "metadata": {},
   "outputs": [
    {
     "name": "stdout",
     "output_type": "stream",
     "text": [
      "<class 'pandas.core.frame.DataFrame'>\n",
      "Int64Index: 1094 entries, 863 to 16692\n",
      "Data columns (total 12 columns):\n",
      " #   Column           Non-Null Count  Dtype  \n",
      "---  ------           --------------  -----  \n",
      " 0   name             1094 non-null   object \n",
      " 1   platform         1094 non-null   object \n",
      " 2   year_of_release  1094 non-null   float64\n",
      " 3   genre            1094 non-null   object \n",
      " 4   na_sales         1094 non-null   float64\n",
      " 5   eu_sales         1094 non-null   float64\n",
      " 6   jp_sales         1094 non-null   float64\n",
      " 7   other_sales      1094 non-null   float64\n",
      " 8   critic_score     888 non-null    float64\n",
      " 9   user_score       1094 non-null   float64\n",
      " 10  rating           1094 non-null   object \n",
      " 11  total_sales      1094 non-null   float64\n",
      "dtypes: float64(8), object(4)\n",
      "memory usage: 111.1+ KB\n"
     ]
    }
   ],
   "source": [
    "# удалим строки с пропусками в столбце user_score\n",
    "actual_data_stat = actual_data.dropna(subset=['user_score'])\n",
    "\n",
    "actual_data_stat.info()"
   ]
  },
  {
   "cell_type": "markdown",
   "metadata": {},
   "source": [
    "#### Средние пользовательские рейтинги платформ Xbox One и PC одинаковые"
   ]
  },
  {
   "cell_type": "markdown",
   "metadata": {},
   "source": [
    "Визуализируем данные"
   ]
  },
  {
   "cell_type": "code",
   "execution_count": 371,
   "metadata": {},
   "outputs": [
    {
     "data": {
      "image/png": "[encoded data removed]",
      "text/plain": [
       "<Figure size 432x288 with 1 Axes>"
      ]
     },
     "metadata": {
      "needs_background": "light"
     },
     "output_type": "display_data"
    }
   ],
   "source": [
    "actual_data_stat[actual_data_stat['platform'] =='XOne']['user_score'].hist(bins=35, alpha=0.5, color='green')\n",
    "actual_data_stat[actual_data_stat['platform'] =='PC']['user_score'].hist(bins=35, alpha=0.5, color='blue');"
   ]
  },
  {
   "cell_type": "markdown",
   "metadata": {},
   "source": [
    "Сформулируем гипотезы и задами уровень заничмости."
   ]
  },
  {
   "cell_type": "markdown",
   "metadata": {},
   "source": [
    "```\n",
    "H_0: Рейтинги (user_score) пользователей \"Xbox One\" = Рейтинги (user_score) пользователей \"PC\"`\n",
    "H_a: Рейтинги (user_score) пользователей \"Xbox One\" ≠ Рейтинги (user_score) пользователей \"PC\"`\n",
    "alpha = 0.05\n",
    "```"
   ]
  },
  {
   "cell_type": "markdown",
   "metadata": {},
   "source": [
    "Поскольку выборки не зависят друг от друга, применим метод для проверки гипотезы о равенстве среднего двух генеральных совокупностей по взятым из них выборкам."
   ]
  },
  {
   "cell_type": "code",
   "execution_count": 372,
   "metadata": {},
   "outputs": [
    {
     "name": "stdout",
     "output_type": "stream",
     "text": [
      "0.09105223496250824\n",
      "Не получилось отвергнуть нулевую гипотезу\n"
     ]
    }
   ],
   "source": [
    "# вызов метода для проверки гипотезы\n",
    "results = st.ttest_ind(\n",
    "    actual_data_stat[actual_data_stat['platform'] == 'XOne']['user_score'], \n",
    "    actual_data_stat[actual_data_stat['platform'] == 'PC']['user_score'],\n",
    "    equal_var=False\n",
    ")\n",
    "# значение уровня значимости\n",
    "alpha = 0.05\n",
    "\n",
    "# вывод значения p-value на экран \n",
    "print(results.pvalue)\n",
    "# условный оператор с выводом строки с ответом\n",
    "if results.pvalue < alpha:\n",
    "    print(\"Отвергаем нулевую гипотезу\")\n",
    "else:\n",
    "    print(\"Не получилось отвергнуть нулевую гипотезу\")"
   ]
  },
  {
   "cell_type": "markdown",
   "metadata": {},
   "source": [
    "#### Средние пользовательские рейтинги жанров Action (англ. «действие», экшен-игры) и Sports (англ. «спортивные соревнования») разные."
   ]
  },
  {
   "cell_type": "markdown",
   "metadata": {},
   "source": [
    "Визуализируем данные"
   ]
  },
  {
   "cell_type": "code",
   "execution_count": 373,
   "metadata": {},
   "outputs": [
    {
     "data": {
      "image/png": "[encoded data removed]",
      "text/plain": [
       "<Figure size 432x288 with 1 Axes>"
      ]
     },
     "metadata": {
      "needs_background": "light"
     },
     "output_type": "display_data"
    }
   ],
   "source": [
    "actual_data_stat[actual_data_stat['genre'] =='Action']['user_score'].hist(bins=35, alpha=0.5, color='green')\n",
    "actual_data_stat[actual_data_stat['genre'] =='Sports']['user_score'].hist(bins=35, alpha=0.5, color='blue');"
   ]
  },
  {
   "cell_type": "markdown",
   "metadata": {},
   "source": [
    "Сформулируем гипотезы и задами уровень заничмости."
   ]
  },
  {
   "cell_type": "markdown",
   "metadata": {},
   "source": [
    "```\n",
    "H_0: Рейтинги (user_score) жанра \"Action\" = Рейтинги (user_score) жанра \"Sports\"`\n",
    "H_a: Рейтинги (user_score) жанра \"Action\" ≠ Рейтинги (user_score) жанра \"Sports\"`\n",
    "alpha = 0.05\n",
    "```"
   ]
  },
  {
   "cell_type": "markdown",
   "metadata": {},
   "source": [
    "Применим метод для проверки гипотезы о равенстве среднего двух генеральных совокупностей по взятым из них выборкам"
   ]
  },
  {
   "cell_type": "code",
   "execution_count": 374,
   "metadata": {},
   "outputs": [
    {
     "name": "stdout",
     "output_type": "stream",
     "text": [
      "6.912084898421132e-16\n",
      "Отвергаем нулевую гипотезу\n"
     ]
    }
   ],
   "source": [
    "# вызов метода для проверки гипотезы\n",
    "results = st.ttest_ind(\n",
    "    actual_data_stat[actual_data_stat['genre'] =='Action']['user_score'], \n",
    "    actual_data_stat[actual_data_stat['genre'] =='Sports']['user_score'],\n",
    "    equal_var=False\n",
    ")\n",
    "# значение уровня значимости\n",
    "alpha = 0.05\n",
    "\n",
    "# вывод значения p-value на экран \n",
    "print(results.pvalue)\n",
    "# условный оператор с выводом строки с ответом\n",
    "if results.pvalue < alpha:\n",
    "    print(\"Отвергаем нулевую гипотезу\")\n",
    "else:\n",
    "    print(\"Не получилось отвергнуть нулевую гипотезу\")"
   ]
  },
  {
   "cell_type": "markdown",
   "metadata": {},
   "source": [
    "#### Промежуточный вывод:"
   ]
  },
  {
   "cell_type": "markdown",
   "metadata": {},
   "source": [
    "- Средние пользовательские рейтинги платформ Xbox One и PC одинаковые;\n",
    "- Средние пользовательские рейтинги жанров Action (англ. «действие», экшен-игры) и Sports (англ. «спортивные соревнования») разные."
   ]
  },
  {
   "cell_type": "markdown",
   "metadata": {},
   "source": [
    "### Вывод:"
   ]
  },
  {
   "cell_type": "markdown",
   "metadata": {},
   "source": [
    "В ходе выподнения работы было сделано:\n",
    "1. Предобработка данных:\n",
    "- Заменили названия столбцов (привели к нижнему регистру);\n",
    "- Преобразовали данные в нужные типы.\n",
    "- Обработали пропуски.\n",
    "- Посчитали суммарные продажи во всех регионах и записали их в отдельный столбец.\n",
    "2. Исследовательский анализ данных:\n",
    "- Рассмотрели выпуск игр в разные годы. До 1990 года объем выпускаемых игр очень мал.\n",
    "- Выявлен срок жизни платформы в среднем 10 лет.\n",
    "- В качестве актуального периода для ислледования был взят период 2013-2016 годы.\n",
    "- Лидруют платформы XOne и PS4.\n",
    "- Установлено влияние на продажи мнение критиков. Влияния пользователей на продажи нет.\n",
    "- На других платформах так же критики оказывают незначиетльено влияние на проджаи.\n",
    "- Самые прибыльные жанры - Shooter и Sports, и жанры с самыми низкими продажами - Adventure и Puzzle.\n",
    "3. Портрет пользователя каждого региона:\n",
    "- Составлен портрет пользователя каждого региона (NA, EU, JP):\n",
    "- Самые популярные платформы (топ-5) для NA и EU: PS4, PS3, XOne, X360, 3DS.\n",
    "- Самые популярные платформы (топ-5) для JP: 3DS, PS3, PSV, PS4, WiiU.\n",
    "- Самые популярные жанры (топ-5) для NA и EU: Action, Shooter, Sports, Role-Playing, Misc.\n",
    "- Самые популярные жанры (топ-5) для JP: Role-Playing, Action, Misc, Fighting, Shooter.\n",
    "- Рейтинг ESRB влияет на продажи в регионе JP.\n",
    "4. Произведена проверка гипотез:\n",
    "- Средние пользовательские рейтинги платформ Xbox One и PC одинаковые;\n",
    "- Средние пользовательские рейтинги жанров Action (англ. «действие», экшен-игры) и Sports (англ. «спортивные соревнования») разные."
   ]
  },
  {
   "cell_type": "code",
   "execution_count": null,
   "metadata": {},
   "outputs": [],
   "source": []
  }
 ],
 "metadata": {
  "ExecuteTimeLog": [
   {
    "duration": 50,
    "start_time": "2022-10-17T09:22:39.996Z"
   },
   {
    "duration": 432,
    "start_time": "2022-10-17T09:22:49.427Z"
   },
   {
    "duration": 197,
    "start_time": "2022-10-17T09:22:51.193Z"
   },
   {
    "duration": 29,
    "start_time": "2022-10-17T09:22:52.314Z"
   },
   {
    "duration": 18,
    "start_time": "2022-10-17T09:23:43.182Z"
   },
   {
    "duration": 13,
    "start_time": "2022-10-17T09:24:37.401Z"
   },
   {
    "duration": 14,
    "start_time": "2022-10-17T09:24:42.346Z"
   },
   {
    "duration": 19,
    "start_time": "2022-10-17T09:39:57.075Z"
   },
   {
    "duration": 76,
    "start_time": "2022-10-17T11:04:16.826Z"
   },
   {
    "duration": 5,
    "start_time": "2022-10-17T11:13:29.930Z"
   },
   {
    "duration": 16,
    "start_time": "2022-10-17T11:13:42.985Z"
   },
   {
    "duration": 5,
    "start_time": "2022-10-17T11:13:50.443Z"
   },
   {
    "duration": 47,
    "start_time": "2022-10-18T02:54:23.340Z"
   },
   {
    "duration": 356,
    "start_time": "2022-10-18T02:54:34.565Z"
   },
   {
    "duration": 70,
    "start_time": "2022-10-18T02:54:35.080Z"
   },
   {
    "duration": 25,
    "start_time": "2022-10-18T02:54:36.393Z"
   },
   {
    "duration": 16,
    "start_time": "2022-10-18T02:54:37.090Z"
   },
   {
    "duration": 5,
    "start_time": "2022-10-18T02:54:38.939Z"
   },
   {
    "duration": 47,
    "start_time": "2022-10-18T02:54:40.482Z"
   },
   {
    "duration": 3,
    "start_time": "2022-10-18T02:57:47.928Z"
   },
   {
    "duration": 15,
    "start_time": "2022-10-18T02:57:58.079Z"
   },
   {
    "duration": 24,
    "start_time": "2022-10-18T02:58:16.992Z"
   },
   {
    "duration": 23,
    "start_time": "2022-10-18T03:00:28.488Z"
   },
   {
    "duration": 12,
    "start_time": "2022-10-18T03:02:45.310Z"
   },
   {
    "duration": 26,
    "start_time": "2022-10-18T03:02:58.058Z"
   },
   {
    "duration": 22,
    "start_time": "2022-10-18T03:04:03.005Z"
   },
   {
    "duration": 23,
    "start_time": "2022-10-18T03:04:41.920Z"
   },
   {
    "duration": 23,
    "start_time": "2022-10-18T03:05:01.240Z"
   },
   {
    "duration": 3,
    "start_time": "2022-10-18T03:05:27.049Z"
   },
   {
    "duration": 50,
    "start_time": "2022-10-18T03:05:27.519Z"
   },
   {
    "duration": 18,
    "start_time": "2022-10-18T03:05:28.266Z"
   },
   {
    "duration": 14,
    "start_time": "2022-10-18T03:05:29.185Z"
   },
   {
    "duration": 4,
    "start_time": "2022-10-18T03:05:45.179Z"
   },
   {
    "duration": 8,
    "start_time": "2022-10-18T03:07:19.705Z"
   },
   {
    "duration": 4,
    "start_time": "2022-10-18T03:12:17.655Z"
   },
   {
    "duration": 26,
    "start_time": "2022-10-18T03:12:18.950Z"
   },
   {
    "duration": 4,
    "start_time": "2022-10-18T03:16:08.422Z"
   },
   {
    "duration": 4,
    "start_time": "2022-10-18T03:16:20.726Z"
   },
   {
    "duration": 42,
    "start_time": "2022-10-18T03:16:51.891Z"
   },
   {
    "duration": 47,
    "start_time": "2022-10-18T03:17:03.465Z"
   },
   {
    "duration": 5,
    "start_time": "2022-10-18T03:17:30.008Z"
   },
   {
    "duration": 7,
    "start_time": "2022-10-18T03:18:24.147Z"
   },
   {
    "duration": 7,
    "start_time": "2022-10-18T03:18:36.208Z"
   },
   {
    "duration": 4,
    "start_time": "2022-10-18T03:18:57.916Z"
   },
   {
    "duration": 4,
    "start_time": "2022-10-18T03:19:04.767Z"
   },
   {
    "duration": 7,
    "start_time": "2022-10-18T03:19:14.910Z"
   },
   {
    "duration": 9,
    "start_time": "2022-10-18T03:19:43.516Z"
   },
   {
    "duration": 17,
    "start_time": "2022-10-18T03:22:13.713Z"
   },
   {
    "duration": 2147,
    "start_time": "2022-10-18T03:22:31.402Z"
   },
   {
    "duration": 1533,
    "start_time": "2022-10-18T03:22:51.589Z"
   },
   {
    "duration": 30,
    "start_time": "2022-10-18T03:23:04.549Z"
   },
   {
    "duration": 19,
    "start_time": "2022-10-18T03:23:22.497Z"
   },
   {
    "duration": 29,
    "start_time": "2022-10-18T03:23:45.193Z"
   },
   {
    "duration": 1110,
    "start_time": "2022-10-18T03:24:05.037Z"
   },
   {
    "duration": 1633,
    "start_time": "2022-10-18T03:24:27.113Z"
   },
   {
    "duration": 47,
    "start_time": "2022-10-18T03:24:51.930Z"
   },
   {
    "duration": 22,
    "start_time": "2022-10-18T03:25:13.676Z"
   },
   {
    "duration": 27,
    "start_time": "2022-10-18T03:27:38.057Z"
   },
   {
    "duration": 9,
    "start_time": "2022-10-18T03:38:01.775Z"
   },
   {
    "duration": 5,
    "start_time": "2022-10-18T03:38:05.965Z"
   },
   {
    "duration": 6,
    "start_time": "2022-10-18T03:53:02.698Z"
   },
   {
    "duration": 9,
    "start_time": "2022-10-18T03:53:15.798Z"
   },
   {
    "duration": 9,
    "start_time": "2022-10-18T03:55:11.839Z"
   },
   {
    "duration": 8,
    "start_time": "2022-10-18T03:55:33.763Z"
   },
   {
    "duration": 7,
    "start_time": "2022-10-18T03:55:43.851Z"
   },
   {
    "duration": 4,
    "start_time": "2022-10-18T03:55:59.308Z"
   },
   {
    "duration": 10,
    "start_time": "2022-10-18T03:59:07.354Z"
   },
   {
    "duration": 947,
    "start_time": "2022-10-18T03:59:11.745Z"
   },
   {
    "duration": 108,
    "start_time": "2022-10-18T03:59:18.164Z"
   },
   {
    "duration": 102,
    "start_time": "2022-10-18T03:59:30.104Z"
   },
   {
    "duration": 111,
    "start_time": "2022-10-18T04:00:35.273Z"
   },
   {
    "duration": 48,
    "start_time": "2022-10-18T04:03:34.657Z"
   },
   {
    "duration": 20,
    "start_time": "2022-10-18T04:03:46.357Z"
   },
   {
    "duration": 367,
    "start_time": "2022-10-18T04:03:58.768Z"
   },
   {
    "duration": 9,
    "start_time": "2022-10-18T04:06:56.266Z"
   },
   {
    "duration": 27,
    "start_time": "2022-10-18T04:08:47.320Z"
   },
   {
    "duration": 30,
    "start_time": "2022-10-18T04:09:07.878Z"
   },
   {
    "duration": 219,
    "start_time": "2022-10-18T04:09:40.039Z"
   },
   {
    "duration": 8,
    "start_time": "2022-10-18T04:11:09.186Z"
   },
   {
    "duration": 10,
    "start_time": "2022-10-18T04:11:46.330Z"
   },
   {
    "duration": 6,
    "start_time": "2022-10-18T04:12:18.196Z"
   },
   {
    "duration": 11,
    "start_time": "2022-10-18T04:12:54.419Z"
   },
   {
    "duration": 198,
    "start_time": "2022-10-18T04:13:22.942Z"
   },
   {
    "duration": 176,
    "start_time": "2022-10-18T04:13:33.882Z"
   },
   {
    "duration": 8,
    "start_time": "2022-10-18T04:20:11.555Z"
   },
   {
    "duration": 9,
    "start_time": "2022-10-18T04:20:44.926Z"
   },
   {
    "duration": 15,
    "start_time": "2022-10-18T04:21:38.666Z"
   },
   {
    "duration": 228,
    "start_time": "2022-10-18T04:21:58.173Z"
   },
   {
    "duration": 176,
    "start_time": "2022-10-18T04:22:28.894Z"
   },
   {
    "duration": 18,
    "start_time": "2022-10-18T04:22:51.894Z"
   },
   {
    "duration": 164,
    "start_time": "2022-10-18T04:24:06.793Z"
   },
   {
    "duration": 580,
    "start_time": "2022-10-18T04:24:26.929Z"
   },
   {
    "duration": 10,
    "start_time": "2022-10-18T04:24:51.001Z"
   },
   {
    "duration": 471,
    "start_time": "2022-10-18T04:24:59.518Z"
   },
   {
    "duration": 10,
    "start_time": "2022-10-18T04:26:28.525Z"
   },
   {
    "duration": 507,
    "start_time": "2022-10-18T04:26:50.924Z"
   },
   {
    "duration": 17,
    "start_time": "2022-10-18T04:34:16.235Z"
   },
   {
    "duration": 21,
    "start_time": "2022-10-18T04:34:30.158Z"
   },
   {
    "duration": 24,
    "start_time": "2022-10-18T04:34:40.211Z"
   },
   {
    "duration": 12,
    "start_time": "2022-10-18T04:35:26.057Z"
   },
   {
    "duration": 23,
    "start_time": "2022-10-18T04:36:07.680Z"
   },
   {
    "duration": 9,
    "start_time": "2022-10-18T04:36:17.231Z"
   },
   {
    "duration": 10,
    "start_time": "2022-10-18T04:36:24.459Z"
   },
   {
    "duration": 173,
    "start_time": "2022-10-18T04:36:44.184Z"
   },
   {
    "duration": 600,
    "start_time": "2022-10-18T04:36:56.738Z"
   },
   {
    "duration": 11,
    "start_time": "2022-10-18T04:37:05.897Z"
   },
   {
    "duration": 7,
    "start_time": "2022-10-18T04:37:35.483Z"
   },
   {
    "duration": 9,
    "start_time": "2022-10-18T04:37:43.659Z"
   },
   {
    "duration": 27,
    "start_time": "2022-10-18T04:38:57.115Z"
   },
   {
    "duration": 533,
    "start_time": "2022-10-18T04:39:03.784Z"
   },
   {
    "duration": 29,
    "start_time": "2022-10-18T04:41:33.684Z"
   },
   {
    "duration": 30,
    "start_time": "2022-10-18T04:41:47.520Z"
   },
   {
    "duration": 31,
    "start_time": "2022-10-18T04:44:12.376Z"
   },
   {
    "duration": 35,
    "start_time": "2022-10-18T04:44:58.473Z"
   },
   {
    "duration": 25,
    "start_time": "2022-10-18T04:45:30.874Z"
   },
   {
    "duration": 277,
    "start_time": "2022-10-18T04:50:53.618Z"
   },
   {
    "duration": 15,
    "start_time": "2022-10-18T04:51:38.816Z"
   },
   {
    "duration": 18,
    "start_time": "2022-10-18T04:52:30.279Z"
   },
   {
    "duration": 210,
    "start_time": "2022-10-18T04:52:37.737Z"
   },
   {
    "duration": 19,
    "start_time": "2022-10-18T04:52:47.793Z"
   },
   {
    "duration": 261,
    "start_time": "2022-10-18T04:55:00.972Z"
   },
   {
    "duration": 15,
    "start_time": "2022-10-18T04:55:14.583Z"
   },
   {
    "duration": 25,
    "start_time": "2022-10-18T04:55:20.559Z"
   },
   {
    "duration": 241,
    "start_time": "2022-10-18T04:55:21.693Z"
   },
   {
    "duration": 153,
    "start_time": "2022-10-18T04:57:00.553Z"
   },
   {
    "duration": 255,
    "start_time": "2022-10-18T04:57:54.630Z"
   },
   {
    "duration": 176,
    "start_time": "2022-10-18T05:00:02.291Z"
   },
   {
    "duration": 97,
    "start_time": "2022-10-18T05:00:08.097Z"
   },
   {
    "duration": 77,
    "start_time": "2022-10-18T05:00:17.412Z"
   },
   {
    "duration": 58,
    "start_time": "2022-10-18T05:00:29.738Z"
   },
   {
    "duration": 259,
    "start_time": "2022-10-18T05:00:43.188Z"
   },
   {
    "duration": 238,
    "start_time": "2022-10-18T05:00:53.113Z"
   },
   {
    "duration": 55,
    "start_time": "2022-10-18T05:02:11.241Z"
   },
   {
    "duration": 51,
    "start_time": "2022-10-18T05:02:16.389Z"
   },
   {
    "duration": 334,
    "start_time": "2022-10-18T05:02:30.748Z"
   },
   {
    "duration": 217,
    "start_time": "2022-10-18T05:02:52.071Z"
   },
   {
    "duration": 58,
    "start_time": "2022-10-18T05:04:20.992Z"
   },
   {
    "duration": 240,
    "start_time": "2022-10-18T05:04:26.372Z"
   },
   {
    "duration": 223,
    "start_time": "2022-10-18T05:04:55.747Z"
   },
   {
    "duration": 289,
    "start_time": "2022-10-18T05:06:16.189Z"
   },
   {
    "duration": 19,
    "start_time": "2022-10-18T05:06:39.286Z"
   },
   {
    "duration": 283,
    "start_time": "2022-10-18T05:06:40.073Z"
   },
   {
    "duration": 20,
    "start_time": "2022-10-18T05:09:53.189Z"
   },
   {
    "duration": 371,
    "start_time": "2022-10-18T05:09:54.040Z"
   },
   {
    "duration": 15,
    "start_time": "2022-10-18T05:10:17.425Z"
   },
   {
    "duration": 274,
    "start_time": "2022-10-18T05:10:18.260Z"
   },
   {
    "duration": 229,
    "start_time": "2022-10-18T05:10:29.133Z"
   },
   {
    "duration": 19,
    "start_time": "2022-10-18T05:14:16.419Z"
   },
   {
    "duration": 439,
    "start_time": "2022-10-18T05:14:19.172Z"
   },
   {
    "duration": 18,
    "start_time": "2022-10-18T05:15:25.185Z"
   },
   {
    "duration": 422,
    "start_time": "2022-10-18T05:15:28.004Z"
   },
   {
    "duration": 20,
    "start_time": "2022-10-18T05:16:02.662Z"
   },
   {
    "duration": 231,
    "start_time": "2022-10-18T05:16:14.981Z"
   },
   {
    "duration": 18,
    "start_time": "2022-10-18T05:18:47.841Z"
   },
   {
    "duration": 237,
    "start_time": "2022-10-18T05:18:50.903Z"
   },
   {
    "duration": 50,
    "start_time": "2022-10-18T05:23:43.685Z"
   },
   {
    "duration": 12,
    "start_time": "2022-10-18T05:23:56.539Z"
   },
   {
    "duration": 5,
    "start_time": "2022-10-18T05:24:13.378Z"
   },
   {
    "duration": 16,
    "start_time": "2022-10-18T05:24:29.022Z"
   },
   {
    "duration": 16,
    "start_time": "2022-10-18T05:24:36.179Z"
   },
   {
    "duration": 4,
    "start_time": "2022-10-18T05:25:23.944Z"
   },
   {
    "duration": 5,
    "start_time": "2022-10-18T05:26:18.927Z"
   },
   {
    "duration": 7,
    "start_time": "2022-10-18T05:26:59.736Z"
   },
   {
    "duration": 12,
    "start_time": "2022-10-18T05:29:01.220Z"
   },
   {
    "duration": 26,
    "start_time": "2022-10-18T05:30:13.108Z"
   },
   {
    "duration": 16,
    "start_time": "2022-10-18T05:30:27.498Z"
   },
   {
    "duration": 218,
    "start_time": "2022-10-18T05:30:46.381Z"
   },
   {
    "duration": 236,
    "start_time": "2022-10-18T05:31:12.470Z"
   },
   {
    "duration": 19,
    "start_time": "2022-10-18T05:31:34.788Z"
   },
   {
    "duration": 9,
    "start_time": "2022-10-18T05:32:47.484Z"
   },
   {
    "duration": 7,
    "start_time": "2022-10-18T05:33:04.094Z"
   },
   {
    "duration": 8,
    "start_time": "2022-10-18T05:33:37.791Z"
   },
   {
    "duration": 8,
    "start_time": "2022-10-18T05:33:49.172Z"
   },
   {
    "duration": 15,
    "start_time": "2022-10-18T05:35:26.500Z"
   },
   {
    "duration": 240,
    "start_time": "2022-10-18T05:35:30.721Z"
   },
   {
    "duration": 8,
    "start_time": "2022-10-18T05:35:49.367Z"
   },
   {
    "duration": 7,
    "start_time": "2022-10-18T05:36:14.697Z"
   },
   {
    "duration": 17,
    "start_time": "2022-10-18T05:36:16.426Z"
   },
   {
    "duration": 14,
    "start_time": "2022-10-18T05:36:21.580Z"
   },
   {
    "duration": 406,
    "start_time": "2022-10-18T05:36:22.608Z"
   },
   {
    "duration": 19,
    "start_time": "2022-10-18T05:36:58.420Z"
   },
   {
    "duration": 15,
    "start_time": "2022-10-18T05:37:43.748Z"
   },
   {
    "duration": 235,
    "start_time": "2022-10-18T05:37:44.937Z"
   },
   {
    "duration": 398,
    "start_time": "2022-10-18T05:43:13.041Z"
   },
   {
    "duration": 252,
    "start_time": "2022-10-18T05:43:30.075Z"
   },
   {
    "duration": 292,
    "start_time": "2022-10-18T05:43:39.308Z"
   },
   {
    "duration": 16,
    "start_time": "2022-10-18T05:43:55.453Z"
   },
   {
    "duration": 14,
    "start_time": "2022-10-18T05:43:58.693Z"
   },
   {
    "duration": 132,
    "start_time": "2022-10-18T05:44:06.137Z"
   },
   {
    "duration": 18,
    "start_time": "2022-10-18T05:44:36.204Z"
   },
   {
    "duration": 205,
    "start_time": "2022-10-18T05:45:20.379Z"
   },
   {
    "duration": 16,
    "start_time": "2022-10-18T05:45:45.381Z"
   },
   {
    "duration": 17,
    "start_time": "2022-10-18T05:45:52.709Z"
   },
   {
    "duration": 17,
    "start_time": "2022-10-18T05:46:07.693Z"
   },
   {
    "duration": 51,
    "start_time": "2022-10-18T05:46:38.738Z"
   },
   {
    "duration": 44,
    "start_time": "2022-10-18T05:46:45.111Z"
   },
   {
    "duration": 190,
    "start_time": "2022-10-18T05:46:50.437Z"
   },
   {
    "duration": 18,
    "start_time": "2022-10-18T05:48:15.903Z"
   },
   {
    "duration": 199,
    "start_time": "2022-10-18T05:48:52.541Z"
   },
   {
    "duration": 193,
    "start_time": "2022-10-18T05:49:26.503Z"
   },
   {
    "duration": 193,
    "start_time": "2022-10-18T05:49:47.625Z"
   },
   {
    "duration": 192,
    "start_time": "2022-10-18T05:49:58.598Z"
   },
   {
    "duration": 218,
    "start_time": "2022-10-18T05:50:08.388Z"
   },
   {
    "duration": 199,
    "start_time": "2022-10-18T05:50:25.979Z"
   },
   {
    "duration": 15,
    "start_time": "2022-10-18T05:50:57.119Z"
   },
   {
    "duration": 199,
    "start_time": "2022-10-18T05:51:00.901Z"
   },
   {
    "duration": 272,
    "start_time": "2022-10-18T05:51:10.309Z"
   },
   {
    "duration": 200,
    "start_time": "2022-10-18T05:51:15.691Z"
   },
   {
    "duration": 11,
    "start_time": "2022-10-18T05:51:49.662Z"
   },
   {
    "duration": 23,
    "start_time": "2022-10-18T05:51:54.721Z"
   },
   {
    "duration": 218,
    "start_time": "2022-10-18T05:51:55.571Z"
   },
   {
    "duration": 166,
    "start_time": "2022-10-18T05:56:43.885Z"
   },
   {
    "duration": 18,
    "start_time": "2022-10-18T06:07:01.605Z"
   },
   {
    "duration": 2,
    "start_time": "2022-10-18T06:07:02.919Z"
   },
   {
    "duration": 53,
    "start_time": "2022-10-18T06:07:02.923Z"
   },
   {
    "duration": 15,
    "start_time": "2022-10-18T06:07:03.856Z"
   },
   {
    "duration": 14,
    "start_time": "2022-10-18T06:08:36.734Z"
   },
   {
    "duration": 2,
    "start_time": "2022-10-18T06:10:12.098Z"
   },
   {
    "duration": 671,
    "start_time": "2022-10-18T06:10:37.593Z"
   },
   {
    "duration": 562,
    "start_time": "2022-10-18T06:11:41.231Z"
   },
   {
    "duration": 764,
    "start_time": "2022-10-18T06:12:06.751Z"
   },
   {
    "duration": 10,
    "start_time": "2022-10-18T06:12:34.690Z"
   },
   {
    "duration": 733,
    "start_time": "2022-10-18T06:12:39.941Z"
   },
   {
    "duration": 4,
    "start_time": "2022-10-18T06:12:42.028Z"
   },
   {
    "duration": 8,
    "start_time": "2022-10-18T06:12:43.135Z"
   },
   {
    "duration": 8,
    "start_time": "2022-10-18T06:12:44.751Z"
   },
   {
    "duration": 5,
    "start_time": "2022-10-18T06:12:46.918Z"
   },
   {
    "duration": 942,
    "start_time": "2022-10-18T06:13:28.910Z"
   },
   {
    "duration": 5,
    "start_time": "2022-10-18T06:16:34.484Z"
   },
   {
    "duration": 150,
    "start_time": "2022-10-18T06:19:10.422Z"
   },
   {
    "duration": 4,
    "start_time": "2022-10-18T06:19:27.095Z"
   },
   {
    "duration": 144,
    "start_time": "2022-10-18T06:19:47.731Z"
   },
   {
    "duration": 148,
    "start_time": "2022-10-18T06:20:19.345Z"
   },
   {
    "duration": 2,
    "start_time": "2022-10-18T06:22:05.181Z"
   },
   {
    "duration": 116,
    "start_time": "2022-10-18T06:22:53.110Z"
   },
   {
    "duration": 102,
    "start_time": "2022-10-18T06:23:03.791Z"
   },
   {
    "duration": 115,
    "start_time": "2022-10-18T06:23:14.219Z"
   },
   {
    "duration": 99,
    "start_time": "2022-10-18T06:23:19.340Z"
   },
   {
    "duration": 101,
    "start_time": "2022-10-18T06:23:41.068Z"
   },
   {
    "duration": 107,
    "start_time": "2022-10-18T06:23:48.217Z"
   },
   {
    "duration": 105,
    "start_time": "2022-10-18T06:24:12.032Z"
   },
   {
    "duration": 102,
    "start_time": "2022-10-18T06:24:26.708Z"
   },
   {
    "duration": 196,
    "start_time": "2022-10-18T06:24:51.985Z"
   },
   {
    "duration": 141,
    "start_time": "2022-10-18T06:26:51.636Z"
   },
   {
    "duration": 148,
    "start_time": "2022-10-18T06:26:54.530Z"
   },
   {
    "duration": 145,
    "start_time": "2022-10-18T06:27:30.043Z"
   },
   {
    "duration": 4,
    "start_time": "2022-10-18T06:28:00.720Z"
   },
   {
    "duration": 144,
    "start_time": "2022-10-18T06:28:28.552Z"
   },
   {
    "duration": 152,
    "start_time": "2022-10-18T06:28:48.414Z"
   },
   {
    "duration": 6,
    "start_time": "2022-10-18T06:30:36.290Z"
   },
   {
    "duration": 106,
    "start_time": "2022-10-18T06:30:41.533Z"
   },
   {
    "duration": 3,
    "start_time": "2022-10-18T06:30:48.258Z"
   },
   {
    "duration": 34,
    "start_time": "2022-10-18T06:30:48.671Z"
   },
   {
    "duration": 13,
    "start_time": "2022-10-18T06:30:49.116Z"
   },
   {
    "duration": 14,
    "start_time": "2022-10-18T06:30:49.635Z"
   },
   {
    "duration": 663,
    "start_time": "2022-10-18T06:30:50.190Z"
   },
   {
    "duration": 4,
    "start_time": "2022-10-18T06:30:51.547Z"
   },
   {
    "duration": 8,
    "start_time": "2022-10-18T06:30:52.646Z"
   },
   {
    "duration": 7,
    "start_time": "2022-10-18T06:30:53.505Z"
   },
   {
    "duration": 5,
    "start_time": "2022-10-18T06:30:55.657Z"
   },
   {
    "duration": 2,
    "start_time": "2022-10-18T06:30:56.680Z"
   },
   {
    "duration": 200,
    "start_time": "2022-10-18T06:30:57.331Z"
   },
   {
    "duration": 6,
    "start_time": "2022-10-18T06:31:00.470Z"
   },
   {
    "duration": 6,
    "start_time": "2022-10-18T06:31:04.665Z"
   },
   {
    "duration": 150,
    "start_time": "2022-10-18T06:31:06.511Z"
   },
   {
    "duration": 8,
    "start_time": "2022-10-18T06:31:09.033Z"
   },
   {
    "duration": 15,
    "start_time": "2022-10-18T06:31:10.719Z"
   },
   {
    "duration": 225,
    "start_time": "2022-10-18T06:31:11.494Z"
   },
   {
    "duration": 160,
    "start_time": "2022-10-18T06:31:17.313Z"
   },
   {
    "duration": 4,
    "start_time": "2022-10-18T06:31:17.963Z"
   },
   {
    "duration": 140,
    "start_time": "2022-10-18T06:31:20.599Z"
   },
   {
    "duration": 5,
    "start_time": "2022-10-18T06:31:29.961Z"
   },
   {
    "duration": 3,
    "start_time": "2022-10-18T06:32:28.919Z"
   },
   {
    "duration": 32,
    "start_time": "2022-10-18T06:32:29.442Z"
   },
   {
    "duration": 13,
    "start_time": "2022-10-18T06:32:29.722Z"
   },
   {
    "duration": 13,
    "start_time": "2022-10-18T06:32:30.116Z"
   },
   {
    "duration": 672,
    "start_time": "2022-10-18T06:32:30.590Z"
   },
   {
    "duration": 5,
    "start_time": "2022-10-18T06:32:31.621Z"
   },
   {
    "duration": 7,
    "start_time": "2022-10-18T06:32:32.838Z"
   },
   {
    "duration": 7,
    "start_time": "2022-10-18T06:32:33.769Z"
   },
   {
    "duration": 5,
    "start_time": "2022-10-18T06:32:35.351Z"
   },
   {
    "duration": 3,
    "start_time": "2022-10-18T06:32:39.895Z"
   },
   {
    "duration": 113,
    "start_time": "2022-10-18T06:32:41.022Z"
   },
   {
    "duration": 6,
    "start_time": "2022-10-18T06:32:51.417Z"
   },
   {
    "duration": 6,
    "start_time": "2022-10-18T06:32:54.817Z"
   },
   {
    "duration": 152,
    "start_time": "2022-10-18T06:32:55.775Z"
   },
   {
    "duration": 8,
    "start_time": "2022-10-18T06:32:57.290Z"
   },
   {
    "duration": 15,
    "start_time": "2022-10-18T06:32:58.491Z"
   },
   {
    "duration": 302,
    "start_time": "2022-10-18T06:32:59.217Z"
   },
   {
    "duration": 168,
    "start_time": "2022-10-18T06:33:03.622Z"
   },
   {
    "duration": 4,
    "start_time": "2022-10-18T06:33:05.755Z"
   },
   {
    "duration": 156,
    "start_time": "2022-10-18T06:33:07.678Z"
   },
   {
    "duration": 103,
    "start_time": "2022-10-18T06:33:31.536Z"
   },
   {
    "duration": 17,
    "start_time": "2022-10-18T06:34:06.553Z"
   },
   {
    "duration": 2,
    "start_time": "2022-10-18T06:34:17.256Z"
   },
   {
    "duration": 34,
    "start_time": "2022-10-18T06:34:17.794Z"
   },
   {
    "duration": 14,
    "start_time": "2022-10-18T06:34:18.783Z"
   },
   {
    "duration": 13,
    "start_time": "2022-10-18T06:34:29.289Z"
   },
   {
    "duration": 651,
    "start_time": "2022-10-18T06:34:31.902Z"
   },
   {
    "duration": 5,
    "start_time": "2022-10-18T06:34:36.768Z"
   },
   {
    "duration": 7,
    "start_time": "2022-10-18T06:34:40.031Z"
   },
   {
    "duration": 8,
    "start_time": "2022-10-18T06:34:41.273Z"
   },
   {
    "duration": 6,
    "start_time": "2022-10-18T06:34:42.781Z"
   },
   {
    "duration": 3,
    "start_time": "2022-10-18T06:34:43.879Z"
   },
   {
    "duration": 112,
    "start_time": "2022-10-18T06:34:45.913Z"
   },
   {
    "duration": 6,
    "start_time": "2022-10-18T06:34:50.133Z"
   },
   {
    "duration": 6,
    "start_time": "2022-10-18T06:34:51.639Z"
   },
   {
    "duration": 161,
    "start_time": "2022-10-18T06:34:57.517Z"
   },
   {
    "duration": 8,
    "start_time": "2022-10-18T06:35:00.431Z"
   },
   {
    "duration": 14,
    "start_time": "2022-10-18T06:35:02.144Z"
   },
   {
    "duration": 14,
    "start_time": "2022-10-18T06:35:10.231Z"
   },
   {
    "duration": 14,
    "start_time": "2022-10-18T06:35:17.574Z"
   },
   {
    "duration": 208,
    "start_time": "2022-10-18T06:35:18.425Z"
   },
   {
    "duration": 260,
    "start_time": "2022-10-18T06:35:30.065Z"
   },
   {
    "duration": 5,
    "start_time": "2022-10-18T06:35:39.540Z"
   },
   {
    "duration": 156,
    "start_time": "2022-10-18T06:35:40.452Z"
   },
   {
    "duration": 4,
    "start_time": "2022-10-18T06:35:42.382Z"
   },
   {
    "duration": 115,
    "start_time": "2022-10-18T06:36:11.304Z"
   },
   {
    "duration": 6,
    "start_time": "2022-10-18T06:36:46.995Z"
   },
   {
    "duration": 6,
    "start_time": "2022-10-18T06:36:52.395Z"
   },
   {
    "duration": 151,
    "start_time": "2022-10-18T06:36:52.891Z"
   },
   {
    "duration": 7,
    "start_time": "2022-10-18T06:36:53.640Z"
   },
   {
    "duration": 15,
    "start_time": "2022-10-18T06:36:54.254Z"
   },
   {
    "duration": 224,
    "start_time": "2022-10-18T06:36:54.614Z"
   },
   {
    "duration": 173,
    "start_time": "2022-10-18T06:37:14.609Z"
   },
   {
    "duration": 5,
    "start_time": "2022-10-18T06:37:15.931Z"
   },
   {
    "duration": 174,
    "start_time": "2022-10-18T06:37:17.330Z"
   },
   {
    "duration": 2,
    "start_time": "2022-10-18T06:37:44.122Z"
   },
   {
    "duration": 33,
    "start_time": "2022-10-18T06:37:44.491Z"
   },
   {
    "duration": 14,
    "start_time": "2022-10-18T06:37:44.853Z"
   },
   {
    "duration": 13,
    "start_time": "2022-10-18T06:37:45.284Z"
   },
   {
    "duration": 670,
    "start_time": "2022-10-18T06:37:45.778Z"
   },
   {
    "duration": 5,
    "start_time": "2022-10-18T06:37:47.031Z"
   },
   {
    "duration": 764,
    "start_time": "2022-10-18T06:37:57.935Z"
   },
   {
    "duration": 6,
    "start_time": "2022-10-18T06:37:59.649Z"
   },
   {
    "duration": 9,
    "start_time": "2022-10-18T06:38:00.672Z"
   },
   {
    "duration": 10,
    "start_time": "2022-10-18T06:38:01.729Z"
   },
   {
    "duration": 5,
    "start_time": "2022-10-18T06:38:02.589Z"
   },
   {
    "duration": 3,
    "start_time": "2022-10-18T06:38:03.554Z"
   },
   {
    "duration": 120,
    "start_time": "2022-10-18T06:38:04.081Z"
   },
   {
    "duration": 7,
    "start_time": "2022-10-18T06:38:08.114Z"
   },
   {
    "duration": 6,
    "start_time": "2022-10-18T06:38:17.848Z"
   },
   {
    "duration": 6,
    "start_time": "2022-10-18T06:38:31.980Z"
   },
   {
    "duration": 157,
    "start_time": "2022-10-18T06:38:32.367Z"
   },
   {
    "duration": 7,
    "start_time": "2022-10-18T06:38:33.409Z"
   },
   {
    "duration": 13,
    "start_time": "2022-10-18T06:38:33.886Z"
   },
   {
    "duration": 217,
    "start_time": "2022-10-18T06:38:34.124Z"
   },
   {
    "duration": 153,
    "start_time": "2022-10-18T06:38:38.615Z"
   },
   {
    "duration": 5,
    "start_time": "2022-10-18T06:38:38.907Z"
   },
   {
    "duration": 148,
    "start_time": "2022-10-18T06:38:39.665Z"
   },
   {
    "duration": 4,
    "start_time": "2022-10-18T06:38:40.258Z"
   },
   {
    "duration": 15,
    "start_time": "2022-10-18T06:38:42.797Z"
   },
   {
    "duration": 186,
    "start_time": "2022-10-18T06:38:43.909Z"
   },
   {
    "duration": 14,
    "start_time": "2022-10-18T06:41:48.677Z"
   },
   {
    "duration": 286,
    "start_time": "2022-10-18T06:41:58.924Z"
   },
   {
    "duration": 2,
    "start_time": "2022-10-18T06:42:38.820Z"
   },
   {
    "duration": 39,
    "start_time": "2022-10-18T06:42:39.002Z"
   },
   {
    "duration": 14,
    "start_time": "2022-10-18T06:42:39.354Z"
   },
   {
    "duration": 13,
    "start_time": "2022-10-18T06:42:39.696Z"
   },
   {
    "duration": 778,
    "start_time": "2022-10-18T06:42:40.061Z"
   },
   {
    "duration": 5,
    "start_time": "2022-10-18T06:42:40.841Z"
   },
   {
    "duration": 7,
    "start_time": "2022-10-18T06:42:40.965Z"
   },
   {
    "duration": 9,
    "start_time": "2022-10-18T06:42:41.331Z"
   },
   {
    "duration": 5,
    "start_time": "2022-10-18T06:42:41.704Z"
   },
   {
    "duration": 3,
    "start_time": "2022-10-18T06:42:42.082Z"
   },
   {
    "duration": 119,
    "start_time": "2022-10-18T06:42:42.261Z"
   },
   {
    "duration": 4,
    "start_time": "2022-10-18T06:42:42.433Z"
   },
   {
    "duration": 6,
    "start_time": "2022-10-18T06:42:43.600Z"
   },
   {
    "duration": 164,
    "start_time": "2022-10-18T06:42:43.964Z"
   },
   {
    "duration": 6,
    "start_time": "2022-10-18T06:42:44.909Z"
   },
   {
    "duration": 14,
    "start_time": "2022-10-18T06:42:45.433Z"
   },
   {
    "duration": 244,
    "start_time": "2022-10-18T06:42:45.681Z"
   },
   {
    "duration": 15,
    "start_time": "2022-10-18T06:44:10.923Z"
   },
   {
    "duration": 354,
    "start_time": "2022-10-18T06:44:11.878Z"
   },
   {
    "duration": 354,
    "start_time": "2022-10-18T06:45:45.149Z"
   },
   {
    "duration": 16,
    "start_time": "2022-10-18T06:45:57.515Z"
   },
   {
    "duration": 335,
    "start_time": "2022-10-18T06:46:02.216Z"
   },
   {
    "duration": 6,
    "start_time": "2022-10-18T06:52:20.451Z"
   },
   {
    "duration": 15,
    "start_time": "2022-10-18T06:52:53.949Z"
   },
   {
    "duration": 197,
    "start_time": "2022-10-18T06:52:55.289Z"
   },
   {
    "duration": 15,
    "start_time": "2022-10-18T06:53:25.920Z"
   },
   {
    "duration": 11,
    "start_time": "2022-10-18T06:54:18.653Z"
   },
   {
    "duration": 6,
    "start_time": "2022-10-18T06:54:36.568Z"
   },
   {
    "duration": 14,
    "start_time": "2022-10-18T06:54:37.885Z"
   },
   {
    "duration": 8,
    "start_time": "2022-10-18T06:56:08.608Z"
   },
   {
    "duration": 13,
    "start_time": "2022-10-18T06:56:29.968Z"
   },
   {
    "duration": 277,
    "start_time": "2022-10-18T06:57:25.767Z"
   },
   {
    "duration": 15,
    "start_time": "2022-10-18T06:58:21.535Z"
   },
   {
    "duration": 14,
    "start_time": "2022-10-18T06:58:27.984Z"
   },
   {
    "duration": 215,
    "start_time": "2022-10-18T06:58:40.947Z"
   },
   {
    "duration": 14,
    "start_time": "2022-10-18T06:59:27.020Z"
   },
   {
    "duration": 202,
    "start_time": "2022-10-18T06:59:34.265Z"
   },
   {
    "duration": 185,
    "start_time": "2022-10-18T07:00:14.634Z"
   },
   {
    "duration": 219,
    "start_time": "2022-10-18T07:00:27.147Z"
   },
   {
    "duration": 6,
    "start_time": "2022-10-18T07:00:49.084Z"
   },
   {
    "duration": 15,
    "start_time": "2022-10-18T07:00:50.699Z"
   },
   {
    "duration": 205,
    "start_time": "2022-10-18T07:00:52.652Z"
   },
   {
    "duration": 5,
    "start_time": "2022-10-18T07:02:28.317Z"
   },
   {
    "duration": 15,
    "start_time": "2022-10-18T07:02:29.839Z"
   },
   {
    "duration": 5,
    "start_time": "2022-10-18T07:03:07.610Z"
   },
   {
    "duration": 14,
    "start_time": "2022-10-18T07:03:09.159Z"
   },
   {
    "duration": 192,
    "start_time": "2022-10-18T07:03:09.955Z"
   },
   {
    "duration": 15,
    "start_time": "2022-10-18T07:03:34.184Z"
   },
   {
    "duration": 249,
    "start_time": "2022-10-18T07:03:41.002Z"
   },
   {
    "duration": 5,
    "start_time": "2022-10-18T07:04:23.854Z"
   },
   {
    "duration": 14,
    "start_time": "2022-10-18T07:04:25.091Z"
   },
   {
    "duration": 210,
    "start_time": "2022-10-18T07:04:26.393Z"
   },
   {
    "duration": 303,
    "start_time": "2022-10-18T07:04:44.557Z"
   },
   {
    "duration": 15,
    "start_time": "2022-10-18T07:06:42.767Z"
   },
   {
    "duration": 14,
    "start_time": "2022-10-18T07:07:11.544Z"
   },
   {
    "duration": 3,
    "start_time": "2022-10-18T07:10:11.613Z"
   },
   {
    "duration": 35,
    "start_time": "2022-10-18T07:10:12.018Z"
   },
   {
    "duration": 15,
    "start_time": "2022-10-18T07:10:12.414Z"
   },
   {
    "duration": 13,
    "start_time": "2022-10-18T07:10:12.792Z"
   },
   {
    "duration": 678,
    "start_time": "2022-10-18T07:10:13.185Z"
   },
   {
    "duration": 5,
    "start_time": "2022-10-18T07:10:13.865Z"
   },
   {
    "duration": 8,
    "start_time": "2022-10-18T07:10:14.193Z"
   },
   {
    "duration": 9,
    "start_time": "2022-10-18T07:10:14.636Z"
   },
   {
    "duration": 5,
    "start_time": "2022-10-18T07:10:15.056Z"
   },
   {
    "duration": 3,
    "start_time": "2022-10-18T07:10:15.478Z"
   },
   {
    "duration": 3,
    "start_time": "2022-10-18T07:10:15.662Z"
   },
   {
    "duration": 3,
    "start_time": "2022-10-18T07:10:15.866Z"
   },
   {
    "duration": 6,
    "start_time": "2022-10-18T07:10:17.157Z"
   },
   {
    "duration": 163,
    "start_time": "2022-10-18T07:10:17.633Z"
   },
   {
    "duration": 7,
    "start_time": "2022-10-18T07:10:18.425Z"
   },
   {
    "duration": 17,
    "start_time": "2022-10-18T07:10:18.926Z"
   },
   {
    "duration": 200,
    "start_time": "2022-10-18T07:10:19.233Z"
   },
   {
    "duration": 5,
    "start_time": "2022-10-18T07:10:20.893Z"
   },
   {
    "duration": 14,
    "start_time": "2022-10-18T07:10:22.417Z"
   },
   {
    "duration": 218,
    "start_time": "2022-10-18T07:10:24.074Z"
   },
   {
    "duration": 108,
    "start_time": "2022-10-18T07:15:02.195Z"
   },
   {
    "duration": 117,
    "start_time": "2022-10-18T07:16:50.962Z"
   },
   {
    "duration": 104,
    "start_time": "2022-10-18T07:17:03.539Z"
   },
   {
    "duration": 34,
    "start_time": "2022-10-18T07:18:38.882Z"
   },
   {
    "duration": 2,
    "start_time": "2022-10-18T07:19:18.460Z"
   },
   {
    "duration": 213,
    "start_time": "2022-10-18T07:24:51.028Z"
   },
   {
    "duration": 112,
    "start_time": "2022-10-18T07:25:12.973Z"
   },
   {
    "duration": 109,
    "start_time": "2022-10-18T07:25:46.884Z"
   },
   {
    "duration": 104,
    "start_time": "2022-10-18T07:26:16.367Z"
   },
   {
    "duration": 26,
    "start_time": "2022-10-18T07:27:09.929Z"
   },
   {
    "duration": 26,
    "start_time": "2022-10-18T07:27:19.929Z"
   },
   {
    "duration": 28,
    "start_time": "2022-10-18T07:27:26.324Z"
   },
   {
    "duration": 106,
    "start_time": "2022-10-18T07:28:16.360Z"
   },
   {
    "duration": 113,
    "start_time": "2022-10-18T07:28:35.089Z"
   },
   {
    "duration": 102,
    "start_time": "2022-10-18T07:28:42.283Z"
   },
   {
    "duration": 96,
    "start_time": "2022-10-18T07:30:15.115Z"
   },
   {
    "duration": 101,
    "start_time": "2022-10-18T07:31:03.258Z"
   },
   {
    "duration": 97,
    "start_time": "2022-10-18T07:31:10.353Z"
   },
   {
    "duration": 109,
    "start_time": "2022-10-18T07:31:37.309Z"
   },
   {
    "duration": 145,
    "start_time": "2022-10-18T07:32:49.005Z"
   },
   {
    "duration": 5,
    "start_time": "2022-10-18T07:32:59.423Z"
   },
   {
    "duration": 127,
    "start_time": "2022-10-18T07:33:10.750Z"
   },
   {
    "duration": 5,
    "start_time": "2022-10-18T07:33:16.126Z"
   },
   {
    "duration": 3,
    "start_time": "2022-10-18T08:13:51.082Z"
   },
   {
    "duration": 40,
    "start_time": "2022-10-18T08:13:51.318Z"
   },
   {
    "duration": 16,
    "start_time": "2022-10-18T08:13:52.121Z"
   },
   {
    "duration": 13,
    "start_time": "2022-10-18T08:13:52.550Z"
   },
   {
    "duration": 775,
    "start_time": "2022-10-18T08:13:52.941Z"
   },
   {
    "duration": 5,
    "start_time": "2022-10-18T08:13:53.721Z"
   },
   {
    "duration": 8,
    "start_time": "2022-10-18T08:13:53.949Z"
   },
   {
    "duration": 7,
    "start_time": "2022-10-18T08:13:54.401Z"
   },
   {
    "duration": 5,
    "start_time": "2022-10-18T08:13:54.841Z"
   },
   {
    "duration": 7,
    "start_time": "2022-10-18T08:13:56.518Z"
   },
   {
    "duration": 155,
    "start_time": "2022-10-18T08:13:57.328Z"
   },
   {
    "duration": 7,
    "start_time": "2022-10-18T08:13:58.806Z"
   },
   {
    "duration": 14,
    "start_time": "2022-10-18T08:13:59.621Z"
   },
   {
    "duration": 204,
    "start_time": "2022-10-18T08:14:00.030Z"
   },
   {
    "duration": 5,
    "start_time": "2022-10-18T08:14:02.019Z"
   },
   {
    "duration": 14,
    "start_time": "2022-10-18T08:14:03.004Z"
   },
   {
    "duration": 214,
    "start_time": "2022-10-18T08:14:03.476Z"
   },
   {
    "duration": 3,
    "start_time": "2022-10-18T08:14:06.098Z"
   },
   {
    "duration": 114,
    "start_time": "2022-10-18T08:14:06.963Z"
   },
   {
    "duration": 98,
    "start_time": "2022-10-18T08:14:08.587Z"
   },
   {
    "duration": 133,
    "start_time": "2022-10-18T08:14:11.873Z"
   },
   {
    "duration": 5,
    "start_time": "2022-10-18T08:14:12.577Z"
   },
   {
    "duration": 128,
    "start_time": "2022-10-18T08:14:14.074Z"
   },
   {
    "duration": 5,
    "start_time": "2022-10-18T08:14:15.807Z"
   },
   {
    "duration": 14,
    "start_time": "2022-10-18T08:14:26.141Z"
   },
   {
    "duration": 14,
    "start_time": "2022-10-18T08:14:47.652Z"
   },
   {
    "duration": 15,
    "start_time": "2022-10-18T08:15:02.620Z"
   },
   {
    "duration": 16,
    "start_time": "2022-10-18T08:15:29.266Z"
   },
   {
    "duration": 50,
    "start_time": "2022-10-18T08:17:34.795Z"
   },
   {
    "duration": 52,
    "start_time": "2022-10-18T08:17:38.489Z"
   },
   {
    "duration": 12,
    "start_time": "2022-10-18T08:17:45.702Z"
   },
   {
    "duration": 13,
    "start_time": "2022-10-18T08:17:53.982Z"
   },
   {
    "duration": 21,
    "start_time": "2022-10-18T08:18:41.862Z"
   },
   {
    "duration": 14,
    "start_time": "2022-10-18T08:18:51.858Z"
   },
   {
    "duration": 15,
    "start_time": "2022-10-18T08:20:04.859Z"
   },
   {
    "duration": 15,
    "start_time": "2022-10-18T08:20:17.281Z"
   },
   {
    "duration": 57,
    "start_time": "2022-10-18T08:23:36.785Z"
   },
   {
    "duration": 144,
    "start_time": "2022-10-18T08:23:43.208Z"
   },
   {
    "duration": 8,
    "start_time": "2022-10-18T08:24:01.659Z"
   },
   {
    "duration": 237,
    "start_time": "2022-10-18T08:24:34.687Z"
   },
   {
    "duration": 7,
    "start_time": "2022-10-18T08:24:41.333Z"
   },
   {
    "duration": 185,
    "start_time": "2022-10-18T08:29:56.374Z"
   },
   {
    "duration": 161,
    "start_time": "2022-10-18T08:30:06.985Z"
   },
   {
    "duration": 155,
    "start_time": "2022-10-18T08:31:58.336Z"
   },
   {
    "duration": 6,
    "start_time": "2022-10-18T08:32:05.524Z"
   },
   {
    "duration": 167,
    "start_time": "2022-10-18T08:32:11.380Z"
   },
   {
    "duration": 9,
    "start_time": "2022-10-18T08:32:18.262Z"
   },
   {
    "duration": 157,
    "start_time": "2022-10-18T08:34:36.413Z"
   },
   {
    "duration": 6,
    "start_time": "2022-10-18T08:34:38.065Z"
   },
   {
    "duration": 170,
    "start_time": "2022-10-18T08:34:38.737Z"
   },
   {
    "duration": 18,
    "start_time": "2022-10-18T08:36:45.032Z"
   },
   {
    "duration": 22,
    "start_time": "2022-10-18T08:37:07.461Z"
   },
   {
    "duration": 21,
    "start_time": "2022-10-18T08:38:03.783Z"
   },
   {
    "duration": 2673,
    "start_time": "2022-10-18T08:44:22.761Z"
   },
   {
    "duration": 2707,
    "start_time": "2022-10-18T08:44:36.830Z"
   },
   {
    "duration": 1433,
    "start_time": "2022-10-18T08:45:49.759Z"
   },
   {
    "duration": 2815,
    "start_time": "2022-10-18T08:46:04.531Z"
   },
   {
    "duration": 8,
    "start_time": "2022-10-18T08:47:54.401Z"
   },
   {
    "duration": 8,
    "start_time": "2022-10-18T08:48:13.978Z"
   },
   {
    "duration": 15,
    "start_time": "2022-10-18T08:48:29.215Z"
   },
   {
    "duration": 16,
    "start_time": "2022-10-18T08:49:50.102Z"
   },
   {
    "duration": 228,
    "start_time": "2022-10-18T08:54:00.683Z"
   },
   {
    "duration": 111,
    "start_time": "2022-10-18T08:54:58.058Z"
   },
   {
    "duration": 106,
    "start_time": "2022-10-18T08:55:06.449Z"
   },
   {
    "duration": 100,
    "start_time": "2022-10-18T08:55:14.836Z"
   },
   {
    "duration": 6,
    "start_time": "2022-10-18T08:56:45.249Z"
   },
   {
    "duration": 153,
    "start_time": "2022-10-18T08:56:47.117Z"
   },
   {
    "duration": 224,
    "start_time": "2022-10-18T08:59:15.495Z"
   },
   {
    "duration": 14,
    "start_time": "2022-10-18T09:02:59.307Z"
   },
   {
    "duration": 14,
    "start_time": "2022-10-18T09:03:13.133Z"
   },
   {
    "duration": 15,
    "start_time": "2022-10-18T09:03:19.755Z"
   },
   {
    "duration": 291,
    "start_time": "2022-10-18T09:03:22.999Z"
   },
   {
    "duration": 15,
    "start_time": "2022-10-18T09:03:40.399Z"
   },
   {
    "duration": 280,
    "start_time": "2022-10-18T09:03:48.805Z"
   },
   {
    "duration": 8,
    "start_time": "2022-10-18T09:04:36.410Z"
   },
   {
    "duration": 158,
    "start_time": "2022-10-18T09:04:38.629Z"
   },
   {
    "duration": 7,
    "start_time": "2022-10-18T09:04:39.980Z"
   },
   {
    "duration": 166,
    "start_time": "2022-10-18T09:04:40.373Z"
   },
   {
    "duration": 7,
    "start_time": "2022-10-18T09:04:41.426Z"
   },
   {
    "duration": 8,
    "start_time": "2022-10-18T09:04:45.748Z"
   },
   {
    "duration": 226,
    "start_time": "2022-10-18T10:03:02.662Z"
   },
   {
    "duration": 256,
    "start_time": "2022-10-18T10:03:19.138Z"
   },
   {
    "duration": 12,
    "start_time": "2022-10-18T10:03:52.499Z"
   },
   {
    "duration": 16,
    "start_time": "2022-10-18T10:04:50.285Z"
   },
   {
    "duration": 17,
    "start_time": "2022-10-18T10:05:02.578Z"
   },
   {
    "duration": 18,
    "start_time": "2022-10-18T10:05:11.065Z"
   },
   {
    "duration": 13,
    "start_time": "2022-10-18T10:05:22.876Z"
   },
   {
    "duration": 13,
    "start_time": "2022-10-18T10:05:39.818Z"
   },
   {
    "duration": 4,
    "start_time": "2022-10-18T10:06:50.477Z"
   },
   {
    "duration": 74,
    "start_time": "2022-10-18T10:07:03.766Z"
   },
   {
    "duration": 330,
    "start_time": "2022-10-18T10:08:32.120Z"
   },
   {
    "duration": 17,
    "start_time": "2022-10-18T10:09:03.062Z"
   },
   {
    "duration": 16,
    "start_time": "2022-10-18T10:09:17.546Z"
   },
   {
    "duration": 763,
    "start_time": "2022-10-18T10:09:26.082Z"
   },
   {
    "duration": 13,
    "start_time": "2022-10-18T10:10:24.994Z"
   },
   {
    "duration": 15,
    "start_time": "2022-10-18T10:11:12.910Z"
   },
   {
    "duration": 16,
    "start_time": "2022-10-18T10:12:34.777Z"
   },
   {
    "duration": 15,
    "start_time": "2022-10-18T10:16:46.430Z"
   },
   {
    "duration": 5,
    "start_time": "2022-10-18T10:19:00.317Z"
   },
   {
    "duration": 12,
    "start_time": "2022-10-18T10:19:08.199Z"
   },
   {
    "duration": 13,
    "start_time": "2022-10-18T10:19:32.461Z"
   },
   {
    "duration": 15,
    "start_time": "2022-10-18T10:20:42.124Z"
   },
   {
    "duration": 15,
    "start_time": "2022-10-18T10:20:42.653Z"
   },
   {
    "duration": 4,
    "start_time": "2022-10-18T10:23:42.290Z"
   },
   {
    "duration": 14,
    "start_time": "2022-10-18T10:25:31.605Z"
   },
   {
    "duration": 15,
    "start_time": "2022-10-18T10:26:23.165Z"
   },
   {
    "duration": 16,
    "start_time": "2022-10-18T10:26:24.463Z"
   },
   {
    "duration": 16,
    "start_time": "2022-10-18T10:26:36.451Z"
   },
   {
    "duration": 15,
    "start_time": "2022-10-18T10:26:44.911Z"
   },
   {
    "duration": 15,
    "start_time": "2022-10-18T10:29:00.641Z"
   },
   {
    "duration": 990,
    "start_time": "2022-10-18T10:30:27.845Z"
   },
   {
    "duration": 177,
    "start_time": "2022-10-18T10:30:35.638Z"
   },
   {
    "duration": 163,
    "start_time": "2022-10-18T10:30:45.110Z"
   },
   {
    "duration": 182,
    "start_time": "2022-10-18T10:31:27.419Z"
   },
   {
    "duration": 160,
    "start_time": "2022-10-18T10:31:44.114Z"
   },
   {
    "duration": 174,
    "start_time": "2022-10-18T10:32:06.124Z"
   },
   {
    "duration": 178,
    "start_time": "2022-10-18T10:32:35.710Z"
   },
   {
    "duration": 155,
    "start_time": "2022-10-18T10:32:45.880Z"
   },
   {
    "duration": 156,
    "start_time": "2022-10-18T10:32:57.104Z"
   },
   {
    "duration": 163,
    "start_time": "2022-10-18T10:33:42.845Z"
   },
   {
    "duration": 845,
    "start_time": "2022-10-18T10:35:29.956Z"
   },
   {
    "duration": 14,
    "start_time": "2022-10-18T10:36:04.964Z"
   },
   {
    "duration": 16,
    "start_time": "2022-10-18T10:36:20.268Z"
   },
   {
    "duration": 15,
    "start_time": "2022-10-18T10:36:35.903Z"
   },
   {
    "duration": 6,
    "start_time": "2022-10-18T10:36:49.441Z"
   },
   {
    "duration": 15,
    "start_time": "2022-10-18T10:36:51.202Z"
   },
   {
    "duration": 16,
    "start_time": "2022-10-18T10:37:20.637Z"
   },
   {
    "duration": 15,
    "start_time": "2022-10-18T10:37:27.105Z"
   },
   {
    "duration": 155,
    "start_time": "2022-10-18T10:37:35.090Z"
   },
   {
    "duration": 162,
    "start_time": "2022-10-18T10:37:42.912Z"
   },
   {
    "duration": 154,
    "start_time": "2022-10-18T10:37:51.253Z"
   },
   {
    "duration": 16,
    "start_time": "2022-10-18T10:38:21.619Z"
   },
   {
    "duration": 160,
    "start_time": "2022-10-18T10:38:26.119Z"
   },
   {
    "duration": 5,
    "start_time": "2022-10-18T10:39:42.281Z"
   },
   {
    "duration": 24,
    "start_time": "2022-10-18T10:42:01.193Z"
   },
   {
    "duration": 22,
    "start_time": "2022-10-18T10:42:20.697Z"
   },
   {
    "duration": 19,
    "start_time": "2022-10-18T10:42:32.660Z"
   },
   {
    "duration": 22,
    "start_time": "2022-10-18T10:43:18.747Z"
   },
   {
    "duration": 20,
    "start_time": "2022-10-18T10:45:14.798Z"
   },
   {
    "duration": 19,
    "start_time": "2022-10-18T10:45:27.107Z"
   },
   {
    "duration": 16,
    "start_time": "2022-10-18T10:48:24.016Z"
   },
   {
    "duration": 13,
    "start_time": "2022-10-18T10:48:35.621Z"
   },
   {
    "duration": 14,
    "start_time": "2022-10-18T10:48:49.825Z"
   },
   {
    "duration": 17,
    "start_time": "2022-10-18T10:50:30.761Z"
   },
   {
    "duration": 18,
    "start_time": "2022-10-18T10:51:19.607Z"
   },
   {
    "duration": 18,
    "start_time": "2022-10-18T10:51:54.120Z"
   },
   {
    "duration": 18,
    "start_time": "2022-10-18T10:52:03.010Z"
   },
   {
    "duration": 14,
    "start_time": "2022-10-18T10:53:08.518Z"
   },
   {
    "duration": 13,
    "start_time": "2022-10-18T10:53:12.972Z"
   },
   {
    "duration": 18,
    "start_time": "2022-10-18T10:54:36.658Z"
   },
   {
    "duration": 15,
    "start_time": "2022-10-18T10:55:03.033Z"
   },
   {
    "duration": 5,
    "start_time": "2022-10-18T10:55:22.789Z"
   },
   {
    "duration": 14,
    "start_time": "2022-10-18T10:55:24.273Z"
   },
   {
    "duration": 153,
    "start_time": "2022-10-18T10:55:24.799Z"
   },
   {
    "duration": 14,
    "start_time": "2022-10-18T10:55:26.953Z"
   },
   {
    "duration": 159,
    "start_time": "2022-10-18T10:55:27.880Z"
   },
   {
    "duration": 15,
    "start_time": "2022-10-18T10:55:33.279Z"
   },
   {
    "duration": 157,
    "start_time": "2022-10-18T10:55:35.696Z"
   },
   {
    "duration": 16,
    "start_time": "2022-10-18T10:55:42.641Z"
   },
   {
    "duration": 15,
    "start_time": "2022-10-18T10:55:48.127Z"
   },
   {
    "duration": 15,
    "start_time": "2022-10-18T10:56:12.995Z"
   },
   {
    "duration": 14,
    "start_time": "2022-10-18T10:56:22.329Z"
   },
   {
    "duration": 14,
    "start_time": "2022-10-18T10:56:28.477Z"
   },
   {
    "duration": 127,
    "start_time": "2022-10-18T10:57:09.330Z"
   },
   {
    "duration": 124,
    "start_time": "2022-10-18T10:57:39.978Z"
   },
   {
    "duration": 170,
    "start_time": "2022-10-18T10:57:47.009Z"
   },
   {
    "duration": 16,
    "start_time": "2022-10-18T10:59:21.590Z"
   },
   {
    "duration": 126,
    "start_time": "2022-10-18T10:59:24.116Z"
   },
   {
    "duration": 318,
    "start_time": "2022-10-18T10:59:41.040Z"
   },
   {
    "duration": 17,
    "start_time": "2022-10-18T11:00:31.163Z"
   },
   {
    "duration": 16,
    "start_time": "2022-10-18T11:00:53.736Z"
   },
   {
    "duration": 156,
    "start_time": "2022-10-18T11:01:15.277Z"
   },
   {
    "duration": 165,
    "start_time": "2022-10-18T11:01:29.731Z"
   },
   {
    "duration": 115,
    "start_time": "2022-10-18T11:01:37.742Z"
   },
   {
    "duration": 117,
    "start_time": "2022-10-18T11:01:49.853Z"
   },
   {
    "duration": 16,
    "start_time": "2022-10-18T11:02:01.736Z"
   },
   {
    "duration": 168,
    "start_time": "2022-10-18T11:02:04.923Z"
   },
   {
    "duration": 17,
    "start_time": "2022-10-18T11:03:19.497Z"
   },
   {
    "duration": 291,
    "start_time": "2022-10-18T11:03:20.643Z"
   },
   {
    "duration": 17,
    "start_time": "2022-10-18T11:04:02.720Z"
   },
   {
    "duration": 15,
    "start_time": "2022-10-18T11:04:23.044Z"
   },
   {
    "duration": 293,
    "start_time": "2022-10-18T11:04:25.240Z"
   },
   {
    "duration": 287,
    "start_time": "2022-10-18T11:04:36.354Z"
   },
   {
    "duration": 369,
    "start_time": "2022-10-18T11:04:43.712Z"
   },
   {
    "duration": 309,
    "start_time": "2022-10-18T11:04:49.384Z"
   },
   {
    "duration": 350,
    "start_time": "2022-10-18T11:04:58.763Z"
   },
   {
    "duration": 144,
    "start_time": "2022-10-18T11:05:14.693Z"
   },
   {
    "duration": 16,
    "start_time": "2022-10-18T11:05:35.409Z"
   },
   {
    "duration": 133,
    "start_time": "2022-10-18T11:05:37.017Z"
   },
   {
    "duration": 15,
    "start_time": "2022-10-18T11:05:59.412Z"
   },
   {
    "duration": 128,
    "start_time": "2022-10-18T11:06:01.350Z"
   },
   {
    "duration": 14,
    "start_time": "2022-10-18T11:06:31.156Z"
   },
   {
    "duration": 119,
    "start_time": "2022-10-18T11:06:32.284Z"
   },
   {
    "duration": 130,
    "start_time": "2022-10-18T11:07:10.546Z"
   },
   {
    "duration": 21,
    "start_time": "2022-10-18T11:07:28.986Z"
   },
   {
    "duration": 142,
    "start_time": "2022-10-18T11:07:31.214Z"
   },
   {
    "duration": 15,
    "start_time": "2022-10-18T11:10:58.673Z"
   },
   {
    "duration": 20,
    "start_time": "2022-10-18T11:11:40.554Z"
   },
   {
    "duration": 15,
    "start_time": "2022-10-18T11:12:32.981Z"
   },
   {
    "duration": 17,
    "start_time": "2022-10-18T11:13:43.146Z"
   },
   {
    "duration": 16,
    "start_time": "2022-10-18T11:13:57.112Z"
   },
   {
    "duration": 50,
    "start_time": "2022-10-18T11:14:20.073Z"
   },
   {
    "duration": 21,
    "start_time": "2022-10-18T11:14:26.132Z"
   },
   {
    "duration": 16,
    "start_time": "2022-10-18T11:14:32.977Z"
   },
   {
    "duration": 15,
    "start_time": "2022-10-18T11:14:42.361Z"
   },
   {
    "duration": 4,
    "start_time": "2022-10-18T11:15:56.076Z"
   },
   {
    "duration": 12,
    "start_time": "2022-10-18T11:16:05.856Z"
   },
   {
    "duration": 14,
    "start_time": "2022-10-18T11:17:23.050Z"
   },
   {
    "duration": 14,
    "start_time": "2022-10-18T11:17:55.378Z"
   },
   {
    "duration": 15,
    "start_time": "2022-10-18T11:18:25.556Z"
   },
   {
    "duration": 7,
    "start_time": "2022-10-18T11:23:20.572Z"
   },
   {
    "duration": 5,
    "start_time": "2022-10-18T11:23:34.173Z"
   },
   {
    "duration": 6,
    "start_time": "2022-10-18T11:24:19.505Z"
   },
   {
    "duration": 6,
    "start_time": "2022-10-18T11:24:41.141Z"
   },
   {
    "duration": 6,
    "start_time": "2022-10-18T11:24:50.903Z"
   },
   {
    "duration": 7,
    "start_time": "2022-10-18T11:25:09.102Z"
   },
   {
    "duration": 8,
    "start_time": "2022-10-18T11:25:40.274Z"
   },
   {
    "duration": 10,
    "start_time": "2022-10-18T11:25:47.597Z"
   },
   {
    "duration": 113,
    "start_time": "2022-10-18T11:27:56.594Z"
   },
   {
    "duration": 161,
    "start_time": "2022-10-18T11:28:02.348Z"
   },
   {
    "duration": 156,
    "start_time": "2022-10-18T11:28:33.162Z"
   },
   {
    "duration": 123,
    "start_time": "2022-10-18T11:29:22.468Z"
   },
   {
    "duration": 139,
    "start_time": "2022-10-18T11:29:28.083Z"
   },
   {
    "duration": 138,
    "start_time": "2022-10-18T11:29:49.159Z"
   },
   {
    "duration": 165,
    "start_time": "2022-10-18T11:30:15.707Z"
   },
   {
    "duration": 332,
    "start_time": "2022-10-18T11:30:30.600Z"
   },
   {
    "duration": 15,
    "start_time": "2022-10-18T11:44:59.723Z"
   },
   {
    "duration": 3,
    "start_time": "2022-10-18T11:51:02.648Z"
   },
   {
    "duration": 4,
    "start_time": "2022-10-18T11:54:08.952Z"
   },
   {
    "duration": 36,
    "start_time": "2022-10-18T11:54:09.442Z"
   },
   {
    "duration": 15,
    "start_time": "2022-10-18T11:54:09.838Z"
   },
   {
    "duration": 13,
    "start_time": "2022-10-18T11:54:10.247Z"
   },
   {
    "duration": 685,
    "start_time": "2022-10-18T11:54:10.657Z"
   },
   {
    "duration": 5,
    "start_time": "2022-10-18T11:54:11.343Z"
   },
   {
    "duration": 9,
    "start_time": "2022-10-18T11:54:11.653Z"
   },
   {
    "duration": 8,
    "start_time": "2022-10-18T11:54:12.058Z"
   },
   {
    "duration": 5,
    "start_time": "2022-10-18T11:54:12.445Z"
   },
   {
    "duration": 13,
    "start_time": "2022-10-18T11:54:12.641Z"
   },
   {
    "duration": 6,
    "start_time": "2022-10-18T11:54:13.890Z"
   },
   {
    "duration": 152,
    "start_time": "2022-10-18T11:54:14.301Z"
   },
   {
    "duration": 6,
    "start_time": "2022-10-18T11:54:14.975Z"
   },
   {
    "duration": 15,
    "start_time": "2022-10-18T11:54:15.470Z"
   },
   {
    "duration": 210,
    "start_time": "2022-10-18T11:54:15.701Z"
   },
   {
    "duration": 6,
    "start_time": "2022-10-18T11:54:16.574Z"
   },
   {
    "duration": 6,
    "start_time": "2022-10-18T11:54:22.616Z"
   },
   {
    "duration": 15,
    "start_time": "2022-10-18T11:54:23.418Z"
   },
   {
    "duration": 205,
    "start_time": "2022-10-18T11:54:24.370Z"
   },
   {
    "duration": 2,
    "start_time": "2022-10-18T11:54:26.273Z"
   },
   {
    "duration": 103,
    "start_time": "2022-10-18T11:54:27.055Z"
   },
   {
    "duration": 111,
    "start_time": "2022-10-18T11:54:27.621Z"
   },
   {
    "duration": 197,
    "start_time": "2022-10-18T11:54:28.870Z"
   },
   {
    "duration": 7,
    "start_time": "2022-10-18T11:54:29.601Z"
   },
   {
    "duration": 156,
    "start_time": "2022-10-18T11:54:30.040Z"
   },
   {
    "duration": 8,
    "start_time": "2022-10-18T11:54:31.033Z"
   },
   {
    "duration": 154,
    "start_time": "2022-10-18T11:54:32.182Z"
   },
   {
    "duration": 7,
    "start_time": "2022-10-18T11:54:32.472Z"
   },
   {
    "duration": 157,
    "start_time": "2022-10-18T11:54:32.784Z"
   },
   {
    "duration": 7,
    "start_time": "2022-10-18T11:54:33.052Z"
   },
   {
    "duration": 19,
    "start_time": "2022-10-18T11:54:36.807Z"
   },
   {
    "duration": 18,
    "start_time": "2022-10-18T11:54:38.639Z"
   },
   {
    "duration": 15,
    "start_time": "2022-10-18T11:55:08.684Z"
   },
   {
    "duration": 309,
    "start_time": "2022-10-18T11:55:11.120Z"
   },
   {
    "duration": 323,
    "start_time": "2022-10-18T11:55:42.388Z"
   },
   {
    "duration": 3,
    "start_time": "2022-10-18T11:56:00.151Z"
   },
   {
    "duration": 109,
    "start_time": "2022-10-18T11:56:01.605Z"
   },
   {
    "duration": 114,
    "start_time": "2022-10-18T11:56:03.917Z"
   },
   {
    "duration": 169,
    "start_time": "2022-10-18T11:56:05.632Z"
   },
   {
    "duration": 7,
    "start_time": "2022-10-18T11:56:07.982Z"
   },
   {
    "duration": 186,
    "start_time": "2022-10-18T11:56:08.809Z"
   },
   {
    "duration": 7,
    "start_time": "2022-10-18T11:56:09.197Z"
   },
   {
    "duration": 161,
    "start_time": "2022-10-18T11:56:10.059Z"
   },
   {
    "duration": 7,
    "start_time": "2022-10-18T11:56:10.348Z"
   },
   {
    "duration": 340,
    "start_time": "2022-10-18T11:56:11.007Z"
   },
   {
    "duration": 8,
    "start_time": "2022-10-18T11:56:11.847Z"
   },
   {
    "duration": 22,
    "start_time": "2022-10-18T11:56:15.087Z"
   },
   {
    "duration": 20,
    "start_time": "2022-10-18T11:56:21.079Z"
   },
   {
    "duration": 14,
    "start_time": "2022-10-18T11:56:37.556Z"
   },
   {
    "duration": 186,
    "start_time": "2022-10-18T11:56:39.716Z"
   },
   {
    "duration": 5,
    "start_time": "2022-10-18T11:56:59.173Z"
   },
   {
    "duration": 15,
    "start_time": "2022-10-18T11:57:03.226Z"
   },
   {
    "duration": 140,
    "start_time": "2022-10-18T11:57:04.258Z"
   },
   {
    "duration": 14,
    "start_time": "2022-10-18T11:57:09.545Z"
   },
   {
    "duration": 132,
    "start_time": "2022-10-18T11:57:14.506Z"
   },
   {
    "duration": 14,
    "start_time": "2022-10-18T11:57:16.832Z"
   },
   {
    "duration": 123,
    "start_time": "2022-10-18T11:57:22.799Z"
   },
   {
    "duration": 17,
    "start_time": "2022-10-18T11:57:31.074Z"
   },
   {
    "duration": 137,
    "start_time": "2022-10-18T11:57:32.021Z"
   },
   {
    "duration": 15,
    "start_time": "2022-10-18T11:57:32.675Z"
   },
   {
    "duration": 134,
    "start_time": "2022-10-18T11:57:33.618Z"
   },
   {
    "duration": 16,
    "start_time": "2022-10-18T11:57:38.756Z"
   },
   {
    "duration": 137,
    "start_time": "2022-10-18T11:57:40.544Z"
   },
   {
    "duration": 142,
    "start_time": "2022-10-18T11:58:33.457Z"
   },
   {
    "duration": 15,
    "start_time": "2022-10-18T11:58:35.421Z"
   },
   {
    "duration": 16,
    "start_time": "2022-10-18T11:58:37.625Z"
   },
   {
    "duration": 14,
    "start_time": "2022-10-18T11:58:38.526Z"
   },
   {
    "duration": 3,
    "start_time": "2022-10-18T11:58:44.701Z"
   },
   {
    "duration": 9,
    "start_time": "2022-10-18T11:59:51.913Z"
   },
   {
    "duration": 6,
    "start_time": "2022-10-18T12:00:43.738Z"
   },
   {
    "duration": 713,
    "start_time": "2022-10-18T12:01:18.563Z"
   },
   {
    "duration": 7,
    "start_time": "2022-10-18T12:01:50.084Z"
   },
   {
    "duration": 2,
    "start_time": "2022-10-18T12:02:29.439Z"
   },
   {
    "duration": 34,
    "start_time": "2022-10-18T12:02:29.893Z"
   },
   {
    "duration": 17,
    "start_time": "2022-10-18T12:02:30.306Z"
   },
   {
    "duration": 16,
    "start_time": "2022-10-18T12:02:30.717Z"
   },
   {
    "duration": 674,
    "start_time": "2022-10-18T12:02:31.429Z"
   },
   {
    "duration": 5,
    "start_time": "2022-10-18T12:02:32.584Z"
   },
   {
    "duration": 8,
    "start_time": "2022-10-18T12:02:35.907Z"
   },
   {
    "duration": 7,
    "start_time": "2022-10-18T12:02:37.185Z"
   },
   {
    "duration": 5,
    "start_time": "2022-10-18T12:02:42.059Z"
   },
   {
    "duration": 17,
    "start_time": "2022-10-18T12:02:49.001Z"
   },
   {
    "duration": 6,
    "start_time": "2022-10-18T12:02:52.422Z"
   },
   {
    "duration": 149,
    "start_time": "2022-10-18T12:02:54.575Z"
   },
   {
    "duration": 7,
    "start_time": "2022-10-18T12:02:57.197Z"
   },
   {
    "duration": 17,
    "start_time": "2022-10-18T12:02:58.952Z"
   },
   {
    "duration": 199,
    "start_time": "2022-10-18T12:02:59.504Z"
   },
   {
    "duration": 6,
    "start_time": "2022-10-18T12:03:07.071Z"
   },
   {
    "duration": 15,
    "start_time": "2022-10-18T12:03:15.364Z"
   },
   {
    "duration": 277,
    "start_time": "2022-10-18T12:03:25.742Z"
   },
   {
    "duration": 105,
    "start_time": "2022-10-18T12:04:08.625Z"
   },
   {
    "duration": 112,
    "start_time": "2022-10-18T12:04:14.641Z"
   },
   {
    "duration": 160,
    "start_time": "2022-10-18T12:04:20.313Z"
   },
   {
    "duration": 7,
    "start_time": "2022-10-18T12:04:33.461Z"
   },
   {
    "duration": 150,
    "start_time": "2022-10-18T12:04:42.593Z"
   },
   {
    "duration": 8,
    "start_time": "2022-10-18T12:04:48.271Z"
   },
   {
    "duration": 326,
    "start_time": "2022-10-18T12:04:51.611Z"
   },
   {
    "duration": 7,
    "start_time": "2022-10-18T12:04:52.343Z"
   },
   {
    "duration": 156,
    "start_time": "2022-10-18T12:04:55.983Z"
   },
   {
    "duration": 7,
    "start_time": "2022-10-18T12:04:58.283Z"
   },
   {
    "duration": 7,
    "start_time": "2022-10-18T12:05:05.129Z"
   },
   {
    "duration": 18,
    "start_time": "2022-10-18T12:05:10.289Z"
   },
   {
    "duration": 19,
    "start_time": "2022-10-18T12:05:21.860Z"
   },
   {
    "duration": 18,
    "start_time": "2022-10-18T12:05:33.317Z"
   },
   {
    "duration": 14,
    "start_time": "2022-10-18T12:05:38.259Z"
   },
   {
    "duration": 13,
    "start_time": "2022-10-18T12:05:42.285Z"
   },
   {
    "duration": 187,
    "start_time": "2022-10-18T12:05:47.213Z"
   },
   {
    "duration": 6,
    "start_time": "2022-10-18T12:05:56.091Z"
   },
   {
    "duration": 5,
    "start_time": "2022-10-18T12:06:06.294Z"
   },
   {
    "duration": 17,
    "start_time": "2022-10-18T12:06:13.765Z"
   },
   {
    "duration": 117,
    "start_time": "2022-10-18T12:06:15.184Z"
   },
   {
    "duration": 17,
    "start_time": "2022-10-18T12:06:20.135Z"
   },
   {
    "duration": 122,
    "start_time": "2022-10-18T12:06:21.503Z"
   },
   {
    "duration": 17,
    "start_time": "2022-10-18T12:06:26.529Z"
   },
   {
    "duration": 126,
    "start_time": "2022-10-18T12:06:27.360Z"
   },
   {
    "duration": 16,
    "start_time": "2022-10-18T12:06:32.954Z"
   },
   {
    "duration": 133,
    "start_time": "2022-10-18T12:06:33.558Z"
   },
   {
    "duration": 15,
    "start_time": "2022-10-18T12:06:38.217Z"
   },
   {
    "duration": 170,
    "start_time": "2022-10-18T12:06:38.916Z"
   },
   {
    "duration": 16,
    "start_time": "2022-10-18T12:06:43.707Z"
   },
   {
    "duration": 138,
    "start_time": "2022-10-18T12:06:44.409Z"
   },
   {
    "duration": 14,
    "start_time": "2022-10-18T12:06:51.448Z"
   },
   {
    "duration": 13,
    "start_time": "2022-10-18T12:06:52.411Z"
   },
   {
    "duration": 14,
    "start_time": "2022-10-18T12:06:56.362Z"
   },
   {
    "duration": 4,
    "start_time": "2022-10-18T12:07:01.834Z"
   },
   {
    "duration": 7,
    "start_time": "2022-10-18T12:07:03.802Z"
   },
   {
    "duration": 1017,
    "start_time": "2022-10-18T12:08:04.350Z"
   },
   {
    "duration": 7,
    "start_time": "2022-10-18T12:08:09.842Z"
   },
   {
    "duration": 13,
    "start_time": "2022-10-18T12:09:56.840Z"
   },
   {
    "duration": 9,
    "start_time": "2022-10-18T12:10:15.949Z"
   },
   {
    "duration": 7,
    "start_time": "2022-10-18T12:10:19.304Z"
   },
   {
    "duration": 8,
    "start_time": "2022-10-18T12:12:34.820Z"
   },
   {
    "duration": 10,
    "start_time": "2022-10-18T12:12:44.440Z"
   },
   {
    "duration": 7,
    "start_time": "2022-10-18T12:12:56.925Z"
   },
   {
    "duration": 186,
    "start_time": "2022-10-18T12:12:58.963Z"
   },
   {
    "duration": 6,
    "start_time": "2022-10-18T12:13:31.230Z"
   },
   {
    "duration": 5,
    "start_time": "2022-10-18T12:13:40.093Z"
   },
   {
    "duration": 16,
    "start_time": "2022-10-18T12:13:45.594Z"
   },
   {
    "duration": 126,
    "start_time": "2022-10-18T12:13:46.453Z"
   },
   {
    "duration": 16,
    "start_time": "2022-10-18T12:13:48.082Z"
   },
   {
    "duration": 16,
    "start_time": "2022-10-18T12:15:15.221Z"
   },
   {
    "duration": 136,
    "start_time": "2022-10-18T12:15:16.580Z"
   },
   {
    "duration": 16,
    "start_time": "2022-10-18T12:15:37.345Z"
   },
   {
    "duration": 16,
    "start_time": "2022-10-18T12:15:43.111Z"
   },
   {
    "duration": 19,
    "start_time": "2022-10-18T12:16:04.341Z"
   },
   {
    "duration": 148,
    "start_time": "2022-10-18T12:16:06.988Z"
   },
   {
    "duration": 13,
    "start_time": "2022-10-18T12:16:18.537Z"
   },
   {
    "duration": 15,
    "start_time": "2022-10-18T12:16:29.091Z"
   },
   {
    "duration": 15,
    "start_time": "2022-10-18T12:16:43.908Z"
   },
   {
    "duration": 10,
    "start_time": "2022-10-18T12:18:11.524Z"
   },
   {
    "duration": 922,
    "start_time": "2022-10-18T12:20:43.995Z"
   },
   {
    "duration": 27,
    "start_time": "2022-10-18T12:21:54.433Z"
   },
   {
    "duration": 177,
    "start_time": "2022-10-18T12:22:39.347Z"
   },
   {
    "duration": 332,
    "start_time": "2022-10-18T12:23:00.449Z"
   },
   {
    "duration": 3,
    "start_time": "2022-10-18T12:23:54.448Z"
   },
   {
    "duration": 12,
    "start_time": "2022-10-18T12:24:59.512Z"
   },
   {
    "duration": 18,
    "start_time": "2022-10-18T12:25:22.534Z"
   },
   {
    "duration": 7,
    "start_time": "2022-10-18T12:25:32.974Z"
   },
   {
    "duration": 9,
    "start_time": "2022-10-18T12:26:05.045Z"
   },
   {
    "duration": 7,
    "start_time": "2022-10-18T12:26:18.007Z"
   },
   {
    "duration": 2,
    "start_time": "2022-10-18T12:26:29.234Z"
   },
   {
    "duration": 21,
    "start_time": "2022-10-18T12:26:30.722Z"
   },
   {
    "duration": 7,
    "start_time": "2022-10-18T12:26:32.275Z"
   },
   {
    "duration": 7,
    "start_time": "2022-10-18T12:26:53.638Z"
   },
   {
    "duration": 6,
    "start_time": "2022-10-18T12:26:59.969Z"
   },
   {
    "duration": 11,
    "start_time": "2022-10-18T12:28:05.000Z"
   },
   {
    "duration": 7,
    "start_time": "2022-10-18T12:28:48.771Z"
   },
   {
    "duration": 4,
    "start_time": "2022-10-18T12:33:37.908Z"
   },
   {
    "duration": 12,
    "start_time": "2022-10-18T12:33:50.537Z"
   },
   {
    "duration": 3,
    "start_time": "2022-10-18T12:37:28.185Z"
   },
   {
    "duration": 33,
    "start_time": "2022-10-18T12:37:29.253Z"
   },
   {
    "duration": 15,
    "start_time": "2022-10-18T12:37:31.649Z"
   },
   {
    "duration": 19,
    "start_time": "2022-10-18T12:37:35.745Z"
   },
   {
    "duration": 671,
    "start_time": "2022-10-18T12:37:38.050Z"
   },
   {
    "duration": 631,
    "start_time": "2022-10-18T12:37:48.642Z"
   },
   {
    "duration": 573,
    "start_time": "2022-10-18T12:38:07.666Z"
   },
   {
    "duration": 5,
    "start_time": "2022-10-18T12:38:15.998Z"
   },
   {
    "duration": 9,
    "start_time": "2022-10-18T12:39:08.471Z"
   },
   {
    "duration": 6,
    "start_time": "2022-10-18T12:39:14.528Z"
   },
   {
    "duration": 6,
    "start_time": "2022-10-18T12:41:17.963Z"
   },
   {
    "duration": 18,
    "start_time": "2022-10-18T12:42:22.824Z"
   },
   {
    "duration": 17,
    "start_time": "2022-10-18T12:42:31.440Z"
   },
   {
    "duration": 6,
    "start_time": "2022-10-18T12:42:34.614Z"
   },
   {
    "duration": 18,
    "start_time": "2022-10-18T12:42:36.477Z"
   },
   {
    "duration": 14,
    "start_time": "2022-10-18T12:43:11.260Z"
   },
   {
    "duration": 5,
    "start_time": "2022-10-18T12:43:29.191Z"
   },
   {
    "duration": 14,
    "start_time": "2022-10-18T12:43:46.817Z"
   },
   {
    "duration": 6,
    "start_time": "2022-10-18T12:43:47.543Z"
   },
   {
    "duration": 10,
    "start_time": "2022-10-18T12:44:10.174Z"
   },
   {
    "duration": 4,
    "start_time": "2022-10-18T12:44:11.214Z"
   },
   {
    "duration": 9,
    "start_time": "2022-10-18T12:44:12.382Z"
   },
   {
    "duration": 17,
    "start_time": "2022-10-18T12:44:12.990Z"
   },
   {
    "duration": 5,
    "start_time": "2022-10-18T12:45:24.247Z"
   },
   {
    "duration": 14,
    "start_time": "2022-10-18T12:45:39.574Z"
   },
   {
    "duration": 14,
    "start_time": "2022-10-18T12:45:40.657Z"
   },
   {
    "duration": 8,
    "start_time": "2022-10-18T12:45:41.754Z"
   },
   {
    "duration": 17,
    "start_time": "2022-10-18T12:45:42.948Z"
   },
   {
    "duration": 7,
    "start_time": "2022-10-18T12:46:15.494Z"
   },
   {
    "duration": 2,
    "start_time": "2022-10-18T12:46:18.687Z"
   },
   {
    "duration": 35,
    "start_time": "2022-10-18T12:46:19.179Z"
   },
   {
    "duration": 15,
    "start_time": "2022-10-18T12:46:19.688Z"
   },
   {
    "duration": 14,
    "start_time": "2022-10-18T12:46:20.307Z"
   },
   {
    "duration": 781,
    "start_time": "2022-10-18T12:46:21.697Z"
   },
   {
    "duration": 5,
    "start_time": "2022-10-18T12:46:46.211Z"
   },
   {
    "duration": 6,
    "start_time": "2022-10-18T12:46:47.526Z"
   },
   {
    "duration": 24,
    "start_time": "2022-10-18T12:46:49.011Z"
   },
   {
    "duration": 10,
    "start_time": "2022-10-18T12:46:52.591Z"
   },
   {
    "duration": 9,
    "start_time": "2022-10-18T12:46:53.648Z"
   },
   {
    "duration": 17,
    "start_time": "2022-10-18T12:46:54.434Z"
   },
   {
    "duration": 2,
    "start_time": "2022-10-18T12:47:17.324Z"
   },
   {
    "duration": 35,
    "start_time": "2022-10-18T12:47:17.833Z"
   },
   {
    "duration": 18,
    "start_time": "2022-10-18T12:47:18.224Z"
   },
   {
    "duration": 15,
    "start_time": "2022-10-18T12:47:18.617Z"
   },
   {
    "duration": 5,
    "start_time": "2022-10-18T12:47:19.285Z"
   },
   {
    "duration": 5,
    "start_time": "2022-10-18T12:47:19.827Z"
   },
   {
    "duration": 8,
    "start_time": "2022-10-18T12:47:20.202Z"
   },
   {
    "duration": 8,
    "start_time": "2022-10-18T12:47:21.322Z"
   },
   {
    "duration": 5,
    "start_time": "2022-10-18T12:47:22.350Z"
   },
   {
    "duration": 13,
    "start_time": "2022-10-18T12:47:22.944Z"
   },
   {
    "duration": 9,
    "start_time": "2022-10-18T12:48:04.983Z"
   },
   {
    "duration": 6,
    "start_time": "2022-10-18T12:48:16.511Z"
   },
   {
    "duration": 6,
    "start_time": "2022-10-18T12:48:42.327Z"
   },
   {
    "duration": 11,
    "start_time": "2022-10-18T12:49:28.994Z"
   },
   {
    "duration": 9,
    "start_time": "2022-10-18T12:49:36.466Z"
   },
   {
    "duration": 3,
    "start_time": "2022-10-18T12:49:40.111Z"
   },
   {
    "duration": 35,
    "start_time": "2022-10-18T12:49:40.532Z"
   },
   {
    "duration": 14,
    "start_time": "2022-10-18T12:49:40.960Z"
   },
   {
    "duration": 14,
    "start_time": "2022-10-18T12:49:42.329Z"
   },
   {
    "duration": 26,
    "start_time": "2022-10-18T12:49:50.435Z"
   },
   {
    "duration": 25,
    "start_time": "2022-10-18T12:50:13.685Z"
   },
   {
    "duration": 29,
    "start_time": "2022-10-18T12:50:21.076Z"
   },
   {
    "duration": 1191,
    "start_time": "2022-10-18T12:50:33.371Z"
   },
   {
    "duration": 0,
    "start_time": "2022-10-18T12:50:34.564Z"
   },
   {
    "duration": 2,
    "start_time": "2022-10-18T12:51:32.425Z"
   },
   {
    "duration": 34,
    "start_time": "2022-10-18T12:51:32.832Z"
   },
   {
    "duration": 15,
    "start_time": "2022-10-18T12:51:33.760Z"
   },
   {
    "duration": 15,
    "start_time": "2022-10-18T12:51:36.914Z"
   },
   {
    "duration": 6,
    "start_time": "2022-10-18T12:51:42.307Z"
   },
   {
    "duration": 4,
    "start_time": "2022-10-18T12:51:43.865Z"
   },
   {
    "duration": 28,
    "start_time": "2022-10-18T12:52:24.726Z"
   },
   {
    "duration": 18,
    "start_time": "2022-10-18T12:52:31.610Z"
   },
   {
    "duration": 19,
    "start_time": "2022-10-18T12:53:11.887Z"
   },
   {
    "duration": 17,
    "start_time": "2022-10-18T12:53:21.820Z"
   },
   {
    "duration": 8,
    "start_time": "2022-10-18T12:53:35.008Z"
   },
   {
    "duration": 5,
    "start_time": "2022-10-18T12:53:35.918Z"
   },
   {
    "duration": 13,
    "start_time": "2022-10-18T12:53:37.297Z"
   },
   {
    "duration": 5,
    "start_time": "2022-10-18T12:55:04.208Z"
   },
   {
    "duration": 3,
    "start_time": "2022-10-18T12:55:11.676Z"
   },
   {
    "duration": 34,
    "start_time": "2022-10-18T12:55:12.209Z"
   },
   {
    "duration": 14,
    "start_time": "2022-10-18T12:55:13.135Z"
   },
   {
    "duration": 13,
    "start_time": "2022-10-18T12:55:14.289Z"
   },
   {
    "duration": 5,
    "start_time": "2022-10-18T12:55:16.237Z"
   },
   {
    "duration": 5,
    "start_time": "2022-10-18T12:55:20.155Z"
   },
   {
    "duration": 4,
    "start_time": "2022-10-18T12:55:28.371Z"
   },
   {
    "duration": 5,
    "start_time": "2022-10-18T12:55:39.607Z"
   },
   {
    "duration": 9,
    "start_time": "2022-10-18T12:55:41.093Z"
   },
   {
    "duration": 5,
    "start_time": "2022-10-18T12:55:42.065Z"
   },
   {
    "duration": 13,
    "start_time": "2022-10-18T12:55:43.027Z"
   },
   {
    "duration": 10,
    "start_time": "2022-10-18T12:56:41.612Z"
   },
   {
    "duration": 8,
    "start_time": "2022-10-18T12:56:45.390Z"
   },
   {
    "duration": 4,
    "start_time": "2022-10-18T12:56:46.589Z"
   },
   {
    "duration": 12,
    "start_time": "2022-10-18T12:56:47.442Z"
   },
   {
    "duration": 6,
    "start_time": "2022-10-18T12:57:17.251Z"
   },
   {
    "duration": 6,
    "start_time": "2022-10-18T12:57:31.049Z"
   },
   {
    "duration": 4,
    "start_time": "2022-10-18T12:57:31.830Z"
   },
   {
    "duration": 8,
    "start_time": "2022-10-18T12:57:32.569Z"
   },
   {
    "duration": 5,
    "start_time": "2022-10-18T12:57:33.053Z"
   },
   {
    "duration": 12,
    "start_time": "2022-10-18T12:57:33.272Z"
   },
   {
    "duration": 7,
    "start_time": "2022-10-18T12:57:37.190Z"
   },
   {
    "duration": 159,
    "start_time": "2022-10-18T12:57:38.158Z"
   },
   {
    "duration": 7,
    "start_time": "2022-10-18T12:57:39.477Z"
   },
   {
    "duration": 14,
    "start_time": "2022-10-18T12:57:40.190Z"
   },
   {
    "duration": 204,
    "start_time": "2022-10-18T12:57:40.498Z"
   },
   {
    "duration": 5,
    "start_time": "2022-10-18T12:57:41.724Z"
   },
   {
    "duration": 14,
    "start_time": "2022-10-18T12:57:42.319Z"
   },
   {
    "duration": 265,
    "start_time": "2022-10-18T12:57:42.722Z"
   },
   {
    "duration": 3,
    "start_time": "2022-10-18T12:57:43.732Z"
   },
   {
    "duration": 100,
    "start_time": "2022-10-18T12:57:44.158Z"
   },
   {
    "duration": 108,
    "start_time": "2022-10-18T12:57:44.581Z"
   },
   {
    "duration": 156,
    "start_time": "2022-10-18T12:57:45.597Z"
   },
   {
    "duration": 8,
    "start_time": "2022-10-18T12:57:45.825Z"
   },
   {
    "duration": 159,
    "start_time": "2022-10-18T12:57:46.064Z"
   },
   {
    "duration": 7,
    "start_time": "2022-10-18T12:57:46.324Z"
   },
   {
    "duration": 139,
    "start_time": "2022-10-18T12:57:47.241Z"
   },
   {
    "duration": 9,
    "start_time": "2022-10-18T12:57:47.977Z"
   },
   {
    "duration": 161,
    "start_time": "2022-10-18T12:57:49.325Z"
   },
   {
    "duration": 7,
    "start_time": "2022-10-18T12:57:50.324Z"
   },
   {
    "duration": 18,
    "start_time": "2022-10-18T12:57:57.344Z"
   },
   {
    "duration": 20,
    "start_time": "2022-10-18T12:57:59.040Z"
   },
   {
    "duration": 14,
    "start_time": "2022-10-18T12:58:02.387Z"
   },
   {
    "duration": 180,
    "start_time": "2022-10-18T12:58:03.442Z"
   },
   {
    "duration": 6,
    "start_time": "2022-10-18T12:58:06.619Z"
   },
   {
    "duration": 15,
    "start_time": "2022-10-18T12:58:07.647Z"
   },
   {
    "duration": 121,
    "start_time": "2022-10-18T12:58:08.042Z"
   },
   {
    "duration": 17,
    "start_time": "2022-10-18T12:58:09.079Z"
   },
   {
    "duration": 142,
    "start_time": "2022-10-18T12:58:09.720Z"
   },
   {
    "duration": 15,
    "start_time": "2022-10-18T12:58:10.958Z"
   },
   {
    "duration": 126,
    "start_time": "2022-10-18T12:58:12.070Z"
   },
   {
    "duration": 16,
    "start_time": "2022-10-18T12:58:14.628Z"
   },
   {
    "duration": 137,
    "start_time": "2022-10-18T12:58:15.477Z"
   },
   {
    "duration": 16,
    "start_time": "2022-10-18T12:58:15.838Z"
   },
   {
    "duration": 132,
    "start_time": "2022-10-18T12:58:16.426Z"
   },
   {
    "duration": 15,
    "start_time": "2022-10-18T12:58:16.625Z"
   },
   {
    "duration": 139,
    "start_time": "2022-10-18T12:58:16.834Z"
   },
   {
    "duration": 15,
    "start_time": "2022-10-18T12:58:17.974Z"
   },
   {
    "duration": 14,
    "start_time": "2022-10-18T12:58:18.524Z"
   },
   {
    "duration": 17,
    "start_time": "2022-10-18T12:58:19.024Z"
   },
   {
    "duration": 3,
    "start_time": "2022-10-18T12:58:22.277Z"
   },
   {
    "duration": 12,
    "start_time": "2022-10-18T12:58:23.105Z"
   },
   {
    "duration": 11,
    "start_time": "2022-10-18T12:58:45.797Z"
   },
   {
    "duration": 12,
    "start_time": "2022-10-18T12:59:16.222Z"
   },
   {
    "duration": 7,
    "start_time": "2022-10-18T12:59:23.748Z"
   },
   {
    "duration": 6,
    "start_time": "2022-10-18T13:08:00.252Z"
   },
   {
    "duration": 14,
    "start_time": "2022-10-18T13:08:01.931Z"
   },
   {
    "duration": 273,
    "start_time": "2022-10-18T13:08:06.260Z"
   },
   {
    "duration": 14,
    "start_time": "2022-10-18T13:09:04.545Z"
   },
   {
    "duration": 279,
    "start_time": "2022-10-18T13:09:08.593Z"
   },
   {
    "duration": 3,
    "start_time": "2022-10-18T13:10:44.112Z"
   },
   {
    "duration": 100,
    "start_time": "2022-10-18T13:10:45.325Z"
   },
   {
    "duration": 306,
    "start_time": "2022-10-18T13:10:53.945Z"
   },
   {
    "duration": 112,
    "start_time": "2022-10-18T13:11:01.224Z"
   },
   {
    "duration": 142,
    "start_time": "2022-10-18T13:11:04.473Z"
   },
   {
    "duration": 6,
    "start_time": "2022-10-18T13:11:05.591Z"
   },
   {
    "duration": 169,
    "start_time": "2022-10-18T13:11:07.428Z"
   },
   {
    "duration": 8,
    "start_time": "2022-10-18T13:11:08.873Z"
   },
   {
    "duration": 152,
    "start_time": "2022-10-18T13:11:10.965Z"
   },
   {
    "duration": 7,
    "start_time": "2022-10-18T13:11:12.226Z"
   },
   {
    "duration": 166,
    "start_time": "2022-10-18T13:11:13.524Z"
   },
   {
    "duration": 7,
    "start_time": "2022-10-18T13:11:14.727Z"
   },
   {
    "duration": 19,
    "start_time": "2022-10-18T13:11:20.098Z"
   },
   {
    "duration": 20,
    "start_time": "2022-10-18T13:11:21.287Z"
   },
   {
    "duration": 14,
    "start_time": "2022-10-18T13:11:23.445Z"
   },
   {
    "duration": 178,
    "start_time": "2022-10-18T13:11:26.129Z"
   },
   {
    "duration": 5,
    "start_time": "2022-10-18T13:11:29.938Z"
   },
   {
    "duration": 15,
    "start_time": "2022-10-18T13:11:31.844Z"
   },
   {
    "duration": 119,
    "start_time": "2022-10-18T13:11:32.775Z"
   },
   {
    "duration": 15,
    "start_time": "2022-10-18T13:11:34.335Z"
   },
   {
    "duration": 128,
    "start_time": "2022-10-18T13:11:35.782Z"
   },
   {
    "duration": 14,
    "start_time": "2022-10-18T13:11:51.727Z"
   },
   {
    "duration": 119,
    "start_time": "2022-10-18T13:11:56.565Z"
   },
   {
    "duration": 17,
    "start_time": "2022-10-18T13:12:00.750Z"
   },
   {
    "duration": 139,
    "start_time": "2022-10-18T13:12:03.162Z"
   },
   {
    "duration": 17,
    "start_time": "2022-10-18T13:12:05.145Z"
   },
   {
    "duration": 146,
    "start_time": "2022-10-18T13:12:06.054Z"
   },
   {
    "duration": 18,
    "start_time": "2022-10-18T13:12:07.062Z"
   },
   {
    "duration": 136,
    "start_time": "2022-10-18T13:12:07.891Z"
   },
   {
    "duration": 16,
    "start_time": "2022-10-18T13:12:58.549Z"
   },
   {
    "duration": 13,
    "start_time": "2022-10-18T13:13:06.328Z"
   },
   {
    "duration": 16,
    "start_time": "2022-10-18T13:13:09.732Z"
   },
   {
    "duration": 2,
    "start_time": "2022-10-18T13:13:13.581Z"
   },
   {
    "duration": 15,
    "start_time": "2022-10-18T13:13:17.224Z"
   },
   {
    "duration": 11,
    "start_time": "2022-10-18T13:13:28.585Z"
   },
   {
    "duration": 13,
    "start_time": "2022-10-18T13:13:58.446Z"
   },
   {
    "duration": 7,
    "start_time": "2022-10-18T13:14:01.045Z"
   },
   {
    "duration": 8,
    "start_time": "2022-10-18T13:14:16.018Z"
   },
   {
    "duration": 7,
    "start_time": "2022-10-18T13:51:01.940Z"
   },
   {
    "duration": 16,
    "start_time": "2022-10-18T13:51:03.533Z"
   },
   {
    "duration": 273,
    "start_time": "2022-10-18T13:51:10.225Z"
   },
   {
    "duration": 8,
    "start_time": "2022-10-18T13:51:29.777Z"
   },
   {
    "duration": 16,
    "start_time": "2022-10-18T13:51:31.213Z"
   },
   {
    "duration": 262,
    "start_time": "2022-10-18T13:51:36.090Z"
   },
   {
    "duration": 6,
    "start_time": "2022-10-18T13:52:01.045Z"
   },
   {
    "duration": 16,
    "start_time": "2022-10-18T13:52:02.429Z"
   },
   {
    "duration": 287,
    "start_time": "2022-10-18T13:52:03.924Z"
   },
   {
    "duration": 2,
    "start_time": "2022-10-18T13:52:06.493Z"
   },
   {
    "duration": 115,
    "start_time": "2022-10-18T13:52:06.998Z"
   },
   {
    "duration": 166,
    "start_time": "2022-10-18T13:52:07.847Z"
   },
   {
    "duration": 147,
    "start_time": "2022-10-18T13:52:10.037Z"
   },
   {
    "duration": 9,
    "start_time": "2022-10-18T13:52:10.434Z"
   },
   {
    "duration": 158,
    "start_time": "2022-10-18T13:52:11.043Z"
   },
   {
    "duration": 7,
    "start_time": "2022-10-18T13:52:11.226Z"
   },
   {
    "duration": 167,
    "start_time": "2022-10-18T13:52:11.839Z"
   },
   {
    "duration": 7,
    "start_time": "2022-10-18T13:52:12.052Z"
   },
   {
    "duration": 161,
    "start_time": "2022-10-18T13:52:12.291Z"
   },
   {
    "duration": 7,
    "start_time": "2022-10-18T13:52:12.479Z"
   },
   {
    "duration": 22,
    "start_time": "2022-10-18T13:52:13.677Z"
   },
   {
    "duration": 21,
    "start_time": "2022-10-18T13:52:14.086Z"
   },
   {
    "duration": 14,
    "start_time": "2022-10-18T13:52:14.773Z"
   },
   {
    "duration": 189,
    "start_time": "2022-10-18T13:52:15.029Z"
   },
   {
    "duration": 6,
    "start_time": "2022-10-18T13:52:20.889Z"
   },
   {
    "duration": 15,
    "start_time": "2022-10-18T13:52:21.272Z"
   },
   {
    "duration": 125,
    "start_time": "2022-10-18T13:52:21.443Z"
   },
   {
    "duration": 17,
    "start_time": "2022-10-18T13:52:21.833Z"
   },
   {
    "duration": 319,
    "start_time": "2022-10-18T13:52:21.987Z"
   },
   {
    "duration": 15,
    "start_time": "2022-10-18T13:52:22.391Z"
   },
   {
    "duration": 153,
    "start_time": "2022-10-18T13:52:22.555Z"
   },
   {
    "duration": 17,
    "start_time": "2022-10-18T13:52:24.029Z"
   },
   {
    "duration": 148,
    "start_time": "2022-10-18T13:52:24.355Z"
   },
   {
    "duration": 19,
    "start_time": "2022-10-18T13:52:27.730Z"
   },
   {
    "duration": 162,
    "start_time": "2022-10-18T13:52:28.977Z"
   },
   {
    "duration": 23,
    "start_time": "2022-10-18T13:52:30.447Z"
   },
   {
    "duration": 160,
    "start_time": "2022-10-18T13:52:30.837Z"
   },
   {
    "duration": 14,
    "start_time": "2022-10-18T13:52:35.570Z"
   },
   {
    "duration": 17,
    "start_time": "2022-10-18T13:52:35.789Z"
   },
   {
    "duration": 20,
    "start_time": "2022-10-18T13:52:36.066Z"
   },
   {
    "duration": 12,
    "start_time": "2022-10-18T13:52:37.529Z"
   },
   {
    "duration": 13,
    "start_time": "2022-10-18T13:52:37.805Z"
   },
   {
    "duration": 9,
    "start_time": "2022-10-18T13:52:38.966Z"
   },
   {
    "duration": 8,
    "start_time": "2022-10-18T13:52:40.564Z"
   },
   {
    "duration": 1340,
    "start_time": "2022-10-19T04:49:05.005Z"
   },
   {
    "duration": 83,
    "start_time": "2022-10-19T04:49:06.422Z"
   },
   {
    "duration": 27,
    "start_time": "2022-10-19T04:49:08.056Z"
   },
   {
    "duration": 14,
    "start_time": "2022-10-19T04:49:09.804Z"
   },
   {
    "duration": 5,
    "start_time": "2022-10-19T04:49:11.422Z"
   },
   {
    "duration": 5,
    "start_time": "2022-10-19T04:49:12.359Z"
   },
   {
    "duration": 11,
    "start_time": "2022-10-19T04:49:13.129Z"
   },
   {
    "duration": 9,
    "start_time": "2022-10-19T04:49:15.646Z"
   },
   {
    "duration": 6,
    "start_time": "2022-10-19T04:53:19.625Z"
   },
   {
    "duration": 4,
    "start_time": "2022-10-19T04:54:27.061Z"
   },
   {
    "duration": 7,
    "start_time": "2022-10-19T04:54:29.476Z"
   },
   {
    "duration": 5,
    "start_time": "2022-10-19T04:54:40.073Z"
   },
   {
    "duration": 14,
    "start_time": "2022-10-19T04:54:41.950Z"
   },
   {
    "duration": 4,
    "start_time": "2022-10-19T04:55:17.674Z"
   },
   {
    "duration": 7,
    "start_time": "2022-10-19T04:55:20.046Z"
   },
   {
    "duration": 5,
    "start_time": "2022-10-19T04:55:26.266Z"
   },
   {
    "duration": 13,
    "start_time": "2022-10-19T04:55:26.722Z"
   },
   {
    "duration": 8,
    "start_time": "2022-10-19T04:55:35.175Z"
   },
   {
    "duration": 172,
    "start_time": "2022-10-19T04:55:50.209Z"
   },
   {
    "duration": 11,
    "start_time": "2022-10-19T04:56:53.636Z"
   },
   {
    "duration": 5,
    "start_time": "2022-10-19T04:57:11.201Z"
   },
   {
    "duration": 112,
    "start_time": "2022-10-19T04:57:39.761Z"
   },
   {
    "duration": 161,
    "start_time": "2022-10-19T04:58:04.241Z"
   },
   {
    "duration": 6,
    "start_time": "2022-10-19T04:58:21.801Z"
   },
   {
    "duration": 2,
    "start_time": "2022-10-19T05:00:27.048Z"
   },
   {
    "duration": 107,
    "start_time": "2022-10-19T05:00:28.257Z"
   },
   {
    "duration": 11,
    "start_time": "2022-10-19T05:00:36.423Z"
   },
   {
    "duration": 16,
    "start_time": "2022-10-19T05:00:45.722Z"
   },
   {
    "duration": 210,
    "start_time": "2022-10-19T05:00:46.455Z"
   },
   {
    "duration": 6,
    "start_time": "2022-10-19T05:00:49.689Z"
   },
   {
    "duration": 15,
    "start_time": "2022-10-19T05:00:51.550Z"
   },
   {
    "duration": 17,
    "start_time": "2022-10-19T05:01:31.245Z"
   },
   {
    "duration": 14,
    "start_time": "2022-10-19T05:01:50.481Z"
   },
   {
    "duration": 14,
    "start_time": "2022-10-19T05:02:37.239Z"
   },
   {
    "duration": 2,
    "start_time": "2022-10-19T05:03:10.185Z"
   },
   {
    "duration": 105,
    "start_time": "2022-10-19T05:03:11.441Z"
   },
   {
    "duration": 119,
    "start_time": "2022-10-19T05:03:14.176Z"
   },
   {
    "duration": 141,
    "start_time": "2022-10-19T05:03:20.238Z"
   },
   {
    "duration": 6,
    "start_time": "2022-10-19T05:03:23.331Z"
   },
   {
    "duration": 195,
    "start_time": "2022-10-19T05:03:24.404Z"
   },
   {
    "duration": 6,
    "start_time": "2022-10-19T05:03:30.638Z"
   },
   {
    "duration": 147,
    "start_time": "2022-10-19T05:03:40.881Z"
   },
   {
    "duration": 7,
    "start_time": "2022-10-19T05:03:48.091Z"
   },
   {
    "duration": 218,
    "start_time": "2022-10-19T05:03:48.809Z"
   },
   {
    "duration": 6,
    "start_time": "2022-10-19T05:03:53.422Z"
   },
   {
    "duration": 17,
    "start_time": "2022-10-19T05:04:04.006Z"
   },
   {
    "duration": 20,
    "start_time": "2022-10-19T05:07:02.426Z"
   },
   {
    "duration": 18,
    "start_time": "2022-10-19T05:07:09.972Z"
   },
   {
    "duration": 18,
    "start_time": "2022-10-19T05:07:29.533Z"
   },
   {
    "duration": 12,
    "start_time": "2022-10-19T05:07:43.133Z"
   },
   {
    "duration": 180,
    "start_time": "2022-10-19T05:07:49.673Z"
   },
   {
    "duration": 10,
    "start_time": "2022-10-19T05:10:20.672Z"
   },
   {
    "duration": 60,
    "start_time": "2022-10-19T05:10:32.251Z"
   },
   {
    "duration": 8,
    "start_time": "2022-10-19T05:10:58.878Z"
   },
   {
    "duration": 17,
    "start_time": "2022-10-19T05:11:14.369Z"
   },
   {
    "duration": 5,
    "start_time": "2022-10-19T05:11:18.928Z"
   },
   {
    "duration": 14,
    "start_time": "2022-10-19T05:11:20.679Z"
   },
   {
    "duration": 188,
    "start_time": "2022-10-19T05:11:29.709Z"
   },
   {
    "duration": 5,
    "start_time": "2022-10-19T05:11:33.835Z"
   },
   {
    "duration": 15,
    "start_time": "2022-10-19T05:11:36.778Z"
   },
   {
    "duration": 16,
    "start_time": "2022-10-19T05:11:47.657Z"
   },
   {
    "duration": 15,
    "start_time": "2022-10-19T05:12:06.922Z"
   },
   {
    "duration": 10,
    "start_time": "2022-10-19T05:12:08.622Z"
   },
   {
    "duration": 109,
    "start_time": "2022-10-19T05:12:15.379Z"
   },
   {
    "duration": 117,
    "start_time": "2022-10-19T05:13:12.928Z"
   },
   {
    "duration": 123,
    "start_time": "2022-10-19T05:13:45.552Z"
   },
   {
    "duration": 19,
    "start_time": "2022-10-19T05:13:54.383Z"
   },
   {
    "duration": 15,
    "start_time": "2022-10-19T05:14:06.022Z"
   },
   {
    "duration": 138,
    "start_time": "2022-10-19T05:14:07.336Z"
   },
   {
    "duration": 139,
    "start_time": "2022-10-19T05:14:20.890Z"
   },
   {
    "duration": 9,
    "start_time": "2022-10-19T05:14:41.370Z"
   },
   {
    "duration": 18,
    "start_time": "2022-10-19T05:14:44.504Z"
   },
   {
    "duration": 15,
    "start_time": "2022-10-19T05:14:53.057Z"
   },
   {
    "duration": 126,
    "start_time": "2022-10-19T05:14:58.484Z"
   },
   {
    "duration": 129,
    "start_time": "2022-10-19T05:15:06.750Z"
   },
   {
    "duration": 130,
    "start_time": "2022-10-19T05:15:13.463Z"
   },
   {
    "duration": 208,
    "start_time": "2022-10-19T05:15:19.209Z"
   },
   {
    "duration": 667,
    "start_time": "2022-10-19T05:15:52.295Z"
   },
   {
    "duration": 124,
    "start_time": "2022-10-19T05:16:20.741Z"
   },
   {
    "duration": 125,
    "start_time": "2022-10-19T05:16:39.442Z"
   },
   {
    "duration": 133,
    "start_time": "2022-10-19T05:16:47.097Z"
   },
   {
    "duration": 15,
    "start_time": "2022-10-19T05:17:21.750Z"
   },
   {
    "duration": 8,
    "start_time": "2022-10-19T05:17:42.122Z"
   },
   {
    "duration": 133,
    "start_time": "2022-10-19T05:17:58.932Z"
   },
   {
    "duration": 135,
    "start_time": "2022-10-19T05:18:23.222Z"
   },
   {
    "duration": 137,
    "start_time": "2022-10-19T05:18:31.390Z"
   },
   {
    "duration": 142,
    "start_time": "2022-10-19T05:18:41.329Z"
   },
   {
    "duration": 143,
    "start_time": "2022-10-19T05:19:25.990Z"
   },
   {
    "duration": 148,
    "start_time": "2022-10-19T05:19:32.308Z"
   },
   {
    "duration": 10,
    "start_time": "2022-10-19T05:19:55.802Z"
   },
   {
    "duration": 9,
    "start_time": "2022-10-19T05:20:03.224Z"
   },
   {
    "duration": 15,
    "start_time": "2022-10-19T05:20:10.163Z"
   },
   {
    "duration": 117,
    "start_time": "2022-10-19T05:20:11.129Z"
   },
   {
    "duration": 118,
    "start_time": "2022-10-19T05:20:22.596Z"
   },
   {
    "duration": 208,
    "start_time": "2022-10-19T05:20:44.729Z"
   },
   {
    "duration": 16,
    "start_time": "2022-10-19T05:20:57.483Z"
   },
   {
    "duration": 55,
    "start_time": "2022-10-19T05:21:37.691Z"
   },
   {
    "duration": 9,
    "start_time": "2022-10-19T05:21:46.891Z"
   },
   {
    "duration": 154,
    "start_time": "2022-10-19T05:21:57.536Z"
   },
   {
    "duration": 11,
    "start_time": "2022-10-19T05:23:45.130Z"
   },
   {
    "duration": 13,
    "start_time": "2022-10-19T05:23:46.310Z"
   },
   {
    "duration": 7,
    "start_time": "2022-10-19T05:24:04.331Z"
   },
   {
    "duration": 6,
    "start_time": "2022-10-19T05:24:10.163Z"
   },
   {
    "duration": 173,
    "start_time": "2022-10-19T05:25:30.826Z"
   },
   {
    "duration": 7,
    "start_time": "2022-10-19T05:25:46.300Z"
   },
   {
    "duration": 161,
    "start_time": "2022-10-19T05:26:20.107Z"
   },
   {
    "duration": 179,
    "start_time": "2022-10-19T05:29:37.202Z"
   },
   {
    "duration": 173,
    "start_time": "2022-10-19T05:31:07.851Z"
   },
   {
    "duration": 140,
    "start_time": "2022-10-19T05:52:04.852Z"
   },
   {
    "duration": 6,
    "start_time": "2022-10-19T05:53:27.944Z"
   },
   {
    "duration": 1384,
    "start_time": "2022-10-19T13:43:29.075Z"
   },
   {
    "duration": 190,
    "start_time": "2022-10-19T13:43:30.461Z"
   },
   {
    "duration": 22,
    "start_time": "2022-10-19T13:43:30.652Z"
   },
   {
    "duration": 24,
    "start_time": "2022-10-19T13:43:30.676Z"
   },
   {
    "duration": 30,
    "start_time": "2022-10-19T13:43:30.703Z"
   },
   {
    "duration": 34,
    "start_time": "2022-10-19T13:43:30.735Z"
   },
   {
    "duration": 33,
    "start_time": "2022-10-19T13:43:30.771Z"
   },
   {
    "duration": 18,
    "start_time": "2022-10-19T13:43:30.806Z"
   },
   {
    "duration": 24,
    "start_time": "2022-10-19T13:43:30.825Z"
   },
   {
    "duration": 22,
    "start_time": "2022-10-19T13:43:30.851Z"
   },
   {
    "duration": 21,
    "start_time": "2022-10-19T13:43:30.875Z"
   },
   {
    "duration": 208,
    "start_time": "2022-10-19T13:43:30.897Z"
   },
   {
    "duration": 9,
    "start_time": "2022-10-19T13:43:31.107Z"
   },
   {
    "duration": 19,
    "start_time": "2022-10-19T13:43:31.119Z"
   },
   {
    "duration": 276,
    "start_time": "2022-10-19T13:43:31.139Z"
   },
   {
    "duration": 7,
    "start_time": "2022-10-19T13:43:31.417Z"
   },
   {
    "duration": 19,
    "start_time": "2022-10-19T13:43:31.426Z"
   },
   {
    "duration": 149,
    "start_time": "2022-10-19T13:43:31.447Z"
   },
   {
    "duration": 0,
    "start_time": "2022-10-19T13:43:31.598Z"
   },
   {
    "duration": 0,
    "start_time": "2022-10-19T13:43:31.599Z"
   },
   {
    "duration": 0,
    "start_time": "2022-10-19T13:43:31.600Z"
   },
   {
    "duration": 30,
    "start_time": "2022-10-19T13:44:28.642Z"
   },
   {
    "duration": 34,
    "start_time": "2022-10-19T13:44:37.202Z"
   },
   {
    "duration": 3,
    "start_time": "2022-10-19T13:44:47.721Z"
   },
   {
    "duration": 117,
    "start_time": "2022-10-19T13:44:48.297Z"
   },
   {
    "duration": 225,
    "start_time": "2022-10-19T13:44:49.907Z"
   },
   {
    "duration": 24,
    "start_time": "2022-10-19T13:44:57.878Z"
   },
   {
    "duration": 205,
    "start_time": "2022-10-19T13:45:03.866Z"
   },
   {
    "duration": 244,
    "start_time": "2022-10-19T13:45:27.645Z"
   },
   {
    "duration": 130,
    "start_time": "2022-10-19T13:45:40.130Z"
   },
   {
    "duration": 260,
    "start_time": "2022-10-19T13:46:19.886Z"
   },
   {
    "duration": 119,
    "start_time": "2022-10-19T13:47:18.138Z"
   },
   {
    "duration": 238,
    "start_time": "2022-10-19T13:47:47.999Z"
   },
   {
    "duration": 237,
    "start_time": "2022-10-19T13:47:54.818Z"
   },
   {
    "duration": 78,
    "start_time": "2022-10-19T13:48:29.211Z"
   },
   {
    "duration": 64,
    "start_time": "2022-10-20T10:55:28.162Z"
   },
   {
    "duration": 7,
    "start_time": "2022-10-20T10:55:42.457Z"
   },
   {
    "duration": 1375,
    "start_time": "2022-10-20T10:55:55.630Z"
   },
   {
    "duration": 73,
    "start_time": "2022-10-20T10:55:57.008Z"
   },
   {
    "duration": 23,
    "start_time": "2022-10-20T10:55:57.701Z"
   },
   {
    "duration": 15,
    "start_time": "2022-10-20T10:55:59.149Z"
   },
   {
    "duration": 6,
    "start_time": "2022-10-20T10:56:01.399Z"
   },
   {
    "duration": 6,
    "start_time": "2022-10-20T10:56:03.429Z"
   },
   {
    "duration": 10,
    "start_time": "2022-10-20T10:56:04.018Z"
   },
   {
    "duration": 11,
    "start_time": "2022-10-20T10:56:04.990Z"
   },
   {
    "duration": 6,
    "start_time": "2022-10-20T10:56:05.554Z"
   },
   {
    "duration": 14,
    "start_time": "2022-10-20T10:56:06.077Z"
   },
   {
    "duration": 6,
    "start_time": "2022-10-20T10:56:07.651Z"
   },
   {
    "duration": 196,
    "start_time": "2022-10-20T10:56:08.672Z"
   },
   {
    "duration": 8,
    "start_time": "2022-10-20T10:56:11.690Z"
   },
   {
    "duration": 20,
    "start_time": "2022-10-20T10:56:23.386Z"
   },
   {
    "duration": 249,
    "start_time": "2022-10-20T10:56:24.279Z"
   },
   {
    "duration": 8,
    "start_time": "2022-10-20T10:56:30.298Z"
   },
   {
    "duration": 6,
    "start_time": "2022-10-20T10:56:52.582Z"
   },
   {
    "duration": 20,
    "start_time": "2022-10-20T10:58:11.768Z"
   },
   {
    "duration": 96,
    "start_time": "2022-10-20T10:58:20.109Z"
   },
   {
    "duration": 31,
    "start_time": "2022-10-20T10:58:27.654Z"
   },
   {
    "duration": 27,
    "start_time": "2022-10-20T10:58:48.132Z"
   },
   {
    "duration": 35,
    "start_time": "2022-10-20T10:59:01.420Z"
   },
   {
    "duration": 3,
    "start_time": "2022-10-20T10:59:23.810Z"
   },
   {
    "duration": 43,
    "start_time": "2022-10-20T10:59:24.207Z"
   },
   {
    "duration": 16,
    "start_time": "2022-10-20T10:59:24.597Z"
   },
   {
    "duration": 14,
    "start_time": "2022-10-20T10:59:25.123Z"
   },
   {
    "duration": 5,
    "start_time": "2022-10-20T10:59:26.167Z"
   },
   {
    "duration": 6,
    "start_time": "2022-10-20T10:59:26.885Z"
   },
   {
    "duration": 10,
    "start_time": "2022-10-20T10:59:26.975Z"
   },
   {
    "duration": 8,
    "start_time": "2022-10-20T10:59:28.008Z"
   },
   {
    "duration": 5,
    "start_time": "2022-10-20T10:59:28.507Z"
   },
   {
    "duration": 14,
    "start_time": "2022-10-20T10:59:29.020Z"
   },
   {
    "duration": 8,
    "start_time": "2022-10-20T10:59:31.134Z"
   },
   {
    "duration": 191,
    "start_time": "2022-10-20T10:59:32.612Z"
   },
   {
    "duration": 8,
    "start_time": "2022-10-20T10:59:34.042Z"
   },
   {
    "duration": 16,
    "start_time": "2022-10-20T10:59:34.749Z"
   },
   {
    "duration": 245,
    "start_time": "2022-10-20T10:59:35.907Z"
   },
   {
    "duration": 6,
    "start_time": "2022-10-20T10:59:43.061Z"
   },
   {
    "duration": 20,
    "start_time": "2022-10-20T10:59:46.809Z"
   },
   {
    "duration": 27,
    "start_time": "2022-10-20T10:59:57.739Z"
   },
   {
    "duration": 241,
    "start_time": "2022-10-20T11:00:54.916Z"
   },
   {
    "duration": 15,
    "start_time": "2022-10-20T11:04:44.722Z"
   },
   {
    "duration": 16,
    "start_time": "2022-10-20T11:05:07.355Z"
   },
   {
    "duration": 16,
    "start_time": "2022-10-20T11:05:20.080Z"
   },
   {
    "duration": 15,
    "start_time": "2022-10-20T11:05:31.080Z"
   },
   {
    "duration": 229,
    "start_time": "2022-10-20T11:05:43.008Z"
   },
   {
    "duration": 4,
    "start_time": "2022-10-20T11:08:33.694Z"
   },
   {
    "duration": 11,
    "start_time": "2022-10-20T11:16:56.452Z"
   },
   {
    "duration": 12,
    "start_time": "2022-10-20T11:18:10.973Z"
   },
   {
    "duration": 129,
    "start_time": "2022-10-20T11:18:27.144Z"
   },
   {
    "duration": 107,
    "start_time": "2022-10-20T11:18:48.075Z"
   },
   {
    "duration": 21,
    "start_time": "2022-10-20T11:19:10.653Z"
   },
   {
    "duration": 822,
    "start_time": "2022-10-20T11:19:11.671Z"
   },
   {
    "duration": 0,
    "start_time": "2022-10-20T11:19:12.494Z"
   },
   {
    "duration": 123,
    "start_time": "2022-10-20T11:19:28.681Z"
   },
   {
    "duration": 915,
    "start_time": "2022-10-20T11:19:54.214Z"
   },
   {
    "duration": 18,
    "start_time": "2022-10-20T11:20:14.453Z"
   },
   {
    "duration": 6,
    "start_time": "2022-10-20T11:20:22.701Z"
   },
   {
    "duration": 17,
    "start_time": "2022-10-20T11:20:24.044Z"
   },
   {
    "duration": 156,
    "start_time": "2022-10-20T11:20:24.816Z"
   },
   {
    "duration": 18,
    "start_time": "2022-10-20T11:20:26.209Z"
   },
   {
    "duration": 174,
    "start_time": "2022-10-20T11:20:26.940Z"
   },
   {
    "duration": 18,
    "start_time": "2022-10-20T11:20:29.160Z"
   },
   {
    "duration": 158,
    "start_time": "2022-10-20T11:20:31.103Z"
   },
   {
    "duration": 113,
    "start_time": "2022-10-20T11:20:32.023Z"
   },
   {
    "duration": 111,
    "start_time": "2022-10-20T11:20:56.420Z"
   },
   {
    "duration": 109,
    "start_time": "2022-10-20T11:21:37.422Z"
   },
   {
    "duration": 210,
    "start_time": "2022-10-20T11:22:06.266Z"
   },
   {
    "duration": 122,
    "start_time": "2022-10-20T11:23:23.046Z"
   },
   {
    "duration": 97,
    "start_time": "2022-10-20T11:23:41.439Z"
   },
   {
    "duration": 153,
    "start_time": "2022-10-20T11:27:30.016Z"
   },
   {
    "duration": 49,
    "start_time": "2022-10-20T11:27:50.909Z"
   },
   {
    "duration": 85,
    "start_time": "2022-10-20T11:27:59.986Z"
   },
   {
    "duration": 61,
    "start_time": "2022-10-20T11:28:06.808Z"
   },
   {
    "duration": 62,
    "start_time": "2022-10-20T11:28:14.578Z"
   },
   {
    "duration": 122,
    "start_time": "2022-10-20T11:28:21.205Z"
   },
   {
    "duration": 156,
    "start_time": "2022-10-20T11:28:39.565Z"
   },
   {
    "duration": 302,
    "start_time": "2022-10-20T11:28:44.961Z"
   },
   {
    "duration": 303,
    "start_time": "2022-10-20T11:29:27.265Z"
   },
   {
    "duration": 487,
    "start_time": "2022-10-20T11:29:51.908Z"
   },
   {
    "duration": 131,
    "start_time": "2022-10-20T11:30:26.554Z"
   },
   {
    "duration": 125,
    "start_time": "2022-10-20T11:30:39.099Z"
   },
   {
    "duration": 67,
    "start_time": "2022-10-20T11:31:01.649Z"
   },
   {
    "duration": 121,
    "start_time": "2022-10-20T11:31:14.745Z"
   },
   {
    "duration": 83,
    "start_time": "2022-10-20T11:31:26.848Z"
   },
   {
    "duration": 103,
    "start_time": "2022-10-20T11:31:39.395Z"
   },
   {
    "duration": 351,
    "start_time": "2022-10-20T11:31:53.975Z"
   },
   {
    "duration": 349,
    "start_time": "2022-10-20T11:32:09.992Z"
   },
   {
    "duration": 142,
    "start_time": "2022-10-20T11:32:29.717Z"
   },
   {
    "duration": 431,
    "start_time": "2022-10-20T11:33:05.563Z"
   },
   {
    "duration": 1593,
    "start_time": "2022-10-20T11:34:08.416Z"
   },
   {
    "duration": 264,
    "start_time": "2022-10-20T11:34:23.128Z"
   },
   {
    "duration": 355,
    "start_time": "2022-10-20T11:34:34.442Z"
   },
   {
    "duration": 246,
    "start_time": "2022-10-20T11:35:11.927Z"
   },
   {
    "duration": 17,
    "start_time": "2022-10-20T11:35:47.249Z"
   },
   {
    "duration": 180,
    "start_time": "2022-10-20T11:35:52.165Z"
   },
   {
    "duration": 17,
    "start_time": "2022-10-20T11:35:56.559Z"
   },
   {
    "duration": 155,
    "start_time": "2022-10-20T11:35:58.359Z"
   },
   {
    "duration": 240,
    "start_time": "2022-10-20T11:36:01.101Z"
   },
   {
    "duration": 237,
    "start_time": "2022-10-20T11:36:36.735Z"
   },
   {
    "duration": 221,
    "start_time": "2022-10-20T11:37:02.618Z"
   },
   {
    "duration": 106,
    "start_time": "2022-10-20T11:37:08.993Z"
   },
   {
    "duration": 107,
    "start_time": "2022-10-20T11:37:20.966Z"
   },
   {
    "duration": 203,
    "start_time": "2022-10-20T11:37:28.280Z"
   },
   {
    "duration": 263,
    "start_time": "2022-10-20T11:37:59.822Z"
   },
   {
    "duration": 296,
    "start_time": "2022-10-20T11:39:02.773Z"
   },
   {
    "duration": 295,
    "start_time": "2022-10-20T11:39:16.519Z"
   },
   {
    "duration": 402,
    "start_time": "2022-10-20T11:40:22.717Z"
   },
   {
    "duration": 284,
    "start_time": "2022-10-20T11:40:30.641Z"
   },
   {
    "duration": 279,
    "start_time": "2022-10-20T11:41:24.457Z"
   },
   {
    "duration": 278,
    "start_time": "2022-10-20T11:41:33.497Z"
   },
   {
    "duration": 300,
    "start_time": "2022-10-20T11:41:50.351Z"
   },
   {
    "duration": 306,
    "start_time": "2022-10-20T11:41:55.277Z"
   },
   {
    "duration": 390,
    "start_time": "2022-10-20T11:42:07.588Z"
   },
   {
    "duration": 309,
    "start_time": "2022-10-20T11:42:38.504Z"
   },
   {
    "duration": 6,
    "start_time": "2022-10-20T11:43:12.116Z"
   },
   {
    "duration": 18,
    "start_time": "2022-10-20T11:43:13.637Z"
   },
   {
    "duration": 156,
    "start_time": "2022-10-20T11:43:14.378Z"
   },
   {
    "duration": 337,
    "start_time": "2022-10-20T11:43:39.379Z"
   },
   {
    "duration": 317,
    "start_time": "2022-10-20T11:43:49.907Z"
   },
   {
    "duration": 338,
    "start_time": "2022-10-20T11:44:02.396Z"
   },
   {
    "duration": 430,
    "start_time": "2022-10-20T11:44:25.858Z"
   },
   {
    "duration": 160,
    "start_time": "2022-10-20T11:44:33.034Z"
   },
   {
    "duration": 359,
    "start_time": "2022-10-20T11:46:00.026Z"
   },
   {
    "duration": 351,
    "start_time": "2022-10-20T11:48:04.258Z"
   },
   {
    "duration": 360,
    "start_time": "2022-10-20T11:48:15.122Z"
   },
   {
    "duration": 355,
    "start_time": "2022-10-20T11:48:29.132Z"
   },
   {
    "duration": 2,
    "start_time": "2022-10-20T11:49:51.132Z"
   },
   {
    "duration": 1211,
    "start_time": "2022-10-20T15:04:07.058Z"
   },
   {
    "duration": 65,
    "start_time": "2022-10-20T15:04:08.271Z"
   },
   {
    "duration": 21,
    "start_time": "2022-10-20T15:04:10.717Z"
   },
   {
    "duration": 19,
    "start_time": "2022-10-20T15:04:12.281Z"
   },
   {
    "duration": 6,
    "start_time": "2022-10-20T15:04:15.443Z"
   },
   {
    "duration": 6,
    "start_time": "2022-10-20T15:04:26.465Z"
   },
   {
    "duration": 10,
    "start_time": "2022-10-20T15:04:27.543Z"
   },
   {
    "duration": 5,
    "start_time": "2022-10-20T15:04:43.739Z"
   },
   {
    "duration": 6,
    "start_time": "2022-10-20T15:05:10.227Z"
   },
   {
    "duration": 5,
    "start_time": "2022-10-20T15:08:47.421Z"
   },
   {
    "duration": 9,
    "start_time": "2022-10-20T15:08:49.775Z"
   },
   {
    "duration": 4,
    "start_time": "2022-10-20T15:08:50.933Z"
   },
   {
    "duration": 5,
    "start_time": "2022-10-20T15:08:58.991Z"
   },
   {
    "duration": 17,
    "start_time": "2022-10-20T15:09:00.657Z"
   },
   {
    "duration": 111,
    "start_time": "2022-10-20T15:09:33.162Z"
   },
   {
    "duration": 5,
    "start_time": "2022-10-20T15:09:39.847Z"
   },
   {
    "duration": 2,
    "start_time": "2022-10-20T15:09:50.463Z"
   },
   {
    "duration": 36,
    "start_time": "2022-10-20T15:09:51.021Z"
   },
   {
    "duration": 16,
    "start_time": "2022-10-20T15:09:51.809Z"
   },
   {
    "duration": 12,
    "start_time": "2022-10-20T15:09:52.861Z"
   },
   {
    "duration": 5,
    "start_time": "2022-10-20T15:09:55.221Z"
   },
   {
    "duration": 5,
    "start_time": "2022-10-20T15:09:57.915Z"
   },
   {
    "duration": 10,
    "start_time": "2022-10-20T15:10:01.019Z"
   },
   {
    "duration": 6,
    "start_time": "2022-10-20T15:10:14.056Z"
   },
   {
    "duration": 8,
    "start_time": "2022-10-20T15:10:42.385Z"
   },
   {
    "duration": 5,
    "start_time": "2022-10-20T15:10:43.159Z"
   },
   {
    "duration": 6,
    "start_time": "2022-10-20T15:10:44.207Z"
   },
   {
    "duration": 13,
    "start_time": "2022-10-20T15:10:45.514Z"
   },
   {
    "duration": 3,
    "start_time": "2022-10-20T15:11:28.738Z"
   },
   {
    "duration": 36,
    "start_time": "2022-10-20T15:11:29.270Z"
   },
   {
    "duration": 15,
    "start_time": "2022-10-20T15:11:29.682Z"
   },
   {
    "duration": 17,
    "start_time": "2022-10-20T15:11:30.164Z"
   },
   {
    "duration": 5,
    "start_time": "2022-10-20T15:11:31.664Z"
   },
   {
    "duration": 6,
    "start_time": "2022-10-20T15:11:33.353Z"
   },
   {
    "duration": 9,
    "start_time": "2022-10-20T15:11:36.399Z"
   },
   {
    "duration": 8,
    "start_time": "2022-10-20T15:11:41.484Z"
   },
   {
    "duration": 6,
    "start_time": "2022-10-20T15:11:42.276Z"
   },
   {
    "duration": 5,
    "start_time": "2022-10-20T15:11:58.597Z"
   },
   {
    "duration": 6,
    "start_time": "2022-10-20T15:12:09.050Z"
   },
   {
    "duration": 4,
    "start_time": "2022-10-20T15:12:18.517Z"
   },
   {
    "duration": 6,
    "start_time": "2022-10-20T15:12:19.047Z"
   },
   {
    "duration": 5,
    "start_time": "2022-10-20T15:12:23.299Z"
   },
   {
    "duration": 12,
    "start_time": "2022-10-20T15:12:25.337Z"
   },
   {
    "duration": 7,
    "start_time": "2022-10-20T15:14:47.750Z"
   },
   {
    "duration": 185,
    "start_time": "2022-10-20T15:14:59.911Z"
   },
   {
    "duration": 7,
    "start_time": "2022-10-20T15:15:03.734Z"
   },
   {
    "duration": 14,
    "start_time": "2022-10-20T15:15:07.795Z"
   },
   {
    "duration": 201,
    "start_time": "2022-10-20T15:15:09.484Z"
   },
   {
    "duration": 5,
    "start_time": "2022-10-20T15:15:25.892Z"
   },
   {
    "duration": 16,
    "start_time": "2022-10-20T15:15:37.036Z"
   },
   {
    "duration": 223,
    "start_time": "2022-10-20T15:15:56.627Z"
   },
   {
    "duration": 18,
    "start_time": "2022-10-20T15:17:03.565Z"
   },
   {
    "duration": 230,
    "start_time": "2022-10-20T15:17:25.775Z"
   },
   {
    "duration": 262,
    "start_time": "2022-10-20T15:17:41.587Z"
   },
   {
    "duration": 9,
    "start_time": "2022-10-20T15:21:12.064Z"
   },
   {
    "duration": 201,
    "start_time": "2022-10-20T15:22:40.674Z"
   },
   {
    "duration": 372,
    "start_time": "2022-10-20T15:22:54.308Z"
   },
   {
    "duration": 218,
    "start_time": "2022-10-20T15:23:15.046Z"
   },
   {
    "duration": 99,
    "start_time": "2022-10-20T15:23:35.985Z"
   },
   {
    "duration": 48,
    "start_time": "2022-10-20T15:24:15.092Z"
   },
   {
    "duration": 48,
    "start_time": "2022-10-20T15:24:31.868Z"
   },
   {
    "duration": 220,
    "start_time": "2022-10-20T15:24:40.737Z"
   },
   {
    "duration": 219,
    "start_time": "2022-10-20T15:24:49.201Z"
   },
   {
    "duration": 111,
    "start_time": "2022-10-20T15:27:15.521Z"
   },
   {
    "duration": 112,
    "start_time": "2022-10-20T15:27:27.131Z"
   },
   {
    "duration": 313,
    "start_time": "2022-10-20T15:27:33.244Z"
   },
   {
    "duration": 195,
    "start_time": "2022-10-20T15:31:16.780Z"
   },
   {
    "duration": 214,
    "start_time": "2022-10-20T15:33:32.587Z"
   },
   {
    "duration": 119,
    "start_time": "2022-10-20T15:33:50.015Z"
   },
   {
    "duration": 9,
    "start_time": "2022-10-20T15:38:21.095Z"
   },
   {
    "duration": 3,
    "start_time": "2022-10-20T15:38:26.990Z"
   },
   {
    "duration": 100,
    "start_time": "2022-10-20T15:38:28.474Z"
   },
   {
    "duration": 289,
    "start_time": "2022-10-20T15:38:31.950Z"
   },
   {
    "duration": 303,
    "start_time": "2022-10-20T15:39:06.554Z"
   },
   {
    "duration": 234,
    "start_time": "2022-10-20T15:39:14.288Z"
   },
   {
    "duration": 215,
    "start_time": "2022-10-20T15:39:28.281Z"
   },
   {
    "duration": 194,
    "start_time": "2022-10-20T15:39:58.167Z"
   },
   {
    "duration": 9,
    "start_time": "2022-10-20T15:41:14.195Z"
   },
   {
    "duration": 103,
    "start_time": "2022-10-20T15:41:20.773Z"
   },
   {
    "duration": 179,
    "start_time": "2022-10-20T15:41:42.921Z"
   },
   {
    "duration": 187,
    "start_time": "2022-10-20T15:43:01.450Z"
   },
   {
    "duration": 15,
    "start_time": "2022-10-20T15:43:30.545Z"
   },
   {
    "duration": 14,
    "start_time": "2022-10-20T15:44:19.722Z"
   },
   {
    "duration": 192,
    "start_time": "2022-10-20T15:44:26.015Z"
   },
   {
    "duration": 313,
    "start_time": "2022-10-20T15:44:44.903Z"
   },
   {
    "duration": 158,
    "start_time": "2022-10-20T15:46:17.385Z"
   },
   {
    "duration": 103,
    "start_time": "2022-10-20T15:47:45.782Z"
   },
   {
    "duration": 46,
    "start_time": "2022-10-20T15:47:58.891Z"
   },
   {
    "duration": 96,
    "start_time": "2022-10-20T15:48:05.577Z"
   },
   {
    "duration": 111,
    "start_time": "2022-10-20T15:48:22.151Z"
   },
   {
    "duration": 203,
    "start_time": "2022-10-20T15:48:36.117Z"
   },
   {
    "duration": 209,
    "start_time": "2022-10-20T15:48:51.381Z"
   },
   {
    "duration": 200,
    "start_time": "2022-10-20T15:49:16.679Z"
   },
   {
    "duration": 44,
    "start_time": "2022-10-20T15:49:57.381Z"
   },
   {
    "duration": 213,
    "start_time": "2022-10-20T15:50:24.643Z"
   },
   {
    "duration": 342,
    "start_time": "2022-10-20T15:50:30.037Z"
   },
   {
    "duration": 2845,
    "start_time": "2022-10-20T15:50:52.430Z"
   },
   {
    "duration": 207,
    "start_time": "2022-10-20T15:51:02.628Z"
   },
   {
    "duration": 194,
    "start_time": "2022-10-20T15:51:13.536Z"
   },
   {
    "duration": 389,
    "start_time": "2022-10-20T15:51:18.647Z"
   },
   {
    "duration": 196,
    "start_time": "2022-10-20T15:51:43.054Z"
   },
   {
    "duration": 292,
    "start_time": "2022-10-20T15:52:09.745Z"
   },
   {
    "duration": 206,
    "start_time": "2022-10-20T15:52:19.986Z"
   },
   {
    "duration": 224,
    "start_time": "2022-10-20T15:52:27.093Z"
   },
   {
    "duration": 216,
    "start_time": "2022-10-20T15:52:35.866Z"
   },
   {
    "duration": 231,
    "start_time": "2022-10-20T15:53:31.814Z"
   },
   {
    "duration": 341,
    "start_time": "2022-10-20T15:54:18.222Z"
   },
   {
    "duration": 221,
    "start_time": "2022-10-20T15:54:53.121Z"
   },
   {
    "duration": 204,
    "start_time": "2022-10-20T15:55:10.253Z"
   },
   {
    "duration": 233,
    "start_time": "2022-10-20T15:55:29.865Z"
   },
   {
    "duration": 263,
    "start_time": "2022-10-20T15:55:44.098Z"
   },
   {
    "duration": 273,
    "start_time": "2022-10-20T15:56:28.219Z"
   },
   {
    "duration": 216,
    "start_time": "2022-10-20T15:56:48.960Z"
   },
   {
    "duration": 357,
    "start_time": "2022-10-20T15:57:05.413Z"
   },
   {
    "duration": 209,
    "start_time": "2022-10-20T15:57:22.136Z"
   },
   {
    "duration": 221,
    "start_time": "2022-10-20T15:57:35.625Z"
   },
   {
    "duration": 268,
    "start_time": "2022-10-20T15:59:39.792Z"
   },
   {
    "duration": 202,
    "start_time": "2022-10-20T15:59:47.754Z"
   },
   {
    "duration": 283,
    "start_time": "2022-10-20T15:59:58.374Z"
   },
   {
    "duration": 200,
    "start_time": "2022-10-20T16:00:30.238Z"
   },
   {
    "duration": 207,
    "start_time": "2022-10-20T16:00:43.346Z"
   },
   {
    "duration": 387,
    "start_time": "2022-10-20T16:00:52.951Z"
   },
   {
    "duration": 272,
    "start_time": "2022-10-20T16:02:24.019Z"
   },
   {
    "duration": 223,
    "start_time": "2022-10-20T16:02:50.295Z"
   },
   {
    "duration": 3,
    "start_time": "2022-10-20T16:06:16.320Z"
   },
   {
    "duration": 144,
    "start_time": "2022-10-20T16:06:28.337Z"
   },
   {
    "duration": 179,
    "start_time": "2022-10-20T16:07:04.624Z"
   },
   {
    "duration": 11,
    "start_time": "2022-10-20T16:07:05.231Z"
   },
   {
    "duration": 160,
    "start_time": "2022-10-20T16:07:05.754Z"
   },
   {
    "duration": 7,
    "start_time": "2022-10-20T16:07:05.915Z"
   },
   {
    "duration": 153,
    "start_time": "2022-10-20T16:07:06.476Z"
   },
   {
    "duration": 7,
    "start_time": "2022-10-20T16:07:07.132Z"
   },
   {
    "duration": 170,
    "start_time": "2022-10-20T16:07:07.311Z"
   },
   {
    "duration": 7,
    "start_time": "2022-10-20T16:07:07.876Z"
   },
   {
    "duration": 20,
    "start_time": "2022-10-20T16:07:10.280Z"
   },
   {
    "duration": 19,
    "start_time": "2022-10-20T16:07:11.329Z"
   },
   {
    "duration": 14,
    "start_time": "2022-10-20T16:07:19.716Z"
   },
   {
    "duration": 208,
    "start_time": "2022-10-20T16:07:23.394Z"
   },
   {
    "duration": 174,
    "start_time": "2022-10-20T16:08:10.747Z"
   },
   {
    "duration": 175,
    "start_time": "2022-10-20T16:08:21.273Z"
   },
   {
    "duration": 5,
    "start_time": "2022-10-20T16:08:33.840Z"
   },
   {
    "duration": 17,
    "start_time": "2022-10-20T16:08:37.433Z"
   },
   {
    "duration": 16,
    "start_time": "2022-10-20T16:08:39.414Z"
   },
   {
    "duration": 22,
    "start_time": "2022-10-20T16:08:40.754Z"
   },
   {
    "duration": 3,
    "start_time": "2022-10-20T16:08:42.561Z"
   },
   {
    "duration": 303,
    "start_time": "2022-10-20T16:09:02.167Z"
   },
   {
    "duration": 18,
    "start_time": "2022-10-20T16:09:06.366Z"
   },
   {
    "duration": 16,
    "start_time": "2022-10-20T16:09:46.664Z"
   },
   {
    "duration": 18,
    "start_time": "2022-10-20T16:09:54.425Z"
   },
   {
    "duration": 15,
    "start_time": "2022-10-20T16:09:56.683Z"
   },
   {
    "duration": 16,
    "start_time": "2022-10-20T16:09:58.067Z"
   },
   {
    "duration": 290,
    "start_time": "2022-10-20T16:09:59.360Z"
   },
   {
    "duration": 14,
    "start_time": "2022-10-20T16:10:35.813Z"
   },
   {
    "duration": 161,
    "start_time": "2022-10-20T16:10:38.107Z"
   },
   {
    "duration": 16,
    "start_time": "2022-10-20T16:10:38.973Z"
   },
   {
    "duration": 301,
    "start_time": "2022-10-20T16:10:40.306Z"
   },
   {
    "duration": 16,
    "start_time": "2022-10-20T16:10:41.287Z"
   },
   {
    "duration": 139,
    "start_time": "2022-10-20T16:10:42.632Z"
   },
   {
    "duration": 14,
    "start_time": "2022-10-20T16:11:27.195Z"
   },
   {
    "duration": 9,
    "start_time": "2022-10-20T16:11:33.486Z"
   },
   {
    "duration": 21,
    "start_time": "2022-10-20T16:11:49.614Z"
   },
   {
    "duration": 21,
    "start_time": "2022-10-20T16:11:53.581Z"
   },
   {
    "duration": 10,
    "start_time": "2022-10-20T16:14:43.478Z"
   },
   {
    "duration": 14,
    "start_time": "2022-10-20T16:14:46.490Z"
   },
   {
    "duration": 213,
    "start_time": "2022-10-20T16:14:48.528Z"
   },
   {
    "duration": 7,
    "start_time": "2022-10-20T16:14:52.877Z"
   },
   {
    "duration": 198,
    "start_time": "2022-10-20T16:15:04.780Z"
   },
   {
    "duration": 6,
    "start_time": "2022-10-20T16:15:21.093Z"
   },
   {
    "duration": 18,
    "start_time": "2022-10-20T16:18:41.438Z"
   },
   {
    "duration": 17,
    "start_time": "2022-10-20T16:18:59.223Z"
   },
   {
    "duration": 5,
    "start_time": "2022-10-20T16:20:51.066Z"
   },
   {
    "duration": 15,
    "start_time": "2022-10-20T16:20:51.884Z"
   },
   {
    "duration": 15,
    "start_time": "2022-10-20T16:20:52.411Z"
   },
   {
    "duration": 15,
    "start_time": "2022-10-20T16:20:52.979Z"
   },
   {
    "duration": 284,
    "start_time": "2022-10-20T16:20:53.676Z"
   },
   {
    "duration": 16,
    "start_time": "2022-10-20T16:20:57.750Z"
   },
   {
    "duration": 154,
    "start_time": "2022-10-20T16:21:18.377Z"
   },
   {
    "duration": 16,
    "start_time": "2022-10-20T16:21:19.150Z"
   },
   {
    "duration": 149,
    "start_time": "2022-10-20T16:21:19.906Z"
   },
   {
    "duration": 16,
    "start_time": "2022-10-20T16:21:22.179Z"
   },
   {
    "duration": 129,
    "start_time": "2022-10-20T16:21:22.983Z"
   },
   {
    "duration": 15,
    "start_time": "2022-10-20T16:21:42.320Z"
   },
   {
    "duration": 16,
    "start_time": "2022-10-20T16:21:50.083Z"
   },
   {
    "duration": 9,
    "start_time": "2022-10-20T16:22:14.980Z"
   },
   {
    "duration": 3,
    "start_time": "2022-10-20T16:22:21.972Z"
   },
   {
    "duration": 17,
    "start_time": "2022-10-20T16:23:20.797Z"
   },
   {
    "duration": 4,
    "start_time": "2022-10-20T16:23:22.511Z"
   },
   {
    "duration": 17,
    "start_time": "2022-10-20T16:23:36.266Z"
   },
   {
    "duration": 4,
    "start_time": "2022-10-20T16:23:37.113Z"
   },
   {
    "duration": 169,
    "start_time": "2022-10-20T16:23:42.487Z"
   },
   {
    "duration": 54,
    "start_time": "2022-10-20T16:24:00.414Z"
   },
   {
    "duration": 4,
    "start_time": "2022-10-20T16:24:09.557Z"
   },
   {
    "duration": 158,
    "start_time": "2022-10-20T16:24:45.323Z"
   },
   {
    "duration": 161,
    "start_time": "2022-10-20T16:24:52.844Z"
   },
   {
    "duration": 165,
    "start_time": "2022-10-20T16:24:59.639Z"
   },
   {
    "duration": 151,
    "start_time": "2022-10-20T16:25:06.380Z"
   },
   {
    "duration": 157,
    "start_time": "2022-10-20T16:25:12.720Z"
   },
   {
    "duration": 151,
    "start_time": "2022-10-20T16:25:18.770Z"
   },
   {
    "duration": 304,
    "start_time": "2022-10-20T16:25:24.538Z"
   },
   {
    "duration": 153,
    "start_time": "2022-10-20T16:25:32.071Z"
   },
   {
    "duration": 140,
    "start_time": "2022-10-20T16:25:39.869Z"
   },
   {
    "duration": 179,
    "start_time": "2022-10-20T16:25:51.411Z"
   },
   {
    "duration": 4,
    "start_time": "2022-10-20T16:32:53.615Z"
   },
   {
    "duration": 13,
    "start_time": "2022-10-20T16:33:07.932Z"
   },
   {
    "duration": 19,
    "start_time": "2022-10-20T16:33:21.352Z"
   },
   {
    "duration": 4,
    "start_time": "2022-10-20T16:33:35.177Z"
   },
   {
    "duration": 4,
    "start_time": "2022-10-20T16:33:39.600Z"
   },
   {
    "duration": 156,
    "start_time": "2022-10-20T16:33:42.845Z"
   },
   {
    "duration": 7,
    "start_time": "2022-10-20T16:33:46.716Z"
   },
   {
    "duration": 161,
    "start_time": "2022-10-20T16:33:48.467Z"
   },
   {
    "duration": 6,
    "start_time": "2022-10-20T16:33:49.197Z"
   },
   {
    "duration": 155,
    "start_time": "2022-10-20T16:33:56.558Z"
   },
   {
    "duration": 8,
    "start_time": "2022-10-20T16:33:58.427Z"
   },
   {
    "duration": 159,
    "start_time": "2022-10-20T16:33:59.316Z"
   },
   {
    "duration": 7,
    "start_time": "2022-10-20T16:34:01.012Z"
   },
   {
    "duration": 20,
    "start_time": "2022-10-20T16:34:10.832Z"
   },
   {
    "duration": 20,
    "start_time": "2022-10-20T16:34:19.225Z"
   },
   {
    "duration": 15,
    "start_time": "2022-10-20T16:34:23.028Z"
   },
   {
    "duration": 240,
    "start_time": "2022-10-20T16:34:25.316Z"
   },
   {
    "duration": 6,
    "start_time": "2022-10-20T16:34:32.856Z"
   },
   {
    "duration": 5,
    "start_time": "2022-10-20T16:34:39.892Z"
   },
   {
    "duration": 15,
    "start_time": "2022-10-20T16:34:41.078Z"
   },
   {
    "duration": 21,
    "start_time": "2022-10-20T16:34:42.662Z"
   },
   {
    "duration": 18,
    "start_time": "2022-10-20T16:34:44.273Z"
   },
   {
    "duration": 392,
    "start_time": "2022-10-20T16:34:45.605Z"
   },
   {
    "duration": 17,
    "start_time": "2022-10-20T16:35:01.071Z"
   },
   {
    "duration": 148,
    "start_time": "2022-10-20T16:35:01.838Z"
   },
   {
    "duration": 17,
    "start_time": "2022-10-20T16:35:10.636Z"
   },
   {
    "duration": 136,
    "start_time": "2022-10-20T16:35:11.477Z"
   },
   {
    "duration": 50,
    "start_time": "2022-10-20T16:35:15.082Z"
   },
   {
    "duration": 153,
    "start_time": "2022-10-20T16:35:15.889Z"
   },
   {
    "duration": 15,
    "start_time": "2022-10-20T16:35:20.718Z"
   },
   {
    "duration": 15,
    "start_time": "2022-10-20T16:35:21.767Z"
   },
   {
    "duration": 15,
    "start_time": "2022-10-20T16:35:22.290Z"
   },
   {
    "duration": 11,
    "start_time": "2022-10-20T16:35:26.054Z"
   },
   {
    "duration": 15,
    "start_time": "2022-10-20T16:35:28.081Z"
   },
   {
    "duration": 228,
    "start_time": "2022-10-20T16:35:29.874Z"
   },
   {
    "duration": 8,
    "start_time": "2022-10-20T16:35:33.007Z"
   },
   {
    "duration": 337,
    "start_time": "2022-10-20T16:35:45.886Z"
   },
   {
    "duration": 21,
    "start_time": "2022-10-20T16:36:44.632Z"
   },
   {
    "duration": 134,
    "start_time": "2022-10-20T16:36:45.745Z"
   },
   {
    "duration": 15,
    "start_time": "2022-10-20T16:37:25.840Z"
   },
   {
    "duration": 103,
    "start_time": "2022-10-20T16:37:27.144Z"
   },
   {
    "duration": 16,
    "start_time": "2022-10-20T16:37:50.372Z"
   },
   {
    "duration": 105,
    "start_time": "2022-10-20T16:37:51.463Z"
   },
   {
    "duration": 44,
    "start_time": "2022-10-20T16:38:15.875Z"
   },
   {
    "duration": 59,
    "start_time": "2022-10-20T16:38:29.185Z"
   },
   {
    "duration": 24,
    "start_time": "2022-10-20T16:38:40.587Z"
   },
   {
    "duration": 119,
    "start_time": "2022-10-20T16:38:46.532Z"
   },
   {
    "duration": 115,
    "start_time": "2022-10-20T16:39:12.519Z"
   },
   {
    "duration": 107,
    "start_time": "2022-10-20T16:41:19.710Z"
   },
   {
    "duration": 104,
    "start_time": "2022-10-20T16:41:53.155Z"
   },
   {
    "duration": 146,
    "start_time": "2022-10-20T16:42:21.744Z"
   },
   {
    "duration": 16,
    "start_time": "2022-10-20T16:42:39.716Z"
   },
   {
    "duration": 115,
    "start_time": "2022-10-20T16:42:41.307Z"
   },
   {
    "duration": 122,
    "start_time": "2022-10-20T16:42:43.366Z"
   },
   {
    "duration": 16,
    "start_time": "2022-10-20T16:43:13.247Z"
   },
   {
    "duration": 117,
    "start_time": "2022-10-20T16:43:16.600Z"
   },
   {
    "duration": 3,
    "start_time": "2022-10-20T16:44:03.068Z"
   },
   {
    "duration": 37,
    "start_time": "2022-10-20T16:44:03.584Z"
   },
   {
    "duration": 17,
    "start_time": "2022-10-20T16:44:04.110Z"
   },
   {
    "duration": 14,
    "start_time": "2022-10-20T16:44:04.342Z"
   },
   {
    "duration": 5,
    "start_time": "2022-10-20T16:44:05.168Z"
   },
   {
    "duration": 6,
    "start_time": "2022-10-20T16:44:05.732Z"
   },
   {
    "duration": 15,
    "start_time": "2022-10-20T16:44:05.955Z"
   },
   {
    "duration": 10,
    "start_time": "2022-10-20T16:44:06.732Z"
   },
   {
    "duration": 7,
    "start_time": "2022-10-20T16:44:07.266Z"
   },
   {
    "duration": 9,
    "start_time": "2022-10-20T16:44:07.411Z"
   },
   {
    "duration": 6,
    "start_time": "2022-10-20T16:44:07.778Z"
   },
   {
    "duration": 18,
    "start_time": "2022-10-20T16:44:08.306Z"
   },
   {
    "duration": 7,
    "start_time": "2022-10-20T16:44:09.876Z"
   },
   {
    "duration": 161,
    "start_time": "2022-10-20T16:44:10.403Z"
   },
   {
    "duration": 7,
    "start_time": "2022-10-20T16:44:11.034Z"
   },
   {
    "duration": 13,
    "start_time": "2022-10-20T16:44:11.465Z"
   },
   {
    "duration": 207,
    "start_time": "2022-10-20T16:44:11.662Z"
   },
   {
    "duration": 6,
    "start_time": "2022-10-20T16:44:13.021Z"
   },
   {
    "duration": 15,
    "start_time": "2022-10-20T16:44:14.622Z"
   },
   {
    "duration": 241,
    "start_time": "2022-10-20T16:44:15.271Z"
   },
   {
    "duration": 3,
    "start_time": "2022-10-20T16:44:16.692Z"
   },
   {
    "duration": 262,
    "start_time": "2022-10-20T16:44:16.921Z"
   },
   {
    "duration": 239,
    "start_time": "2022-10-20T16:44:17.296Z"
   },
   {
    "duration": 4,
    "start_time": "2022-10-20T16:44:17.537Z"
   },
   {
    "duration": 185,
    "start_time": "2022-10-20T16:44:18.988Z"
   },
   {
    "duration": 8,
    "start_time": "2022-10-20T16:44:19.218Z"
   },
   {
    "duration": 170,
    "start_time": "2022-10-20T16:44:19.449Z"
   },
   {
    "duration": 7,
    "start_time": "2022-10-20T16:44:19.866Z"
   },
   {
    "duration": 221,
    "start_time": "2022-10-20T16:44:20.361Z"
   },
   {
    "duration": 7,
    "start_time": "2022-10-20T16:44:20.619Z"
   },
   {
    "duration": 378,
    "start_time": "2022-10-20T16:44:20.888Z"
   },
   {
    "duration": 8,
    "start_time": "2022-10-20T16:44:21.268Z"
   },
   {
    "duration": 18,
    "start_time": "2022-10-20T16:44:22.116Z"
   },
   {
    "duration": 21,
    "start_time": "2022-10-20T16:44:22.985Z"
   },
   {
    "duration": 16,
    "start_time": "2022-10-20T16:44:24.619Z"
   },
   {
    "duration": 194,
    "start_time": "2022-10-20T16:44:25.080Z"
   },
   {
    "duration": 5,
    "start_time": "2022-10-20T16:44:28.227Z"
   },
   {
    "duration": 16,
    "start_time": "2022-10-20T16:44:28.432Z"
   },
   {
    "duration": 15,
    "start_time": "2022-10-20T16:44:28.961Z"
   },
   {
    "duration": 16,
    "start_time": "2022-10-20T16:44:29.692Z"
   },
   {
    "duration": 327,
    "start_time": "2022-10-20T16:44:30.331Z"
   },
   {
    "duration": 16,
    "start_time": "2022-10-20T16:44:34.031Z"
   },
   {
    "duration": 126,
    "start_time": "2022-10-20T16:44:34.576Z"
   },
   {
    "duration": 15,
    "start_time": "2022-10-20T16:44:34.795Z"
   },
   {
    "duration": 110,
    "start_time": "2022-10-20T16:44:35.769Z"
   },
   {
    "duration": 16,
    "start_time": "2022-10-20T16:44:36.163Z"
   },
   {
    "duration": 116,
    "start_time": "2022-10-20T16:44:36.224Z"
   },
   {
    "duration": 17,
    "start_time": "2022-10-20T16:44:37.716Z"
   },
   {
    "duration": 18,
    "start_time": "2022-10-20T16:44:37.983Z"
   },
   {
    "duration": 15,
    "start_time": "2022-10-20T16:44:38.221Z"
   },
   {
    "duration": 13,
    "start_time": "2022-10-20T16:44:39.792Z"
   },
   {
    "duration": 16,
    "start_time": "2022-10-20T16:44:40.005Z"
   },
   {
    "duration": 228,
    "start_time": "2022-10-20T16:44:41.113Z"
   },
   {
    "duration": 7,
    "start_time": "2022-10-20T16:44:43.587Z"
   },
   {
    "duration": 203,
    "start_time": "2022-10-20T16:44:46.085Z"
   },
   {
    "duration": 8,
    "start_time": "2022-10-20T16:44:49.869Z"
   },
   {
    "duration": 2,
    "start_time": "2022-10-20T17:13:34.746Z"
   },
   {
    "duration": 37,
    "start_time": "2022-10-20T17:13:34.921Z"
   },
   {
    "duration": 23,
    "start_time": "2022-10-20T17:13:35.411Z"
   },
   {
    "duration": 13,
    "start_time": "2022-10-20T17:13:36.215Z"
   },
   {
    "duration": 5,
    "start_time": "2022-10-20T17:13:37.352Z"
   },
   {
    "duration": 5,
    "start_time": "2022-10-20T17:13:38.053Z"
   },
   {
    "duration": 9,
    "start_time": "2022-10-20T17:13:38.331Z"
   },
   {
    "duration": 11,
    "start_time": "2022-10-20T17:13:38.919Z"
   },
   {
    "duration": 6,
    "start_time": "2022-10-20T17:13:40.050Z"
   },
   {
    "duration": 8,
    "start_time": "2022-10-20T17:13:40.298Z"
   },
   {
    "duration": 4,
    "start_time": "2022-10-20T17:13:58.294Z"
   },
   {
    "duration": 6,
    "start_time": "2022-10-20T17:13:59.476Z"
   },
   {
    "duration": 5,
    "start_time": "2022-10-20T17:14:00.931Z"
   },
   {
    "duration": 17,
    "start_time": "2022-10-20T17:14:02.437Z"
   },
   {
    "duration": 6,
    "start_time": "2022-10-20T17:14:09.771Z"
   },
   {
    "duration": 168,
    "start_time": "2022-10-20T17:14:10.688Z"
   },
   {
    "duration": 7,
    "start_time": "2022-10-20T17:14:11.978Z"
   },
   {
    "duration": 15,
    "start_time": "2022-10-20T17:14:12.782Z"
   },
   {
    "duration": 209,
    "start_time": "2022-10-20T17:14:13.166Z"
   },
   {
    "duration": 5,
    "start_time": "2022-10-20T17:14:15.964Z"
   },
   {
    "duration": 13,
    "start_time": "2022-10-20T17:14:17.304Z"
   },
   {
    "duration": 234,
    "start_time": "2022-10-20T17:14:18.044Z"
   },
   {
    "duration": 2,
    "start_time": "2022-10-20T17:14:19.738Z"
   },
   {
    "duration": 225,
    "start_time": "2022-10-20T17:14:20.319Z"
   },
   {
    "duration": 359,
    "start_time": "2022-10-20T17:14:21.044Z"
   },
   {
    "duration": 4,
    "start_time": "2022-10-20T17:14:21.405Z"
   },
   {
    "duration": 5,
    "start_time": "2022-10-20T17:14:41.758Z"
   },
   {
    "duration": 183,
    "start_time": "2022-10-20T17:14:45.956Z"
   },
   {
    "duration": 7,
    "start_time": "2022-10-20T17:14:46.610Z"
   },
   {
    "duration": 166,
    "start_time": "2022-10-20T17:14:47.539Z"
   },
   {
    "duration": 7,
    "start_time": "2022-10-20T17:14:51.214Z"
   },
   {
    "duration": 163,
    "start_time": "2022-10-20T17:14:52.280Z"
   },
   {
    "duration": 7,
    "start_time": "2022-10-20T17:14:52.522Z"
   },
   {
    "duration": 180,
    "start_time": "2022-10-20T17:14:52.797Z"
   },
   {
    "duration": 7,
    "start_time": "2022-10-20T17:14:53.305Z"
   },
   {
    "duration": 24,
    "start_time": "2022-10-20T17:14:54.369Z"
   },
   {
    "duration": 21,
    "start_time": "2022-10-20T17:14:56.191Z"
   },
   {
    "duration": 15,
    "start_time": "2022-10-20T17:15:03.359Z"
   },
   {
    "duration": 188,
    "start_time": "2022-10-20T17:15:03.779Z"
   },
   {
    "duration": 7,
    "start_time": "2022-10-20T17:15:09.415Z"
   },
   {
    "duration": 20,
    "start_time": "2022-10-20T17:15:11.307Z"
   },
   {
    "duration": 21,
    "start_time": "2022-10-20T17:15:14.265Z"
   },
   {
    "duration": 15,
    "start_time": "2022-10-20T17:15:15.511Z"
   },
   {
    "duration": 307,
    "start_time": "2022-10-20T17:15:26.848Z"
   },
   {
    "duration": 17,
    "start_time": "2022-10-20T17:15:30.266Z"
   },
   {
    "duration": 106,
    "start_time": "2022-10-20T17:15:31.186Z"
   },
   {
    "duration": 17,
    "start_time": "2022-10-20T17:15:31.650Z"
   },
   {
    "duration": 105,
    "start_time": "2022-10-20T17:15:32.644Z"
   },
   {
    "duration": 17,
    "start_time": "2022-10-20T17:15:33.339Z"
   },
   {
    "duration": 118,
    "start_time": "2022-10-20T17:15:34.246Z"
   },
   {
    "duration": 13,
    "start_time": "2022-10-20T17:15:37.003Z"
   },
   {
    "duration": 13,
    "start_time": "2022-10-20T17:15:37.745Z"
   },
   {
    "duration": 15,
    "start_time": "2022-10-20T17:15:38.385Z"
   },
   {
    "duration": 11,
    "start_time": "2022-10-20T17:17:30.542Z"
   },
   {
    "duration": 12,
    "start_time": "2022-10-20T17:17:31.085Z"
   },
   {
    "duration": 199,
    "start_time": "2022-10-20T17:17:34.816Z"
   },
   {
    "duration": 7,
    "start_time": "2022-10-20T17:17:39.611Z"
   },
   {
    "duration": 175,
    "start_time": "2022-10-20T17:17:42.077Z"
   },
   {
    "duration": 8,
    "start_time": "2022-10-20T17:17:43.522Z"
   }
  ],
  "kernelspec": {
   "display_name": "Python 3 (ipykernel)",
   "language": "python",
   "name": "python3"
  },
  "language_info": {
   "codemirror_mode": {
    "name": "ipython",
    "version": 3
   },
   "file_extension": ".py",
   "mimetype": "text/x-python",
   "name": "python",
   "nbconvert_exporter": "python",
   "pygments_lexer": "ipython3",
   "version": "3.9.12"
  },
  "toc": {
   "base_numbering": 1,
   "nav_menu": {},
   "number_sections": true,
   "sideBar": true,
   "skip_h1_title": true,
   "title_cell": "Table of Contents",
   "title_sidebar": "Contents",
   "toc_cell": false,
   "toc_position": {},
   "toc_section_display": true,
   "toc_window_display": false
  }
 },
 "nbformat": 4,
 "nbformat_minor": 2
}
