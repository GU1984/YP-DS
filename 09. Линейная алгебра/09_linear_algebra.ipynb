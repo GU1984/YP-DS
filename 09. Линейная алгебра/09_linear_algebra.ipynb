{
 "cells": [
  {
   "cell_type": "markdown",
   "metadata": {
    "toc": true
   },
   "source": [
    "<h1>Содержание<span class=\"tocSkip\"></span></h1>\n",
    "<div class=\"toc\"><ul class=\"toc-item\"><li><span><a href=\"#Загрузка-данных\" data-toc-modified-id=\"Загрузка-данных-1\"><span class=\"toc-item-num\">1&nbsp;&nbsp;</span>Загрузка данных</a></span></li><li><span><a href=\"#Умножение-матриц\" data-toc-modified-id=\"Умножение-матриц-2\"><span class=\"toc-item-num\">2&nbsp;&nbsp;</span>Умножение матриц</a></span><ul class=\"toc-item\"><li><span><a href=\"#Доказательство-гипотезы\" data-toc-modified-id=\"Доказательство-гипотезы-2.1\"><span class=\"toc-item-num\">2.1&nbsp;&nbsp;</span>Доказательство гипотезы</a></span></li></ul></li><li><span><a href=\"#Алгоритм-преобразования\" data-toc-modified-id=\"Алгоритм-преобразования-3\"><span class=\"toc-item-num\">3&nbsp;&nbsp;</span>Алгоритм преобразования</a></span></li><li><span><a href=\"#Проверка-алгоритма\" data-toc-modified-id=\"Проверка-алгоритма-4\"><span class=\"toc-item-num\">4&nbsp;&nbsp;</span>Проверка алгоритма</a></span><ul class=\"toc-item\"><li><span><a href=\"#Исходная-матрица\" data-toc-modified-id=\"Исходная-матрица-4.1\"><span class=\"toc-item-num\">4.1&nbsp;&nbsp;</span>Исходная матрица</a></span></li><li><span><a href=\"#Перобразованная-матрица\" data-toc-modified-id=\"Перобразованная-матрица-4.2\"><span class=\"toc-item-num\">4.2&nbsp;&nbsp;</span>Перобразованная матрица</a></span></li></ul></li><li><span><a href=\"#Выводы\" data-toc-modified-id=\"Выводы-5\"><span class=\"toc-item-num\">5&nbsp;&nbsp;</span>Выводы</a></span></li><li><span><a href=\"#Чек-лист-проверки\" data-toc-modified-id=\"Чек-лист-проверки-6\"><span class=\"toc-item-num\">6&nbsp;&nbsp;</span>Чек-лист проверки</a></span></li><li><span><a href=\"#Финальные-комментарии-ревьюера\" data-toc-modified-id=\"Финальные-комментарии-ревьюера-7\"><span class=\"toc-item-num\">7&nbsp;&nbsp;</span>Финальные комментарии ревьюера</a></span></li></ul></div>"
   ]
  },
  {
   "cell_type": "markdown",
   "metadata": {},
   "source": [
    "# Защита персональных данных клиентов"
   ]
  },
  {
   "cell_type": "markdown",
   "metadata": {},
   "source": [
    "Вам нужно защитить данные клиентов страховой компании «Хоть потоп». Разработайте такой метод преобразования данных, чтобы по ним было сложно восстановить персональную информацию. Обоснуйте корректность его работы.\n",
    "\n",
    "Нужно защитить данные, чтобы при преобразовании качество моделей машинного обучения не ухудшилось. Подбирать наилучшую модель не требуется."
   ]
  },
  {
   "cell_type": "markdown",
   "metadata": {},
   "source": [
    "## Загрузка данных"
   ]
  },
  {
   "cell_type": "code",
   "execution_count": 25,
   "metadata": {},
   "outputs": [],
   "source": [
    "import pandas as pd\n",
    "import numpy as np\n",
    "import matplotlib.pyplot as plt\n",
    "import seaborn as sns\n",
    "\n",
    "from sklearn.model_selection import train_test_split\n",
    "from sklearn.linear_model import LinearRegression\n",
    "from sklearn.metrics import r2_score\n",
    "\n",
    "from sklearn.datasets import make_spd_matrix"
   ]
  },
  {
   "cell_type": "code",
   "execution_count": 17,
   "metadata": {},
   "outputs": [],
   "source": [
    "data = pd.read_csv('/datasets/insurance.csv')"
   ]
  },
  {
   "cell_type": "code",
   "execution_count": 18,
   "metadata": {},
   "outputs": [
    {
     "data": {
      "text/html": [
       "<div>\n",
       "<style scoped>\n",
       "    .dataframe tbody tr th:only-of-type {\n",
       "        vertical-align: middle;\n",
       "    }\n",
       "\n",
       "    .dataframe tbody tr th {\n",
       "        vertical-align: top;\n",
       "    }\n",
       "\n",
       "    .dataframe thead th {\n",
       "        text-align: right;\n",
       "    }\n",
       "</style>\n",
       "<table border=\"1\" class=\"dataframe\">\n",
       "  <thead>\n",
       "    <tr style=\"text-align: right;\">\n",
       "      <th></th>\n",
       "      <th>Пол</th>\n",
       "      <th>Возраст</th>\n",
       "      <th>Зарплата</th>\n",
       "      <th>Члены семьи</th>\n",
       "      <th>Страховые выплаты</th>\n",
       "    </tr>\n",
       "  </thead>\n",
       "  <tbody>\n",
       "    <tr>\n",
       "      <th>0</th>\n",
       "      <td>1</td>\n",
       "      <td>41.0</td>\n",
       "      <td>49600.0</td>\n",
       "      <td>1</td>\n",
       "      <td>0</td>\n",
       "    </tr>\n",
       "    <tr>\n",
       "      <th>1</th>\n",
       "      <td>0</td>\n",
       "      <td>46.0</td>\n",
       "      <td>38000.0</td>\n",
       "      <td>1</td>\n",
       "      <td>1</td>\n",
       "    </tr>\n",
       "    <tr>\n",
       "      <th>2</th>\n",
       "      <td>0</td>\n",
       "      <td>29.0</td>\n",
       "      <td>21000.0</td>\n",
       "      <td>0</td>\n",
       "      <td>0</td>\n",
       "    </tr>\n",
       "    <tr>\n",
       "      <th>3</th>\n",
       "      <td>0</td>\n",
       "      <td>21.0</td>\n",
       "      <td>41700.0</td>\n",
       "      <td>2</td>\n",
       "      <td>0</td>\n",
       "    </tr>\n",
       "    <tr>\n",
       "      <th>4</th>\n",
       "      <td>1</td>\n",
       "      <td>28.0</td>\n",
       "      <td>26100.0</td>\n",
       "      <td>0</td>\n",
       "      <td>0</td>\n",
       "    </tr>\n",
       "    <tr>\n",
       "      <th>5</th>\n",
       "      <td>1</td>\n",
       "      <td>43.0</td>\n",
       "      <td>41000.0</td>\n",
       "      <td>2</td>\n",
       "      <td>1</td>\n",
       "    </tr>\n",
       "    <tr>\n",
       "      <th>6</th>\n",
       "      <td>1</td>\n",
       "      <td>39.0</td>\n",
       "      <td>39700.0</td>\n",
       "      <td>2</td>\n",
       "      <td>0</td>\n",
       "    </tr>\n",
       "    <tr>\n",
       "      <th>7</th>\n",
       "      <td>1</td>\n",
       "      <td>25.0</td>\n",
       "      <td>38600.0</td>\n",
       "      <td>4</td>\n",
       "      <td>0</td>\n",
       "    </tr>\n",
       "    <tr>\n",
       "      <th>8</th>\n",
       "      <td>1</td>\n",
       "      <td>36.0</td>\n",
       "      <td>49700.0</td>\n",
       "      <td>1</td>\n",
       "      <td>0</td>\n",
       "    </tr>\n",
       "    <tr>\n",
       "      <th>9</th>\n",
       "      <td>1</td>\n",
       "      <td>32.0</td>\n",
       "      <td>51700.0</td>\n",
       "      <td>1</td>\n",
       "      <td>0</td>\n",
       "    </tr>\n",
       "    <tr>\n",
       "      <th>10</th>\n",
       "      <td>1</td>\n",
       "      <td>25.0</td>\n",
       "      <td>36600.0</td>\n",
       "      <td>1</td>\n",
       "      <td>0</td>\n",
       "    </tr>\n",
       "    <tr>\n",
       "      <th>11</th>\n",
       "      <td>1</td>\n",
       "      <td>38.0</td>\n",
       "      <td>29300.0</td>\n",
       "      <td>0</td>\n",
       "      <td>0</td>\n",
       "    </tr>\n",
       "    <tr>\n",
       "      <th>12</th>\n",
       "      <td>0</td>\n",
       "      <td>23.0</td>\n",
       "      <td>39500.0</td>\n",
       "      <td>3</td>\n",
       "      <td>0</td>\n",
       "    </tr>\n",
       "    <tr>\n",
       "      <th>13</th>\n",
       "      <td>0</td>\n",
       "      <td>21.0</td>\n",
       "      <td>55000.0</td>\n",
       "      <td>0</td>\n",
       "      <td>0</td>\n",
       "    </tr>\n",
       "    <tr>\n",
       "      <th>14</th>\n",
       "      <td>0</td>\n",
       "      <td>40.0</td>\n",
       "      <td>43700.0</td>\n",
       "      <td>1</td>\n",
       "      <td>0</td>\n",
       "    </tr>\n",
       "  </tbody>\n",
       "</table>\n",
       "</div>"
      ],
      "text/plain": [
       "    Пол  Возраст  Зарплата  Члены семьи  Страховые выплаты\n",
       "0     1     41.0   49600.0            1                  0\n",
       "1     0     46.0   38000.0            1                  1\n",
       "2     0     29.0   21000.0            0                  0\n",
       "3     0     21.0   41700.0            2                  0\n",
       "4     1     28.0   26100.0            0                  0\n",
       "5     1     43.0   41000.0            2                  1\n",
       "6     1     39.0   39700.0            2                  0\n",
       "7     1     25.0   38600.0            4                  0\n",
       "8     1     36.0   49700.0            1                  0\n",
       "9     1     32.0   51700.0            1                  0\n",
       "10    1     25.0   36600.0            1                  0\n",
       "11    1     38.0   29300.0            0                  0\n",
       "12    0     23.0   39500.0            3                  0\n",
       "13    0     21.0   55000.0            0                  0\n",
       "14    0     40.0   43700.0            1                  0"
      ]
     },
     "metadata": {},
     "output_type": "display_data"
    }
   ],
   "source": [
    "display(data.head(15))"
   ]
  },
  {
   "cell_type": "code",
   "execution_count": 19,
   "metadata": {},
   "outputs": [],
   "source": [
    "# приведем название признаков к нижнему регистру и анлийскому написанию\n",
    "data.rename(columns={\n",
    "    'Пол': 'sex', \n",
    "    'Возраст': 'age',\n",
    "    'Зарплата': 'salary',\n",
    "    'Члены семьи': 'family_members', \n",
    "    'Страховые выплаты': 'insurance_payment'}, inplace=True)"
   ]
  },
  {
   "cell_type": "code",
   "execution_count": 20,
   "metadata": {},
   "outputs": [
    {
     "name": "stdout",
     "output_type": "stream",
     "text": [
      "<class 'pandas.core.frame.DataFrame'>\n",
      "RangeIndex: 5000 entries, 0 to 4999\n",
      "Data columns (total 5 columns):\n",
      " #   Column             Non-Null Count  Dtype  \n",
      "---  ------             --------------  -----  \n",
      " 0   sex                5000 non-null   int64  \n",
      " 1   age                5000 non-null   float64\n",
      " 2   salary             5000 non-null   float64\n",
      " 3   family_members     5000 non-null   int64  \n",
      " 4   insurance_payment  5000 non-null   int64  \n",
      "dtypes: float64(2), int64(3)\n",
      "memory usage: 195.4 KB\n"
     ]
    }
   ],
   "source": [
    "data.info()"
   ]
  },
  {
   "cell_type": "code",
   "execution_count": 21,
   "metadata": {},
   "outputs": [
    {
     "data": {
      "text/html": [
       "<div>\n",
       "<style scoped>\n",
       "    .dataframe tbody tr th:only-of-type {\n",
       "        vertical-align: middle;\n",
       "    }\n",
       "\n",
       "    .dataframe tbody tr th {\n",
       "        vertical-align: top;\n",
       "    }\n",
       "\n",
       "    .dataframe thead th {\n",
       "        text-align: right;\n",
       "    }\n",
       "</style>\n",
       "<table border=\"1\" class=\"dataframe\">\n",
       "  <thead>\n",
       "    <tr style=\"text-align: right;\">\n",
       "      <th></th>\n",
       "      <th>sex</th>\n",
       "      <th>age</th>\n",
       "      <th>salary</th>\n",
       "      <th>family_members</th>\n",
       "      <th>insurance_payment</th>\n",
       "    </tr>\n",
       "  </thead>\n",
       "  <tbody>\n",
       "    <tr>\n",
       "      <th>count</th>\n",
       "      <td>5000.000000</td>\n",
       "      <td>5000.000000</td>\n",
       "      <td>5000.000000</td>\n",
       "      <td>5000.000000</td>\n",
       "      <td>5000.000000</td>\n",
       "    </tr>\n",
       "    <tr>\n",
       "      <th>mean</th>\n",
       "      <td>0.499000</td>\n",
       "      <td>30.952800</td>\n",
       "      <td>39916.360000</td>\n",
       "      <td>1.194200</td>\n",
       "      <td>0.148000</td>\n",
       "    </tr>\n",
       "    <tr>\n",
       "      <th>std</th>\n",
       "      <td>0.500049</td>\n",
       "      <td>8.440807</td>\n",
       "      <td>9900.083569</td>\n",
       "      <td>1.091387</td>\n",
       "      <td>0.463183</td>\n",
       "    </tr>\n",
       "    <tr>\n",
       "      <th>min</th>\n",
       "      <td>0.000000</td>\n",
       "      <td>18.000000</td>\n",
       "      <td>5300.000000</td>\n",
       "      <td>0.000000</td>\n",
       "      <td>0.000000</td>\n",
       "    </tr>\n",
       "    <tr>\n",
       "      <th>25%</th>\n",
       "      <td>0.000000</td>\n",
       "      <td>24.000000</td>\n",
       "      <td>33300.000000</td>\n",
       "      <td>0.000000</td>\n",
       "      <td>0.000000</td>\n",
       "    </tr>\n",
       "    <tr>\n",
       "      <th>50%</th>\n",
       "      <td>0.000000</td>\n",
       "      <td>30.000000</td>\n",
       "      <td>40200.000000</td>\n",
       "      <td>1.000000</td>\n",
       "      <td>0.000000</td>\n",
       "    </tr>\n",
       "    <tr>\n",
       "      <th>75%</th>\n",
       "      <td>1.000000</td>\n",
       "      <td>37.000000</td>\n",
       "      <td>46600.000000</td>\n",
       "      <td>2.000000</td>\n",
       "      <td>0.000000</td>\n",
       "    </tr>\n",
       "    <tr>\n",
       "      <th>max</th>\n",
       "      <td>1.000000</td>\n",
       "      <td>65.000000</td>\n",
       "      <td>79000.000000</td>\n",
       "      <td>6.000000</td>\n",
       "      <td>5.000000</td>\n",
       "    </tr>\n",
       "  </tbody>\n",
       "</table>\n",
       "</div>"
      ],
      "text/plain": [
       "               sex          age        salary  family_members  \\\n",
       "count  5000.000000  5000.000000   5000.000000     5000.000000   \n",
       "mean      0.499000    30.952800  39916.360000        1.194200   \n",
       "std       0.500049     8.440807   9900.083569        1.091387   \n",
       "min       0.000000    18.000000   5300.000000        0.000000   \n",
       "25%       0.000000    24.000000  33300.000000        0.000000   \n",
       "50%       0.000000    30.000000  40200.000000        1.000000   \n",
       "75%       1.000000    37.000000  46600.000000        2.000000   \n",
       "max       1.000000    65.000000  79000.000000        6.000000   \n",
       "\n",
       "       insurance_payment  \n",
       "count        5000.000000  \n",
       "mean            0.148000  \n",
       "std             0.463183  \n",
       "min             0.000000  \n",
       "25%             0.000000  \n",
       "50%             0.000000  \n",
       "75%             0.000000  \n",
       "max             5.000000  "
      ]
     },
     "execution_count": 21,
     "metadata": {},
     "output_type": "execute_result"
    }
   ],
   "source": [
    "data.describe()"
   ]
  },
  {
   "cell_type": "code",
   "execution_count": 22,
   "metadata": {},
   "outputs": [
    {
     "data": {
      "text/plain": [
       "False    4847\n",
       "True      153\n",
       "dtype: int64"
      ]
     },
     "execution_count": 22,
     "metadata": {},
     "output_type": "execute_result"
    }
   ],
   "source": [
    "# просмотр дубликатов\n",
    "data.duplicated().value_counts()"
   ]
  },
  {
   "cell_type": "markdown",
   "metadata": {},
   "source": [
    "В дата сете присутсвуют дубликаты. В рамках данного задания удалять их не будем"
   ]
  },
  {
   "cell_type": "code",
   "execution_count": 23,
   "metadata": {},
   "outputs": [
    {
     "data": {
      "text/html": [
       "<div>\n",
       "<style scoped>\n",
       "    .dataframe tbody tr th:only-of-type {\n",
       "        vertical-align: middle;\n",
       "    }\n",
       "\n",
       "    .dataframe tbody tr th {\n",
       "        vertical-align: top;\n",
       "    }\n",
       "\n",
       "    .dataframe thead th {\n",
       "        text-align: right;\n",
       "    }\n",
       "</style>\n",
       "<table border=\"1\" class=\"dataframe\">\n",
       "  <thead>\n",
       "    <tr style=\"text-align: right;\">\n",
       "      <th></th>\n",
       "      <th>sex</th>\n",
       "      <th>age</th>\n",
       "      <th>salary</th>\n",
       "      <th>family_members</th>\n",
       "      <th>insurance_payment</th>\n",
       "    </tr>\n",
       "  </thead>\n",
       "  <tbody>\n",
       "    <tr>\n",
       "      <th>sex</th>\n",
       "      <td>1.000000</td>\n",
       "      <td>0.002074</td>\n",
       "      <td>0.014910</td>\n",
       "      <td>-0.008991</td>\n",
       "      <td>0.010140</td>\n",
       "    </tr>\n",
       "    <tr>\n",
       "      <th>age</th>\n",
       "      <td>0.002074</td>\n",
       "      <td>1.000000</td>\n",
       "      <td>-0.019093</td>\n",
       "      <td>-0.006692</td>\n",
       "      <td>0.651030</td>\n",
       "    </tr>\n",
       "    <tr>\n",
       "      <th>salary</th>\n",
       "      <td>0.014910</td>\n",
       "      <td>-0.019093</td>\n",
       "      <td>1.000000</td>\n",
       "      <td>-0.030296</td>\n",
       "      <td>-0.014963</td>\n",
       "    </tr>\n",
       "    <tr>\n",
       "      <th>family_members</th>\n",
       "      <td>-0.008991</td>\n",
       "      <td>-0.006692</td>\n",
       "      <td>-0.030296</td>\n",
       "      <td>1.000000</td>\n",
       "      <td>-0.036290</td>\n",
       "    </tr>\n",
       "    <tr>\n",
       "      <th>insurance_payment</th>\n",
       "      <td>0.010140</td>\n",
       "      <td>0.651030</td>\n",
       "      <td>-0.014963</td>\n",
       "      <td>-0.036290</td>\n",
       "      <td>1.000000</td>\n",
       "    </tr>\n",
       "  </tbody>\n",
       "</table>\n",
       "</div>"
      ],
      "text/plain": [
       "                        sex       age    salary  family_members  \\\n",
       "sex                1.000000  0.002074  0.014910       -0.008991   \n",
       "age                0.002074  1.000000 -0.019093       -0.006692   \n",
       "salary             0.014910 -0.019093  1.000000       -0.030296   \n",
       "family_members    -0.008991 -0.006692 -0.030296        1.000000   \n",
       "insurance_payment  0.010140  0.651030 -0.014963       -0.036290   \n",
       "\n",
       "                   insurance_payment  \n",
       "sex                         0.010140  \n",
       "age                         0.651030  \n",
       "salary                     -0.014963  \n",
       "family_members             -0.036290  \n",
       "insurance_payment           1.000000  "
      ]
     },
     "execution_count": 23,
     "metadata": {},
     "output_type": "execute_result"
    }
   ],
   "source": [
    "data.corr()"
   ]
  },
  {
   "cell_type": "code",
   "execution_count": 31,
   "metadata": {},
   "outputs": [
    {
     "data": {
      "image/png": "[encoded data removed]",
      "text/plain": [
       "<Figure size 1152x288 with 2 Axes>"
      ]
     },
     "metadata": {
      "needs_background": "light"
     },
     "output_type": "display_data"
    }
   ],
   "source": [
    "# построим \n",
    "plt.figure(figsize = (16,4))\n",
    "plt.title('Корреляция между признаками', size=14)\n",
    "sns.heatmap(data.corr(), annot = True);"
   ]
  },
  {
   "cell_type": "markdown",
   "metadata": {},
   "source": [
    "Присуствует коррелция между 'age' и 'insurance_payment'. Коэффициент корреляции = 0.65."
   ]
  },
  {
   "cell_type": "markdown",
   "metadata": {},
   "source": [
    "Промежуточный вывод: \n",
    "- Загружены и проанализированны данные;\n",
    "- Размер выборки 5000 строк;\n",
    "- 5 признаков 'Пол', 'Возраст', 'Зарплата', 'Члены семьи' и 'Страховые выплаты' были переименованы в 'sex', 'age', 'salary', 'family_members' и 'insurance_payment' соответсвенно.\n",
    "- Пропуски отсуствуют;\n",
    "- Лишние признаки отсуствуют;\n",
    "- Присутствует небольшое количество дубликатов, удалять не стали;\n",
    "- Корреляция между признаком 'age' и целевым признаком 'insurance_payment', коэффициент корреляции = 0.65."
   ]
  },
  {
   "cell_type": "markdown",
   "metadata": {},
   "source": [
    "## Умножение матриц"
   ]
  },
  {
   "cell_type": "markdown",
   "metadata": {},
   "source": [
    "В этом задании вы можете записывать формулы в *Jupyter Notebook.*\n",
    "\n",
    "Чтобы записать формулу внутри текста, окружите её символами доллара \\\\$; если снаружи —  двойными символами \\\\$\\\\$. Эти формулы записываются на языке вёрстки *LaTeX.* \n",
    "\n",
    "Для примера мы записали формулы линейной регрессии. Можете их скопировать и отредактировать, чтобы решить задачу.\n",
    "\n",
    "Работать в *LaTeX* необязательно."
   ]
  },
  {
   "cell_type": "markdown",
   "metadata": {},
   "source": [
    "Обозначения:\n",
    "\n",
    "- $X$ — матрица признаков (нулевой столбец состоит из единиц)\n",
    "\n",
    "- $y$ — вектор целевого признака\n",
    "\n",
    "- $P$ — матрица, на которую умножаются признаки\n",
    "\n",
    "- $w$ — вектор весов линейной регрессии (нулевой элемент равен сдвигу)"
   ]
  },
  {
   "cell_type": "markdown",
   "metadata": {},
   "source": [
    "Предсказания:\n",
    "\n",
    "$$\n",
    "a = Xw\n",
    "$$\n",
    "\n",
    "Задача обучения:\n",
    "\n",
    "$$\n",
    "w = \\arg\\min_w MSE(Xw, y)\n",
    "$$\n",
    "\n",
    "Формула обучения:\n",
    "\n",
    "$$\n",
    "w = (X^T X)^{-1} X^T y\n",
    "$$"
   ]
  },
  {
   "cell_type": "markdown",
   "metadata": {},
   "source": [
    "### Доказательство гипотезы"
   ]
  },
  {
   "cell_type": "markdown",
   "metadata": {},
   "source": [
    "**Ответ:** При умножении матрицы признаков на обратимую матрицу качество линейной регрессии не изменится."
   ]
  },
  {
   "cell_type": "markdown",
   "metadata": {},
   "source": [
    "**Обоснование:**\n",
    "\n",
    "Пусть матрица P-обратимая матрица.\n",
    "\n",
    "Тогда Формула обучения:\n",
    "\n",
    "$$\n",
    "w' = ((X P)^T X P)^{-1} (XP)^T y\n",
    "$$\n",
    "\n",
    "При преобразовании учтем:\n",
    "$$\n",
    "(X P)^T = P^T X^T \n",
    "$$\n",
    "\n",
    "$$\n",
    "(X P)^{-1} = P^{-1}X^{-1}\n",
    "$$\n",
    "\n",
    "$$\n",
    "(P^T)^{-1} P^T = E = 1\n",
    "$$\n",
    "\n",
    "\n",
    "\n",
    "Раскроем скобки согласно указанным выше правилам:\n",
    "\n",
    "$$\n",
    "w' = (X P)^T X P)^{-1} (XP)^T y = (P^T X^T  X P)^{-1} P^T X^T y = P^{-1}(X^T X)^{-1} (P^T)^{-1} P^T X^T y = P^{-1} (X^T X)^{-1} X^T y = P^{-1} w\n",
    "$$\n",
    "\n",
    "\n",
    "Подставим полученный результат в формулу для пресказания:\n",
    "\n",
    "$$\n",
    "a' = X' w' = X P P^{-1} w = X w = a\n",
    "$$\n",
    "\n",
    "\n",
    "Векторы предсказаний совпали."
   ]
  },
  {
   "cell_type": "markdown",
   "metadata": {},
   "source": [
    "## Алгоритм преобразования"
   ]
  },
  {
   "cell_type": "markdown",
   "metadata": {},
   "source": [
    "**Алгоритм**\n",
    "Преобзоавание матрицы признаков путем умножения на случайную обратимую квадратную матрицу. Данная матрица будет ключом для шифрования данных.\n",
    "\n",
    "Порядок действия:\n",
    "1. Создадим случайную квадратную матрицу  P, размерности равной количеству признаков;\n",
    "2. Проверим матрицу на обратимость и создадим обратную матрицу;\n",
    "3. Умножаем матрицу признаков  X на полученную матрицу P;\n",
    "4. Обучение линейной регрессии на исходных и на зашифрованных данных;\n",
    "5. Сравнение получившихся метрик R2."
   ]
  },
  {
   "cell_type": "markdown",
   "metadata": {},
   "source": [
    "**Обоснование**\n",
    "- Данный алгоритм направлен на шифрование данных, который повзолит защитить (скрыть истинную) персональную информацию.\n",
    "- Выше мы доказали, умножение на обратимую матрицу не должно повлиять на качество модели."
   ]
  },
  {
   "cell_type": "markdown",
   "metadata": {},
   "source": [
    "## Проверка алгоритма"
   ]
  },
  {
   "cell_type": "markdown",
   "metadata": {},
   "source": [
    "В качестве проверки гипотезы возьмем метрику  R2.\n",
    "1. Расчитаем метрику R2 на исходных данных.\n",
    "2. Расичтаем метрику R2 на преобразованных данных.\n",
    "\n",
    "Если доказательство выше верно, то полученные метрики должны совпасть."
   ]
  },
  {
   "cell_type": "markdown",
   "metadata": {},
   "source": [
    "Целевой признак: 'Страховые выплаты'"
   ]
  },
  {
   "cell_type": "code",
   "execution_count": 7,
   "metadata": {},
   "outputs": [],
   "source": [
    "#выделим признаки\n",
    "features = data.drop('insurance_payment', axis=1)\n",
    "#выделим целевой признак\n",
    "target = data['insurance_payment']"
   ]
  },
  {
   "cell_type": "markdown",
   "metadata": {},
   "source": [
    "### Исходная матрица"
   ]
  },
  {
   "cell_type": "code",
   "execution_count": 8,
   "metadata": {},
   "outputs": [],
   "source": [
    "# вызделим выборки на обучающую и тренировочную\n",
    "features_train, features_test, target_train, target_test = train_test_split(\n",
    "    features, target, test_size=0.25, random_state=12345)"
   ]
  },
  {
   "cell_type": "code",
   "execution_count": 9,
   "metadata": {},
   "outputs": [
    {
     "name": "stdout",
     "output_type": "stream",
     "text": [
      "(3750, 4)\n",
      "(1250, 4)\n",
      "(3750,)\n",
      "(1250,)\n"
     ]
    }
   ],
   "source": [
    "# check\n",
    "print(features_train.shape)\n",
    "print(features_test.shape)\n",
    "print(target_train.shape)\n",
    "print(target_test.shape)"
   ]
  },
  {
   "cell_type": "markdown",
   "metadata": {},
   "source": [
    "Расчиатем r2 на исходной матрице"
   ]
  },
  {
   "cell_type": "code",
   "execution_count": 10,
   "metadata": {},
   "outputs": [
    {
     "name": "stdout",
     "output_type": "stream",
     "text": [
      "Метрика R2 на исходных данных: 0.43522757127026546\n"
     ]
    }
   ],
   "source": [
    "# создадим модель линейной регресисии\n",
    "model = LinearRegression()\n",
    "# обучим модель\n",
    "model.fit(features_train, target_train)\n",
    "# получим предсказание \n",
    "predictions = model.predict(features_test)\n",
    "# посчитаем метрику R2\n",
    "r2 = r2_score(target_test, predictions)\n",
    "# вывод метрики R2\n",
    "print('Метрика R2 на исходных данных:', r2)"
   ]
  },
  {
   "cell_type": "markdown",
   "metadata": {},
   "source": [
    "### Перобразованная матрица"
   ]
  },
  {
   "cell_type": "markdown",
   "metadata": {},
   "source": [
    "Согласно алгоритму создаим случайную и проверим ее на обратимость"
   ]
  },
  {
   "cell_type": "code",
   "execution_count": 11,
   "metadata": {},
   "outputs": [
    {
     "name": "stdout",
     "output_type": "stream",
     "text": [
      "Случайная матрица:\n",
      "[[ 0.47243659  0.36201499  0.23624413 -0.20756552]\n",
      " [ 0.36201499  3.26723888  1.70966795 -0.39838002]\n",
      " [ 0.23624413  1.70966795  1.32704651 -0.17893753]\n",
      " [-0.20756552 -0.39838002 -0.17893753  0.35460046]]\n",
      "\n",
      "Обратная матрица:\n",
      "[[ 2.97675307  0.09601407 -0.43363796  1.63149048]\n",
      " [ 0.09601407  1.02415391 -1.2595126   0.57122764]\n",
      " [-0.43363796 -1.2595126   2.39108163 -0.46226306]\n",
      " [ 1.63149048  0.57122764 -0.46226306  4.18355526]]\n"
     ]
    }
   ],
   "source": [
    "# создание матрицы\n",
    "matrix = make_spd_matrix(n_dim=4, random_state=123)\n",
    "print('Случайная матрица:')\n",
    "print(matrix)\n",
    "print()\n",
    "\n",
    "# обратная матрицы\n",
    "matrix_inv = np.linalg.inv(matrix)\n",
    "print('Обратная матрица:')\n",
    "print(matrix_inv)"
   ]
  },
  {
   "cell_type": "code",
   "execution_count": 12,
   "metadata": {},
   "outputs": [
    {
     "name": "stdout",
     "output_type": "stream",
     "text": [
      "[[ 1.00000000e+00 -9.04649461e-18  5.77228564e-17  4.97307715e-17]\n",
      " [-1.59084447e-16  1.00000000e+00  4.47228204e-16  5.05269948e-16]\n",
      " [-1.31106228e-16 -1.26800721e-16  1.00000000e+00  1.90124295e-16]\n",
      " [ 5.39771175e-17  5.12284035e-17 -5.17335637e-17  1.00000000e+00]]\n"
     ]
    }
   ],
   "source": [
    "#check\n",
    "print(matrix @ matrix_inv)"
   ]
  },
  {
   "cell_type": "markdown",
   "metadata": {},
   "source": [
    "Ошибок нет. Можно переходить к преобразованию матрицы признаков."
   ]
  },
  {
   "cell_type": "code",
   "execution_count": 13,
   "metadata": {},
   "outputs": [],
   "source": [
    "# преобразуем признаки\n",
    "features_t = features.values @ matrix"
   ]
  },
  {
   "cell_type": "code",
   "execution_count": 14,
   "metadata": {},
   "outputs": [
    {
     "name": "stdout",
     "output_type": "stream",
     "text": [
      "(5000, 4)\n",
      "(5000, 4)\n"
     ]
    }
   ],
   "source": [
    "#check\n",
    "print(features.shape)\n",
    "print(features_t.shape)"
   ]
  },
  {
   "cell_type": "code",
   "execution_count": 15,
   "metadata": {},
   "outputs": [
    {
     "data": {
      "text/html": [
       "<div>\n",
       "<style scoped>\n",
       "    .dataframe tbody tr th:only-of-type {\n",
       "        vertical-align: middle;\n",
       "    }\n",
       "\n",
       "    .dataframe tbody tr th {\n",
       "        vertical-align: top;\n",
       "    }\n",
       "\n",
       "    .dataframe thead th {\n",
       "        text-align: right;\n",
       "    }\n",
       "</style>\n",
       "<table border=\"1\" class=\"dataframe\">\n",
       "  <thead>\n",
       "    <tr style=\"text-align: right;\">\n",
       "      <th></th>\n",
       "      <th>sex</th>\n",
       "      <th>age</th>\n",
       "      <th>salary</th>\n",
       "      <th>family_members</th>\n",
       "    </tr>\n",
       "  </thead>\n",
       "  <tbody>\n",
       "    <tr>\n",
       "      <th>0</th>\n",
       "      <td>1</td>\n",
       "      <td>41.0</td>\n",
       "      <td>49600.0</td>\n",
       "      <td>1</td>\n",
       "    </tr>\n",
       "    <tr>\n",
       "      <th>1</th>\n",
       "      <td>0</td>\n",
       "      <td>46.0</td>\n",
       "      <td>38000.0</td>\n",
       "      <td>1</td>\n",
       "    </tr>\n",
       "    <tr>\n",
       "      <th>2</th>\n",
       "      <td>0</td>\n",
       "      <td>29.0</td>\n",
       "      <td>21000.0</td>\n",
       "      <td>0</td>\n",
       "    </tr>\n",
       "    <tr>\n",
       "      <th>3</th>\n",
       "      <td>0</td>\n",
       "      <td>21.0</td>\n",
       "      <td>41700.0</td>\n",
       "      <td>2</td>\n",
       "    </tr>\n",
       "    <tr>\n",
       "      <th>4</th>\n",
       "      <td>1</td>\n",
       "      <td>28.0</td>\n",
       "      <td>26100.0</td>\n",
       "      <td>0</td>\n",
       "    </tr>\n",
       "  </tbody>\n",
       "</table>\n",
       "</div>"
      ],
      "text/plain": [
       "   sex   age   salary  family_members\n",
       "0    1  41.0  49600.0               1\n",
       "1    0  46.0  38000.0               1\n",
       "2    0  29.0  21000.0               0\n",
       "3    0  21.0  41700.0               2\n",
       "4    1  28.0  26100.0               0"
      ]
     },
     "metadata": {},
     "output_type": "display_data"
    },
    {
     "name": "stdout",
     "output_type": "stream",
     "text": [
      "[[11732.81637505 84933.45064883 65891.66076973 -8891.48812605]\n",
      " [ 8993.72209566 65117.27663171 50506.23330695 -6817.59709104]\n",
      " [ 4971.62518218 35997.77683511 27917.55715724 -3769.24118958]\n",
      " ...\n",
      " [ 8015.50120409 58022.29145405 45020.71229678 -6073.24072949]\n",
      " [ 7732.99714812 55977.18802921 43431.73312289 -5859.16541635]\n",
      " [ 9601.91300269 69503.96501156 53926.01646352 -7275.87139908]]\n"
     ]
    }
   ],
   "source": [
    "#check\n",
    "display(features.head(5))\n",
    "print(features_t)"
   ]
  },
  {
   "cell_type": "markdown",
   "metadata": {},
   "source": [
    " Преобразование данных произошло успешно."
   ]
  },
  {
   "cell_type": "code",
   "execution_count": 16,
   "metadata": {},
   "outputs": [],
   "source": [
    "# разделим выборки на обучающую и тренировочную\n",
    "features_train_t, features_test_t, target_train_t, target_test_t = train_test_split(\n",
    "    features_t, target, test_size=0.25, random_state=12345)"
   ]
  },
  {
   "cell_type": "code",
   "execution_count": 17,
   "metadata": {},
   "outputs": [
    {
     "name": "stdout",
     "output_type": "stream",
     "text": [
      "(3750, 4)\n",
      "(1250, 4)\n",
      "(3750,)\n",
      "(1250,)\n"
     ]
    }
   ],
   "source": [
    "# check\n",
    "print(features_train_t.shape)\n",
    "print(features_test_t.shape)\n",
    "print(target_train_t.shape)\n",
    "print(target_test_t.shape)"
   ]
  },
  {
   "cell_type": "code",
   "execution_count": 18,
   "metadata": {},
   "outputs": [
    {
     "name": "stdout",
     "output_type": "stream",
     "text": [
      "Метрика R2 на преобразованных данных: 0.43522757127026823\n"
     ]
    }
   ],
   "source": [
    "# создадим модель линейной регресисии\n",
    "model_t = LinearRegression()\n",
    "# обучим модель\n",
    "model_t.fit(features_train_t, target_train_t)\n",
    "# получим предсказание \n",
    "predictions_t = model_t.predict(features_test_t)\n",
    "# посчитаем метрику R2\n",
    "r2_t = r2_score(target_test_t, predictions_t)\n",
    "# вывод метрики R2\n",
    "print('Метрика R2 на преобразованных данных:', r2_t)"
   ]
  },
  {
   "cell_type": "code",
   "execution_count": 19,
   "metadata": {},
   "outputs": [
    {
     "name": "stdout",
     "output_type": "stream",
     "text": [
      "0.43522757127026546\n",
      "0.43522757127026823\n"
     ]
    }
   ],
   "source": [
    "#check\n",
    "print(r2)\n",
    "print(r2_t)"
   ]
  },
  {
   "cell_type": "markdown",
   "metadata": {},
   "source": [
    "Промежуточные выводы: Метрики r2 на исходных данных и на перобразованных данных совпадают."
   ]
  },
  {
   "cell_type": "markdown",
   "metadata": {},
   "source": [
    "## Выводы"
   ]
  },
  {
   "cell_type": "markdown",
   "metadata": {},
   "source": [
    "1. Данные загружены и обработаны;\n",
    "2. Получен ответ на вопрос об умножении матриц;\n",
    "    - математически доказано утверждение: при умножении матрицы признаков на обратимую матрицу качество линейной регрессии не изменится; \n",
    "3. Предложен алгоритм преобразования данных путем умножения матрицы данных на квадратную обратимую матрицу;\n",
    "4. Алгоритм проверен:\n",
    "    - проведено сравнение качества моделей до и после преобразования,\n",
    "    - значение метрики r2 для обоих моделей составил 0,435."
   ]
  }
 ],
 "metadata": {
  "ExecuteTimeLog": [
   {
    "duration": 362,
    "start_time": "2022-12-27T12:40:50.939Z"
   },
   {
    "duration": 82,
    "start_time": "2022-12-27T12:41:17.008Z"
   },
   {
    "duration": 17,
    "start_time": "2022-12-27T12:41:42.505Z"
   },
   {
    "duration": 47,
    "start_time": "2023-01-09T05:29:33.040Z"
   },
   {
    "duration": 418,
    "start_time": "2023-01-09T05:29:36.934Z"
   },
   {
    "duration": 84,
    "start_time": "2023-01-09T05:29:38.196Z"
   },
   {
    "duration": 24,
    "start_time": "2023-01-09T05:29:38.856Z"
   },
   {
    "duration": 13,
    "start_time": "2023-01-09T05:29:39.773Z"
   },
   {
    "duration": 57,
    "start_time": "2023-01-09T05:53:18.876Z"
   },
   {
    "duration": 2,
    "start_time": "2023-01-09T06:22:55.312Z"
   },
   {
    "duration": 3,
    "start_time": "2023-01-09T06:23:36.652Z"
   },
   {
    "duration": 35,
    "start_time": "2023-01-09T06:29:17.074Z"
   },
   {
    "duration": 7,
    "start_time": "2023-01-09T06:29:24.542Z"
   },
   {
    "duration": 7,
    "start_time": "2023-01-09T06:29:25.455Z"
   },
   {
    "duration": 4,
    "start_time": "2023-01-09T06:29:56.812Z"
   },
   {
    "duration": 8,
    "start_time": "2023-01-09T06:30:00.411Z"
   },
   {
    "duration": 753,
    "start_time": "2023-01-09T06:30:28.535Z"
   },
   {
    "duration": 30,
    "start_time": "2023-01-09T06:30:29.290Z"
   },
   {
    "duration": 11,
    "start_time": "2023-01-09T06:30:29.342Z"
   },
   {
    "duration": 12,
    "start_time": "2023-01-09T06:30:29.607Z"
   },
   {
    "duration": 4,
    "start_time": "2023-01-09T06:30:33.631Z"
   },
   {
    "duration": 7,
    "start_time": "2023-01-09T06:30:34.320Z"
   },
   {
    "duration": 6,
    "start_time": "2023-01-09T06:30:41.329Z"
   },
   {
    "duration": 48,
    "start_time": "2023-01-09T06:31:32.774Z"
   },
   {
    "duration": 10,
    "start_time": "2023-01-09T06:31:43.335Z"
   },
   {
    "duration": 5,
    "start_time": "2023-01-09T06:31:49.237Z"
   },
   {
    "duration": 5,
    "start_time": "2023-01-09T06:32:11.125Z"
   },
   {
    "duration": 6,
    "start_time": "2023-01-09T06:33:06.733Z"
   },
   {
    "duration": 4,
    "start_time": "2023-01-09T06:33:07.277Z"
   },
   {
    "duration": 4,
    "start_time": "2023-01-09T06:34:05.925Z"
   },
   {
    "duration": 5,
    "start_time": "2023-01-09T06:34:08.714Z"
   },
   {
    "duration": 4,
    "start_time": "2023-01-09T06:34:09.317Z"
   },
   {
    "duration": 10,
    "start_time": "2023-01-09T06:35:51.108Z"
   },
   {
    "duration": 48,
    "start_time": "2023-01-09T06:39:23.114Z"
   },
   {
    "duration": 9,
    "start_time": "2023-01-09T06:39:34.396Z"
   },
   {
    "duration": 3,
    "start_time": "2023-01-09T06:40:59.162Z"
   },
   {
    "duration": 10,
    "start_time": "2023-01-09T06:42:38.441Z"
   },
   {
    "duration": 2,
    "start_time": "2023-01-09T06:43:55.448Z"
   },
   {
    "duration": 4,
    "start_time": "2023-01-09T06:44:30.340Z"
   },
   {
    "duration": 5,
    "start_time": "2023-01-09T06:44:31.473Z"
   },
   {
    "duration": 9,
    "start_time": "2023-01-09T06:44:46.630Z"
   },
   {
    "duration": 5,
    "start_time": "2023-01-09T06:44:55.963Z"
   },
   {
    "duration": 5,
    "start_time": "2023-01-09T06:44:57.403Z"
   },
   {
    "duration": 4,
    "start_time": "2023-01-09T06:44:58.334Z"
   },
   {
    "duration": 9,
    "start_time": "2023-01-09T06:44:59.739Z"
   },
   {
    "duration": 5,
    "start_time": "2023-01-09T06:45:20.228Z"
   },
   {
    "duration": 4,
    "start_time": "2023-01-09T06:45:21.435Z"
   },
   {
    "duration": 343,
    "start_time": "2023-01-09T06:46:35.139Z"
   },
   {
    "duration": 10,
    "start_time": "2023-01-09T06:48:00.264Z"
   },
   {
    "duration": 85,
    "start_time": "2023-01-09T06:48:05.615Z"
   },
   {
    "duration": 3,
    "start_time": "2023-01-09T06:50:36.484Z"
   },
   {
    "duration": 3,
    "start_time": "2023-01-09T06:50:43.836Z"
   },
   {
    "duration": 29,
    "start_time": "2023-01-09T06:50:44.407Z"
   },
   {
    "duration": 10,
    "start_time": "2023-01-09T06:50:45.282Z"
   },
   {
    "duration": 13,
    "start_time": "2023-01-09T06:50:45.863Z"
   },
   {
    "duration": 4,
    "start_time": "2023-01-09T06:50:51.129Z"
   },
   {
    "duration": 6,
    "start_time": "2023-01-09T06:50:52.819Z"
   },
   {
    "duration": 4,
    "start_time": "2023-01-09T06:50:53.874Z"
   },
   {
    "duration": 9,
    "start_time": "2023-01-09T06:50:55.968Z"
   },
   {
    "duration": 278,
    "start_time": "2023-01-09T06:50:58.108Z"
   },
   {
    "duration": 87,
    "start_time": "2023-01-09T06:50:58.881Z"
   },
   {
    "duration": 11,
    "start_time": "2023-01-09T06:53:41.496Z"
   },
   {
    "duration": 34,
    "start_time": "2023-01-09T06:53:41.510Z"
   },
   {
    "duration": 33,
    "start_time": "2023-01-09T06:53:41.545Z"
   },
   {
    "duration": 11,
    "start_time": "2023-01-09T06:53:41.580Z"
   },
   {
    "duration": 5,
    "start_time": "2023-01-09T06:53:43.011Z"
   },
   {
    "duration": 5,
    "start_time": "2023-01-09T06:53:45.559Z"
   },
   {
    "duration": 5,
    "start_time": "2023-01-09T06:53:48.330Z"
   },
   {
    "duration": 9,
    "start_time": "2023-01-09T06:53:51.022Z"
   },
   {
    "duration": 2,
    "start_time": "2023-01-09T06:53:53.355Z"
   },
   {
    "duration": 378,
    "start_time": "2023-01-09T06:53:54.403Z"
   },
   {
    "duration": 85,
    "start_time": "2023-01-09T06:53:55.202Z"
   },
   {
    "duration": 3,
    "start_time": "2023-01-09T06:53:58.071Z"
   },
   {
    "duration": 4,
    "start_time": "2023-01-09T06:57:14.683Z"
   },
   {
    "duration": 40,
    "start_time": "2023-01-09T06:57:14.904Z"
   },
   {
    "duration": 16,
    "start_time": "2023-01-09T06:57:14.954Z"
   },
   {
    "duration": 13,
    "start_time": "2023-01-09T06:57:14.971Z"
   },
   {
    "duration": 4,
    "start_time": "2023-01-09T06:57:14.985Z"
   },
   {
    "duration": 10,
    "start_time": "2023-01-09T06:57:14.990Z"
   },
   {
    "duration": 7,
    "start_time": "2023-01-09T06:57:15.001Z"
   },
   {
    "duration": 24,
    "start_time": "2023-01-09T06:57:15.009Z"
   },
   {
    "duration": 315,
    "start_time": "2023-01-09T06:57:19.370Z"
   },
   {
    "duration": 4,
    "start_time": "2023-01-09T06:57:52.115Z"
   },
   {
    "duration": 3,
    "start_time": "2023-01-09T06:58:44.352Z"
   },
   {
    "duration": 92,
    "start_time": "2023-01-09T06:58:45.013Z"
   },
   {
    "duration": 3,
    "start_time": "2023-01-09T06:58:45.926Z"
   },
   {
    "duration": 225,
    "start_time": "2023-01-09T07:02:38.854Z"
   },
   {
    "duration": 3,
    "start_time": "2023-01-09T07:02:39.804Z"
   },
   {
    "duration": 46,
    "start_time": "2023-01-09T07:16:18.727Z"
   },
   {
    "duration": 3,
    "start_time": "2023-01-09T07:25:46.782Z"
   },
   {
    "duration": 10,
    "start_time": "2023-01-09T07:34:39.752Z"
   },
   {
    "duration": 34,
    "start_time": "2023-01-09T07:35:29.119Z"
   },
   {
    "duration": 7,
    "start_time": "2023-01-09T07:35:35.871Z"
   },
   {
    "duration": 7,
    "start_time": "2023-01-09T07:36:05.186Z"
   },
   {
    "duration": 5,
    "start_time": "2023-01-09T07:36:16.223Z"
   },
   {
    "duration": 7,
    "start_time": "2023-01-09T07:38:23.457Z"
   },
   {
    "duration": 3,
    "start_time": "2023-01-09T07:38:43.047Z"
   },
   {
    "duration": 4,
    "start_time": "2023-01-09T07:42:16.234Z"
   },
   {
    "duration": 4,
    "start_time": "2023-01-09T07:42:50.223Z"
   },
   {
    "duration": 7,
    "start_time": "2023-01-09T07:43:45.065Z"
   },
   {
    "duration": 4,
    "start_time": "2023-01-09T07:44:00.749Z"
   },
   {
    "duration": 7,
    "start_time": "2023-01-09T07:44:53.168Z"
   },
   {
    "duration": 11,
    "start_time": "2023-01-09T07:47:25.511Z"
   },
   {
    "duration": 7,
    "start_time": "2023-01-09T07:47:58.405Z"
   },
   {
    "duration": 12,
    "start_time": "2023-01-09T07:50:19.745Z"
   },
   {
    "duration": 9,
    "start_time": "2023-01-09T07:50:32.037Z"
   },
   {
    "duration": 9,
    "start_time": "2023-01-09T07:50:36.427Z"
   },
   {
    "duration": 4,
    "start_time": "2023-01-09T07:50:49.218Z"
   },
   {
    "duration": 10,
    "start_time": "2023-01-09T07:51:51.340Z"
   },
   {
    "duration": 2,
    "start_time": "2023-01-09T09:07:45.447Z"
   },
   {
    "duration": 11,
    "start_time": "2023-01-09T09:07:58.318Z"
   },
   {
    "duration": 3,
    "start_time": "2023-01-09T09:08:08.629Z"
   },
   {
    "duration": 21,
    "start_time": "2023-01-09T09:08:09.452Z"
   },
   {
    "duration": 10,
    "start_time": "2023-01-09T09:08:09.969Z"
   },
   {
    "duration": 11,
    "start_time": "2023-01-09T09:08:10.413Z"
   },
   {
    "duration": 4,
    "start_time": "2023-01-09T09:08:14.161Z"
   },
   {
    "duration": 6,
    "start_time": "2023-01-09T09:08:14.684Z"
   },
   {
    "duration": 4,
    "start_time": "2023-01-09T09:08:14.954Z"
   },
   {
    "duration": 9,
    "start_time": "2023-01-09T09:08:15.470Z"
   },
   {
    "duration": 7,
    "start_time": "2023-01-09T09:08:16.336Z"
   },
   {
    "duration": 3,
    "start_time": "2023-01-09T09:08:16.681Z"
   },
   {
    "duration": 4,
    "start_time": "2023-01-09T09:08:17.259Z"
   },
   {
    "duration": 3,
    "start_time": "2023-01-09T09:08:17.561Z"
   },
   {
    "duration": 10,
    "start_time": "2023-01-09T09:08:17.816Z"
   },
   {
    "duration": 5,
    "start_time": "2023-01-09T09:08:18.467Z"
   },
   {
    "duration": 4,
    "start_time": "2023-01-09T09:08:18.741Z"
   },
   {
    "duration": 7,
    "start_time": "2023-01-09T09:08:19.014Z"
   },
   {
    "duration": 8,
    "start_time": "2023-01-09T09:08:19.270Z"
   },
   {
    "duration": 7,
    "start_time": "2023-01-09T09:08:39.736Z"
   },
   {
    "duration": 3,
    "start_time": "2023-01-09T09:08:50.346Z"
   },
   {
    "duration": 4,
    "start_time": "2023-01-09T09:08:58.429Z"
   },
   {
    "duration": 5,
    "start_time": "2023-01-09T09:12:23.932Z"
   },
   {
    "duration": 3,
    "start_time": "2023-01-09T09:12:24.617Z"
   },
   {
    "duration": 7,
    "start_time": "2023-01-09T09:12:52.617Z"
   },
   {
    "duration": 3,
    "start_time": "2023-01-09T09:12:55.916Z"
   },
   {
    "duration": 51,
    "start_time": "2023-01-09T09:34:25.517Z"
   },
   {
    "duration": 10,
    "start_time": "2023-01-09T09:48:15.348Z"
   },
   {
    "duration": 3,
    "start_time": "2023-01-09T09:48:20.820Z"
   },
   {
    "duration": 16,
    "start_time": "2023-01-09T09:48:21.269Z"
   },
   {
    "duration": 10,
    "start_time": "2023-01-09T09:48:21.603Z"
   },
   {
    "duration": 3,
    "start_time": "2023-01-09T09:48:22.242Z"
   },
   {
    "duration": 12,
    "start_time": "2023-01-09T09:48:23.346Z"
   },
   {
    "duration": 4,
    "start_time": "2023-01-09T09:49:12.939Z"
   },
   {
    "duration": 12,
    "start_time": "2023-01-09T09:49:13.457Z"
   },
   {
    "duration": 23,
    "start_time": "2023-01-09T09:49:28.077Z"
   },
   {
    "duration": 24,
    "start_time": "2023-01-09T09:50:13.172Z"
   },
   {
    "duration": 17,
    "start_time": "2023-01-09T09:50:22.237Z"
   },
   {
    "duration": 3,
    "start_time": "2023-01-09T09:50:36.811Z"
   },
   {
    "duration": 12,
    "start_time": "2023-01-09T09:50:37.159Z"
   },
   {
    "duration": 24,
    "start_time": "2023-01-09T09:50:37.649Z"
   },
   {
    "duration": 13,
    "start_time": "2023-01-09T09:50:43.836Z"
   },
   {
    "duration": 13,
    "start_time": "2023-01-09T09:50:54.317Z"
   },
   {
    "duration": 4,
    "start_time": "2023-01-09T09:51:05.610Z"
   },
   {
    "duration": 11,
    "start_time": "2023-01-09T09:51:06.233Z"
   },
   {
    "duration": 3,
    "start_time": "2023-01-09T09:51:11.679Z"
   },
   {
    "duration": 16,
    "start_time": "2023-01-09T09:51:12.059Z"
   },
   {
    "duration": 11,
    "start_time": "2023-01-09T09:51:12.279Z"
   },
   {
    "duration": 3,
    "start_time": "2023-01-09T09:51:12.804Z"
   },
   {
    "duration": 12,
    "start_time": "2023-01-09T09:51:13.170Z"
   },
   {
    "duration": 23,
    "start_time": "2023-01-09T09:51:13.674Z"
   },
   {
    "duration": 5,
    "start_time": "2023-01-09T09:51:18.737Z"
   },
   {
    "duration": 7,
    "start_time": "2023-01-09T09:51:19.616Z"
   },
   {
    "duration": 4,
    "start_time": "2023-01-09T09:51:19.964Z"
   },
   {
    "duration": 10,
    "start_time": "2023-01-09T09:51:21.004Z"
   },
   {
    "duration": 7,
    "start_time": "2023-01-09T09:51:22.221Z"
   },
   {
    "duration": 4,
    "start_time": "2023-01-09T09:51:22.641Z"
   },
   {
    "duration": 3,
    "start_time": "2023-01-09T09:51:23.758Z"
   },
   {
    "duration": 4,
    "start_time": "2023-01-09T09:51:24.048Z"
   },
   {
    "duration": 10,
    "start_time": "2023-01-09T09:51:24.285Z"
   },
   {
    "duration": 5,
    "start_time": "2023-01-09T09:51:24.849Z"
   },
   {
    "duration": 4,
    "start_time": "2023-01-09T09:51:25.201Z"
   },
   {
    "duration": 6,
    "start_time": "2023-01-09T09:51:25.455Z"
   },
   {
    "duration": 3,
    "start_time": "2023-01-09T09:51:25.808Z"
   },
   {
    "duration": 3,
    "start_time": "2023-01-09T09:52:58.803Z"
   },
   {
    "duration": 12,
    "start_time": "2023-01-09T09:53:05.446Z"
   },
   {
    "duration": 26,
    "start_time": "2023-01-09T09:53:06.121Z"
   },
   {
    "duration": 4,
    "start_time": "2023-01-09T09:53:10.262Z"
   },
   {
    "duration": 6,
    "start_time": "2023-01-09T09:53:10.675Z"
   },
   {
    "duration": 5,
    "start_time": "2023-01-09T09:53:10.913Z"
   },
   {
    "duration": 10,
    "start_time": "2023-01-09T09:53:11.557Z"
   },
   {
    "duration": 6,
    "start_time": "2023-01-09T09:53:12.417Z"
   },
   {
    "duration": 4,
    "start_time": "2023-01-09T09:53:12.640Z"
   },
   {
    "duration": 3,
    "start_time": "2023-01-09T09:53:13.100Z"
   },
   {
    "duration": 4,
    "start_time": "2023-01-09T09:53:13.306Z"
   },
   {
    "duration": 10,
    "start_time": "2023-01-09T09:53:13.525Z"
   },
   {
    "duration": 4,
    "start_time": "2023-01-09T09:53:14.008Z"
   },
   {
    "duration": 4,
    "start_time": "2023-01-09T09:53:14.229Z"
   },
   {
    "duration": 6,
    "start_time": "2023-01-09T09:53:14.460Z"
   },
   {
    "duration": 3,
    "start_time": "2023-01-09T09:53:14.667Z"
   },
   {
    "duration": 1324,
    "start_time": "2023-01-09T16:33:52.814Z"
   },
   {
    "duration": 103,
    "start_time": "2023-01-09T16:33:54.140Z"
   },
   {
    "duration": 23,
    "start_time": "2023-01-09T16:33:54.245Z"
   },
   {
    "duration": 33,
    "start_time": "2023-01-09T16:33:54.270Z"
   },
   {
    "duration": 29,
    "start_time": "2023-01-09T16:33:54.305Z"
   },
   {
    "duration": 62,
    "start_time": "2023-01-09T16:33:54.336Z"
   },
   {
    "duration": 7,
    "start_time": "2023-01-09T16:33:54.399Z"
   },
   {
    "duration": 16,
    "start_time": "2023-01-09T16:33:54.408Z"
   },
   {
    "duration": 44,
    "start_time": "2023-01-09T16:33:54.426Z"
   },
   {
    "duration": 42,
    "start_time": "2023-01-09T16:33:54.472Z"
   },
   {
    "duration": 66,
    "start_time": "2023-01-09T16:33:54.516Z"
   },
   {
    "duration": 115,
    "start_time": "2023-01-09T16:33:54.585Z"
   },
   {
    "duration": 4,
    "start_time": "2023-01-09T16:33:54.753Z"
   },
   {
    "duration": 36,
    "start_time": "2023-01-09T16:33:54.759Z"
   },
   {
    "duration": 44,
    "start_time": "2023-01-09T16:33:54.798Z"
   },
   {
    "duration": 36,
    "start_time": "2023-01-09T16:33:54.844Z"
   },
   {
    "duration": 30,
    "start_time": "2023-01-09T16:33:54.882Z"
   },
   {
    "duration": 17,
    "start_time": "2023-01-09T16:33:54.914Z"
   },
   {
    "duration": 4,
    "start_time": "2023-01-09T16:33:54.933Z"
   },
   {
    "duration": 11,
    "start_time": "2023-01-09T16:39:22.807Z"
   },
   {
    "duration": 51,
    "start_time": "2023-01-10T03:49:15.012Z"
   },
   {
    "duration": 75,
    "start_time": "2023-01-10T03:50:22.606Z"
   },
   {
    "duration": 7,
    "start_time": "2023-01-10T03:50:55.142Z"
   },
   {
    "duration": 7,
    "start_time": "2023-01-10T03:50:55.547Z"
   },
   {
    "duration": 1269,
    "start_time": "2023-01-10T03:50:59.663Z"
   },
   {
    "duration": 106,
    "start_time": "2023-01-10T03:51:00.934Z"
   },
   {
    "duration": 22,
    "start_time": "2023-01-10T03:51:02.019Z"
   },
   {
    "duration": 4,
    "start_time": "2023-01-10T03:51:02.725Z"
   },
   {
    "duration": 15,
    "start_time": "2023-01-10T03:51:03.263Z"
   },
   {
    "duration": 30,
    "start_time": "2023-01-10T03:51:03.972Z"
   },
   {
    "duration": 77,
    "start_time": "2023-01-10T03:51:05.227Z"
   },
   {
    "duration": 9,
    "start_time": "2023-01-10T03:51:05.988Z"
   },
   {
    "duration": 12,
    "start_time": "2023-01-10T03:54:18.009Z"
   },
   {
    "duration": 85,
    "start_time": "2023-01-10T03:55:19.588Z"
   },
   {
    "duration": 9,
    "start_time": "2023-01-10T03:55:54.705Z"
   },
   {
    "duration": 459,
    "start_time": "2023-01-10T03:56:00.870Z"
   },
   {
    "duration": 31,
    "start_time": "2023-01-10T03:56:02.192Z"
   },
   {
    "duration": 13,
    "start_time": "2023-01-10T03:56:02.441Z"
   },
   {
    "duration": 5,
    "start_time": "2023-01-10T03:56:02.783Z"
   },
   {
    "duration": 13,
    "start_time": "2023-01-10T03:56:03.037Z"
   },
   {
    "duration": 28,
    "start_time": "2023-01-10T03:56:03.292Z"
   },
   {
    "duration": 7,
    "start_time": "2023-01-10T03:56:04.061Z"
   },
   {
    "duration": 11,
    "start_time": "2023-01-10T03:56:04.878Z"
   },
   {
    "duration": 157,
    "start_time": "2023-01-10T03:56:05.366Z"
   },
   {
    "duration": 62,
    "start_time": "2023-01-10T03:56:31.509Z"
   },
   {
    "duration": 484,
    "start_time": "2023-01-10T03:56:36.707Z"
   },
   {
    "duration": 374,
    "start_time": "2023-01-10T03:56:48.386Z"
   },
   {
    "duration": 431,
    "start_time": "2023-01-10T03:57:23.625Z"
   },
   {
    "duration": 386,
    "start_time": "2023-01-10T03:57:34.550Z"
   },
   {
    "duration": 383,
    "start_time": "2023-01-10T03:57:46.583Z"
   },
   {
    "duration": 378,
    "start_time": "2023-01-10T03:57:57.681Z"
   },
   {
    "duration": 99,
    "start_time": "2023-01-10T04:05:10.991Z"
   },
   {
    "duration": 73,
    "start_time": "2023-01-10T04:06:21.593Z"
   }
  ],
  "kernelspec": {
   "display_name": "Python 3 (ipykernel)",
   "language": "python",
   "name": "python3"
  },
  "language_info": {
   "codemirror_mode": {
    "name": "ipython",
    "version": 3
   },
   "file_extension": ".py",
   "mimetype": "text/x-python",
   "name": "python",
   "nbconvert_exporter": "python",
   "pygments_lexer": "ipython3",
   "version": "3.9.12"
  },
  "toc": {
   "base_numbering": 1,
   "nav_menu": {},
   "number_sections": true,
   "sideBar": true,
   "skip_h1_title": true,
   "title_cell": "Содержание",
   "title_sidebar": "Contents",
   "toc_cell": true,
   "toc_position": {
    "height": "calc(100% - 180px)",
    "left": "10px",
    "top": "150px",
    "width": "270.594px"
   },
   "toc_section_display": true,
   "toc_window_display": true
  }
 },
 "nbformat": 4,
 "nbformat_minor": 2
}
