{
 "cells": [
  {
   "cell_type": "markdown",
   "metadata": {
    "toc": true
   },
   "source": [
    "<h1>Содержание<span class=\"tocSkip\"></span></h1>\n",
    "<div class=\"toc\"><ul class=\"toc-item\"><li><span><a href=\"#Подготовка-данных\" data-toc-modified-id=\"Подготовка-данных-1\"><span class=\"toc-item-num\">1&nbsp;&nbsp;</span>Подготовка данных</a></span><ul class=\"toc-item\"><li><span><a href=\"#Предворительный-анализ-данных\" data-toc-modified-id=\"Предворительный-анализ-данных-1.1\"><span class=\"toc-item-num\">1.1&nbsp;&nbsp;</span>Предворительный анализ данных</a></span></li><li><span><a href=\"#Подготовка-данных\" data-toc-modified-id=\"Подготовка-данных-1.2\"><span class=\"toc-item-num\">1.2&nbsp;&nbsp;</span>Подготовка данных</a></span></li><li><span><a href=\"#Промежучтоный-вывод:\" data-toc-modified-id=\"Промежучтоный-вывод:-1.3\"><span class=\"toc-item-num\">1.3&nbsp;&nbsp;</span>Промежучтоный вывод:</a></span></li></ul></li><li><span><a href=\"#Изучение-моделей-без-учёта-дисбаланса-и-исследование-баланса-классов\" data-toc-modified-id=\"Изучение-моделей-без-учёта-дисбаланса-и-исследование-баланса-классов-2\"><span class=\"toc-item-num\">2&nbsp;&nbsp;</span>Изучение моделей без учёта дисбаланса и исследование баланса классов</a></span><ul class=\"toc-item\"><li><span><a href=\"#Модели\" data-toc-modified-id=\"Модели-2.1\"><span class=\"toc-item-num\">2.1&nbsp;&nbsp;</span>Модели</a></span><ul class=\"toc-item\"><li><span><a href=\"#Модель-решающего-дерева\" data-toc-modified-id=\"Модель-решающего-дерева-2.1.1\"><span class=\"toc-item-num\">2.1.1&nbsp;&nbsp;</span>Модель решающего дерева</a></span></li><li><span><a href=\"#Модель-решающего-леса\" data-toc-modified-id=\"Модель-решающего-леса-2.1.2\"><span class=\"toc-item-num\">2.1.2&nbsp;&nbsp;</span>Модель решающего леса</a></span></li></ul></li><li><span><a href=\"#Исследование-дисбаланса-классов\" data-toc-modified-id=\"Исследование-дисбаланса-классов-2.2\"><span class=\"toc-item-num\">2.2&nbsp;&nbsp;</span>Исследование дисбаланса классов</a></span></li><li><span><a href=\"#Промежуточный-вывод:\" data-toc-modified-id=\"Промежуточный-вывод:-2.3\"><span class=\"toc-item-num\">2.3&nbsp;&nbsp;</span>Промежуточный вывод:</a></span></li></ul></li><li><span><a href=\"#Борьба-с-дисбалансом\" data-toc-modified-id=\"Борьба-с-дисбалансом-3\"><span class=\"toc-item-num\">3&nbsp;&nbsp;</span>Борьба с дисбалансом</a></span><ul class=\"toc-item\"><li><span><a href=\"#Взвешивание-классов\" data-toc-modified-id=\"Взвешивание-классов-3.1\"><span class=\"toc-item-num\">3.1&nbsp;&nbsp;</span>Взвешивание классов</a></span><ul class=\"toc-item\"><li><span><a href=\"#Модель-решающего-дерева\" data-toc-modified-id=\"Модель-решающего-дерева-3.1.1\"><span class=\"toc-item-num\">3.1.1&nbsp;&nbsp;</span>Модель решающего дерева</a></span></li><li><span><a href=\"#Модель-случайного-леса\" data-toc-modified-id=\"Модель-случайного-леса-3.1.2\"><span class=\"toc-item-num\">3.1.2&nbsp;&nbsp;</span>Модель случайного леса</a></span></li><li><span><a href=\"#Промежуточный-вывод:\" data-toc-modified-id=\"Промежуточный-вывод:-3.1.3\"><span class=\"toc-item-num\">3.1.3&nbsp;&nbsp;</span>Промежуточный вывод:</a></span></li></ul></li><li><span><a href=\"#Увеличение-выборки\" data-toc-modified-id=\"Увеличение-выборки-3.2\"><span class=\"toc-item-num\">3.2&nbsp;&nbsp;</span>Увеличение выборки</a></span><ul class=\"toc-item\"><li><span><a href=\"#Модель-решающего-дерева\" data-toc-modified-id=\"Модель-решающего-дерева-3.2.1\"><span class=\"toc-item-num\">3.2.1&nbsp;&nbsp;</span>Модель решающего дерева</a></span></li><li><span><a href=\"#Модель-случайного-леса\" data-toc-modified-id=\"Модель-случайного-леса-3.2.2\"><span class=\"toc-item-num\">3.2.2&nbsp;&nbsp;</span>Модель случайного леса</a></span></li><li><span><a href=\"#Промежуточный-вывод:\" data-toc-modified-id=\"Промежуточный-вывод:-3.2.3\"><span class=\"toc-item-num\">3.2.3&nbsp;&nbsp;</span>Промежуточный вывод:</a></span></li></ul></li><li><span><a href=\"#Уменьшение-выборки\" data-toc-modified-id=\"Уменьшение-выборки-3.3\"><span class=\"toc-item-num\">3.3&nbsp;&nbsp;</span>Уменьшение выборки</a></span><ul class=\"toc-item\"><li><span><a href=\"#Модель-решающего-дерева\" data-toc-modified-id=\"Модель-решающего-дерева-3.3.1\"><span class=\"toc-item-num\">3.3.1&nbsp;&nbsp;</span>Модель решающего дерева</a></span></li><li><span><a href=\"#Модель-случайного-леса\" data-toc-modified-id=\"Модель-случайного-леса-3.3.2\"><span class=\"toc-item-num\">3.3.2&nbsp;&nbsp;</span>Модель случайного леса</a></span></li><li><span><a href=\"#Промежуточный-вывод:\" data-toc-modified-id=\"Промежуточный-вывод:-3.3.3\"><span class=\"toc-item-num\">3.3.3&nbsp;&nbsp;</span>Промежуточный вывод:</a></span></li></ul></li><li><span><a href=\"#Изменение-порога-классификации\" data-toc-modified-id=\"Изменение-порога-классификации-3.4\"><span class=\"toc-item-num\">3.4&nbsp;&nbsp;</span>Изменение порога классификации</a></span><ul class=\"toc-item\"><li><span><a href=\"#Модель-решающего-дерева\" data-toc-modified-id=\"Модель-решающего-дерева-3.4.1\"><span class=\"toc-item-num\">3.4.1&nbsp;&nbsp;</span>Модель решающего дерева</a></span></li><li><span><a href=\"#Модель-случайного-леса\" data-toc-modified-id=\"Модель-случайного-леса-3.4.2\"><span class=\"toc-item-num\">3.4.2&nbsp;&nbsp;</span>Модель случайного леса</a></span></li><li><span><a href=\"#Промежуточный-вывод\" data-toc-modified-id=\"Промежуточный-вывод-3.4.3\"><span class=\"toc-item-num\">3.4.3&nbsp;&nbsp;</span>Промежуточный вывод</a></span></li></ul></li></ul></li><li><span><a href=\"#Тестирование-модели\" data-toc-modified-id=\"Тестирование-модели-4\"><span class=\"toc-item-num\">4&nbsp;&nbsp;</span>Тестирование модели</a></span></li><li><span><a href=\"#Выводы\" data-toc-modified-id=\"Выводы-5\"><span class=\"toc-item-num\">5&nbsp;&nbsp;</span>Выводы</a></span></li><li><span><a href=\"#Чек-лист-готовности-проекта\" data-toc-modified-id=\"Чек-лист-готовности-проекта-6\"><span class=\"toc-item-num\">6&nbsp;&nbsp;</span>Чек-лист готовности проекта</a></span></li><li><span><a href=\"#Общий-вывод-по-проекту\" data-toc-modified-id=\"Общий-вывод-по-проекту-7\"><span class=\"toc-item-num\">7&nbsp;&nbsp;</span><b>Общий вывод по проекту</b></a></span></li><li><span><a href=\"#Общий-вывод-по-проекту-V2\" data-toc-modified-id=\"Общий-вывод-по-проекту-V2-8\"><span class=\"toc-item-num\">8&nbsp;&nbsp;</span><b>Общий вывод по проекту V2</b></a></span></li></ul></div>"
   ]
  },
  {
   "cell_type": "markdown",
   "metadata": {},
   "source": [
    "# Отток клиентов"
   ]
  },
  {
   "cell_type": "markdown",
   "metadata": {},
   "source": [
    "Из «Бета-Банка» стали уходить клиенты. Каждый месяц. Немного, но заметно. Банковские маркетологи посчитали: сохранять текущих клиентов дешевле, чем привлекать новых.\n",
    "\n",
    "Нужно спрогнозировать, уйдёт клиент из банка в ближайшее время или нет. Вам предоставлены исторические данные о поведении клиентов и расторжении договоров с банком. \n",
    "\n",
    "Постройте модель с предельно большим значением *F1*-меры. Чтобы сдать проект успешно, нужно довести метрику до 0.59. Проверьте *F1*-меру на тестовой выборке самостоятельно.\n",
    "\n",
    "Дополнительно измеряйте *AUC-ROC*, сравнивайте её значение с *F1*-мерой.\n",
    "\n",
    "Источник данных: [https://www.kaggle.com/barelydedicated/bank-customer-churn-modeling](https://www.kaggle.com/barelydedicated/bank-customer-churn-modeling)"
   ]
  },
  {
   "cell_type": "markdown",
   "metadata": {},
   "source": [
    "# Описание данных"
   ]
  },
  {
   "cell_type": "markdown",
   "metadata": {},
   "source": [
    "Данные находятся в файле /datasets/Churn.csv.\n",
    "Признаки:\n",
    "- RowNumber — индекс строки в данных\n",
    "- CustomerId — уникальный идентификатор клиента\n",
    "- Surname — фамилия\n",
    "- CreditScore — кредитный рейтинг\n",
    "- Geography — страна проживания\n",
    "- Gender — пол\n",
    "- Age — возраст\n",
    "- Tenure — сколько лет человек является клиентом банка\n",
    "- Balance — баланс на счёте\n",
    "- NumOfProducts — количество продуктов банка, используемых клиентом\n",
    "- HasCrCard — наличие кредитной карты\n",
    "- IsActiveMember — активность клиента\n",
    "- EstimatedSalary — предполагаемая зарплата\n",
    "\n",
    "Целевой признак:\n",
    "- Exited — факт ухода клиента"
   ]
  },
  {
   "cell_type": "markdown",
   "metadata": {},
   "source": [
    "# План по выполнению проекта"
   ]
  },
  {
   "cell_type": "markdown",
   "metadata": {},
   "source": [
    "1. Загрузка и подготовка данных.\n",
    "2. Исследование баланса классов, обучение модели без учёта дисбаланса. Промежуточные выводы.\n",
    "3. Улучшение качества модели, учитывая дисбаланс классов. Обучение разных модели и поиск лучшей. Промежуточные выводы.\n",
    "4. Финальное тестирование."
   ]
  },
  {
   "cell_type": "markdown",
   "metadata": {},
   "source": [
    "## Подготовка данных"
   ]
  },
  {
   "cell_type": "code",
   "execution_count": 204,
   "metadata": {},
   "outputs": [],
   "source": [
    "import pandas as pd\n",
    "import numpy as np\n",
    "import matplotlib.pyplot as plt\n",
    "\n",
    "from sklearn.ensemble import RandomForestClassifier\n",
    "\n",
    "from sklearn.model_selection import train_test_split\n",
    "\n",
    "from sklearn.metrics import accuracy_score\n",
    "from sklearn.metrics import f1_score\n",
    "from sklearn.metrics import precision_score\n",
    "from sklearn.metrics import precision_recall_curv\n",
    "from sklearn.metrics import recall_score\n",
    "from sklearn.metrics import roc_auc_scoree\n",
    "from sklearn.metrics import roc_curve\n",
    "\n",
    "from sklearn.preprocessing import StandardScaler\n",
    "from sklearn.tree import DecisionTreeClassifier\n",
    "\n",
    "from sklearn.utils import shuffle"
   ]
  },
  {
   "cell_type": "code",
   "execution_count": 205,
   "metadata": {},
   "outputs": [],
   "source": [
    "data = pd.read_csv('/datasets/Churn.csv')"
   ]
  },
  {
   "cell_type": "markdown",
   "metadata": {},
   "source": [
    "### Предворительный анализ данных"
   ]
  },
  {
   "cell_type": "code",
   "execution_count": 206,
   "metadata": {},
   "outputs": [
    {
     "data": {
      "text/html": [
       "<div>\n",
       "<style scoped>\n",
       "    .dataframe tbody tr th:only-of-type {\n",
       "        vertical-align: middle;\n",
       "    }\n",
       "\n",
       "    .dataframe tbody tr th {\n",
       "        vertical-align: top;\n",
       "    }\n",
       "\n",
       "    .dataframe thead th {\n",
       "        text-align: right;\n",
       "    }\n",
       "</style>\n",
       "<table border=\"1\" class=\"dataframe\">\n",
       "  <thead>\n",
       "    <tr style=\"text-align: right;\">\n",
       "      <th></th>\n",
       "      <th>RowNumber</th>\n",
       "      <th>CustomerId</th>\n",
       "      <th>Surname</th>\n",
       "      <th>CreditScore</th>\n",
       "      <th>Geography</th>\n",
       "      <th>Gender</th>\n",
       "      <th>Age</th>\n",
       "      <th>Tenure</th>\n",
       "      <th>Balance</th>\n",
       "      <th>NumOfProducts</th>\n",
       "      <th>HasCrCard</th>\n",
       "      <th>IsActiveMember</th>\n",
       "      <th>EstimatedSalary</th>\n",
       "      <th>Exited</th>\n",
       "    </tr>\n",
       "  </thead>\n",
       "  <tbody>\n",
       "    <tr>\n",
       "      <th>0</th>\n",
       "      <td>1</td>\n",
       "      <td>15634602</td>\n",
       "      <td>Hargrave</td>\n",
       "      <td>619</td>\n",
       "      <td>France</td>\n",
       "      <td>Female</td>\n",
       "      <td>42</td>\n",
       "      <td>2.0</td>\n",
       "      <td>0.00</td>\n",
       "      <td>1</td>\n",
       "      <td>1</td>\n",
       "      <td>1</td>\n",
       "      <td>101348.88</td>\n",
       "      <td>1</td>\n",
       "    </tr>\n",
       "    <tr>\n",
       "      <th>1</th>\n",
       "      <td>2</td>\n",
       "      <td>15647311</td>\n",
       "      <td>Hill</td>\n",
       "      <td>608</td>\n",
       "      <td>Spain</td>\n",
       "      <td>Female</td>\n",
       "      <td>41</td>\n",
       "      <td>1.0</td>\n",
       "      <td>83807.86</td>\n",
       "      <td>1</td>\n",
       "      <td>0</td>\n",
       "      <td>1</td>\n",
       "      <td>112542.58</td>\n",
       "      <td>0</td>\n",
       "    </tr>\n",
       "    <tr>\n",
       "      <th>2</th>\n",
       "      <td>3</td>\n",
       "      <td>15619304</td>\n",
       "      <td>Onio</td>\n",
       "      <td>502</td>\n",
       "      <td>France</td>\n",
       "      <td>Female</td>\n",
       "      <td>42</td>\n",
       "      <td>8.0</td>\n",
       "      <td>159660.80</td>\n",
       "      <td>3</td>\n",
       "      <td>1</td>\n",
       "      <td>0</td>\n",
       "      <td>113931.57</td>\n",
       "      <td>1</td>\n",
       "    </tr>\n",
       "    <tr>\n",
       "      <th>3</th>\n",
       "      <td>4</td>\n",
       "      <td>15701354</td>\n",
       "      <td>Boni</td>\n",
       "      <td>699</td>\n",
       "      <td>France</td>\n",
       "      <td>Female</td>\n",
       "      <td>39</td>\n",
       "      <td>1.0</td>\n",
       "      <td>0.00</td>\n",
       "      <td>2</td>\n",
       "      <td>0</td>\n",
       "      <td>0</td>\n",
       "      <td>93826.63</td>\n",
       "      <td>0</td>\n",
       "    </tr>\n",
       "    <tr>\n",
       "      <th>4</th>\n",
       "      <td>5</td>\n",
       "      <td>15737888</td>\n",
       "      <td>Mitchell</td>\n",
       "      <td>850</td>\n",
       "      <td>Spain</td>\n",
       "      <td>Female</td>\n",
       "      <td>43</td>\n",
       "      <td>2.0</td>\n",
       "      <td>125510.82</td>\n",
       "      <td>1</td>\n",
       "      <td>1</td>\n",
       "      <td>1</td>\n",
       "      <td>79084.10</td>\n",
       "      <td>0</td>\n",
       "    </tr>\n",
       "  </tbody>\n",
       "</table>\n",
       "</div>"
      ],
      "text/plain": [
       "   RowNumber  CustomerId   Surname  CreditScore Geography  Gender  Age  \\\n",
       "0          1    15634602  Hargrave          619    France  Female   42   \n",
       "1          2    15647311      Hill          608     Spain  Female   41   \n",
       "2          3    15619304      Onio          502    France  Female   42   \n",
       "3          4    15701354      Boni          699    France  Female   39   \n",
       "4          5    15737888  Mitchell          850     Spain  Female   43   \n",
       "\n",
       "   Tenure    Balance  NumOfProducts  HasCrCard  IsActiveMember  \\\n",
       "0     2.0       0.00              1          1               1   \n",
       "1     1.0   83807.86              1          0               1   \n",
       "2     8.0  159660.80              3          1               0   \n",
       "3     1.0       0.00              2          0               0   \n",
       "4     2.0  125510.82              1          1               1   \n",
       "\n",
       "   EstimatedSalary  Exited  \n",
       "0        101348.88       1  \n",
       "1        112542.58       0  \n",
       "2        113931.57       1  \n",
       "3         93826.63       0  \n",
       "4         79084.10       0  "
      ]
     },
     "metadata": {},
     "output_type": "display_data"
    }
   ],
   "source": [
    "display(data.head(5))"
   ]
  },
  {
   "cell_type": "code",
   "execution_count": 207,
   "metadata": {},
   "outputs": [
    {
     "name": "stdout",
     "output_type": "stream",
     "text": [
      "<class 'pandas.core.frame.DataFrame'>\n",
      "RangeIndex: 10000 entries, 0 to 9999\n",
      "Data columns (total 14 columns):\n",
      " #   Column           Non-Null Count  Dtype  \n",
      "---  ------           --------------  -----  \n",
      " 0   RowNumber        10000 non-null  int64  \n",
      " 1   CustomerId       10000 non-null  int64  \n",
      " 2   Surname          10000 non-null  object \n",
      " 3   CreditScore      10000 non-null  int64  \n",
      " 4   Geography        10000 non-null  object \n",
      " 5   Gender           10000 non-null  object \n",
      " 6   Age              10000 non-null  int64  \n",
      " 7   Tenure           9091 non-null   float64\n",
      " 8   Balance          10000 non-null  float64\n",
      " 9   NumOfProducts    10000 non-null  int64  \n",
      " 10  HasCrCard        10000 non-null  int64  \n",
      " 11  IsActiveMember   10000 non-null  int64  \n",
      " 12  EstimatedSalary  10000 non-null  float64\n",
      " 13  Exited           10000 non-null  int64  \n",
      "dtypes: float64(3), int64(8), object(3)\n",
      "memory usage: 1.1+ MB\n"
     ]
    }
   ],
   "source": [
    "data.info()"
   ]
  },
  {
   "cell_type": "code",
   "execution_count": 208,
   "metadata": {},
   "outputs": [
    {
     "data": {
      "text/plain": [
       "1.0     952\n",
       "2.0     950\n",
       "8.0     933\n",
       "3.0     928\n",
       "5.0     927\n",
       "7.0     925\n",
       "4.0     885\n",
       "9.0     882\n",
       "6.0     881\n",
       "10.0    446\n",
       "0.0     382\n",
       "Name: Tenure, dtype: int64"
      ]
     },
     "execution_count": 208,
     "metadata": {},
     "output_type": "execute_result"
    }
   ],
   "source": [
    "data['Tenure'].value_counts()"
   ]
  },
  {
   "cell_type": "markdown",
   "metadata": {},
   "source": [
    "Пропуски в колонке 'Tenure'.\n",
    "- Заполнение медианным значением приведет к всплеску одного из значений, а имеено 5.0,\n",
    "- 0 есть в таблице, заполнение нулями даст не обоснованный всплеск.\n",
    "- Природа пропусков не понятна,\n",
    "- Пропуски составляют не более 9%.\n",
    "- Принял решение: Данные строки удалим чтобы не вносить дисбаланс."
   ]
  },
  {
   "cell_type": "code",
   "execution_count": 209,
   "metadata": {},
   "outputs": [],
   "source": [
    "data = data.dropna(subset=['Tenure'])"
   ]
  },
  {
   "cell_type": "code",
   "execution_count": 210,
   "metadata": {},
   "outputs": [
    {
     "data": {
      "text/plain": [
       "1.0     952\n",
       "2.0     950\n",
       "8.0     933\n",
       "3.0     928\n",
       "5.0     927\n",
       "7.0     925\n",
       "4.0     885\n",
       "9.0     882\n",
       "6.0     881\n",
       "10.0    446\n",
       "0.0     382\n",
       "Name: Tenure, dtype: int64"
      ]
     },
     "execution_count": 210,
     "metadata": {},
     "output_type": "execute_result"
    }
   ],
   "source": [
    "data['Tenure'].value_counts()"
   ]
  },
  {
   "cell_type": "code",
   "execution_count": 211,
   "metadata": {},
   "outputs": [
    {
     "data": {
      "text/plain": [
       "Male      4974\n",
       "Female    4117\n",
       "Name: Gender, dtype: int64"
      ]
     },
     "execution_count": 211,
     "metadata": {},
     "output_type": "execute_result"
    }
   ],
   "source": [
    "data['Gender'].value_counts()"
   ]
  },
  {
   "cell_type": "code",
   "execution_count": 212,
   "metadata": {},
   "outputs": [
    {
     "data": {
      "text/plain": [
       "France     4550\n",
       "Germany    2293\n",
       "Spain      2248\n",
       "Name: Geography, dtype: int64"
      ]
     },
     "execution_count": 212,
     "metadata": {},
     "output_type": "execute_result"
    }
   ],
   "source": [
    "data['Geography'].value_counts()"
   ]
  },
  {
   "cell_type": "code",
   "execution_count": 213,
   "metadata": {},
   "outputs": [
    {
     "data": {
      "text/plain": [
       "1    4617\n",
       "2    4184\n",
       "3     234\n",
       "4      56\n",
       "Name: NumOfProducts, dtype: int64"
      ]
     },
     "execution_count": 213,
     "metadata": {},
     "output_type": "execute_result"
    }
   ],
   "source": [
    "data['NumOfProducts'].value_counts()"
   ]
  },
  {
   "cell_type": "code",
   "execution_count": 214,
   "metadata": {},
   "outputs": [
    {
     "data": {
      "text/plain": [
       "1    6409\n",
       "0    2682\n",
       "Name: HasCrCard, dtype: int64"
      ]
     },
     "execution_count": 214,
     "metadata": {},
     "output_type": "execute_result"
    }
   ],
   "source": [
    "data['HasCrCard'].value_counts()"
   ]
  },
  {
   "cell_type": "code",
   "execution_count": 215,
   "metadata": {},
   "outputs": [
    {
     "data": {
      "text/plain": [
       "1    4687\n",
       "0    4404\n",
       "Name: IsActiveMember, dtype: int64"
      ]
     },
     "execution_count": 215,
     "metadata": {},
     "output_type": "execute_result"
    }
   ],
   "source": [
    "data['IsActiveMember'].value_counts()\n"
   ]
  },
  {
   "cell_type": "code",
   "execution_count": 216,
   "metadata": {},
   "outputs": [
    {
     "data": {
      "text/plain": [
       "0    7237\n",
       "1    1854\n",
       "Name: Exited, dtype: int64"
      ]
     },
     "execution_count": 216,
     "metadata": {},
     "output_type": "execute_result"
    }
   ],
   "source": [
    "data['Exited'].value_counts()"
   ]
  },
  {
   "cell_type": "markdown",
   "metadata": {},
   "source": [
    "Удалим столбец с фамилией, номер строки, ID, так как данные в данном столбце не оказывают влияние на целевой признак."
   ]
  },
  {
   "cell_type": "code",
   "execution_count": 217,
   "metadata": {},
   "outputs": [],
   "source": [
    "data= data.drop(columns=['RowNumber', 'CustomerId', 'Surname'], axis=1)"
   ]
  },
  {
   "cell_type": "code",
   "execution_count": 218,
   "metadata": {},
   "outputs": [
    {
     "name": "stdout",
     "output_type": "stream",
     "text": [
      "<class 'pandas.core.frame.DataFrame'>\n",
      "Int64Index: 9091 entries, 0 to 9998\n",
      "Data columns (total 11 columns):\n",
      " #   Column           Non-Null Count  Dtype  \n",
      "---  ------           --------------  -----  \n",
      " 0   CreditScore      9091 non-null   int64  \n",
      " 1   Geography        9091 non-null   object \n",
      " 2   Gender           9091 non-null   object \n",
      " 3   Age              9091 non-null   int64  \n",
      " 4   Tenure           9091 non-null   float64\n",
      " 5   Balance          9091 non-null   float64\n",
      " 6   NumOfProducts    9091 non-null   int64  \n",
      " 7   HasCrCard        9091 non-null   int64  \n",
      " 8   IsActiveMember   9091 non-null   int64  \n",
      " 9   EstimatedSalary  9091 non-null   float64\n",
      " 10  Exited           9091 non-null   int64  \n",
      "dtypes: float64(3), int64(6), object(2)\n",
      "memory usage: 852.3+ KB\n"
     ]
    }
   ],
   "source": [
    "data.info()"
   ]
  },
  {
   "cell_type": "markdown",
   "metadata": {},
   "source": [
    "Промежуточный вывод:\n",
    "- пропуски отсутствуют,\n",
    "- значения в столбце 'Exited' соответсвуют категориальному признаку и имеет значение только 0 или 1.\n",
    "- видно, что распрееление столбцах не равномерное."
   ]
  },
  {
   "cell_type": "markdown",
   "metadata": {},
   "source": [
    "### Подготовка данных"
   ]
  },
  {
   "cell_type": "code",
   "execution_count": 219,
   "metadata": {},
   "outputs": [
    {
     "data": {
      "text/html": [
       "<div>\n",
       "<style scoped>\n",
       "    .dataframe tbody tr th:only-of-type {\n",
       "        vertical-align: middle;\n",
       "    }\n",
       "\n",
       "    .dataframe tbody tr th {\n",
       "        vertical-align: top;\n",
       "    }\n",
       "\n",
       "    .dataframe thead th {\n",
       "        text-align: right;\n",
       "    }\n",
       "</style>\n",
       "<table border=\"1\" class=\"dataframe\">\n",
       "  <thead>\n",
       "    <tr style=\"text-align: right;\">\n",
       "      <th></th>\n",
       "      <th>CreditScore</th>\n",
       "      <th>Geography</th>\n",
       "      <th>Gender</th>\n",
       "      <th>Age</th>\n",
       "      <th>Tenure</th>\n",
       "      <th>Balance</th>\n",
       "      <th>NumOfProducts</th>\n",
       "      <th>HasCrCard</th>\n",
       "      <th>IsActiveMember</th>\n",
       "      <th>EstimatedSalary</th>\n",
       "      <th>Exited</th>\n",
       "    </tr>\n",
       "  </thead>\n",
       "  <tbody>\n",
       "    <tr>\n",
       "      <th>0</th>\n",
       "      <td>619</td>\n",
       "      <td>France</td>\n",
       "      <td>Female</td>\n",
       "      <td>42</td>\n",
       "      <td>2.0</td>\n",
       "      <td>0.00</td>\n",
       "      <td>1</td>\n",
       "      <td>1</td>\n",
       "      <td>1</td>\n",
       "      <td>101348.88</td>\n",
       "      <td>1</td>\n",
       "    </tr>\n",
       "    <tr>\n",
       "      <th>1</th>\n",
       "      <td>608</td>\n",
       "      <td>Spain</td>\n",
       "      <td>Female</td>\n",
       "      <td>41</td>\n",
       "      <td>1.0</td>\n",
       "      <td>83807.86</td>\n",
       "      <td>1</td>\n",
       "      <td>0</td>\n",
       "      <td>1</td>\n",
       "      <td>112542.58</td>\n",
       "      <td>0</td>\n",
       "    </tr>\n",
       "    <tr>\n",
       "      <th>2</th>\n",
       "      <td>502</td>\n",
       "      <td>France</td>\n",
       "      <td>Female</td>\n",
       "      <td>42</td>\n",
       "      <td>8.0</td>\n",
       "      <td>159660.80</td>\n",
       "      <td>3</td>\n",
       "      <td>1</td>\n",
       "      <td>0</td>\n",
       "      <td>113931.57</td>\n",
       "      <td>1</td>\n",
       "    </tr>\n",
       "    <tr>\n",
       "      <th>3</th>\n",
       "      <td>699</td>\n",
       "      <td>France</td>\n",
       "      <td>Female</td>\n",
       "      <td>39</td>\n",
       "      <td>1.0</td>\n",
       "      <td>0.00</td>\n",
       "      <td>2</td>\n",
       "      <td>0</td>\n",
       "      <td>0</td>\n",
       "      <td>93826.63</td>\n",
       "      <td>0</td>\n",
       "    </tr>\n",
       "    <tr>\n",
       "      <th>4</th>\n",
       "      <td>850</td>\n",
       "      <td>Spain</td>\n",
       "      <td>Female</td>\n",
       "      <td>43</td>\n",
       "      <td>2.0</td>\n",
       "      <td>125510.82</td>\n",
       "      <td>1</td>\n",
       "      <td>1</td>\n",
       "      <td>1</td>\n",
       "      <td>79084.10</td>\n",
       "      <td>0</td>\n",
       "    </tr>\n",
       "  </tbody>\n",
       "</table>\n",
       "</div>"
      ],
      "text/plain": [
       "   CreditScore Geography  Gender  Age  Tenure    Balance  NumOfProducts  \\\n",
       "0          619    France  Female   42     2.0       0.00              1   \n",
       "1          608     Spain  Female   41     1.0   83807.86              1   \n",
       "2          502    France  Female   42     8.0  159660.80              3   \n",
       "3          699    France  Female   39     1.0       0.00              2   \n",
       "4          850     Spain  Female   43     2.0  125510.82              1   \n",
       "\n",
       "   HasCrCard  IsActiveMember  EstimatedSalary  Exited  \n",
       "0          1               1        101348.88       1  \n",
       "1          0               1        112542.58       0  \n",
       "2          1               0        113931.57       1  \n",
       "3          0               0         93826.63       0  \n",
       "4          1               1         79084.10       0  "
      ]
     },
     "execution_count": 219,
     "metadata": {},
     "output_type": "execute_result"
    }
   ],
   "source": [
    "data.head(5)"
   ]
  },
  {
   "cell_type": "markdown",
   "metadata": {},
   "source": [
    "Проведем сдандартизацию числовых признаков:\n",
    "- 'CreditScore',\n",
    "- 'Age',\n",
    "- 'Tenure',\n",
    "- 'Balance', \n",
    "- 'EstimatedSalary'."
   ]
  },
  {
   "cell_type": "code",
   "execution_count": 220,
   "metadata": {},
   "outputs": [
    {
     "name": "stdout",
     "output_type": "stream",
     "text": [
      "(9091, 11)\n"
     ]
    }
   ],
   "source": [
    "# Преобразовуем категориальные признаки техникой OHE\n",
    "data_ohe = pd.get_dummies(data, drop_first=True)\n",
    "# извелкаем признаки и целевой признак \n",
    "target = data_ohe['Exited']\n",
    "features = data_ohe.drop('Exited', axis=1)\n",
    "# делим выборку на обучающую, валидайионную и тестовую\n",
    "features_train, features_valid_test, target_train, target_valid_test = train_test_split(\n",
    "    features, target, test_size=0.4, random_state=12345)\n",
    "\n",
    "features_valid, features_test, target_valid, target_test = train_test_split(\n",
    "    features_valid_test, target_valid_test, test_size=0.5, random_state=12345)\n",
    "\n",
    "#стандартизируем численные признаки\n",
    "numeric = ['CreditScore', 'Age', 'Tenure', 'Balance', 'EstimatedSalary']\n",
    "\n",
    "scaler = StandardScaler()\n",
    "scaler.fit(features_train[numeric])\n",
    "# сохраним преобразованные обучающую и валидационную выборки в переменных\n",
    "features_train[numeric] = scaler.transform(features_train[numeric])\n",
    "features_valid[numeric] = scaler.transform(features_valid[numeric])\n",
    "features_test[numeric] = scaler.transform(features_test[numeric])\n",
    "\n",
    "pd.options.mode.chained_assignment = None\n",
    "\n",
    "#check\n",
    "print(features.shape)"
   ]
  },
  {
   "cell_type": "code",
   "execution_count": 221,
   "metadata": {},
   "outputs": [
    {
     "name": "stdout",
     "output_type": "stream",
     "text": [
      "Обучающая выборка\n"
     ]
    },
    {
     "data": {
      "text/html": [
       "<div>\n",
       "<style scoped>\n",
       "    .dataframe tbody tr th:only-of-type {\n",
       "        vertical-align: middle;\n",
       "    }\n",
       "\n",
       "    .dataframe tbody tr th {\n",
       "        vertical-align: top;\n",
       "    }\n",
       "\n",
       "    .dataframe thead th {\n",
       "        text-align: right;\n",
       "    }\n",
       "</style>\n",
       "<table border=\"1\" class=\"dataframe\">\n",
       "  <thead>\n",
       "    <tr style=\"text-align: right;\">\n",
       "      <th></th>\n",
       "      <th>CreditScore</th>\n",
       "      <th>Age</th>\n",
       "      <th>Tenure</th>\n",
       "      <th>Balance</th>\n",
       "      <th>NumOfProducts</th>\n",
       "      <th>HasCrCard</th>\n",
       "      <th>IsActiveMember</th>\n",
       "      <th>EstimatedSalary</th>\n",
       "      <th>Geography_Germany</th>\n",
       "      <th>Geography_Spain</th>\n",
       "      <th>Gender_Male</th>\n",
       "    </tr>\n",
       "  </thead>\n",
       "  <tbody>\n",
       "    <tr>\n",
       "      <th>9344</th>\n",
       "      <td>0.809075</td>\n",
       "      <td>-1.039327</td>\n",
       "      <td>-1.025995</td>\n",
       "      <td>0.554904</td>\n",
       "      <td>1</td>\n",
       "      <td>1</td>\n",
       "      <td>0</td>\n",
       "      <td>0.019508</td>\n",
       "      <td>0</td>\n",
       "      <td>0</td>\n",
       "      <td>0</td>\n",
       "    </tr>\n",
       "    <tr>\n",
       "      <th>3796</th>\n",
       "      <td>-1.152518</td>\n",
       "      <td>-1.227561</td>\n",
       "      <td>0.696524</td>\n",
       "      <td>0.480609</td>\n",
       "      <td>1</td>\n",
       "      <td>0</td>\n",
       "      <td>0</td>\n",
       "      <td>0.056167</td>\n",
       "      <td>0</td>\n",
       "      <td>0</td>\n",
       "      <td>1</td>\n",
       "    </tr>\n",
       "    <tr>\n",
       "      <th>7462</th>\n",
       "      <td>-0.398853</td>\n",
       "      <td>0.090079</td>\n",
       "      <td>1.385532</td>\n",
       "      <td>-1.237830</td>\n",
       "      <td>1</td>\n",
       "      <td>1</td>\n",
       "      <td>1</td>\n",
       "      <td>0.848738</td>\n",
       "      <td>0</td>\n",
       "      <td>0</td>\n",
       "      <td>1</td>\n",
       "    </tr>\n",
       "    <tr>\n",
       "      <th>1508</th>\n",
       "      <td>-0.749875</td>\n",
       "      <td>-0.286389</td>\n",
       "      <td>0.352020</td>\n",
       "      <td>-1.237830</td>\n",
       "      <td>2</td>\n",
       "      <td>1</td>\n",
       "      <td>1</td>\n",
       "      <td>-0.894953</td>\n",
       "      <td>0</td>\n",
       "      <td>0</td>\n",
       "      <td>1</td>\n",
       "    </tr>\n",
       "    <tr>\n",
       "      <th>4478</th>\n",
       "      <td>-1.028628</td>\n",
       "      <td>-0.756975</td>\n",
       "      <td>-0.336987</td>\n",
       "      <td>-1.237830</td>\n",
       "      <td>2</td>\n",
       "      <td>0</td>\n",
       "      <td>1</td>\n",
       "      <td>-1.284516</td>\n",
       "      <td>0</td>\n",
       "      <td>0</td>\n",
       "      <td>1</td>\n",
       "    </tr>\n",
       "  </tbody>\n",
       "</table>\n",
       "</div>"
      ],
      "text/plain": [
       "      CreditScore       Age    Tenure   Balance  NumOfProducts  HasCrCard  \\\n",
       "9344     0.809075 -1.039327 -1.025995  0.554904              1          1   \n",
       "3796    -1.152518 -1.227561  0.696524  0.480609              1          0   \n",
       "7462    -0.398853  0.090079  1.385532 -1.237830              1          1   \n",
       "1508    -0.749875 -0.286389  0.352020 -1.237830              2          1   \n",
       "4478    -1.028628 -0.756975 -0.336987 -1.237830              2          0   \n",
       "\n",
       "      IsActiveMember  EstimatedSalary  Geography_Germany  Geography_Spain  \\\n",
       "9344               0         0.019508                  0                0   \n",
       "3796               0         0.056167                  0                0   \n",
       "7462               1         0.848738                  0                0   \n",
       "1508               1        -0.894953                  0                0   \n",
       "4478               1        -1.284516                  0                0   \n",
       "\n",
       "      Gender_Male  \n",
       "9344            0  \n",
       "3796            1  \n",
       "7462            1  \n",
       "1508            1  \n",
       "4478            1  "
      ]
     },
     "metadata": {},
     "output_type": "display_data"
    },
    {
     "name": "stdout",
     "output_type": "stream",
     "text": [
      "\n",
      "Валидационная выборка\n"
     ]
    },
    {
     "data": {
      "text/html": [
       "<div>\n",
       "<style scoped>\n",
       "    .dataframe tbody tr th:only-of-type {\n",
       "        vertical-align: middle;\n",
       "    }\n",
       "\n",
       "    .dataframe tbody tr th {\n",
       "        vertical-align: top;\n",
       "    }\n",
       "\n",
       "    .dataframe thead th {\n",
       "        text-align: right;\n",
       "    }\n",
       "</style>\n",
       "<table border=\"1\" class=\"dataframe\">\n",
       "  <thead>\n",
       "    <tr style=\"text-align: right;\">\n",
       "      <th></th>\n",
       "      <th>CreditScore</th>\n",
       "      <th>Age</th>\n",
       "      <th>Tenure</th>\n",
       "      <th>Balance</th>\n",
       "      <th>NumOfProducts</th>\n",
       "      <th>HasCrCard</th>\n",
       "      <th>IsActiveMember</th>\n",
       "      <th>EstimatedSalary</th>\n",
       "      <th>Geography_Germany</th>\n",
       "      <th>Geography_Spain</th>\n",
       "      <th>Gender_Male</th>\n",
       "    </tr>\n",
       "  </thead>\n",
       "  <tbody>\n",
       "    <tr>\n",
       "      <th>7445</th>\n",
       "      <td>-1.369326</td>\n",
       "      <td>0.560665</td>\n",
       "      <td>-0.336987</td>\n",
       "      <td>-1.237830</td>\n",
       "      <td>1</td>\n",
       "      <td>1</td>\n",
       "      <td>0</td>\n",
       "      <td>-0.086537</td>\n",
       "      <td>0</td>\n",
       "      <td>0</td>\n",
       "      <td>0</td>\n",
       "    </tr>\n",
       "    <tr>\n",
       "      <th>8620</th>\n",
       "      <td>1.232367</td>\n",
       "      <td>0.090079</td>\n",
       "      <td>1.041028</td>\n",
       "      <td>-1.237830</td>\n",
       "      <td>2</td>\n",
       "      <td>0</td>\n",
       "      <td>1</td>\n",
       "      <td>-0.537457</td>\n",
       "      <td>0</td>\n",
       "      <td>0</td>\n",
       "      <td>0</td>\n",
       "    </tr>\n",
       "    <tr>\n",
       "      <th>1714</th>\n",
       "      <td>0.840048</td>\n",
       "      <td>0.560665</td>\n",
       "      <td>0.352020</td>\n",
       "      <td>1.231363</td>\n",
       "      <td>1</td>\n",
       "      <td>0</td>\n",
       "      <td>0</td>\n",
       "      <td>1.070393</td>\n",
       "      <td>1</td>\n",
       "      <td>0</td>\n",
       "      <td>1</td>\n",
       "    </tr>\n",
       "    <tr>\n",
       "      <th>5441</th>\n",
       "      <td>1.056856</td>\n",
       "      <td>-0.945210</td>\n",
       "      <td>-1.370498</td>\n",
       "      <td>0.951231</td>\n",
       "      <td>1</td>\n",
       "      <td>1</td>\n",
       "      <td>0</td>\n",
       "      <td>-0.576279</td>\n",
       "      <td>0</td>\n",
       "      <td>0</td>\n",
       "      <td>1</td>\n",
       "    </tr>\n",
       "    <tr>\n",
       "      <th>9001</th>\n",
       "      <td>0.406433</td>\n",
       "      <td>-0.662858</td>\n",
       "      <td>0.352020</td>\n",
       "      <td>0.767800</td>\n",
       "      <td>1</td>\n",
       "      <td>1</td>\n",
       "      <td>1</td>\n",
       "      <td>0.662068</td>\n",
       "      <td>0</td>\n",
       "      <td>1</td>\n",
       "      <td>1</td>\n",
       "    </tr>\n",
       "  </tbody>\n",
       "</table>\n",
       "</div>"
      ],
      "text/plain": [
       "      CreditScore       Age    Tenure   Balance  NumOfProducts  HasCrCard  \\\n",
       "7445    -1.369326  0.560665 -0.336987 -1.237830              1          1   \n",
       "8620     1.232367  0.090079  1.041028 -1.237830              2          0   \n",
       "1714     0.840048  0.560665  0.352020  1.231363              1          0   \n",
       "5441     1.056856 -0.945210 -1.370498  0.951231              1          1   \n",
       "9001     0.406433 -0.662858  0.352020  0.767800              1          1   \n",
       "\n",
       "      IsActiveMember  EstimatedSalary  Geography_Germany  Geography_Spain  \\\n",
       "7445               0        -0.086537                  0                0   \n",
       "8620               1        -0.537457                  0                0   \n",
       "1714               0         1.070393                  1                0   \n",
       "5441               0        -0.576279                  0                0   \n",
       "9001               1         0.662068                  0                1   \n",
       "\n",
       "      Gender_Male  \n",
       "7445            0  \n",
       "8620            0  \n",
       "1714            1  \n",
       "5441            1  \n",
       "9001            1  "
      ]
     },
     "metadata": {},
     "output_type": "display_data"
    },
    {
     "name": "stdout",
     "output_type": "stream",
     "text": [
      "\n",
      "Тестовая выборка\n"
     ]
    },
    {
     "data": {
      "text/html": [
       "<div>\n",
       "<style scoped>\n",
       "    .dataframe tbody tr th:only-of-type {\n",
       "        vertical-align: middle;\n",
       "    }\n",
       "\n",
       "    .dataframe tbody tr th {\n",
       "        vertical-align: top;\n",
       "    }\n",
       "\n",
       "    .dataframe thead th {\n",
       "        text-align: right;\n",
       "    }\n",
       "</style>\n",
       "<table border=\"1\" class=\"dataframe\">\n",
       "  <thead>\n",
       "    <tr style=\"text-align: right;\">\n",
       "      <th></th>\n",
       "      <th>CreditScore</th>\n",
       "      <th>Age</th>\n",
       "      <th>Tenure</th>\n",
       "      <th>Balance</th>\n",
       "      <th>NumOfProducts</th>\n",
       "      <th>HasCrCard</th>\n",
       "      <th>IsActiveMember</th>\n",
       "      <th>EstimatedSalary</th>\n",
       "      <th>Geography_Germany</th>\n",
       "      <th>Geography_Spain</th>\n",
       "      <th>Gender_Male</th>\n",
       "    </tr>\n",
       "  </thead>\n",
       "  <tbody>\n",
       "    <tr>\n",
       "      <th>5170</th>\n",
       "      <td>1.707279</td>\n",
       "      <td>-0.756975</td>\n",
       "      <td>-0.336987</td>\n",
       "      <td>-1.237830</td>\n",
       "      <td>2</td>\n",
       "      <td>1</td>\n",
       "      <td>1</td>\n",
       "      <td>0.718362</td>\n",
       "      <td>0</td>\n",
       "      <td>0</td>\n",
       "      <td>0</td>\n",
       "    </tr>\n",
       "    <tr>\n",
       "      <th>4180</th>\n",
       "      <td>-0.429826</td>\n",
       "      <td>-0.286389</td>\n",
       "      <td>1.730036</td>\n",
       "      <td>0.485538</td>\n",
       "      <td>2</td>\n",
       "      <td>0</td>\n",
       "      <td>0</td>\n",
       "      <td>1.687305</td>\n",
       "      <td>1</td>\n",
       "      <td>0</td>\n",
       "      <td>1</td>\n",
       "    </tr>\n",
       "    <tr>\n",
       "      <th>7349</th>\n",
       "      <td>-0.171721</td>\n",
       "      <td>0.278313</td>\n",
       "      <td>0.352020</td>\n",
       "      <td>-0.269213</td>\n",
       "      <td>2</td>\n",
       "      <td>0</td>\n",
       "      <td>1</td>\n",
       "      <td>0.824128</td>\n",
       "      <td>1</td>\n",
       "      <td>0</td>\n",
       "      <td>1</td>\n",
       "    </tr>\n",
       "    <tr>\n",
       "      <th>7469</th>\n",
       "      <td>0.385784</td>\n",
       "      <td>-0.380507</td>\n",
       "      <td>1.041028</td>\n",
       "      <td>0.464813</td>\n",
       "      <td>1</td>\n",
       "      <td>1</td>\n",
       "      <td>0</td>\n",
       "      <td>-1.118018</td>\n",
       "      <td>0</td>\n",
       "      <td>0</td>\n",
       "      <td>0</td>\n",
       "    </tr>\n",
       "    <tr>\n",
       "      <th>3467</th>\n",
       "      <td>-1.142194</td>\n",
       "      <td>0.278313</td>\n",
       "      <td>-1.370498</td>\n",
       "      <td>0.353837</td>\n",
       "      <td>2</td>\n",
       "      <td>0</td>\n",
       "      <td>1</td>\n",
       "      <td>-0.107642</td>\n",
       "      <td>1</td>\n",
       "      <td>0</td>\n",
       "      <td>0</td>\n",
       "    </tr>\n",
       "  </tbody>\n",
       "</table>\n",
       "</div>"
      ],
      "text/plain": [
       "      CreditScore       Age    Tenure   Balance  NumOfProducts  HasCrCard  \\\n",
       "5170     1.707279 -0.756975 -0.336987 -1.237830              2          1   \n",
       "4180    -0.429826 -0.286389  1.730036  0.485538              2          0   \n",
       "7349    -0.171721  0.278313  0.352020 -0.269213              2          0   \n",
       "7469     0.385784 -0.380507  1.041028  0.464813              1          1   \n",
       "3467    -1.142194  0.278313 -1.370498  0.353837              2          0   \n",
       "\n",
       "      IsActiveMember  EstimatedSalary  Geography_Germany  Geography_Spain  \\\n",
       "5170               1         0.718362                  0                0   \n",
       "4180               0         1.687305                  1                0   \n",
       "7349               1         0.824128                  1                0   \n",
       "7469               0        -1.118018                  0                0   \n",
       "3467               1        -0.107642                  1                0   \n",
       "\n",
       "      Gender_Male  \n",
       "5170            0  \n",
       "4180            1  \n",
       "7349            1  \n",
       "7469            0  \n",
       "3467            0  "
      ]
     },
     "metadata": {},
     "output_type": "display_data"
    }
   ],
   "source": [
    "print('Обучающая выборка')\n",
    "display(features_train.head())\n",
    "print()\n",
    "print('Валидационная выборка')\n",
    "display(features_valid.head())\n",
    "print()\n",
    "print('Тестовая выборка')\n",
    "display(features_test.head())"
   ]
  },
  {
   "cell_type": "code",
   "execution_count": 222,
   "metadata": {},
   "outputs": [
    {
     "name": "stdout",
     "output_type": "stream",
     "text": [
      "(5454, 5)\n",
      "(1818, 5)\n",
      "(1819, 5)\n"
     ]
    }
   ],
   "source": [
    "#check\n",
    "print(features_train[numeric].shape)\n",
    "print(features_valid[numeric].shape)\n",
    "print(features_test[numeric].shape)"
   ]
  },
  {
   "cell_type": "markdown",
   "metadata": {},
   "source": [
    "### Промежучтоный вывод:\n",
    "- удалены пропуски,\n",
    "- уделены колонки кторые не оказывают влияние на модель,\n",
    "- разделены данные на выборки: тренировчная, валидационная, тестовая,\n",
    "- проведена стадартизация численных признаков."
   ]
  },
  {
   "cell_type": "markdown",
   "metadata": {},
   "source": [
    "##  Изучение моделей без учёта дисбаланса и исследование баланса классов"
   ]
  },
  {
   "cell_type": "markdown",
   "metadata": {},
   "source": [
    "### Модели"
   ]
  },
  {
   "cell_type": "markdown",
   "metadata": {},
   "source": [
    "Факт ухода клиент   - качественный признак. Будем исследовать следующие модели:\n",
    "- Решающее дерево;\n",
    "- Случайный лес."
   ]
  },
  {
   "cell_type": "markdown",
   "metadata": {},
   "source": [
    "Прежде, чем переходить к работе, с моделями создаим две вспомогательные функции:\n",
    "- расчет основных метрик,\n",
    "- построения графиков Кривая Precision-Recall и ROC-кривая."
   ]
  },
  {
   "cell_type": "code",
   "execution_count": 223,
   "metadata": {},
   "outputs": [],
   "source": [
    "# Функция расчета метрик\n",
    "def calcmetrics(model): \n",
    "    # Посчитаем пердсказание\n",
    "    predicted_valid = model.predict(features_valid)\n",
    "    # Посчитаем Accuracy\n",
    "    accuracy_valid = accuracy_score(target_valid, predicted_valid)\n",
    "    # Посчитаем f1-меру (нужна близко к единице, по заданию не менее 0.59)\n",
    "    f1_valid = f1_score(target_valid, predicted_valid)\n",
    "    # Посчитаем полноту (хорошо когда близко единице)\n",
    "    recall_valid = recall_score(target_valid, predicted_valid)\n",
    "    # Посчитаем точность (нужна точность близкая к единице)\n",
    "    precision_valid = precision_score(target_valid, predicted_valid)\n",
    "    # Посчитаем вероятности\n",
    "    probabilities_valid = model.predict_proba(features_valid)\n",
    "    probabilities_one_valid = probabilities_valid[:, 1]\n",
    "    # Расчет AUC-ROC\n",
    "    auc_roc = roc_auc_score(target_valid, probabilities_one_valid)\n",
    "    # Вывод результатов\n",
    "    print('Accuracy модели на валидационной выборке:', accuracy_valid)\n",
    "    print('Полнота модели на валидационной выборке:',recall_valid)\n",
    "    print('Точность модели на валидационной выборке:',precision_valid)\n",
    "    print('Площадь под ROC-кривой - AUC-ROC:',auc_roc)\n",
    "    print('Значение F1-меры модели дерева на валидационной выборке:',f1_valid)\n",
    "    return"
   ]
  },
  {
   "cell_type": "code",
   "execution_count": 224,
   "metadata": {},
   "outputs": [],
   "source": [
    "# Функция постоения графиков\n",
    "def showplot(model, title): \n",
    "    probabilities_valid = model.predict_proba(features_valid)\n",
    "    probabilities_one_valid = probabilities_valid[:, 1]\n",
    "    # График Precision-Recal\n",
    "    precision, recall, thresholds = precision_recall_curve(target_valid, probabilities_one_valid)\n",
    "    # График ROC-кривой\n",
    "    fpr, tpr, thresholds = roc_curve(target_valid, probabilities_one_valid)\n",
    "    # Построение графиков\n",
    "    plt.figure(figsize=(14, 6))\n",
    "    plt.subplot(1, 2, 1)\n",
    "    plt.step(recall, precision, where='post')\n",
    "    plt.xlabel('Recall')\n",
    "    plt.ylabel('Precision')\n",
    "    plt.ylim([0.0, 1.05])\n",
    "    plt.xlim([0.0, 1.0])\n",
    "    plt.title('Кривая Precision-Recall')\n",
    "    \n",
    "    plt.subplot(1, 2, 2)\n",
    "    plt.plot(fpr, tpr)\n",
    "    plt.plot([0, 1], [0, 1], linestyle='--')\n",
    "    plt.xlabel('False Positive Rate')\n",
    "    plt.ylabel('True Positive Rate')\n",
    "    plt.ylim([0.0, 1.05])\n",
    "    plt.xlim([0.0, 1.0])\n",
    "    plt.title('ROC-кривая')\n",
    "    plt.suptitle(title)\n",
    "    plt.show()\n",
    "\n",
    "    return"
   ]
  },
  {
   "cell_type": "markdown",
   "metadata": {},
   "source": [
    "#### Модель решающего дерева"
   ]
  },
  {
   "cell_type": "code",
   "execution_count": 225,
   "metadata": {},
   "outputs": [
    {
     "name": "stdout",
     "output_type": "stream",
     "text": [
      "Глубина наилучшей модели решающего дерева на валидационной выборке: 7\n"
     ]
    }
   ],
   "source": [
    "model_tree = None\n",
    "best_depth = 0\n",
    "best_result_tree = 0\n",
    "\n",
    "for depth in range(1,20):\n",
    "    model = DecisionTreeClassifier(random_state=12345, max_depth=depth)\n",
    "    # обучим модель\n",
    "    model.fit(features_train, target_train)\n",
    "    # получим предсказание модели\n",
    "    predictions_valid = model.predict(features_valid)\n",
    "    # посчитаем качество модели на валидационной выборке\n",
    "    result = f1_score(target_valid, predictions_valid)\n",
    "    if result > best_result_tree:\n",
    "        # сохраним наилучшую модель\n",
    "        model_tree = model\n",
    "        #  сохраниим наилучшее значение метрики accuracy на валидационных данных\n",
    "        best_result_tree = result \n",
    "        #  сохраниим наилучшее значение глубины\n",
    "        best_depth = depth \n",
    "print(\"Глубина наилучшей модели решающего дерева на валидационной выборке:\", best_depth)"
   ]
  },
  {
   "cell_type": "code",
   "execution_count": 227,
   "metadata": {},
   "outputs": [
    {
     "name": "stdout",
     "output_type": "stream",
     "text": [
      "Accuracy модели на валидационной выборке: 0.8536853685368537\n",
      "Полнота модели на валидационной выборке: 0.48010610079575594\n",
      "Точность модели на валидационной выборке: 0.7211155378486056\n",
      "Площадь под ROC-кривой - AUC-ROC: 0.8346049843812412\n",
      "Значение F1-меры модели дерева на валидационной выборке: 0.5764331210191083\n"
     ]
    }
   ],
   "source": [
    "# Расчитаем основыне метрики \n",
    "calcmetrics(model_tree)"
   ]
  },
  {
   "cell_type": "code",
   "execution_count": 228,
   "metadata": {},
   "outputs": [
    {
     "name": "stdout",
     "output_type": "stream",
     "text": [
      "\n",
      "Accuracy модели на валидационной выборке: 0.8536853685368537\n",
      "Полнота модели на валидационной выборке: 0.48010610079575594\n",
      "Точность модели на валидационной выборке: 0.7211155378486056\n",
      "Площадь под ROC-кривой - AUC-ROC: 0.8346049843812412\n",
      "Значение F1-меры модели дерева на валидационной выборке: 0.5764331210191083\n",
      "\n"
     ]
    },
    {
     "data": {
      "image/png": "[encoded data removed]",
      "text/plain": [
       "<Figure size 1008x432 with 2 Axes>"
      ]
     },
     "metadata": {
      "needs_background": "light"
     },
     "output_type": "display_data"
    }
   ],
   "source": [
    "print()\n",
    "calcmetrics(model_tree)\n",
    "print()\n",
    "showplot(model_tree, 'Модель решающего дерева без учета баланса')"
   ]
  },
  {
   "cell_type": "markdown",
   "metadata": {},
   "source": [
    "#### Модель решающего леса"
   ]
  },
  {
   "cell_type": "code",
   "execution_count": 229,
   "metadata": {},
   "outputs": [
    {
     "name": "stdout",
     "output_type": "stream",
     "text": [
      "Наилучший результат метрики f1 модели леса на валидационной выборке: 0.5866666666666667\n",
      "Глубина наилучшей модели леса на валидационной выборке: 14\n",
      "Количество деревьев модели леса на валидационной выборке: 40\n"
     ]
    }
   ],
   "source": [
    "model_forest = None\n",
    "best_result_forest = 0\n",
    "best_est_forest = 0\n",
    "best_depth_forest = 0\n",
    "for est in range(10, 100, 10):\n",
    "    for depth in range (1, 16):\n",
    "        model =  RandomForestClassifier(random_state=12345, n_estimators=est, max_depth=depth)\n",
    "        model.fit(features_train, target_train)\n",
    "        predictions_valid = model.predict(features_valid)\n",
    "        # посчитаем качество модели на валидационной выборке\n",
    "        result = f1_score(target_valid, predictions_valid)\n",
    "        if result > best_result_forest:\n",
    "            model_forest = model\n",
    "            best_result_forest = result\n",
    "            best_est_forest = est\n",
    "            best_depth_forest = depth\n",
    "print(\"Наилучший результат метрики f1 модели леса на валидационной выборке:\", best_result_forest)           \n",
    "print(\"Глубина наилучшей модели леса на валидационной выборке:\", best_depth_forest)\n",
    "print(\"Количество деревьев модели леса на валидационной выборке:\", best_est_forest)\n"
   ]
  },
  {
   "cell_type": "code",
   "execution_count": 230,
   "metadata": {},
   "outputs": [
    {
     "name": "stdout",
     "output_type": "stream",
     "text": [
      "\n",
      "Accuracy модели на валидационной выборке: 0.8635863586358636\n",
      "Полнота модели на валидационной выборке: 0.46684350132625996\n",
      "Точность модели на валидационной выборке: 0.7892376681614349\n",
      "Площадь под ROC-кривой - AUC-ROC: 0.8558039749142671\n",
      "Значение F1-меры модели дерева на валидационной выборке: 0.5866666666666667\n",
      "\n"
     ]
    },
    {
     "data": {
      "image/png": "[encoded data removed]",
      "text/plain": [
       "<Figure size 1008x432 with 2 Axes>"
      ]
     },
     "metadata": {
      "needs_background": "light"
     },
     "output_type": "display_data"
    }
   ],
   "source": [
    "print()\n",
    "calcmetrics(model_forest)\n",
    "print()\n",
    "showplot(model_forest, 'Модель случайного леса без учета баланса')"
   ]
  },
  {
   "cell_type": "markdown",
   "metadata": {},
   "source": [
    "### Исследование дисбаланса классов"
   ]
  },
  {
   "cell_type": "markdown",
   "metadata": {},
   "source": [
    "Классы несбалансированны, когда их соотношение далеко от 1:1. Баланс классов наблюдается, если их количество примерно равно."
   ]
  },
  {
   "cell_type": "code",
   "execution_count": 231,
   "metadata": {},
   "outputs": [
    {
     "name": "stdout",
     "output_type": "stream",
     "text": [
      "0    0.796062\n",
      "1    0.203938\n",
      "Name: Exited, dtype: float64\n"
     ]
    },
    {
     "data": {
      "text/plain": [
       "<AxesSubplot:>"
      ]
     },
     "execution_count": 231,
     "metadata": {},
     "output_type": "execute_result"
    },
    {
     "data": {
      "image/png": "[encoded data removed]",
      "text/plain": [
       "<Figure size 432x288 with 1 Axes>"
      ]
     },
     "metadata": {
      "needs_background": "light"
     },
     "output_type": "display_data"
    }
   ],
   "source": [
    "class_frequency = data['Exited'].value_counts(normalize=True)\n",
    "print(class_frequency)\n",
    "class_frequency.plot(kind='bar')"
   ]
  },
  {
   "cell_type": "markdown",
   "metadata": {},
   "source": [
    "Виден дисбаланс классов."
   ]
  },
  {
   "cell_type": "markdown",
   "metadata": {},
   "source": [
    "### Промежуточный вывод:"
   ]
  },
  {
   "cell_type": "markdown",
   "metadata": {},
   "source": [
    "1. Для исследования данных были выбраны 2 модели: решающего дерева и решающего леса.\n",
    "2. Для каждой модели были подобраны гиперпараметры обеспечивающие максимальое значение F1-меры. Для модели дерева он составил 0,57, для модели леса 0,586.\n",
    "3. Наблюдается явный дисбаланс классов, который надо учесть при дальнейшем исследовании."
   ]
  },
  {
   "cell_type": "markdown",
   "metadata": {},
   "source": [
    "## Борьба с дисбалансом"
   ]
  },
  {
   "cell_type": "markdown",
   "metadata": {},
   "source": [
    "### Взвешивание классов"
   ]
  },
  {
   "cell_type": "markdown",
   "metadata": {},
   "source": [
    "Придадим объектам редкого класса больший вес. Добавим аргумент class_weight=='balanced', который есть у решающего дерева и случайного леса."
   ]
  },
  {
   "cell_type": "markdown",
   "metadata": {},
   "source": [
    "#### Модель решающего дерева"
   ]
  },
  {
   "cell_type": "code",
   "execution_count": 232,
   "metadata": {},
   "outputs": [
    {
     "name": "stdout",
     "output_type": "stream",
     "text": [
      "Глубина наилучшей модели решающего дерева на валидационной выборке: 5\n",
      "Показатель F1 модели на валидационной выборке: 0.5735449735449736\n"
     ]
    }
   ],
   "source": [
    "model_tree_balanced = None\n",
    "best_depth_balanced = 0\n",
    "best_result_tree_balanced = 0\n",
    "\n",
    "for depth in range(1,20):\n",
    "    model = DecisionTreeClassifier(random_state=12345, max_depth=depth, class_weight='balanced')\n",
    "    model.fit(features_train, target_train)\n",
    "    predictions_valid = model.predict(features_valid)\n",
    "    result = f1_score(target_valid, predictions_valid)\n",
    "    if result > best_result_tree_balanced:\n",
    "        model_tree_balanced = model\n",
    "        best_result_tree_balanced = result \n",
    "        best_depth_balanced = depth \n",
    "print(\"Глубина наилучшей модели решающего дерева на валидационной выборке:\", best_depth_balanced)\n",
    "print('Показатель F1 модели на валидационной выборке:',best_result_tree_balanced)"
   ]
  },
  {
   "cell_type": "code",
   "execution_count": 233,
   "metadata": {},
   "outputs": [
    {
     "name": "stdout",
     "output_type": "stream",
     "text": [
      "\n",
      "Accuracy модели на валидационной выборке: 0.7783278327832783\n",
      "Полнота модели на валидационной выборке: 0.7188328912466844\n",
      "Точность модели на валидационной выборке: 0.477112676056338\n",
      "Площадь под ROC-кривой - AUC-ROC: 0.8396523192522141\n",
      "Значение F1-меры модели дерева на валидационной выборке: 0.5735449735449736\n",
      "\n"
     ]
    },
    {
     "data": {
      "image/png": "[encoded data removed]",
      "text/plain": [
       "<Figure size 1008x432 with 2 Axes>"
      ]
     },
     "metadata": {
      "needs_background": "light"
     },
     "output_type": "display_data"
    }
   ],
   "source": [
    "print()\n",
    "calcmetrics(model_tree_balanced)\n",
    "print()\n",
    "showplot(model_tree_balanced, 'Модель решающего дерева с сбалансированными классами')"
   ]
  },
  {
   "cell_type": "markdown",
   "metadata": {},
   "source": [
    "#### Модель случайного леса"
   ]
  },
  {
   "cell_type": "code",
   "execution_count": 234,
   "metadata": {},
   "outputs": [
    {
     "name": "stdout",
     "output_type": "stream",
     "text": [
      "Наилучший результат метрики f1 модели леса на валидационной выборке: 0.6497584541062802\n",
      "Глубина наилучшей модели леса на валидационной выборке: 9\n",
      "Количество деревьев модели леса на валидационной выборке: 10\n"
     ]
    }
   ],
   "source": [
    "model_forest_balanced = None\n",
    "best_result_forest_balanced = 0\n",
    "best_est_forest_balanced = 0\n",
    "best_depth_forest_balanced = 0\n",
    "for est in range(10, 100, 10):\n",
    "    for depth in range (1, 16):\n",
    "        model =  RandomForestClassifier(random_state=12345, n_estimators=est, max_depth=depth, class_weight='balanced')\n",
    "        model.fit(features_train, target_train)\n",
    "        predictions_valid = model.predict(features_valid)\n",
    "        # посчитаем качество модели на валидационной выборке\n",
    "        result = f1_score(target_valid, predictions_valid)\n",
    "        if result > best_result_forest_balanced:\n",
    "            model_forest_balanced = model\n",
    "            best_result_forest_balanced = result\n",
    "            best_est_forest_balanced = est\n",
    "            best_depth_forest_balanced = depth\n",
    "print(\"Наилучший результат метрики f1 модели леса на валидационной выборке:\", best_result_forest_balanced)           \n",
    "print(\"Глубина наилучшей модели леса на валидационной выборке:\", best_depth_forest_balanced)\n",
    "print(\"Количество деревьев модели леса на валидационной выборке:\", best_est_forest_balanced)"
   ]
  },
  {
   "cell_type": "code",
   "execution_count": 235,
   "metadata": {},
   "outputs": [
    {
     "name": "stdout",
     "output_type": "stream",
     "text": [
      "\n",
      "Accuracy модели на валидационной выборке: 0.8404840484048405\n",
      "Полнота модели на валидационной выборке: 0.713527851458886\n",
      "Точность модели на валидационной выборке: 0.5964523281596452\n",
      "Площадь под ROC-кривой - AUC-ROC: 0.8690573706367336\n",
      "Значение F1-меры модели дерева на валидационной выборке: 0.6497584541062802\n",
      "\n"
     ]
    },
    {
     "data": {
      "image/png": "[encoded data removed]",
      "text/plain": [
       "<Figure size 1008x432 with 2 Axes>"
      ]
     },
     "metadata": {
      "needs_background": "light"
     },
     "output_type": "display_data"
    }
   ],
   "source": [
    "print()\n",
    "calcmetrics(model_forest_balanced)\n",
    "print()\n",
    "showplot(model_forest_balanced, 'Модель решающего леса со взвешенными классами')"
   ]
  },
  {
   "cell_type": "markdown",
   "metadata": {},
   "source": [
    "#### Промежуточный вывод:\n",
    "- После того, как веса классов были сбалансированы, на модели дерева значение f1 принципиально не изменились;\n",
    "- Для модели леса значение F1-меры превысило значение 0,65."
   ]
  },
  {
   "cell_type": "markdown",
   "metadata": {},
   "source": [
    "### Увеличение выборки"
   ]
  },
  {
   "cell_type": "markdown",
   "metadata": {},
   "source": [
    "Произведем увеличение выборки"
   ]
  },
  {
   "cell_type": "code",
   "execution_count": 236,
   "metadata": {},
   "outputs": [
    {
     "name": "stdout",
     "output_type": "stream",
     "text": [
      "(9091, 11)\n",
      "(9091,)\n",
      "(7237, 11)\n",
      "(1854, 11)\n",
      "(7237,)\n",
      "(1854,)\n"
     ]
    }
   ],
   "source": [
    "# check\n",
    "print(features.shape)\n",
    "print(target.shape)\n",
    "\n",
    "features_zeros = features[target == 0]\n",
    "features_ones = features[target == 1]\n",
    "target_zeros = target[target == 0]\n",
    "target_ones = target[target == 1]\n",
    "\n",
    "print(features_zeros.shape)\n",
    "print(features_ones.shape)\n",
    "print(target_zeros.shape)\n",
    "print(target_ones.shape)"
   ]
  },
  {
   "cell_type": "markdown",
   "metadata": {},
   "source": [
    "Положительных ответов больше отрицательных в 4 раза. "
   ]
  },
  {
   "cell_type": "code",
   "execution_count": 237,
   "metadata": {},
   "outputs": [],
   "source": [
    "def upsample(features, target, repeat):\n",
    "    features_zeros = features[target == 0]\n",
    "    features_ones = features[target == 1]\n",
    "    target_zeros = target[target == 0]\n",
    "    target_ones = target[target == 1]\n",
    "\n",
    "    features_upsampled = pd.concat([features_zeros] + [features_ones] * repeat)\n",
    "    target_upsampled = pd.concat([target_zeros] + [target_ones] * repeat)\n",
    "    \n",
    "    features_upsampled, target_upsampled = shuffle(\n",
    "        features_upsampled, target_upsampled, random_state=12345)\n",
    "    \n",
    "    return features_upsampled, target_upsampled\n",
    "\n",
    "features_upsampled, target_upsampled = upsample(features_train, target_train, 4)"
   ]
  },
  {
   "cell_type": "code",
   "execution_count": 238,
   "metadata": {},
   "outputs": [
    {
     "name": "stdout",
     "output_type": "stream",
     "text": [
      "(8832, 11)\n",
      "(8832,)\n"
     ]
    }
   ],
   "source": [
    "#check\n",
    "print(features_upsampled.shape)\n",
    "print(target_upsampled.shape)"
   ]
  },
  {
   "cell_type": "markdown",
   "metadata": {},
   "source": [
    "#### Модель решающего дерева"
   ]
  },
  {
   "cell_type": "code",
   "execution_count": 239,
   "metadata": {},
   "outputs": [
    {
     "name": "stdout",
     "output_type": "stream",
     "text": [
      "Глубина наилучшей модели решающего дерева на валидационной выборке: 5\n",
      "Значение F1-меры модели на валидационной выборке: 0.5735449735449736\n"
     ]
    }
   ],
   "source": [
    "model_tree_upsampled = None\n",
    "best_depth_upsampled = 0\n",
    "best_result_tree_upsampled = 0\n",
    "for depth in range(1,20):\n",
    "    model = DecisionTreeClassifier(random_state=12345, max_depth=depth)\n",
    "    # обучим модель на увеличенной выборке\n",
    "    model.fit(features_upsampled, target_upsampled)\n",
    "    predictions_valid = model.predict(features_valid)\n",
    "    result = f1_score(target_valid, predictions_valid)\n",
    "    if result > best_result_tree_upsampled:\n",
    "        model_tree_upsampled = model\n",
    "        best_result_tree_upsampled = result \n",
    "        best_depth_upsampled = depth \n",
    "print(\"Глубина наилучшей модели решающего дерева на валидационной выборке:\", best_depth_upsampled)\n",
    "print('Значение F1-меры модели на валидационной выборке:',best_result_tree_upsampled)"
   ]
  },
  {
   "cell_type": "code",
   "execution_count": 240,
   "metadata": {},
   "outputs": [
    {
     "name": "stdout",
     "output_type": "stream",
     "text": [
      "\n",
      "Accuracy модели на валидационной выборке: 0.7783278327832783\n",
      "Полнота модели на валидационной выборке: 0.7188328912466844\n",
      "Точность модели на валидационной выборке: 0.477112676056338\n",
      "Площадь под ROC-кривой - AUC-ROC: 0.8396523192522141\n",
      "Значение F1-меры модели дерева на валидационной выборке: 0.5735449735449736\n",
      "\n"
     ]
    },
    {
     "data": {
      "image/png": "[encoded data removed]",
      "text/plain": [
       "<Figure size 1008x432 with 2 Axes>"
      ]
     },
     "metadata": {
      "needs_background": "light"
     },
     "output_type": "display_data"
    }
   ],
   "source": [
    "print()\n",
    "calcmetrics(model_tree_upsampled)\n",
    "print()\n",
    "showplot(model_tree_upsampled, 'Модель решающего дерева на увеличенной выборке')"
   ]
  },
  {
   "cell_type": "markdown",
   "metadata": {},
   "source": [
    "#### Модель случайного леса"
   ]
  },
  {
   "cell_type": "code",
   "execution_count": 241,
   "metadata": {},
   "outputs": [
    {
     "name": "stdout",
     "output_type": "stream",
     "text": [
      "Наилучший результат метрики f1 модели леса на валидационной выборке: 0.6395663956639566\n",
      "Глубина наилучшей модели леса на валидационной выборке: 14\n",
      "Количество деревьев модели леса на валидационной выборке: 80\n"
     ]
    }
   ],
   "source": [
    "model_forest_upsampled = None\n",
    "best_result_forest_upsampled= 0\n",
    "best_est_forest_upsampled = 0\n",
    "best_depth_forest_upsampled = 0\n",
    "for est in range(10, 100, 10):\n",
    "    for depth in range (1, 16):\n",
    "        model =  RandomForestClassifier(random_state=12345, n_estimators=est, max_depth=depth)\n",
    "        model.fit(features_upsampled, target_upsampled)\n",
    "        predictions_valid = model.predict(features_valid)\n",
    "        # посчитаем качество модели на валидационной выборке\n",
    "        result = f1_score(target_valid, predictions_valid)\n",
    "        if result > best_result_forest_upsampled:\n",
    "            model_forest_upsampled = model\n",
    "            best_result_forest_upsampled = result\n",
    "            best_est_forest_upsampled = est\n",
    "            best_depth_forest_upsampled = depth\n",
    "print(\"Наилучший результат метрики f1 модели леса на валидационной выборке:\", best_result_forest_upsampled)           \n",
    "print(\"Глубина наилучшей модели леса на валидационной выборке:\", best_depth_forest_upsampled)\n",
    "print(\"Количество деревьев модели леса на валидационной выборке:\", best_est_forest_upsampled)"
   ]
  },
  {
   "cell_type": "code",
   "execution_count": 242,
   "metadata": {},
   "outputs": [
    {
     "name": "stdout",
     "output_type": "stream",
     "text": [
      "\n",
      "Accuracy модели на валидационной выборке: 0.8536853685368537\n",
      "Полнота модели на валидационной выборке: 0.6259946949602122\n",
      "Точность модели на валидационной выборке: 0.6537396121883656\n",
      "Площадь под ROC-кривой - AUC-ROC: 0.8614108976046326\n",
      "Значение F1-меры модели дерева на валидационной выборке: 0.6395663956639566\n",
      "\n"
     ]
    },
    {
     "data": {
      "image/png": "[encoded data removed]",
      "text/plain": [
       "<Figure size 1008x432 with 2 Axes>"
      ]
     },
     "metadata": {
      "needs_background": "light"
     },
     "output_type": "display_data"
    }
   ],
   "source": [
    "print()\n",
    "calcmetrics(model_forest_upsampled)\n",
    "print()\n",
    "showplot(model_forest_upsampled, 'Модель решающего леса на увеличенной выборке')"
   ]
  },
  {
   "cell_type": "markdown",
   "metadata": {},
   "source": [
    "#### Промежуточный вывод:"
   ]
  },
  {
   "cell_type": "markdown",
   "metadata": {},
   "source": [
    "На увеличенных выборках модели показали следующие результаты:\n",
    "- модель дерева без значительных изменений,\n",
    "- модель леса увеличение f1 до 0,64."
   ]
  },
  {
   "cell_type": "markdown",
   "metadata": {},
   "source": [
    "### Уменьшение выборки"
   ]
  },
  {
   "cell_type": "markdown",
   "metadata": {},
   "source": [
    "Уменьшим выборки:"
   ]
  },
  {
   "cell_type": "code",
   "execution_count": 243,
   "metadata": {},
   "outputs": [],
   "source": [
    "def downsample(features, target, fraction):\n",
    "    features_zeros = features[target == 0]\n",
    "    features_ones = features[target == 1]\n",
    "    target_zeros = target[target == 0]\n",
    "    target_ones = target[target == 1]\n",
    "\n",
    "    features_downsampled = pd.concat(\n",
    "        [features_zeros.sample(frac=fraction, random_state=12345)] + [features_ones])\n",
    "    target_downsampled = pd.concat(\n",
    "        [target_zeros.sample(frac=fraction, random_state=12345)] + [target_ones])\n",
    "    \n",
    "    features_downsampled, target_downsampled = shuffle(\n",
    "        features_downsampled, target_downsampled, random_state=12345)\n",
    "    \n",
    "    return features_downsampled, target_downsampled\n",
    "\n",
    "features_downsampled, target_downsampled = downsample(features_train, target_train, 0.1) "
   ]
  },
  {
   "cell_type": "code",
   "execution_count": 244,
   "metadata": {},
   "outputs": [
    {
     "name": "stdout",
     "output_type": "stream",
     "text": [
      "(1559, 11)\n",
      "(1559,)\n"
     ]
    }
   ],
   "source": [
    "#check    \n",
    "print(features_downsampled.shape)\n",
    "print(target_downsampled.shape)"
   ]
  },
  {
   "cell_type": "markdown",
   "metadata": {},
   "source": [
    "#### Модель решающего дерева"
   ]
  },
  {
   "cell_type": "code",
   "execution_count": 245,
   "metadata": {},
   "outputs": [
    {
     "name": "stdout",
     "output_type": "stream",
     "text": [
      "Глубина наилучшей модели решающего дерева на валидационной выборке: 5\n",
      "Значение F1-меры модели на валидационной выборке: 0.5149884704073789\n"
     ]
    }
   ],
   "source": [
    "model_tree_downsampled = None\n",
    "best_depth_downsampled = 0\n",
    "best_result_tree_downsampled = 0\n",
    "\n",
    "for depth in range(1,10):\n",
    "    model = DecisionTreeClassifier(random_state=12345, max_depth=depth)\n",
    "    # обучим модель на новых данных\n",
    "    model.fit(features_downsampled, target_downsampled)\n",
    "    predictions_valid = model.predict(features_valid)\n",
    "    result = f1_score(target_valid, predictions_valid)\n",
    "    if result > best_result_tree_downsampled:\n",
    "        model_tree_downsampled = model\n",
    "        best_result_tree_downsampled = result \n",
    "        best_depth_downsampled = depth \n",
    "print(\"Глубина наилучшей модели решающего дерева на валидационной выборке:\", best_depth_downsampled)\n",
    "print('Значение F1-меры модели на валидационной выборке:',best_result_tree_downsampled)"
   ]
  },
  {
   "cell_type": "code",
   "execution_count": 246,
   "metadata": {},
   "outputs": [
    {
     "name": "stdout",
     "output_type": "stream",
     "text": [
      "\n",
      "Accuracy модели на валидационной выборке: 0.652915291529153\n",
      "Полнота модели на валидационной выборке: 0.8885941644562334\n",
      "Точность модели на валидационной выборке: 0.3625541125541126\n",
      "Площадь под ROC-кривой - AUC-ROC: 0.8305626986858891\n",
      "Значение F1-меры модели дерева на валидационной выборке: 0.5149884704073789\n",
      "\n"
     ]
    },
    {
     "data": {
      "image/png": "[encoded data removed]",
      "text/plain": [
       "<Figure size 1008x432 with 2 Axes>"
      ]
     },
     "metadata": {
      "needs_background": "light"
     },
     "output_type": "display_data"
    }
   ],
   "source": [
    "print()\n",
    "calcmetrics(model_tree_downsampled)\n",
    "print()\n",
    "showplot(model_tree_downsampled, 'Модель решающего дерева на уменьшненной выборке')"
   ]
  },
  {
   "cell_type": "markdown",
   "metadata": {},
   "source": [
    "#### Модель случайного леса"
   ]
  },
  {
   "cell_type": "code",
   "execution_count": 247,
   "metadata": {},
   "outputs": [
    {
     "name": "stdout",
     "output_type": "stream",
     "text": [
      "Наилучший результат метрики f1 модели леса на валидационной выборке: 0.48305695746214855\n",
      "Глубина наилучшей модели леса на валидационной выборке: 15\n",
      "Количество деревьев модели леса на валидационной выборке: 10\n"
     ]
    }
   ],
   "source": [
    "model_forest_downsampled = None\n",
    "best_result_forest_downsampled= 0\n",
    "best_est_forest_downsampled = 0\n",
    "best_depth_forest_downsampled = 0\n",
    "for est in range(10, 100, 10):\n",
    "    for depth in range (1, 16):\n",
    "        model =  RandomForestClassifier(random_state=12345, n_estimators=est, max_depth=depth)\n",
    "        model.fit(features_downsampled, target_downsampled)\n",
    "        predictions_valid = model.predict(features_valid)\n",
    "        # посчитаем качество модели на валидационной выборке\n",
    "        result = f1_score(target_valid, predictions_valid)\n",
    "        if result > best_result_forest_downsampled:\n",
    "            model_forest_downsampled = model\n",
    "            best_result_forest_downsampled = result\n",
    "            best_est_forest_downsampled = est\n",
    "            best_depth_forest_downsampled = depth\n",
    "print(\"Наилучший результат метрики f1 модели леса на валидационной выборке:\", best_result_forest_downsampled)           \n",
    "print(\"Глубина наилучшей модели леса на валидационной выборке:\", best_depth_forest_downsampled)\n",
    "print(\"Количество деревьев модели леса на валидационной выборке:\", best_est_forest_downsampled)"
   ]
  },
  {
   "cell_type": "code",
   "execution_count": 249,
   "metadata": {},
   "outputs": [
    {
     "name": "stdout",
     "output_type": "stream",
     "text": [
      "\n",
      "Accuracy модели на валидационной выборке: 0.6056105610561056\n",
      "Полнота модели на валидационной выборке: 0.8885941644562334\n",
      "Точность модели на валидационной выборке: 0.3316831683168317\n",
      "Площадь под ROC-кривой - AUC-ROC: 0.8186861835190342\n",
      "Значение F1-меры модели дерева на валидационной выборке: 0.48305695746214855\n",
      "\n"
     ]
    },
    {
     "data": {
      "image/png": "[encoded data removed]",
      "text/plain": [
       "<Figure size 1008x432 with 2 Axes>"
      ]
     },
     "metadata": {
      "needs_background": "light"
     },
     "output_type": "display_data"
    }
   ],
   "source": [
    "print()\n",
    "calcmetrics(model_forest_downsampled)\n",
    "print()\n",
    "showplot(model_forest_downsampled, 'Модель решающего леса с уменьшенной выборкой')"
   ]
  },
  {
   "cell_type": "markdown",
   "metadata": {},
   "source": [
    "#### Промежуточный вывод:"
   ]
  },
  {
   "cell_type": "markdown",
   "metadata": {},
   "source": [
    "- На уменьшиных выборках модели показали снижение значения F1-меры,\n",
    "- Модели стали более сбаланированны,\n",
    "- Модели получились не дообученными."
   ]
  },
  {
   "cell_type": "markdown",
   "metadata": {},
   "source": [
    "### Изменение порога классификации"
   ]
  },
  {
   "cell_type": "markdown",
   "metadata": {},
   "source": [
    "#### Модель решающего дерева"
   ]
  },
  {
   "cell_type": "markdown",
   "metadata": {},
   "source": [
    "Для исследования возьмем первоначальную модель дерева model_tree (см. п.п. 2.1.1)"
   ]
  },
  {
   "cell_type": "code",
   "execution_count": 250,
   "metadata": {},
   "outputs": [
    {
     "name": "stdout",
     "output_type": "stream",
     "text": [
      "Порог 0.4\n",
      "Показатель AUC-ROC: 0.8346049843812412\n",
      "Максимальное значение метрики f1: 0.5923753665689151\n"
     ]
    }
   ],
   "source": [
    "tree_f1=0\n",
    "tree_threshold=0\n",
    "tree_auc_roc=0\n",
    "\n",
    "for threshold in np.arange(0, 1, 0.05):\n",
    "    predicted_valid = probabilities_one_valid_tree > threshold\n",
    "    precision = precision_score(target_valid, predicted_valid)\n",
    "    recall = recall_score(target_valid, predicted_valid)\n",
    "    f1 = f1_score(target_valid, predicted_valid)\n",
    "    auc_roc = roc_auc_score(target_valid, probabilities_one_valid_tree)\n",
    "    if f1>forest_f1:\n",
    "        tree_f1=f1\n",
    "        tree_threshold = threshold\n",
    "        tree_auc_roc = auc_roc  \n",
    "print('Порог', forest_threshold)\n",
    "print('Показатель AUC-ROC:', tree_auc_roc)\n",
    "precision_valid_tree = probabilities_one_valid_tree > forest_threshold\n",
    "print(f'Максимальное значение метрики f1: {f1_score(target_valid, precision_valid_tree)}')"
   ]
  },
  {
   "cell_type": "markdown",
   "metadata": {},
   "source": [
    "Изменение порога привело к увеличению метрики F1 до нужно уровня 0,59."
   ]
  },
  {
   "cell_type": "markdown",
   "metadata": {},
   "source": [
    "#### Модель случайного леса"
   ]
  },
  {
   "cell_type": "markdown",
   "metadata": {},
   "source": [
    "Для исследования возьмем первоначальную модель случацного лес model_forest (см. п.п. 2.1.2)"
   ]
  },
  {
   "cell_type": "code",
   "execution_count": 251,
   "metadata": {},
   "outputs": [
    {
     "name": "stdout",
     "output_type": "stream",
     "text": [
      "Порог 0.4\n",
      "Показатель AUC-ROC: 0.8489204925109112\n",
      "Максимальное значение метрики f1: 0.6057971014492755\n"
     ]
    }
   ],
   "source": [
    "forest_f1 = 0\n",
    "forest_threshold = 0\n",
    "forest_auc_roc = 0\n",
    "\n",
    "for threshold in np.arange(0, 1, 0.05):\n",
    "    predicted_valid = probabilities_one_valid_forest > threshold\n",
    "    precision = precision_score(target_valid, predicted_valid)\n",
    "    recall = recall_score(target_valid, predicted_valid)\n",
    "#     print(\"Порог = {:.2f} | Точность = {:.3f}, Полнота = {:.3f}\".format(threshold, precision, recall))\n",
    "    f1 = f1_score(target_valid, predicted_valid)\n",
    "    auc_roc = roc_auc_score(target_valid, probabilities_one_valid_forest)\n",
    "    if f1>forest_f1:\n",
    "        forest_f1=f1\n",
    "        forest_threshold = threshold\n",
    "        forest_auc_roc = auc_roc    \n",
    "print('Порог', forest_threshold)\n",
    "print('Показатель AUC-ROC:', auc_roc_forest)\n",
    "precision_valid_forest = probabilities_one_valid_forest > forest_threshold\n",
    "# вывод результата\n",
    "print(f'Максимальное значение метрики f1: {f1_score(target_valid, precision_valid_forest)}')"
   ]
  },
  {
   "cell_type": "markdown",
   "metadata": {},
   "source": [
    "Изменение порога привело к увеличению метрики F1 до нужно уровня > 0,59."
   ]
  },
  {
   "cell_type": "markdown",
   "metadata": {},
   "source": [
    "#### Промежуточный вывод"
   ]
  },
  {
   "cell_type": "markdown",
   "metadata": {},
   "source": [
    "Промежуточный вывод:\n",
    "- Измененте порога позволило улучшить показатель f1-меры для обеих моделей до величины > 0,59: дерево f1=0,592, лес f1=0,606."
   ]
  },
  {
   "cell_type": "markdown",
   "metadata": {},
   "source": [
    "## Тестирование модели"
   ]
  },
  {
   "cell_type": "markdown",
   "metadata": {},
   "source": [
    "Наилучший результат показала модель случайного леса со взвешенными классами model_forest_balanced с показателем f1=0,64. На этой моделе будем проводить тестирование на тестовой выборке."
   ]
  },
  {
   "cell_type": "code",
   "execution_count": 252,
   "metadata": {},
   "outputs": [
    {
     "name": "stdout",
     "output_type": "stream",
     "text": [
      "Площадь под ROC-кривой - AUC-ROC на тестовой выборке: 0.8450291886940389\n",
      "Значение F1-меры сбалансированной модели на тестовой выборке 0.5936675461741425\n"
     ]
    }
   ],
   "source": [
    "# получим предсказание модели случацного леса на тестовой выборке\n",
    "predictions_forest_test_balanced = model_forest_balanced.predict(features_test)\n",
    "# посчитаем качество модели случацного леса на тестовой выборке\n",
    "f1_test_forest_balanced = f1_score(target_test,predictions_forest_test_balanced)\n",
    "\n",
    "probabilities_valid_forest_balanced = model_forest_balanced.predict_proba(features_test)\n",
    "probabilities_one_valid_forest_balanced = probabilities_valid_forest_balanced[:, 1]\n",
    "# расчет AUC-ROC\n",
    "auc_roc_forest_balanced = roc_auc_score(target_test, probabilities_one_valid_forest_balanced)\n",
    "# вывод результата\n",
    "print('Площадь под ROC-кривой - AUC-ROC на тестовой выборке:',auc_roc_forest_balanced)\n",
    "print('Значение F1-меры сбалансированной модели на тестовой выборке',f1_test_forest_balanced)"
   ]
  },
  {
   "cell_type": "markdown",
   "metadata": {},
   "source": [
    "Результат достигнут!"
   ]
  },
  {
   "cell_type": "markdown",
   "metadata": {},
   "source": [
    "## Выводы"
   ]
  },
  {
   "cell_type": "markdown",
   "metadata": {},
   "source": [
    "Входе выполнения данной работы были проведены следующие исследования и полученны соотвествующие результаты:\n",
    "1. Подготовка и обзор данных:\n",
    "    - заполнение пропусков,\n",
    "    - удаление строк и столбцов не нужных при исследовании.\n",
    "2. Изучены две модели без учета дисбаланса со следующимим результатами:\n",
    "    - Модель решающего леса, с результатом F1 = 0,57;\n",
    "    - Модель случайного леса, с результатом F1 = 0,586;\n",
    "    - Изучень дисбаланс классов.\n",
    "3. Был учтен дисбаланс, примененно несколько способов борьбы с ним, а именно:\n",
    "    - Взевшивание классов:\n",
    "        - После того как веса классов были сбалансированы на обоих моделях значание F1-меры выросли и стали больше 0,59;\n",
    "        - Для модели леса значение F1-меры выросло до 0,64.\n",
    "    - Увеличение выборки:\n",
    "        - Увеличение выборки привело к увеличение f1 модели леса до 0,64.\n",
    "    - Уменьшение выборки:\n",
    "        - Уменьшение выборки привело к снижению качество модели.\n",
    "    - Изменение порога:   \n",
    "        - Изменение порога позволило улучшить показатель f1-меры для обеих моделей: дерево f1=0,59, лес f1=0,60.\n",
    "4. Тестирование модели:\n",
    "    - Наилучший результат показала модель случайного леса со взвешенными классами.\n",
    "    - На данной модели было проведено тестирование на тестовой выборке.\n",
    "    - Показетель F1-меры = 0,594 > 0,59.\n",
    "    - Метрика  AUC-ROC = 0,86.\n",
    "    "
   ]
  }
 ],
 "metadata": {
  "ExecuteTimeLog": [
   {
    "duration": 47,
    "start_time": "2022-11-23T05:21:19.980Z"
   },
   {
    "duration": 1073,
    "start_time": "2022-11-23T05:21:22.492Z"
   },
   {
    "duration": 158,
    "start_time": "2022-11-23T05:21:24.517Z"
   },
   {
    "duration": 14,
    "start_time": "2022-11-23T05:21:25.632Z"
   },
   {
    "duration": 68,
    "start_time": "2022-11-23T05:31:22.976Z"
   },
   {
    "duration": 5,
    "start_time": "2022-11-23T05:33:00.322Z"
   },
   {
    "duration": 11,
    "start_time": "2022-11-23T05:33:09.550Z"
   },
   {
    "duration": 19,
    "start_time": "2022-11-23T05:35:23.613Z"
   },
   {
    "duration": 6,
    "start_time": "2022-11-23T05:36:35.836Z"
   },
   {
    "duration": 5,
    "start_time": "2022-11-23T05:37:09.390Z"
   },
   {
    "duration": 5,
    "start_time": "2022-11-23T05:37:26.540Z"
   },
   {
    "duration": 5,
    "start_time": "2022-11-23T05:39:45.406Z"
   },
   {
    "duration": 6,
    "start_time": "2022-11-23T05:39:48.994Z"
   },
   {
    "duration": 6,
    "start_time": "2022-11-23T05:39:52.357Z"
   },
   {
    "duration": 7,
    "start_time": "2022-11-23T05:39:54.183Z"
   },
   {
    "duration": 6,
    "start_time": "2022-11-23T05:40:11.373Z"
   },
   {
    "duration": 6,
    "start_time": "2022-11-23T05:41:06.922Z"
   },
   {
    "duration": 7,
    "start_time": "2022-11-23T05:41:23.021Z"
   },
   {
    "duration": 6,
    "start_time": "2022-11-23T05:41:55.127Z"
   },
   {
    "duration": 40,
    "start_time": "2022-11-23T05:43:31.732Z"
   },
   {
    "duration": 11,
    "start_time": "2022-11-23T05:43:32.417Z"
   },
   {
    "duration": 14,
    "start_time": "2022-11-23T05:43:32.621Z"
   },
   {
    "duration": 7,
    "start_time": "2022-11-23T05:43:32.952Z"
   },
   {
    "duration": 9,
    "start_time": "2022-11-23T05:43:33.486Z"
   },
   {
    "duration": 6,
    "start_time": "2022-11-23T05:43:33.926Z"
   },
   {
    "duration": 6,
    "start_time": "2022-11-23T05:43:34.540Z"
   },
   {
    "duration": 6,
    "start_time": "2022-11-23T05:43:35.034Z"
   },
   {
    "duration": 7,
    "start_time": "2022-11-23T05:43:35.485Z"
   },
   {
    "duration": 6,
    "start_time": "2022-11-23T05:43:35.813Z"
   },
   {
    "duration": 72,
    "start_time": "2022-11-23T05:43:36.412Z"
   },
   {
    "duration": 5,
    "start_time": "2022-11-23T05:43:36.873Z"
   },
   {
    "duration": 13,
    "start_time": "2022-11-23T05:43:44.578Z"
   },
   {
    "duration": 13,
    "start_time": "2022-11-23T05:43:45.353Z"
   },
   {
    "duration": 40,
    "start_time": "2022-11-23T05:43:57.227Z"
   },
   {
    "duration": 12,
    "start_time": "2022-11-23T05:43:57.772Z"
   },
   {
    "duration": 12,
    "start_time": "2022-11-23T05:43:58.843Z"
   },
   {
    "duration": 8,
    "start_time": "2022-11-23T05:44:02.873Z"
   },
   {
    "duration": 8,
    "start_time": "2022-11-23T05:44:03.623Z"
   },
   {
    "duration": 7,
    "start_time": "2022-11-23T05:44:04.266Z"
   },
   {
    "duration": 6,
    "start_time": "2022-11-23T05:44:05.217Z"
   },
   {
    "duration": 6,
    "start_time": "2022-11-23T05:44:07.711Z"
   },
   {
    "duration": 5,
    "start_time": "2022-11-23T05:44:08.366Z"
   },
   {
    "duration": 5,
    "start_time": "2022-11-23T05:44:08.967Z"
   },
   {
    "duration": 4,
    "start_time": "2022-11-23T05:44:11.851Z"
   },
   {
    "duration": 70,
    "start_time": "2022-11-23T05:46:01.944Z"
   },
   {
    "duration": 2,
    "start_time": "2022-11-23T05:48:57.467Z"
   },
   {
    "duration": 39,
    "start_time": "2022-11-23T05:49:47.616Z"
   },
   {
    "duration": 4,
    "start_time": "2022-11-23T05:49:48.233Z"
   },
   {
    "duration": 21,
    "start_time": "2022-11-23T05:53:18.035Z"
   },
   {
    "duration": 4,
    "start_time": "2022-11-23T05:53:25.731Z"
   },
   {
    "duration": 111,
    "start_time": "2022-11-23T08:55:36.595Z"
   },
   {
    "duration": 69,
    "start_time": "2022-11-23T09:09:41.673Z"
   },
   {
    "duration": 1142,
    "start_time": "2022-11-23T09:09:49.427Z"
   },
   {
    "duration": 176,
    "start_time": "2022-11-23T09:09:50.571Z"
   },
   {
    "duration": 15,
    "start_time": "2022-11-23T09:09:50.748Z"
   },
   {
    "duration": 21,
    "start_time": "2022-11-23T09:09:51.545Z"
   },
   {
    "duration": 8,
    "start_time": "2022-11-23T09:09:52.119Z"
   },
   {
    "duration": 9,
    "start_time": "2022-11-23T09:09:52.765Z"
   },
   {
    "duration": 13,
    "start_time": "2022-11-23T09:09:53.035Z"
   },
   {
    "duration": 5,
    "start_time": "2022-11-23T09:09:53.241Z"
   },
   {
    "duration": 5,
    "start_time": "2022-11-23T09:09:53.516Z"
   },
   {
    "duration": 6,
    "start_time": "2022-11-23T09:09:53.989Z"
   },
   {
    "duration": 6,
    "start_time": "2022-11-23T09:09:54.460Z"
   },
   {
    "duration": 93,
    "start_time": "2022-11-23T09:09:54.995Z"
   },
   {
    "duration": 5,
    "start_time": "2022-11-23T09:10:03.651Z"
   },
   {
    "duration": 6,
    "start_time": "2022-11-23T09:11:44.143Z"
   },
   {
    "duration": 7,
    "start_time": "2022-11-23T09:15:16.292Z"
   },
   {
    "duration": 7,
    "start_time": "2022-11-23T09:15:17.658Z"
   },
   {
    "duration": 7,
    "start_time": "2022-11-23T09:15:19.472Z"
   },
   {
    "duration": 8,
    "start_time": "2022-11-23T09:15:21.513Z"
   },
   {
    "duration": 5,
    "start_time": "2022-11-23T09:15:26.690Z"
   },
   {
    "duration": 6,
    "start_time": "2022-11-23T09:15:32.666Z"
   },
   {
    "duration": 8,
    "start_time": "2022-11-23T09:15:36.312Z"
   },
   {
    "duration": 7,
    "start_time": "2022-11-23T09:15:37.656Z"
   },
   {
    "duration": 14,
    "start_time": "2022-11-23T09:16:08.426Z"
   },
   {
    "duration": 11,
    "start_time": "2022-11-23T09:16:10.902Z"
   },
   {
    "duration": 39,
    "start_time": "2022-11-23T09:16:20.032Z"
   },
   {
    "duration": 13,
    "start_time": "2022-11-23T09:16:20.531Z"
   },
   {
    "duration": 18,
    "start_time": "2022-11-23T09:16:21.410Z"
   },
   {
    "duration": 7,
    "start_time": "2022-11-23T09:16:24.660Z"
   },
   {
    "duration": 7,
    "start_time": "2022-11-23T09:16:25.390Z"
   },
   {
    "duration": 6,
    "start_time": "2022-11-23T09:16:27.698Z"
   },
   {
    "duration": 7,
    "start_time": "2022-11-23T09:16:28.192Z"
   },
   {
    "duration": 5,
    "start_time": "2022-11-23T09:16:28.503Z"
   },
   {
    "duration": 5,
    "start_time": "2022-11-23T09:16:28.847Z"
   },
   {
    "duration": 6,
    "start_time": "2022-11-23T09:16:29.913Z"
   },
   {
    "duration": 7,
    "start_time": "2022-11-23T09:16:32.859Z"
   },
   {
    "duration": 5,
    "start_time": "2022-11-23T09:16:34.598Z"
   },
   {
    "duration": 11,
    "start_time": "2022-11-23T09:16:35.326Z"
   },
   {
    "duration": 4,
    "start_time": "2022-11-23T09:16:43.273Z"
   },
   {
    "duration": 58,
    "start_time": "2022-11-23T09:16:43.943Z"
   },
   {
    "duration": 4,
    "start_time": "2022-11-23T09:16:45.205Z"
   },
   {
    "duration": 25,
    "start_time": "2022-11-23T09:16:51.872Z"
   },
   {
    "duration": 6,
    "start_time": "2022-11-23T09:16:52.375Z"
   },
   {
    "duration": 11,
    "start_time": "2022-11-23T09:26:36.007Z"
   },
   {
    "duration": 13,
    "start_time": "2022-11-23T09:30:02.008Z"
   },
   {
    "duration": 2,
    "start_time": "2022-11-23T09:30:11.267Z"
   },
   {
    "duration": 40,
    "start_time": "2022-11-23T09:30:11.734Z"
   },
   {
    "duration": 14,
    "start_time": "2022-11-23T09:30:11.965Z"
   },
   {
    "duration": 12,
    "start_time": "2022-11-23T09:30:12.144Z"
   },
   {
    "duration": 6,
    "start_time": "2022-11-23T09:30:12.633Z"
   },
   {
    "duration": 7,
    "start_time": "2022-11-23T09:30:12.851Z"
   },
   {
    "duration": 12,
    "start_time": "2022-11-23T09:30:13.073Z"
   },
   {
    "duration": 6,
    "start_time": "2022-11-23T09:30:13.313Z"
   },
   {
    "duration": 5,
    "start_time": "2022-11-23T09:30:13.533Z"
   },
   {
    "duration": 7,
    "start_time": "2022-11-23T09:30:13.755Z"
   },
   {
    "duration": 14,
    "start_time": "2022-11-23T09:30:14.004Z"
   },
   {
    "duration": 16,
    "start_time": "2022-11-23T09:30:14.206Z"
   },
   {
    "duration": 6,
    "start_time": "2022-11-23T09:30:14.634Z"
   },
   {
    "duration": 12,
    "start_time": "2022-11-23T09:30:14.851Z"
   },
   {
    "duration": 3,
    "start_time": "2022-11-23T09:30:16.043Z"
   },
   {
    "duration": 53,
    "start_time": "2022-11-23T09:30:16.517Z"
   },
   {
    "duration": 10,
    "start_time": "2022-11-23T09:30:17.027Z"
   },
   {
    "duration": 18,
    "start_time": "2022-11-23T09:30:17.927Z"
   },
   {
    "duration": 5,
    "start_time": "2022-11-23T09:30:18.406Z"
   },
   {
    "duration": 20,
    "start_time": "2022-11-23T09:30:21.178Z"
   },
   {
    "duration": 8,
    "start_time": "2022-11-23T09:31:25.025Z"
   },
   {
    "duration": 38,
    "start_time": "2022-11-23T09:31:25.675Z"
   },
   {
    "duration": 21,
    "start_time": "2022-11-23T10:05:42.126Z"
   },
   {
    "duration": 3,
    "start_time": "2022-11-23T10:05:56.964Z"
   },
   {
    "duration": 39,
    "start_time": "2022-11-23T10:05:57.323Z"
   },
   {
    "duration": 13,
    "start_time": "2022-11-23T10:05:57.566Z"
   },
   {
    "duration": 12,
    "start_time": "2022-11-23T10:05:57.796Z"
   },
   {
    "duration": 5,
    "start_time": "2022-11-23T10:05:58.737Z"
   },
   {
    "duration": 6,
    "start_time": "2022-11-23T10:05:59.194Z"
   },
   {
    "duration": 6,
    "start_time": "2022-11-23T10:05:59.532Z"
   },
   {
    "duration": 5,
    "start_time": "2022-11-23T10:05:59.860Z"
   },
   {
    "duration": 5,
    "start_time": "2022-11-23T10:06:00.472Z"
   },
   {
    "duration": 5,
    "start_time": "2022-11-23T10:06:01.092Z"
   },
   {
    "duration": 5,
    "start_time": "2022-11-23T10:06:01.740Z"
   },
   {
    "duration": 7,
    "start_time": "2022-11-23T10:06:02.593Z"
   },
   {
    "duration": 4,
    "start_time": "2022-11-23T10:06:04.691Z"
   },
   {
    "duration": 3,
    "start_time": "2022-11-23T10:06:37.956Z"
   },
   {
    "duration": 35,
    "start_time": "2022-11-23T10:06:38.761Z"
   },
   {
    "duration": 11,
    "start_time": "2022-11-23T10:07:07.918Z"
   },
   {
    "duration": 35,
    "start_time": "2022-11-23T10:09:13.592Z"
   },
   {
    "duration": 36,
    "start_time": "2022-11-23T10:09:24.844Z"
   },
   {
    "duration": 29,
    "start_time": "2022-11-23T10:09:55.144Z"
   },
   {
    "duration": 19,
    "start_time": "2022-11-23T10:11:16.609Z"
   },
   {
    "duration": 17,
    "start_time": "2022-11-23T10:18:07.622Z"
   },
   {
    "duration": 29,
    "start_time": "2022-11-23T10:18:12.963Z"
   },
   {
    "duration": 4,
    "start_time": "2022-11-23T10:20:29.046Z"
   },
   {
    "duration": 37,
    "start_time": "2022-11-23T10:23:12.954Z"
   },
   {
    "duration": 33,
    "start_time": "2022-11-23T10:28:36.090Z"
   },
   {
    "duration": 49,
    "start_time": "2022-11-23T10:28:58.867Z"
   },
   {
    "duration": 32,
    "start_time": "2022-11-23T10:29:09.220Z"
   },
   {
    "duration": 36,
    "start_time": "2022-11-23T10:29:16.828Z"
   },
   {
    "duration": 3,
    "start_time": "2022-11-23T10:29:53.424Z"
   },
   {
    "duration": 50,
    "start_time": "2022-11-23T10:31:36.422Z"
   },
   {
    "duration": 3,
    "start_time": "2022-11-23T10:54:29.233Z"
   },
   {
    "duration": 96,
    "start_time": "2022-11-23T11:20:51.742Z"
   },
   {
    "duration": 39,
    "start_time": "2022-11-23T11:23:41.311Z"
   },
   {
    "duration": 33,
    "start_time": "2022-11-23T11:26:54.102Z"
   },
   {
    "duration": 73,
    "start_time": "2022-11-23T11:28:14.648Z"
   },
   {
    "duration": 38,
    "start_time": "2022-11-23T11:28:42.457Z"
   },
   {
    "duration": 39,
    "start_time": "2022-11-23T11:28:50.263Z"
   },
   {
    "duration": 22,
    "start_time": "2022-11-23T11:29:12.378Z"
   },
   {
    "duration": 24,
    "start_time": "2022-11-23T11:29:23.867Z"
   },
   {
    "duration": 34,
    "start_time": "2022-11-23T11:29:35.005Z"
   },
   {
    "duration": 23,
    "start_time": "2022-11-23T11:29:48.837Z"
   },
   {
    "duration": 54,
    "start_time": "2022-11-23T11:29:55.995Z"
   },
   {
    "duration": 33,
    "start_time": "2022-11-23T11:36:04.854Z"
   },
   {
    "duration": 27,
    "start_time": "2022-11-23T11:36:55.994Z"
   },
   {
    "duration": 51,
    "start_time": "2022-11-23T11:37:47.999Z"
   },
   {
    "duration": 40,
    "start_time": "2022-11-23T11:38:00.107Z"
   },
   {
    "duration": 22,
    "start_time": "2022-11-23T11:39:11.448Z"
   },
   {
    "duration": 21,
    "start_time": "2022-11-23T11:39:28.132Z"
   },
   {
    "duration": 21,
    "start_time": "2022-11-23T11:40:50.696Z"
   },
   {
    "duration": 23,
    "start_time": "2022-11-23T11:45:53.272Z"
   },
   {
    "duration": 35,
    "start_time": "2022-11-23T11:46:13.736Z"
   },
   {
    "duration": 59,
    "start_time": "2022-11-23T11:52:56.170Z"
   },
   {
    "duration": 48,
    "start_time": "2022-11-23T11:53:04.600Z"
   },
   {
    "duration": 47,
    "start_time": "2022-11-23T11:53:07.278Z"
   },
   {
    "duration": 72,
    "start_time": "2022-11-23T11:54:14.409Z"
   },
   {
    "duration": 47,
    "start_time": "2022-11-23T11:54:29.461Z"
   },
   {
    "duration": 9,
    "start_time": "2022-11-23T11:56:09.947Z"
   },
   {
    "duration": 3,
    "start_time": "2022-11-23T11:56:42.232Z"
   },
   {
    "duration": 36,
    "start_time": "2022-11-23T11:56:53.705Z"
   },
   {
    "duration": 4,
    "start_time": "2022-11-23T11:57:14.200Z"
   },
   {
    "duration": 31,
    "start_time": "2022-11-23T11:57:21.100Z"
   },
   {
    "duration": 530,
    "start_time": "2022-11-23T11:59:17.639Z"
   },
   {
    "duration": 46,
    "start_time": "2022-11-23T12:02:43.464Z"
   },
   {
    "duration": 4,
    "start_time": "2022-11-23T12:02:50.944Z"
   },
   {
    "duration": 41,
    "start_time": "2022-11-23T12:02:56.258Z"
   },
   {
    "duration": 42,
    "start_time": "2022-11-23T12:48:20.135Z"
   },
   {
    "duration": 14,
    "start_time": "2022-11-23T12:52:27.785Z"
   },
   {
    "duration": 36,
    "start_time": "2022-11-23T12:52:36.417Z"
   },
   {
    "duration": 36,
    "start_time": "2022-11-23T12:52:41.449Z"
   },
   {
    "duration": 30,
    "start_time": "2022-11-23T12:52:45.383Z"
   },
   {
    "duration": 28,
    "start_time": "2022-11-23T12:52:50.188Z"
   },
   {
    "duration": 28,
    "start_time": "2022-11-23T12:52:54.925Z"
   },
   {
    "duration": 26,
    "start_time": "2022-11-23T12:53:00.121Z"
   },
   {
    "duration": 27,
    "start_time": "2022-11-23T12:54:15.259Z"
   },
   {
    "duration": 43,
    "start_time": "2022-11-23T12:54:24.165Z"
   },
   {
    "duration": 31,
    "start_time": "2022-11-23T12:54:29.450Z"
   },
   {
    "duration": 38,
    "start_time": "2022-11-23T12:54:33.171Z"
   },
   {
    "duration": 4,
    "start_time": "2022-11-23T12:56:41.263Z"
   },
   {
    "duration": 46,
    "start_time": "2022-11-23T12:56:50.023Z"
   },
   {
    "duration": 5,
    "start_time": "2022-11-23T12:57:51.663Z"
   },
   {
    "duration": 40,
    "start_time": "2022-11-23T12:57:59.903Z"
   },
   {
    "duration": 6,
    "start_time": "2022-11-23T12:59:30.802Z"
   },
   {
    "duration": 38,
    "start_time": "2022-11-23T12:59:37.186Z"
   },
   {
    "duration": 32,
    "start_time": "2022-11-23T13:00:23.327Z"
   },
   {
    "duration": 44,
    "start_time": "2022-11-23T13:04:19.051Z"
   },
   {
    "duration": 16,
    "start_time": "2022-11-23T13:11:21.109Z"
   },
   {
    "duration": 13,
    "start_time": "2022-11-23T13:11:37.993Z"
   },
   {
    "duration": 526,
    "start_time": "2022-11-23T13:11:55.087Z"
   },
   {
    "duration": 130,
    "start_time": "2022-11-23T13:12:03.593Z"
   },
   {
    "duration": 12,
    "start_time": "2022-11-23T13:12:06.226Z"
   },
   {
    "duration": 77,
    "start_time": "2022-11-23T13:12:33.322Z"
   },
   {
    "duration": 297,
    "start_time": "2022-11-23T13:13:14.325Z"
   },
   {
    "duration": 2,
    "start_time": "2022-11-23T13:13:49.031Z"
   },
   {
    "duration": 111,
    "start_time": "2022-11-23T13:14:10.833Z"
   },
   {
    "duration": 3,
    "start_time": "2022-11-23T13:14:50.895Z"
   },
   {
    "duration": 31,
    "start_time": "2022-11-23T13:15:41.790Z"
   },
   {
    "duration": 313,
    "start_time": "2022-11-23T13:16:10.522Z"
   },
   {
    "duration": 527,
    "start_time": "2022-11-23T13:16:15.964Z"
   },
   {
    "duration": 235,
    "start_time": "2022-11-23T13:16:24.396Z"
   },
   {
    "duration": 279,
    "start_time": "2022-11-23T13:16:31.103Z"
   },
   {
    "duration": 130,
    "start_time": "2022-11-23T13:16:37.321Z"
   },
   {
    "duration": 138,
    "start_time": "2022-11-23T13:16:45.194Z"
   },
   {
    "duration": 150,
    "start_time": "2022-11-23T13:16:49.642Z"
   },
   {
    "duration": 117,
    "start_time": "2022-11-23T13:16:55.303Z"
   },
   {
    "duration": 30,
    "start_time": "2022-11-23T13:21:11.898Z"
   },
   {
    "duration": 12,
    "start_time": "2022-11-23T13:21:33.439Z"
   },
   {
    "duration": 41,
    "start_time": "2022-11-23T13:21:48.794Z"
   },
   {
    "duration": 40,
    "start_time": "2022-11-23T13:22:02.832Z"
   },
   {
    "duration": 29,
    "start_time": "2022-11-23T13:22:10.058Z"
   },
   {
    "duration": 23,
    "start_time": "2022-11-23T13:22:16.415Z"
   },
   {
    "duration": 26,
    "start_time": "2022-11-23T13:22:20.064Z"
   },
   {
    "duration": 27,
    "start_time": "2022-11-23T13:22:25.540Z"
   },
   {
    "duration": 26,
    "start_time": "2022-11-23T13:22:29.334Z"
   },
   {
    "duration": 125,
    "start_time": "2022-11-23T14:11:59.571Z"
   },
   {
    "duration": 34,
    "start_time": "2022-11-23T14:12:13.142Z"
   },
   {
    "duration": 34,
    "start_time": "2022-11-23T14:13:52.521Z"
   },
   {
    "duration": 38,
    "start_time": "2022-11-23T14:14:33.576Z"
   },
   {
    "duration": 125,
    "start_time": "2022-11-23T14:14:55.931Z"
   },
   {
    "duration": 145,
    "start_time": "2022-11-23T14:15:22.768Z"
   },
   {
    "duration": 32,
    "start_time": "2022-11-23T14:15:30.233Z"
   },
   {
    "duration": 156,
    "start_time": "2022-11-23T14:15:52.691Z"
   },
   {
    "duration": 266,
    "start_time": "2022-11-23T14:16:05.689Z"
   },
   {
    "duration": 284,
    "start_time": "2022-11-23T14:16:15.142Z"
   },
   {
    "duration": 298,
    "start_time": "2022-11-23T14:16:20.260Z"
   },
   {
    "duration": 279,
    "start_time": "2022-11-23T14:16:25.611Z"
   },
   {
    "duration": 300,
    "start_time": "2022-11-23T14:16:31.700Z"
   },
   {
    "duration": 287,
    "start_time": "2022-11-23T14:16:37.180Z"
   },
   {
    "duration": 298,
    "start_time": "2022-11-23T14:16:41.542Z"
   },
   {
    "duration": 42,
    "start_time": "2022-11-23T14:16:59.768Z"
   },
   {
    "duration": 35,
    "start_time": "2022-11-23T14:17:03.608Z"
   },
   {
    "duration": 40,
    "start_time": "2022-11-23T14:17:33.054Z"
   },
   {
    "duration": 34,
    "start_time": "2022-11-23T14:17:53.641Z"
   },
   {
    "duration": 46,
    "start_time": "2022-11-23T14:17:58.594Z"
   },
   {
    "duration": 33,
    "start_time": "2022-11-23T14:18:04.366Z"
   },
   {
    "duration": 35,
    "start_time": "2022-11-23T14:18:09.055Z"
   },
   {
    "duration": 298,
    "start_time": "2022-11-23T14:19:26.818Z"
   },
   {
    "duration": 290,
    "start_time": "2022-11-23T14:19:40.930Z"
   },
   {
    "duration": 145,
    "start_time": "2022-11-23T14:20:15.794Z"
   },
   {
    "duration": 150,
    "start_time": "2022-11-23T14:20:20.698Z"
   },
   {
    "duration": 158,
    "start_time": "2022-11-23T14:20:57.931Z"
   },
   {
    "duration": 322,
    "start_time": "2022-11-23T14:21:02.637Z"
   },
   {
    "duration": 3,
    "start_time": "2022-11-23T15:02:47.805Z"
   },
   {
    "duration": 40,
    "start_time": "2022-11-23T15:02:48.461Z"
   },
   {
    "duration": 14,
    "start_time": "2022-11-23T15:02:49.719Z"
   },
   {
    "duration": 16,
    "start_time": "2022-11-23T15:02:50.633Z"
   },
   {
    "duration": 8,
    "start_time": "2022-11-23T15:02:54.588Z"
   },
   {
    "duration": 4,
    "start_time": "2022-11-23T15:03:11.769Z"
   },
   {
    "duration": 7,
    "start_time": "2022-11-23T15:03:14.546Z"
   },
   {
    "duration": 6,
    "start_time": "2022-11-23T15:03:15.433Z"
   },
   {
    "duration": 6,
    "start_time": "2022-11-23T15:03:19.537Z"
   },
   {
    "duration": 7,
    "start_time": "2022-11-23T15:03:22.848Z"
   },
   {
    "duration": 8,
    "start_time": "2022-11-23T15:03:24.581Z"
   },
   {
    "duration": 6,
    "start_time": "2022-11-23T15:03:27.976Z"
   },
   {
    "duration": 6,
    "start_time": "2022-11-23T15:03:37.583Z"
   },
   {
    "duration": 13,
    "start_time": "2022-11-23T15:03:38.908Z"
   },
   {
    "duration": 11,
    "start_time": "2022-11-23T15:04:01.141Z"
   },
   {
    "duration": 48,
    "start_time": "2022-11-23T15:04:09.760Z"
   },
   {
    "duration": 41,
    "start_time": "2022-11-23T15:04:24.273Z"
   },
   {
    "duration": 4,
    "start_time": "2022-11-23T15:05:29.940Z"
   },
   {
    "duration": 6,
    "start_time": "2022-11-23T15:05:44.260Z"
   },
   {
    "duration": 4,
    "start_time": "2022-11-23T15:05:48.847Z"
   },
   {
    "duration": 10,
    "start_time": "2022-11-23T15:05:49.536Z"
   },
   {
    "duration": 6,
    "start_time": "2022-11-23T15:05:51.853Z"
   },
   {
    "duration": 7,
    "start_time": "2022-11-23T15:05:52.613Z"
   },
   {
    "duration": 6,
    "start_time": "2022-11-23T15:05:53.333Z"
   },
   {
    "duration": 8,
    "start_time": "2022-11-23T15:05:54.004Z"
   },
   {
    "duration": 5,
    "start_time": "2022-11-23T15:05:54.587Z"
   },
   {
    "duration": 5,
    "start_time": "2022-11-23T15:05:55.515Z"
   },
   {
    "duration": 13,
    "start_time": "2022-11-23T15:05:56.779Z"
   },
   {
    "duration": 14,
    "start_time": "2022-11-23T15:05:57.624Z"
   },
   {
    "duration": 4,
    "start_time": "2022-11-23T15:06:04.823Z"
   },
   {
    "duration": 48,
    "start_time": "2022-11-23T15:06:05.363Z"
   },
   {
    "duration": 17,
    "start_time": "2022-11-23T15:06:06.238Z"
   },
   {
    "duration": 12,
    "start_time": "2022-11-23T15:06:06.744Z"
   },
   {
    "duration": 6,
    "start_time": "2022-11-23T15:06:07.185Z"
   },
   {
    "duration": 4,
    "start_time": "2022-11-23T15:06:09.050Z"
   },
   {
    "duration": 7,
    "start_time": "2022-11-23T15:06:10.558Z"
   },
   {
    "duration": 8,
    "start_time": "2022-11-23T15:06:12.142Z"
   },
   {
    "duration": 10,
    "start_time": "2022-11-23T15:06:12.520Z"
   },
   {
    "duration": 11,
    "start_time": "2022-11-23T15:06:13.089Z"
   },
   {
    "duration": 5,
    "start_time": "2022-11-23T15:06:13.591Z"
   },
   {
    "duration": 8,
    "start_time": "2022-11-23T15:06:14.128Z"
   },
   {
    "duration": 7,
    "start_time": "2022-11-23T15:06:14.597Z"
   },
   {
    "duration": 5,
    "start_time": "2022-11-23T15:06:15.973Z"
   },
   {
    "duration": 17,
    "start_time": "2022-11-23T15:06:17.085Z"
   },
   {
    "duration": 17,
    "start_time": "2022-11-23T15:06:19.112Z"
   },
   {
    "duration": 47,
    "start_time": "2022-11-23T15:06:20.592Z"
   },
   {
    "duration": 46,
    "start_time": "2022-11-23T15:06:30.677Z"
   },
   {
    "duration": 274,
    "start_time": "2022-11-23T15:06:32.558Z"
   },
   {
    "duration": 182,
    "start_time": "2022-11-23T15:06:42.441Z"
   },
   {
    "duration": 25,
    "start_time": "2022-11-23T15:06:48.297Z"
   },
   {
    "duration": 267,
    "start_time": "2022-11-23T15:06:50.841Z"
   },
   {
    "duration": 346,
    "start_time": "2022-11-23T15:07:30.175Z"
   },
   {
    "duration": 307,
    "start_time": "2022-11-23T15:07:35.952Z"
   },
   {
    "duration": 44,
    "start_time": "2022-11-23T15:08:17.300Z"
   },
   {
    "duration": 40,
    "start_time": "2022-11-23T15:09:03.164Z"
   },
   {
    "duration": 26,
    "start_time": "2022-11-23T15:09:09.599Z"
   },
   {
    "duration": 29,
    "start_time": "2022-11-23T15:09:15.214Z"
   },
   {
    "duration": 27,
    "start_time": "2022-11-23T15:09:19.880Z"
   },
   {
    "duration": 40,
    "start_time": "2022-11-23T15:09:25.710Z"
   },
   {
    "duration": 39,
    "start_time": "2022-11-23T15:09:32.454Z"
   },
   {
    "duration": 44,
    "start_time": "2022-11-23T15:09:39.477Z"
   },
   {
    "duration": 42,
    "start_time": "2022-11-23T15:09:47.692Z"
   },
   {
    "duration": 31,
    "start_time": "2022-11-23T15:10:31.229Z"
   },
   {
    "duration": 38,
    "start_time": "2022-11-23T15:10:39.919Z"
   },
   {
    "duration": 34,
    "start_time": "2022-11-23T15:10:50.076Z"
   },
   {
    "duration": 31,
    "start_time": "2022-11-23T15:10:54.950Z"
   },
   {
    "duration": 34,
    "start_time": "2022-11-23T15:10:58.797Z"
   },
   {
    "duration": 3,
    "start_time": "2022-11-23T15:15:24.859Z"
   },
   {
    "duration": 3,
    "start_time": "2022-11-23T15:16:08.676Z"
   },
   {
    "duration": 298,
    "start_time": "2022-11-23T15:16:16.903Z"
   },
   {
    "duration": 3,
    "start_time": "2022-11-23T15:25:50.753Z"
   },
   {
    "duration": 13,
    "start_time": "2022-11-23T15:38:56.490Z"
   },
   {
    "duration": 10,
    "start_time": "2022-11-23T15:39:08.510Z"
   },
   {
    "duration": 9,
    "start_time": "2022-11-23T15:39:39.293Z"
   },
   {
    "duration": 4,
    "start_time": "2022-11-23T15:40:10.106Z"
   },
   {
    "duration": 47,
    "start_time": "2022-11-23T15:40:24.556Z"
   },
   {
    "duration": 119,
    "start_time": "2022-11-23T15:40:56.321Z"
   },
   {
    "duration": 136,
    "start_time": "2022-11-23T15:43:17.519Z"
   },
   {
    "duration": 267,
    "start_time": "2022-11-23T15:49:36.109Z"
   },
   {
    "duration": 294,
    "start_time": "2022-11-23T15:50:09.668Z"
   },
   {
    "duration": 12,
    "start_time": "2022-11-23T15:52:15.146Z"
   },
   {
    "duration": 12,
    "start_time": "2022-11-23T15:52:29.551Z"
   },
   {
    "duration": 283,
    "start_time": "2022-11-23T15:52:45.304Z"
   },
   {
    "duration": 252,
    "start_time": "2022-11-23T15:53:17.078Z"
   },
   {
    "duration": 210,
    "start_time": "2022-11-23T15:53:28.127Z"
   },
   {
    "duration": 220,
    "start_time": "2022-11-23T15:54:03.136Z"
   },
   {
    "duration": 322,
    "start_time": "2022-11-23T15:54:08.729Z"
   },
   {
    "duration": 19,
    "start_time": "2022-11-23T15:56:09.514Z"
   },
   {
    "duration": 4,
    "start_time": "2022-11-23T15:56:46.824Z"
   },
   {
    "duration": 208,
    "start_time": "2022-11-23T15:57:02.351Z"
   },
   {
    "duration": 237,
    "start_time": "2022-11-23T15:57:19.637Z"
   },
   {
    "duration": 15,
    "start_time": "2022-11-23T15:59:32.501Z"
   },
   {
    "duration": 5,
    "start_time": "2022-11-23T15:59:56.652Z"
   },
   {
    "duration": 8,
    "start_time": "2022-11-23T16:00:00.080Z"
   },
   {
    "duration": 19,
    "start_time": "2022-11-23T16:00:05.568Z"
   },
   {
    "duration": 241,
    "start_time": "2022-11-23T16:00:14.333Z"
   },
   {
    "duration": 247,
    "start_time": "2022-11-23T16:01:35.798Z"
   },
   {
    "duration": 253,
    "start_time": "2022-11-23T16:02:59.404Z"
   },
   {
    "duration": 255,
    "start_time": "2022-11-23T16:04:18.415Z"
   },
   {
    "duration": 192,
    "start_time": "2022-11-23T16:05:44.113Z"
   },
   {
    "duration": 374,
    "start_time": "2022-11-23T16:06:01.712Z"
   },
   {
    "duration": 143,
    "start_time": "2022-11-23T16:06:03.728Z"
   },
   {
    "duration": 301,
    "start_time": "2022-11-23T16:06:13.373Z"
   },
   {
    "duration": 566,
    "start_time": "2022-11-23T16:13:00.893Z"
   },
   {
    "duration": 551,
    "start_time": "2022-11-23T16:13:35.105Z"
   },
   {
    "duration": 667,
    "start_time": "2022-11-23T16:13:45.096Z"
   },
   {
    "duration": 543,
    "start_time": "2022-11-23T16:13:55.459Z"
   },
   {
    "duration": 33,
    "start_time": "2022-11-23T16:14:45.502Z"
   },
   {
    "duration": 302,
    "start_time": "2022-11-23T16:16:42.820Z"
   },
   {
    "duration": 47,
    "start_time": "2022-11-23T16:17:00.071Z"
   },
   {
    "duration": 248,
    "start_time": "2022-11-23T16:17:05.038Z"
   },
   {
    "duration": 36,
    "start_time": "2022-11-23T16:17:38.522Z"
   },
   {
    "duration": 37,
    "start_time": "2022-11-23T16:17:48.412Z"
   },
   {
    "duration": 46,
    "start_time": "2022-11-23T16:17:55.161Z"
   },
   {
    "duration": 37,
    "start_time": "2022-11-23T16:18:02.802Z"
   },
   {
    "duration": 49,
    "start_time": "2022-11-23T16:18:10.888Z"
   },
   {
    "duration": 123,
    "start_time": "2022-11-23T16:18:56.986Z"
   },
   {
    "duration": 236,
    "start_time": "2022-11-23T16:19:16.731Z"
   },
   {
    "duration": 115,
    "start_time": "2022-11-23T16:19:35.703Z"
   },
   {
    "duration": 102,
    "start_time": "2022-11-23T16:19:53.128Z"
   },
   {
    "duration": 259,
    "start_time": "2022-11-23T16:20:08.438Z"
   },
   {
    "duration": 269,
    "start_time": "2022-11-23T16:20:16.326Z"
   },
   {
    "duration": 299,
    "start_time": "2022-11-23T16:20:42.794Z"
   },
   {
    "duration": 403,
    "start_time": "2022-11-23T16:22:44.825Z"
   },
   {
    "duration": 385,
    "start_time": "2022-11-23T16:23:16.343Z"
   },
   {
    "duration": 4,
    "start_time": "2022-11-23T16:23:42.054Z"
   },
   {
    "duration": 42,
    "start_time": "2022-11-23T16:23:42.707Z"
   },
   {
    "duration": 16,
    "start_time": "2022-11-23T16:23:44.218Z"
   },
   {
    "duration": 14,
    "start_time": "2022-11-23T16:23:45.608Z"
   },
   {
    "duration": 6,
    "start_time": "2022-11-23T16:23:47.411Z"
   },
   {
    "duration": 4,
    "start_time": "2022-11-23T16:23:48.836Z"
   },
   {
    "duration": 7,
    "start_time": "2022-11-23T16:23:50.907Z"
   },
   {
    "duration": 6,
    "start_time": "2022-11-23T16:23:51.538Z"
   },
   {
    "duration": 6,
    "start_time": "2022-11-23T16:23:52.315Z"
   },
   {
    "duration": 6,
    "start_time": "2022-11-23T16:23:53.173Z"
   },
   {
    "duration": 8,
    "start_time": "2022-11-23T16:23:54.235Z"
   },
   {
    "duration": 7,
    "start_time": "2022-11-23T16:23:55.030Z"
   },
   {
    "duration": 11,
    "start_time": "2022-11-23T16:23:56.174Z"
   },
   {
    "duration": 4,
    "start_time": "2022-11-23T16:24:09.308Z"
   },
   {
    "duration": 13,
    "start_time": "2022-11-23T16:24:10.206Z"
   },
   {
    "duration": 11,
    "start_time": "2022-11-23T16:24:15.162Z"
   },
   {
    "duration": 47,
    "start_time": "2022-11-23T16:24:19.809Z"
   },
   {
    "duration": 42,
    "start_time": "2022-11-23T16:24:30.858Z"
   },
   {
    "duration": 226,
    "start_time": "2022-11-23T16:24:39.121Z"
   },
   {
    "duration": 352,
    "start_time": "2022-11-23T16:24:43.902Z"
   },
   {
    "duration": 255,
    "start_time": "2022-11-23T16:24:54.127Z"
   },
   {
    "duration": 109,
    "start_time": "2022-11-23T16:25:08.310Z"
   },
   {
    "duration": 28,
    "start_time": "2022-11-23T16:25:17.407Z"
   },
   {
    "duration": 278,
    "start_time": "2022-11-23T16:25:24.926Z"
   },
   {
    "duration": 35,
    "start_time": "2022-11-23T16:27:13.667Z"
   },
   {
    "duration": 30,
    "start_time": "2022-11-23T16:27:43.429Z"
   },
   {
    "duration": 34,
    "start_time": "2022-11-23T16:27:52.199Z"
   },
   {
    "duration": 296,
    "start_time": "2022-11-23T16:29:19.706Z"
   },
   {
    "duration": 324,
    "start_time": "2022-11-23T16:30:00.870Z"
   },
   {
    "duration": 219,
    "start_time": "2022-11-23T16:30:20.218Z"
   },
   {
    "duration": 221,
    "start_time": "2022-11-23T16:30:27.601Z"
   },
   {
    "duration": 349,
    "start_time": "2022-11-23T16:30:35.065Z"
   },
   {
    "duration": 260,
    "start_time": "2022-11-23T16:30:40.891Z"
   },
   {
    "duration": 279,
    "start_time": "2022-11-23T16:32:54.753Z"
   },
   {
    "duration": 251,
    "start_time": "2022-11-23T16:33:37.408Z"
   },
   {
    "duration": 274,
    "start_time": "2022-11-23T16:36:02.287Z"
   },
   {
    "duration": 276,
    "start_time": "2022-11-23T16:36:49.347Z"
   },
   {
    "duration": 31,
    "start_time": "2022-11-23T16:53:18.235Z"
   },
   {
    "duration": 79,
    "start_time": "2022-11-23T16:53:51.834Z"
   },
   {
    "duration": 26,
    "start_time": "2022-11-23T16:55:10.310Z"
   },
   {
    "duration": 4,
    "start_time": "2022-11-23T16:56:00.521Z"
   },
   {
    "duration": 14,
    "start_time": "2022-11-23T16:56:13.260Z"
   },
   {
    "duration": 58,
    "start_time": "2022-11-23T16:59:50.946Z"
   },
   {
    "duration": 51,
    "start_time": "2022-11-23T17:00:01.333Z"
   },
   {
    "duration": 43,
    "start_time": "2022-11-23T17:00:30.052Z"
   },
   {
    "duration": 53,
    "start_time": "2022-11-23T17:00:43.003Z"
   },
   {
    "duration": 68,
    "start_time": "2022-11-23T17:00:53.690Z"
   },
   {
    "duration": 44,
    "start_time": "2022-11-23T17:01:00.172Z"
   },
   {
    "duration": 72,
    "start_time": "2022-11-23T17:01:14.108Z"
   },
   {
    "duration": 78,
    "start_time": "2022-11-23T17:01:24.744Z"
   },
   {
    "duration": 37,
    "start_time": "2022-11-23T17:02:22.609Z"
   },
   {
    "duration": 16,
    "start_time": "2022-11-23T17:03:59.638Z"
   },
   {
    "duration": 63,
    "start_time": "2022-11-23T17:04:21.485Z"
   },
   {
    "duration": 41,
    "start_time": "2022-11-23T17:04:29.909Z"
   },
   {
    "duration": 53,
    "start_time": "2022-11-23T17:04:36.107Z"
   },
   {
    "duration": 52,
    "start_time": "2022-11-23T17:04:44.913Z"
   },
   {
    "duration": 72,
    "start_time": "2022-11-23T17:04:49.741Z"
   },
   {
    "duration": 46,
    "start_time": "2022-11-23T17:04:56.112Z"
   },
   {
    "duration": 48,
    "start_time": "2022-11-23T17:05:00.697Z"
   },
   {
    "duration": 39,
    "start_time": "2022-11-23T17:05:04.806Z"
   },
   {
    "duration": 69,
    "start_time": "2022-11-23T17:05:11.173Z"
   },
   {
    "duration": 72,
    "start_time": "2022-11-23T17:05:17.492Z"
   },
   {
    "duration": 68,
    "start_time": "2022-11-23T17:05:24.180Z"
   },
   {
    "duration": 52,
    "start_time": "2022-11-23T17:05:43.863Z"
   },
   {
    "duration": 52,
    "start_time": "2022-11-23T17:05:49.708Z"
   },
   {
    "duration": 65,
    "start_time": "2022-11-23T17:05:55.006Z"
   },
   {
    "duration": 71,
    "start_time": "2022-11-23T17:06:02.903Z"
   },
   {
    "duration": 85,
    "start_time": "2022-11-23T17:06:09.008Z"
   },
   {
    "duration": 70,
    "start_time": "2022-11-23T17:06:14.824Z"
   },
   {
    "duration": 45,
    "start_time": "2022-11-23T17:06:27.302Z"
   },
   {
    "duration": 49,
    "start_time": "2022-11-23T17:06:39.010Z"
   },
   {
    "duration": 53,
    "start_time": "2022-11-23T17:07:25.885Z"
   },
   {
    "duration": 63,
    "start_time": "2022-11-23T17:07:31.535Z"
   },
   {
    "duration": 71,
    "start_time": "2022-11-23T17:07:39.978Z"
   },
   {
    "duration": 58,
    "start_time": "2022-11-23T17:07:45.714Z"
   },
   {
    "duration": 65,
    "start_time": "2022-11-23T17:07:50.542Z"
   },
   {
    "duration": 48,
    "start_time": "2022-11-23T17:07:55.934Z"
   },
   {
    "duration": 66,
    "start_time": "2022-11-23T17:08:01.126Z"
   },
   {
    "duration": 58,
    "start_time": "2022-11-23T17:08:06.712Z"
   },
   {
    "duration": 76,
    "start_time": "2022-11-23T17:08:12.050Z"
   },
   {
    "duration": 59,
    "start_time": "2022-11-23T17:08:22.280Z"
   },
   {
    "duration": 32,
    "start_time": "2022-11-23T17:08:27.246Z"
   },
   {
    "duration": 67,
    "start_time": "2022-11-23T17:08:35.454Z"
   },
   {
    "duration": 74,
    "start_time": "2022-11-23T17:08:40.840Z"
   },
   {
    "duration": 90,
    "start_time": "2022-11-23T17:08:46.011Z"
   },
   {
    "duration": 76,
    "start_time": "2022-11-23T17:08:50.873Z"
   },
   {
    "duration": 82,
    "start_time": "2022-11-23T17:08:57.361Z"
   },
   {
    "duration": 63,
    "start_time": "2022-11-23T17:09:05.324Z"
   },
   {
    "duration": 53,
    "start_time": "2022-11-23T17:09:11.911Z"
   },
   {
    "duration": 20,
    "start_time": "2022-11-23T17:09:55.721Z"
   },
   {
    "duration": 61,
    "start_time": "2022-11-23T17:09:58.428Z"
   },
   {
    "duration": 59,
    "start_time": "2022-11-23T17:10:15.513Z"
   },
   {
    "duration": 41,
    "start_time": "2022-11-23T17:10:23.120Z"
   },
   {
    "duration": 63,
    "start_time": "2022-11-23T17:10:27.743Z"
   },
   {
    "duration": 45,
    "start_time": "2022-11-23T17:13:08.445Z"
   },
   {
    "duration": 4,
    "start_time": "2022-11-23T17:13:29.102Z"
   },
   {
    "duration": 312,
    "start_time": "2022-11-23T17:13:41.373Z"
   },
   {
    "duration": 265,
    "start_time": "2022-11-23T17:14:06.237Z"
   },
   {
    "duration": 295,
    "start_time": "2022-11-23T17:14:11.107Z"
   },
   {
    "duration": 299,
    "start_time": "2022-11-23T17:14:15.705Z"
   },
   {
    "duration": 295,
    "start_time": "2022-11-23T17:14:20.358Z"
   },
   {
    "duration": 694,
    "start_time": "2022-11-23T17:14:25.702Z"
   },
   {
    "duration": 1048,
    "start_time": "2022-11-23T17:14:31.006Z"
   },
   {
    "duration": 559,
    "start_time": "2022-11-23T17:14:38.358Z"
   },
   {
    "duration": 483,
    "start_time": "2022-11-23T17:14:43.900Z"
   },
   {
    "duration": 295,
    "start_time": "2022-11-23T17:14:48.825Z"
   },
   {
    "duration": 256,
    "start_time": "2022-11-23T17:14:53.868Z"
   },
   {
    "duration": 297,
    "start_time": "2022-11-23T17:15:00.008Z"
   },
   {
    "duration": 305,
    "start_time": "2022-11-23T17:15:05.814Z"
   },
   {
    "duration": 312,
    "start_time": "2022-11-23T17:15:13.208Z"
   },
   {
    "duration": 317,
    "start_time": "2022-11-23T17:15:20.735Z"
   },
   {
    "duration": 314,
    "start_time": "2022-11-23T17:15:25.753Z"
   },
   {
    "duration": 335,
    "start_time": "2022-11-23T17:15:30.547Z"
   },
   {
    "duration": 319,
    "start_time": "2022-11-23T17:15:35.846Z"
   },
   {
    "duration": 332,
    "start_time": "2022-11-23T17:16:05.140Z"
   },
   {
    "duration": 326,
    "start_time": "2022-11-23T17:16:15.515Z"
   },
   {
    "duration": 237,
    "start_time": "2022-11-23T17:18:58.308Z"
   },
   {
    "duration": 243,
    "start_time": "2022-11-23T17:19:20.423Z"
   },
   {
    "duration": 241,
    "start_time": "2022-11-23T17:21:01.436Z"
   },
   {
    "duration": 258,
    "start_time": "2022-11-23T17:21:37.758Z"
   },
   {
    "duration": 33,
    "start_time": "2022-11-23T17:23:02.726Z"
   },
   {
    "duration": 45,
    "start_time": "2022-11-23T17:24:26.198Z"
   },
   {
    "duration": 70,
    "start_time": "2022-11-23T17:24:39.378Z"
   },
   {
    "duration": 43,
    "start_time": "2022-11-23T17:24:47.204Z"
   },
   {
    "duration": 48,
    "start_time": "2022-11-23T17:25:54.113Z"
   },
   {
    "duration": 56,
    "start_time": "2022-11-23T17:26:13.419Z"
   },
   {
    "duration": 64,
    "start_time": "2022-11-23T17:26:38.534Z"
   },
   {
    "duration": 52,
    "start_time": "2022-11-23T17:26:56.600Z"
   },
   {
    "duration": 55,
    "start_time": "2022-11-23T17:27:09.102Z"
   },
   {
    "duration": 56,
    "start_time": "2022-11-23T17:27:15.316Z"
   },
   {
    "duration": 65,
    "start_time": "2022-11-23T17:27:20.332Z"
   },
   {
    "duration": 33,
    "start_time": "2022-11-23T17:27:25.302Z"
   },
   {
    "duration": 35,
    "start_time": "2022-11-23T17:27:30.121Z"
   },
   {
    "duration": 43,
    "start_time": "2022-11-23T17:27:34.222Z"
   },
   {
    "duration": 45,
    "start_time": "2022-11-23T17:27:44.824Z"
   },
   {
    "duration": 166,
    "start_time": "2022-11-23T17:27:51.238Z"
   },
   {
    "duration": 48,
    "start_time": "2022-11-23T17:27:56.708Z"
   },
   {
    "duration": 52,
    "start_time": "2022-11-23T17:28:01.522Z"
   },
   {
    "duration": 79,
    "start_time": "2022-11-23T17:28:06.549Z"
   },
   {
    "duration": 53,
    "start_time": "2022-11-23T17:28:11.345Z"
   },
   {
    "duration": 57,
    "start_time": "2022-11-23T17:28:16.332Z"
   },
   {
    "duration": 60,
    "start_time": "2022-11-23T17:28:20.978Z"
   },
   {
    "duration": 52,
    "start_time": "2022-11-23T17:28:27.314Z"
   },
   {
    "duration": 46,
    "start_time": "2022-11-23T17:28:32.105Z"
   },
   {
    "duration": 16,
    "start_time": "2022-11-23T17:28:51.813Z"
   },
   {
    "duration": 84,
    "start_time": "2022-11-23T17:28:54.216Z"
   },
   {
    "duration": 26,
    "start_time": "2022-11-23T17:29:01.106Z"
   },
   {
    "duration": 106,
    "start_time": "2022-11-23T17:29:03.528Z"
   },
   {
    "duration": 27,
    "start_time": "2022-11-23T17:29:08.671Z"
   },
   {
    "duration": 54,
    "start_time": "2022-11-23T17:29:10.461Z"
   },
   {
    "duration": 48,
    "start_time": "2022-11-23T17:29:15.681Z"
   },
   {
    "duration": 43,
    "start_time": "2022-11-23T17:29:21.829Z"
   },
   {
    "duration": 49,
    "start_time": "2022-11-23T17:29:28.094Z"
   },
   {
    "duration": 48,
    "start_time": "2022-11-23T17:29:35.125Z"
   },
   {
    "duration": 51,
    "start_time": "2022-11-23T17:29:40.812Z"
   },
   {
    "duration": 27,
    "start_time": "2022-11-23T17:29:45.626Z"
   },
   {
    "duration": 33,
    "start_time": "2022-11-23T17:29:50.965Z"
   },
   {
    "duration": 33,
    "start_time": "2022-11-23T17:29:55.809Z"
   },
   {
    "duration": 40,
    "start_time": "2022-11-23T17:30:02.660Z"
   },
   {
    "duration": 40,
    "start_time": "2022-11-23T17:30:07.774Z"
   },
   {
    "duration": 42,
    "start_time": "2022-11-23T17:30:13.222Z"
   },
   {
    "duration": 15,
    "start_time": "2022-11-23T17:30:19.097Z"
   },
   {
    "duration": 50,
    "start_time": "2022-11-23T17:30:21.944Z"
   },
   {
    "duration": 12,
    "start_time": "2022-11-23T17:30:27.525Z"
   },
   {
    "duration": 39,
    "start_time": "2022-11-23T17:30:29.931Z"
   },
   {
    "duration": 237,
    "start_time": "2022-11-23T17:30:36.456Z"
   },
   {
    "duration": 297,
    "start_time": "2022-11-23T17:30:53.699Z"
   },
   {
    "duration": 274,
    "start_time": "2022-11-23T17:31:08.073Z"
   },
   {
    "duration": 287,
    "start_time": "2022-11-23T17:31:21.384Z"
   },
   {
    "duration": 299,
    "start_time": "2022-11-23T17:31:26.526Z"
   },
   {
    "duration": 324,
    "start_time": "2022-11-23T17:31:32.660Z"
   },
   {
    "duration": 303,
    "start_time": "2022-11-23T17:31:38.364Z"
   },
   {
    "duration": 304,
    "start_time": "2022-11-23T17:31:44.472Z"
   },
   {
    "duration": 301,
    "start_time": "2022-11-23T17:31:50.195Z"
   },
   {
    "duration": 236,
    "start_time": "2022-11-23T17:31:54.617Z"
   },
   {
    "duration": 362,
    "start_time": "2022-11-23T17:31:59.344Z"
   },
   {
    "duration": 336,
    "start_time": "2022-11-23T17:32:04.862Z"
   },
   {
    "duration": 306,
    "start_time": "2022-11-23T17:32:10.453Z"
   },
   {
    "duration": 341,
    "start_time": "2022-11-23T17:32:16.133Z"
   },
   {
    "duration": 311,
    "start_time": "2022-11-23T17:32:37.150Z"
   },
   {
    "duration": 241,
    "start_time": "2022-11-23T17:32:45.451Z"
   },
   {
    "duration": 220,
    "start_time": "2022-11-23T17:33:13.682Z"
   },
   {
    "duration": 224,
    "start_time": "2022-11-23T17:34:16.527Z"
   },
   {
    "duration": 297,
    "start_time": "2022-11-23T17:35:08.078Z"
   },
   {
    "duration": 77,
    "start_time": "2022-11-23T17:37:59.452Z"
   },
   {
    "duration": 130,
    "start_time": "2022-11-23T17:38:15.639Z"
   },
   {
    "duration": 94,
    "start_time": "2022-11-23T17:38:34.551Z"
   },
   {
    "duration": 10,
    "start_time": "2022-11-23T17:38:58.477Z"
   },
   {
    "duration": 13,
    "start_time": "2022-11-23T17:39:03.505Z"
   },
   {
    "duration": 12,
    "start_time": "2022-11-23T17:39:46.977Z"
   },
   {
    "duration": 13,
    "start_time": "2022-11-23T17:39:58.028Z"
   },
   {
    "duration": 12,
    "start_time": "2022-11-23T17:40:02.670Z"
   },
   {
    "duration": 13,
    "start_time": "2022-11-23T17:40:19.184Z"
   },
   {
    "duration": 12,
    "start_time": "2022-11-23T17:45:04.881Z"
   },
   {
    "duration": 12,
    "start_time": "2022-11-23T17:45:09.234Z"
   },
   {
    "duration": 17,
    "start_time": "2022-11-23T17:45:17.152Z"
   },
   {
    "duration": 22,
    "start_time": "2022-11-23T17:47:31.380Z"
   },
   {
    "duration": 21,
    "start_time": "2022-11-23T17:47:58.173Z"
   },
   {
    "duration": 24,
    "start_time": "2022-11-23T17:48:19.494Z"
   },
   {
    "duration": 23,
    "start_time": "2022-11-23T17:48:24.771Z"
   },
   {
    "duration": 19,
    "start_time": "2022-11-23T17:48:29.186Z"
   },
   {
    "duration": 20,
    "start_time": "2022-11-23T17:48:34.657Z"
   },
   {
    "duration": 19,
    "start_time": "2022-11-23T17:48:38.532Z"
   },
   {
    "duration": 21,
    "start_time": "2022-11-23T17:48:42.258Z"
   },
   {
    "duration": 23,
    "start_time": "2022-11-23T17:48:46.895Z"
   },
   {
    "duration": 22,
    "start_time": "2022-11-23T17:48:51.055Z"
   },
   {
    "duration": 25,
    "start_time": "2022-11-23T17:48:55.040Z"
   },
   {
    "duration": 24,
    "start_time": "2022-11-23T17:48:59.789Z"
   },
   {
    "duration": 29,
    "start_time": "2022-11-23T17:49:05.401Z"
   },
   {
    "duration": 24,
    "start_time": "2022-11-23T17:49:10.590Z"
   },
   {
    "duration": 27,
    "start_time": "2022-11-23T17:49:14.501Z"
   },
   {
    "duration": 24,
    "start_time": "2022-11-23T17:49:19.802Z"
   },
   {
    "duration": 24,
    "start_time": "2022-11-23T17:49:24.475Z"
   },
   {
    "duration": 25,
    "start_time": "2022-11-23T17:49:28.534Z"
   },
   {
    "duration": 24,
    "start_time": "2022-11-23T17:49:57.574Z"
   },
   {
    "duration": 13,
    "start_time": "2022-11-23T17:50:09.522Z"
   },
   {
    "duration": 39,
    "start_time": "2022-11-23T17:50:11.824Z"
   },
   {
    "duration": 29,
    "start_time": "2022-11-23T17:50:17.120Z"
   },
   {
    "duration": 28,
    "start_time": "2022-11-23T17:50:21.344Z"
   },
   {
    "duration": 26,
    "start_time": "2022-11-23T17:50:26.566Z"
   },
   {
    "duration": 26,
    "start_time": "2022-11-23T17:50:31.264Z"
   },
   {
    "duration": 25,
    "start_time": "2022-11-23T17:50:35.508Z"
   },
   {
    "duration": 28,
    "start_time": "2022-11-23T17:50:40.502Z"
   },
   {
    "duration": 23,
    "start_time": "2022-11-23T17:50:45.495Z"
   },
   {
    "duration": 24,
    "start_time": "2022-11-23T17:50:49.914Z"
   },
   {
    "duration": 24,
    "start_time": "2022-11-23T17:50:53.877Z"
   },
   {
    "duration": 24,
    "start_time": "2022-11-23T17:50:59.100Z"
   },
   {
    "duration": 305,
    "start_time": "2022-11-23T17:51:21.392Z"
   },
   {
    "duration": 294,
    "start_time": "2022-11-23T17:51:30.015Z"
   },
   {
    "duration": 9,
    "start_time": "2022-11-23T17:55:24.896Z"
   },
   {
    "duration": 30,
    "start_time": "2022-11-23T17:58:21.501Z"
   },
   {
    "duration": 57,
    "start_time": "2022-11-23T18:02:33.906Z"
   },
   {
    "duration": 77,
    "start_time": "2022-11-23T18:02:42.823Z"
   },
   {
    "duration": 66,
    "start_time": "2022-11-23T18:03:48.088Z"
   },
   {
    "duration": 17,
    "start_time": "2022-11-23T18:08:23.785Z"
   },
   {
    "duration": 15,
    "start_time": "2022-11-23T18:08:45.238Z"
   },
   {
    "duration": 56,
    "start_time": "2022-11-23T18:12:30.825Z"
   },
   {
    "duration": 54,
    "start_time": "2022-11-23T18:16:43.085Z"
   },
   {
    "duration": 4,
    "start_time": "2022-11-23T18:16:56.423Z"
   },
   {
    "duration": 44,
    "start_time": "2022-11-23T18:16:56.866Z"
   },
   {
    "duration": 16,
    "start_time": "2022-11-23T18:16:57.283Z"
   },
   {
    "duration": 15,
    "start_time": "2022-11-23T18:16:57.487Z"
   },
   {
    "duration": 7,
    "start_time": "2022-11-23T18:16:57.728Z"
   },
   {
    "duration": 4,
    "start_time": "2022-11-23T18:16:58.183Z"
   },
   {
    "duration": 7,
    "start_time": "2022-11-23T18:16:58.416Z"
   },
   {
    "duration": 7,
    "start_time": "2022-11-23T18:16:58.688Z"
   },
   {
    "duration": 6,
    "start_time": "2022-11-23T18:16:58.987Z"
   },
   {
    "duration": 6,
    "start_time": "2022-11-23T18:16:59.239Z"
   },
   {
    "duration": 6,
    "start_time": "2022-11-23T18:16:59.493Z"
   },
   {
    "duration": 6,
    "start_time": "2022-11-23T18:16:59.766Z"
   },
   {
    "duration": 6,
    "start_time": "2022-11-23T18:17:00.060Z"
   },
   {
    "duration": 5,
    "start_time": "2022-11-23T18:17:01.095Z"
   },
   {
    "duration": 11,
    "start_time": "2022-11-23T18:17:01.467Z"
   },
   {
    "duration": 11,
    "start_time": "2022-11-23T18:17:03.615Z"
   },
   {
    "duration": 3,
    "start_time": "2022-11-23T18:17:07.523Z"
   },
   {
    "duration": 49,
    "start_time": "2022-11-23T18:17:08.727Z"
   },
   {
    "duration": 84,
    "start_time": "2022-11-23T18:17:37.828Z"
   },
   {
    "duration": 64,
    "start_time": "2022-11-23T18:20:22.447Z"
   },
   {
    "duration": 61,
    "start_time": "2022-11-23T18:25:38.045Z"
   },
   {
    "duration": 36,
    "start_time": "2022-11-23T18:26:02.899Z"
   },
   {
    "duration": 41,
    "start_time": "2022-11-23T18:26:24.026Z"
   },
   {
    "duration": 435,
    "start_time": "2022-11-23T18:27:15.557Z"
   },
   {
    "duration": 18,
    "start_time": "2022-11-23T18:31:25.892Z"
   },
   {
    "duration": 435,
    "start_time": "2022-11-23T18:32:50.636Z"
   },
   {
    "duration": 20,
    "start_time": "2022-11-23T18:33:03.141Z"
   },
   {
    "duration": 403,
    "start_time": "2022-11-23T18:34:16.886Z"
   },
   {
    "duration": 17,
    "start_time": "2022-11-23T18:34:36.158Z"
   },
   {
    "duration": 250,
    "start_time": "2022-11-23T18:34:39.712Z"
   },
   {
    "duration": 295,
    "start_time": "2022-11-23T18:35:05.603Z"
   },
   {
    "duration": 209,
    "start_time": "2022-11-23T18:35:20.246Z"
   },
   {
    "duration": 93,
    "start_time": "2022-11-23T18:35:47.811Z"
   },
   {
    "duration": 235,
    "start_time": "2022-11-23T18:35:55.409Z"
   },
   {
    "duration": 293,
    "start_time": "2022-11-23T18:36:03.463Z"
   },
   {
    "duration": 296,
    "start_time": "2022-11-23T18:36:09.137Z"
   },
   {
    "duration": 307,
    "start_time": "2022-11-23T18:36:15.006Z"
   },
   {
    "duration": 327,
    "start_time": "2022-11-23T18:36:21.691Z"
   },
   {
    "duration": 301,
    "start_time": "2022-11-23T18:36:27.088Z"
   },
   {
    "duration": 348,
    "start_time": "2022-11-23T18:36:34.858Z"
   },
   {
    "duration": 238,
    "start_time": "2022-11-23T18:36:37.918Z"
   },
   {
    "duration": 143,
    "start_time": "2022-11-23T18:36:44.997Z"
   },
   {
    "duration": 31,
    "start_time": "2022-11-23T18:36:58.596Z"
   },
   {
    "duration": 32,
    "start_time": "2022-11-23T18:37:10.393Z"
   },
   {
    "duration": 230,
    "start_time": "2022-11-23T18:37:12.893Z"
   },
   {
    "duration": 30,
    "start_time": "2022-11-23T18:37:42.975Z"
   },
   {
    "duration": 417,
    "start_time": "2022-11-23T18:40:37.772Z"
   },
   {
    "duration": 28,
    "start_time": "2022-11-23T18:40:49.114Z"
   },
   {
    "duration": 500,
    "start_time": "2022-11-23T18:41:52.411Z"
   },
   {
    "duration": 428,
    "start_time": "2022-11-23T18:42:31.814Z"
   },
   {
    "duration": 32,
    "start_time": "2022-11-23T18:42:46.607Z"
   },
   {
    "duration": 12,
    "start_time": "2022-11-23T18:43:49.354Z"
   },
   {
    "duration": 37,
    "start_time": "2022-11-23T18:44:02.038Z"
   },
   {
    "duration": 13,
    "start_time": "2022-11-23T18:44:15.315Z"
   },
   {
    "duration": 44,
    "start_time": "2022-11-23T18:44:21.185Z"
   },
   {
    "duration": 45,
    "start_time": "2022-11-23T18:44:28.268Z"
   },
   {
    "duration": 196,
    "start_time": "2022-11-23T18:47:51.633Z"
   },
   {
    "duration": 315,
    "start_time": "2022-11-23T18:47:54.097Z"
   },
   {
    "duration": 207,
    "start_time": "2022-11-23T18:47:55.370Z"
   },
   {
    "duration": 13,
    "start_time": "2022-11-23T18:47:57.359Z"
   },
   {
    "duration": 25,
    "start_time": "2022-11-23T18:48:00.264Z"
   },
   {
    "duration": 66,
    "start_time": "2022-11-23T18:48:07.682Z"
   },
   {
    "duration": 82,
    "start_time": "2022-11-23T18:48:24.034Z"
   },
   {
    "duration": 13,
    "start_time": "2022-11-23T18:48:27.766Z"
   },
   {
    "duration": 10,
    "start_time": "2022-11-23T18:50:01.354Z"
   },
   {
    "duration": 24,
    "start_time": "2022-11-23T18:50:06.615Z"
   },
   {
    "duration": 13,
    "start_time": "2022-11-23T18:51:11.849Z"
   },
   {
    "duration": 30,
    "start_time": "2022-11-23T18:51:12.850Z"
   },
   {
    "duration": 17,
    "start_time": "2022-11-23T18:53:47.320Z"
   },
   {
    "duration": 23,
    "start_time": "2022-11-23T18:54:35.560Z"
   },
   {
    "duration": 448,
    "start_time": "2022-11-23T18:54:46.435Z"
   },
   {
    "duration": 445,
    "start_time": "2022-11-23T18:55:40.657Z"
   },
   {
    "duration": 412,
    "start_time": "2022-11-23T18:56:29.576Z"
   },
   {
    "duration": 17,
    "start_time": "2022-11-23T18:57:48.674Z"
   },
   {
    "duration": 6,
    "start_time": "2022-11-23T18:58:38.340Z"
   },
   {
    "duration": 72,
    "start_time": "2022-11-23T19:00:23.002Z"
   },
   {
    "duration": 7,
    "start_time": "2022-11-23T19:00:42.503Z"
   },
   {
    "duration": 17,
    "start_time": "2022-11-23T19:02:16.590Z"
   },
   {
    "duration": 413,
    "start_time": "2022-11-23T19:02:35.850Z"
   },
   {
    "duration": 17,
    "start_time": "2022-11-23T19:02:49.978Z"
   },
   {
    "duration": 214,
    "start_time": "2022-11-23T19:02:50.754Z"
   },
   {
    "duration": 286,
    "start_time": "2022-11-23T19:03:31.960Z"
   },
   {
    "duration": 212,
    "start_time": "2022-11-23T19:03:53.521Z"
   },
   {
    "duration": 11,
    "start_time": "2022-11-23T19:06:00.480Z"
   },
   {
    "duration": 211,
    "start_time": "2022-11-23T19:06:01.990Z"
   },
   {
    "duration": 268,
    "start_time": "2022-11-23T19:06:14.153Z"
   },
   {
    "duration": 211,
    "start_time": "2022-11-23T19:06:33.395Z"
   },
   {
    "duration": 14,
    "start_time": "2022-11-23T19:06:42.890Z"
   },
   {
    "duration": 45,
    "start_time": "2022-11-23T19:06:46.308Z"
   },
   {
    "duration": 10,
    "start_time": "2022-11-23T19:07:41.088Z"
   },
   {
    "duration": 10,
    "start_time": "2022-11-23T19:07:58.014Z"
   },
   {
    "duration": 15,
    "start_time": "2022-11-23T19:08:12.487Z"
   },
   {
    "duration": 430,
    "start_time": "2022-11-23T19:09:56.525Z"
   },
   {
    "duration": 44,
    "start_time": "2022-11-23T19:10:18.768Z"
   },
   {
    "duration": 199,
    "start_time": "2022-11-23T19:10:43.160Z"
   },
   {
    "duration": 287,
    "start_time": "2022-11-23T19:10:51.437Z"
   },
   {
    "duration": 296,
    "start_time": "2022-11-23T19:11:05.464Z"
   },
   {
    "duration": 253,
    "start_time": "2022-11-23T19:11:12.525Z"
   },
   {
    "duration": 221,
    "start_time": "2022-11-23T19:11:27.459Z"
   },
   {
    "duration": 249,
    "start_time": "2022-11-23T19:11:36.925Z"
   },
   {
    "duration": 217,
    "start_time": "2022-11-23T19:11:38.966Z"
   },
   {
    "duration": 11,
    "start_time": "2022-11-23T19:11:45.811Z"
   },
   {
    "duration": 24,
    "start_time": "2022-11-23T19:11:47.186Z"
   },
   {
    "duration": 71,
    "start_time": "2022-11-23T19:12:01.078Z"
   },
   {
    "duration": 13,
    "start_time": "2022-11-23T19:12:03.714Z"
   },
   {
    "duration": 4,
    "start_time": "2022-11-23T19:12:43.542Z"
   },
   {
    "duration": 44,
    "start_time": "2022-11-23T19:12:44.098Z"
   },
   {
    "duration": 12,
    "start_time": "2022-11-23T19:12:44.557Z"
   },
   {
    "duration": 12,
    "start_time": "2022-11-23T19:12:44.785Z"
   },
   {
    "duration": 7,
    "start_time": "2022-11-23T19:12:45.009Z"
   },
   {
    "duration": 4,
    "start_time": "2022-11-23T19:12:45.521Z"
   },
   {
    "duration": 5,
    "start_time": "2022-11-23T19:12:45.784Z"
   },
   {
    "duration": 7,
    "start_time": "2022-11-23T19:12:46.054Z"
   },
   {
    "duration": 6,
    "start_time": "2022-11-23T19:12:46.310Z"
   },
   {
    "duration": 5,
    "start_time": "2022-11-23T19:12:46.552Z"
   },
   {
    "duration": 4,
    "start_time": "2022-11-23T19:12:46.789Z"
   },
   {
    "duration": 7,
    "start_time": "2022-11-23T19:12:47.022Z"
   },
   {
    "duration": 5,
    "start_time": "2022-11-23T19:12:47.246Z"
   },
   {
    "duration": 4,
    "start_time": "2022-11-23T19:12:47.733Z"
   },
   {
    "duration": 12,
    "start_time": "2022-11-23T19:12:47.988Z"
   },
   {
    "duration": 11,
    "start_time": "2022-11-23T19:12:48.746Z"
   },
   {
    "duration": 3,
    "start_time": "2022-11-23T19:12:49.368Z"
   },
   {
    "duration": 60,
    "start_time": "2022-11-23T19:12:49.748Z"
   },
   {
    "duration": 63,
    "start_time": "2022-11-23T19:12:50.166Z"
   },
   {
    "duration": 7,
    "start_time": "2022-11-23T19:12:51.404Z"
   },
   {
    "duration": 401,
    "start_time": "2022-11-23T19:12:56.418Z"
   },
   {
    "duration": 15,
    "start_time": "2022-11-23T19:13:00.710Z"
   },
   {
    "duration": 215,
    "start_time": "2022-11-23T19:13:02.171Z"
   },
   {
    "duration": 312,
    "start_time": "2022-11-23T19:13:06.056Z"
   },
   {
    "duration": 216,
    "start_time": "2022-11-23T19:13:11.245Z"
   },
   {
    "duration": 109,
    "start_time": "2022-11-23T19:13:15.172Z"
   },
   {
    "duration": 410,
    "start_time": "2022-11-23T19:13:21.374Z"
   },
   {
    "duration": 10,
    "start_time": "2022-11-23T19:13:26.648Z"
   },
   {
    "duration": 413,
    "start_time": "2022-11-23T19:13:50.449Z"
   },
   {
    "duration": 15,
    "start_time": "2022-11-23T19:13:51.251Z"
   },
   {
    "duration": 328,
    "start_time": "2022-11-23T19:14:11.807Z"
   },
   {
    "duration": 265,
    "start_time": "2022-11-23T19:14:16.312Z"
   },
   {
    "duration": 236,
    "start_time": "2022-11-23T19:14:19.046Z"
   },
   {
    "duration": 211,
    "start_time": "2022-11-23T19:15:46.684Z"
   },
   {
    "duration": 14,
    "start_time": "2022-11-23T19:15:49.625Z"
   },
   {
    "duration": 41,
    "start_time": "2022-11-23T19:15:54.279Z"
   },
   {
    "duration": 194,
    "start_time": "2022-11-23T19:15:57.540Z"
   },
   {
    "duration": 224,
    "start_time": "2022-11-23T19:15:59.182Z"
   },
   {
    "duration": 194,
    "start_time": "2022-11-23T19:16:16.763Z"
   },
   {
    "duration": 12,
    "start_time": "2022-11-23T19:16:19.808Z"
   },
   {
    "duration": 24,
    "start_time": "2022-11-23T19:16:22.053Z"
   },
   {
    "duration": 60,
    "start_time": "2022-11-23T19:16:33.691Z"
   },
   {
    "duration": 15,
    "start_time": "2022-11-23T19:16:35.885Z"
   },
   {
    "duration": 11,
    "start_time": "2022-11-23T19:17:34.992Z"
   },
   {
    "duration": 14,
    "start_time": "2022-11-23T19:18:00.248Z"
   },
   {
    "duration": 86,
    "start_time": "2022-11-23T19:28:42.757Z"
   },
   {
    "duration": 8,
    "start_time": "2022-11-23T19:29:08.019Z"
   },
   {
    "duration": 95,
    "start_time": "2022-11-23T19:31:13.898Z"
   },
   {
    "duration": 4,
    "start_time": "2022-11-23T19:31:45.711Z"
   },
   {
    "duration": 63,
    "start_time": "2022-11-23T19:32:36.873Z"
   },
   {
    "duration": 7,
    "start_time": "2022-11-23T19:32:58.134Z"
   },
   {
    "duration": 419,
    "start_time": "2022-11-23T19:33:01.357Z"
   },
   {
    "duration": 15,
    "start_time": "2022-11-23T19:33:07.361Z"
   },
   {
    "duration": 264,
    "start_time": "2022-11-23T19:33:17.016Z"
   },
   {
    "duration": 288,
    "start_time": "2022-11-23T19:33:27.246Z"
   },
   {
    "duration": 232,
    "start_time": "2022-11-23T19:33:38.621Z"
   },
   {
    "duration": 4,
    "start_time": "2022-11-23T19:33:47.848Z"
   },
   {
    "duration": 38,
    "start_time": "2022-11-23T19:33:48.413Z"
   },
   {
    "duration": 13,
    "start_time": "2022-11-23T19:33:48.957Z"
   },
   {
    "duration": 14,
    "start_time": "2022-11-23T19:33:49.198Z"
   },
   {
    "duration": 6,
    "start_time": "2022-11-23T19:33:49.470Z"
   },
   {
    "duration": 4,
    "start_time": "2022-11-23T19:33:50.058Z"
   },
   {
    "duration": 8,
    "start_time": "2022-11-23T19:33:50.352Z"
   },
   {
    "duration": 6,
    "start_time": "2022-11-23T19:33:50.642Z"
   },
   {
    "duration": 7,
    "start_time": "2022-11-23T19:33:50.987Z"
   },
   {
    "duration": 7,
    "start_time": "2022-11-23T19:33:51.258Z"
   },
   {
    "duration": 6,
    "start_time": "2022-11-23T19:33:51.566Z"
   },
   {
    "duration": 6,
    "start_time": "2022-11-23T19:33:51.815Z"
   },
   {
    "duration": 5,
    "start_time": "2022-11-23T19:33:52.070Z"
   },
   {
    "duration": 5,
    "start_time": "2022-11-23T19:33:52.583Z"
   },
   {
    "duration": 17,
    "start_time": "2022-11-23T19:33:52.867Z"
   },
   {
    "duration": 11,
    "start_time": "2022-11-23T19:33:53.676Z"
   },
   {
    "duration": 59,
    "start_time": "2022-11-23T19:33:54.279Z"
   },
   {
    "duration": 7,
    "start_time": "2022-11-23T19:33:54.594Z"
   },
   {
    "duration": 405,
    "start_time": "2022-11-23T19:33:58.596Z"
   },
   {
    "duration": 16,
    "start_time": "2022-11-23T19:34:00.749Z"
   },
   {
    "duration": 238,
    "start_time": "2022-11-23T19:34:02.678Z"
   },
   {
    "duration": 240,
    "start_time": "2022-11-23T19:34:05.969Z"
   },
   {
    "duration": 224,
    "start_time": "2022-11-23T19:34:11.731Z"
   },
   {
    "duration": 111,
    "start_time": "2022-11-23T19:34:15.537Z"
   },
   {
    "duration": 231,
    "start_time": "2022-11-23T19:34:36.635Z"
   },
   {
    "duration": 269,
    "start_time": "2022-11-23T19:34:43.747Z"
   },
   {
    "duration": 262,
    "start_time": "2022-11-23T19:34:51.636Z"
   },
   {
    "duration": 279,
    "start_time": "2022-11-23T19:35:53.667Z"
   },
   {
    "duration": 288,
    "start_time": "2022-11-23T19:35:59.861Z"
   },
   {
    "duration": 289,
    "start_time": "2022-11-23T19:36:08.627Z"
   },
   {
    "duration": 318,
    "start_time": "2022-11-23T19:36:13.823Z"
   },
   {
    "duration": 281,
    "start_time": "2022-11-23T19:36:19.350Z"
   },
   {
    "duration": 288,
    "start_time": "2022-11-23T19:36:24.591Z"
   },
   {
    "duration": 305,
    "start_time": "2022-11-23T19:36:29.846Z"
   },
   {
    "duration": 277,
    "start_time": "2022-11-23T19:36:35.804Z"
   },
   {
    "duration": 220,
    "start_time": "2022-11-23T19:36:42.246Z"
   },
   {
    "duration": 433,
    "start_time": "2022-11-23T19:36:52.968Z"
   },
   {
    "duration": 16,
    "start_time": "2022-11-23T19:36:56.520Z"
   },
   {
    "duration": 330,
    "start_time": "2022-11-23T19:37:08.957Z"
   },
   {
    "duration": 269,
    "start_time": "2022-11-23T19:37:17.594Z"
   },
   {
    "duration": 262,
    "start_time": "2022-11-23T19:37:27.116Z"
   },
   {
    "duration": 260,
    "start_time": "2022-11-23T19:37:41.779Z"
   },
   {
    "duration": 223,
    "start_time": "2022-11-23T19:38:06.418Z"
   },
   {
    "duration": 219,
    "start_time": "2022-11-23T19:38:13.794Z"
   },
   {
    "duration": 192,
    "start_time": "2022-11-23T19:38:18.672Z"
   },
   {
    "duration": 218,
    "start_time": "2022-11-23T19:38:23.890Z"
   },
   {
    "duration": 250,
    "start_time": "2022-11-23T19:38:28.279Z"
   },
   {
    "duration": 240,
    "start_time": "2022-11-23T19:38:33.456Z"
   },
   {
    "duration": 237,
    "start_time": "2022-11-23T19:38:40.650Z"
   },
   {
    "duration": 227,
    "start_time": "2022-11-23T19:38:55.358Z"
   },
   {
    "duration": 18,
    "start_time": "2022-11-23T19:39:10.825Z"
   },
   {
    "duration": 15,
    "start_time": "2022-11-23T19:39:15.909Z"
   },
   {
    "duration": 14,
    "start_time": "2022-11-23T19:39:41.595Z"
   },
   {
    "duration": 14,
    "start_time": "2022-11-23T19:39:50.726Z"
   },
   {
    "duration": 44,
    "start_time": "2022-11-23T19:39:56.354Z"
   },
   {
    "duration": 417,
    "start_time": "2022-11-23T19:41:14.013Z"
   },
   {
    "duration": 52,
    "start_time": "2022-11-23T19:41:20.738Z"
   },
   {
    "duration": 198,
    "start_time": "2022-11-23T19:41:43.047Z"
   },
   {
    "duration": 241,
    "start_time": "2022-11-23T19:41:51.940Z"
   },
   {
    "duration": 275,
    "start_time": "2022-11-23T19:42:07.474Z"
   },
   {
    "duration": 299,
    "start_time": "2022-11-23T19:42:23.927Z"
   },
   {
    "duration": 238,
    "start_time": "2022-11-23T19:42:30.966Z"
   },
   {
    "duration": 245,
    "start_time": "2022-11-23T19:42:38.809Z"
   },
   {
    "duration": 278,
    "start_time": "2022-11-23T19:42:45.458Z"
   },
   {
    "duration": 321,
    "start_time": "2022-11-23T19:42:53.848Z"
   },
   {
    "duration": 291,
    "start_time": "2022-11-23T19:43:01.544Z"
   },
   {
    "duration": 278,
    "start_time": "2022-11-23T19:43:09.078Z"
   },
   {
    "duration": 230,
    "start_time": "2022-11-23T19:43:14.272Z"
   },
   {
    "duration": 15,
    "start_time": "2022-11-23T19:43:17.408Z"
   },
   {
    "duration": 31,
    "start_time": "2022-11-23T19:43:36.425Z"
   },
   {
    "duration": 67,
    "start_time": "2022-11-23T19:43:43.071Z"
   },
   {
    "duration": 27,
    "start_time": "2022-11-23T19:45:00.060Z"
   },
   {
    "duration": 24,
    "start_time": "2022-11-23T19:48:37.126Z"
   },
   {
    "duration": 24,
    "start_time": "2022-11-23T19:48:43.401Z"
   },
   {
    "duration": 31,
    "start_time": "2022-11-23T19:48:50.192Z"
   },
   {
    "duration": 24,
    "start_time": "2022-11-23T19:48:54.612Z"
   },
   {
    "duration": 24,
    "start_time": "2022-11-23T19:49:00.002Z"
   },
   {
    "duration": 23,
    "start_time": "2022-11-23T19:49:05.896Z"
   },
   {
    "duration": 28,
    "start_time": "2022-11-23T19:49:10.466Z"
   },
   {
    "duration": 17,
    "start_time": "2022-11-23T19:49:31.579Z"
   },
   {
    "duration": 29,
    "start_time": "2022-11-23T19:49:34.324Z"
   },
   {
    "duration": 20,
    "start_time": "2022-11-23T19:49:41.476Z"
   },
   {
    "duration": 29,
    "start_time": "2022-11-23T19:49:47.680Z"
   },
   {
    "duration": 26,
    "start_time": "2022-11-23T19:51:27.391Z"
   },
   {
    "duration": 27,
    "start_time": "2022-11-23T19:51:34.318Z"
   },
   {
    "duration": 34,
    "start_time": "2022-11-23T19:51:39.269Z"
   },
   {
    "duration": 30,
    "start_time": "2022-11-23T19:51:43.719Z"
   },
   {
    "duration": 40,
    "start_time": "2022-11-23T19:51:49.354Z"
   },
   {
    "duration": 28,
    "start_time": "2022-11-23T19:51:54.608Z"
   },
   {
    "duration": 28,
    "start_time": "2022-11-23T19:51:58.947Z"
   },
   {
    "duration": 27,
    "start_time": "2022-11-23T19:52:03.543Z"
   },
   {
    "duration": 13,
    "start_time": "2022-11-23T19:52:13.826Z"
   },
   {
    "duration": 7,
    "start_time": "2022-11-23T19:54:23.424Z"
   },
   {
    "duration": 13,
    "start_time": "2022-11-23T19:55:07.854Z"
   },
   {
    "duration": 12,
    "start_time": "2022-11-23T19:56:02.054Z"
   },
   {
    "duration": 472,
    "start_time": "2022-11-23T19:56:49.499Z"
   },
   {
    "duration": 38,
    "start_time": "2022-11-23T19:57:13.659Z"
   },
   {
    "duration": 7,
    "start_time": "2022-11-23T19:57:55.096Z"
   },
   {
    "duration": 10,
    "start_time": "2022-11-23T19:58:00.800Z"
   },
   {
    "duration": 12,
    "start_time": "2022-11-23T19:58:28.815Z"
   },
   {
    "duration": 13,
    "start_time": "2022-11-23T19:59:00.032Z"
   },
   {
    "duration": 13,
    "start_time": "2022-11-23T20:00:16.833Z"
   },
   {
    "duration": 11,
    "start_time": "2022-11-23T20:03:41.424Z"
   },
   {
    "duration": 3,
    "start_time": "2022-11-23T20:03:43.605Z"
   },
   {
    "duration": 31,
    "start_time": "2022-11-23T20:03:48.822Z"
   },
   {
    "duration": 29,
    "start_time": "2022-11-23T20:04:04.836Z"
   },
   {
    "duration": 526,
    "start_time": "2022-11-23T20:05:02.930Z"
   },
   {
    "duration": 41,
    "start_time": "2022-11-23T20:05:11.057Z"
   },
   {
    "duration": 17,
    "start_time": "2022-11-23T20:06:07.075Z"
   },
   {
    "duration": 28,
    "start_time": "2022-11-23T20:15:06.178Z"
   },
   {
    "duration": 18,
    "start_time": "2022-11-23T20:16:11.176Z"
   },
   {
    "duration": 590,
    "start_time": "2022-11-23T20:16:13.244Z"
   },
   {
    "duration": 41,
    "start_time": "2022-11-23T20:16:17.663Z"
   },
   {
    "duration": 603,
    "start_time": "2022-11-23T20:19:58.281Z"
   },
   {
    "duration": 38,
    "start_time": "2022-11-23T20:19:59.646Z"
   },
   {
    "duration": 221,
    "start_time": "2022-11-23T20:20:01.639Z"
   },
   {
    "duration": 314,
    "start_time": "2022-11-23T20:20:05.594Z"
   },
   {
    "duration": 1579,
    "start_time": "2022-11-24T05:17:39.424Z"
   },
   {
    "duration": 164,
    "start_time": "2022-11-24T05:17:42.661Z"
   },
   {
    "duration": 23,
    "start_time": "2022-11-24T05:17:43.866Z"
   },
   {
    "duration": 20,
    "start_time": "2022-11-24T05:17:45.061Z"
   },
   {
    "duration": 7,
    "start_time": "2022-11-24T05:17:46.279Z"
   },
   {
    "duration": 4,
    "start_time": "2022-11-24T05:17:49.058Z"
   },
   {
    "duration": 9,
    "start_time": "2022-11-24T05:17:49.594Z"
   },
   {
    "duration": 9,
    "start_time": "2022-11-24T05:17:50.434Z"
   },
   {
    "duration": 9,
    "start_time": "2022-11-24T05:17:51.110Z"
   },
   {
    "duration": 9,
    "start_time": "2022-11-24T05:17:52.006Z"
   },
   {
    "duration": 7,
    "start_time": "2022-11-24T05:17:52.724Z"
   },
   {
    "duration": 6,
    "start_time": "2022-11-24T05:17:53.650Z"
   },
   {
    "duration": 6,
    "start_time": "2022-11-24T05:17:54.526Z"
   },
   {
    "duration": 5,
    "start_time": "2022-11-24T05:17:56.200Z"
   },
   {
    "duration": 13,
    "start_time": "2022-11-24T05:17:56.815Z"
   },
   {
    "duration": 17,
    "start_time": "2022-11-24T05:18:06.165Z"
   },
   {
    "duration": 118,
    "start_time": "2022-11-24T05:22:33.303Z"
   },
   {
    "duration": 26,
    "start_time": "2022-11-24T05:23:07.774Z"
   },
   {
    "duration": 62,
    "start_time": "2022-11-24T05:23:47.179Z"
   },
   {
    "duration": 78,
    "start_time": "2022-11-24T05:23:57.524Z"
   },
   {
    "duration": 470,
    "start_time": "2022-11-24T05:24:20.099Z"
   },
   {
    "duration": 17,
    "start_time": "2022-11-24T05:24:28.133Z"
   },
   {
    "duration": 339,
    "start_time": "2022-11-24T05:24:32.259Z"
   },
   {
    "duration": 332,
    "start_time": "2022-11-24T05:24:36.521Z"
   },
   {
    "duration": 252,
    "start_time": "2022-11-24T05:24:39.568Z"
   },
   {
    "duration": 141,
    "start_time": "2022-11-24T05:24:45.030Z"
   },
   {
    "duration": 483,
    "start_time": "2022-11-24T05:24:53.143Z"
   },
   {
    "duration": 24,
    "start_time": "2022-11-24T05:24:54.795Z"
   },
   {
    "duration": 251,
    "start_time": "2022-11-24T05:25:04.993Z"
   },
   {
    "duration": 351,
    "start_time": "2022-11-24T05:25:11.549Z"
   },
   {
    "duration": 231,
    "start_time": "2022-11-24T05:28:36.868Z"
   },
   {
    "duration": 9,
    "start_time": "2022-11-24T05:28:40.994Z"
   },
   {
    "duration": 16,
    "start_time": "2022-11-24T05:29:52.258Z"
   },
   {
    "duration": 24,
    "start_time": "2022-11-24T05:30:46.964Z"
   },
   {
    "duration": 14,
    "start_time": "2022-11-24T05:30:55.664Z"
   },
   {
    "duration": 18,
    "start_time": "2022-11-24T05:30:59.903Z"
   },
   {
    "duration": 12,
    "start_time": "2022-11-24T05:31:17.831Z"
   },
   {
    "duration": 15,
    "start_time": "2022-11-24T05:31:58.806Z"
   },
   {
    "duration": 3,
    "start_time": "2022-11-24T05:32:22.835Z"
   },
   {
    "duration": 26,
    "start_time": "2022-11-24T05:32:25.848Z"
   },
   {
    "duration": 591,
    "start_time": "2022-11-24T05:32:44.082Z"
   },
   {
    "duration": 35,
    "start_time": "2022-11-24T05:32:52.834Z"
   },
   {
    "duration": 216,
    "start_time": "2022-11-24T05:33:01.175Z"
   },
   {
    "duration": 322,
    "start_time": "2022-11-24T05:33:10.300Z"
   },
   {
    "duration": 439,
    "start_time": "2022-11-24T05:33:38.477Z"
   },
   {
    "duration": 21,
    "start_time": "2022-11-24T05:34:37.808Z"
   },
   {
    "duration": 3,
    "start_time": "2022-11-24T05:34:39.209Z"
   },
   {
    "duration": 989,
    "start_time": "2022-11-24T05:34:46.659Z"
   },
   {
    "duration": 51,
    "start_time": "2022-11-24T05:34:50.792Z"
   },
   {
    "duration": 236,
    "start_time": "2022-11-24T05:35:00.230Z"
   },
   {
    "duration": 571,
    "start_time": "2022-11-24T05:35:09.455Z"
   },
   {
    "duration": 213,
    "start_time": "2022-11-24T05:35:13.362Z"
   },
   {
    "duration": 21,
    "start_time": "2022-11-24T05:38:27.505Z"
   },
   {
    "duration": 13,
    "start_time": "2022-11-24T05:38:31.265Z"
   },
   {
    "duration": 19,
    "start_time": "2022-11-24T05:38:58.510Z"
   },
   {
    "duration": 568,
    "start_time": "2022-11-24T05:39:18.839Z"
   },
   {
    "duration": 35,
    "start_time": "2022-11-24T05:39:20.902Z"
   },
   {
    "duration": 14,
    "start_time": "2022-11-24T05:40:02.122Z"
   },
   {
    "duration": 16,
    "start_time": "2022-11-24T05:40:37.013Z"
   },
   {
    "duration": 12,
    "start_time": "2022-11-24T05:41:49.371Z"
   },
   {
    "duration": 12,
    "start_time": "2022-11-24T05:42:11.869Z"
   },
   {
    "duration": 926,
    "start_time": "2022-11-24T05:42:45.769Z"
   },
   {
    "duration": 51,
    "start_time": "2022-11-24T05:42:48.207Z"
   },
   {
    "duration": 207,
    "start_time": "2022-11-24T05:42:50.887Z"
   },
   {
    "duration": 19,
    "start_time": "2022-11-24T05:44:19.437Z"
   },
   {
    "duration": 13,
    "start_time": "2022-11-24T05:44:58.977Z"
   },
   {
    "duration": 13,
    "start_time": "2022-11-24T05:45:32.746Z"
   },
   {
    "duration": 3,
    "start_time": "2022-11-24T05:47:02.419Z"
   },
   {
    "duration": 4,
    "start_time": "2022-11-24T05:47:11.973Z"
   },
   {
    "duration": 17,
    "start_time": "2022-11-24T05:47:35.176Z"
   },
   {
    "duration": 12,
    "start_time": "2022-11-24T05:47:39.390Z"
   },
   {
    "duration": 21,
    "start_time": "2022-11-24T05:48:06.357Z"
   },
   {
    "duration": 3,
    "start_time": "2022-11-24T05:48:56.254Z"
   },
   {
    "duration": 6,
    "start_time": "2022-11-24T05:49:28.162Z"
   },
   {
    "duration": 7,
    "start_time": "2022-11-24T05:49:49.440Z"
   },
   {
    "duration": 7,
    "start_time": "2022-11-24T05:50:11.450Z"
   },
   {
    "duration": 18,
    "start_time": "2022-11-24T05:51:04.385Z"
   },
   {
    "duration": 941,
    "start_time": "2022-11-24T05:51:25.416Z"
   },
   {
    "duration": 51,
    "start_time": "2022-11-24T05:51:28.862Z"
   },
   {
    "duration": 1000,
    "start_time": "2022-11-24T05:51:48.389Z"
   },
   {
    "duration": 939,
    "start_time": "2022-11-24T05:52:22.911Z"
   },
   {
    "duration": 54,
    "start_time": "2022-11-24T05:52:27.523Z"
   },
   {
    "duration": 2344,
    "start_time": "2022-11-24T05:53:05.812Z"
   },
   {
    "duration": 682,
    "start_time": "2022-11-24T05:53:15.433Z"
   },
   {
    "duration": 25,
    "start_time": "2022-11-24T05:55:35.104Z"
   },
   {
    "duration": 16,
    "start_time": "2022-11-24T05:56:24.867Z"
   },
   {
    "duration": 648,
    "start_time": "2022-11-24T05:58:20.421Z"
   },
   {
    "duration": 660,
    "start_time": "2022-11-24T05:58:54.728Z"
   },
   {
    "duration": 661,
    "start_time": "2022-11-24T05:59:02.517Z"
   },
   {
    "duration": 5,
    "start_time": "2022-11-24T05:59:32.112Z"
   },
   {
    "duration": 15,
    "start_time": "2022-11-24T06:02:02.702Z"
   },
   {
    "duration": 4,
    "start_time": "2022-11-24T06:02:07.161Z"
   },
   {
    "duration": 3,
    "start_time": "2022-11-24T06:02:23.058Z"
   },
   {
    "duration": 11,
    "start_time": "2022-11-24T06:02:34.938Z"
   },
   {
    "duration": 644,
    "start_time": "2022-11-24T06:03:52.572Z"
   },
   {
    "duration": 709,
    "start_time": "2022-11-24T06:04:27.656Z"
   },
   {
    "duration": 660,
    "start_time": "2022-11-24T06:05:09.258Z"
   },
   {
    "duration": 3,
    "start_time": "2022-11-24T06:05:24.905Z"
   },
   {
    "duration": 16,
    "start_time": "2022-11-24T06:05:44.310Z"
   },
   {
    "duration": 197,
    "start_time": "2022-11-24T06:06:11.142Z"
   },
   {
    "duration": 200,
    "start_time": "2022-11-24T06:06:24.376Z"
   },
   {
    "duration": 15,
    "start_time": "2022-11-24T06:06:40.311Z"
   },
   {
    "duration": 201,
    "start_time": "2022-11-24T06:06:43.330Z"
   },
   {
    "duration": 21,
    "start_time": "2022-11-24T06:07:40.246Z"
   },
   {
    "duration": 87,
    "start_time": "2022-11-24T06:08:20.728Z"
   },
   {
    "duration": 80,
    "start_time": "2022-11-24T06:08:31.487Z"
   },
   {
    "duration": 48,
    "start_time": "2022-11-24T06:08:45.319Z"
   },
   {
    "duration": 45,
    "start_time": "2022-11-24T06:09:01.640Z"
   },
   {
    "duration": 45,
    "start_time": "2022-11-24T06:09:30.883Z"
   },
   {
    "duration": 58,
    "start_time": "2022-11-24T06:09:39.589Z"
   },
   {
    "duration": 65,
    "start_time": "2022-11-24T06:09:50.041Z"
   },
   {
    "duration": 3,
    "start_time": "2022-11-24T06:12:40.312Z"
   },
   {
    "duration": 13,
    "start_time": "2022-11-24T06:13:52.216Z"
   },
   {
    "duration": 23,
    "start_time": "2022-11-24T06:14:11.582Z"
   },
   {
    "duration": 6,
    "start_time": "2022-11-24T06:16:38.397Z"
   },
   {
    "duration": 925,
    "start_time": "2022-11-24T06:57:03.058Z"
   },
   {
    "duration": 892,
    "start_time": "2022-11-24T06:57:12.691Z"
   },
   {
    "duration": 5,
    "start_time": "2022-11-24T06:59:13.701Z"
   },
   {
    "duration": 5,
    "start_time": "2022-11-24T06:59:14.615Z"
   },
   {
    "duration": 4,
    "start_time": "2022-11-24T06:59:22.421Z"
   },
   {
    "duration": 41,
    "start_time": "2022-11-24T06:59:23.092Z"
   },
   {
    "duration": 13,
    "start_time": "2022-11-24T06:59:24.306Z"
   },
   {
    "duration": 13,
    "start_time": "2022-11-24T06:59:25.038Z"
   },
   {
    "duration": 7,
    "start_time": "2022-11-24T06:59:25.622Z"
   },
   {
    "duration": 3,
    "start_time": "2022-11-24T06:59:28.617Z"
   },
   {
    "duration": 7,
    "start_time": "2022-11-24T06:59:31.655Z"
   },
   {
    "duration": 7,
    "start_time": "2022-11-24T06:59:32.917Z"
   },
   {
    "duration": 6,
    "start_time": "2022-11-24T06:59:34.226Z"
   },
   {
    "duration": 6,
    "start_time": "2022-11-24T06:59:34.915Z"
   },
   {
    "duration": 6,
    "start_time": "2022-11-24T06:59:35.420Z"
   },
   {
    "duration": 5,
    "start_time": "2022-11-24T06:59:35.701Z"
   },
   {
    "duration": 5,
    "start_time": "2022-11-24T06:59:35.955Z"
   },
   {
    "duration": 5,
    "start_time": "2022-11-24T06:59:36.257Z"
   },
   {
    "duration": 4,
    "start_time": "2022-11-24T06:59:37.557Z"
   },
   {
    "duration": 11,
    "start_time": "2022-11-24T06:59:38.672Z"
   },
   {
    "duration": 17,
    "start_time": "2022-11-24T06:59:41.073Z"
   },
   {
    "duration": 67,
    "start_time": "2022-11-24T06:59:42.180Z"
   },
   {
    "duration": 7,
    "start_time": "2022-11-24T06:59:42.628Z"
   },
   {
    "duration": 6,
    "start_time": "2022-11-24T07:00:02.431Z"
   },
   {
    "duration": 378,
    "start_time": "2022-11-24T07:00:05.399Z"
   },
   {
    "duration": 19,
    "start_time": "2022-11-24T07:00:07.473Z"
   },
   {
    "duration": 223,
    "start_time": "2022-11-24T07:00:09.839Z"
   },
   {
    "duration": 279,
    "start_time": "2022-11-24T07:00:12.478Z"
   },
   {
    "duration": 230,
    "start_time": "2022-11-24T07:00:35.413Z"
   },
   {
    "duration": 225,
    "start_time": "2022-11-24T07:00:37.982Z"
   },
   {
    "duration": 302,
    "start_time": "2022-11-24T07:01:01.602Z"
   },
   {
    "duration": 307,
    "start_time": "2022-11-24T07:01:08.172Z"
   },
   {
    "duration": 297,
    "start_time": "2022-11-24T07:01:14.865Z"
   },
   {
    "duration": 271,
    "start_time": "2022-11-24T07:01:26.546Z"
   },
   {
    "duration": 264,
    "start_time": "2022-11-24T07:01:34.275Z"
   },
   {
    "duration": 300,
    "start_time": "2022-11-24T07:01:40.819Z"
   },
   {
    "duration": 286,
    "start_time": "2022-11-24T07:01:49.345Z"
   },
   {
    "duration": 288,
    "start_time": "2022-11-24T07:01:56.503Z"
   },
   {
    "duration": 345,
    "start_time": "2022-11-24T07:02:03.939Z"
   },
   {
    "duration": 148,
    "start_time": "2022-11-24T07:02:13.174Z"
   },
   {
    "duration": 151,
    "start_time": "2022-11-24T07:02:21.372Z"
   },
   {
    "duration": 183,
    "start_time": "2022-11-24T07:02:38.011Z"
   },
   {
    "duration": 180,
    "start_time": "2022-11-24T07:02:43.805Z"
   },
   {
    "duration": 176,
    "start_time": "2022-11-24T07:02:49.529Z"
   },
   {
    "duration": 213,
    "start_time": "2022-11-24T07:02:57.478Z"
   },
   {
    "duration": 194,
    "start_time": "2022-11-24T07:03:03.157Z"
   },
   {
    "duration": 175,
    "start_time": "2022-11-24T07:03:11.641Z"
   },
   {
    "duration": 226,
    "start_time": "2022-11-24T07:03:33.963Z"
   },
   {
    "duration": 106,
    "start_time": "2022-11-24T07:03:48.328Z"
   },
   {
    "duration": 401,
    "start_time": "2022-11-24T07:03:55.310Z"
   },
   {
    "duration": 15,
    "start_time": "2022-11-24T07:04:21.981Z"
   },
   {
    "duration": 224,
    "start_time": "2022-11-24T07:04:26.562Z"
   },
   {
    "duration": 259,
    "start_time": "2022-11-24T07:04:35.028Z"
   },
   {
    "duration": 184,
    "start_time": "2022-11-24T07:05:16.079Z"
   },
   {
    "duration": 165,
    "start_time": "2022-11-24T07:05:21.393Z"
   },
   {
    "duration": 176,
    "start_time": "2022-11-24T07:05:28.658Z"
   },
   {
    "duration": 258,
    "start_time": "2022-11-24T07:05:35.319Z"
   },
   {
    "duration": 231,
    "start_time": "2022-11-24T07:05:56.875Z"
   },
   {
    "duration": 232,
    "start_time": "2022-11-24T07:06:16.788Z"
   },
   {
    "duration": 224,
    "start_time": "2022-11-24T07:06:29.553Z"
   },
   {
    "duration": 15,
    "start_time": "2022-11-24T07:06:49.835Z"
   },
   {
    "duration": 871,
    "start_time": "2022-11-24T07:06:56.541Z"
   },
   {
    "duration": 885,
    "start_time": "2022-11-24T07:07:07.934Z"
   },
   {
    "duration": 11,
    "start_time": "2022-11-24T07:07:12.619Z"
   },
   {
    "duration": 850,
    "start_time": "2022-11-24T07:07:14.701Z"
   },
   {
    "duration": 20,
    "start_time": "2022-11-24T07:07:21.916Z"
   },
   {
    "duration": 4,
    "start_time": "2022-11-24T07:09:28.315Z"
   },
   {
    "duration": 9,
    "start_time": "2022-11-24T07:10:29.709Z"
   },
   {
    "duration": 46,
    "start_time": "2022-11-24T07:11:51.387Z"
   },
   {
    "duration": 49,
    "start_time": "2022-11-24T07:12:59.267Z"
   },
   {
    "duration": 62,
    "start_time": "2022-11-24T07:15:14.981Z"
   },
   {
    "duration": 74,
    "start_time": "2022-11-24T07:16:32.341Z"
   },
   {
    "duration": 142,
    "start_time": "2022-11-24T07:16:40.329Z"
   },
   {
    "duration": 51,
    "start_time": "2022-11-24T07:18:34.869Z"
   },
   {
    "duration": 52,
    "start_time": "2022-11-24T07:18:43.873Z"
   },
   {
    "duration": 47,
    "start_time": "2022-11-24T07:18:52.390Z"
   },
   {
    "duration": 46,
    "start_time": "2022-11-24T07:19:33.784Z"
   },
   {
    "duration": 176,
    "start_time": "2022-11-24T07:21:11.183Z"
   },
   {
    "duration": 3,
    "start_time": "2022-11-24T07:25:58.332Z"
   },
   {
    "duration": 23,
    "start_time": "2022-11-24T07:27:40.946Z"
   },
   {
    "duration": 3,
    "start_time": "2022-11-24T07:29:10.891Z"
   },
   {
    "duration": 185,
    "start_time": "2022-11-24T07:35:35.333Z"
   },
   {
    "duration": 395,
    "start_time": "2022-11-24T07:37:29.147Z"
   },
   {
    "duration": 308,
    "start_time": "2022-11-24T07:39:33.005Z"
   },
   {
    "duration": 295,
    "start_time": "2022-11-24T07:39:51.509Z"
   },
   {
    "duration": 704,
    "start_time": "2022-11-24T07:39:58.504Z"
   },
   {
    "duration": 1887,
    "start_time": "2022-11-24T07:40:04.097Z"
   },
   {
    "duration": 111,
    "start_time": "2022-11-24T07:40:35.586Z"
   },
   {
    "duration": 17,
    "start_time": "2022-11-24T07:44:01.457Z"
   },
   {
    "duration": 225,
    "start_time": "2022-11-24T07:46:39.541Z"
   },
   {
    "duration": 801,
    "start_time": "2022-11-24T07:47:18.266Z"
   },
   {
    "duration": 17,
    "start_time": "2022-11-24T07:48:42.051Z"
   },
   {
    "duration": 226,
    "start_time": "2022-11-24T07:48:42.926Z"
   },
   {
    "duration": 243,
    "start_time": "2022-11-24T07:49:47.505Z"
   },
   {
    "duration": 409,
    "start_time": "2022-11-24T07:52:14.904Z"
   },
   {
    "duration": 218,
    "start_time": "2022-11-24T07:53:59.021Z"
   },
   {
    "duration": 225,
    "start_time": "2022-11-24T07:54:05.757Z"
   },
   {
    "duration": 17,
    "start_time": "2022-11-24T07:54:10.098Z"
   },
   {
    "duration": 783,
    "start_time": "2022-11-24T07:54:13.321Z"
   },
   {
    "duration": 17,
    "start_time": "2022-11-24T07:54:16.032Z"
   },
   {
    "duration": 252,
    "start_time": "2022-11-24T07:54:18.081Z"
   },
   {
    "duration": 511,
    "start_time": "2022-11-24T07:54:24.694Z"
   },
   {
    "duration": 233,
    "start_time": "2022-11-24T07:57:52.057Z"
   },
   {
    "duration": 271,
    "start_time": "2022-11-24T07:58:35.776Z"
   },
   {
    "duration": 326,
    "start_time": "2022-11-24T07:58:42.824Z"
   },
   {
    "duration": 252,
    "start_time": "2022-11-24T07:58:47.060Z"
   },
   {
    "duration": 558,
    "start_time": "2022-11-24T07:59:02.038Z"
   },
   {
    "duration": 247,
    "start_time": "2022-11-24T07:59:06.010Z"
   },
   {
    "duration": 17,
    "start_time": "2022-11-24T08:01:28.469Z"
   },
   {
    "duration": 12,
    "start_time": "2022-11-24T08:03:17.996Z"
   },
   {
    "duration": 218,
    "start_time": "2022-11-24T08:03:33.302Z"
   },
   {
    "duration": 8,
    "start_time": "2022-11-24T08:10:05.521Z"
   },
   {
    "duration": 8,
    "start_time": "2022-11-24T08:10:05.702Z"
   },
   {
    "duration": 9,
    "start_time": "2022-11-24T08:10:06.395Z"
   },
   {
    "duration": 8,
    "start_time": "2022-11-24T08:10:07.045Z"
   },
   {
    "duration": 8,
    "start_time": "2022-11-24T08:10:07.642Z"
   },
   {
    "duration": 6,
    "start_time": "2022-11-24T08:10:08.641Z"
   },
   {
    "duration": 6,
    "start_time": "2022-11-24T08:10:09.100Z"
   },
   {
    "duration": 5,
    "start_time": "2022-11-24T08:10:09.580Z"
   },
   {
    "duration": 19,
    "start_time": "2022-11-24T08:10:10.719Z"
   },
   {
    "duration": 16,
    "start_time": "2022-11-24T08:10:13.151Z"
   },
   {
    "duration": 17,
    "start_time": "2022-11-24T08:10:17.038Z"
   },
   {
    "duration": 70,
    "start_time": "2022-11-24T08:10:19.046Z"
   },
   {
    "duration": 43,
    "start_time": "2022-11-24T08:10:56.170Z"
   },
   {
    "duration": 31,
    "start_time": "2022-11-24T08:10:58.730Z"
   },
   {
    "duration": 28,
    "start_time": "2022-11-24T08:11:07.230Z"
   },
   {
    "duration": 33,
    "start_time": "2022-11-24T08:11:19.124Z"
   },
   {
    "duration": 47,
    "start_time": "2022-11-24T08:11:28.434Z"
   },
   {
    "duration": 7,
    "start_time": "2022-11-24T08:11:29.938Z"
   },
   {
    "duration": 393,
    "start_time": "2022-11-24T08:11:54.807Z"
   },
   {
    "duration": 16,
    "start_time": "2022-11-24T08:11:56.819Z"
   },
   {
    "duration": 225,
    "start_time": "2022-11-24T08:12:09.742Z"
   },
   {
    "duration": 17,
    "start_time": "2022-11-24T08:12:38.707Z"
   },
   {
    "duration": 223,
    "start_time": "2022-11-24T08:12:39.730Z"
   },
   {
    "duration": 179,
    "start_time": "2022-11-24T08:12:50.099Z"
   },
   {
    "duration": 183,
    "start_time": "2022-11-24T08:13:43.059Z"
   },
   {
    "duration": 225,
    "start_time": "2022-11-24T08:13:45.810Z"
   },
   {
    "duration": 432,
    "start_time": "2022-11-24T08:14:57.027Z"
   },
   {
    "duration": 16,
    "start_time": "2022-11-24T08:15:34.636Z"
   },
   {
    "duration": 250,
    "start_time": "2022-11-24T08:15:49.169Z"
   },
   {
    "duration": 222,
    "start_time": "2022-11-24T08:16:22.529Z"
   },
   {
    "duration": 258,
    "start_time": "2022-11-24T08:16:26.122Z"
   },
   {
    "duration": 14,
    "start_time": "2022-11-24T08:16:51.345Z"
   },
   {
    "duration": 759,
    "start_time": "2022-11-24T08:17:22.763Z"
   },
   {
    "duration": 16,
    "start_time": "2022-11-24T08:17:31.208Z"
   },
   {
    "duration": 225,
    "start_time": "2022-11-24T08:17:35.748Z"
   },
   {
    "duration": 487,
    "start_time": "2022-11-24T08:17:44.434Z"
   },
   {
    "duration": 572,
    "start_time": "2022-11-24T08:17:55.686Z"
   },
   {
    "duration": 439,
    "start_time": "2022-11-24T08:18:02.491Z"
   },
   {
    "duration": 241,
    "start_time": "2022-11-24T08:18:07.017Z"
   },
   {
    "duration": 67,
    "start_time": "2022-11-24T08:18:21.302Z"
   },
   {
    "duration": 339,
    "start_time": "2022-11-24T08:18:26.465Z"
   },
   {
    "duration": 413,
    "start_time": "2022-11-24T08:18:35.868Z"
   },
   {
    "duration": 246,
    "start_time": "2022-11-24T08:18:37.541Z"
   },
   {
    "duration": 10,
    "start_time": "2022-11-24T08:18:47.550Z"
   },
   {
    "duration": 130,
    "start_time": "2022-11-24T08:19:15.197Z"
   },
   {
    "duration": 104,
    "start_time": "2022-11-24T08:19:28.688Z"
   },
   {
    "duration": 16,
    "start_time": "2022-11-24T08:19:31.425Z"
   },
   {
    "duration": 10,
    "start_time": "2022-11-24T08:21:20.985Z"
   },
   {
    "duration": 115,
    "start_time": "2022-11-24T08:21:21.547Z"
   },
   {
    "duration": 16,
    "start_time": "2022-11-24T08:21:29.307Z"
   },
   {
    "duration": 214,
    "start_time": "2022-11-24T08:21:35.122Z"
   },
   {
    "duration": 3,
    "start_time": "2022-11-24T08:22:43.043Z"
   },
   {
    "duration": 3,
    "start_time": "2022-11-24T08:23:25.509Z"
   },
   {
    "duration": 58,
    "start_time": "2022-11-24T08:23:43.081Z"
   },
   {
    "duration": 173,
    "start_time": "2022-11-24T08:23:49.585Z"
   },
   {
    "duration": 21,
    "start_time": "2022-11-24T08:24:05.340Z"
   },
   {
    "duration": 1443,
    "start_time": "2022-11-24T12:45:48.958Z"
   },
   {
    "duration": 170,
    "start_time": "2022-11-24T12:45:50.404Z"
   },
   {
    "duration": 18,
    "start_time": "2022-11-24T12:45:50.576Z"
   },
   {
    "duration": 15,
    "start_time": "2022-11-24T12:45:50.596Z"
   },
   {
    "duration": 6,
    "start_time": "2022-11-24T12:45:50.967Z"
   },
   {
    "duration": 7,
    "start_time": "2022-11-24T12:45:51.928Z"
   },
   {
    "duration": 6,
    "start_time": "2022-11-24T12:45:52.182Z"
   },
   {
    "duration": 5,
    "start_time": "2022-11-24T12:45:52.520Z"
   },
   {
    "duration": 6,
    "start_time": "2022-11-24T12:45:52.779Z"
   },
   {
    "duration": 6,
    "start_time": "2022-11-24T12:45:53.093Z"
   },
   {
    "duration": 5,
    "start_time": "2022-11-24T12:45:53.341Z"
   },
   {
    "duration": 5,
    "start_time": "2022-11-24T12:45:53.628Z"
   },
   {
    "duration": 5,
    "start_time": "2022-11-24T12:45:53.923Z"
   },
   {
    "duration": 4,
    "start_time": "2022-11-24T12:45:54.476Z"
   },
   {
    "duration": 11,
    "start_time": "2022-11-24T12:45:54.747Z"
   },
   {
    "duration": 11,
    "start_time": "2022-11-24T12:45:56.478Z"
   },
   {
    "duration": 37,
    "start_time": "2022-11-24T12:45:57.193Z"
   },
   {
    "duration": 26,
    "start_time": "2022-11-24T12:45:57.450Z"
   },
   {
    "duration": 7,
    "start_time": "2022-11-24T12:45:57.721Z"
   },
   {
    "duration": 359,
    "start_time": "2022-11-24T12:45:58.886Z"
   },
   {
    "duration": 16,
    "start_time": "2022-11-24T12:45:59.247Z"
   },
   {
    "duration": 242,
    "start_time": "2022-11-24T12:45:59.319Z"
   },
   {
    "duration": 175,
    "start_time": "2022-11-24T12:45:59.716Z"
   },
   {
    "duration": 214,
    "start_time": "2022-11-24T12:45:59.918Z"
   },
   {
    "duration": 104,
    "start_time": "2022-11-24T12:46:00.487Z"
   },
   {
    "duration": 365,
    "start_time": "2022-11-24T12:46:02.783Z"
   },
   {
    "duration": 14,
    "start_time": "2022-11-24T12:46:03.150Z"
   },
   {
    "duration": 203,
    "start_time": "2022-11-24T12:46:03.225Z"
   },
   {
    "duration": 263,
    "start_time": "2022-11-24T12:46:03.897Z"
   },
   {
    "duration": 223,
    "start_time": "2022-11-24T12:46:04.813Z"
   },
   {
    "duration": 15,
    "start_time": "2022-11-24T12:46:15.809Z"
   },
   {
    "duration": 719,
    "start_time": "2022-11-24T12:46:19.009Z"
   },
   {
    "duration": 15,
    "start_time": "2022-11-24T12:46:25.347Z"
   },
   {
    "duration": 201,
    "start_time": "2022-11-24T12:46:27.418Z"
   },
   {
    "duration": 363,
    "start_time": "2022-11-24T12:46:29.289Z"
   },
   {
    "duration": 210,
    "start_time": "2022-11-24T12:46:30.019Z"
   },
   {
    "duration": 11,
    "start_time": "2022-11-24T12:46:44.947Z"
   },
   {
    "duration": 116,
    "start_time": "2022-11-24T12:46:46.450Z"
   },
   {
    "duration": 15,
    "start_time": "2022-11-24T12:46:47.701Z"
   },
   {
    "duration": 211,
    "start_time": "2022-11-24T12:46:48.109Z"
   },
   {
    "duration": 43,
    "start_time": "2022-11-24T12:47:02.854Z"
   },
   {
    "duration": 161,
    "start_time": "2022-11-24T12:47:19.166Z"
   },
   {
    "duration": 22,
    "start_time": "2022-11-24T12:47:20.410Z"
   },
   {
    "duration": 1436,
    "start_time": "2022-11-25T04:31:22.135Z"
   },
   {
    "duration": 149,
    "start_time": "2022-11-25T04:31:23.573Z"
   },
   {
    "duration": 16,
    "start_time": "2022-11-25T04:31:25.396Z"
   },
   {
    "duration": 13,
    "start_time": "2022-11-25T04:31:26.115Z"
   },
   {
    "duration": 6,
    "start_time": "2022-11-25T04:31:26.507Z"
   },
   {
    "duration": 10,
    "start_time": "2022-11-25T04:31:27.294Z"
   },
   {
    "duration": 6,
    "start_time": "2022-11-25T04:31:27.654Z"
   },
   {
    "duration": 6,
    "start_time": "2022-11-25T04:31:28.196Z"
   },
   {
    "duration": 6,
    "start_time": "2022-11-25T04:31:28.542Z"
   },
   {
    "duration": 5,
    "start_time": "2022-11-25T04:31:28.823Z"
   },
   {
    "duration": 5,
    "start_time": "2022-11-25T04:31:29.096Z"
   },
   {
    "duration": 6,
    "start_time": "2022-11-25T04:31:29.425Z"
   },
   {
    "duration": 6,
    "start_time": "2022-11-25T04:31:29.716Z"
   },
   {
    "duration": 5,
    "start_time": "2022-11-25T04:31:30.306Z"
   },
   {
    "duration": 12,
    "start_time": "2022-11-25T04:31:30.562Z"
   },
   {
    "duration": 11,
    "start_time": "2022-11-25T04:31:31.437Z"
   },
   {
    "duration": 39,
    "start_time": "2022-11-25T04:31:31.987Z"
   },
   {
    "duration": 31,
    "start_time": "2022-11-25T04:31:32.353Z"
   },
   {
    "duration": 8,
    "start_time": "2022-11-25T04:31:32.913Z"
   },
   {
    "duration": 360,
    "start_time": "2022-11-25T04:31:34.477Z"
   },
   {
    "duration": 16,
    "start_time": "2022-11-25T04:31:34.864Z"
   },
   {
    "duration": 247,
    "start_time": "2022-11-25T04:31:36.049Z"
   },
   {
    "duration": 174,
    "start_time": "2022-11-25T04:31:37.923Z"
   },
   {
    "duration": 250,
    "start_time": "2022-11-25T04:31:38.206Z"
   },
   {
    "duration": 112,
    "start_time": "2022-11-25T04:31:55.032Z"
   },
   {
    "duration": 387,
    "start_time": "2022-11-25T04:32:05.006Z"
   },
   {
    "duration": 22,
    "start_time": "2022-11-25T04:32:05.395Z"
   },
   {
    "duration": 274,
    "start_time": "2022-11-25T04:32:05.850Z"
   },
   {
    "duration": 201,
    "start_time": "2022-11-25T04:32:07.549Z"
   },
   {
    "duration": 220,
    "start_time": "2022-11-25T04:32:09.539Z"
   },
   {
    "duration": 16,
    "start_time": "2022-11-25T04:32:13.365Z"
   },
   {
    "duration": 783,
    "start_time": "2022-11-25T04:32:16.121Z"
   },
   {
    "duration": 15,
    "start_time": "2022-11-25T04:32:17.054Z"
   },
   {
    "duration": 205,
    "start_time": "2022-11-25T04:32:20.517Z"
   },
   {
    "duration": 379,
    "start_time": "2022-11-25T04:32:22.326Z"
   },
   {
    "duration": 209,
    "start_time": "2022-11-25T04:32:23.175Z"
   },
   {
    "duration": 10,
    "start_time": "2022-11-25T04:32:27.055Z"
   },
   {
    "duration": 101,
    "start_time": "2022-11-25T04:32:28.986Z"
   },
   {
    "duration": 15,
    "start_time": "2022-11-25T04:32:30.310Z"
   },
   {
    "duration": 214,
    "start_time": "2022-11-25T04:32:31.301Z"
   },
   {
    "duration": 102,
    "start_time": "2022-11-25T04:32:39.428Z"
   },
   {
    "duration": 45,
    "start_time": "2022-11-25T04:32:52.242Z"
   },
   {
    "duration": 143,
    "start_time": "2022-11-25T04:33:02.421Z"
   },
   {
    "duration": 189,
    "start_time": "2022-11-25T04:33:24.980Z"
   },
   {
    "duration": 185,
    "start_time": "2022-11-25T04:34:39.909Z"
   },
   {
    "duration": 173,
    "start_time": "2022-11-25T04:34:51.738Z"
   },
   {
    "duration": 183,
    "start_time": "2022-11-25T04:35:02.098Z"
   },
   {
    "duration": 193,
    "start_time": "2022-11-25T04:35:11.147Z"
   },
   {
    "duration": 38,
    "start_time": "2022-11-25T04:37:32.129Z"
   },
   {
    "duration": 4,
    "start_time": "2022-11-25T05:30:11.585Z"
   },
   {
    "duration": 41,
    "start_time": "2022-11-25T05:30:12.650Z"
   },
   {
    "duration": 12,
    "start_time": "2022-11-25T05:30:13.076Z"
   },
   {
    "duration": 11,
    "start_time": "2022-11-25T05:30:13.241Z"
   },
   {
    "duration": 6,
    "start_time": "2022-11-25T05:30:13.430Z"
   },
   {
    "duration": 6,
    "start_time": "2022-11-25T05:30:13.809Z"
   },
   {
    "duration": 6,
    "start_time": "2022-11-25T05:30:13.981Z"
   },
   {
    "duration": 8,
    "start_time": "2022-11-25T05:30:14.171Z"
   },
   {
    "duration": 6,
    "start_time": "2022-11-25T05:30:14.396Z"
   },
   {
    "duration": 6,
    "start_time": "2022-11-25T05:30:14.564Z"
   },
   {
    "duration": 6,
    "start_time": "2022-11-25T05:30:14.770Z"
   },
   {
    "duration": 5,
    "start_time": "2022-11-25T05:30:14.958Z"
   },
   {
    "duration": 5,
    "start_time": "2022-11-25T05:30:15.146Z"
   },
   {
    "duration": 5,
    "start_time": "2022-11-25T05:30:15.502Z"
   },
   {
    "duration": 11,
    "start_time": "2022-11-25T05:30:15.686Z"
   },
   {
    "duration": 12,
    "start_time": "2022-11-25T05:30:16.261Z"
   },
   {
    "duration": 33,
    "start_time": "2022-11-25T05:30:16.616Z"
   },
   {
    "duration": 32,
    "start_time": "2022-11-25T05:30:16.790Z"
   },
   {
    "duration": 8,
    "start_time": "2022-11-25T05:30:16.961Z"
   },
   {
    "duration": 418,
    "start_time": "2022-11-25T05:30:17.897Z"
   },
   {
    "duration": 16,
    "start_time": "2022-11-25T05:30:18.317Z"
   },
   {
    "duration": 252,
    "start_time": "2022-11-25T05:30:18.335Z"
   },
   {
    "duration": 167,
    "start_time": "2022-11-25T05:30:18.648Z"
   },
   {
    "duration": 230,
    "start_time": "2022-11-25T05:30:18.817Z"
   },
   {
    "duration": 112,
    "start_time": "2022-11-25T05:30:19.366Z"
   },
   {
    "duration": 396,
    "start_time": "2022-11-25T05:30:20.866Z"
   },
   {
    "duration": 15,
    "start_time": "2022-11-25T05:30:21.264Z"
   },
   {
    "duration": 233,
    "start_time": "2022-11-25T05:30:21.281Z"
   },
   {
    "duration": 214,
    "start_time": "2022-11-25T05:30:21.674Z"
   },
   {
    "duration": 237,
    "start_time": "2022-11-25T05:30:21.890Z"
   },
   {
    "duration": 14,
    "start_time": "2022-11-25T05:30:22.650Z"
   },
   {
    "duration": 760,
    "start_time": "2022-11-25T05:30:23.045Z"
   },
   {
    "duration": 16,
    "start_time": "2022-11-25T05:30:23.806Z"
   },
   {
    "duration": 238,
    "start_time": "2022-11-25T05:30:23.823Z"
   },
   {
    "duration": 514,
    "start_time": "2022-11-25T05:30:24.063Z"
   },
   {
    "duration": 244,
    "start_time": "2022-11-25T05:30:24.579Z"
   },
   {
    "duration": 10,
    "start_time": "2022-11-25T05:30:24.955Z"
   },
   {
    "duration": 120,
    "start_time": "2022-11-25T05:30:25.335Z"
   },
   {
    "duration": 14,
    "start_time": "2022-11-25T05:30:25.525Z"
   },
   {
    "duration": 219,
    "start_time": "2022-11-25T05:30:25.698Z"
   },
   {
    "duration": 9,
    "start_time": "2022-11-25T05:30:27.639Z"
   },
   {
    "duration": 11,
    "start_time": "2022-11-25T05:30:29.087Z"
   },
   {
    "duration": 10,
    "start_time": "2022-11-25T05:31:04.525Z"
   },
   {
    "duration": 38,
    "start_time": "2022-11-25T05:31:23.978Z"
   },
   {
    "duration": 43,
    "start_time": "2022-11-25T05:33:00.095Z"
   },
   {
    "duration": 43,
    "start_time": "2022-11-25T05:34:56.623Z"
   },
   {
    "duration": 42,
    "start_time": "2022-11-25T05:35:24.290Z"
   },
   {
    "duration": 80,
    "start_time": "2022-11-25T05:36:52.068Z"
   },
   {
    "duration": 79,
    "start_time": "2022-11-25T05:37:33.798Z"
   },
   {
    "duration": 81,
    "start_time": "2022-11-25T05:38:04.919Z"
   },
   {
    "duration": 75,
    "start_time": "2022-11-25T05:38:33.961Z"
   },
   {
    "duration": 73,
    "start_time": "2022-11-25T05:38:51.998Z"
   },
   {
    "duration": 21,
    "start_time": "2022-11-25T05:48:26.229Z"
   },
   {
    "duration": 220,
    "start_time": "2022-11-25T05:49:16.694Z"
   },
   {
    "duration": 181,
    "start_time": "2022-11-25T05:51:26.806Z"
   },
   {
    "duration": 235,
    "start_time": "2022-11-25T05:52:12.075Z"
   },
   {
    "duration": 207,
    "start_time": "2022-11-25T05:53:35.336Z"
   },
   {
    "duration": 4,
    "start_time": "2022-11-25T05:58:42.555Z"
   },
   {
    "duration": 6,
    "start_time": "2022-11-25T06:00:11.072Z"
   },
   {
    "duration": 6,
    "start_time": "2022-11-25T06:00:12.086Z"
   },
   {
    "duration": 7,
    "start_time": "2022-11-25T06:00:13.135Z"
   },
   {
    "duration": 8,
    "start_time": "2022-11-25T06:00:14.155Z"
   },
   {
    "duration": 7,
    "start_time": "2022-11-25T06:00:14.642Z"
   },
   {
    "duration": 6,
    "start_time": "2022-11-25T06:00:14.850Z"
   },
   {
    "duration": 5,
    "start_time": "2022-11-25T06:00:15.715Z"
   },
   {
    "duration": 6,
    "start_time": "2022-11-25T06:00:16.222Z"
   },
   {
    "duration": 16,
    "start_time": "2022-11-25T06:00:46.257Z"
   },
   {
    "duration": 4,
    "start_time": "2022-11-25T06:01:20.812Z"
   },
   {
    "duration": 40,
    "start_time": "2022-11-25T06:01:23.111Z"
   },
   {
    "duration": 12,
    "start_time": "2022-11-25T06:01:27.501Z"
   },
   {
    "duration": 12,
    "start_time": "2022-11-25T06:01:28.026Z"
   },
   {
    "duration": 7,
    "start_time": "2022-11-25T06:01:29.011Z"
   },
   {
    "duration": 5,
    "start_time": "2022-11-25T06:01:30.060Z"
   },
   {
    "duration": 6,
    "start_time": "2022-11-25T06:01:30.859Z"
   },
   {
    "duration": 7,
    "start_time": "2022-11-25T06:01:31.385Z"
   },
   {
    "duration": 6,
    "start_time": "2022-11-25T06:01:32.155Z"
   },
   {
    "duration": 6,
    "start_time": "2022-11-25T06:01:32.679Z"
   },
   {
    "duration": 6,
    "start_time": "2022-11-25T06:01:33.270Z"
   },
   {
    "duration": 6,
    "start_time": "2022-11-25T06:01:33.811Z"
   },
   {
    "duration": 6,
    "start_time": "2022-11-25T06:01:34.370Z"
   },
   {
    "duration": 4,
    "start_time": "2022-11-25T06:01:35.824Z"
   },
   {
    "duration": 11,
    "start_time": "2022-11-25T06:01:36.875Z"
   },
   {
    "duration": 12,
    "start_time": "2022-11-25T06:01:45.795Z"
   },
   {
    "duration": 35,
    "start_time": "2022-11-25T06:01:50.765Z"
   },
   {
    "duration": 31,
    "start_time": "2022-11-25T06:01:54.114Z"
   },
   {
    "duration": 7,
    "start_time": "2022-11-25T06:01:55.466Z"
   },
   {
    "duration": 372,
    "start_time": "2022-11-25T06:02:25.233Z"
   },
   {
    "duration": 15,
    "start_time": "2022-11-25T06:02:39.493Z"
   },
   {
    "duration": 215,
    "start_time": "2022-11-25T06:02:43.446Z"
   },
   {
    "duration": 180,
    "start_time": "2022-11-25T06:02:59.054Z"
   },
   {
    "duration": 225,
    "start_time": "2022-11-25T06:03:00.847Z"
   },
   {
    "duration": 100,
    "start_time": "2022-11-25T06:03:10.313Z"
   },
   {
    "duration": 376,
    "start_time": "2022-11-25T06:04:23.062Z"
   },
   {
    "duration": 396,
    "start_time": "2022-11-25T06:05:34.485Z"
   },
   {
    "duration": 382,
    "start_time": "2022-11-25T06:06:26.866Z"
   },
   {
    "duration": 14,
    "start_time": "2022-11-25T06:06:52.901Z"
   },
   {
    "duration": 225,
    "start_time": "2022-11-25T06:06:55.771Z"
   },
   {
    "duration": 250,
    "start_time": "2022-11-25T06:07:07.218Z"
   },
   {
    "duration": 226,
    "start_time": "2022-11-25T06:07:11.764Z"
   },
   {
    "duration": 410,
    "start_time": "2022-11-25T06:08:45.622Z"
   },
   {
    "duration": 15,
    "start_time": "2022-11-25T06:08:46.180Z"
   },
   {
    "duration": 231,
    "start_time": "2022-11-25T06:08:47.073Z"
   },
   {
    "duration": 303,
    "start_time": "2022-11-25T06:08:51.255Z"
   },
   {
    "duration": 217,
    "start_time": "2022-11-25T06:08:53.402Z"
   },
   {
    "duration": 11,
    "start_time": "2022-11-25T06:09:29.637Z"
   },
   {
    "duration": 11,
    "start_time": "2022-11-25T06:09:44.974Z"
   },
   {
    "duration": 15,
    "start_time": "2022-11-25T06:15:05.396Z"
   },
   {
    "duration": 11,
    "start_time": "2022-11-25T06:15:26.190Z"
   },
   {
    "duration": 487,
    "start_time": "2022-11-25T06:15:29.960Z"
   },
   {
    "duration": 15,
    "start_time": "2022-11-25T06:15:39.315Z"
   },
   {
    "duration": 225,
    "start_time": "2022-11-25T06:15:41.580Z"
   },
   {
    "duration": 282,
    "start_time": "2022-11-25T06:15:48.776Z"
   },
   {
    "duration": 509,
    "start_time": "2022-11-25T06:21:03.137Z"
   },
   {
    "duration": 12,
    "start_time": "2022-11-25T06:22:28.770Z"
   },
   {
    "duration": 71,
    "start_time": "2022-11-25T06:22:33.609Z"
   },
   {
    "duration": 17,
    "start_time": "2022-11-25T06:22:39.285Z"
   },
   {
    "duration": 208,
    "start_time": "2022-11-25T06:22:46.656Z"
   },
   {
    "duration": 117,
    "start_time": "2022-11-25T06:22:52.824Z"
   },
   {
    "duration": 218,
    "start_time": "2022-11-25T06:23:14.138Z"
   },
   {
    "duration": 74,
    "start_time": "2022-11-25T06:23:51.624Z"
   },
   {
    "duration": 101,
    "start_time": "2022-11-25T06:24:57.264Z"
   },
   {
    "duration": 81,
    "start_time": "2022-11-25T06:25:36.210Z"
   },
   {
    "duration": 85,
    "start_time": "2022-11-25T06:25:53.895Z"
   },
   {
    "duration": 79,
    "start_time": "2022-11-25T06:26:16.890Z"
   },
   {
    "duration": 85,
    "start_time": "2022-11-25T06:26:38.930Z"
   },
   {
    "duration": 75,
    "start_time": "2022-11-25T06:26:52.424Z"
   },
   {
    "duration": 83,
    "start_time": "2022-11-25T06:26:58.470Z"
   },
   {
    "duration": 20,
    "start_time": "2022-11-25T06:29:15.668Z"
   },
   {
    "duration": 22,
    "start_time": "2022-11-25T06:29:41.235Z"
   },
   {
    "duration": 11,
    "start_time": "2022-11-25T06:32:11.159Z"
   },
   {
    "duration": 3,
    "start_time": "2022-11-25T06:32:16.470Z"
   },
   {
    "duration": 117,
    "start_time": "2022-11-25T06:32:36.056Z"
   },
   {
    "duration": 13,
    "start_time": "2022-11-25T06:33:20.907Z"
   },
   {
    "duration": 3,
    "start_time": "2022-11-25T06:33:21.964Z"
   },
   {
    "duration": 208,
    "start_time": "2022-11-25T06:33:54.356Z"
   },
   {
    "duration": 216,
    "start_time": "2022-11-25T06:34:05.574Z"
   },
   {
    "duration": 217,
    "start_time": "2022-11-25T06:34:13.671Z"
   },
   {
    "duration": 120,
    "start_time": "2022-11-25T06:34:23.562Z"
   },
   {
    "duration": 250,
    "start_time": "2022-11-25T06:34:41.312Z"
   },
   {
    "duration": 5,
    "start_time": "2022-11-25T06:48:59.906Z"
   },
   {
    "duration": 49,
    "start_time": "2022-11-25T06:49:00.130Z"
   },
   {
    "duration": 13,
    "start_time": "2022-11-25T06:49:00.592Z"
   },
   {
    "duration": 12,
    "start_time": "2022-11-25T06:49:00.848Z"
   },
   {
    "duration": 7,
    "start_time": "2022-11-25T06:49:01.158Z"
   },
   {
    "duration": 6,
    "start_time": "2022-11-25T06:49:01.935Z"
   },
   {
    "duration": 7,
    "start_time": "2022-11-25T06:49:02.206Z"
   },
   {
    "duration": 6,
    "start_time": "2022-11-25T06:49:02.532Z"
   },
   {
    "duration": 6,
    "start_time": "2022-11-25T06:49:02.817Z"
   },
   {
    "duration": 6,
    "start_time": "2022-11-25T06:49:03.073Z"
   },
   {
    "duration": 6,
    "start_time": "2022-11-25T06:49:03.312Z"
   },
   {
    "duration": 6,
    "start_time": "2022-11-25T06:49:03.650Z"
   },
   {
    "duration": 6,
    "start_time": "2022-11-25T06:49:03.912Z"
   },
   {
    "duration": 7,
    "start_time": "2022-11-25T06:49:07.506Z"
   },
   {
    "duration": 13,
    "start_time": "2022-11-25T06:49:07.727Z"
   },
   {
    "duration": 11,
    "start_time": "2022-11-25T06:49:08.667Z"
   },
   {
    "duration": 32,
    "start_time": "2022-11-25T06:49:09.161Z"
   },
   {
    "duration": 25,
    "start_time": "2022-11-25T06:49:09.372Z"
   },
   {
    "duration": 7,
    "start_time": "2022-11-25T06:49:09.577Z"
   },
   {
    "duration": 373,
    "start_time": "2022-11-25T06:49:10.762Z"
   },
   {
    "duration": 16,
    "start_time": "2022-11-25T06:49:11.137Z"
   },
   {
    "duration": 214,
    "start_time": "2022-11-25T06:49:11.175Z"
   },
   {
    "duration": 168,
    "start_time": "2022-11-25T06:49:11.570Z"
   },
   {
    "duration": 219,
    "start_time": "2022-11-25T06:49:11.766Z"
   },
   {
    "duration": 102,
    "start_time": "2022-11-25T06:49:12.392Z"
   },
   {
    "duration": 393,
    "start_time": "2022-11-25T06:49:14.160Z"
   },
   {
    "duration": 15,
    "start_time": "2022-11-25T06:49:14.554Z"
   },
   {
    "duration": 335,
    "start_time": "2022-11-25T06:49:14.646Z"
   },
   {
    "duration": 221,
    "start_time": "2022-11-25T06:49:15.161Z"
   },
   {
    "duration": 228,
    "start_time": "2022-11-25T06:49:15.418Z"
   },
   {
    "duration": 7,
    "start_time": "2022-11-25T06:49:16.449Z"
   },
   {
    "duration": 11,
    "start_time": "2022-11-25T06:49:16.976Z"
   },
   {
    "duration": 4,
    "start_time": "2022-11-25T06:49:17.336Z"
   },
   {
    "duration": 569,
    "start_time": "2022-11-25T06:49:17.965Z"
   },
   {
    "duration": 17,
    "start_time": "2022-11-25T06:49:18.536Z"
   },
   {
    "duration": 235,
    "start_time": "2022-11-25T06:49:18.554Z"
   },
   {
    "duration": 266,
    "start_time": "2022-11-25T06:49:19.148Z"
   },
   {
    "duration": 207,
    "start_time": "2022-11-25T06:49:19.477Z"
   },
   {
    "duration": 11,
    "start_time": "2022-11-25T06:49:21.036Z"
   },
   {
    "duration": 3,
    "start_time": "2022-11-25T06:49:21.354Z"
   },
   {
    "duration": 78,
    "start_time": "2022-11-25T06:49:21.959Z"
   },
   {
    "duration": 16,
    "start_time": "2022-11-25T06:49:22.248Z"
   },
   {
    "duration": 222,
    "start_time": "2022-11-25T06:49:22.573Z"
   },
   {
    "duration": 139,
    "start_time": "2022-11-25T06:49:23.206Z"
   },
   {
    "duration": 226,
    "start_time": "2022-11-25T06:49:23.529Z"
   },
   {
    "duration": 87,
    "start_time": "2022-11-25T06:49:26.114Z"
   },
   {
    "duration": 76,
    "start_time": "2022-11-25T06:49:27.937Z"
   },
   {
    "duration": 47,
    "start_time": "2022-11-26T04:54:14.899Z"
   },
   {
    "duration": 1350,
    "start_time": "2022-11-26T04:54:38.972Z"
   },
   {
    "duration": 75,
    "start_time": "2022-11-26T04:54:40.324Z"
   },
   {
    "duration": 17,
    "start_time": "2022-11-26T04:54:40.474Z"
   },
   {
    "duration": 12,
    "start_time": "2022-11-26T04:54:40.770Z"
   },
   {
    "duration": 7,
    "start_time": "2022-11-26T04:54:41.316Z"
   },
   {
    "duration": 9,
    "start_time": "2022-11-26T04:54:42.087Z"
   },
   {
    "duration": 8,
    "start_time": "2022-11-26T04:54:42.308Z"
   },
   {
    "duration": 8,
    "start_time": "2022-11-26T04:54:42.546Z"
   },
   {
    "duration": 7,
    "start_time": "2022-11-26T04:54:42.788Z"
   },
   {
    "duration": 5,
    "start_time": "2022-11-26T04:54:42.987Z"
   },
   {
    "duration": 6,
    "start_time": "2022-11-26T04:54:43.191Z"
   },
   {
    "duration": 5,
    "start_time": "2022-11-26T04:54:43.431Z"
   },
   {
    "duration": 5,
    "start_time": "2022-11-26T04:54:43.636Z"
   },
   {
    "duration": 5,
    "start_time": "2022-11-26T04:54:44.056Z"
   },
   {
    "duration": 11,
    "start_time": "2022-11-26T04:54:44.516Z"
   },
   {
    "duration": 13,
    "start_time": "2022-11-26T04:54:45.851Z"
   },
   {
    "duration": 39,
    "start_time": "2022-11-26T04:54:46.470Z"
   },
   {
    "duration": 36,
    "start_time": "2022-11-26T04:54:46.937Z"
   },
   {
    "duration": 9,
    "start_time": "2022-11-26T04:54:47.135Z"
   },
   {
    "duration": 4,
    "start_time": "2022-11-26T04:55:02.448Z"
   },
   {
    "duration": 39,
    "start_time": "2022-11-26T04:55:03.069Z"
   },
   {
    "duration": 12,
    "start_time": "2022-11-26T04:55:03.525Z"
   },
   {
    "duration": 11,
    "start_time": "2022-11-26T04:55:03.836Z"
   },
   {
    "duration": 7,
    "start_time": "2022-11-26T04:55:04.394Z"
   },
   {
    "duration": 7,
    "start_time": "2022-11-26T04:55:05.305Z"
   },
   {
    "duration": 7,
    "start_time": "2022-11-26T04:55:05.491Z"
   },
   {
    "duration": 6,
    "start_time": "2022-11-26T04:55:05.917Z"
   },
   {
    "duration": 7,
    "start_time": "2022-11-26T04:55:06.318Z"
   },
   {
    "duration": 6,
    "start_time": "2022-11-26T04:55:06.723Z"
   },
   {
    "duration": 5,
    "start_time": "2022-11-26T04:55:07.133Z"
   },
   {
    "duration": 5,
    "start_time": "2022-11-26T04:55:07.468Z"
   },
   {
    "duration": 6,
    "start_time": "2022-11-26T04:55:07.753Z"
   },
   {
    "duration": 4,
    "start_time": "2022-11-26T04:55:08.337Z"
   },
   {
    "duration": 11,
    "start_time": "2022-11-26T04:55:08.933Z"
   },
   {
    "duration": 12,
    "start_time": "2022-11-26T04:55:10.296Z"
   },
   {
    "duration": 35,
    "start_time": "2022-11-26T04:55:11.295Z"
   },
   {
    "duration": 39,
    "start_time": "2022-11-26T04:55:12.525Z"
   },
   {
    "duration": 7,
    "start_time": "2022-11-26T04:55:12.970Z"
   },
   {
    "duration": 387,
    "start_time": "2022-11-26T04:55:15.199Z"
   },
   {
    "duration": 22,
    "start_time": "2022-11-26T04:55:17.543Z"
   },
   {
    "duration": 222,
    "start_time": "2022-11-26T04:55:18.670Z"
   },
   {
    "duration": 172,
    "start_time": "2022-11-26T04:55:20.604Z"
   },
   {
    "duration": 220,
    "start_time": "2022-11-26T04:55:27.291Z"
   },
   {
    "duration": 104,
    "start_time": "2022-11-26T04:55:31.250Z"
   },
   {
    "duration": 404,
    "start_time": "2022-11-26T04:55:34.673Z"
   },
   {
    "duration": 14,
    "start_time": "2022-11-26T04:55:35.079Z"
   },
   {
    "duration": 232,
    "start_time": "2022-11-26T04:55:35.402Z"
   },
   {
    "duration": 285,
    "start_time": "2022-11-26T04:55:40.356Z"
   },
   {
    "duration": 226,
    "start_time": "2022-11-26T04:55:44.232Z"
   },
   {
    "duration": 8,
    "start_time": "2022-11-26T04:55:46.913Z"
   },
   {
    "duration": 11,
    "start_time": "2022-11-26T04:55:49.742Z"
   },
   {
    "duration": 4,
    "start_time": "2022-11-26T04:55:50.569Z"
   },
   {
    "duration": 482,
    "start_time": "2022-11-26T04:55:51.364Z"
   },
   {
    "duration": 14,
    "start_time": "2022-11-26T04:57:17.175Z"
   },
   {
    "duration": 202,
    "start_time": "2022-11-26T04:57:19.404Z"
   },
   {
    "duration": 279,
    "start_time": "2022-11-26T04:57:45.061Z"
   },
   {
    "duration": 80,
    "start_time": "2022-11-26T04:59:50.533Z"
   },
   {
    "duration": 11,
    "start_time": "2022-11-26T04:59:55.522Z"
   },
   {
    "duration": 3,
    "start_time": "2022-11-26T04:59:56.178Z"
   },
   {
    "duration": 69,
    "start_time": "2022-11-26T04:59:57.639Z"
   },
   {
    "duration": 16,
    "start_time": "2022-11-26T05:00:01.265Z"
   },
   {
    "duration": 208,
    "start_time": "2022-11-26T05:00:02.028Z"
   },
   {
    "duration": 120,
    "start_time": "2022-11-26T05:00:17.643Z"
   },
   {
    "duration": 213,
    "start_time": "2022-11-26T05:00:21.208Z"
   },
   {
    "duration": 143,
    "start_time": "2022-11-26T05:00:35.088Z"
   },
   {
    "duration": 221,
    "start_time": "2022-11-26T05:00:38.954Z"
   },
   {
    "duration": 106,
    "start_time": "2022-11-27T06:04:21.674Z"
   },
   {
    "duration": 5,
    "start_time": "2022-11-27T06:11:35.142Z"
   },
   {
    "duration": 41,
    "start_time": "2022-11-27T06:11:59.905Z"
   },
   {
    "duration": 1560,
    "start_time": "2022-11-27T06:12:10.734Z"
   },
   {
    "duration": 165,
    "start_time": "2022-11-27T06:12:12.295Z"
   },
   {
    "duration": 16,
    "start_time": "2022-11-27T06:12:12.462Z"
   },
   {
    "duration": 13,
    "start_time": "2022-11-27T06:12:12.737Z"
   },
   {
    "duration": 6,
    "start_time": "2022-11-27T06:12:13.202Z"
   },
   {
    "duration": 7,
    "start_time": "2022-11-27T06:12:13.959Z"
   },
   {
    "duration": 5,
    "start_time": "2022-11-27T06:12:14.231Z"
   },
   {
    "duration": 6,
    "start_time": "2022-11-27T06:12:14.547Z"
   },
   {
    "duration": 5,
    "start_time": "2022-11-27T06:12:14.776Z"
   },
   {
    "duration": 5,
    "start_time": "2022-11-27T06:12:15.051Z"
   },
   {
    "duration": 5,
    "start_time": "2022-11-27T06:12:15.317Z"
   },
   {
    "duration": 5,
    "start_time": "2022-11-27T06:12:15.590Z"
   },
   {
    "duration": 5,
    "start_time": "2022-11-27T06:12:15.907Z"
   },
   {
    "duration": 4,
    "start_time": "2022-11-27T06:12:16.410Z"
   },
   {
    "duration": 12,
    "start_time": "2022-11-27T06:12:19.117Z"
   },
   {
    "duration": 11,
    "start_time": "2022-11-27T06:12:21.700Z"
   },
   {
    "duration": 41,
    "start_time": "2022-11-27T06:12:22.951Z"
   },
   {
    "duration": 33,
    "start_time": "2022-11-27T06:12:24.189Z"
   },
   {
    "duration": 7,
    "start_time": "2022-11-27T06:12:24.685Z"
   },
   {
    "duration": 380,
    "start_time": "2022-11-27T06:12:30.582Z"
   },
   {
    "duration": 15,
    "start_time": "2022-11-27T06:12:33.139Z"
   },
   {
    "duration": 4,
    "start_time": "2022-11-27T06:12:34.533Z"
   },
   {
    "duration": 14,
    "start_time": "2022-11-27T06:12:36.452Z"
   },
   {
    "duration": 6,
    "start_time": "2022-11-27T06:17:40.541Z"
   },
   {
    "duration": 224,
    "start_time": "2022-11-27T06:18:00.871Z"
   },
   {
    "duration": 70,
    "start_time": "2022-11-27T06:21:22.569Z"
   },
   {
    "duration": 4,
    "start_time": "2022-11-27T06:22:11.687Z"
   },
   {
    "duration": 6,
    "start_time": "2022-11-27T06:26:10.323Z"
   },
   {
    "duration": 15,
    "start_time": "2022-11-27T06:27:05.927Z"
   },
   {
    "duration": 34,
    "start_time": "2022-11-27T06:27:53.082Z"
   },
   {
    "duration": 28,
    "start_time": "2022-11-27T06:27:56.159Z"
   },
   {
    "duration": 65,
    "start_time": "2022-11-27T06:28:28.742Z"
   },
   {
    "duration": 215,
    "start_time": "2022-11-27T06:29:29.557Z"
   },
   {
    "duration": 230,
    "start_time": "2022-11-27T06:33:01.047Z"
   },
   {
    "duration": 230,
    "start_time": "2022-11-27T06:33:11.485Z"
   },
   {
    "duration": 68,
    "start_time": "2022-11-27T06:33:53.284Z"
   },
   {
    "duration": 243,
    "start_time": "2022-11-27T06:33:56.185Z"
   },
   {
    "duration": 257,
    "start_time": "2022-11-27T06:33:57.253Z"
   },
   {
    "duration": 5,
    "start_time": "2022-11-27T06:34:42.101Z"
   },
   {
    "duration": 4,
    "start_time": "2022-11-27T06:34:54.449Z"
   },
   {
    "duration": 6,
    "start_time": "2022-11-27T06:34:55.120Z"
   },
   {
    "duration": 376,
    "start_time": "2022-11-27T06:34:56.892Z"
   },
   {
    "duration": 20,
    "start_time": "2022-11-27T06:34:58.746Z"
   },
   {
    "duration": 6,
    "start_time": "2022-11-27T06:35:08.805Z"
   },
   {
    "duration": 6,
    "start_time": "2022-11-27T06:35:09.596Z"
   },
   {
    "duration": 372,
    "start_time": "2022-11-27T06:35:10.685Z"
   },
   {
    "duration": 12,
    "start_time": "2022-11-27T06:35:13.022Z"
   },
   {
    "duration": 214,
    "start_time": "2022-11-27T06:35:24.318Z"
   },
   {
    "duration": 176,
    "start_time": "2022-11-27T06:35:31.782Z"
   },
   {
    "duration": 295,
    "start_time": "2022-11-27T06:35:33.709Z"
   },
   {
    "duration": 138,
    "start_time": "2022-11-27T06:36:02.991Z"
   },
   {
    "duration": 256,
    "start_time": "2022-11-27T06:36:03.975Z"
   },
   {
    "duration": 144,
    "start_time": "2022-11-27T06:38:02.398Z"
   },
   {
    "duration": 263,
    "start_time": "2022-11-27T06:38:48.582Z"
   },
   {
    "duration": 13,
    "start_time": "2022-11-27T06:39:38.894Z"
   },
   {
    "duration": 394,
    "start_time": "2022-11-27T06:39:48.417Z"
   },
   {
    "duration": 16,
    "start_time": "2022-11-27T06:39:49.911Z"
   },
   {
    "duration": 235,
    "start_time": "2022-11-27T06:39:51.213Z"
   },
   {
    "duration": 232,
    "start_time": "2022-11-27T06:40:48.072Z"
   },
   {
    "duration": 9,
    "start_time": "2022-11-27T06:41:42.055Z"
   },
   {
    "duration": 224,
    "start_time": "2022-11-27T06:41:46.480Z"
   },
   {
    "duration": 304,
    "start_time": "2022-11-27T06:41:47.602Z"
   },
   {
    "duration": 297,
    "start_time": "2022-11-27T06:42:17.057Z"
   },
   {
    "duration": 306,
    "start_time": "2022-11-27T06:43:05.685Z"
   },
   {
    "duration": 311,
    "start_time": "2022-11-27T06:43:25.482Z"
   },
   {
    "duration": 383,
    "start_time": "2022-11-27T06:43:41.786Z"
   },
   {
    "duration": 265,
    "start_time": "2022-11-27T06:43:52.854Z"
   },
   {
    "duration": 9,
    "start_time": "2022-11-27T06:45:25.696Z"
   },
   {
    "duration": 16,
    "start_time": "2022-11-27T06:45:34.244Z"
   },
   {
    "duration": 9,
    "start_time": "2022-11-27T06:45:40.935Z"
   },
   {
    "duration": 11,
    "start_time": "2022-11-27T06:45:43.181Z"
   },
   {
    "duration": 4,
    "start_time": "2022-11-27T06:45:44.096Z"
   },
   {
    "duration": 499,
    "start_time": "2022-11-27T06:45:44.780Z"
   },
   {
    "duration": 18,
    "start_time": "2022-11-27T06:45:49.449Z"
   },
   {
    "duration": 232,
    "start_time": "2022-11-27T06:45:51.076Z"
   },
   {
    "duration": 220,
    "start_time": "2022-11-27T06:45:53.120Z"
   },
   {
    "duration": 10,
    "start_time": "2022-11-27T06:46:47.107Z"
   },
   {
    "duration": 288,
    "start_time": "2022-11-27T06:46:52.094Z"
   },
   {
    "duration": 282,
    "start_time": "2022-11-27T06:46:55.329Z"
   },
   {
    "duration": 266,
    "start_time": "2022-11-27T06:47:21.497Z"
   },
   {
    "duration": 11,
    "start_time": "2022-11-27T06:48:35.152Z"
   },
   {
    "duration": 3,
    "start_time": "2022-11-27T06:48:36.379Z"
   },
   {
    "duration": 76,
    "start_time": "2022-11-27T06:48:41.757Z"
   },
   {
    "duration": 226,
    "start_time": "2022-11-27T06:49:18.174Z"
   },
   {
    "duration": 92,
    "start_time": "2022-11-27T06:50:32.207Z"
   },
   {
    "duration": 11,
    "start_time": "2022-11-27T06:52:58.614Z"
   },
   {
    "duration": 119,
    "start_time": "2022-11-27T06:53:30.287Z"
   },
   {
    "duration": 264,
    "start_time": "2022-11-27T06:53:36.393Z"
   },
   {
    "duration": 219,
    "start_time": "2022-11-27T06:53:45.076Z"
   },
   {
    "duration": 107,
    "start_time": "2022-11-27T06:54:23.075Z"
   },
   {
    "duration": 307,
    "start_time": "2022-11-27T06:54:25.571Z"
   },
   {
    "duration": 86,
    "start_time": "2022-11-27T06:54:36.012Z"
   },
   {
    "duration": 84,
    "start_time": "2022-11-27T06:57:46.573Z"
   },
   {
    "duration": 111,
    "start_time": "2022-11-27T06:58:15.518Z"
   },
   {
    "duration": 72,
    "start_time": "2022-11-27T07:00:33.008Z"
   },
   {
    "duration": 38,
    "start_time": "2022-11-27T07:00:54.273Z"
   },
   {
    "duration": 42,
    "start_time": "2022-11-27T07:01:20.023Z"
   },
   {
    "duration": 84,
    "start_time": "2022-11-27T07:02:30.454Z"
   },
   {
    "duration": 80,
    "start_time": "2022-11-27T07:02:55.252Z"
   },
   {
    "duration": 84,
    "start_time": "2022-11-27T07:03:03.675Z"
   },
   {
    "duration": 82,
    "start_time": "2022-11-27T07:03:07.408Z"
   },
   {
    "duration": 84,
    "start_time": "2022-11-27T07:04:10.043Z"
   },
   {
    "duration": 43,
    "start_time": "2022-11-27T07:05:32.688Z"
   },
   {
    "duration": 38,
    "start_time": "2022-11-27T07:05:42.683Z"
   },
   {
    "duration": 18,
    "start_time": "2022-11-27T07:08:57.332Z"
   },
   {
    "duration": 213,
    "start_time": "2022-11-27T07:09:27.483Z"
   },
   {
    "duration": 224,
    "start_time": "2022-11-27T07:10:33.342Z"
   },
   {
    "duration": 122,
    "start_time": "2022-11-27T07:20:27.663Z"
   },
   {
    "duration": 117,
    "start_time": "2022-11-27T07:20:55.825Z"
   },
   {
    "duration": 128,
    "start_time": "2022-11-27T07:21:07.141Z"
   },
   {
    "duration": 138,
    "start_time": "2022-11-27T07:21:57.433Z"
   },
   {
    "duration": 117,
    "start_time": "2022-11-27T07:22:39.288Z"
   },
   {
    "duration": 116,
    "start_time": "2022-11-27T07:23:12.894Z"
   },
   {
    "duration": 127,
    "start_time": "2022-11-27T07:23:26.505Z"
   },
   {
    "duration": 73,
    "start_time": "2022-11-27T07:24:43.396Z"
   },
   {
    "duration": 6,
    "start_time": "2022-11-27T07:26:34.552Z"
   },
   {
    "duration": 40,
    "start_time": "2022-11-27T07:26:35.370Z"
   },
   {
    "duration": 12,
    "start_time": "2022-11-27T07:26:36.069Z"
   },
   {
    "duration": 12,
    "start_time": "2022-11-27T07:26:36.823Z"
   },
   {
    "duration": 6,
    "start_time": "2022-11-27T07:26:37.402Z"
   },
   {
    "duration": 6,
    "start_time": "2022-11-27T07:26:38.216Z"
   },
   {
    "duration": 6,
    "start_time": "2022-11-27T07:26:38.481Z"
   },
   {
    "duration": 9,
    "start_time": "2022-11-27T07:26:38.803Z"
   },
   {
    "duration": 9,
    "start_time": "2022-11-27T07:26:39.056Z"
   },
   {
    "duration": 5,
    "start_time": "2022-11-27T07:26:39.297Z"
   },
   {
    "duration": 7,
    "start_time": "2022-11-27T07:26:39.585Z"
   },
   {
    "duration": 6,
    "start_time": "2022-11-27T07:26:39.858Z"
   },
   {
    "duration": 10,
    "start_time": "2022-11-27T07:26:40.147Z"
   },
   {
    "duration": 4,
    "start_time": "2022-11-27T07:26:40.725Z"
   },
   {
    "duration": 11,
    "start_time": "2022-11-27T07:26:41.291Z"
   },
   {
    "duration": 21,
    "start_time": "2022-11-27T07:26:42.639Z"
   },
   {
    "duration": 48,
    "start_time": "2022-11-27T07:26:43.550Z"
   },
   {
    "duration": 35,
    "start_time": "2022-11-27T07:26:44.738Z"
   },
   {
    "duration": 7,
    "start_time": "2022-11-27T07:26:45.092Z"
   },
   {
    "duration": 6,
    "start_time": "2022-11-27T07:26:55.744Z"
   },
   {
    "duration": 10,
    "start_time": "2022-11-27T07:26:56.249Z"
   },
   {
    "duration": 441,
    "start_time": "2022-11-27T07:26:58.929Z"
   },
   {
    "duration": 15,
    "start_time": "2022-11-27T07:27:10.820Z"
   },
   {
    "duration": 271,
    "start_time": "2022-11-27T07:27:18.329Z"
   },
   {
    "duration": 152,
    "start_time": "2022-11-27T07:27:47.582Z"
   },
   {
    "duration": 288,
    "start_time": "2022-11-27T07:27:50.932Z"
   },
   {
    "duration": 211,
    "start_time": "2022-11-27T07:28:00.311Z"
   },
   {
    "duration": 445,
    "start_time": "2022-11-27T07:28:04.050Z"
   },
   {
    "duration": 264,
    "start_time": "2022-11-27T07:28:04.926Z"
   },
   {
    "duration": 298,
    "start_time": "2022-11-27T07:28:10.409Z"
   },
   {
    "duration": 12,
    "start_time": "2022-11-27T07:28:13.941Z"
   },
   {
    "duration": 11,
    "start_time": "2022-11-27T07:28:14.899Z"
   },
   {
    "duration": 3,
    "start_time": "2022-11-27T07:28:15.477Z"
   },
   {
    "duration": 496,
    "start_time": "2022-11-27T07:28:15.993Z"
   },
   {
    "duration": 247,
    "start_time": "2022-11-27T07:28:17.864Z"
   },
   {
    "duration": 273,
    "start_time": "2022-11-27T07:28:19.465Z"
   },
   {
    "duration": 316,
    "start_time": "2022-11-27T07:28:19.966Z"
   },
   {
    "duration": 11,
    "start_time": "2022-11-27T07:28:22.209Z"
   },
   {
    "duration": 4,
    "start_time": "2022-11-27T07:28:23.548Z"
   },
   {
    "duration": 85,
    "start_time": "2022-11-27T07:28:25.088Z"
   },
   {
    "duration": 280,
    "start_time": "2022-11-27T07:28:26.712Z"
   },
   {
    "duration": 99,
    "start_time": "2022-11-27T07:28:28.483Z"
   },
   {
    "duration": 284,
    "start_time": "2022-11-27T07:28:29.737Z"
   },
   {
    "duration": 123,
    "start_time": "2022-11-27T07:28:33.447Z"
   },
   {
    "duration": 116,
    "start_time": "2022-11-27T07:28:50.855Z"
   },
   {
    "duration": 38,
    "start_time": "2022-11-27T07:29:02.417Z"
   },
   {
    "duration": 12,
    "start_time": "2022-11-27T07:34:46.467Z"
   },
   {
    "duration": 40,
    "start_time": "2022-11-27T07:35:18.348Z"
   },
   {
    "duration": 47,
    "start_time": "2022-11-27T07:35:52.429Z"
   },
   {
    "duration": 42,
    "start_time": "2022-11-27T07:36:02.788Z"
   },
   {
    "duration": 30146,
    "start_time": "2022-11-27T07:36:14.938Z"
   },
   {
    "duration": 377,
    "start_time": "2022-11-27T07:37:28.677Z"
   },
   {
    "duration": 321,
    "start_time": "2022-11-27T07:37:58.893Z"
   },
   {
    "duration": 30762,
    "start_time": "2022-11-27T07:38:44.181Z"
   },
   {
    "duration": 289,
    "start_time": "2022-11-27T07:39:23.082Z"
   },
   {
    "duration": 73,
    "start_time": "2022-11-27T07:40:37.273Z"
   },
   {
    "duration": 274,
    "start_time": "2022-11-27T07:41:25.020Z"
   },
   {
    "duration": 33175,
    "start_time": "2022-11-27T07:43:19.027Z"
   },
   {
    "duration": 33199,
    "start_time": "2022-11-27T07:45:05.089Z"
   },
   {
    "duration": 288,
    "start_time": "2022-11-27T07:46:15.704Z"
   },
   {
    "duration": 68,
    "start_time": "2022-11-27T07:48:03.262Z"
   },
   {
    "duration": 299,
    "start_time": "2022-11-27T07:48:18.421Z"
   },
   {
    "duration": 15,
    "start_time": "2022-11-27T07:48:43.045Z"
   },
   {
    "duration": 11,
    "start_time": "2022-11-27T07:48:44.021Z"
   },
   {
    "duration": 3,
    "start_time": "2022-11-27T07:48:44.967Z"
   },
   {
    "duration": 539,
    "start_time": "2022-11-27T07:48:45.530Z"
   },
   {
    "duration": 343,
    "start_time": "2022-11-27T07:48:48.938Z"
   },
   {
    "duration": 257,
    "start_time": "2022-11-27T07:48:51.676Z"
   },
   {
    "duration": 310,
    "start_time": "2022-11-27T07:48:52.734Z"
   },
   {
    "duration": 15,
    "start_time": "2022-11-27T07:48:57.760Z"
   },
   {
    "duration": 6,
    "start_time": "2022-11-27T07:48:58.448Z"
   },
   {
    "duration": 88,
    "start_time": "2022-11-27T07:48:59.877Z"
   },
   {
    "duration": 275,
    "start_time": "2022-11-27T07:49:01.309Z"
   },
   {
    "duration": 93,
    "start_time": "2022-11-27T07:49:02.846Z"
   },
   {
    "duration": 421,
    "start_time": "2022-11-27T07:49:03.860Z"
   },
   {
    "duration": 22,
    "start_time": "2022-11-27T07:51:42.944Z"
   },
   {
    "duration": 17730,
    "start_time": "2022-11-27T07:52:38.616Z"
   },
   {
    "duration": 16772,
    "start_time": "2022-11-27T07:53:30.245Z"
   },
   {
    "duration": 274,
    "start_time": "2022-11-27T07:53:52.817Z"
   },
   {
    "duration": 16827,
    "start_time": "2022-11-27T07:56:53.692Z"
   },
   {
    "duration": 20,
    "start_time": "2022-11-27T07:58:53.545Z"
   },
   {
    "duration": 45182,
    "start_time": "2022-11-27T07:59:04.290Z"
   },
   {
    "duration": 362,
    "start_time": "2022-11-27T08:00:17.309Z"
   },
   {
    "duration": 21,
    "start_time": "2022-11-27T08:02:33.177Z"
   },
   {
    "duration": 18,
    "start_time": "2022-11-27T08:02:39.586Z"
   },
   {
    "duration": 4,
    "start_time": "2022-11-27T08:06:30.783Z"
   },
   {
    "duration": 40,
    "start_time": "2022-11-27T08:06:32.587Z"
   },
   {
    "duration": 20,
    "start_time": "2022-11-27T08:06:33.550Z"
   },
   {
    "duration": 15,
    "start_time": "2022-11-27T08:06:33.920Z"
   },
   {
    "duration": 9,
    "start_time": "2022-11-27T08:06:34.532Z"
   },
   {
    "duration": 7,
    "start_time": "2022-11-27T08:06:35.628Z"
   },
   {
    "duration": 7,
    "start_time": "2022-11-27T08:06:35.999Z"
   },
   {
    "duration": 7,
    "start_time": "2022-11-27T08:06:36.266Z"
   },
   {
    "duration": 6,
    "start_time": "2022-11-27T08:06:36.571Z"
   },
   {
    "duration": 5,
    "start_time": "2022-11-27T08:06:36.905Z"
   },
   {
    "duration": 6,
    "start_time": "2022-11-27T08:06:37.159Z"
   },
   {
    "duration": 5,
    "start_time": "2022-11-27T08:06:37.486Z"
   },
   {
    "duration": 6,
    "start_time": "2022-11-27T08:06:37.782Z"
   },
   {
    "duration": 5,
    "start_time": "2022-11-27T08:06:38.376Z"
   },
   {
    "duration": 11,
    "start_time": "2022-11-27T08:06:39.276Z"
   },
   {
    "duration": 13,
    "start_time": "2022-11-27T08:06:41.469Z"
   },
   {
    "duration": 49,
    "start_time": "2022-11-27T08:06:42.726Z"
   },
   {
    "duration": 34,
    "start_time": "2022-11-27T08:06:43.479Z"
   },
   {
    "duration": 8,
    "start_time": "2022-11-27T08:06:44.041Z"
   },
   {
    "duration": 6,
    "start_time": "2022-11-27T08:07:08.811Z"
   },
   {
    "duration": 10,
    "start_time": "2022-11-27T08:07:10.191Z"
   },
   {
    "duration": 466,
    "start_time": "2022-11-27T08:07:17.310Z"
   },
   {
    "duration": 16,
    "start_time": "2022-11-27T08:07:21.077Z"
   },
   {
    "duration": 15,
    "start_time": "2022-11-27T08:07:44.782Z"
   },
   {
    "duration": 275,
    "start_time": "2022-11-27T08:07:46.877Z"
   },
   {
    "duration": 32734,
    "start_time": "2022-11-27T08:08:23.910Z"
   },
   {
    "duration": 318,
    "start_time": "2022-11-27T08:09:00.793Z"
   },
   {
    "duration": 114,
    "start_time": "2022-11-27T08:09:11.456Z"
   },
   {
    "duration": 426,
    "start_time": "2022-11-27T08:09:24.232Z"
   },
   {
    "duration": 244,
    "start_time": "2022-11-27T08:09:27.196Z"
   },
   {
    "duration": 32833,
    "start_time": "2022-11-27T08:09:35.986Z"
   },
   {
    "duration": 283,
    "start_time": "2022-11-27T08:10:13.289Z"
   },
   {
    "duration": 16,
    "start_time": "2022-11-27T08:10:20.640Z"
   },
   {
    "duration": 11,
    "start_time": "2022-11-27T08:10:21.582Z"
   },
   {
    "duration": 3,
    "start_time": "2022-11-27T08:10:22.628Z"
   },
   {
    "duration": 567,
    "start_time": "2022-11-27T08:10:27.326Z"
   },
   {
    "duration": 255,
    "start_time": "2022-11-27T08:10:34.552Z"
   },
   {
    "duration": 44219,
    "start_time": "2022-11-27T08:10:42.625Z"
   },
   {
    "duration": 390,
    "start_time": "2022-11-27T08:11:49.916Z"
   },
   {
    "duration": 12,
    "start_time": "2022-11-27T08:11:55.327Z"
   },
   {
    "duration": 3,
    "start_time": "2022-11-27T08:11:56.425Z"
   },
   {
    "duration": 69,
    "start_time": "2022-11-27T08:11:58.062Z"
   },
   {
    "duration": 259,
    "start_time": "2022-11-27T08:11:59.727Z"
   },
   {
    "duration": 16414,
    "start_time": "2022-11-27T08:12:03.516Z"
   },
   {
    "duration": 293,
    "start_time": "2022-11-27T08:13:15.557Z"
   },
   {
    "duration": 266,
    "start_time": "2022-11-27T08:13:29.255Z"
   },
   {
    "duration": 114,
    "start_time": "2022-11-27T08:14:04.004Z"
   },
   {
    "duration": 116,
    "start_time": "2022-11-27T08:14:15.276Z"
   },
   {
    "duration": 19,
    "start_time": "2022-11-27T08:14:43.115Z"
   }
  ],
  "kernelspec": {
   "display_name": "Python 3 (ipykernel)",
   "language": "python",
   "name": "python3"
  },
  "language_info": {
   "codemirror_mode": {
    "name": "ipython",
    "version": 3
   },
   "file_extension": ".py",
   "mimetype": "text/x-python",
   "name": "python",
   "nbconvert_exporter": "python",
   "pygments_lexer": "ipython3",
   "version": "3.9.12"
  },
  "toc": {
   "base_numbering": 1,
   "nav_menu": {},
   "number_sections": true,
   "sideBar": true,
   "skip_h1_title": true,
   "title_cell": "Содержание",
   "title_sidebar": "Contents",
   "toc_cell": true,
   "toc_position": {
    "height": "calc(100% - 180px)",
    "left": "10px",
    "top": "150px",
    "width": "318.195px"
   },
   "toc_section_display": true,
   "toc_window_display": true
  }
 },
 "nbformat": 4,
 "nbformat_minor": 2
}
