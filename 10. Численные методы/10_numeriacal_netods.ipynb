{
 "cells": [
  {
   "cell_type": "markdown",
   "metadata": {},
   "source": [
    "# Определение стоимости автомобилей"
   ]
  },
  {
   "cell_type": "markdown",
   "metadata": {},
   "source": [
    "Сервис по продаже автомобилей с пробегом «Не бит, не крашен» разрабатывает приложение для привлечения новых клиентов. В нём можно быстро узнать рыночную стоимость своего автомобиля. В вашем распоряжении исторические данные: технические характеристики, комплектации и цены автомобилей. Вам нужно построить модель для определения стоимости. \n",
    "\n",
    "Заказчику важны:\n",
    "\n",
    "- качество предсказания;\n",
    "- скорость предсказания;\n",
    "- время обучения."
   ]
  },
  {
   "cell_type": "markdown",
   "metadata": {},
   "source": [
    "# Описание данных\n",
    "1. Признаки:\n",
    "- DateCrawled — дата скачивания анкеты из базы\n",
    "- VehicleType — тип автомобильного кузова\n",
    "- RegistrationYear — год регистрации автомобиля\n",
    "- Gearbox — тип коробки передач\n",
    "- Power — мощность (л. с.)\n",
    "- Model — модель автомобиля\n",
    "- Kilometer — пробег (км)\n",
    "- RegistrationMonth — месяц регистрации автомобиля\n",
    "- FuelType — тип топлива\n",
    "- Brand — марка автомобиля\n",
    "- Repaired — была машина в ремонте или нет\n",
    "- DateCreated — дата создания анкеты\n",
    "- NumberOfPictures — количество фотографий автомобиля\n",
    "- PostalCode — почтовый индекс владельца анкеты (пользователя)\n",
    "- LastSeen — дата последней активности пользователя\n",
    "\n",
    "2. Целевой признак:\n",
    "- Price — цена (евро)"
   ]
  },
  {
   "cell_type": "markdown",
   "metadata": {},
   "source": [
    "# План работы\n",
    "1. Загрузка данных\n",
    "2. Изучение данных:\n",
    " - Заполнение пропущенных значений\n",
    " - Обработка аномалии в столбцах.\n",
    " - Удаление неинформативных данных.\n",
    "3. Подготовка выборки для обучения моделей.\n",
    "4. Обучение моделей, одна из которых — LightGBM, как минимум одна — не бустинг.\n",
    "5. Анализ время обучения, время предсказания и качество моделей.\n",
    "6. Выбор лучшей модели и проверка её качество на тестовой выборке."
   ]
  },
  {
   "cell_type": "markdown",
   "metadata": {},
   "source": [
    "## Подготовка данных"
   ]
  },
  {
   "cell_type": "code",
   "execution_count": 2,
   "metadata": {},
   "outputs": [
    {
     "name": "stdout",
     "output_type": "stream",
     "text": [
      "Collecting package metadata (current_repodata.json): done\n",
      "Solving environment: done\n",
      "\n",
      "\n",
      "==> WARNING: A newer version of conda exists. <==\n",
      "  current version: 4.13.0\n",
      "  latest version: 23.1.0\n",
      "\n",
      "Please update conda by running\n",
      "\n",
      "    $ conda update -n base -c defaults conda\n",
      "\n",
      "\n",
      "\n",
      "## Package Plan ##\n",
      "\n",
      "  environment location: /Users/a1/opt/anaconda3\n",
      "\n",
      "  added / updated specs:\n",
      "    - lightgbm\n",
      "\n",
      "\n",
      "The following packages will be downloaded:\n",
      "\n",
      "    package                    |            build\n",
      "    ---------------------------|-----------------\n",
      "    conda-23.1.0               |   py39h6e9494a_0         908 KB  conda-forge\n",
      "    lightgbm-3.1.1             |   py39h219cf5c_0        1022 KB  conda-forge\n",
      "    python_abi-3.9             |           2_cp39           4 KB  conda-forge\n",
      "    ruamel.yaml-0.17.21        |   py39ha30fb19_3         183 KB  conda-forge\n",
      "    ruamel.yaml.clib-0.2.7     |   py39ha30fb19_1         118 KB  conda-forge\n",
      "    ------------------------------------------------------------\n",
      "                                           Total:         2.2 MB\n",
      "\n",
      "The following NEW packages will be INSTALLED:\n",
      "\n",
      "  lightgbm           conda-forge/osx-64::lightgbm-3.1.1-py39h219cf5c_0\n",
      "  python_abi         conda-forge/osx-64::python_abi-3.9-2_cp39\n",
      "  ruamel.yaml        conda-forge/osx-64::ruamel.yaml-0.17.21-py39ha30fb19_3\n",
      "  ruamel.yaml.clib   conda-forge/osx-64::ruamel.yaml.clib-0.2.7-py39ha30fb19_1\n",
      "\n",
      "The following packages will be UPDATED:\n",
      "\n",
      "  conda              pkgs/main::conda-4.13.0-py39hecd8cb5_0 --> conda-forge::conda-23.1.0-py39h6e9494a_0\n",
      "\n",
      "\n",
      "\n",
      "Downloading and Extracting Packages\n",
      "python_abi-3.9       | 4 KB      | ##################################### | 100% \n",
      "ruamel.yaml.clib-0.2 | 118 KB    | ##################################### | 100% \n",
      "lightgbm-3.1.1       | 1022 KB   | ##################################### | 100% \n",
      "ruamel.yaml-0.17.21  | 183 KB    | ##################################### | 100% \n",
      "conda-23.1.0         | 908 KB    | ##################################### | 100% \n",
      "Preparing transaction: done\n",
      "Verifying transaction: done\n",
      "Executing transaction: done\n",
      "\n",
      "Note: you may need to restart the kernel to use updated packages.\n"
     ]
    }
   ],
   "source": [
    "conda install -c conda-forge lightgbm"
   ]
  },
  {
   "cell_type": "code",
   "execution_count": 3,
   "metadata": {},
   "outputs": [],
   "source": [
    "# импорты сторонних библиотек\n",
    "import pandas as pd\n",
    "import lightgbm as lgb\n",
    "import matplotlib.pyplot as plt\n",
    "import numpy as np\n",
    "import seaborn as sns\n",
    "\n",
    "# импорты модулей текущего проекта\n",
    "from sklearn.linear_model import (\n",
    "    LinearRegression,\n",
    "    Lasso\n",
    ") \n",
    "\n",
    "from sklearn.metrics import mean_squared_error\n",
    "from sklearn.model_selection import (\n",
    "    cross_val_score,\n",
    "    GridSearchCV,\n",
    "    train_test_split\n",
    ")\n",
    "\n",
    "from sklearn.preprocessing import StandardScaler\n",
    "\n",
    "%matplotlib inline"
   ]
  },
  {
   "cell_type": "markdown",
   "metadata": {},
   "source": [
    "### Загрузка данных"
   ]
  },
  {
   "cell_type": "code",
   "execution_count": 4,
   "metadata": {},
   "outputs": [],
   "source": [
    "try:\n",
    "    data = pd.read_csv('/Users/a1/Documents/DataScientist/DataSets/autos.csv')\n",
    "except:\n",
    "    data = pd.read_csv(\"/datasets/autos.csv\")"
   ]
  },
  {
   "cell_type": "code",
   "execution_count": 5,
   "metadata": {},
   "outputs": [
    {
     "data": {
      "text/html": [
       "<div>\n",
       "<style scoped>\n",
       "    .dataframe tbody tr th:only-of-type {\n",
       "        vertical-align: middle;\n",
       "    }\n",
       "\n",
       "    .dataframe tbody tr th {\n",
       "        vertical-align: top;\n",
       "    }\n",
       "\n",
       "    .dataframe thead th {\n",
       "        text-align: right;\n",
       "    }\n",
       "</style>\n",
       "<table border=\"1\" class=\"dataframe\">\n",
       "  <thead>\n",
       "    <tr style=\"text-align: right;\">\n",
       "      <th></th>\n",
       "      <th>DateCrawled</th>\n",
       "      <th>Price</th>\n",
       "      <th>VehicleType</th>\n",
       "      <th>RegistrationYear</th>\n",
       "      <th>Gearbox</th>\n",
       "      <th>Power</th>\n",
       "      <th>Model</th>\n",
       "      <th>Kilometer</th>\n",
       "      <th>RegistrationMonth</th>\n",
       "      <th>FuelType</th>\n",
       "      <th>Brand</th>\n",
       "      <th>Repaired</th>\n",
       "      <th>DateCreated</th>\n",
       "      <th>NumberOfPictures</th>\n",
       "      <th>PostalCode</th>\n",
       "      <th>LastSeen</th>\n",
       "    </tr>\n",
       "  </thead>\n",
       "  <tbody>\n",
       "    <tr>\n",
       "      <th>0</th>\n",
       "      <td>2016-03-24 11:52:17</td>\n",
       "      <td>480</td>\n",
       "      <td>NaN</td>\n",
       "      <td>1993</td>\n",
       "      <td>manual</td>\n",
       "      <td>0</td>\n",
       "      <td>golf</td>\n",
       "      <td>150000</td>\n",
       "      <td>0</td>\n",
       "      <td>petrol</td>\n",
       "      <td>volkswagen</td>\n",
       "      <td>NaN</td>\n",
       "      <td>2016-03-24 00:00:00</td>\n",
       "      <td>0</td>\n",
       "      <td>70435</td>\n",
       "      <td>2016-04-07 03:16:57</td>\n",
       "    </tr>\n",
       "    <tr>\n",
       "      <th>1</th>\n",
       "      <td>2016-03-24 10:58:45</td>\n",
       "      <td>18300</td>\n",
       "      <td>coupe</td>\n",
       "      <td>2011</td>\n",
       "      <td>manual</td>\n",
       "      <td>190</td>\n",
       "      <td>NaN</td>\n",
       "      <td>125000</td>\n",
       "      <td>5</td>\n",
       "      <td>gasoline</td>\n",
       "      <td>audi</td>\n",
       "      <td>yes</td>\n",
       "      <td>2016-03-24 00:00:00</td>\n",
       "      <td>0</td>\n",
       "      <td>66954</td>\n",
       "      <td>2016-04-07 01:46:50</td>\n",
       "    </tr>\n",
       "    <tr>\n",
       "      <th>2</th>\n",
       "      <td>2016-03-14 12:52:21</td>\n",
       "      <td>9800</td>\n",
       "      <td>suv</td>\n",
       "      <td>2004</td>\n",
       "      <td>auto</td>\n",
       "      <td>163</td>\n",
       "      <td>grand</td>\n",
       "      <td>125000</td>\n",
       "      <td>8</td>\n",
       "      <td>gasoline</td>\n",
       "      <td>jeep</td>\n",
       "      <td>NaN</td>\n",
       "      <td>2016-03-14 00:00:00</td>\n",
       "      <td>0</td>\n",
       "      <td>90480</td>\n",
       "      <td>2016-04-05 12:47:46</td>\n",
       "    </tr>\n",
       "    <tr>\n",
       "      <th>3</th>\n",
       "      <td>2016-03-17 16:54:04</td>\n",
       "      <td>1500</td>\n",
       "      <td>small</td>\n",
       "      <td>2001</td>\n",
       "      <td>manual</td>\n",
       "      <td>75</td>\n",
       "      <td>golf</td>\n",
       "      <td>150000</td>\n",
       "      <td>6</td>\n",
       "      <td>petrol</td>\n",
       "      <td>volkswagen</td>\n",
       "      <td>no</td>\n",
       "      <td>2016-03-17 00:00:00</td>\n",
       "      <td>0</td>\n",
       "      <td>91074</td>\n",
       "      <td>2016-03-17 17:40:17</td>\n",
       "    </tr>\n",
       "    <tr>\n",
       "      <th>4</th>\n",
       "      <td>2016-03-31 17:25:20</td>\n",
       "      <td>3600</td>\n",
       "      <td>small</td>\n",
       "      <td>2008</td>\n",
       "      <td>manual</td>\n",
       "      <td>69</td>\n",
       "      <td>fabia</td>\n",
       "      <td>90000</td>\n",
       "      <td>7</td>\n",
       "      <td>gasoline</td>\n",
       "      <td>skoda</td>\n",
       "      <td>no</td>\n",
       "      <td>2016-03-31 00:00:00</td>\n",
       "      <td>0</td>\n",
       "      <td>60437</td>\n",
       "      <td>2016-04-06 10:17:21</td>\n",
       "    </tr>\n",
       "  </tbody>\n",
       "</table>\n",
       "</div>"
      ],
      "text/plain": [
       "           DateCrawled  Price VehicleType  RegistrationYear Gearbox  Power  \\\n",
       "0  2016-03-24 11:52:17    480         NaN              1993  manual      0   \n",
       "1  2016-03-24 10:58:45  18300       coupe              2011  manual    190   \n",
       "2  2016-03-14 12:52:21   9800         suv              2004    auto    163   \n",
       "3  2016-03-17 16:54:04   1500       small              2001  manual     75   \n",
       "4  2016-03-31 17:25:20   3600       small              2008  manual     69   \n",
       "\n",
       "   Model  Kilometer  RegistrationMonth  FuelType       Brand Repaired  \\\n",
       "0   golf     150000                  0    petrol  volkswagen      NaN   \n",
       "1    NaN     125000                  5  gasoline        audi      yes   \n",
       "2  grand     125000                  8  gasoline        jeep      NaN   \n",
       "3   golf     150000                  6    petrol  volkswagen       no   \n",
       "4  fabia      90000                  7  gasoline       skoda       no   \n",
       "\n",
       "           DateCreated  NumberOfPictures  PostalCode             LastSeen  \n",
       "0  2016-03-24 00:00:00                 0       70435  2016-04-07 03:16:57  \n",
       "1  2016-03-24 00:00:00                 0       66954  2016-04-07 01:46:50  \n",
       "2  2016-03-14 00:00:00                 0       90480  2016-04-05 12:47:46  \n",
       "3  2016-03-17 00:00:00                 0       91074  2016-03-17 17:40:17  \n",
       "4  2016-03-31 00:00:00                 0       60437  2016-04-06 10:17:21  "
      ]
     },
     "metadata": {},
     "output_type": "display_data"
    }
   ],
   "source": [
    "display(data.head())"
   ]
  },
  {
   "cell_type": "code",
   "execution_count": 6,
   "metadata": {},
   "outputs": [
    {
     "data": {
      "text/html": [
       "<div>\n",
       "<style scoped>\n",
       "    .dataframe tbody tr th:only-of-type {\n",
       "        vertical-align: middle;\n",
       "    }\n",
       "\n",
       "    .dataframe tbody tr th {\n",
       "        vertical-align: top;\n",
       "    }\n",
       "\n",
       "    .dataframe thead th {\n",
       "        text-align: right;\n",
       "    }\n",
       "</style>\n",
       "<table border=\"1\" class=\"dataframe\">\n",
       "  <thead>\n",
       "    <tr style=\"text-align: right;\">\n",
       "      <th></th>\n",
       "      <th>DateCrawled</th>\n",
       "      <th>Price</th>\n",
       "      <th>VehicleType</th>\n",
       "      <th>RegistrationYear</th>\n",
       "      <th>Gearbox</th>\n",
       "      <th>Power</th>\n",
       "      <th>Model</th>\n",
       "      <th>Kilometer</th>\n",
       "      <th>RegistrationMonth</th>\n",
       "      <th>FuelType</th>\n",
       "      <th>Brand</th>\n",
       "      <th>Repaired</th>\n",
       "      <th>DateCreated</th>\n",
       "      <th>NumberOfPictures</th>\n",
       "      <th>PostalCode</th>\n",
       "      <th>LastSeen</th>\n",
       "    </tr>\n",
       "  </thead>\n",
       "  <tbody>\n",
       "    <tr>\n",
       "      <th>354364</th>\n",
       "      <td>2016-03-21 09:50:58</td>\n",
       "      <td>0</td>\n",
       "      <td>NaN</td>\n",
       "      <td>2005</td>\n",
       "      <td>manual</td>\n",
       "      <td>0</td>\n",
       "      <td>colt</td>\n",
       "      <td>150000</td>\n",
       "      <td>7</td>\n",
       "      <td>petrol</td>\n",
       "      <td>mitsubishi</td>\n",
       "      <td>yes</td>\n",
       "      <td>2016-03-21 00:00:00</td>\n",
       "      <td>0</td>\n",
       "      <td>2694</td>\n",
       "      <td>2016-03-21 10:42:49</td>\n",
       "    </tr>\n",
       "    <tr>\n",
       "      <th>354365</th>\n",
       "      <td>2016-03-14 17:48:27</td>\n",
       "      <td>2200</td>\n",
       "      <td>NaN</td>\n",
       "      <td>2005</td>\n",
       "      <td>NaN</td>\n",
       "      <td>0</td>\n",
       "      <td>NaN</td>\n",
       "      <td>20000</td>\n",
       "      <td>1</td>\n",
       "      <td>NaN</td>\n",
       "      <td>sonstige_autos</td>\n",
       "      <td>NaN</td>\n",
       "      <td>2016-03-14 00:00:00</td>\n",
       "      <td>0</td>\n",
       "      <td>39576</td>\n",
       "      <td>2016-04-06 00:46:52</td>\n",
       "    </tr>\n",
       "    <tr>\n",
       "      <th>354366</th>\n",
       "      <td>2016-03-05 19:56:21</td>\n",
       "      <td>1199</td>\n",
       "      <td>convertible</td>\n",
       "      <td>2000</td>\n",
       "      <td>auto</td>\n",
       "      <td>101</td>\n",
       "      <td>fortwo</td>\n",
       "      <td>125000</td>\n",
       "      <td>3</td>\n",
       "      <td>petrol</td>\n",
       "      <td>smart</td>\n",
       "      <td>no</td>\n",
       "      <td>2016-03-05 00:00:00</td>\n",
       "      <td>0</td>\n",
       "      <td>26135</td>\n",
       "      <td>2016-03-11 18:17:12</td>\n",
       "    </tr>\n",
       "    <tr>\n",
       "      <th>354367</th>\n",
       "      <td>2016-03-19 18:57:12</td>\n",
       "      <td>9200</td>\n",
       "      <td>bus</td>\n",
       "      <td>1996</td>\n",
       "      <td>manual</td>\n",
       "      <td>102</td>\n",
       "      <td>transporter</td>\n",
       "      <td>150000</td>\n",
       "      <td>3</td>\n",
       "      <td>gasoline</td>\n",
       "      <td>volkswagen</td>\n",
       "      <td>no</td>\n",
       "      <td>2016-03-19 00:00:00</td>\n",
       "      <td>0</td>\n",
       "      <td>87439</td>\n",
       "      <td>2016-04-07 07:15:26</td>\n",
       "    </tr>\n",
       "    <tr>\n",
       "      <th>354368</th>\n",
       "      <td>2016-03-20 19:41:08</td>\n",
       "      <td>3400</td>\n",
       "      <td>wagon</td>\n",
       "      <td>2002</td>\n",
       "      <td>manual</td>\n",
       "      <td>100</td>\n",
       "      <td>golf</td>\n",
       "      <td>150000</td>\n",
       "      <td>6</td>\n",
       "      <td>gasoline</td>\n",
       "      <td>volkswagen</td>\n",
       "      <td>NaN</td>\n",
       "      <td>2016-03-20 00:00:00</td>\n",
       "      <td>0</td>\n",
       "      <td>40764</td>\n",
       "      <td>2016-03-24 12:45:21</td>\n",
       "    </tr>\n",
       "  </tbody>\n",
       "</table>\n",
       "</div>"
      ],
      "text/plain": [
       "                DateCrawled  Price  VehicleType  RegistrationYear Gearbox  \\\n",
       "354364  2016-03-21 09:50:58      0          NaN              2005  manual   \n",
       "354365  2016-03-14 17:48:27   2200          NaN              2005     NaN   \n",
       "354366  2016-03-05 19:56:21   1199  convertible              2000    auto   \n",
       "354367  2016-03-19 18:57:12   9200          bus              1996  manual   \n",
       "354368  2016-03-20 19:41:08   3400        wagon              2002  manual   \n",
       "\n",
       "        Power        Model  Kilometer  RegistrationMonth  FuelType  \\\n",
       "354364      0         colt     150000                  7    petrol   \n",
       "354365      0          NaN      20000                  1       NaN   \n",
       "354366    101       fortwo     125000                  3    petrol   \n",
       "354367    102  transporter     150000                  3  gasoline   \n",
       "354368    100         golf     150000                  6  gasoline   \n",
       "\n",
       "                 Brand Repaired          DateCreated  NumberOfPictures  \\\n",
       "354364      mitsubishi      yes  2016-03-21 00:00:00                 0   \n",
       "354365  sonstige_autos      NaN  2016-03-14 00:00:00                 0   \n",
       "354366           smart       no  2016-03-05 00:00:00                 0   \n",
       "354367      volkswagen       no  2016-03-19 00:00:00                 0   \n",
       "354368      volkswagen      NaN  2016-03-20 00:00:00                 0   \n",
       "\n",
       "        PostalCode             LastSeen  \n",
       "354364        2694  2016-03-21 10:42:49  \n",
       "354365       39576  2016-04-06 00:46:52  \n",
       "354366       26135  2016-03-11 18:17:12  \n",
       "354367       87439  2016-04-07 07:15:26  \n",
       "354368       40764  2016-03-24 12:45:21  "
      ]
     },
     "metadata": {},
     "output_type": "display_data"
    }
   ],
   "source": [
    "display(data.tail())"
   ]
  },
  {
   "cell_type": "code",
   "execution_count": 7,
   "metadata": {},
   "outputs": [
    {
     "name": "stdout",
     "output_type": "stream",
     "text": [
      "<class 'pandas.core.frame.DataFrame'>\n",
      "RangeIndex: 354369 entries, 0 to 354368\n",
      "Data columns (total 16 columns):\n",
      " #   Column             Non-Null Count   Dtype \n",
      "---  ------             --------------   ----- \n",
      " 0   DateCrawled        354369 non-null  object\n",
      " 1   Price              354369 non-null  int64 \n",
      " 2   VehicleType        316879 non-null  object\n",
      " 3   RegistrationYear   354369 non-null  int64 \n",
      " 4   Gearbox            334536 non-null  object\n",
      " 5   Power              354369 non-null  int64 \n",
      " 6   Model              334664 non-null  object\n",
      " 7   Kilometer          354369 non-null  int64 \n",
      " 8   RegistrationMonth  354369 non-null  int64 \n",
      " 9   FuelType           321474 non-null  object\n",
      " 10  Brand              354369 non-null  object\n",
      " 11  Repaired           283215 non-null  object\n",
      " 12  DateCreated        354369 non-null  object\n",
      " 13  NumberOfPictures   354369 non-null  int64 \n",
      " 14  PostalCode         354369 non-null  int64 \n",
      " 15  LastSeen           354369 non-null  object\n",
      "dtypes: int64(7), object(9)\n",
      "memory usage: 43.3+ MB\n"
     ]
    }
   ],
   "source": [
    "data.info()"
   ]
  },
  {
   "cell_type": "code",
   "execution_count": 8,
   "metadata": {},
   "outputs": [
    {
     "data": {
      "text/html": [
       "<div>\n",
       "<style scoped>\n",
       "    .dataframe tbody tr th:only-of-type {\n",
       "        vertical-align: middle;\n",
       "    }\n",
       "\n",
       "    .dataframe tbody tr th {\n",
       "        vertical-align: top;\n",
       "    }\n",
       "\n",
       "    .dataframe thead th {\n",
       "        text-align: right;\n",
       "    }\n",
       "</style>\n",
       "<table border=\"1\" class=\"dataframe\">\n",
       "  <thead>\n",
       "    <tr style=\"text-align: right;\">\n",
       "      <th></th>\n",
       "      <th>Price</th>\n",
       "      <th>RegistrationYear</th>\n",
       "      <th>Power</th>\n",
       "      <th>Kilometer</th>\n",
       "      <th>RegistrationMonth</th>\n",
       "      <th>NumberOfPictures</th>\n",
       "      <th>PostalCode</th>\n",
       "    </tr>\n",
       "  </thead>\n",
       "  <tbody>\n",
       "    <tr>\n",
       "      <th>count</th>\n",
       "      <td>354369.000000</td>\n",
       "      <td>354369.000000</td>\n",
       "      <td>354369.000000</td>\n",
       "      <td>354369.000000</td>\n",
       "      <td>354369.000000</td>\n",
       "      <td>354369.0</td>\n",
       "      <td>354369.000000</td>\n",
       "    </tr>\n",
       "    <tr>\n",
       "      <th>mean</th>\n",
       "      <td>4416.656776</td>\n",
       "      <td>2004.234448</td>\n",
       "      <td>110.094337</td>\n",
       "      <td>128211.172535</td>\n",
       "      <td>5.714645</td>\n",
       "      <td>0.0</td>\n",
       "      <td>50508.689087</td>\n",
       "    </tr>\n",
       "    <tr>\n",
       "      <th>std</th>\n",
       "      <td>4514.158514</td>\n",
       "      <td>90.227958</td>\n",
       "      <td>189.850405</td>\n",
       "      <td>37905.341530</td>\n",
       "      <td>3.726421</td>\n",
       "      <td>0.0</td>\n",
       "      <td>25783.096248</td>\n",
       "    </tr>\n",
       "    <tr>\n",
       "      <th>min</th>\n",
       "      <td>0.000000</td>\n",
       "      <td>1000.000000</td>\n",
       "      <td>0.000000</td>\n",
       "      <td>5000.000000</td>\n",
       "      <td>0.000000</td>\n",
       "      <td>0.0</td>\n",
       "      <td>1067.000000</td>\n",
       "    </tr>\n",
       "    <tr>\n",
       "      <th>25%</th>\n",
       "      <td>1050.000000</td>\n",
       "      <td>1999.000000</td>\n",
       "      <td>69.000000</td>\n",
       "      <td>125000.000000</td>\n",
       "      <td>3.000000</td>\n",
       "      <td>0.0</td>\n",
       "      <td>30165.000000</td>\n",
       "    </tr>\n",
       "    <tr>\n",
       "      <th>50%</th>\n",
       "      <td>2700.000000</td>\n",
       "      <td>2003.000000</td>\n",
       "      <td>105.000000</td>\n",
       "      <td>150000.000000</td>\n",
       "      <td>6.000000</td>\n",
       "      <td>0.0</td>\n",
       "      <td>49413.000000</td>\n",
       "    </tr>\n",
       "    <tr>\n",
       "      <th>75%</th>\n",
       "      <td>6400.000000</td>\n",
       "      <td>2008.000000</td>\n",
       "      <td>143.000000</td>\n",
       "      <td>150000.000000</td>\n",
       "      <td>9.000000</td>\n",
       "      <td>0.0</td>\n",
       "      <td>71083.000000</td>\n",
       "    </tr>\n",
       "    <tr>\n",
       "      <th>max</th>\n",
       "      <td>20000.000000</td>\n",
       "      <td>9999.000000</td>\n",
       "      <td>20000.000000</td>\n",
       "      <td>150000.000000</td>\n",
       "      <td>12.000000</td>\n",
       "      <td>0.0</td>\n",
       "      <td>99998.000000</td>\n",
       "    </tr>\n",
       "  </tbody>\n",
       "</table>\n",
       "</div>"
      ],
      "text/plain": [
       "               Price  RegistrationYear          Power      Kilometer  \\\n",
       "count  354369.000000     354369.000000  354369.000000  354369.000000   \n",
       "mean     4416.656776       2004.234448     110.094337  128211.172535   \n",
       "std      4514.158514         90.227958     189.850405   37905.341530   \n",
       "min         0.000000       1000.000000       0.000000    5000.000000   \n",
       "25%      1050.000000       1999.000000      69.000000  125000.000000   \n",
       "50%      2700.000000       2003.000000     105.000000  150000.000000   \n",
       "75%      6400.000000       2008.000000     143.000000  150000.000000   \n",
       "max     20000.000000       9999.000000   20000.000000  150000.000000   \n",
       "\n",
       "       RegistrationMonth  NumberOfPictures     PostalCode  \n",
       "count      354369.000000          354369.0  354369.000000  \n",
       "mean            5.714645               0.0   50508.689087  \n",
       "std             3.726421               0.0   25783.096248  \n",
       "min             0.000000               0.0    1067.000000  \n",
       "25%             3.000000               0.0   30165.000000  \n",
       "50%             6.000000               0.0   49413.000000  \n",
       "75%             9.000000               0.0   71083.000000  \n",
       "max            12.000000               0.0   99998.000000  "
      ]
     },
     "execution_count": 8,
     "metadata": {},
     "output_type": "execute_result"
    }
   ],
   "source": [
    "data.describe()"
   ]
  },
  {
   "cell_type": "markdown",
   "metadata": {},
   "source": [
    "Удалим не информативные столбцы:\n",
    "- 'DateCrawled' дата скачивания анкеты не влияет на цену,\n",
    "- 'RegistrationMonth' на вряд ли влияте на цену,\n",
    "- 'NumberOfPictures' количестов фотографий не оказывает влияние на цену, \n",
    "- 'PostalCode' почтовый индекс владельца не оказывает влияние на цену."
   ]
  },
  {
   "cell_type": "code",
   "execution_count": 9,
   "metadata": {},
   "outputs": [],
   "source": [
    "data = data.drop([\n",
    "    'DateCrawled',\n",
    "    'RegistrationMonth',\n",
    "    'NumberOfPictures',\n",
    "    'PostalCode'], axis=1)"
   ]
  },
  {
   "cell_type": "code",
   "execution_count": 10,
   "metadata": {},
   "outputs": [
    {
     "data": {
      "image/png": "[encoded data removed]",
      "text/plain": [
       "<Figure size 1080x720 with 4 Axes>"
      ]
     },
     "metadata": {
      "needs_background": "light"
     },
     "output_type": "display_data"
    }
   ],
   "source": [
    "data.hist(figsize=(15, 10));"
   ]
  },
  {
   "cell_type": "code",
   "execution_count": 11,
   "metadata": {},
   "outputs": [
    {
     "data": {
      "text/plain": [
       "<seaborn.axisgrid.PairGrid at 0x7fc55720fc10>"
      ]
     },
     "execution_count": 11,
     "metadata": {},
     "output_type": "execute_result"
    },
    {
     "data": {
      "image/png": "[encoded data removed]",
      "text/plain": [
       "<Figure size 720x720 with 20 Axes>"
      ]
     },
     "metadata": {
      "needs_background": "light"
     },
     "output_type": "display_data"
    }
   ],
   "source": [
    "sns.pairplot(data)"
   ]
  },
  {
   "cell_type": "markdown",
   "metadata": {},
   "source": [
    "В датасете две группу признаков:\n",
    "1. Категориальные:\n",
    "    - VehicleType — тип автомобильного кузова \n",
    "    - Gearbox — тип коробки передач\n",
    "    - Model — модель автомобиля\n",
    "    - FuelType — тип топлива\n",
    "    - Brand — марка автомобиля\n",
    "    - Repaired — была машина в ремонте или нет\n",
    "2. Числовые:\n",
    "    - RegistrationYear — год регистрации автомобиля\n",
    "    - Power — мощность (л. с.)\n",
    "    - Kilometer — пробег (км)\n",
    "    - DateCreated — дата создания анкет\n",
    "    - LastSeen — дата последней активности пользователя\n",
    "    \n",
    "    \n",
    "- Price — цена (евро). Явлеятся целевым признаком"
   ]
  },
  {
   "cell_type": "markdown",
   "metadata": {},
   "source": [
    "### Предобработка данных"
   ]
  },
  {
   "cell_type": "markdown",
   "metadata": {},
   "source": [
    "#### Работа спропусками по всем признакам"
   ]
  },
  {
   "cell_type": "code",
   "execution_count": 12,
   "metadata": {},
   "outputs": [
    {
     "data": {
      "text/plain": [
       "Price                   0\n",
       "VehicleType         37490\n",
       "RegistrationYear        0\n",
       "Gearbox             19833\n",
       "Power                   0\n",
       "Model               19705\n",
       "Kilometer               0\n",
       "FuelType            32895\n",
       "Brand                   0\n",
       "Repaired            71154\n",
       "DateCreated             0\n",
       "LastSeen                0\n",
       "dtype: int64"
      ]
     },
     "execution_count": 12,
     "metadata": {},
     "output_type": "execute_result"
    }
   ],
   "source": [
    "data.isna().sum()"
   ]
  },
  {
   "cell_type": "code",
   "execution_count": 13,
   "metadata": {},
   "outputs": [],
   "source": [
    "# check\n",
    "# пропущенные значения бары\n",
    "def pass_value_barh(df):\n",
    "    try:\n",
    "        (\n",
    "            (df.isna().mean()*100)\n",
    "            .to_frame()\n",
    "            .rename(columns = {0:'space'})\n",
    "            .query('space > 0')\n",
    "            .sort_values(by = 'space', ascending = True)\n",
    "            .plot(kind= 'barh', figsize=(19,6), rot = -5, legend = False, fontsize = 16)\n",
    "            .set_title('Пропуски' + \"\\n\", fontsize = 22, color = 'SteelBlue')    \n",
    "        );    \n",
    "    except:\n",
    "        print('Пропусков не осталось')"
   ]
  },
  {
   "cell_type": "code",
   "execution_count": 14,
   "metadata": {},
   "outputs": [
    {
     "data": {
      "image/png": "[encoded data removed]",
      "text/plain": [
       "<Figure size 1368x432 with 1 Axes>"
      ]
     },
     "metadata": {
      "needs_background": "light"
     },
     "output_type": "display_data"
    }
   ],
   "source": [
    "pass_value_barh(data)"
   ]
  },
  {
   "cell_type": "markdown",
   "metadata": {},
   "source": [
    "- Признак 'Repaired': Данные признак категориальный. Поскольку нет инофрмации постаим заглушку 'unknown'."
   ]
  },
  {
   "cell_type": "code",
   "execution_count": 15,
   "metadata": {},
   "outputs": [],
   "source": [
    "data['Repaired']=data['Repaired'].fillna(value ='unknown')"
   ]
  },
  {
   "cell_type": "markdown",
   "metadata": {},
   "source": [
    "- Признак 'Model':\n",
    "    Данный признак является основным. Нет возможности восатновить его. Придется удалить строки с пропусками. Количетсов удалякемых строк 5,4%."
   ]
  },
  {
   "cell_type": "code",
   "execution_count": 16,
   "metadata": {},
   "outputs": [],
   "source": [
    "data = data.loc[~data['Model'].isna()]"
   ]
  },
  {
   "cell_type": "markdown",
   "metadata": {},
   "source": [
    "- Признак 'VehicleType': предположим, что данный параметр одинаков в одинаковых моделях автомобилей, соответсвенно заполним пропуски  наиболее частым значением для одной и той же модели."
   ]
  },
  {
   "cell_type": "code",
   "execution_count": 17,
   "metadata": {},
   "outputs": [
    {
     "name": "stderr",
     "output_type": "stream",
     "text": [
      "/var/folders/93/bhstkg4d6gx8wwcqf54nfpnr0000gn/T/ipykernel_63562/241275826.py:1: SettingWithCopyWarning: \n",
      "A value is trying to be set on a copy of a slice from a DataFrame.\n",
      "Try using .loc[row_indexer,col_indexer] = value instead\n",
      "\n",
      "See the caveats in the documentation: https://pandas.pydata.org/pandas-docs/stable/user_guide/indexing.html#returning-a-view-versus-a-copy\n",
      "  data['VehicleType'] = data['VehicleType'].fillna(data\n"
     ]
    }
   ],
   "source": [
    "data['VehicleType'] = data['VehicleType'].fillna(data\n",
    "                                                 .groupby('Model')['VehicleType']\n",
    "                                                 .transform(lambda x: x.value_counts().idxmax()))"
   ]
  },
  {
   "cell_type": "markdown",
   "metadata": {},
   "source": [
    "- Признак 'FuelType': предположим, что данный параметр одинаков в одинаковых моделях автомобилей, соответсвенно заполним пропуски  наиболее частым значением для одной и той же модели"
   ]
  },
  {
   "cell_type": "code",
   "execution_count": 18,
   "metadata": {},
   "outputs": [
    {
     "name": "stderr",
     "output_type": "stream",
     "text": [
      "/var/folders/93/bhstkg4d6gx8wwcqf54nfpnr0000gn/T/ipykernel_63562/3310198856.py:1: SettingWithCopyWarning: \n",
      "A value is trying to be set on a copy of a slice from a DataFrame.\n",
      "Try using .loc[row_indexer,col_indexer] = value instead\n",
      "\n",
      "See the caveats in the documentation: https://pandas.pydata.org/pandas-docs/stable/user_guide/indexing.html#returning-a-view-versus-a-copy\n",
      "  data['FuelType'] = data['FuelType'].fillna(data\n"
     ]
    }
   ],
   "source": [
    "data['FuelType'] = data['FuelType'].fillna(data\n",
    "                                           .groupby('Model')['FuelType']\n",
    "                                           .transform(lambda x: x.value_counts().idxmax()))"
   ]
  },
  {
   "cell_type": "markdown",
   "metadata": {},
   "source": [
    "- Признак 'Gearbox': предположим, что данный параметр одинаков в одинаковых моделях автомобилей, соответсвенно заполним пропуски  наиболее частым значением для одной и той же модели"
   ]
  },
  {
   "cell_type": "code",
   "execution_count": 19,
   "metadata": {},
   "outputs": [
    {
     "name": "stderr",
     "output_type": "stream",
     "text": [
      "/var/folders/93/bhstkg4d6gx8wwcqf54nfpnr0000gn/T/ipykernel_63562/966288150.py:1: SettingWithCopyWarning: \n",
      "A value is trying to be set on a copy of a slice from a DataFrame.\n",
      "Try using .loc[row_indexer,col_indexer] = value instead\n",
      "\n",
      "See the caveats in the documentation: https://pandas.pydata.org/pandas-docs/stable/user_guide/indexing.html#returning-a-view-versus-a-copy\n",
      "  data['Gearbox'] = data['Gearbox'].fillna(data\n"
     ]
    }
   ],
   "source": [
    "data['Gearbox'] = data['Gearbox'].fillna(data\n",
    "                                         .groupby('Model')['Gearbox']\n",
    "                                         .transform(lambda x: x.value_counts().idxmax()))"
   ]
  },
  {
   "cell_type": "code",
   "execution_count": 20,
   "metadata": {},
   "outputs": [
    {
     "data": {
      "text/plain": [
       "Price               0\n",
       "VehicleType         0\n",
       "RegistrationYear    0\n",
       "Gearbox             0\n",
       "Power               0\n",
       "Model               0\n",
       "Kilometer           0\n",
       "FuelType            0\n",
       "Brand               0\n",
       "Repaired            0\n",
       "DateCreated         0\n",
       "LastSeen            0\n",
       "dtype: int64"
      ]
     },
     "execution_count": 20,
     "metadata": {},
     "output_type": "execute_result"
    }
   ],
   "source": [
    "data.isna().sum()"
   ]
  },
  {
   "cell_type": "markdown",
   "metadata": {},
   "source": [
    "#### Удаление дубликатов"
   ]
  },
  {
   "cell_type": "code",
   "execution_count": 21,
   "metadata": {},
   "outputs": [
    {
     "data": {
      "text/plain": [
       "False    334549\n",
       "True        115\n",
       "dtype: int64"
      ]
     },
     "execution_count": 21,
     "metadata": {},
     "output_type": "execute_result"
    }
   ],
   "source": [
    "data.duplicated().value_counts()"
   ]
  },
  {
   "cell_type": "markdown",
   "metadata": {},
   "source": [
    "Дубликатов не много, и все же удалим их."
   ]
  },
  {
   "cell_type": "code",
   "execution_count": 22,
   "metadata": {},
   "outputs": [],
   "source": [
    "# удаление дубликатов\n",
    "data = data.drop_duplicates()"
   ]
  },
  {
   "cell_type": "markdown",
   "metadata": {},
   "source": [
    "#### Обработка и удаление аномалий"
   ]
  },
  {
   "cell_type": "markdown",
   "metadata": {},
   "source": [
    "- Признак 'Price':"
   ]
  },
  {
   "cell_type": "code",
   "execution_count": 23,
   "metadata": {},
   "outputs": [
    {
     "data": {
      "text/html": [
       "<style type=\"text/css\">\n",
       "</style>\n",
       "<table id=\"T_6fb2d\">\n",
       "  <thead>\n",
       "    <tr>\n",
       "      <th class=\"blank level0\" >&nbsp;</th>\n",
       "      <th id=\"T_6fb2d_level0_col0\" class=\"col_heading level0 col0\" >Price</th>\n",
       "    </tr>\n",
       "  </thead>\n",
       "  <tbody>\n",
       "    <tr>\n",
       "      <th id=\"T_6fb2d_level0_row0\" class=\"row_heading level0 row0\" >count</th>\n",
       "      <td id=\"T_6fb2d_row0_col0\" class=\"data row0 col0\" >334,549.00</td>\n",
       "    </tr>\n",
       "    <tr>\n",
       "      <th id=\"T_6fb2d_level0_row1\" class=\"row_heading level0 row1\" >min</th>\n",
       "      <td id=\"T_6fb2d_row1_col0\" class=\"data row1 col0\" >0.00</td>\n",
       "    </tr>\n",
       "    <tr>\n",
       "      <th id=\"T_6fb2d_level0_row2\" class=\"row_heading level0 row2\" >mean</th>\n",
       "      <td id=\"T_6fb2d_row2_col0\" class=\"data row2 col0\" >4,504.01</td>\n",
       "    </tr>\n",
       "    <tr>\n",
       "      <th id=\"T_6fb2d_level0_row3\" class=\"row_heading level0 row3\" >max</th>\n",
       "      <td id=\"T_6fb2d_row3_col0\" class=\"data row3 col0\" >20,000.00</td>\n",
       "    </tr>\n",
       "  </tbody>\n",
       "</table>\n"
      ],
      "text/plain": [
       "<pandas.io.formats.style.Styler at 0x7fc56ed105b0>"
      ]
     },
     "execution_count": 23,
     "metadata": {},
     "output_type": "execute_result"
    }
   ],
   "source": [
    "(data[['Price']].apply (['count', 'min', 'mean','max']).style.format(\"{:,.2f}\"))"
   ]
  },
  {
   "cell_type": "code",
   "execution_count": 24,
   "metadata": {},
   "outputs": [
    {
     "data": {
      "image/png": "[encoded data removed]",
      "text/plain": [
       "<Figure size 1224x144 with 1 Axes>"
      ]
     },
     "metadata": {
      "needs_background": "light"
     },
     "output_type": "display_data"
    }
   ],
   "source": [
    "fig, ax = plt.subplots(figsize = (17,2))\n",
    "ax = data[['Price']].boxplot(vert = False, ax =ax)\n",
    "ax.set_title('Диаграмма размаха значений Power')\n",
    "ax.set_xlim(0, 20000);"
   ]
  },
  {
   "cell_type": "markdown",
   "metadata": {},
   "source": [
    "Цена не может быть 0. Если стоит цена 0 значит ее забыли поставить. Цена является целевым признаком. Строки с нулевой ценой необходимо удалить, така как востановаить их не получится."
   ]
  },
  {
   "cell_type": "code",
   "execution_count": 25,
   "metadata": {},
   "outputs": [
    {
     "name": "stdout",
     "output_type": "stream",
     "text": [
      "Количество объявлений с нулевой ценой подлежащих удалению: 8587\n"
     ]
    }
   ],
   "source": [
    "print(\"Количество объявлений с нулевой ценой подлежащих удалению:\", len(data.loc[data['Price'] == 0]))"
   ]
  },
  {
   "cell_type": "code",
   "execution_count": 26,
   "metadata": {},
   "outputs": [],
   "source": [
    "#удалим данные с нулевой ценой\n",
    "data = data.loc[data['Price'] != 0]"
   ]
  },
  {
   "cell_type": "markdown",
   "metadata": {},
   "source": [
    "- Признак 'Power':"
   ]
  },
  {
   "cell_type": "code",
   "execution_count": 27,
   "metadata": {},
   "outputs": [
    {
     "data": {
      "text/html": [
       "<style type=\"text/css\">\n",
       "</style>\n",
       "<table id=\"T_d7fb3\">\n",
       "  <thead>\n",
       "    <tr>\n",
       "      <th class=\"blank level0\" >&nbsp;</th>\n",
       "      <th id=\"T_d7fb3_level0_col0\" class=\"col_heading level0 col0\" >Power</th>\n",
       "    </tr>\n",
       "  </thead>\n",
       "  <tbody>\n",
       "    <tr>\n",
       "      <th id=\"T_d7fb3_level0_row0\" class=\"row_heading level0 row0\" >count</th>\n",
       "      <td id=\"T_d7fb3_row0_col0\" class=\"data row0 col0\" >325,962.00</td>\n",
       "    </tr>\n",
       "    <tr>\n",
       "      <th id=\"T_d7fb3_level0_row1\" class=\"row_heading level0 row1\" >min</th>\n",
       "      <td id=\"T_d7fb3_row1_col0\" class=\"data row1 col0\" >0.00</td>\n",
       "    </tr>\n",
       "    <tr>\n",
       "      <th id=\"T_d7fb3_level0_row2\" class=\"row_heading level0 row2\" >mean</th>\n",
       "      <td id=\"T_d7fb3_row2_col0\" class=\"data row2 col0\" >111.98</td>\n",
       "    </tr>\n",
       "    <tr>\n",
       "      <th id=\"T_d7fb3_level0_row3\" class=\"row_heading level0 row3\" >max</th>\n",
       "      <td id=\"T_d7fb3_row3_col0\" class=\"data row3 col0\" >20,000.00</td>\n",
       "    </tr>\n",
       "  </tbody>\n",
       "</table>\n"
      ],
      "text/plain": [
       "<pandas.io.formats.style.Styler at 0x7fc5367c0610>"
      ]
     },
     "execution_count": 27,
     "metadata": {},
     "output_type": "execute_result"
    }
   ],
   "source": [
    "(data[['Power']].apply (['count', 'min', 'mean','max']).style.format(\"{:,.2f}\"))"
   ]
  },
  {
   "cell_type": "code",
   "execution_count": 28,
   "metadata": {},
   "outputs": [
    {
     "data": {
      "image/png": "[encoded data removed]",
      "text/plain": [
       "<Figure size 1224x144 with 1 Axes>"
      ]
     },
     "metadata": {
      "needs_background": "light"
     },
     "output_type": "display_data"
    }
   ],
   "source": [
    "fig, ax = plt.subplots(figsize = (17,2))\n",
    "ax = data[['Power']].boxplot(vert = False, ax =ax)\n",
    "ax.set_title('Диаграмма размаха значений Power')\n",
    "ax.set_xlim(0, 2000);"
   ]
  },
  {
   "cell_type": "markdown",
   "metadata": {},
   "source": [
    "Из графика выше видно, что есть машины с 0 мощностью и с очень большой мощностью, больше 750 л.с. Удалим их."
   ]
  },
  {
   "cell_type": "code",
   "execution_count": 29,
   "metadata": {},
   "outputs": [
    {
     "name": "stdout",
     "output_type": "stream",
     "text": [
      "Количество объявлений с 0 мощностью подлежащих удалению: 31331\n",
      "Количество объявлений с аномальной мощностью подлежащих удалению: 285\n"
     ]
    }
   ],
   "source": [
    "print(\"Количество объявлений с 0 мощностью подлежащих удалению:\", len(data.loc[data['Power'] == 0]))\n",
    "print(\"Количество объявлений с аномальной мощностью подлежащих удалению:\", len(data.loc[data['Power'] > 750]))"
   ]
  },
  {
   "cell_type": "markdown",
   "metadata": {},
   "source": [
    "Заменим медианнным значеним мощности для соответсующей модели."
   ]
  },
  {
   "cell_type": "code",
   "execution_count": 30,
   "metadata": {},
   "outputs": [],
   "source": [
    "#обнулим мощности больше 750 л.с, а также отрицательные если таковые бы имелись.\n",
    "data.loc[(data['Power'] > 750) | (data['Power'] <= 0), 'Power'] = None\n",
    "#заполним медианой\n",
    "data['Power'] = data['Power'].fillna(data.groupby('Model')['Power'].transform('median'))\n",
    "data = data.loc[~data['Power'].isna()]\n",
    "# изменим тим на 'int64'\n",
    "data['Power'] = data['Power'].astype('int64')"
   ]
  },
  {
   "cell_type": "markdown",
   "metadata": {},
   "source": [
    "- Признак 'RegistrationYear':"
   ]
  },
  {
   "cell_type": "markdown",
   "metadata": {},
   "source": [
    "Рассмотрим, есть ли в таблице данные с неправильной регистрацией. "
   ]
  },
  {
   "cell_type": "code",
   "execution_count": 31,
   "metadata": {},
   "outputs": [
    {
     "data": {
      "text/html": [
       "<style type=\"text/css\">\n",
       "</style>\n",
       "<table id=\"T_0da25\">\n",
       "  <thead>\n",
       "    <tr>\n",
       "      <th class=\"blank level0\" >&nbsp;</th>\n",
       "      <th id=\"T_0da25_level0_col0\" class=\"col_heading level0 col0\" >RegistrationYear</th>\n",
       "    </tr>\n",
       "  </thead>\n",
       "  <tbody>\n",
       "    <tr>\n",
       "      <th id=\"T_0da25_level0_row0\" class=\"row_heading level0 row0\" >count</th>\n",
       "      <td id=\"T_0da25_row0_col0\" class=\"data row0 col0\" >325,961.00</td>\n",
       "    </tr>\n",
       "    <tr>\n",
       "      <th id=\"T_0da25_level0_row1\" class=\"row_heading level0 row1\" >min</th>\n",
       "      <td id=\"T_0da25_row1_col0\" class=\"data row1 col0\" >1,000.00</td>\n",
       "    </tr>\n",
       "    <tr>\n",
       "      <th id=\"T_0da25_level0_row2\" class=\"row_heading level0 row2\" >mean</th>\n",
       "      <td id=\"T_0da25_row2_col0\" class=\"data row2 col0\" >2,003.95</td>\n",
       "    </tr>\n",
       "    <tr>\n",
       "      <th id=\"T_0da25_level0_row3\" class=\"row_heading level0 row3\" >max</th>\n",
       "      <td id=\"T_0da25_row3_col0\" class=\"data row3 col0\" >9,999.00</td>\n",
       "    </tr>\n",
       "  </tbody>\n",
       "</table>\n"
      ],
      "text/plain": [
       "<pandas.io.formats.style.Styler at 0x7fc56ecf0430>"
      ]
     },
     "execution_count": 31,
     "metadata": {},
     "output_type": "execute_result"
    }
   ],
   "source": [
    "(data[['RegistrationYear']].apply (['count', 'min', 'mean','max']).style.format(\"{:,.2f}\"))"
   ]
  },
  {
   "cell_type": "markdown",
   "metadata": {},
   "source": [
    "Определим верхнюю границу дату регистрации, через дату публикации анкеты. Дата регистрации не может быть больше даты публикации анкеты"
   ]
  },
  {
   "cell_type": "code",
   "execution_count": 32,
   "metadata": {},
   "outputs": [
    {
     "name": "stdout",
     "output_type": "stream",
     "text": [
      "2016-04-07 00:00:00\n"
     ]
    }
   ],
   "source": [
    "print(max(data['DateCreated']))"
   ]
  },
  {
   "cell_type": "markdown",
   "metadata": {},
   "source": [
    "Максимальная дата регистарции автомобиля не может быть больше 2016 года"
   ]
  },
  {
   "cell_type": "code",
   "execution_count": 33,
   "metadata": {},
   "outputs": [
    {
     "name": "stdout",
     "output_type": "stream",
     "text": [
      "2016\n"
     ]
    }
   ],
   "source": [
    "max_date_reg =pd.Timestamp(max(data['DateCreated'])).year\n",
    "#check\n",
    "print(max_date_reg)"
   ]
  },
  {
   "cell_type": "markdown",
   "metadata": {},
   "source": [
    "Минимальную дата регистрации атомобиля примим не ранее 1900 года."
   ]
  },
  {
   "cell_type": "code",
   "execution_count": 34,
   "metadata": {},
   "outputs": [],
   "source": [
    "min_date_reg = 1900"
   ]
  },
  {
   "cell_type": "code",
   "execution_count": 35,
   "metadata": {},
   "outputs": [
    {
     "data": {
      "image/png": "[encoded data removed]",
      "text/plain": [
       "<Figure size 1224x144 with 1 Axes>"
      ]
     },
     "metadata": {
      "needs_background": "light"
     },
     "output_type": "display_data"
    }
   ],
   "source": [
    "fig, ax = plt.subplots(figsize = (17,2))\n",
    "ax = data[['RegistrationYear']].boxplot(vert = False, ax =ax)\n",
    "ax.set_title('Диаграмма размаха значений RegistrationYear')\n",
    "ax.set_xlim(min_date_reg, max_date_reg+4);"
   ]
  },
  {
   "cell_type": "code",
   "execution_count": 36,
   "metadata": {},
   "outputs": [
    {
     "name": "stdout",
     "output_type": "stream",
     "text": [
      "Количество объявлений с аномальной высокой регистрацией для удаления: 11920\n",
      "Количество объявлений с аномальной низкой регистрацией для удаления: 28\n"
     ]
    }
   ],
   "source": [
    "print(\"Количество объявлений с аномальной высокой регистрацией для удаления:\", len(\n",
    "    data.loc[data['RegistrationYear'] > max_date_reg]))\n",
    "print(\"Количество объявлений с аномальной низкой регистрацией для удаления:\", len(\n",
    "    data.loc[data['RegistrationYear'] < min_date_reg]))"
   ]
  },
  {
   "cell_type": "code",
   "execution_count": 37,
   "metadata": {},
   "outputs": [
    {
     "data": {
      "text/html": [
       "<div>\n",
       "<style scoped>\n",
       "    .dataframe tbody tr th:only-of-type {\n",
       "        vertical-align: middle;\n",
       "    }\n",
       "\n",
       "    .dataframe tbody tr th {\n",
       "        vertical-align: top;\n",
       "    }\n",
       "\n",
       "    .dataframe thead th {\n",
       "        text-align: right;\n",
       "    }\n",
       "</style>\n",
       "<table border=\"1\" class=\"dataframe\">\n",
       "  <thead>\n",
       "    <tr style=\"text-align: right;\">\n",
       "      <th></th>\n",
       "      <th>Price</th>\n",
       "      <th>VehicleType</th>\n",
       "      <th>RegistrationYear</th>\n",
       "      <th>Gearbox</th>\n",
       "      <th>Power</th>\n",
       "      <th>Model</th>\n",
       "      <th>Kilometer</th>\n",
       "      <th>FuelType</th>\n",
       "      <th>Brand</th>\n",
       "      <th>Repaired</th>\n",
       "      <th>DateCreated</th>\n",
       "      <th>LastSeen</th>\n",
       "    </tr>\n",
       "  </thead>\n",
       "  <tbody>\n",
       "    <tr>\n",
       "      <th>22</th>\n",
       "      <td>2900</td>\n",
       "      <td>bus</td>\n",
       "      <td>2018</td>\n",
       "      <td>manual</td>\n",
       "      <td>90</td>\n",
       "      <td>meriva</td>\n",
       "      <td>150000</td>\n",
       "      <td>petrol</td>\n",
       "      <td>opel</td>\n",
       "      <td>no</td>\n",
       "      <td>2016-03-23 00:00:00</td>\n",
       "      <td>2016-03-31 01:16:33</td>\n",
       "    </tr>\n",
       "    <tr>\n",
       "      <th>26</th>\n",
       "      <td>5555</td>\n",
       "      <td>sedan</td>\n",
       "      <td>2017</td>\n",
       "      <td>manual</td>\n",
       "      <td>125</td>\n",
       "      <td>c4</td>\n",
       "      <td>125000</td>\n",
       "      <td>gasoline</td>\n",
       "      <td>citroen</td>\n",
       "      <td>no</td>\n",
       "      <td>2016-03-10 00:00:00</td>\n",
       "      <td>2016-03-16 09:16:46</td>\n",
       "    </tr>\n",
       "    <tr>\n",
       "      <th>48</th>\n",
       "      <td>7750</td>\n",
       "      <td>sedan</td>\n",
       "      <td>2017</td>\n",
       "      <td>manual</td>\n",
       "      <td>80</td>\n",
       "      <td>golf</td>\n",
       "      <td>100000</td>\n",
       "      <td>petrol</td>\n",
       "      <td>volkswagen</td>\n",
       "      <td>unknown</td>\n",
       "      <td>2016-03-25 00:00:00</td>\n",
       "      <td>2016-03-31 21:47:44</td>\n",
       "    </tr>\n",
       "    <tr>\n",
       "      <th>51</th>\n",
       "      <td>2000</td>\n",
       "      <td>small</td>\n",
       "      <td>2017</td>\n",
       "      <td>manual</td>\n",
       "      <td>90</td>\n",
       "      <td>punto</td>\n",
       "      <td>150000</td>\n",
       "      <td>gasoline</td>\n",
       "      <td>fiat</td>\n",
       "      <td>yes</td>\n",
       "      <td>2016-03-07 00:00:00</td>\n",
       "      <td>2016-03-07 18:57:08</td>\n",
       "    </tr>\n",
       "    <tr>\n",
       "      <th>57</th>\n",
       "      <td>2399</td>\n",
       "      <td>sedan</td>\n",
       "      <td>2018</td>\n",
       "      <td>manual</td>\n",
       "      <td>64</td>\n",
       "      <td>other</td>\n",
       "      <td>125000</td>\n",
       "      <td>petrol</td>\n",
       "      <td>seat</td>\n",
       "      <td>no</td>\n",
       "      <td>2016-03-10 00:00:00</td>\n",
       "      <td>2016-03-25 10:17:37</td>\n",
       "    </tr>\n",
       "  </tbody>\n",
       "</table>\n",
       "</div>"
      ],
      "text/plain": [
       "    Price VehicleType  RegistrationYear Gearbox  Power   Model  Kilometer  \\\n",
       "22   2900         bus              2018  manual     90  meriva     150000   \n",
       "26   5555       sedan              2017  manual    125      c4     125000   \n",
       "48   7750       sedan              2017  manual     80    golf     100000   \n",
       "51   2000       small              2017  manual     90   punto     150000   \n",
       "57   2399       sedan              2018  manual     64   other     125000   \n",
       "\n",
       "    FuelType       Brand Repaired          DateCreated             LastSeen  \n",
       "22    petrol        opel       no  2016-03-23 00:00:00  2016-03-31 01:16:33  \n",
       "26  gasoline     citroen       no  2016-03-10 00:00:00  2016-03-16 09:16:46  \n",
       "48    petrol  volkswagen  unknown  2016-03-25 00:00:00  2016-03-31 21:47:44  \n",
       "51  gasoline        fiat      yes  2016-03-07 00:00:00  2016-03-07 18:57:08  \n",
       "57    petrol        seat       no  2016-03-10 00:00:00  2016-03-25 10:17:37  "
      ]
     },
     "execution_count": 37,
     "metadata": {},
     "output_type": "execute_result"
    }
   ],
   "source": [
    "data.loc[data['RegistrationYear'] > max_date_reg].head()"
   ]
  },
  {
   "cell_type": "code",
   "execution_count": 38,
   "metadata": {},
   "outputs": [
    {
     "data": {
      "text/html": [
       "<div>\n",
       "<style scoped>\n",
       "    .dataframe tbody tr th:only-of-type {\n",
       "        vertical-align: middle;\n",
       "    }\n",
       "\n",
       "    .dataframe tbody tr th {\n",
       "        vertical-align: top;\n",
       "    }\n",
       "\n",
       "    .dataframe thead th {\n",
       "        text-align: right;\n",
       "    }\n",
       "</style>\n",
       "<table border=\"1\" class=\"dataframe\">\n",
       "  <thead>\n",
       "    <tr style=\"text-align: right;\">\n",
       "      <th></th>\n",
       "      <th>Price</th>\n",
       "      <th>VehicleType</th>\n",
       "      <th>RegistrationYear</th>\n",
       "      <th>Gearbox</th>\n",
       "      <th>Power</th>\n",
       "      <th>Model</th>\n",
       "      <th>Kilometer</th>\n",
       "      <th>FuelType</th>\n",
       "      <th>Brand</th>\n",
       "      <th>Repaired</th>\n",
       "      <th>DateCreated</th>\n",
       "      <th>LastSeen</th>\n",
       "    </tr>\n",
       "  </thead>\n",
       "  <tbody>\n",
       "    <tr>\n",
       "      <th>16062</th>\n",
       "      <td>190</td>\n",
       "      <td>wagon</td>\n",
       "      <td>1000</td>\n",
       "      <td>manual</td>\n",
       "      <td>131</td>\n",
       "      <td>mondeo</td>\n",
       "      <td>5000</td>\n",
       "      <td>petrol</td>\n",
       "      <td>ford</td>\n",
       "      <td>unknown</td>\n",
       "      <td>2016-03-29 00:00:00</td>\n",
       "      <td>2016-04-06 10:44:58</td>\n",
       "    </tr>\n",
       "    <tr>\n",
       "      <th>18224</th>\n",
       "      <td>7999</td>\n",
       "      <td>sedan</td>\n",
       "      <td>1500</td>\n",
       "      <td>manual</td>\n",
       "      <td>224</td>\n",
       "      <td>impreza</td>\n",
       "      <td>5000</td>\n",
       "      <td>petrol</td>\n",
       "      <td>subaru</td>\n",
       "      <td>unknown</td>\n",
       "      <td>2016-03-09 00:00:00</td>\n",
       "      <td>2016-03-15 05:15:17</td>\n",
       "    </tr>\n",
       "    <tr>\n",
       "      <th>53577</th>\n",
       "      <td>330</td>\n",
       "      <td>small</td>\n",
       "      <td>1000</td>\n",
       "      <td>manual</td>\n",
       "      <td>60</td>\n",
       "      <td>polo</td>\n",
       "      <td>5000</td>\n",
       "      <td>petrol</td>\n",
       "      <td>volkswagen</td>\n",
       "      <td>unknown</td>\n",
       "      <td>2016-03-20 00:00:00</td>\n",
       "      <td>2016-04-04 08:17:15</td>\n",
       "    </tr>\n",
       "    <tr>\n",
       "      <th>56241</th>\n",
       "      <td>950</td>\n",
       "      <td>sedan</td>\n",
       "      <td>1400</td>\n",
       "      <td>manual</td>\n",
       "      <td>101</td>\n",
       "      <td>golf</td>\n",
       "      <td>125000</td>\n",
       "      <td>petrol</td>\n",
       "      <td>volkswagen</td>\n",
       "      <td>unknown</td>\n",
       "      <td>2016-03-30 00:00:00</td>\n",
       "      <td>2016-04-03 09:45:19</td>\n",
       "    </tr>\n",
       "    <tr>\n",
       "      <th>71459</th>\n",
       "      <td>500</td>\n",
       "      <td>sedan</td>\n",
       "      <td>1000</td>\n",
       "      <td>manual</td>\n",
       "      <td>101</td>\n",
       "      <td>golf</td>\n",
       "      <td>5000</td>\n",
       "      <td>petrol</td>\n",
       "      <td>volkswagen</td>\n",
       "      <td>unknown</td>\n",
       "      <td>2016-03-27 00:00:00</td>\n",
       "      <td>2016-03-29 13:46:49</td>\n",
       "    </tr>\n",
       "  </tbody>\n",
       "</table>\n",
       "</div>"
      ],
      "text/plain": [
       "       Price VehicleType  RegistrationYear Gearbox  Power    Model  Kilometer  \\\n",
       "16062    190       wagon              1000  manual    131   mondeo       5000   \n",
       "18224   7999       sedan              1500  manual    224  impreza       5000   \n",
       "53577    330       small              1000  manual     60     polo       5000   \n",
       "56241    950       sedan              1400  manual    101     golf     125000   \n",
       "71459    500       sedan              1000  manual    101     golf       5000   \n",
       "\n",
       "      FuelType       Brand Repaired          DateCreated             LastSeen  \n",
       "16062   petrol        ford  unknown  2016-03-29 00:00:00  2016-04-06 10:44:58  \n",
       "18224   petrol      subaru  unknown  2016-03-09 00:00:00  2016-03-15 05:15:17  \n",
       "53577   petrol  volkswagen  unknown  2016-03-20 00:00:00  2016-04-04 08:17:15  \n",
       "56241   petrol  volkswagen  unknown  2016-03-30 00:00:00  2016-04-03 09:45:19  \n",
       "71459   petrol  volkswagen  unknown  2016-03-27 00:00:00  2016-03-29 13:46:49  "
      ]
     },
     "execution_count": 38,
     "metadata": {},
     "output_type": "execute_result"
    }
   ],
   "source": [
    "data.loc[data['RegistrationYear'] < min_date_reg].head()"
   ]
  },
  {
   "cell_type": "markdown",
   "metadata": {},
   "source": [
    "Удалим строки с неправлиьной регистрацией"
   ]
  },
  {
   "cell_type": "code",
   "execution_count": 39,
   "metadata": {},
   "outputs": [],
   "source": [
    "data = data.loc[data['RegistrationYear'] <= max_date_reg]\n",
    "data = data.loc[data['RegistrationYear'] >  min_date_reg] "
   ]
  },
  {
   "cell_type": "markdown",
   "metadata": {},
   "source": [
    "- Признак DateCreated:"
   ]
  },
  {
   "cell_type": "code",
   "execution_count": 40,
   "metadata": {},
   "outputs": [
    {
     "name": "stdout",
     "output_type": "stream",
     "text": [
      "2014-03-10 00:00:00\n"
     ]
    }
   ],
   "source": [
    "# выведем самую раннюю дату пабликации\n",
    "first_date = min(data['DateCreated'])\n",
    "print(first_date)"
   ]
  },
  {
   "cell_type": "markdown",
   "metadata": {},
   "source": [
    "Приеобразуем все даты в числовой и выразим его в количестве дней от первоначальной даты"
   ]
  },
  {
   "cell_type": "code",
   "execution_count": 41,
   "metadata": {},
   "outputs": [],
   "source": [
    "start_date = pd.Timestamp(first_date)\n",
    "data['DateCreated'] = data['DateCreated'].map(lambda date : (pd.Timestamp(date) - start_date).days)"
   ]
  },
  {
   "cell_type": "markdown",
   "metadata": {},
   "source": [
    "- Признак LastSeen:"
   ]
  },
  {
   "cell_type": "markdown",
   "metadata": {},
   "source": [
    "Приеобразуем все даты в числовой формат и выразим его в количестве дней от первоначальной даты"
   ]
  },
  {
   "cell_type": "code",
   "execution_count": 42,
   "metadata": {},
   "outputs": [],
   "source": [
    "data['LastSeen'] = data['LastSeen'].map(lambda date : (pd.Timestamp(date) - start_date).days)"
   ]
  },
  {
   "cell_type": "markdown",
   "metadata": {},
   "source": [
    "- Признак 'Brand':"
   ]
  },
  {
   "cell_type": "code",
   "execution_count": 43,
   "metadata": {},
   "outputs": [
    {
     "data": {
      "text/plain": [
       "volkswagen       68049\n",
       "opel             35183\n",
       "bmw              33246\n",
       "mercedes_benz    29380\n",
       "audi             26669\n",
       "ford             22672\n",
       "renault          15810\n",
       "peugeot           9697\n",
       "fiat              8456\n",
       "seat              6171\n",
       "skoda             5188\n",
       "mazda             4975\n",
       "smart             4754\n",
       "citroen           4605\n",
       "nissan            4449\n",
       "toyota            4268\n",
       "hyundai           3226\n",
       "mini              3017\n",
       "volvo             2969\n",
       "mitsubishi        2685\n",
       "honda             2474\n",
       "kia               2209\n",
       "suzuki            2086\n",
       "alfa_romeo        2049\n",
       "chevrolet         1569\n",
       "chrysler          1255\n",
       "dacia              847\n",
       "daihatsu           717\n",
       "porsche            689\n",
       "subaru             685\n",
       "jeep               614\n",
       "land_rover         514\n",
       "saab               489\n",
       "jaguar             478\n",
       "daewoo             465\n",
       "trabant            419\n",
       "lancia             415\n",
       "rover              374\n",
       "lada               196\n",
       "Name: Brand, dtype: int64"
      ]
     },
     "execution_count": 43,
     "metadata": {},
     "output_type": "execute_result"
    }
   ],
   "source": [
    "data['Brand'].value_counts()"
   ]
  },
  {
   "cell_type": "code",
   "execution_count": 44,
   "metadata": {},
   "outputs": [
    {
     "name": "stdout",
     "output_type": "stream",
     "text": [
      "39\n",
      "['volkswagen' 'jeep' 'skoda' 'bmw' 'peugeot' 'ford' 'mazda' 'nissan'\n",
      " 'renault' 'mercedes_benz' 'seat' 'honda' 'fiat' 'opel' 'mini' 'smart'\n",
      " 'hyundai' 'audi' 'alfa_romeo' 'subaru' 'volvo' 'mitsubishi' 'kia'\n",
      " 'suzuki' 'lancia' 'citroen' 'toyota' 'chevrolet' 'dacia' 'daihatsu'\n",
      " 'chrysler' 'jaguar' 'daewoo' 'porsche' 'rover' 'saab' 'land_rover'\n",
      " 'trabant' 'lada']\n"
     ]
    }
   ],
   "source": [
    "print(len(data['Brand'].unique()))\n",
    "print(data['Brand'].unique())"
   ]
  },
  {
   "cell_type": "markdown",
   "metadata": {},
   "source": [
    "- Признак 'Model':"
   ]
  },
  {
   "cell_type": "code",
   "execution_count": 45,
   "metadata": {},
   "outputs": [
    {
     "name": "stdout",
     "output_type": "stream",
     "text": [
      "249\n"
     ]
    }
   ],
   "source": [
    "print(len(data['Model'].unique()))"
   ]
  },
  {
   "cell_type": "code",
   "execution_count": 46,
   "metadata": {},
   "outputs": [
    {
     "data": {
      "text/plain": [
       "array(['golf', 'grand', 'fabia', '3er', '2_reihe', 'c_max', '3_reihe',\n",
       "       'passat', 'navara', 'ka', 'polo', 'twingo', 'a_klasse', 'scirocco',\n",
       "       '5er', 'arosa', 'other', 'civic', 'transporter', 'punto',\n",
       "       'e_klasse', 'clio', 'kadett', 'kangoo', 'one', 'fortwo', '1er',\n",
       "       'b_klasse', 'signum', 'astra', 'a8', 'jetta', 'fiesta', 'c_klasse',\n",
       "       'micra', 'vito', 'sprinter', '156', 'escort', 'forester',\n",
       "       'xc_reihe', 'scenic', 'a4', 'a1', 'insignia', 'combo', 'focus',\n",
       "       'tt', 'corsa', 'a6', 'jazz', 'omega', 'slk', '7er', '80', '147',\n",
       "       '100', 'z_reihe', 'sorento', 'v40', 'ibiza', 'mustang', 'eos',\n",
       "       'touran', 'getz', 'a3', 'almera', 'megane', 'lupo', 'r19', 'caddy',\n",
       "       'mondeo', 'cordoba', 'colt', 'impreza', 'vectra', 'berlingo',\n",
       "       'tiguan', 'sharan', '6_reihe', 'c4', 'panda', 'up', 'i_reihe',\n",
       "       'ceed', '5_reihe', 'yeti', 'octavia', 'zafira', 'mii', 'rx_reihe',\n",
       "       '6er', 'modus', 'fox', 'matiz', 'beetle', 'c1', 'rio', 'touareg',\n",
       "       'logan', 'spider', 'cuore', 's_max', 'a2', 'galaxy', 'c3', 'viano',\n",
       "       's_klasse', '1_reihe', 'avensis', 'roomster', 'sl', 'kaefer',\n",
       "       'santa', 'cooper', 'leon', '4_reihe', 'a5', 'sportage', 'laguna',\n",
       "       'ptcruiser', 'clk', 'primera', 'espace', 'x_reihe', 'exeo', '159',\n",
       "       'transit', 'juke', 'qashqai', 'carisma', 'accord', 'corolla',\n",
       "       'lanos', 'phaeton', 'verso', 'swift', 'rav', 'picanto', 'boxster',\n",
       "       'kalos', 'superb', 'stilo', 'alhambra', 'mx_reihe', 'roadster',\n",
       "       'ypsilon', 'cayenne', 'galant', 'justy', '90', 'sirion',\n",
       "       'crossfire', 'agila', 'duster', 'v50', '500', 'meriva', 'c_reihe',\n",
       "       'v_klasse', 'm_klasse', 'yaris', 'c5', 'aygo', 'seicento', 'cc',\n",
       "       'carnival', 'fusion', '911', 'bora', 'forfour', 'cl', 'tigra',\n",
       "       '300c', 'cr_reihe', 'spark', 'v70', 'kuga', 'x_type', 'ducato',\n",
       "       's_type', 'x_trail', 'toledo', 'altea', 'voyager', 'calibra',\n",
       "       'bravo', 'antara', 'tucson', 'citigo', 'jimny', 'wrangler',\n",
       "       'lybra', 'q7', 'lancer', 'captiva', 'discovery', 'freelander',\n",
       "       'sandero', 'note', '900', 'cherokee', 'clubman', 'samara',\n",
       "       'defender', 'cx_reihe', 'legacy', 'pajero', 'auris', 'c2', 'niva',\n",
       "       's60', 'm_reihe', 'nubira', 'vivaro', 'g_klasse', 'lodgy', '850',\n",
       "       'range_rover', '601', 'q3', 'serie_2', 'glk', 'charade', 'croma',\n",
       "       'outlander', 'doblo', 'musa', 'move', '9000', 'v60', '145', '200',\n",
       "       'b_max', 'range_rover_sport', 'aveo', 'terios', 'rangerover', 'q5',\n",
       "       'range_rover_evoque', 'materia', 'delta', 'gl', 'kalina',\n",
       "       'elefantino', 'i3', 'amarok', 'kappa', 'serie_3'], dtype=object)"
      ]
     },
     "execution_count": 46,
     "metadata": {},
     "output_type": "execute_result"
    }
   ],
   "source": [
    "data['Model'].unique()"
   ]
  },
  {
   "cell_type": "markdown",
   "metadata": {},
   "source": [
    "Промежуточное замечание: Из приведенных выше категориальных значений признаков 'Model' и 'Brand' видно, что их очень много. На следующем этапе нужно будет их закодировать"
   ]
  },
  {
   "cell_type": "markdown",
   "metadata": {},
   "source": [
    "Посмотрим на полученный результат"
   ]
  },
  {
   "cell_type": "code",
   "execution_count": 47,
   "metadata": {},
   "outputs": [
    {
     "name": "stdout",
     "output_type": "stream",
     "text": [
      "<class 'pandas.core.frame.DataFrame'>\n",
      "Int64Index: 314013 entries, 0 to 354368\n",
      "Data columns (total 12 columns):\n",
      " #   Column            Non-Null Count   Dtype \n",
      "---  ------            --------------   ----- \n",
      " 0   Price             314013 non-null  int64 \n",
      " 1   VehicleType       314013 non-null  object\n",
      " 2   RegistrationYear  314013 non-null  int64 \n",
      " 3   Gearbox           314013 non-null  object\n",
      " 4   Power             314013 non-null  int64 \n",
      " 5   Model             314013 non-null  object\n",
      " 6   Kilometer         314013 non-null  int64 \n",
      " 7   FuelType          314013 non-null  object\n",
      " 8   Brand             314013 non-null  object\n",
      " 9   Repaired          314013 non-null  object\n",
      " 10  DateCreated       314013 non-null  int64 \n",
      " 11  LastSeen          314013 non-null  int64 \n",
      "dtypes: int64(6), object(6)\n",
      "memory usage: 31.1+ MB\n"
     ]
    }
   ],
   "source": [
    "data.info()"
   ]
  },
  {
   "cell_type": "code",
   "execution_count": 48,
   "metadata": {},
   "outputs": [
    {
     "data": {
      "text/html": [
       "<div>\n",
       "<style scoped>\n",
       "    .dataframe tbody tr th:only-of-type {\n",
       "        vertical-align: middle;\n",
       "    }\n",
       "\n",
       "    .dataframe tbody tr th {\n",
       "        vertical-align: top;\n",
       "    }\n",
       "\n",
       "    .dataframe thead th {\n",
       "        text-align: right;\n",
       "    }\n",
       "</style>\n",
       "<table border=\"1\" class=\"dataframe\">\n",
       "  <thead>\n",
       "    <tr style=\"text-align: right;\">\n",
       "      <th></th>\n",
       "      <th>Price</th>\n",
       "      <th>VehicleType</th>\n",
       "      <th>RegistrationYear</th>\n",
       "      <th>Gearbox</th>\n",
       "      <th>Power</th>\n",
       "      <th>Model</th>\n",
       "      <th>Kilometer</th>\n",
       "      <th>FuelType</th>\n",
       "      <th>Brand</th>\n",
       "      <th>Repaired</th>\n",
       "      <th>DateCreated</th>\n",
       "      <th>LastSeen</th>\n",
       "    </tr>\n",
       "  </thead>\n",
       "  <tbody>\n",
       "    <tr>\n",
       "      <th>0</th>\n",
       "      <td>480</td>\n",
       "      <td>sedan</td>\n",
       "      <td>1993</td>\n",
       "      <td>manual</td>\n",
       "      <td>101</td>\n",
       "      <td>golf</td>\n",
       "      <td>150000</td>\n",
       "      <td>petrol</td>\n",
       "      <td>volkswagen</td>\n",
       "      <td>unknown</td>\n",
       "      <td>745</td>\n",
       "      <td>759</td>\n",
       "    </tr>\n",
       "    <tr>\n",
       "      <th>2</th>\n",
       "      <td>9800</td>\n",
       "      <td>suv</td>\n",
       "      <td>2004</td>\n",
       "      <td>auto</td>\n",
       "      <td>163</td>\n",
       "      <td>grand</td>\n",
       "      <td>125000</td>\n",
       "      <td>gasoline</td>\n",
       "      <td>jeep</td>\n",
       "      <td>unknown</td>\n",
       "      <td>735</td>\n",
       "      <td>757</td>\n",
       "    </tr>\n",
       "    <tr>\n",
       "      <th>3</th>\n",
       "      <td>1500</td>\n",
       "      <td>small</td>\n",
       "      <td>2001</td>\n",
       "      <td>manual</td>\n",
       "      <td>75</td>\n",
       "      <td>golf</td>\n",
       "      <td>150000</td>\n",
       "      <td>petrol</td>\n",
       "      <td>volkswagen</td>\n",
       "      <td>no</td>\n",
       "      <td>738</td>\n",
       "      <td>738</td>\n",
       "    </tr>\n",
       "    <tr>\n",
       "      <th>4</th>\n",
       "      <td>3600</td>\n",
       "      <td>small</td>\n",
       "      <td>2008</td>\n",
       "      <td>manual</td>\n",
       "      <td>69</td>\n",
       "      <td>fabia</td>\n",
       "      <td>90000</td>\n",
       "      <td>gasoline</td>\n",
       "      <td>skoda</td>\n",
       "      <td>no</td>\n",
       "      <td>752</td>\n",
       "      <td>758</td>\n",
       "    </tr>\n",
       "    <tr>\n",
       "      <th>5</th>\n",
       "      <td>650</td>\n",
       "      <td>sedan</td>\n",
       "      <td>1995</td>\n",
       "      <td>manual</td>\n",
       "      <td>102</td>\n",
       "      <td>3er</td>\n",
       "      <td>150000</td>\n",
       "      <td>petrol</td>\n",
       "      <td>bmw</td>\n",
       "      <td>yes</td>\n",
       "      <td>756</td>\n",
       "      <td>758</td>\n",
       "    </tr>\n",
       "  </tbody>\n",
       "</table>\n",
       "</div>"
      ],
      "text/plain": [
       "   Price VehicleType  RegistrationYear Gearbox  Power  Model  Kilometer  \\\n",
       "0    480       sedan              1993  manual    101   golf     150000   \n",
       "2   9800         suv              2004    auto    163  grand     125000   \n",
       "3   1500       small              2001  manual     75   golf     150000   \n",
       "4   3600       small              2008  manual     69  fabia      90000   \n",
       "5    650       sedan              1995  manual    102    3er     150000   \n",
       "\n",
       "   FuelType       Brand Repaired  DateCreated  LastSeen  \n",
       "0    petrol  volkswagen  unknown          745       759  \n",
       "2  gasoline        jeep  unknown          735       757  \n",
       "3    petrol  volkswagen       no          738       738  \n",
       "4  gasoline       skoda       no          752       758  \n",
       "5    petrol         bmw      yes          756       758  "
      ]
     },
     "execution_count": 48,
     "metadata": {},
     "output_type": "execute_result"
    }
   ],
   "source": [
    "data.head()"
   ]
  },
  {
   "cell_type": "code",
   "execution_count": 49,
   "metadata": {},
   "outputs": [
    {
     "data": {
      "text/html": [
       "<div>\n",
       "<style scoped>\n",
       "    .dataframe tbody tr th:only-of-type {\n",
       "        vertical-align: middle;\n",
       "    }\n",
       "\n",
       "    .dataframe tbody tr th {\n",
       "        vertical-align: top;\n",
       "    }\n",
       "\n",
       "    .dataframe thead th {\n",
       "        text-align: right;\n",
       "    }\n",
       "</style>\n",
       "<table border=\"1\" class=\"dataframe\">\n",
       "  <thead>\n",
       "    <tr style=\"text-align: right;\">\n",
       "      <th></th>\n",
       "      <th>Price</th>\n",
       "      <th>VehicleType</th>\n",
       "      <th>RegistrationYear</th>\n",
       "      <th>Gearbox</th>\n",
       "      <th>Power</th>\n",
       "      <th>Model</th>\n",
       "      <th>Kilometer</th>\n",
       "      <th>FuelType</th>\n",
       "      <th>Brand</th>\n",
       "      <th>Repaired</th>\n",
       "      <th>DateCreated</th>\n",
       "      <th>LastSeen</th>\n",
       "    </tr>\n",
       "  </thead>\n",
       "  <tbody>\n",
       "    <tr>\n",
       "      <th>354362</th>\n",
       "      <td>3200</td>\n",
       "      <td>sedan</td>\n",
       "      <td>2004</td>\n",
       "      <td>manual</td>\n",
       "      <td>225</td>\n",
       "      <td>leon</td>\n",
       "      <td>150000</td>\n",
       "      <td>petrol</td>\n",
       "      <td>seat</td>\n",
       "      <td>yes</td>\n",
       "      <td>740</td>\n",
       "      <td>740</td>\n",
       "    </tr>\n",
       "    <tr>\n",
       "      <th>354363</th>\n",
       "      <td>1150</td>\n",
       "      <td>bus</td>\n",
       "      <td>2000</td>\n",
       "      <td>manual</td>\n",
       "      <td>125</td>\n",
       "      <td>zafira</td>\n",
       "      <td>150000</td>\n",
       "      <td>petrol</td>\n",
       "      <td>opel</td>\n",
       "      <td>no</td>\n",
       "      <td>748</td>\n",
       "      <td>750</td>\n",
       "    </tr>\n",
       "    <tr>\n",
       "      <th>354366</th>\n",
       "      <td>1199</td>\n",
       "      <td>convertible</td>\n",
       "      <td>2000</td>\n",
       "      <td>auto</td>\n",
       "      <td>101</td>\n",
       "      <td>fortwo</td>\n",
       "      <td>125000</td>\n",
       "      <td>petrol</td>\n",
       "      <td>smart</td>\n",
       "      <td>no</td>\n",
       "      <td>726</td>\n",
       "      <td>732</td>\n",
       "    </tr>\n",
       "    <tr>\n",
       "      <th>354367</th>\n",
       "      <td>9200</td>\n",
       "      <td>bus</td>\n",
       "      <td>1996</td>\n",
       "      <td>manual</td>\n",
       "      <td>102</td>\n",
       "      <td>transporter</td>\n",
       "      <td>150000</td>\n",
       "      <td>gasoline</td>\n",
       "      <td>volkswagen</td>\n",
       "      <td>no</td>\n",
       "      <td>740</td>\n",
       "      <td>759</td>\n",
       "    </tr>\n",
       "    <tr>\n",
       "      <th>354368</th>\n",
       "      <td>3400</td>\n",
       "      <td>wagon</td>\n",
       "      <td>2002</td>\n",
       "      <td>manual</td>\n",
       "      <td>100</td>\n",
       "      <td>golf</td>\n",
       "      <td>150000</td>\n",
       "      <td>gasoline</td>\n",
       "      <td>volkswagen</td>\n",
       "      <td>unknown</td>\n",
       "      <td>741</td>\n",
       "      <td>745</td>\n",
       "    </tr>\n",
       "  </tbody>\n",
       "</table>\n",
       "</div>"
      ],
      "text/plain": [
       "        Price  VehicleType  RegistrationYear Gearbox  Power        Model  \\\n",
       "354362   3200        sedan              2004  manual    225         leon   \n",
       "354363   1150          bus              2000  manual    125       zafira   \n",
       "354366   1199  convertible              2000    auto    101       fortwo   \n",
       "354367   9200          bus              1996  manual    102  transporter   \n",
       "354368   3400        wagon              2002  manual    100         golf   \n",
       "\n",
       "        Kilometer  FuelType       Brand Repaired  DateCreated  LastSeen  \n",
       "354362     150000    petrol        seat      yes          740       740  \n",
       "354363     150000    petrol        opel       no          748       750  \n",
       "354366     125000    petrol       smart       no          726       732  \n",
       "354367     150000  gasoline  volkswagen       no          740       759  \n",
       "354368     150000  gasoline  volkswagen  unknown          741       745  "
      ]
     },
     "execution_count": 49,
     "metadata": {},
     "output_type": "execute_result"
    }
   ],
   "source": [
    "data.tail()"
   ]
  },
  {
   "cell_type": "markdown",
   "metadata": {},
   "source": [
    "Проверим дата сет на наличие кореляции"
   ]
  },
  {
   "cell_type": "code",
   "execution_count": 50,
   "metadata": {},
   "outputs": [
    {
     "data": {
      "text/html": [
       "<div>\n",
       "<style scoped>\n",
       "    .dataframe tbody tr th:only-of-type {\n",
       "        vertical-align: middle;\n",
       "    }\n",
       "\n",
       "    .dataframe tbody tr th {\n",
       "        vertical-align: top;\n",
       "    }\n",
       "\n",
       "    .dataframe thead th {\n",
       "        text-align: right;\n",
       "    }\n",
       "</style>\n",
       "<table border=\"1\" class=\"dataframe\">\n",
       "  <thead>\n",
       "    <tr style=\"text-align: right;\">\n",
       "      <th></th>\n",
       "      <th>Price</th>\n",
       "      <th>RegistrationYear</th>\n",
       "      <th>Power</th>\n",
       "      <th>Kilometer</th>\n",
       "      <th>DateCreated</th>\n",
       "      <th>LastSeen</th>\n",
       "    </tr>\n",
       "  </thead>\n",
       "  <tbody>\n",
       "    <tr>\n",
       "      <th>Price</th>\n",
       "      <td>1.000000</td>\n",
       "      <td>0.470781</td>\n",
       "      <td>0.500758</td>\n",
       "      <td>-0.367640</td>\n",
       "      <td>0.011577</td>\n",
       "      <td>0.150173</td>\n",
       "    </tr>\n",
       "    <tr>\n",
       "      <th>RegistrationYear</th>\n",
       "      <td>0.470781</td>\n",
       "      <td>1.000000</td>\n",
       "      <td>0.131531</td>\n",
       "      <td>-0.259255</td>\n",
       "      <td>-0.002825</td>\n",
       "      <td>0.023695</td>\n",
       "    </tr>\n",
       "    <tr>\n",
       "      <th>Power</th>\n",
       "      <td>0.500758</td>\n",
       "      <td>0.131531</td>\n",
       "      <td>1.000000</td>\n",
       "      <td>0.101279</td>\n",
       "      <td>-0.000121</td>\n",
       "      <td>0.051172</td>\n",
       "    </tr>\n",
       "    <tr>\n",
       "      <th>Kilometer</th>\n",
       "      <td>-0.367640</td>\n",
       "      <td>-0.259255</td>\n",
       "      <td>0.101279</td>\n",
       "      <td>1.000000</td>\n",
       "      <td>0.000457</td>\n",
       "      <td>-0.067936</td>\n",
       "    </tr>\n",
       "    <tr>\n",
       "      <th>DateCreated</th>\n",
       "      <td>0.011577</td>\n",
       "      <td>-0.002825</td>\n",
       "      <td>-0.000121</td>\n",
       "      <td>0.000457</td>\n",
       "      <td>1.000000</td>\n",
       "      <td>0.562364</td>\n",
       "    </tr>\n",
       "    <tr>\n",
       "      <th>LastSeen</th>\n",
       "      <td>0.150173</td>\n",
       "      <td>0.023695</td>\n",
       "      <td>0.051172</td>\n",
       "      <td>-0.067936</td>\n",
       "      <td>0.562364</td>\n",
       "      <td>1.000000</td>\n",
       "    </tr>\n",
       "  </tbody>\n",
       "</table>\n",
       "</div>"
      ],
      "text/plain": [
       "                     Price  RegistrationYear     Power  Kilometer  \\\n",
       "Price             1.000000          0.470781  0.500758  -0.367640   \n",
       "RegistrationYear  0.470781          1.000000  0.131531  -0.259255   \n",
       "Power             0.500758          0.131531  1.000000   0.101279   \n",
       "Kilometer        -0.367640         -0.259255  0.101279   1.000000   \n",
       "DateCreated       0.011577         -0.002825 -0.000121   0.000457   \n",
       "LastSeen          0.150173          0.023695  0.051172  -0.067936   \n",
       "\n",
       "                  DateCreated  LastSeen  \n",
       "Price                0.011577  0.150173  \n",
       "RegistrationYear    -0.002825  0.023695  \n",
       "Power               -0.000121  0.051172  \n",
       "Kilometer            0.000457 -0.067936  \n",
       "DateCreated          1.000000  0.562364  \n",
       "LastSeen             0.562364  1.000000  "
      ]
     },
     "execution_count": 50,
     "metadata": {},
     "output_type": "execute_result"
    }
   ],
   "source": [
    "data.corr()"
   ]
  },
  {
   "cell_type": "code",
   "execution_count": 51,
   "metadata": {},
   "outputs": [
    {
     "data": {
      "image/png": "[encoded data removed]",
      "text/plain": [
       "<Figure size 1152x288 with 2 Axes>"
      ]
     },
     "metadata": {
      "needs_background": "light"
     },
     "output_type": "display_data"
    }
   ],
   "source": [
    "# построим \n",
    "plt.figure(figsize = (16,4))\n",
    "plt.title('Корреляция между признаками', size=14)\n",
    "sns.heatmap(data.corr(), annot = True);"
   ]
  },
  {
   "cell_type": "markdown",
   "metadata": {},
   "source": [
    "Есть незначительная отрицательная корреляция между пробегом и ценой, а так же ценой и годом егистрации, что в полне объяснимо."
   ]
  },
  {
   "cell_type": "markdown",
   "metadata": {},
   "source": [
    "#### Промежуточный вывод"
   ]
  },
  {
   "cell_type": "markdown",
   "metadata": {},
   "source": [
    "- Удалены признаки которые не оказывают влияние на целевой признак: 'DateCrawled','RegistrationMonth','NumberOfPictures','PostalCode';\n",
    "- Удаленый дубликаты;\n",
    "- Обработаны и заполнены пропуски, там где не удалось заполнить данные были удалены;\n",
    "- Обработаны и удалены аномалии\n",
    "- Столбцы с данными передены в тип int64 и выражены в дате.\n",
    "- Общее удаление данных составило 10% от общего объема данных."
   ]
  },
  {
   "cell_type": "markdown",
   "metadata": {},
   "source": [
    "### Подготовка выборок для обучения"
   ]
  },
  {
   "cell_type": "markdown",
   "metadata": {},
   "source": [
    "Предворительно приведем кодировку столбцов 'Model' и 'Brand' объеденив их значениев одном столбце и приведем их к численному значению. КОМЕНТАРИЙ СТЕДЕНТА: пробовал их оставить как есть и использовать как категориальные признаки. Линейная регрессия обучается очень долго 4-5 мин., остальные модели не смог дождаться результата. Думаю, все очень счильно заисит от скорости работы Юпитера, рано утром все работает нормально,к обеду время выполнения у величивается в десятки раз."
   ]
  },
  {
   "cell_type": "code",
   "execution_count": 52,
   "metadata": {},
   "outputs": [],
   "source": [
    "data_coded = data"
   ]
  },
  {
   "cell_type": "code",
   "execution_count": 53,
   "metadata": {},
   "outputs": [],
   "source": [
    "data_coded['BrandModel'] = data_coded['Brand'].astype(str) + ' ' + data_coded['Model'].astype(str)\n",
    "data_coded['ModelNew']   = data_coded['BrandModel'].map(data_coded.groupby('BrandModel').size()) / \\\n",
    "                           data_coded['Brand'].map(data_coded.groupby('Brand').size())\n",
    "data_coded = data_coded.drop(['BrandModel', 'Brand', 'Model'], axis=1)\n",
    "data = data.drop(['BrandModel', 'ModelNew'], axis=1)"
   ]
  },
  {
   "cell_type": "code",
   "execution_count": 54,
   "metadata": {},
   "outputs": [
    {
     "data": {
      "text/html": [
       "<div>\n",
       "<style scoped>\n",
       "    .dataframe tbody tr th:only-of-type {\n",
       "        vertical-align: middle;\n",
       "    }\n",
       "\n",
       "    .dataframe tbody tr th {\n",
       "        vertical-align: top;\n",
       "    }\n",
       "\n",
       "    .dataframe thead th {\n",
       "        text-align: right;\n",
       "    }\n",
       "</style>\n",
       "<table border=\"1\" class=\"dataframe\">\n",
       "  <thead>\n",
       "    <tr style=\"text-align: right;\">\n",
       "      <th></th>\n",
       "      <th>Price</th>\n",
       "      <th>VehicleType</th>\n",
       "      <th>RegistrationYear</th>\n",
       "      <th>Gearbox</th>\n",
       "      <th>Power</th>\n",
       "      <th>Model</th>\n",
       "      <th>Kilometer</th>\n",
       "      <th>FuelType</th>\n",
       "      <th>Brand</th>\n",
       "      <th>Repaired</th>\n",
       "      <th>DateCreated</th>\n",
       "      <th>LastSeen</th>\n",
       "    </tr>\n",
       "  </thead>\n",
       "  <tbody>\n",
       "    <tr>\n",
       "      <th>0</th>\n",
       "      <td>480</td>\n",
       "      <td>sedan</td>\n",
       "      <td>1993</td>\n",
       "      <td>manual</td>\n",
       "      <td>101</td>\n",
       "      <td>golf</td>\n",
       "      <td>150000</td>\n",
       "      <td>petrol</td>\n",
       "      <td>volkswagen</td>\n",
       "      <td>unknown</td>\n",
       "      <td>745</td>\n",
       "      <td>759</td>\n",
       "    </tr>\n",
       "    <tr>\n",
       "      <th>2</th>\n",
       "      <td>9800</td>\n",
       "      <td>suv</td>\n",
       "      <td>2004</td>\n",
       "      <td>auto</td>\n",
       "      <td>163</td>\n",
       "      <td>grand</td>\n",
       "      <td>125000</td>\n",
       "      <td>gasoline</td>\n",
       "      <td>jeep</td>\n",
       "      <td>unknown</td>\n",
       "      <td>735</td>\n",
       "      <td>757</td>\n",
       "    </tr>\n",
       "    <tr>\n",
       "      <th>3</th>\n",
       "      <td>1500</td>\n",
       "      <td>small</td>\n",
       "      <td>2001</td>\n",
       "      <td>manual</td>\n",
       "      <td>75</td>\n",
       "      <td>golf</td>\n",
       "      <td>150000</td>\n",
       "      <td>petrol</td>\n",
       "      <td>volkswagen</td>\n",
       "      <td>no</td>\n",
       "      <td>738</td>\n",
       "      <td>738</td>\n",
       "    </tr>\n",
       "    <tr>\n",
       "      <th>4</th>\n",
       "      <td>3600</td>\n",
       "      <td>small</td>\n",
       "      <td>2008</td>\n",
       "      <td>manual</td>\n",
       "      <td>69</td>\n",
       "      <td>fabia</td>\n",
       "      <td>90000</td>\n",
       "      <td>gasoline</td>\n",
       "      <td>skoda</td>\n",
       "      <td>no</td>\n",
       "      <td>752</td>\n",
       "      <td>758</td>\n",
       "    </tr>\n",
       "    <tr>\n",
       "      <th>5</th>\n",
       "      <td>650</td>\n",
       "      <td>sedan</td>\n",
       "      <td>1995</td>\n",
       "      <td>manual</td>\n",
       "      <td>102</td>\n",
       "      <td>3er</td>\n",
       "      <td>150000</td>\n",
       "      <td>petrol</td>\n",
       "      <td>bmw</td>\n",
       "      <td>yes</td>\n",
       "      <td>756</td>\n",
       "      <td>758</td>\n",
       "    </tr>\n",
       "  </tbody>\n",
       "</table>\n",
       "</div>"
      ],
      "text/plain": [
       "   Price VehicleType  RegistrationYear Gearbox  Power  Model  Kilometer  \\\n",
       "0    480       sedan              1993  manual    101   golf     150000   \n",
       "2   9800         suv              2004    auto    163  grand     125000   \n",
       "3   1500       small              2001  manual     75   golf     150000   \n",
       "4   3600       small              2008  manual     69  fabia      90000   \n",
       "5    650       sedan              1995  manual    102    3er     150000   \n",
       "\n",
       "   FuelType       Brand Repaired  DateCreated  LastSeen  \n",
       "0    petrol  volkswagen  unknown          745       759  \n",
       "2  gasoline        jeep  unknown          735       757  \n",
       "3    petrol  volkswagen       no          738       738  \n",
       "4  gasoline       skoda       no          752       758  \n",
       "5    petrol         bmw      yes          756       758  "
      ]
     },
     "metadata": {},
     "output_type": "display_data"
    },
    {
     "data": {
      "text/html": [
       "<div>\n",
       "<style scoped>\n",
       "    .dataframe tbody tr th:only-of-type {\n",
       "        vertical-align: middle;\n",
       "    }\n",
       "\n",
       "    .dataframe tbody tr th {\n",
       "        vertical-align: top;\n",
       "    }\n",
       "\n",
       "    .dataframe thead th {\n",
       "        text-align: right;\n",
       "    }\n",
       "</style>\n",
       "<table border=\"1\" class=\"dataframe\">\n",
       "  <thead>\n",
       "    <tr style=\"text-align: right;\">\n",
       "      <th></th>\n",
       "      <th>Price</th>\n",
       "      <th>VehicleType</th>\n",
       "      <th>RegistrationYear</th>\n",
       "      <th>Gearbox</th>\n",
       "      <th>Power</th>\n",
       "      <th>Kilometer</th>\n",
       "      <th>FuelType</th>\n",
       "      <th>Repaired</th>\n",
       "      <th>DateCreated</th>\n",
       "      <th>LastSeen</th>\n",
       "      <th>ModelNew</th>\n",
       "    </tr>\n",
       "  </thead>\n",
       "  <tbody>\n",
       "    <tr>\n",
       "      <th>0</th>\n",
       "      <td>480</td>\n",
       "      <td>sedan</td>\n",
       "      <td>1993</td>\n",
       "      <td>manual</td>\n",
       "      <td>101</td>\n",
       "      <td>150000</td>\n",
       "      <td>petrol</td>\n",
       "      <td>unknown</td>\n",
       "      <td>745</td>\n",
       "      <td>759</td>\n",
       "      <td>0.392629</td>\n",
       "    </tr>\n",
       "    <tr>\n",
       "      <th>2</th>\n",
       "      <td>9800</td>\n",
       "      <td>suv</td>\n",
       "      <td>2004</td>\n",
       "      <td>auto</td>\n",
       "      <td>163</td>\n",
       "      <td>125000</td>\n",
       "      <td>gasoline</td>\n",
       "      <td>unknown</td>\n",
       "      <td>735</td>\n",
       "      <td>757</td>\n",
       "      <td>0.372964</td>\n",
       "    </tr>\n",
       "    <tr>\n",
       "      <th>3</th>\n",
       "      <td>1500</td>\n",
       "      <td>small</td>\n",
       "      <td>2001</td>\n",
       "      <td>manual</td>\n",
       "      <td>75</td>\n",
       "      <td>150000</td>\n",
       "      <td>petrol</td>\n",
       "      <td>no</td>\n",
       "      <td>738</td>\n",
       "      <td>738</td>\n",
       "      <td>0.392629</td>\n",
       "    </tr>\n",
       "    <tr>\n",
       "      <th>4</th>\n",
       "      <td>3600</td>\n",
       "      <td>small</td>\n",
       "      <td>2008</td>\n",
       "      <td>manual</td>\n",
       "      <td>69</td>\n",
       "      <td>90000</td>\n",
       "      <td>gasoline</td>\n",
       "      <td>no</td>\n",
       "      <td>752</td>\n",
       "      <td>758</td>\n",
       "      <td>0.387818</td>\n",
       "    </tr>\n",
       "    <tr>\n",
       "      <th>5</th>\n",
       "      <td>650</td>\n",
       "      <td>sedan</td>\n",
       "      <td>1995</td>\n",
       "      <td>manual</td>\n",
       "      <td>102</td>\n",
       "      <td>150000</td>\n",
       "      <td>petrol</td>\n",
       "      <td>yes</td>\n",
       "      <td>756</td>\n",
       "      <td>758</td>\n",
       "      <td>0.561361</td>\n",
       "    </tr>\n",
       "  </tbody>\n",
       "</table>\n",
       "</div>"
      ],
      "text/plain": [
       "   Price VehicleType  RegistrationYear Gearbox  Power  Kilometer  FuelType  \\\n",
       "0    480       sedan              1993  manual    101     150000    petrol   \n",
       "2   9800         suv              2004    auto    163     125000  gasoline   \n",
       "3   1500       small              2001  manual     75     150000    petrol   \n",
       "4   3600       small              2008  manual     69      90000  gasoline   \n",
       "5    650       sedan              1995  manual    102     150000    petrol   \n",
       "\n",
       "  Repaired  DateCreated  LastSeen  ModelNew  \n",
       "0  unknown          745       759  0.392629  \n",
       "2  unknown          735       757  0.372964  \n",
       "3       no          738       738  0.392629  \n",
       "4       no          752       758  0.387818  \n",
       "5      yes          756       758  0.561361  "
      ]
     },
     "metadata": {},
     "output_type": "display_data"
    }
   ],
   "source": [
    "#check\n",
    "display(data.head())\n",
    "display(data_coded.head())"
   ]
  },
  {
   "cell_type": "markdown",
   "metadata": {},
   "source": [
    "Выделим целвой признак и разделим данные на выборки"
   ]
  },
  {
   "cell_type": "code",
   "execution_count": 55,
   "metadata": {},
   "outputs": [
    {
     "name": "stdout",
     "output_type": "stream",
     "text": [
      "(314013, 22)\n"
     ]
    }
   ],
   "source": [
    "# Преобразовуем категориальные признаки техникой OHE\n",
    "data_ohe = pd.get_dummies(data_coded, drop_first=True)\n",
    "# целевой признак 'Price'\n",
    "target_coded = data_ohe['Price']\n",
    "features_coded = data_ohe.drop('Price', axis=1)\n",
    "# делим выборку на обучающую, валидайионную и тестовую\n",
    "features_train, features_test, target_train, target_test = train_test_split(\n",
    "    features_coded, target_coded, test_size=0.25, random_state=12345)\n",
    "\n",
    "#стандартизируем численные признаки\n",
    "numeric = ['RegistrationYear',  'Power', 'Kilometer', 'DateCreated', 'LastSeen', 'ModelNew']\n",
    "\n",
    "scaler = StandardScaler()\n",
    "scaler.fit(features_train[numeric])\n",
    "# сохраним преобразованные обучающую и валидационную выборки в переменных\n",
    "features_train[numeric] = scaler.transform(features_train[numeric])\n",
    "features_test[numeric] = scaler.transform(features_test[numeric])\n",
    "\n",
    "pd.options.mode.chained_assignment = None\n",
    "\n",
    "#check\n",
    "print(features_coded.shape)"
   ]
  },
  {
   "cell_type": "code",
   "execution_count": 56,
   "metadata": {},
   "outputs": [
    {
     "name": "stdout",
     "output_type": "stream",
     "text": [
      "Обучающая выборка\n"
     ]
    },
    {
     "data": {
      "text/html": [
       "<div>\n",
       "<style scoped>\n",
       "    .dataframe tbody tr th:only-of-type {\n",
       "        vertical-align: middle;\n",
       "    }\n",
       "\n",
       "    .dataframe tbody tr th {\n",
       "        vertical-align: top;\n",
       "    }\n",
       "\n",
       "    .dataframe thead th {\n",
       "        text-align: right;\n",
       "    }\n",
       "</style>\n",
       "<table border=\"1\" class=\"dataframe\">\n",
       "  <thead>\n",
       "    <tr style=\"text-align: right;\">\n",
       "      <th></th>\n",
       "      <th>RegistrationYear</th>\n",
       "      <th>Power</th>\n",
       "      <th>Kilometer</th>\n",
       "      <th>DateCreated</th>\n",
       "      <th>LastSeen</th>\n",
       "      <th>ModelNew</th>\n",
       "      <th>VehicleType_convertible</th>\n",
       "      <th>VehicleType_coupe</th>\n",
       "      <th>VehicleType_other</th>\n",
       "      <th>VehicleType_sedan</th>\n",
       "      <th>...</th>\n",
       "      <th>VehicleType_wagon</th>\n",
       "      <th>Gearbox_manual</th>\n",
       "      <th>FuelType_electric</th>\n",
       "      <th>FuelType_gasoline</th>\n",
       "      <th>FuelType_hybrid</th>\n",
       "      <th>FuelType_lpg</th>\n",
       "      <th>FuelType_other</th>\n",
       "      <th>FuelType_petrol</th>\n",
       "      <th>Repaired_unknown</th>\n",
       "      <th>Repaired_yes</th>\n",
       "    </tr>\n",
       "  </thead>\n",
       "  <tbody>\n",
       "    <tr>\n",
       "      <th>94226</th>\n",
       "      <td>0.040334</td>\n",
       "      <td>0.521440</td>\n",
       "      <td>0.582645</td>\n",
       "      <td>0.989634</td>\n",
       "      <td>0.700381</td>\n",
       "      <td>-0.737604</td>\n",
       "      <td>0</td>\n",
       "      <td>0</td>\n",
       "      <td>0</td>\n",
       "      <td>1</td>\n",
       "      <td>...</td>\n",
       "      <td>0</td>\n",
       "      <td>1</td>\n",
       "      <td>0</td>\n",
       "      <td>0</td>\n",
       "      <td>0</td>\n",
       "      <td>0</td>\n",
       "      <td>0</td>\n",
       "      <td>1</td>\n",
       "      <td>1</td>\n",
       "      <td>0</td>\n",
       "    </tr>\n",
       "    <tr>\n",
       "      <th>179931</th>\n",
       "      <td>0.040334</td>\n",
       "      <td>2.051713</td>\n",
       "      <td>-1.574112</td>\n",
       "      <td>-1.478750</td>\n",
       "      <td>0.700381</td>\n",
       "      <td>0.435620</td>\n",
       "      <td>1</td>\n",
       "      <td>0</td>\n",
       "      <td>0</td>\n",
       "      <td>0</td>\n",
       "      <td>...</td>\n",
       "      <td>0</td>\n",
       "      <td>1</td>\n",
       "      <td>0</td>\n",
       "      <td>0</td>\n",
       "      <td>0</td>\n",
       "      <td>0</td>\n",
       "      <td>0</td>\n",
       "      <td>1</td>\n",
       "      <td>0</td>\n",
       "      <td>0</td>\n",
       "    </tr>\n",
       "    <tr>\n",
       "      <th>132217</th>\n",
       "      <td>0.794130</td>\n",
       "      <td>-0.971049</td>\n",
       "      <td>-0.091342</td>\n",
       "      <td>-0.083576</td>\n",
       "      <td>0.918197</td>\n",
       "      <td>-0.708334</td>\n",
       "      <td>0</td>\n",
       "      <td>0</td>\n",
       "      <td>0</td>\n",
       "      <td>0</td>\n",
       "      <td>...</td>\n",
       "      <td>0</td>\n",
       "      <td>1</td>\n",
       "      <td>0</td>\n",
       "      <td>0</td>\n",
       "      <td>0</td>\n",
       "      <td>0</td>\n",
       "      <td>0</td>\n",
       "      <td>1</td>\n",
       "      <td>1</td>\n",
       "      <td>0</td>\n",
       "    </tr>\n",
       "    <tr>\n",
       "      <th>151551</th>\n",
       "      <td>0.643370</td>\n",
       "      <td>-0.460958</td>\n",
       "      <td>-0.765328</td>\n",
       "      <td>1.311597</td>\n",
       "      <td>0.918197</td>\n",
       "      <td>0.341298</td>\n",
       "      <td>0</td>\n",
       "      <td>0</td>\n",
       "      <td>0</td>\n",
       "      <td>1</td>\n",
       "      <td>...</td>\n",
       "      <td>0</td>\n",
       "      <td>1</td>\n",
       "      <td>0</td>\n",
       "      <td>0</td>\n",
       "      <td>0</td>\n",
       "      <td>0</td>\n",
       "      <td>0</td>\n",
       "      <td>1</td>\n",
       "      <td>1</td>\n",
       "      <td>0</td>\n",
       "    </tr>\n",
       "    <tr>\n",
       "      <th>242322</th>\n",
       "      <td>-0.261184</td>\n",
       "      <td>-0.838803</td>\n",
       "      <td>0.582645</td>\n",
       "      <td>1.418918</td>\n",
       "      <td>0.700381</td>\n",
       "      <td>0.247375</td>\n",
       "      <td>0</td>\n",
       "      <td>0</td>\n",
       "      <td>0</td>\n",
       "      <td>1</td>\n",
       "      <td>...</td>\n",
       "      <td>0</td>\n",
       "      <td>1</td>\n",
       "      <td>0</td>\n",
       "      <td>1</td>\n",
       "      <td>0</td>\n",
       "      <td>0</td>\n",
       "      <td>0</td>\n",
       "      <td>0</td>\n",
       "      <td>0</td>\n",
       "      <td>0</td>\n",
       "    </tr>\n",
       "    <tr>\n",
       "      <th>188424</th>\n",
       "      <td>-1.165739</td>\n",
       "      <td>1.031531</td>\n",
       "      <td>0.582645</td>\n",
       "      <td>1.096955</td>\n",
       "      <td>0.809289</td>\n",
       "      <td>0.641692</td>\n",
       "      <td>0</td>\n",
       "      <td>0</td>\n",
       "      <td>0</td>\n",
       "      <td>1</td>\n",
       "      <td>...</td>\n",
       "      <td>0</td>\n",
       "      <td>1</td>\n",
       "      <td>0</td>\n",
       "      <td>0</td>\n",
       "      <td>0</td>\n",
       "      <td>0</td>\n",
       "      <td>0</td>\n",
       "      <td>1</td>\n",
       "      <td>1</td>\n",
       "      <td>0</td>\n",
       "    </tr>\n",
       "    <tr>\n",
       "      <th>133718</th>\n",
       "      <td>-0.261184</td>\n",
       "      <td>0.823716</td>\n",
       "      <td>0.582645</td>\n",
       "      <td>0.774992</td>\n",
       "      <td>0.700381</td>\n",
       "      <td>-1.334154</td>\n",
       "      <td>0</td>\n",
       "      <td>1</td>\n",
       "      <td>0</td>\n",
       "      <td>0</td>\n",
       "      <td>...</td>\n",
       "      <td>0</td>\n",
       "      <td>1</td>\n",
       "      <td>0</td>\n",
       "      <td>0</td>\n",
       "      <td>0</td>\n",
       "      <td>0</td>\n",
       "      <td>0</td>\n",
       "      <td>1</td>\n",
       "      <td>0</td>\n",
       "      <td>0</td>\n",
       "    </tr>\n",
       "    <tr>\n",
       "      <th>106382</th>\n",
       "      <td>-0.713461</td>\n",
       "      <td>-0.838803</td>\n",
       "      <td>0.582645</td>\n",
       "      <td>-1.586071</td>\n",
       "      <td>-1.368875</td>\n",
       "      <td>0.861830</td>\n",
       "      <td>0</td>\n",
       "      <td>0</td>\n",
       "      <td>0</td>\n",
       "      <td>1</td>\n",
       "      <td>...</td>\n",
       "      <td>0</td>\n",
       "      <td>1</td>\n",
       "      <td>0</td>\n",
       "      <td>0</td>\n",
       "      <td>0</td>\n",
       "      <td>0</td>\n",
       "      <td>0</td>\n",
       "      <td>1</td>\n",
       "      <td>0</td>\n",
       "      <td>0</td>\n",
       "    </tr>\n",
       "    <tr>\n",
       "      <th>214682</th>\n",
       "      <td>0.643370</td>\n",
       "      <td>3.544202</td>\n",
       "      <td>0.582645</td>\n",
       "      <td>-1.693392</td>\n",
       "      <td>-2.566866</td>\n",
       "      <td>-1.373730</td>\n",
       "      <td>0</td>\n",
       "      <td>0</td>\n",
       "      <td>0</td>\n",
       "      <td>0</td>\n",
       "      <td>...</td>\n",
       "      <td>0</td>\n",
       "      <td>0</td>\n",
       "      <td>0</td>\n",
       "      <td>1</td>\n",
       "      <td>0</td>\n",
       "      <td>0</td>\n",
       "      <td>0</td>\n",
       "      <td>0</td>\n",
       "      <td>1</td>\n",
       "      <td>0</td>\n",
       "    </tr>\n",
       "    <tr>\n",
       "      <th>308683</th>\n",
       "      <td>-0.864221</td>\n",
       "      <td>-0.366497</td>\n",
       "      <td>0.582645</td>\n",
       "      <td>0.989634</td>\n",
       "      <td>0.264748</td>\n",
       "      <td>-0.737604</td>\n",
       "      <td>0</td>\n",
       "      <td>0</td>\n",
       "      <td>0</td>\n",
       "      <td>0</td>\n",
       "      <td>...</td>\n",
       "      <td>1</td>\n",
       "      <td>1</td>\n",
       "      <td>0</td>\n",
       "      <td>0</td>\n",
       "      <td>0</td>\n",
       "      <td>0</td>\n",
       "      <td>0</td>\n",
       "      <td>1</td>\n",
       "      <td>0</td>\n",
       "      <td>0</td>\n",
       "    </tr>\n",
       "  </tbody>\n",
       "</table>\n",
       "<p>10 rows × 22 columns</p>\n",
       "</div>"
      ],
      "text/plain": [
       "        RegistrationYear     Power  Kilometer  DateCreated  LastSeen  \\\n",
       "94226           0.040334  0.521440   0.582645     0.989634  0.700381   \n",
       "179931          0.040334  2.051713  -1.574112    -1.478750  0.700381   \n",
       "132217          0.794130 -0.971049  -0.091342    -0.083576  0.918197   \n",
       "151551          0.643370 -0.460958  -0.765328     1.311597  0.918197   \n",
       "242322         -0.261184 -0.838803   0.582645     1.418918  0.700381   \n",
       "188424         -1.165739  1.031531   0.582645     1.096955  0.809289   \n",
       "133718         -0.261184  0.823716   0.582645     0.774992  0.700381   \n",
       "106382         -0.713461 -0.838803   0.582645    -1.586071 -1.368875   \n",
       "214682          0.643370  3.544202   0.582645    -1.693392 -2.566866   \n",
       "308683         -0.864221 -0.366497   0.582645     0.989634  0.264748   \n",
       "\n",
       "        ModelNew  VehicleType_convertible  VehicleType_coupe  \\\n",
       "94226  -0.737604                        0                  0   \n",
       "179931  0.435620                        1                  0   \n",
       "132217 -0.708334                        0                  0   \n",
       "151551  0.341298                        0                  0   \n",
       "242322  0.247375                        0                  0   \n",
       "188424  0.641692                        0                  0   \n",
       "133718 -1.334154                        0                  1   \n",
       "106382  0.861830                        0                  0   \n",
       "214682 -1.373730                        0                  0   \n",
       "308683 -0.737604                        0                  0   \n",
       "\n",
       "        VehicleType_other  VehicleType_sedan  ...  VehicleType_wagon  \\\n",
       "94226                   0                  1  ...                  0   \n",
       "179931                  0                  0  ...                  0   \n",
       "132217                  0                  0  ...                  0   \n",
       "151551                  0                  1  ...                  0   \n",
       "242322                  0                  1  ...                  0   \n",
       "188424                  0                  1  ...                  0   \n",
       "133718                  0                  0  ...                  0   \n",
       "106382                  0                  1  ...                  0   \n",
       "214682                  0                  0  ...                  0   \n",
       "308683                  0                  0  ...                  1   \n",
       "\n",
       "        Gearbox_manual  FuelType_electric  FuelType_gasoline  FuelType_hybrid  \\\n",
       "94226                1                  0                  0                0   \n",
       "179931               1                  0                  0                0   \n",
       "132217               1                  0                  0                0   \n",
       "151551               1                  0                  0                0   \n",
       "242322               1                  0                  1                0   \n",
       "188424               1                  0                  0                0   \n",
       "133718               1                  0                  0                0   \n",
       "106382               1                  0                  0                0   \n",
       "214682               0                  0                  1                0   \n",
       "308683               1                  0                  0                0   \n",
       "\n",
       "        FuelType_lpg  FuelType_other  FuelType_petrol  Repaired_unknown  \\\n",
       "94226              0               0                1                 1   \n",
       "179931             0               0                1                 0   \n",
       "132217             0               0                1                 1   \n",
       "151551             0               0                1                 1   \n",
       "242322             0               0                0                 0   \n",
       "188424             0               0                1                 1   \n",
       "133718             0               0                1                 0   \n",
       "106382             0               0                1                 0   \n",
       "214682             0               0                0                 1   \n",
       "308683             0               0                1                 0   \n",
       "\n",
       "        Repaired_yes  \n",
       "94226              0  \n",
       "179931             0  \n",
       "132217             0  \n",
       "151551             0  \n",
       "242322             0  \n",
       "188424             0  \n",
       "133718             0  \n",
       "106382             0  \n",
       "214682             0  \n",
       "308683             0  \n",
       "\n",
       "[10 rows x 22 columns]"
      ]
     },
     "metadata": {},
     "output_type": "display_data"
    },
    {
     "name": "stdout",
     "output_type": "stream",
     "text": [
      "\n",
      "Тестовая выборка\n"
     ]
    },
    {
     "data": {
      "text/html": [
       "<div>\n",
       "<style scoped>\n",
       "    .dataframe tbody tr th:only-of-type {\n",
       "        vertical-align: middle;\n",
       "    }\n",
       "\n",
       "    .dataframe tbody tr th {\n",
       "        vertical-align: top;\n",
       "    }\n",
       "\n",
       "    .dataframe thead th {\n",
       "        text-align: right;\n",
       "    }\n",
       "</style>\n",
       "<table border=\"1\" class=\"dataframe\">\n",
       "  <thead>\n",
       "    <tr style=\"text-align: right;\">\n",
       "      <th></th>\n",
       "      <th>RegistrationYear</th>\n",
       "      <th>Power</th>\n",
       "      <th>Kilometer</th>\n",
       "      <th>DateCreated</th>\n",
       "      <th>LastSeen</th>\n",
       "      <th>ModelNew</th>\n",
       "      <th>VehicleType_convertible</th>\n",
       "      <th>VehicleType_coupe</th>\n",
       "      <th>VehicleType_other</th>\n",
       "      <th>VehicleType_sedan</th>\n",
       "      <th>...</th>\n",
       "      <th>VehicleType_wagon</th>\n",
       "      <th>Gearbox_manual</th>\n",
       "      <th>FuelType_electric</th>\n",
       "      <th>FuelType_gasoline</th>\n",
       "      <th>FuelType_hybrid</th>\n",
       "      <th>FuelType_lpg</th>\n",
       "      <th>FuelType_other</th>\n",
       "      <th>FuelType_petrol</th>\n",
       "      <th>Repaired_unknown</th>\n",
       "      <th>Repaired_yes</th>\n",
       "    </tr>\n",
       "  </thead>\n",
       "  <tbody>\n",
       "    <tr>\n",
       "      <th>325447</th>\n",
       "      <td>0.944889</td>\n",
       "      <td>1.730545</td>\n",
       "      <td>-2.922086</td>\n",
       "      <td>-1.156787</td>\n",
       "      <td>0.700381</td>\n",
       "      <td>0.641692</td>\n",
       "      <td>0</td>\n",
       "      <td>0</td>\n",
       "      <td>0</td>\n",
       "      <td>0</td>\n",
       "      <td>...</td>\n",
       "      <td>1</td>\n",
       "      <td>1</td>\n",
       "      <td>0</td>\n",
       "      <td>1</td>\n",
       "      <td>0</td>\n",
       "      <td>0</td>\n",
       "      <td>0</td>\n",
       "      <td>0</td>\n",
       "      <td>0</td>\n",
       "      <td>0</td>\n",
       "    </tr>\n",
       "    <tr>\n",
       "      <th>310561</th>\n",
       "      <td>0.794130</td>\n",
       "      <td>0.181379</td>\n",
       "      <td>0.582645</td>\n",
       "      <td>1.418918</td>\n",
       "      <td>0.809289</td>\n",
       "      <td>-0.980761</td>\n",
       "      <td>0</td>\n",
       "      <td>0</td>\n",
       "      <td>0</td>\n",
       "      <td>0</td>\n",
       "      <td>...</td>\n",
       "      <td>0</td>\n",
       "      <td>1</td>\n",
       "      <td>0</td>\n",
       "      <td>0</td>\n",
       "      <td>0</td>\n",
       "      <td>0</td>\n",
       "      <td>0</td>\n",
       "      <td>1</td>\n",
       "      <td>0</td>\n",
       "      <td>0</td>\n",
       "    </tr>\n",
       "    <tr>\n",
       "      <th>260544</th>\n",
       "      <td>-1.014980</td>\n",
       "      <td>-0.838803</td>\n",
       "      <td>-0.765328</td>\n",
       "      <td>-0.727503</td>\n",
       "      <td>-0.824334</td>\n",
       "      <td>-0.405189</td>\n",
       "      <td>0</td>\n",
       "      <td>0</td>\n",
       "      <td>0</td>\n",
       "      <td>1</td>\n",
       "      <td>...</td>\n",
       "      <td>0</td>\n",
       "      <td>1</td>\n",
       "      <td>0</td>\n",
       "      <td>0</td>\n",
       "      <td>0</td>\n",
       "      <td>0</td>\n",
       "      <td>0</td>\n",
       "      <td>1</td>\n",
       "      <td>0</td>\n",
       "      <td>0</td>\n",
       "    </tr>\n",
       "    <tr>\n",
       "      <th>110343</th>\n",
       "      <td>1.246407</td>\n",
       "      <td>0.389194</td>\n",
       "      <td>0.582645</td>\n",
       "      <td>0.131066</td>\n",
       "      <td>0.809289</td>\n",
       "      <td>-1.322033</td>\n",
       "      <td>0</td>\n",
       "      <td>0</td>\n",
       "      <td>0</td>\n",
       "      <td>0</td>\n",
       "      <td>...</td>\n",
       "      <td>0</td>\n",
       "      <td>0</td>\n",
       "      <td>0</td>\n",
       "      <td>1</td>\n",
       "      <td>0</td>\n",
       "      <td>0</td>\n",
       "      <td>0</td>\n",
       "      <td>0</td>\n",
       "      <td>0</td>\n",
       "      <td>0</td>\n",
       "    </tr>\n",
       "    <tr>\n",
       "      <th>120124</th>\n",
       "      <td>0.191093</td>\n",
       "      <td>0.313625</td>\n",
       "      <td>-0.091342</td>\n",
       "      <td>1.526239</td>\n",
       "      <td>0.809289</td>\n",
       "      <td>1.354205</td>\n",
       "      <td>1</td>\n",
       "      <td>0</td>\n",
       "      <td>0</td>\n",
       "      <td>0</td>\n",
       "      <td>...</td>\n",
       "      <td>0</td>\n",
       "      <td>1</td>\n",
       "      <td>0</td>\n",
       "      <td>0</td>\n",
       "      <td>0</td>\n",
       "      <td>0</td>\n",
       "      <td>0</td>\n",
       "      <td>1</td>\n",
       "      <td>0</td>\n",
       "      <td>0</td>\n",
       "    </tr>\n",
       "    <tr>\n",
       "      <th>228581</th>\n",
       "      <td>0.191093</td>\n",
       "      <td>-0.272035</td>\n",
       "      <td>0.582645</td>\n",
       "      <td>0.667671</td>\n",
       "      <td>0.918197</td>\n",
       "      <td>-0.995957</td>\n",
       "      <td>0</td>\n",
       "      <td>0</td>\n",
       "      <td>0</td>\n",
       "      <td>0</td>\n",
       "      <td>...</td>\n",
       "      <td>0</td>\n",
       "      <td>1</td>\n",
       "      <td>0</td>\n",
       "      <td>1</td>\n",
       "      <td>0</td>\n",
       "      <td>0</td>\n",
       "      <td>0</td>\n",
       "      <td>0</td>\n",
       "      <td>0</td>\n",
       "      <td>0</td>\n",
       "    </tr>\n",
       "    <tr>\n",
       "      <th>292479</th>\n",
       "      <td>0.794130</td>\n",
       "      <td>-0.630988</td>\n",
       "      <td>-0.091342</td>\n",
       "      <td>1.633560</td>\n",
       "      <td>0.700381</td>\n",
       "      <td>0.834409</td>\n",
       "      <td>0</td>\n",
       "      <td>0</td>\n",
       "      <td>0</td>\n",
       "      <td>0</td>\n",
       "      <td>...</td>\n",
       "      <td>0</td>\n",
       "      <td>1</td>\n",
       "      <td>0</td>\n",
       "      <td>0</td>\n",
       "      <td>0</td>\n",
       "      <td>0</td>\n",
       "      <td>0</td>\n",
       "      <td>1</td>\n",
       "      <td>0</td>\n",
       "      <td>0</td>\n",
       "    </tr>\n",
       "    <tr>\n",
       "      <th>198284</th>\n",
       "      <td>0.944889</td>\n",
       "      <td>0.049133</td>\n",
       "      <td>-2.382896</td>\n",
       "      <td>1.418918</td>\n",
       "      <td>0.809289</td>\n",
       "      <td>-0.793156</td>\n",
       "      <td>0</td>\n",
       "      <td>0</td>\n",
       "      <td>0</td>\n",
       "      <td>1</td>\n",
       "      <td>...</td>\n",
       "      <td>0</td>\n",
       "      <td>1</td>\n",
       "      <td>0</td>\n",
       "      <td>0</td>\n",
       "      <td>0</td>\n",
       "      <td>0</td>\n",
       "      <td>0</td>\n",
       "      <td>1</td>\n",
       "      <td>0</td>\n",
       "      <td>0</td>\n",
       "    </tr>\n",
       "    <tr>\n",
       "      <th>205165</th>\n",
       "      <td>0.794130</td>\n",
       "      <td>-0.952157</td>\n",
       "      <td>-0.765328</td>\n",
       "      <td>-1.049466</td>\n",
       "      <td>0.155840</td>\n",
       "      <td>-1.258930</td>\n",
       "      <td>1</td>\n",
       "      <td>0</td>\n",
       "      <td>0</td>\n",
       "      <td>0</td>\n",
       "      <td>...</td>\n",
       "      <td>0</td>\n",
       "      <td>1</td>\n",
       "      <td>0</td>\n",
       "      <td>1</td>\n",
       "      <td>0</td>\n",
       "      <td>0</td>\n",
       "      <td>0</td>\n",
       "      <td>0</td>\n",
       "      <td>1</td>\n",
       "      <td>0</td>\n",
       "    </tr>\n",
       "    <tr>\n",
       "      <th>69328</th>\n",
       "      <td>0.643370</td>\n",
       "      <td>2.032821</td>\n",
       "      <td>-0.765328</td>\n",
       "      <td>-0.942145</td>\n",
       "      <td>0.918197</td>\n",
       "      <td>-1.359210</td>\n",
       "      <td>0</td>\n",
       "      <td>0</td>\n",
       "      <td>0</td>\n",
       "      <td>0</td>\n",
       "      <td>...</td>\n",
       "      <td>0</td>\n",
       "      <td>0</td>\n",
       "      <td>0</td>\n",
       "      <td>0</td>\n",
       "      <td>0</td>\n",
       "      <td>0</td>\n",
       "      <td>0</td>\n",
       "      <td>1</td>\n",
       "      <td>0</td>\n",
       "      <td>0</td>\n",
       "    </tr>\n",
       "  </tbody>\n",
       "</table>\n",
       "<p>10 rows × 22 columns</p>\n",
       "</div>"
      ],
      "text/plain": [
       "        RegistrationYear     Power  Kilometer  DateCreated  LastSeen  \\\n",
       "325447          0.944889  1.730545  -2.922086    -1.156787  0.700381   \n",
       "310561          0.794130  0.181379   0.582645     1.418918  0.809289   \n",
       "260544         -1.014980 -0.838803  -0.765328    -0.727503 -0.824334   \n",
       "110343          1.246407  0.389194   0.582645     0.131066  0.809289   \n",
       "120124          0.191093  0.313625  -0.091342     1.526239  0.809289   \n",
       "228581          0.191093 -0.272035   0.582645     0.667671  0.918197   \n",
       "292479          0.794130 -0.630988  -0.091342     1.633560  0.700381   \n",
       "198284          0.944889  0.049133  -2.382896     1.418918  0.809289   \n",
       "205165          0.794130 -0.952157  -0.765328    -1.049466  0.155840   \n",
       "69328           0.643370  2.032821  -0.765328    -0.942145  0.918197   \n",
       "\n",
       "        ModelNew  VehicleType_convertible  VehicleType_coupe  \\\n",
       "325447  0.641692                        0                  0   \n",
       "310561 -0.980761                        0                  0   \n",
       "260544 -0.405189                        0                  0   \n",
       "110343 -1.322033                        0                  0   \n",
       "120124  1.354205                        1                  0   \n",
       "228581 -0.995957                        0                  0   \n",
       "292479  0.834409                        0                  0   \n",
       "198284 -0.793156                        0                  0   \n",
       "205165 -1.258930                        1                  0   \n",
       "69328  -1.359210                        0                  0   \n",
       "\n",
       "        VehicleType_other  VehicleType_sedan  ...  VehicleType_wagon  \\\n",
       "325447                  0                  0  ...                  1   \n",
       "310561                  0                  0  ...                  0   \n",
       "260544                  0                  1  ...                  0   \n",
       "110343                  0                  0  ...                  0   \n",
       "120124                  0                  0  ...                  0   \n",
       "228581                  0                  0  ...                  0   \n",
       "292479                  0                  0  ...                  0   \n",
       "198284                  0                  1  ...                  0   \n",
       "205165                  0                  0  ...                  0   \n",
       "69328                   0                  0  ...                  0   \n",
       "\n",
       "        Gearbox_manual  FuelType_electric  FuelType_gasoline  FuelType_hybrid  \\\n",
       "325447               1                  0                  1                0   \n",
       "310561               1                  0                  0                0   \n",
       "260544               1                  0                  0                0   \n",
       "110343               0                  0                  1                0   \n",
       "120124               1                  0                  0                0   \n",
       "228581               1                  0                  1                0   \n",
       "292479               1                  0                  0                0   \n",
       "198284               1                  0                  0                0   \n",
       "205165               1                  0                  1                0   \n",
       "69328                0                  0                  0                0   \n",
       "\n",
       "        FuelType_lpg  FuelType_other  FuelType_petrol  Repaired_unknown  \\\n",
       "325447             0               0                0                 0   \n",
       "310561             0               0                1                 0   \n",
       "260544             0               0                1                 0   \n",
       "110343             0               0                0                 0   \n",
       "120124             0               0                1                 0   \n",
       "228581             0               0                0                 0   \n",
       "292479             0               0                1                 0   \n",
       "198284             0               0                1                 0   \n",
       "205165             0               0                0                 1   \n",
       "69328              0               0                1                 0   \n",
       "\n",
       "        Repaired_yes  \n",
       "325447             0  \n",
       "310561             0  \n",
       "260544             0  \n",
       "110343             0  \n",
       "120124             0  \n",
       "228581             0  \n",
       "292479             0  \n",
       "198284             0  \n",
       "205165             0  \n",
       "69328              0  \n",
       "\n",
       "[10 rows x 22 columns]"
      ]
     },
     "metadata": {},
     "output_type": "display_data"
    }
   ],
   "source": [
    "#check\n",
    "print('Обучающая выборка')\n",
    "display(features_train.head(10))\n",
    "print()\n",
    "print('Тестовая выборка')\n",
    "display(features_test.head(10))"
   ]
  },
  {
   "cell_type": "markdown",
   "metadata": {},
   "source": [
    "## Обучение моделей"
   ]
  },
  {
   "cell_type": "markdown",
   "metadata": {},
   "source": [
    "Создаим констатную модель."
   ]
  },
  {
   "cell_type": "code",
   "execution_count": 57,
   "metadata": {},
   "outputs": [
    {
     "name": "stdout",
     "output_type": "stream",
     "text": [
      "RMSE для константной модели: 4559.22\n"
     ]
    }
   ],
   "source": [
    "predction_base = pd.Series(data=target_coded.mean(), index=target_coded.index, dtype='int64')\n",
    "rmse_base = mean_squared_error(target_coded, predction_base) ** 0.5\n",
    "print(\"RMSE для константной модели:\", round(rmse_base, 2))"
   ]
  },
  {
   "cell_type": "markdown",
   "metadata": {},
   "source": [
    "### Линейная регрессия"
   ]
  },
  {
   "cell_type": "code",
   "execution_count": 58,
   "metadata": {},
   "outputs": [
    {
     "name": "stdout",
     "output_type": "stream",
     "text": [
      "CPU times: user 4.49 s, sys: 309 ms, total: 4.79 s\n",
      "Wall time: 905 ms\n"
     ]
    }
   ],
   "source": [
    "%%time\n",
    "model_linear_regression = LinearRegression()\n",
    "mse_linear_regression = cross_val_score(\n",
    "    model_linear_regression,\n",
    "    features_train,\n",
    "    target_train,\n",
    "    cv=5,\n",
    "    scoring='neg_mean_squared_error')"
   ]
  },
  {
   "cell_type": "code",
   "execution_count": 59,
   "metadata": {},
   "outputs": [
    {
     "name": "stdout",
     "output_type": "stream",
     "text": [
      "RMSE для линейной модели на обучающей выборке: 2879.83\n"
     ]
    }
   ],
   "source": [
    "print(\"RMSE для линейной модели на обучающей выборке:\", round((-mse_linear_regression.mean()) ** 0.5, 2))"
   ]
  },
  {
   "cell_type": "markdown",
   "metadata": {},
   "source": [
    "Обучим модель"
   ]
  },
  {
   "cell_type": "code",
   "execution_count": 60,
   "metadata": {},
   "outputs": [
    {
     "name": "stdout",
     "output_type": "stream",
     "text": [
      "CPU times: user 473 ms, sys: 45.2 ms, total: 518 ms\n",
      "Wall time: 157 ms\n"
     ]
    },
    {
     "data": {
      "text/plain": [
       "LinearRegression()"
      ]
     },
     "execution_count": 60,
     "metadata": {},
     "output_type": "execute_result"
    }
   ],
   "source": [
    "%%time\n",
    "model_linear_regression.fit(features_train, target_train)"
   ]
  },
  {
   "cell_type": "markdown",
   "metadata": {},
   "source": [
    "Получим предсказание модели"
   ]
  },
  {
   "cell_type": "code",
   "execution_count": 61,
   "metadata": {},
   "outputs": [
    {
     "name": "stdout",
     "output_type": "stream",
     "text": [
      "CPU times: user 38.2 ms, sys: 5.06 ms, total: 43.3 ms\n",
      "Wall time: 16 ms\n"
     ]
    }
   ],
   "source": [
    "%%time\n",
    "prediction_linear_regression = model_linear_regression.predict(features_train)"
   ]
  },
  {
   "cell_type": "markdown",
   "metadata": {},
   "source": [
    "### Модель Лассо"
   ]
  },
  {
   "cell_type": "code",
   "execution_count": 62,
   "metadata": {},
   "outputs": [
    {
     "name": "stdout",
     "output_type": "stream",
     "text": [
      "RMSE для Lasso alpha=0.10 модели на обучающей выборке: 2879.77\n",
      "RMSE для Lasso alpha=0.50 модели на обучающей выборке: 2879.80\n",
      "RMSE для Lasso alpha=0.90 модели на обучающей выборке: 2879.97\n",
      "CPU times: user 1min 10s, sys: 1.18 s, total: 1min 12s\n",
      "Wall time: 12.2 s\n"
     ]
    }
   ],
   "source": [
    "%%time\n",
    "alphas = np.arange(0.1, 1, 0.4)\n",
    "for alpha in alphas :\n",
    "    model_lasso = Lasso(alpha = alpha)\n",
    "    mse_lasso = cross_val_score(\n",
    "        model_lasso,\n",
    "        features_train,\n",
    "        target_train,\n",
    "        cv=5,\n",
    "        scoring='neg_mean_squared_error')\n",
    "    print(\"RMSE для Lasso alpha={:.2f} модели на обучающей выборке: {:.2f}\".format(alpha, (-mse_lasso.mean()) ** 0.5))"
   ]
  },
  {
   "cell_type": "markdown",
   "metadata": {},
   "source": [
    "Обучим модель"
   ]
  },
  {
   "cell_type": "code",
   "execution_count": 63,
   "metadata": {},
   "outputs": [
    {
     "name": "stdout",
     "output_type": "stream",
     "text": [
      "CPU times: user 5.31 s, sys: 87.4 ms, total: 5.4 s\n",
      "Wall time: 905 ms\n"
     ]
    },
    {
     "data": {
      "text/plain": [
       "Lasso(alpha=0.1)"
      ]
     },
     "execution_count": 63,
     "metadata": {},
     "output_type": "execute_result"
    }
   ],
   "source": [
    "%%time\n",
    "model_lasso = Lasso(alpha=0.1)\n",
    "model_lasso.fit(features_train, target_train)"
   ]
  },
  {
   "cell_type": "markdown",
   "metadata": {},
   "source": [
    "Получим предсказание модели"
   ]
  },
  {
   "cell_type": "code",
   "execution_count": 64,
   "metadata": {},
   "outputs": [
    {
     "name": "stdout",
     "output_type": "stream",
     "text": [
      "CPU times: user 20 ms, sys: 9.34 ms, total: 29.4 ms\n",
      "Wall time: 18.2 ms\n"
     ]
    }
   ],
   "source": [
    "%%time\n",
    "prediction_lasso = model_lasso.predict(features_test)"
   ]
  },
  {
   "cell_type": "markdown",
   "metadata": {},
   "source": [
    "### Модель LightGBM"
   ]
  },
  {
   "cell_type": "markdown",
   "metadata": {},
   "source": [
    "Подготоим данные для модели LightGBM."
   ]
  },
  {
   "cell_type": "code",
   "execution_count": 65,
   "metadata": {},
   "outputs": [
    {
     "data": {
      "text/html": [
       "<div>\n",
       "<style scoped>\n",
       "    .dataframe tbody tr th:only-of-type {\n",
       "        vertical-align: middle;\n",
       "    }\n",
       "\n",
       "    .dataframe tbody tr th {\n",
       "        vertical-align: top;\n",
       "    }\n",
       "\n",
       "    .dataframe thead th {\n",
       "        text-align: right;\n",
       "    }\n",
       "</style>\n",
       "<table border=\"1\" class=\"dataframe\">\n",
       "  <thead>\n",
       "    <tr style=\"text-align: right;\">\n",
       "      <th></th>\n",
       "      <th>Price</th>\n",
       "      <th>VehicleType</th>\n",
       "      <th>RegistrationYear</th>\n",
       "      <th>Gearbox</th>\n",
       "      <th>Power</th>\n",
       "      <th>Model</th>\n",
       "      <th>Kilometer</th>\n",
       "      <th>FuelType</th>\n",
       "      <th>Brand</th>\n",
       "      <th>Repaired</th>\n",
       "      <th>DateCreated</th>\n",
       "      <th>LastSeen</th>\n",
       "    </tr>\n",
       "  </thead>\n",
       "  <tbody>\n",
       "    <tr>\n",
       "      <th>0</th>\n",
       "      <td>480</td>\n",
       "      <td>sedan</td>\n",
       "      <td>1993</td>\n",
       "      <td>manual</td>\n",
       "      <td>101</td>\n",
       "      <td>golf</td>\n",
       "      <td>150000</td>\n",
       "      <td>petrol</td>\n",
       "      <td>volkswagen</td>\n",
       "      <td>unknown</td>\n",
       "      <td>745</td>\n",
       "      <td>759</td>\n",
       "    </tr>\n",
       "    <tr>\n",
       "      <th>2</th>\n",
       "      <td>9800</td>\n",
       "      <td>suv</td>\n",
       "      <td>2004</td>\n",
       "      <td>auto</td>\n",
       "      <td>163</td>\n",
       "      <td>grand</td>\n",
       "      <td>125000</td>\n",
       "      <td>gasoline</td>\n",
       "      <td>jeep</td>\n",
       "      <td>unknown</td>\n",
       "      <td>735</td>\n",
       "      <td>757</td>\n",
       "    </tr>\n",
       "    <tr>\n",
       "      <th>3</th>\n",
       "      <td>1500</td>\n",
       "      <td>small</td>\n",
       "      <td>2001</td>\n",
       "      <td>manual</td>\n",
       "      <td>75</td>\n",
       "      <td>golf</td>\n",
       "      <td>150000</td>\n",
       "      <td>petrol</td>\n",
       "      <td>volkswagen</td>\n",
       "      <td>no</td>\n",
       "      <td>738</td>\n",
       "      <td>738</td>\n",
       "    </tr>\n",
       "  </tbody>\n",
       "</table>\n",
       "</div>"
      ],
      "text/plain": [
       "   Price VehicleType  RegistrationYear Gearbox  Power  Model  Kilometer  \\\n",
       "0    480       sedan              1993  manual    101   golf     150000   \n",
       "2   9800         suv              2004    auto    163  grand     125000   \n",
       "3   1500       small              2001  manual     75   golf     150000   \n",
       "\n",
       "   FuelType       Brand Repaired  DateCreated  LastSeen  \n",
       "0    petrol  volkswagen  unknown          745       759  \n",
       "2  gasoline        jeep  unknown          735       757  \n",
       "3    petrol  volkswagen       no          738       738  "
      ]
     },
     "metadata": {},
     "output_type": "display_data"
    }
   ],
   "source": [
    "display(data.head(3))"
   ]
  },
  {
   "cell_type": "markdown",
   "metadata": {},
   "source": [
    "Выделим целевой признак."
   ]
  },
  {
   "cell_type": "code",
   "execution_count": 66,
   "metadata": {},
   "outputs": [],
   "source": [
    "target_gbm = data['Price']\n",
    "features_gbm = data.drop('Price', axis=1)"
   ]
  },
  {
   "cell_type": "code",
   "execution_count": 67,
   "metadata": {},
   "outputs": [
    {
     "name": "stdout",
     "output_type": "stream",
     "text": [
      "(314013,)\n",
      "(314013, 11)\n"
     ]
    },
    {
     "data": {
      "text/html": [
       "<div>\n",
       "<style scoped>\n",
       "    .dataframe tbody tr th:only-of-type {\n",
       "        vertical-align: middle;\n",
       "    }\n",
       "\n",
       "    .dataframe tbody tr th {\n",
       "        vertical-align: top;\n",
       "    }\n",
       "\n",
       "    .dataframe thead th {\n",
       "        text-align: right;\n",
       "    }\n",
       "</style>\n",
       "<table border=\"1\" class=\"dataframe\">\n",
       "  <thead>\n",
       "    <tr style=\"text-align: right;\">\n",
       "      <th></th>\n",
       "      <th>VehicleType</th>\n",
       "      <th>RegistrationYear</th>\n",
       "      <th>Gearbox</th>\n",
       "      <th>Power</th>\n",
       "      <th>Model</th>\n",
       "      <th>Kilometer</th>\n",
       "      <th>FuelType</th>\n",
       "      <th>Brand</th>\n",
       "      <th>Repaired</th>\n",
       "      <th>DateCreated</th>\n",
       "      <th>LastSeen</th>\n",
       "    </tr>\n",
       "  </thead>\n",
       "  <tbody>\n",
       "    <tr>\n",
       "      <th>0</th>\n",
       "      <td>sedan</td>\n",
       "      <td>1993</td>\n",
       "      <td>manual</td>\n",
       "      <td>101</td>\n",
       "      <td>golf</td>\n",
       "      <td>150000</td>\n",
       "      <td>petrol</td>\n",
       "      <td>volkswagen</td>\n",
       "      <td>unknown</td>\n",
       "      <td>745</td>\n",
       "      <td>759</td>\n",
       "    </tr>\n",
       "    <tr>\n",
       "      <th>2</th>\n",
       "      <td>suv</td>\n",
       "      <td>2004</td>\n",
       "      <td>auto</td>\n",
       "      <td>163</td>\n",
       "      <td>grand</td>\n",
       "      <td>125000</td>\n",
       "      <td>gasoline</td>\n",
       "      <td>jeep</td>\n",
       "      <td>unknown</td>\n",
       "      <td>735</td>\n",
       "      <td>757</td>\n",
       "    </tr>\n",
       "    <tr>\n",
       "      <th>3</th>\n",
       "      <td>small</td>\n",
       "      <td>2001</td>\n",
       "      <td>manual</td>\n",
       "      <td>75</td>\n",
       "      <td>golf</td>\n",
       "      <td>150000</td>\n",
       "      <td>petrol</td>\n",
       "      <td>volkswagen</td>\n",
       "      <td>no</td>\n",
       "      <td>738</td>\n",
       "      <td>738</td>\n",
       "    </tr>\n",
       "    <tr>\n",
       "      <th>4</th>\n",
       "      <td>small</td>\n",
       "      <td>2008</td>\n",
       "      <td>manual</td>\n",
       "      <td>69</td>\n",
       "      <td>fabia</td>\n",
       "      <td>90000</td>\n",
       "      <td>gasoline</td>\n",
       "      <td>skoda</td>\n",
       "      <td>no</td>\n",
       "      <td>752</td>\n",
       "      <td>758</td>\n",
       "    </tr>\n",
       "    <tr>\n",
       "      <th>5</th>\n",
       "      <td>sedan</td>\n",
       "      <td>1995</td>\n",
       "      <td>manual</td>\n",
       "      <td>102</td>\n",
       "      <td>3er</td>\n",
       "      <td>150000</td>\n",
       "      <td>petrol</td>\n",
       "      <td>bmw</td>\n",
       "      <td>yes</td>\n",
       "      <td>756</td>\n",
       "      <td>758</td>\n",
       "    </tr>\n",
       "  </tbody>\n",
       "</table>\n",
       "</div>"
      ],
      "text/plain": [
       "  VehicleType  RegistrationYear Gearbox  Power  Model  Kilometer  FuelType  \\\n",
       "0       sedan              1993  manual    101   golf     150000    petrol   \n",
       "2         suv              2004    auto    163  grand     125000  gasoline   \n",
       "3       small              2001  manual     75   golf     150000    petrol   \n",
       "4       small              2008  manual     69  fabia      90000  gasoline   \n",
       "5       sedan              1995  manual    102    3er     150000    petrol   \n",
       "\n",
       "        Brand Repaired  DateCreated  LastSeen  \n",
       "0  volkswagen  unknown          745       759  \n",
       "2        jeep  unknown          735       757  \n",
       "3  volkswagen       no          738       738  \n",
       "4       skoda       no          752       758  \n",
       "5         bmw      yes          756       758  "
      ]
     },
     "metadata": {},
     "output_type": "display_data"
    }
   ],
   "source": [
    "#check\n",
    "print(target_gbm.shape)\n",
    "print(features_gbm.shape)\n",
    "display(features_gbm.head())"
   ]
  },
  {
   "cell_type": "code",
   "execution_count": 68,
   "metadata": {},
   "outputs": [],
   "source": [
    "for c in features_gbm.columns:\n",
    "    col_type = features_gbm[c].dtype\n",
    "    if col_type == 'object' or col_type.name == 'category':\n",
    "        features_gbm[c] = features_gbm[c].astype('category')"
   ]
  },
  {
   "cell_type": "code",
   "execution_count": 69,
   "metadata": {},
   "outputs": [
    {
     "name": "stdout",
     "output_type": "stream",
     "text": [
      "<class 'pandas.core.frame.DataFrame'>\n",
      "Int64Index: 314013 entries, 0 to 354368\n",
      "Data columns (total 11 columns):\n",
      " #   Column            Non-Null Count   Dtype   \n",
      "---  ------            --------------   -----   \n",
      " 0   VehicleType       314013 non-null  category\n",
      " 1   RegistrationYear  314013 non-null  int64   \n",
      " 2   Gearbox           314013 non-null  category\n",
      " 3   Power             314013 non-null  int64   \n",
      " 4   Model             314013 non-null  category\n",
      " 5   Kilometer         314013 non-null  int64   \n",
      " 6   FuelType          314013 non-null  category\n",
      " 7   Brand             314013 non-null  category\n",
      " 8   Repaired          314013 non-null  category\n",
      " 9   DateCreated       314013 non-null  int64   \n",
      " 10  LastSeen          314013 non-null  int64   \n",
      "dtypes: category(6), int64(5)\n",
      "memory usage: 16.5 MB\n"
     ]
    }
   ],
   "source": [
    "features_gbm.info()"
   ]
  },
  {
   "cell_type": "markdown",
   "metadata": {},
   "source": [
    "Разделим выборку на тренирочную и тестовую."
   ]
  },
  {
   "cell_type": "code",
   "execution_count": 70,
   "metadata": {},
   "outputs": [],
   "source": [
    "X_train, X_test, y_train, y_test = train_test_split(features_gbm, target_gbm, test_size=0.20, random_state=314)"
   ]
  },
  {
   "cell_type": "code",
   "execution_count": 71,
   "metadata": {},
   "outputs": [
    {
     "name": "stdout",
     "output_type": "stream",
     "text": [
      "(251210, 11)\n",
      "(62803, 11)\n",
      "(251210,)\n",
      "(62803,)\n"
     ]
    }
   ],
   "source": [
    "#check\n",
    "print(X_train.shape)\n",
    "print(X_test.shape)\n",
    "print(y_train.shape)\n",
    "print(y_test.shape)"
   ]
  },
  {
   "cell_type": "code",
   "execution_count": 72,
   "metadata": {},
   "outputs": [
    {
     "name": "stdout",
     "output_type": "stream",
     "text": [
      "[LightGBM] [Warning] Accuracy may be bad since you didn't explicitly set num_leaves OR 2^max_depth > num_leaves. (num_leaves=31).\n",
      "CPU times: user 10.9 s, sys: 1.19 s, total: 12.1 s\n",
      "Wall time: 15.5 s\n"
     ]
    },
    {
     "data": {
      "text/plain": [
       "GridSearchCV(cv=3, estimator=LGBMRegressor(), n_jobs=-1,\n",
       "             param_grid={'learning_rate': [0.2, 0.4, 0.6],\n",
       "                         'max_depth': [15, 20, 25]},\n",
       "             scoring='neg_mean_squared_error')"
      ]
     },
     "execution_count": 72,
     "metadata": {},
     "output_type": "execute_result"
    }
   ],
   "source": [
    "%%time\n",
    "estimator_new = lgb.LGBMRegressor(num_leaves=31)\n",
    "\n",
    "param_grid_new = {'learning_rate': [0.2, 0.4, 0.6],\n",
    "                  'max_depth': [15, 20, 25]}\n",
    "\n",
    "gbm_new = GridSearchCV(\n",
    "    estimator_new,\n",
    "    param_grid_new,\n",
    "    cv=3,\n",
    "    n_jobs = -1,\n",
    "    verbose = 0,\n",
    "    scoring = 'neg_mean_squared_error'\n",
    ")\n",
    "\n",
    "gbm_new.fit(X_train, y_train)"
   ]
  },
  {
   "cell_type": "code",
   "execution_count": 73,
   "metadata": {},
   "outputs": [
    {
     "name": "stdout",
     "output_type": "stream",
     "text": [
      "{'learning_rate': 0.2, 'max_depth': 15}\n"
     ]
    }
   ],
   "source": [
    "print(gbm_new.best_params_)"
   ]
  },
  {
   "cell_type": "code",
   "execution_count": 74,
   "metadata": {},
   "outputs": [
    {
     "name": "stdout",
     "output_type": "stream",
     "text": [
      "RMSE для LightGBM модели на обучающей выборке: 1579.56\n"
     ]
    }
   ],
   "source": [
    "print(\"RMSE для LightGBM модели на обучающей выборке:\",round((-gbm_new.best_score_) ** 0.5, 2))"
   ]
  },
  {
   "cell_type": "markdown",
   "metadata": {},
   "source": [
    "Обучим модель"
   ]
  },
  {
   "cell_type": "code",
   "execution_count": 75,
   "metadata": {},
   "outputs": [
    {
     "name": "stdout",
     "output_type": "stream",
     "text": [
      "CPU times: user 4.3 s, sys: 116 ms, total: 4.41 s\n",
      "Wall time: 467 ms\n"
     ]
    },
    {
     "data": {
      "text/plain": [
       "LGBMRegressor(learning_rate=0.2, max_depth=20)"
      ]
     },
     "execution_count": 75,
     "metadata": {},
     "output_type": "execute_result"
    }
   ],
   "source": [
    "%%time\n",
    "model_lgbm = lgb.LGBMRegressor(num_leaves=31, learning_rate=0.2, max_depth=20)\n",
    "model_lgbm.fit(X_train, y_train)"
   ]
  },
  {
   "cell_type": "markdown",
   "metadata": {},
   "source": [
    "Получим предсказание модели"
   ]
  },
  {
   "cell_type": "code",
   "execution_count": 76,
   "metadata": {},
   "outputs": [
    {
     "name": "stdout",
     "output_type": "stream",
     "text": [
      "CPU times: user 2.23 s, sys: 49.9 ms, total: 2.28 s\n",
      "Wall time: 257 ms\n"
     ]
    }
   ],
   "source": [
    "%%time\n",
    "prediction_lgbm = model_lgbm.predict(X_train)"
   ]
  },
  {
   "cell_type": "markdown",
   "metadata": {},
   "source": [
    "## Анализ моделей"
   ]
  },
  {
   "cell_type": "markdown",
   "metadata": {},
   "source": [
    "1. Скорость обучения модели:\n",
    "    - LinearRegression: 0.37 сек., \n",
    "    - Lasso: 6 сек.,\n",
    "    - LightGBT: 5 сек. \n",
    "2. Скорость  получения предсказания:\n",
    "    - LinearRegression 0.01 сек.,\n",
    "    - Lasso: 0.1 сек.,\n",
    "    - LightGBT: 2 сек.\n",
    "3. RMSE:\n",
    "    - LinearRegression 2879, \n",
    "    - Lasso: 2879,\n",
    "    - LightGBT: 1580.\n",
    "4. Вывод:\n",
    "    - Модель линейной регрессии оакзалась самой быстрой и с наименшей точностью.\n",
    "    - Модель LightGBM показала наилучшую точность, но и время обучения превышает линейную модель."
   ]
  },
  {
   "cell_type": "markdown",
   "metadata": {},
   "source": [
    "## Выбор модели и проверка ее на тестововй выборке"
   ]
  },
  {
   "cell_type": "markdown",
   "metadata": {},
   "source": [
    "Наилучший резальтат показал модель LightGBM. Проверим ее на тестовой выборке"
   ]
  },
  {
   "cell_type": "code",
   "execution_count": 77,
   "metadata": {},
   "outputs": [],
   "source": [
    "prediction_lgbm = model_lgbm.predict(X_test)"
   ]
  },
  {
   "cell_type": "code",
   "execution_count": 78,
   "metadata": {},
   "outputs": [
    {
     "name": "stdout",
     "output_type": "stream",
     "text": [
      "RMSE для линейной модели на тестовой выборке: 1560.8\n"
     ]
    }
   ],
   "source": [
    "mse_lgbm = mean_squared_error(y_test, prediction_lgbm)\n",
    "print(\"RMSE для линейной модели на тестовой выборке:\", round((mse_lgbm) ** 0.5, 2))"
   ]
  },
  {
   "cell_type": "markdown",
   "metadata": {},
   "source": [
    "## Общий вывод"
   ]
  },
  {
   "cell_type": "markdown",
   "metadata": {},
   "source": [
    "В ходе выполнения данной работы были выполнены следующие задачи и получены соответсвующие результаты:\n",
    "1. Были загружены и изучены данные;\n",
    "2. Произведена предобработка данных:\n",
    "    - были заполнены пропуски, удалены дубликаты. Общая потеря данных 8,2% от общего числа;\n",
    "    - были удалены признаки, которые не оказывают влияние на будущую модель, а именно: 'DateCrawled', 'RegistrationMonth', 'NumberOfPictures', 'PostalCode';\n",
    "    - На основе двух категоральных признаков 'Model' и 'Brand' был создан числовой признак 'ModelNew'. Данное решение существенно сократило время обучения моделей;\n",
    "3. Данные были разделены на выборки, станартизированы.\n",
    "4. Были исследованы 3 модели:  LinearRegression, Lasso, LightGBT;\n",
    "5. Призведен анализ времени \"работы\" каждой модели;\n",
    "    - наиболее быстрой  сточки зрения обучения и получения предсказаний оказалась модель LinearRegression;\n",
    "    - наилучшей по качеству предсказаний оказадась модель LightGBT;\n",
    "9. Модель LightGBT была выбрана как лучшая и опробована на тестовой выборке с результатом RMSE=1558."
   ]
  }
 ],
 "metadata": {
  "ExecuteTimeLog": [
   {
    "duration": 406,
    "start_time": "2023-01-23T07:27:31.265Z"
   },
   {
    "duration": 59,
    "start_time": "2023-01-23T07:27:49.782Z"
   },
   {
    "duration": 1035,
    "start_time": "2023-01-23T07:27:57.769Z"
   },
   {
    "duration": 22,
    "start_time": "2023-01-23T07:28:19.858Z"
   },
   {
    "duration": 10,
    "start_time": "2023-01-23T07:28:38.454Z"
   },
   {
    "duration": 15,
    "start_time": "2023-01-23T07:28:57.596Z"
   },
   {
    "duration": 13,
    "start_time": "2023-01-23T07:29:06.016Z"
   },
   {
    "duration": 12,
    "start_time": "2023-01-23T07:29:09.937Z"
   },
   {
    "duration": 110,
    "start_time": "2023-01-23T07:29:20.163Z"
   },
   {
    "duration": 1436,
    "start_time": "2023-01-23T07:29:41.291Z"
   },
   {
    "duration": 87,
    "start_time": "2023-01-23T07:31:06.324Z"
   },
   {
    "duration": 404,
    "start_time": "2023-01-23T07:31:39.000Z"
   },
   {
    "duration": 75,
    "start_time": "2023-01-23T07:32:04.417Z"
   },
   {
    "duration": 384,
    "start_time": "2023-01-24T04:32:30.480Z"
   },
   {
    "duration": 1117,
    "start_time": "2023-01-24T04:32:30.904Z"
   },
   {
    "duration": 19,
    "start_time": "2023-01-24T04:32:32.023Z"
   },
   {
    "duration": 29,
    "start_time": "2023-01-24T04:32:32.044Z"
   },
   {
    "duration": 127,
    "start_time": "2023-01-24T04:32:32.194Z"
   },
   {
    "duration": 94,
    "start_time": "2023-01-24T04:32:32.416Z"
   },
   {
    "duration": 479,
    "start_time": "2023-01-24T04:32:32.721Z"
   },
   {
    "duration": 74,
    "start_time": "2023-01-24T04:32:33.204Z"
   },
   {
    "duration": 49,
    "start_time": "2023-01-24T04:36:55.208Z"
   },
   {
    "duration": 758,
    "start_time": "2023-01-24T04:37:57.926Z"
   },
   {
    "duration": 449,
    "start_time": "2023-01-24T04:38:10.143Z"
   },
   {
    "duration": 491,
    "start_time": "2023-01-24T04:39:18.705Z"
   },
   {
    "duration": 117,
    "start_time": "2023-01-24T04:39:37.331Z"
   },
   {
    "duration": 81086,
    "start_time": "2023-01-24T04:39:45.012Z"
   },
   {
    "duration": 3,
    "start_time": "2023-01-24T04:41:51.173Z"
   },
   {
    "duration": 3,
    "start_time": "2023-01-24T04:42:20.330Z"
   },
   {
    "duration": 3,
    "start_time": "2023-01-24T04:42:58.532Z"
   },
   {
    "duration": 300,
    "start_time": "2023-01-24T04:44:13.878Z"
   },
   {
    "duration": 3,
    "start_time": "2023-01-24T04:51:14.432Z"
   },
   {
    "duration": 588,
    "start_time": "2023-01-24T04:54:23.707Z"
   },
   {
    "duration": 570,
    "start_time": "2023-01-24T04:54:37.404Z"
   },
   {
    "duration": 105,
    "start_time": "2023-01-24T04:55:03.944Z"
   },
   {
    "duration": 4,
    "start_time": "2023-01-24T04:55:55.625Z"
   },
   {
    "duration": 298,
    "start_time": "2023-01-24T04:56:19.859Z"
   },
   {
    "duration": 3,
    "start_time": "2023-01-24T04:57:54.550Z"
   },
   {
    "duration": 61,
    "start_time": "2023-01-24T05:00:41.615Z"
   },
   {
    "duration": 37,
    "start_time": "2023-01-24T05:00:51.842Z"
   },
   {
    "duration": 3,
    "start_time": "2023-01-24T05:01:07.953Z"
   },
   {
    "duration": 830,
    "start_time": "2023-01-24T05:01:09.059Z"
   },
   {
    "duration": 19,
    "start_time": "2023-01-24T05:01:09.892Z"
   },
   {
    "duration": 15,
    "start_time": "2023-01-24T05:01:10.343Z"
   },
   {
    "duration": 186,
    "start_time": "2023-01-24T05:01:10.981Z"
   },
   {
    "duration": 90,
    "start_time": "2023-01-24T05:01:11.537Z"
   },
   {
    "duration": 132,
    "start_time": "2023-01-24T05:01:16.960Z"
   },
   {
    "duration": 82,
    "start_time": "2023-01-24T05:01:17.976Z"
   },
   {
    "duration": 50,
    "start_time": "2023-01-24T05:01:19.433Z"
   },
   {
    "duration": 483,
    "start_time": "2023-01-24T05:01:23.026Z"
   },
   {
    "duration": 90213,
    "start_time": "2023-01-24T05:01:23.674Z"
   },
   {
    "duration": 3,
    "start_time": "2023-01-24T05:02:53.890Z"
   },
   {
    "duration": 327,
    "start_time": "2023-01-24T05:02:53.894Z"
   },
   {
    "duration": 319,
    "start_time": "2023-01-24T05:02:54.223Z"
   },
   {
    "duration": 122,
    "start_time": "2023-01-24T05:02:54.544Z"
   },
   {
    "duration": 6,
    "start_time": "2023-01-24T05:02:54.668Z"
   },
   {
    "duration": 291,
    "start_time": "2023-01-24T05:02:54.676Z"
   },
   {
    "duration": 24,
    "start_time": "2023-01-24T05:02:54.968Z"
   },
   {
    "duration": 536,
    "start_time": "2023-01-24T05:03:02.863Z"
   },
   {
    "duration": 618,
    "start_time": "2023-01-24T05:03:11.473Z"
   },
   {
    "duration": 19,
    "start_time": "2023-01-24T05:05:41.211Z"
   },
   {
    "duration": 12,
    "start_time": "2023-01-24T05:05:50.232Z"
   },
   {
    "duration": 19,
    "start_time": "2023-01-24T05:06:14.350Z"
   },
   {
    "duration": 12,
    "start_time": "2023-01-24T05:06:18.116Z"
   },
   {
    "duration": 26,
    "start_time": "2023-01-24T05:08:31.966Z"
   },
   {
    "duration": 24,
    "start_time": "2023-01-24T05:09:19.292Z"
   },
   {
    "duration": 18,
    "start_time": "2023-01-24T05:09:20.654Z"
   },
   {
    "duration": 23,
    "start_time": "2023-01-24T05:09:27.992Z"
   },
   {
    "duration": 13,
    "start_time": "2023-01-24T05:09:29.221Z"
   },
   {
    "duration": 57,
    "start_time": "2023-01-24T05:10:58.915Z"
   },
   {
    "duration": 58,
    "start_time": "2023-01-24T05:13:20.717Z"
   },
   {
    "duration": 298,
    "start_time": "2023-01-24T05:17:33.286Z"
   },
   {
    "duration": 274,
    "start_time": "2023-01-24T05:18:59.171Z"
   },
   {
    "duration": 297,
    "start_time": "2023-01-24T05:19:01.534Z"
   },
   {
    "duration": 283,
    "start_time": "2023-01-24T05:19:10.377Z"
   },
   {
    "duration": 290,
    "start_time": "2023-01-24T05:19:16.546Z"
   },
   {
    "duration": 282,
    "start_time": "2023-01-24T05:19:49.790Z"
   },
   {
    "duration": 5,
    "start_time": "2023-01-24T05:19:57.232Z"
   },
   {
    "duration": 279,
    "start_time": "2023-01-24T05:19:57.832Z"
   },
   {
    "duration": 5,
    "start_time": "2023-01-24T05:20:03.687Z"
   },
   {
    "duration": 867,
    "start_time": "2023-01-24T05:20:04.592Z"
   },
   {
    "duration": 15,
    "start_time": "2023-01-24T05:20:05.466Z"
   },
   {
    "duration": 38,
    "start_time": "2023-01-24T05:20:05.484Z"
   },
   {
    "duration": 152,
    "start_time": "2023-01-24T05:20:05.524Z"
   },
   {
    "duration": 85,
    "start_time": "2023-01-24T05:20:06.566Z"
   },
   {
    "duration": 46,
    "start_time": "2023-01-24T05:20:12.559Z"
   },
   {
    "duration": 629,
    "start_time": "2023-01-24T05:20:13.488Z"
   },
   {
    "duration": 3,
    "start_time": "2023-01-24T05:20:17.096Z"
   },
   {
    "duration": 372,
    "start_time": "2023-01-24T05:20:18.837Z"
   },
   {
    "duration": 3,
    "start_time": "2023-01-24T05:21:15.394Z"
   },
   {
    "duration": 958,
    "start_time": "2023-01-24T05:21:16.027Z"
   },
   {
    "duration": 15,
    "start_time": "2023-01-24T05:21:16.987Z"
   },
   {
    "duration": 43,
    "start_time": "2023-01-24T05:21:17.005Z"
   },
   {
    "duration": 216,
    "start_time": "2023-01-24T05:21:17.051Z"
   },
   {
    "duration": 117,
    "start_time": "2023-01-24T05:21:17.270Z"
   },
   {
    "duration": 51,
    "start_time": "2023-01-24T05:21:17.404Z"
   },
   {
    "duration": 597,
    "start_time": "2023-01-24T05:21:17.700Z"
   },
   {
    "duration": 108717,
    "start_time": "2023-01-24T05:21:18.299Z"
   },
   {
    "duration": 5,
    "start_time": "2023-01-24T05:23:07.018Z"
   },
   {
    "duration": 427,
    "start_time": "2023-01-24T05:23:07.024Z"
   },
   {
    "duration": 477,
    "start_time": "2023-01-24T05:23:07.457Z"
   },
   {
    "duration": 188,
    "start_time": "2023-01-24T05:23:07.936Z"
   },
   {
    "duration": 5,
    "start_time": "2023-01-24T05:23:08.126Z"
   },
   {
    "duration": 390,
    "start_time": "2023-01-24T05:23:08.132Z"
   },
   {
    "duration": 44,
    "start_time": "2023-01-24T05:23:08.524Z"
   },
   {
    "duration": 64,
    "start_time": "2023-01-24T05:23:08.570Z"
   },
   {
    "duration": 376,
    "start_time": "2023-01-24T05:23:08.637Z"
   },
   {
    "duration": 346,
    "start_time": "2023-01-24T05:23:09.015Z"
   },
   {
    "duration": 402,
    "start_time": "2023-01-24T05:23:09.362Z"
   },
   {
    "duration": 312,
    "start_time": "2023-01-24T05:23:09.766Z"
   },
   {
    "duration": 430,
    "start_time": "2023-01-24T05:24:27.488Z"
   },
   {
    "duration": 185,
    "start_time": "2023-01-24T05:25:25.620Z"
   },
   {
    "duration": 286,
    "start_time": "2023-01-24T05:26:44.218Z"
   },
   {
    "duration": 827,
    "start_time": "2023-01-24T05:26:55.009Z"
   },
   {
    "duration": 15,
    "start_time": "2023-01-24T05:26:55.896Z"
   },
   {
    "duration": 14,
    "start_time": "2023-01-24T05:26:56.415Z"
   },
   {
    "duration": 139,
    "start_time": "2023-01-24T05:26:56.777Z"
   },
   {
    "duration": 102,
    "start_time": "2023-01-24T05:26:57.278Z"
   },
   {
    "duration": 43,
    "start_time": "2023-01-24T05:26:59.119Z"
   },
   {
    "duration": 593,
    "start_time": "2023-01-24T05:27:00.079Z"
   },
   {
    "duration": 8,
    "start_time": "2023-01-24T05:27:04.350Z"
   },
   {
    "duration": 319,
    "start_time": "2023-01-24T05:27:05.461Z"
   },
   {
    "duration": 129,
    "start_time": "2023-01-24T05:27:19.704Z"
   },
   {
    "duration": 4,
    "start_time": "2023-01-24T05:27:20.617Z"
   },
   {
    "duration": 310,
    "start_time": "2023-01-24T05:27:21.191Z"
   },
   {
    "duration": 23,
    "start_time": "2023-01-24T05:27:22.277Z"
   },
   {
    "duration": 54,
    "start_time": "2023-01-24T05:27:24.232Z"
   },
   {
    "duration": 305,
    "start_time": "2023-01-24T05:27:29.944Z"
   },
   {
    "duration": 288,
    "start_time": "2023-01-24T05:27:32.527Z"
   },
   {
    "duration": 334,
    "start_time": "2023-01-24T05:27:36.048Z"
   },
   {
    "duration": 146,
    "start_time": "2023-01-24T05:27:37.690Z"
   },
   {
    "duration": 277,
    "start_time": "2023-01-24T05:27:45.083Z"
   },
   {
    "duration": 294,
    "start_time": "2023-01-24T05:28:02.704Z"
   },
   {
    "duration": 298,
    "start_time": "2023-01-24T05:29:10.735Z"
   },
   {
    "duration": 270,
    "start_time": "2023-01-24T05:29:12.978Z"
   },
   {
    "duration": 2,
    "start_time": "2023-01-24T05:29:13.887Z"
   },
   {
    "duration": 50,
    "start_time": "2023-01-24T05:30:35.078Z"
   },
   {
    "duration": 15,
    "start_time": "2023-01-24T05:32:00.456Z"
   },
   {
    "duration": 4,
    "start_time": "2023-01-24T05:32:32.848Z"
   },
   {
    "duration": 10,
    "start_time": "2023-01-24T05:33:10.978Z"
   },
   {
    "duration": 10,
    "start_time": "2023-01-24T05:33:24.999Z"
   },
   {
    "duration": 39,
    "start_time": "2023-01-24T05:33:54.543Z"
   },
   {
    "duration": 362,
    "start_time": "2023-01-24T05:37:30.977Z"
   },
   {
    "duration": 374,
    "start_time": "2023-01-24T05:37:51.749Z"
   },
   {
    "duration": 55,
    "start_time": "2023-01-24T05:39:18.932Z"
   },
   {
    "duration": 11,
    "start_time": "2023-01-24T05:39:46.922Z"
   },
   {
    "duration": 11,
    "start_time": "2023-01-24T05:40:29.175Z"
   },
   {
    "duration": 386,
    "start_time": "2023-01-24T05:40:46.185Z"
   },
   {
    "duration": 383,
    "start_time": "2023-01-24T05:41:18.925Z"
   },
   {
    "duration": 495,
    "start_time": "2023-01-24T05:42:36.782Z"
   },
   {
    "duration": 478,
    "start_time": "2023-01-24T05:42:43.918Z"
   },
   {
    "duration": 6,
    "start_time": "2023-01-24T05:43:47.828Z"
   },
   {
    "duration": 6,
    "start_time": "2023-01-24T05:44:00.116Z"
   },
   {
    "duration": 6,
    "start_time": "2023-01-24T05:44:19.644Z"
   },
   {
    "duration": 6,
    "start_time": "2023-01-24T05:44:33.811Z"
   },
   {
    "duration": 15,
    "start_time": "2023-01-24T05:44:52.809Z"
   },
   {
    "duration": 15,
    "start_time": "2023-01-24T05:45:28.815Z"
   },
   {
    "duration": 12,
    "start_time": "2023-01-24T05:45:43.699Z"
   },
   {
    "duration": 13,
    "start_time": "2023-01-24T05:45:50.022Z"
   },
   {
    "duration": 15,
    "start_time": "2023-01-24T05:47:29.018Z"
   },
   {
    "duration": 103,
    "start_time": "2023-01-24T05:49:59.034Z"
   },
   {
    "duration": 86,
    "start_time": "2023-01-24T05:51:02.412Z"
   },
   {
    "duration": 125,
    "start_time": "2023-01-24T05:51:14.102Z"
   },
   {
    "duration": 12,
    "start_time": "2023-01-24T05:55:21.649Z"
   },
   {
    "duration": 14,
    "start_time": "2023-01-24T05:55:43.099Z"
   },
   {
    "duration": 47,
    "start_time": "2023-01-24T05:56:38.526Z"
   },
   {
    "duration": 430,
    "start_time": "2023-01-24T05:57:40.319Z"
   },
   {
    "duration": 7,
    "start_time": "2023-01-24T05:58:07.391Z"
   },
   {
    "duration": 101,
    "start_time": "2023-01-24T05:58:19.446Z"
   },
   {
    "duration": 50,
    "start_time": "2023-01-24T05:58:20.786Z"
   },
   {
    "duration": 14,
    "start_time": "2023-01-24T05:58:21.287Z"
   },
   {
    "duration": 12,
    "start_time": "2023-01-24T05:58:29.488Z"
   },
   {
    "duration": 9,
    "start_time": "2023-01-24T05:58:30.139Z"
   },
   {
    "duration": 33,
    "start_time": "2023-01-24T05:58:32.283Z"
   },
   {
    "duration": 425,
    "start_time": "2023-01-24T05:58:33.208Z"
   },
   {
    "duration": 585,
    "start_time": "2023-01-24T05:59:47.602Z"
   },
   {
    "duration": 529,
    "start_time": "2023-01-24T06:00:05.995Z"
   },
   {
    "duration": 509,
    "start_time": "2023-01-24T06:00:15.013Z"
   },
   {
    "duration": 669,
    "start_time": "2023-01-24T06:00:50.242Z"
   },
   {
    "duration": 12,
    "start_time": "2023-01-24T06:02:03.532Z"
   },
   {
    "duration": 18,
    "start_time": "2023-01-24T06:02:46.374Z"
   },
   {
    "duration": 1063,
    "start_time": "2023-01-24T06:02:47.028Z"
   },
   {
    "duration": 28,
    "start_time": "2023-01-24T06:02:48.100Z"
   },
   {
    "duration": 40,
    "start_time": "2023-01-24T06:02:48.131Z"
   },
   {
    "duration": 192,
    "start_time": "2023-01-24T06:02:48.180Z"
   },
   {
    "duration": 115,
    "start_time": "2023-01-24T06:02:48.378Z"
   },
   {
    "duration": 38,
    "start_time": "2023-01-24T06:02:48.495Z"
   },
   {
    "duration": 761,
    "start_time": "2023-01-24T06:02:48.535Z"
   },
   {
    "duration": 110718,
    "start_time": "2023-01-24T06:02:49.299Z"
   },
   {
    "duration": 4,
    "start_time": "2023-01-24T06:04:40.020Z"
   },
   {
    "duration": 197,
    "start_time": "2023-01-24T06:04:40.026Z"
   },
   {
    "duration": 4,
    "start_time": "2023-01-24T06:04:40.225Z"
   },
   {
    "duration": 8469,
    "start_time": "2023-01-24T06:04:40.231Z"
   },
   {
    "duration": 22,
    "start_time": "2023-01-24T06:04:48.703Z"
   },
   {
    "duration": 68,
    "start_time": "2023-01-24T06:04:48.729Z"
   },
   {
    "duration": 316,
    "start_time": "2023-01-24T06:04:48.804Z"
   },
   {
    "duration": 322,
    "start_time": "2023-01-24T06:04:49.122Z"
   },
   {
    "duration": 378,
    "start_time": "2023-01-24T06:04:49.446Z"
   },
   {
    "duration": 178,
    "start_time": "2023-01-24T06:04:49.826Z"
   },
   {
    "duration": 354,
    "start_time": "2023-01-24T06:04:50.008Z"
   },
   {
    "duration": 396,
    "start_time": "2023-01-24T06:04:50.364Z"
   },
   {
    "duration": 15,
    "start_time": "2023-01-24T06:04:50.762Z"
   },
   {
    "duration": 677,
    "start_time": "2023-01-24T06:04:50.779Z"
   },
   {
    "duration": 15,
    "start_time": "2023-01-24T06:04:51.458Z"
   },
   {
    "duration": 93,
    "start_time": "2023-01-24T06:04:51.475Z"
   },
   {
    "duration": 24,
    "start_time": "2023-01-24T06:04:51.572Z"
   },
   {
    "duration": 468,
    "start_time": "2023-01-24T06:04:51.598Z"
   },
   {
    "duration": 21,
    "start_time": "2023-01-24T06:04:52.068Z"
   },
   {
    "duration": 123,
    "start_time": "2023-01-24T06:04:52.091Z"
   },
   {
    "duration": 17,
    "start_time": "2023-01-24T06:04:52.218Z"
   },
   {
    "duration": 604,
    "start_time": "2023-01-24T06:04:52.236Z"
   },
   {
    "duration": 15,
    "start_time": "2023-01-24T06:04:52.842Z"
   },
   {
    "duration": 7,
    "start_time": "2023-01-24T06:05:08.933Z"
   },
   {
    "duration": 14,
    "start_time": "2023-01-24T06:05:14.398Z"
   },
   {
    "duration": 17,
    "start_time": "2023-01-24T06:05:48.141Z"
   },
   {
    "duration": 14,
    "start_time": "2023-01-24T06:07:01.295Z"
   },
   {
    "duration": 43,
    "start_time": "2023-01-24T06:07:29.794Z"
   },
   {
    "duration": 552,
    "start_time": "2023-01-24T06:07:37.644Z"
   },
   {
    "duration": 12,
    "start_time": "2023-01-24T06:08:13.306Z"
   },
   {
    "duration": 34,
    "start_time": "2023-01-24T06:08:29.200Z"
   },
   {
    "duration": 18,
    "start_time": "2023-01-24T06:08:30.284Z"
   },
   {
    "duration": 11,
    "start_time": "2023-01-24T06:08:41.908Z"
   },
   {
    "duration": 34,
    "start_time": "2023-01-24T06:08:43.995Z"
   },
   {
    "duration": 12,
    "start_time": "2023-01-24T06:08:44.500Z"
   },
   {
    "duration": 154,
    "start_time": "2023-01-24T06:08:55.489Z"
   },
   {
    "duration": 11,
    "start_time": "2023-01-24T06:09:09.107Z"
   },
   {
    "duration": 36,
    "start_time": "2023-01-24T06:09:26.094Z"
   },
   {
    "duration": 71,
    "start_time": "2023-01-24T06:10:02.362Z"
   },
   {
    "duration": 11,
    "start_time": "2023-01-24T06:10:04.401Z"
   },
   {
    "duration": 484,
    "start_time": "2023-01-24T06:10:12.125Z"
   },
   {
    "duration": 12,
    "start_time": "2023-01-24T06:10:33.880Z"
   },
   {
    "duration": 12,
    "start_time": "2023-01-24T06:10:47.856Z"
   },
   {
    "duration": 53,
    "start_time": "2023-01-24T06:12:59.013Z"
   },
   {
    "duration": 50,
    "start_time": "2023-01-24T06:13:04.283Z"
   },
   {
    "duration": 71,
    "start_time": "2023-01-24T06:13:26.812Z"
   },
   {
    "duration": 31,
    "start_time": "2023-01-24T06:13:49.282Z"
   },
   {
    "duration": 34,
    "start_time": "2023-01-24T06:16:18.880Z"
   },
   {
    "duration": 256,
    "start_time": "2023-01-24T06:16:40.293Z"
   },
   {
    "duration": 3562,
    "start_time": "2023-01-24T06:16:51.622Z"
   },
   {
    "duration": 62,
    "start_time": "2023-01-24T06:17:36.063Z"
   },
   {
    "duration": 3637,
    "start_time": "2023-01-24T06:17:58.194Z"
   },
   {
    "duration": 114,
    "start_time": "2023-01-24T06:18:40.124Z"
   },
   {
    "duration": 5,
    "start_time": "2023-01-24T06:19:11.987Z"
   },
   {
    "duration": 966,
    "start_time": "2023-01-24T06:19:14.028Z"
   },
   {
    "duration": 15,
    "start_time": "2023-01-24T06:19:15.001Z"
   },
   {
    "duration": 90,
    "start_time": "2023-01-24T06:19:15.018Z"
   },
   {
    "duration": 197,
    "start_time": "2023-01-24T06:19:15.440Z"
   },
   {
    "duration": 110,
    "start_time": "2023-01-24T06:19:16.073Z"
   },
   {
    "duration": 47,
    "start_time": "2023-01-24T06:19:16.982Z"
   },
   {
    "duration": 768,
    "start_time": "2023-01-24T06:19:17.488Z"
   },
   {
    "duration": 58,
    "start_time": "2023-01-24T06:20:31.780Z"
   },
   {
    "duration": 1518,
    "start_time": "2023-01-24T06:20:36.627Z"
   },
   {
    "duration": 1622,
    "start_time": "2023-01-24T06:20:39.785Z"
   },
   {
    "duration": 22,
    "start_time": "2023-01-24T06:20:42.087Z"
   },
   {
    "duration": 29,
    "start_time": "2023-01-24T06:20:43.349Z"
   },
   {
    "duration": 216,
    "start_time": "2023-01-24T06:20:44.241Z"
   },
   {
    "duration": 112,
    "start_time": "2023-01-24T06:20:45.630Z"
   },
   {
    "duration": 67,
    "start_time": "2023-01-24T06:20:57.618Z"
   },
   {
    "duration": 713,
    "start_time": "2023-01-24T06:21:04.314Z"
   },
   {
    "duration": 98217,
    "start_time": "2023-01-24T06:21:07.521Z"
   },
   {
    "duration": 4,
    "start_time": "2023-01-24T06:22:50.992Z"
   },
   {
    "duration": 156,
    "start_time": "2023-01-24T06:22:53.566Z"
   },
   {
    "duration": 5,
    "start_time": "2023-01-24T06:22:54.718Z"
   },
   {
    "duration": 337,
    "start_time": "2023-01-24T06:22:55.304Z"
   },
   {
    "duration": 23,
    "start_time": "2023-01-24T06:22:56.302Z"
   },
   {
    "duration": 61,
    "start_time": "2023-01-24T06:22:57.387Z"
   },
   {
    "duration": 317,
    "start_time": "2023-01-24T06:22:58.682Z"
   },
   {
    "duration": 377,
    "start_time": "2023-01-24T06:23:01.301Z"
   },
   {
    "duration": 345,
    "start_time": "2023-01-24T06:23:19.846Z"
   },
   {
    "duration": 140,
    "start_time": "2023-01-24T06:23:24.520Z"
   },
   {
    "duration": 350,
    "start_time": "2023-01-24T06:23:34.484Z"
   },
   {
    "duration": 383,
    "start_time": "2023-01-24T06:23:37.190Z"
   },
   {
    "duration": 59,
    "start_time": "2023-01-24T06:23:46.998Z"
   },
   {
    "duration": 539,
    "start_time": "2023-01-24T06:23:53.072Z"
   },
   {
    "duration": 17,
    "start_time": "2023-01-24T06:24:07.473Z"
   },
   {
    "duration": 34,
    "start_time": "2023-01-24T06:24:08.798Z"
   },
   {
    "duration": 11,
    "start_time": "2023-01-24T06:24:13.039Z"
   },
   {
    "duration": 449,
    "start_time": "2023-01-24T06:24:19.092Z"
   },
   {
    "duration": 23,
    "start_time": "2023-01-24T06:24:34.473Z"
   },
   {
    "duration": 96,
    "start_time": "2023-01-24T06:24:51.852Z"
   },
   {
    "duration": 15,
    "start_time": "2023-01-24T06:25:02.097Z"
   },
   {
    "duration": 566,
    "start_time": "2023-01-24T06:25:06.882Z"
   },
   {
    "duration": 9,
    "start_time": "2023-01-24T06:25:13.186Z"
   },
   {
    "duration": 16,
    "start_time": "2023-01-24T06:25:18.085Z"
   },
   {
    "duration": 72,
    "start_time": "2023-01-24T06:25:33.901Z"
   },
   {
    "duration": 25,
    "start_time": "2023-01-24T06:25:39.004Z"
   },
   {
    "duration": 4191,
    "start_time": "2023-01-24T06:25:48.222Z"
   },
   {
    "duration": 4169,
    "start_time": "2023-01-24T06:25:52.415Z"
   },
   {
    "duration": 126,
    "start_time": "2023-01-24T06:26:07.908Z"
   },
   {
    "duration": 12,
    "start_time": "2023-01-24T06:26:09.927Z"
   },
   {
    "duration": 14,
    "start_time": "2023-01-24T06:26:14.007Z"
   },
   {
    "duration": 3,
    "start_time": "2023-01-24T06:40:08.866Z"
   },
   {
    "duration": 1054,
    "start_time": "2023-01-24T06:55:10.039Z"
   },
   {
    "duration": 2287,
    "start_time": "2023-01-24T06:56:03.416Z"
   },
   {
    "duration": 1403,
    "start_time": "2023-01-24T06:56:14.904Z"
   },
   {
    "duration": 3,
    "start_time": "2023-01-24T06:57:56.331Z"
   },
   {
    "duration": 1583,
    "start_time": "2023-01-24T06:57:58.010Z"
   },
   {
    "duration": 1655,
    "start_time": "2023-01-24T06:58:24.680Z"
   },
   {
    "duration": 64,
    "start_time": "2023-01-24T06:59:20.401Z"
   },
   {
    "duration": 287,
    "start_time": "2023-01-24T07:00:25.468Z"
   },
   {
    "duration": 264,
    "start_time": "2023-01-24T07:00:30.917Z"
   },
   {
    "duration": 365,
    "start_time": "2023-01-24T07:00:37.495Z"
   },
   {
    "duration": 36,
    "start_time": "2023-01-24T07:01:38.502Z"
   },
   {
    "duration": 44,
    "start_time": "2023-01-24T07:02:27.366Z"
   },
   {
    "duration": 23,
    "start_time": "2023-01-24T07:02:51.195Z"
   },
   {
    "duration": 24,
    "start_time": "2023-01-24T07:03:26.362Z"
   },
   {
    "duration": 46,
    "start_time": "2023-01-24T07:09:00.868Z"
   },
   {
    "duration": 3,
    "start_time": "2023-01-24T07:09:34.277Z"
   },
   {
    "duration": 14,
    "start_time": "2023-01-24T07:14:13.076Z"
   },
   {
    "duration": 6,
    "start_time": "2023-01-24T07:14:56.346Z"
   },
   {
    "duration": 95403,
    "start_time": "2023-01-24T07:17:00.156Z"
   },
   {
    "duration": 5,
    "start_time": "2023-01-24T07:20:21.291Z"
   },
   {
    "duration": 5,
    "start_time": "2023-01-24T07:50:59.127Z"
   },
   {
    "duration": 758,
    "start_time": "2023-01-24T07:51:00.947Z"
   },
   {
    "duration": 13,
    "start_time": "2023-01-24T07:51:01.707Z"
   },
   {
    "duration": 15,
    "start_time": "2023-01-24T07:51:02.295Z"
   },
   {
    "duration": 133,
    "start_time": "2023-01-24T07:51:03.358Z"
   },
   {
    "duration": 97,
    "start_time": "2023-01-24T07:51:04.139Z"
   },
   {
    "duration": 32,
    "start_time": "2023-01-24T07:51:05.698Z"
   },
   {
    "duration": 554,
    "start_time": "2023-01-24T07:51:06.540Z"
   },
   {
    "duration": 84732,
    "start_time": "2023-01-24T07:51:07.913Z"
   },
   {
    "duration": 108,
    "start_time": "2023-01-24T07:52:32.654Z"
   },
   {
    "duration": 23,
    "start_time": "2023-01-24T07:52:32.763Z"
   },
   {
    "duration": 288,
    "start_time": "2023-01-24T07:52:32.788Z"
   },
   {
    "duration": 21,
    "start_time": "2023-01-24T07:52:33.077Z"
   },
   {
    "duration": 55,
    "start_time": "2023-01-24T07:52:33.100Z"
   },
   {
    "duration": 281,
    "start_time": "2023-01-24T07:52:33.157Z"
   },
   {
    "duration": 274,
    "start_time": "2023-01-24T07:52:33.439Z"
   },
   {
    "duration": 270,
    "start_time": "2023-01-24T07:52:33.715Z"
   },
   {
    "duration": 111,
    "start_time": "2023-01-24T07:52:33.987Z"
   },
   {
    "duration": 274,
    "start_time": "2023-01-24T07:52:34.100Z"
   },
   {
    "duration": 286,
    "start_time": "2023-01-24T07:52:34.376Z"
   },
   {
    "duration": 11,
    "start_time": "2023-01-24T07:52:34.663Z"
   },
   {
    "duration": 420,
    "start_time": "2023-01-24T07:52:34.676Z"
   },
   {
    "duration": 10,
    "start_time": "2023-01-24T07:52:35.097Z"
   },
   {
    "duration": 30,
    "start_time": "2023-01-24T07:52:35.108Z"
   },
   {
    "duration": 11,
    "start_time": "2023-01-24T07:52:35.153Z"
   },
   {
    "duration": 355,
    "start_time": "2023-01-24T07:52:35.166Z"
   },
   {
    "duration": 13,
    "start_time": "2023-01-24T07:52:35.523Z"
   },
   {
    "duration": 77,
    "start_time": "2023-01-24T07:52:35.538Z"
   },
   {
    "duration": 13,
    "start_time": "2023-01-24T07:52:35.617Z"
   },
   {
    "duration": 446,
    "start_time": "2023-01-24T07:52:35.631Z"
   },
   {
    "duration": 7,
    "start_time": "2023-01-24T07:52:36.078Z"
   },
   {
    "duration": 24,
    "start_time": "2023-01-24T07:52:36.087Z"
   },
   {
    "duration": 12,
    "start_time": "2023-01-24T07:52:36.113Z"
   },
   {
    "duration": 78,
    "start_time": "2023-01-24T07:52:36.127Z"
   },
   {
    "duration": 26,
    "start_time": "2023-01-24T07:52:36.207Z"
   },
   {
    "duration": 3250,
    "start_time": "2023-01-24T07:52:36.236Z"
   },
   {
    "duration": 3313,
    "start_time": "2023-01-24T07:52:39.489Z"
   },
   {
    "duration": 32,
    "start_time": "2023-01-24T07:52:42.804Z"
   },
   {
    "duration": 36,
    "start_time": "2023-01-24T07:52:42.838Z"
   },
   {
    "duration": 35,
    "start_time": "2023-01-24T07:52:42.875Z"
   },
   {
    "duration": 25,
    "start_time": "2023-01-24T07:52:42.912Z"
   },
   {
    "duration": 100,
    "start_time": "2023-01-24T07:52:42.953Z"
   },
   {
    "duration": 10,
    "start_time": "2023-01-24T07:52:43.055Z"
   },
   {
    "duration": 13,
    "start_time": "2023-01-24T07:52:43.067Z"
   },
   {
    "duration": 4,
    "start_time": "2023-01-24T07:52:43.081Z"
   },
   {
    "duration": 1744,
    "start_time": "2023-01-24T07:54:09.012Z"
   },
   {
    "duration": 50,
    "start_time": "2023-01-24T07:54:19.410Z"
   },
   {
    "duration": 10,
    "start_time": "2023-01-24T07:55:36.511Z"
   },
   {
    "duration": 9,
    "start_time": "2023-01-24T07:58:00.208Z"
   },
   {
    "duration": 7,
    "start_time": "2023-01-24T07:58:11.388Z"
   },
   {
    "duration": 88916,
    "start_time": "2023-01-24T07:58:52.862Z"
   },
   {
    "duration": 79,
    "start_time": "2023-01-24T08:00:21.780Z"
   },
   {
    "duration": 21822,
    "start_time": "2023-01-24T08:01:09.352Z"
   },
   {
    "duration": 104,
    "start_time": "2023-01-24T08:02:25.257Z"
   },
   {
    "duration": 11,
    "start_time": "2023-01-24T08:03:29.422Z"
   },
   {
    "duration": 7,
    "start_time": "2023-01-24T08:04:10.777Z"
   },
   {
    "duration": 46,
    "start_time": "2023-01-24T08:46:14.386Z"
   },
   {
    "duration": 5,
    "start_time": "2023-01-24T08:46:38.433Z"
   },
   {
    "duration": 376,
    "start_time": "2023-01-24T08:48:17.346Z"
   },
   {
    "duration": 43,
    "start_time": "2023-01-24T08:49:11.885Z"
   },
   {
    "duration": 27,
    "start_time": "2023-01-24T08:49:42.856Z"
   },
   {
    "duration": 10,
    "start_time": "2023-01-24T08:53:13.757Z"
   },
   {
    "duration": 3,
    "start_time": "2023-01-24T08:53:21.494Z"
   },
   {
    "duration": 69,
    "start_time": "2023-01-24T08:55:23.560Z"
   },
   {
    "duration": 50,
    "start_time": "2023-01-24T08:56:41.583Z"
   },
   {
    "duration": 6,
    "start_time": "2023-01-24T08:56:50.158Z"
   },
   {
    "duration": 351,
    "start_time": "2023-01-24T08:57:20.156Z"
   },
   {
    "duration": 29,
    "start_time": "2023-01-24T08:57:22.998Z"
   },
   {
    "duration": 3,
    "start_time": "2023-01-24T08:57:25.815Z"
   },
   {
    "duration": 1251,
    "start_time": "2023-01-24T08:57:28.402Z"
   },
   {
    "duration": 1313,
    "start_time": "2023-01-24T08:58:10.951Z"
   },
   {
    "duration": 170,
    "start_time": "2023-01-24T08:58:51.874Z"
   },
   {
    "duration": 1259,
    "start_time": "2023-01-24T08:58:59.572Z"
   },
   {
    "duration": 1381,
    "start_time": "2023-01-24T09:02:20.330Z"
   },
   {
    "duration": 5,
    "start_time": "2023-01-24T09:06:00.842Z"
   },
   {
    "duration": 358,
    "start_time": "2023-01-24T09:06:10.310Z"
   },
   {
    "duration": 30,
    "start_time": "2023-01-24T09:06:11.320Z"
   },
   {
    "duration": 3,
    "start_time": "2023-01-24T09:06:12.256Z"
   },
   {
    "duration": 7,
    "start_time": "2023-01-24T09:10:48.186Z"
   },
   {
    "duration": 14,
    "start_time": "2023-01-24T09:10:54.081Z"
   },
   {
    "duration": 88,
    "start_time": "2023-01-24T09:11:51.484Z"
   },
   {
    "duration": 84,
    "start_time": "2023-01-24T09:15:12.808Z"
   },
   {
    "duration": 26,
    "start_time": "2023-01-24T09:15:58.213Z"
   },
   {
    "duration": 73,
    "start_time": "2023-01-24T09:16:09.303Z"
   },
   {
    "duration": 102,
    "start_time": "2023-01-24T09:17:21.973Z"
   },
   {
    "duration": 33,
    "start_time": "2023-01-24T09:17:22.716Z"
   },
   {
    "duration": 300,
    "start_time": "2023-01-24T09:17:28.358Z"
   },
   {
    "duration": 20,
    "start_time": "2023-01-24T09:18:57.491Z"
   },
   {
    "duration": 14,
    "start_time": "2023-01-24T09:19:19.923Z"
   },
   {
    "duration": 8,
    "start_time": "2023-01-24T09:24:20.385Z"
   },
   {
    "duration": 35,
    "start_time": "2023-01-24T09:24:20.947Z"
   },
   {
    "duration": 313,
    "start_time": "2023-01-24T09:24:21.778Z"
   },
   {
    "duration": 37,
    "start_time": "2023-01-24T09:24:23.727Z"
   },
   {
    "duration": 57,
    "start_time": "2023-01-24T09:25:11.322Z"
   },
   {
    "duration": 7,
    "start_time": "2023-01-24T09:25:21.050Z"
   },
   {
    "duration": 52,
    "start_time": "2023-01-24T09:25:32.318Z"
   },
   {
    "duration": 82,
    "start_time": "2023-01-24T09:26:13.814Z"
   },
   {
    "duration": 1206,
    "start_time": "2023-01-24T09:28:43.581Z"
   },
   {
    "duration": 0,
    "start_time": "2023-01-24T09:28:44.789Z"
   },
   {
    "duration": 6,
    "start_time": "2023-01-24T09:29:03.619Z"
   },
   {
    "duration": 815,
    "start_time": "2023-01-24T09:29:05.282Z"
   },
   {
    "duration": 14,
    "start_time": "2023-01-24T09:29:06.099Z"
   },
   {
    "duration": 20,
    "start_time": "2023-01-24T09:29:06.548Z"
   },
   {
    "duration": 191,
    "start_time": "2023-01-24T09:29:07.379Z"
   },
   {
    "duration": 96,
    "start_time": "2023-01-24T09:29:07.899Z"
   },
   {
    "duration": 43,
    "start_time": "2023-01-24T09:29:08.845Z"
   },
   {
    "duration": 620,
    "start_time": "2023-01-24T09:29:09.473Z"
   },
   {
    "duration": 93036,
    "start_time": "2023-01-24T09:29:10.301Z"
   },
   {
    "duration": 139,
    "start_time": "2023-01-24T09:30:43.339Z"
   },
   {
    "duration": 6,
    "start_time": "2023-01-24T09:30:43.480Z"
   },
   {
    "duration": 324,
    "start_time": "2023-01-24T09:30:43.488Z"
   },
   {
    "duration": 22,
    "start_time": "2023-01-24T09:30:43.813Z"
   },
   {
    "duration": 69,
    "start_time": "2023-01-24T09:30:43.837Z"
   },
   {
    "duration": 287,
    "start_time": "2023-01-24T09:30:43.907Z"
   },
   {
    "duration": 291,
    "start_time": "2023-01-24T09:30:44.196Z"
   },
   {
    "duration": 291,
    "start_time": "2023-01-24T09:30:44.489Z"
   },
   {
    "duration": 117,
    "start_time": "2023-01-24T09:30:44.783Z"
   },
   {
    "duration": 306,
    "start_time": "2023-01-24T09:30:44.902Z"
   },
   {
    "duration": 350,
    "start_time": "2023-01-24T09:30:45.210Z"
   },
   {
    "duration": 13,
    "start_time": "2023-01-24T09:30:45.564Z"
   },
   {
    "duration": 540,
    "start_time": "2023-01-24T09:30:45.579Z"
   },
   {
    "duration": 12,
    "start_time": "2023-01-24T09:30:46.121Z"
   },
   {
    "duration": 55,
    "start_time": "2023-01-24T09:30:46.134Z"
   },
   {
    "duration": 11,
    "start_time": "2023-01-24T09:30:46.191Z"
   },
   {
    "duration": 398,
    "start_time": "2023-01-24T09:30:46.204Z"
   },
   {
    "duration": 15,
    "start_time": "2023-01-24T09:30:46.604Z"
   },
   {
    "duration": 96,
    "start_time": "2023-01-24T09:30:46.620Z"
   },
   {
    "duration": 16,
    "start_time": "2023-01-24T09:30:46.718Z"
   },
   {
    "duration": 489,
    "start_time": "2023-01-24T09:30:46.736Z"
   },
   {
    "duration": 7,
    "start_time": "2023-01-24T09:30:47.226Z"
   },
   {
    "duration": 34,
    "start_time": "2023-01-24T09:30:47.235Z"
   },
   {
    "duration": 13,
    "start_time": "2023-01-24T09:30:47.271Z"
   },
   {
    "duration": 88,
    "start_time": "2023-01-24T09:30:47.286Z"
   },
   {
    "duration": 26,
    "start_time": "2023-01-24T09:30:47.375Z"
   },
   {
    "duration": 3466,
    "start_time": "2023-01-24T09:30:47.404Z"
   },
   {
    "duration": 3345,
    "start_time": "2023-01-24T09:30:50.872Z"
   },
   {
    "duration": 42,
    "start_time": "2023-01-24T09:30:54.219Z"
   },
   {
    "duration": 25,
    "start_time": "2023-01-24T09:30:54.265Z"
   },
   {
    "duration": 33,
    "start_time": "2023-01-24T09:30:54.292Z"
   },
   {
    "duration": 48,
    "start_time": "2023-01-24T09:30:54.327Z"
   },
   {
    "duration": 92,
    "start_time": "2023-01-24T09:30:54.377Z"
   },
   {
    "duration": 14,
    "start_time": "2023-01-24T09:30:54.471Z"
   },
   {
    "duration": 14,
    "start_time": "2023-01-24T09:30:54.487Z"
   },
   {
    "duration": 6,
    "start_time": "2023-01-24T09:30:54.503Z"
   },
   {
    "duration": 1969,
    "start_time": "2023-01-24T09:30:54.510Z"
   },
   {
    "duration": 38,
    "start_time": "2023-01-24T09:30:56.481Z"
   },
   {
    "duration": 8,
    "start_time": "2023-01-24T09:30:56.521Z"
   },
   {
    "duration": 96,
    "start_time": "2023-01-24T09:31:35.027Z"
   },
   {
    "duration": 1767,
    "start_time": "2023-01-24T09:31:42.377Z"
   },
   {
    "duration": 1294,
    "start_time": "2023-01-24T09:31:47.503Z"
   },
   {
    "duration": 18,
    "start_time": "2023-01-24T09:31:48.799Z"
   },
   {
    "duration": 13,
    "start_time": "2023-01-24T09:31:48.819Z"
   },
   {
    "duration": 143,
    "start_time": "2023-01-24T09:31:50.930Z"
   },
   {
    "duration": 161,
    "start_time": "2023-01-24T09:31:51.608Z"
   },
   {
    "duration": 47,
    "start_time": "2023-01-24T09:31:53.178Z"
   },
   {
    "duration": 586,
    "start_time": "2023-01-24T09:31:53.603Z"
   },
   {
    "duration": 88408,
    "start_time": "2023-01-24T09:31:54.196Z"
   },
   {
    "duration": 109,
    "start_time": "2023-01-24T09:34:06.871Z"
   },
   {
    "duration": 4,
    "start_time": "2023-01-24T09:34:07.059Z"
   },
   {
    "duration": 508,
    "start_time": "2023-01-24T09:34:07.281Z"
   },
   {
    "duration": 23,
    "start_time": "2023-01-24T09:34:07.792Z"
   },
   {
    "duration": 50,
    "start_time": "2023-01-24T09:34:08.107Z"
   },
   {
    "duration": 280,
    "start_time": "2023-01-24T09:34:08.543Z"
   },
   {
    "duration": 277,
    "start_time": "2023-01-24T09:34:08.953Z"
   },
   {
    "duration": 304,
    "start_time": "2023-01-24T09:34:09.510Z"
   },
   {
    "duration": 105,
    "start_time": "2023-01-24T09:34:09.901Z"
   },
   {
    "duration": 270,
    "start_time": "2023-01-24T09:34:12.666Z"
   },
   {
    "duration": 285,
    "start_time": "2023-01-24T09:34:14.145Z"
   },
   {
    "duration": 68,
    "start_time": "2023-01-24T09:34:21.866Z"
   },
   {
    "duration": 470,
    "start_time": "2023-01-24T09:34:23.187Z"
   },
   {
    "duration": 11,
    "start_time": "2023-01-24T09:34:25.127Z"
   },
   {
    "duration": 39,
    "start_time": "2023-01-24T09:34:27.344Z"
   },
   {
    "duration": 11,
    "start_time": "2023-01-24T09:34:29.107Z"
   },
   {
    "duration": 376,
    "start_time": "2023-01-24T09:34:29.700Z"
   },
   {
    "duration": 17,
    "start_time": "2023-01-24T09:34:30.241Z"
   },
   {
    "duration": 86,
    "start_time": "2023-01-24T09:34:30.842Z"
   },
   {
    "duration": 20,
    "start_time": "2023-01-24T09:34:31.747Z"
   },
   {
    "duration": 442,
    "start_time": "2023-01-24T09:34:32.109Z"
   },
   {
    "duration": 9,
    "start_time": "2023-01-24T09:34:32.554Z"
   },
   {
    "duration": 14,
    "start_time": "2023-01-24T09:34:32.815Z"
   },
   {
    "duration": 14,
    "start_time": "2023-01-24T09:34:33.691Z"
   },
   {
    "duration": 64,
    "start_time": "2023-01-24T09:34:35.370Z"
   },
   {
    "duration": 36,
    "start_time": "2023-01-24T09:34:36.148Z"
   },
   {
    "duration": 3445,
    "start_time": "2023-01-24T09:34:36.713Z"
   },
   {
    "duration": 3317,
    "start_time": "2023-01-24T09:34:40.161Z"
   },
   {
    "duration": 43,
    "start_time": "2023-01-24T09:34:43.480Z"
   },
   {
    "duration": 45,
    "start_time": "2023-01-24T09:34:43.526Z"
   },
   {
    "duration": 33,
    "start_time": "2023-01-24T09:34:43.573Z"
   },
   {
    "duration": 23,
    "start_time": "2023-01-24T09:34:43.608Z"
   },
   {
    "duration": 106,
    "start_time": "2023-01-24T09:34:43.632Z"
   },
   {
    "duration": 23,
    "start_time": "2023-01-24T09:34:43.739Z"
   },
   {
    "duration": 17,
    "start_time": "2023-01-24T09:34:43.764Z"
   },
   {
    "duration": 4,
    "start_time": "2023-01-24T09:34:50.365Z"
   },
   {
    "duration": 1599,
    "start_time": "2023-01-24T09:34:51.394Z"
   },
   {
    "duration": 33,
    "start_time": "2023-01-24T09:34:52.994Z"
   },
   {
    "duration": 7,
    "start_time": "2023-01-24T09:34:55.835Z"
   },
   {
    "duration": 92464,
    "start_time": "2023-01-24T09:34:59.890Z"
   },
   {
    "duration": 8,
    "start_time": "2023-01-24T09:36:32.360Z"
   },
   {
    "duration": 22712,
    "start_time": "2023-01-24T09:36:32.453Z"
   },
   {
    "duration": 187,
    "start_time": "2023-01-24T09:36:55.168Z"
   },
   {
    "duration": 6,
    "start_time": "2023-01-24T09:36:55.357Z"
   },
   {
    "duration": 13623,
    "start_time": "2023-01-24T09:37:39.931Z"
   },
   {
    "duration": 278725,
    "start_time": "2023-01-24T09:41:12.639Z"
   },
   {
    "duration": 108,
    "start_time": "2023-01-24T09:47:58.171Z"
   },
   {
    "duration": 0,
    "start_time": "2023-01-24T09:58:14.599Z"
   },
   {
    "duration": 45472,
    "start_time": "2023-01-24T09:58:21.480Z"
   },
   {
    "duration": 887553,
    "start_time": "2023-01-24T10:01:23.570Z"
   },
   {
    "duration": 306,
    "start_time": "2023-01-24T10:16:11.125Z"
   },
   {
    "duration": 7,
    "start_time": "2023-01-24T10:16:19.867Z"
   },
   {
    "duration": 13,
    "start_time": "2023-01-24T10:16:25.900Z"
   },
   {
    "duration": 908,
    "start_time": "2023-01-24T10:16:27.241Z"
   },
   {
    "duration": 19,
    "start_time": "2023-01-24T10:16:28.153Z"
   },
   {
    "duration": 13,
    "start_time": "2023-01-24T10:16:29.299Z"
   },
   {
    "duration": 149,
    "start_time": "2023-01-24T10:16:30.443Z"
   },
   {
    "duration": 89,
    "start_time": "2023-01-24T10:16:32.985Z"
   },
   {
    "duration": 43,
    "start_time": "2023-01-24T10:16:37.771Z"
   },
   {
    "duration": 2761,
    "start_time": "2023-01-24T10:16:38.888Z"
   },
   {
    "duration": 121,
    "start_time": "2023-01-24T10:16:43.827Z"
   },
   {
    "duration": 4,
    "start_time": "2023-01-24T10:16:44.418Z"
   },
   {
    "duration": 313,
    "start_time": "2023-01-24T10:16:44.741Z"
   },
   {
    "duration": 22,
    "start_time": "2023-01-24T10:16:45.318Z"
   },
   {
    "duration": 55,
    "start_time": "2023-01-24T10:16:46.386Z"
   },
   {
    "duration": 289,
    "start_time": "2023-01-24T10:16:47.266Z"
   },
   {
    "duration": 288,
    "start_time": "2023-01-24T10:16:48.422Z"
   },
   {
    "duration": 282,
    "start_time": "2023-01-24T10:16:49.331Z"
   },
   {
    "duration": 116,
    "start_time": "2023-01-24T10:16:49.972Z"
   },
   {
    "duration": 278,
    "start_time": "2023-01-24T10:16:52.077Z"
   },
   {
    "duration": 329,
    "start_time": "2023-01-24T10:16:52.766Z"
   },
   {
    "duration": 16,
    "start_time": "2023-01-24T10:16:53.952Z"
   },
   {
    "duration": 497,
    "start_time": "2023-01-24T10:16:54.929Z"
   },
   {
    "duration": 14,
    "start_time": "2023-01-24T10:16:56.851Z"
   },
   {
    "duration": 38,
    "start_time": "2023-01-24T10:16:57.338Z"
   },
   {
    "duration": 10,
    "start_time": "2023-01-24T10:16:58.618Z"
   },
   {
    "duration": 401,
    "start_time": "2023-01-24T10:16:59.594Z"
   },
   {
    "duration": 15,
    "start_time": "2023-01-24T10:17:02.191Z"
   },
   {
    "duration": 78,
    "start_time": "2023-01-24T10:17:02.766Z"
   },
   {
    "duration": 14,
    "start_time": "2023-01-24T10:17:03.792Z"
   },
   {
    "duration": 534,
    "start_time": "2023-01-24T10:17:05.866Z"
   },
   {
    "duration": 6,
    "start_time": "2023-01-24T10:17:08.769Z"
   },
   {
    "duration": 14,
    "start_time": "2023-01-24T10:17:09.398Z"
   },
   {
    "duration": 14,
    "start_time": "2023-01-24T10:17:10.109Z"
   },
   {
    "duration": 74,
    "start_time": "2023-01-24T10:17:16.133Z"
   },
   {
    "duration": 28,
    "start_time": "2023-01-24T10:17:17.074Z"
   },
   {
    "duration": 3469,
    "start_time": "2023-01-24T10:17:18.475Z"
   },
   {
    "duration": 3486,
    "start_time": "2023-01-24T10:17:21.946Z"
   },
   {
    "duration": 48,
    "start_time": "2023-01-24T10:17:25.434Z"
   },
   {
    "duration": 54,
    "start_time": "2023-01-24T10:17:25.483Z"
   },
   {
    "duration": 38,
    "start_time": "2023-01-24T10:17:30.876Z"
   },
   {
    "duration": 37,
    "start_time": "2023-01-24T10:17:31.401Z"
   },
   {
    "duration": 101,
    "start_time": "2023-01-24T10:17:32.450Z"
   },
   {
    "duration": 12,
    "start_time": "2023-01-24T10:17:34.021Z"
   },
   {
    "duration": 14,
    "start_time": "2023-01-24T10:17:36.119Z"
   },
   {
    "duration": 5,
    "start_time": "2023-01-24T10:18:39.116Z"
   },
   {
    "duration": 298,
    "start_time": "2023-01-24T10:18:39.767Z"
   },
   {
    "duration": 24,
    "start_time": "2023-01-24T10:19:16.932Z"
   },
   {
    "duration": 18,
    "start_time": "2023-01-24T10:20:34.251Z"
   },
   {
    "duration": 765,
    "start_time": "2023-01-24T10:21:55.178Z"
   },
   {
    "duration": 29,
    "start_time": "2023-01-24T10:21:56.136Z"
   },
   {
    "duration": 827,
    "start_time": "2023-01-24T10:22:03.692Z"
   },
   {
    "duration": 22,
    "start_time": "2023-01-24T10:22:05.017Z"
   },
   {
    "duration": 3,
    "start_time": "2023-01-24T10:22:17.321Z"
   },
   {
    "duration": 284,
    "start_time": "2023-01-24T10:22:18.253Z"
   },
   {
    "duration": 21,
    "start_time": "2023-01-24T10:22:19.498Z"
   },
   {
    "duration": 822,
    "start_time": "2023-01-24T10:23:11.521Z"
   },
   {
    "duration": 33,
    "start_time": "2023-01-24T10:23:15.677Z"
   },
   {
    "duration": 151,
    "start_time": "2023-01-24T10:23:41.216Z"
   },
   {
    "duration": 37,
    "start_time": "2023-01-24T10:23:42.402Z"
   },
   {
    "duration": 452,
    "start_time": "2023-01-24T10:23:52.235Z"
   },
   {
    "duration": 36,
    "start_time": "2023-01-24T10:23:52.977Z"
   },
   {
    "duration": 37,
    "start_time": "2023-01-24T10:26:05.705Z"
   },
   {
    "duration": 7,
    "start_time": "2023-01-24T10:26:11.111Z"
   },
   {
    "duration": 2645,
    "start_time": "2023-01-24T10:26:16.318Z"
   },
   {
    "duration": 4,
    "start_time": "2023-01-24T10:26:23.104Z"
   },
   {
    "duration": 2207,
    "start_time": "2023-01-24T10:36:51.877Z"
   },
   {
    "duration": 1367,
    "start_time": "2023-01-24T10:36:55.444Z"
   },
   {
    "duration": 19,
    "start_time": "2023-01-24T10:36:56.813Z"
   },
   {
    "duration": 16,
    "start_time": "2023-01-24T10:36:56.835Z"
   },
   {
    "duration": 171,
    "start_time": "2023-01-24T10:36:56.853Z"
   },
   {
    "duration": 104,
    "start_time": "2023-01-24T10:36:57.804Z"
   },
   {
    "duration": 57,
    "start_time": "2023-01-24T10:36:59.785Z"
   },
   {
    "duration": 682,
    "start_time": "2023-01-24T10:37:01.633Z"
   },
   {
    "duration": 120,
    "start_time": "2023-01-24T10:37:06.945Z"
   },
   {
    "duration": 4,
    "start_time": "2023-01-24T10:37:07.305Z"
   },
   {
    "duration": 415,
    "start_time": "2023-01-24T10:37:07.719Z"
   },
   {
    "duration": 28,
    "start_time": "2023-01-24T10:37:08.781Z"
   },
   {
    "duration": 83,
    "start_time": "2023-01-24T10:37:09.437Z"
   },
   {
    "duration": 303,
    "start_time": "2023-01-24T10:37:10.606Z"
   },
   {
    "duration": 297,
    "start_time": "2023-01-24T10:37:11.139Z"
   },
   {
    "duration": 275,
    "start_time": "2023-01-24T10:37:11.689Z"
   },
   {
    "duration": 131,
    "start_time": "2023-01-24T10:37:12.029Z"
   },
   {
    "duration": 307,
    "start_time": "2023-01-24T10:37:13.681Z"
   },
   {
    "duration": 340,
    "start_time": "2023-01-24T10:37:14.782Z"
   },
   {
    "duration": 49,
    "start_time": "2023-01-24T10:37:16.209Z"
   },
   {
    "duration": 546,
    "start_time": "2023-01-24T10:37:16.786Z"
   },
   {
    "duration": 10,
    "start_time": "2023-01-24T10:37:17.915Z"
   },
   {
    "duration": 36,
    "start_time": "2023-01-24T10:37:18.308Z"
   },
   {
    "duration": 12,
    "start_time": "2023-01-24T10:37:18.956Z"
   },
   {
    "duration": 398,
    "start_time": "2023-01-24T10:37:19.327Z"
   },
   {
    "duration": 16,
    "start_time": "2023-01-24T10:37:20.081Z"
   },
   {
    "duration": 82,
    "start_time": "2023-01-24T10:37:21.481Z"
   },
   {
    "duration": 17,
    "start_time": "2023-01-24T10:37:22.839Z"
   },
   {
    "duration": 475,
    "start_time": "2023-01-24T10:37:23.281Z"
   },
   {
    "duration": 7,
    "start_time": "2023-01-24T10:37:23.882Z"
   },
   {
    "duration": 13,
    "start_time": "2023-01-24T10:37:24.485Z"
   },
   {
    "duration": 14,
    "start_time": "2023-01-24T10:37:24.942Z"
   },
   {
    "duration": 64,
    "start_time": "2023-01-24T10:37:26.348Z"
   },
   {
    "duration": 28,
    "start_time": "2023-01-24T10:37:28.333Z"
   },
   {
    "duration": 3504,
    "start_time": "2023-01-24T10:37:30.606Z"
   },
   {
    "duration": 3439,
    "start_time": "2023-01-24T10:37:35.958Z"
   },
   {
    "duration": 36,
    "start_time": "2023-01-24T10:37:39.399Z"
   },
   {
    "duration": 37,
    "start_time": "2023-01-24T10:37:39.436Z"
   },
   {
    "duration": 43,
    "start_time": "2023-01-24T10:37:39.475Z"
   },
   {
    "duration": 33,
    "start_time": "2023-01-24T10:37:39.520Z"
   },
   {
    "duration": 158,
    "start_time": "2023-01-24T10:37:55.080Z"
   },
   {
    "duration": 43,
    "start_time": "2023-01-24T10:37:59.135Z"
   },
   {
    "duration": 26,
    "start_time": "2023-01-24T10:38:11.337Z"
   },
   {
    "duration": 41,
    "start_time": "2023-01-24T10:38:59.186Z"
   },
   {
    "duration": 23,
    "start_time": "2023-01-24T10:39:24.718Z"
   },
   {
    "duration": 87,
    "start_time": "2023-01-24T10:41:43.236Z"
   },
   {
    "duration": 12,
    "start_time": "2023-01-24T10:41:44.030Z"
   },
   {
    "duration": 13,
    "start_time": "2023-01-24T10:41:44.539Z"
   },
   {
    "duration": 3,
    "start_time": "2023-01-24T10:41:58.797Z"
   },
   {
    "duration": 294,
    "start_time": "2023-01-24T10:42:10.138Z"
   },
   {
    "duration": 23,
    "start_time": "2023-01-24T10:42:11.052Z"
   },
   {
    "duration": 826,
    "start_time": "2023-01-24T10:43:33.631Z"
   },
   {
    "duration": 22,
    "start_time": "2023-01-24T10:43:34.584Z"
   },
   {
    "duration": 2,
    "start_time": "2023-01-24T10:43:42.089Z"
   },
   {
    "duration": 263,
    "start_time": "2023-01-24T10:43:42.801Z"
   },
   {
    "duration": 21,
    "start_time": "2023-01-24T10:43:43.949Z"
   },
   {
    "duration": 447,
    "start_time": "2023-01-24T10:43:56.881Z"
   },
   {
    "duration": 40,
    "start_time": "2023-01-24T10:43:59.191Z"
   },
   {
    "duration": 446,
    "start_time": "2023-01-24T10:44:32.029Z"
   },
   {
    "duration": 39,
    "start_time": "2023-01-24T10:44:35.209Z"
   },
   {
    "duration": 14,
    "start_time": "2023-01-24T10:44:47.057Z"
   },
   {
    "duration": 12,
    "start_time": "2023-01-24T10:45:40.837Z"
   },
   {
    "duration": 11,
    "start_time": "2023-01-24T10:45:47.455Z"
   },
   {
    "duration": 7,
    "start_time": "2023-01-24T10:45:55.810Z"
   },
   {
    "duration": 2550,
    "start_time": "2023-01-24T10:45:59.241Z"
   },
   {
    "duration": 4,
    "start_time": "2023-01-24T10:46:06.334Z"
   },
   {
    "duration": 451,
    "start_time": "2023-01-24T10:46:08.935Z"
   },
   {
    "duration": 15,
    "start_time": "2023-01-24T10:46:12.576Z"
   },
   {
    "duration": 5,
    "start_time": "2023-01-24T10:46:16.504Z"
   },
   {
    "duration": 78105,
    "start_time": "2023-01-24T10:47:03.584Z"
   },
   {
    "duration": 54403,
    "start_time": "2023-01-24T10:49:17.883Z"
   },
   {
    "duration": 499,
    "start_time": "2023-01-24T10:51:18.787Z"
   },
   {
    "duration": 15404,
    "start_time": "2023-01-24T10:51:57.882Z"
   },
   {
    "duration": 24000,
    "start_time": "2023-01-24T10:52:47.487Z"
   },
   {
    "duration": 25947,
    "start_time": "2023-01-24T10:53:35.911Z"
   },
   {
    "duration": 43306,
    "start_time": "2023-01-24T10:54:05.282Z"
   },
   {
    "duration": 46524,
    "start_time": "2023-01-24T10:54:59.670Z"
   },
   {
    "duration": 22951,
    "start_time": "2023-01-24T10:55:57.338Z"
   },
   {
    "duration": 21356,
    "start_time": "2023-01-24T10:56:41.134Z"
   },
   {
    "duration": 21790,
    "start_time": "2023-01-24T10:57:26.102Z"
   },
   {
    "duration": 8607,
    "start_time": "2023-01-24T10:57:51.579Z"
   },
   {
    "duration": 12,
    "start_time": "2023-01-24T10:58:32.482Z"
   },
   {
    "duration": 6,
    "start_time": "2023-01-24T10:59:16.044Z"
   },
   {
    "duration": 5,
    "start_time": "2023-01-24T10:59:28.447Z"
   },
   {
    "duration": 386100,
    "start_time": "2023-01-24T11:01:17.391Z"
   },
   {
    "duration": 4,
    "start_time": "2023-01-24T11:08:06.081Z"
   },
   {
    "duration": 4,
    "start_time": "2023-01-24T11:08:13.881Z"
   },
   {
    "duration": 146275,
    "start_time": "2023-01-24T11:08:54.210Z"
   },
   {
    "duration": 89,
    "start_time": "2023-01-24T11:30:49.711Z"
   },
   {
    "duration": 2085,
    "start_time": "2023-01-24T11:30:57.388Z"
   },
   {
    "duration": 1484,
    "start_time": "2023-01-24T11:31:03.327Z"
   },
   {
    "duration": 20,
    "start_time": "2023-01-24T11:31:04.813Z"
   },
   {
    "duration": 19,
    "start_time": "2023-01-24T11:31:04.835Z"
   },
   {
    "duration": 265,
    "start_time": "2023-01-24T11:31:04.856Z"
   },
   {
    "duration": 123,
    "start_time": "2023-01-24T11:31:05.178Z"
   },
   {
    "duration": 56,
    "start_time": "2023-01-24T11:31:06.878Z"
   },
   {
    "duration": 833,
    "start_time": "2023-01-24T11:31:07.723Z"
   },
   {
    "duration": 96343,
    "start_time": "2023-01-24T11:31:08.559Z"
   },
   {
    "duration": 118,
    "start_time": "2023-01-24T11:32:44.906Z"
   },
   {
    "duration": 300,
    "start_time": "2023-01-24T11:32:45.044Z"
   },
   {
    "duration": 37,
    "start_time": "2023-01-24T11:32:45.352Z"
   },
   {
    "duration": 47,
    "start_time": "2023-01-24T11:32:45.390Z"
   },
   {
    "duration": 335,
    "start_time": "2023-01-24T11:32:45.439Z"
   },
   {
    "duration": 342,
    "start_time": "2023-01-24T11:32:45.777Z"
   },
   {
    "duration": 328,
    "start_time": "2023-01-24T11:32:46.121Z"
   },
   {
    "duration": 143,
    "start_time": "2023-01-24T11:32:46.453Z"
   },
   {
    "duration": 390,
    "start_time": "2023-01-24T11:32:46.598Z"
   },
   {
    "duration": 342,
    "start_time": "2023-01-24T11:32:46.990Z"
   },
   {
    "duration": 6,
    "start_time": "2023-01-24T11:32:48.110Z"
   },
   {
    "duration": 17,
    "start_time": "2023-01-24T11:32:48.119Z"
   },
   {
    "duration": 519,
    "start_time": "2023-01-24T11:32:48.156Z"
   },
   {
    "duration": 12,
    "start_time": "2023-01-24T11:32:48.677Z"
   },
   {
    "duration": 38,
    "start_time": "2023-01-24T11:32:48.691Z"
   },
   {
    "duration": 41,
    "start_time": "2023-01-24T11:32:48.731Z"
   },
   {
    "duration": 400,
    "start_time": "2023-01-24T11:32:48.781Z"
   },
   {
    "duration": 21,
    "start_time": "2023-01-24T11:32:49.184Z"
   },
   {
    "duration": 105,
    "start_time": "2023-01-24T11:32:49.207Z"
   },
   {
    "duration": 16,
    "start_time": "2023-01-24T11:32:49.314Z"
   },
   {
    "duration": 600,
    "start_time": "2023-01-24T11:32:49.332Z"
   },
   {
    "duration": 8,
    "start_time": "2023-01-24T11:32:49.934Z"
   },
   {
    "duration": 37,
    "start_time": "2023-01-24T11:32:49.959Z"
   },
   {
    "duration": 13,
    "start_time": "2023-01-24T11:32:49.998Z"
   },
   {
    "duration": 83,
    "start_time": "2023-01-24T11:32:50.012Z"
   },
   {
    "duration": 28,
    "start_time": "2023-01-24T11:32:50.123Z"
   },
   {
    "duration": 3581,
    "start_time": "2023-01-24T11:32:50.155Z"
   },
   {
    "duration": 3979,
    "start_time": "2023-01-24T11:32:53.738Z"
   },
   {
    "duration": 67,
    "start_time": "2023-01-24T11:32:57.720Z"
   },
   {
    "duration": 77,
    "start_time": "2023-01-24T11:32:57.790Z"
   },
   {
    "duration": 33,
    "start_time": "2023-01-24T11:32:57.878Z"
   },
   {
    "duration": 36,
    "start_time": "2023-01-24T11:32:57.914Z"
   },
   {
    "duration": 87,
    "start_time": "2023-01-24T11:33:13.391Z"
   },
   {
    "duration": 12,
    "start_time": "2023-01-24T11:33:16.399Z"
   },
   {
    "duration": 12,
    "start_time": "2023-01-24T11:33:17.381Z"
   },
   {
    "duration": 128,
    "start_time": "2023-01-24T11:33:59.224Z"
   },
   {
    "duration": 3,
    "start_time": "2023-01-24T11:34:02.299Z"
   },
   {
    "duration": 421,
    "start_time": "2023-01-24T11:34:03.179Z"
   },
   {
    "duration": 23,
    "start_time": "2023-01-24T11:34:04.810Z"
   },
   {
    "duration": 5,
    "start_time": "2023-01-24T11:34:34.231Z"
   },
   {
    "duration": 333,
    "start_time": "2023-01-24T11:34:35.079Z"
   },
   {
    "duration": 20,
    "start_time": "2023-01-24T11:34:35.925Z"
   },
   {
    "duration": 508,
    "start_time": "2023-01-24T11:35:01.885Z"
   },
   {
    "duration": 41,
    "start_time": "2023-01-24T11:35:08.581Z"
   },
   {
    "duration": 7,
    "start_time": "2023-01-24T11:35:12.123Z"
   },
   {
    "duration": 2442,
    "start_time": "2023-01-24T11:35:14.117Z"
   },
   {
    "duration": 4,
    "start_time": "2023-01-24T11:35:18.734Z"
   },
   {
    "duration": 432,
    "start_time": "2023-01-24T11:35:20.954Z"
   },
   {
    "duration": 14,
    "start_time": "2023-01-24T11:35:24.196Z"
   },
   {
    "duration": 6,
    "start_time": "2023-01-24T11:35:27.414Z"
   },
   {
    "duration": 102,
    "start_time": "2023-01-24T11:35:42.337Z"
   },
   {
    "duration": 48524,
    "start_time": "2023-01-24T11:36:19.669Z"
   },
   {
    "duration": 487,
    "start_time": "2023-01-24T11:37:32.027Z"
   },
   {
    "duration": 35,
    "start_time": "2023-01-24T11:37:38.591Z"
   },
   {
    "duration": 6,
    "start_time": "2023-01-24T11:37:43.607Z"
   },
   {
    "duration": 2306,
    "start_time": "2023-01-24T11:37:48.866Z"
   },
   {
    "duration": 4,
    "start_time": "2023-01-24T11:37:53.629Z"
   },
   {
    "duration": 356,
    "start_time": "2023-01-24T11:37:56.005Z"
   },
   {
    "duration": 303118,
    "start_time": "2023-01-24T11:38:07.941Z"
   },
   {
    "duration": 6901,
    "start_time": "2023-01-24T11:43:11.061Z"
   },
   {
    "duration": 104,
    "start_time": "2023-01-24T11:43:18.055Z"
   },
   {
    "duration": 93,
    "start_time": "2023-01-24T11:43:18.162Z"
   },
   {
    "duration": 6,
    "start_time": "2023-01-24T11:44:09.724Z"
   },
   {
    "duration": 544639,
    "start_time": "2023-01-24T11:44:24.621Z"
   },
   {
    "duration": 3,
    "start_time": "2023-01-24T11:53:29.262Z"
   },
   {
    "duration": 9,
    "start_time": "2023-01-24T11:53:29.267Z"
   },
   {
    "duration": 4,
    "start_time": "2023-01-24T11:59:04.880Z"
   },
   {
    "duration": 45,
    "start_time": "2023-01-24T12:01:07.727Z"
   },
   {
    "duration": 28,
    "start_time": "2023-01-24T12:01:15.249Z"
   },
   {
    "duration": 25,
    "start_time": "2023-01-24T12:01:29.430Z"
   },
   {
    "duration": 24,
    "start_time": "2023-01-24T12:02:13.260Z"
   },
   {
    "duration": 60465,
    "start_time": "2023-01-24T12:03:45.897Z"
   },
   {
    "duration": 416,
    "start_time": "2023-01-24T12:05:11.259Z"
   },
   {
    "duration": 4,
    "start_time": "2023-01-24T12:07:21.168Z"
   },
   {
    "duration": 5,
    "start_time": "2023-01-24T12:07:25.964Z"
   },
   {
    "duration": 2,
    "start_time": "2023-01-24T12:10:16.340Z"
   },
   {
    "duration": 55,
    "start_time": "2023-01-24T12:10:31.734Z"
   },
   {
    "duration": 3,
    "start_time": "2023-01-24T12:15:23.503Z"
   },
   {
    "duration": 4,
    "start_time": "2023-01-24T12:17:14.020Z"
   },
   {
    "duration": 46,
    "start_time": "2023-01-24T12:31:41.532Z"
   },
   {
    "duration": 4,
    "start_time": "2023-01-24T12:31:48.822Z"
   },
   {
    "duration": 54,
    "start_time": "2023-01-24T12:32:24.107Z"
   },
   {
    "duration": 40,
    "start_time": "2023-01-24T12:32:50.188Z"
   },
   {
    "duration": 1567,
    "start_time": "2023-01-25T02:29:48.084Z"
   },
   {
    "duration": 3025,
    "start_time": "2023-01-25T02:29:54.226Z"
   },
   {
    "duration": 17,
    "start_time": "2023-01-25T02:29:57.253Z"
   },
   {
    "duration": 13,
    "start_time": "2023-01-25T02:29:59.403Z"
   },
   {
    "duration": 14,
    "start_time": "2023-01-25T02:30:02.602Z"
   },
   {
    "duration": 112,
    "start_time": "2023-01-25T02:30:05.129Z"
   },
   {
    "duration": 85,
    "start_time": "2023-01-25T02:30:10.551Z"
   },
   {
    "duration": 53,
    "start_time": "2023-01-25T02:30:15.921Z"
   },
   {
    "duration": 523,
    "start_time": "2023-01-25T02:30:16.811Z"
   },
   {
    "duration": 78302,
    "start_time": "2023-01-25T02:30:20.391Z"
   },
   {
    "duration": 87,
    "start_time": "2023-01-25T02:32:09.299Z"
   },
   {
    "duration": 4,
    "start_time": "2023-01-25T02:32:14.665Z"
   },
   {
    "duration": 239,
    "start_time": "2023-01-25T02:32:15.273Z"
   },
   {
    "duration": 21,
    "start_time": "2023-01-25T02:32:21.580Z"
   },
   {
    "duration": 45,
    "start_time": "2023-01-25T02:32:22.762Z"
   },
   {
    "duration": 246,
    "start_time": "2023-01-25T02:32:23.717Z"
   },
   {
    "duration": 230,
    "start_time": "2023-01-25T02:32:57.350Z"
   },
   {
    "duration": 227,
    "start_time": "2023-01-25T02:32:58.943Z"
   },
   {
    "duration": 236,
    "start_time": "2023-01-25T02:33:19.280Z"
   },
   {
    "duration": 230,
    "start_time": "2023-01-25T02:33:31.800Z"
   },
   {
    "duration": 82,
    "start_time": "2023-01-25T02:33:32.999Z"
   },
   {
    "duration": 252,
    "start_time": "2023-01-25T02:33:39.273Z"
   },
   {
    "duration": 278,
    "start_time": "2023-01-25T02:33:41.378Z"
   },
   {
    "duration": 44,
    "start_time": "2023-01-25T02:33:43.546Z"
   },
   {
    "duration": 370,
    "start_time": "2023-01-25T02:33:47.782Z"
   },
   {
    "duration": 11,
    "start_time": "2023-01-25T02:34:22.364Z"
   },
   {
    "duration": 37,
    "start_time": "2023-01-25T02:34:23.184Z"
   },
   {
    "duration": 10,
    "start_time": "2023-01-25T02:34:36.048Z"
   },
   {
    "duration": 291,
    "start_time": "2023-01-25T02:34:39.973Z"
   },
   {
    "duration": 14,
    "start_time": "2023-01-25T02:34:56.194Z"
   },
   {
    "duration": 15,
    "start_time": "2023-01-25T02:35:27.968Z"
   },
   {
    "duration": 73,
    "start_time": "2023-01-25T02:36:06.969Z"
   },
   {
    "duration": 15,
    "start_time": "2023-01-25T02:36:16.305Z"
   },
   {
    "duration": 387,
    "start_time": "2023-01-25T02:36:20.286Z"
   },
   {
    "duration": 341,
    "start_time": "2023-01-25T02:36:37.979Z"
   },
   {
    "duration": 7,
    "start_time": "2023-01-25T02:37:01.111Z"
   },
   {
    "duration": 19,
    "start_time": "2023-01-25T02:37:14.500Z"
   },
   {
    "duration": 11,
    "start_time": "2023-01-25T02:37:15.350Z"
   },
   {
    "duration": 66,
    "start_time": "2023-01-25T02:37:18.774Z"
   },
   {
    "duration": 23,
    "start_time": "2023-01-25T02:37:25.077Z"
   },
   {
    "duration": 3010,
    "start_time": "2023-01-25T02:38:41.420Z"
   },
   {
    "duration": 2923,
    "start_time": "2023-01-25T02:39:00.173Z"
   },
   {
    "duration": 28,
    "start_time": "2023-01-25T02:39:04.078Z"
   },
   {
    "duration": 36,
    "start_time": "2023-01-25T02:39:04.838Z"
   },
   {
    "duration": 21,
    "start_time": "2023-01-25T02:39:07.332Z"
   },
   {
    "duration": 20,
    "start_time": "2023-01-25T02:39:08.152Z"
   },
   {
    "duration": 64,
    "start_time": "2023-01-25T02:39:17.274Z"
   },
   {
    "duration": 11,
    "start_time": "2023-01-25T02:39:20.506Z"
   },
   {
    "duration": 11,
    "start_time": "2023-01-25T02:39:23.768Z"
   },
   {
    "duration": 2,
    "start_time": "2023-01-25T02:41:13.808Z"
   },
   {
    "duration": 2279,
    "start_time": "2023-01-25T02:41:19.356Z"
   },
   {
    "duration": 18,
    "start_time": "2023-01-25T02:41:21.841Z"
   },
   {
    "duration": 264,
    "start_time": "2023-01-25T02:41:59.240Z"
   },
   {
    "duration": 448,
    "start_time": "2023-01-25T02:42:11.694Z"
   },
   {
    "duration": 441,
    "start_time": "2023-01-25T02:42:30.916Z"
   },
   {
    "duration": 699,
    "start_time": "2023-01-25T02:42:51.262Z"
   },
   {
    "duration": 13,
    "start_time": "2023-01-25T02:42:51.963Z"
   },
   {
    "duration": 13,
    "start_time": "2023-01-25T02:42:52.242Z"
   },
   {
    "duration": 104,
    "start_time": "2023-01-25T02:42:54.311Z"
   },
   {
    "duration": 80,
    "start_time": "2023-01-25T02:42:54.794Z"
   },
   {
    "duration": 39,
    "start_time": "2023-01-25T02:42:58.148Z"
   },
   {
    "duration": 509,
    "start_time": "2023-01-25T02:43:02.448Z"
   },
   {
    "duration": 81470,
    "start_time": "2023-01-25T02:43:04.412Z"
   },
   {
    "duration": 86,
    "start_time": "2023-01-25T02:44:40.631Z"
   },
   {
    "duration": 4,
    "start_time": "2023-01-25T02:44:41.072Z"
   },
   {
    "duration": 247,
    "start_time": "2023-01-25T02:44:41.948Z"
   },
   {
    "duration": 242,
    "start_time": "2023-01-25T02:44:47.889Z"
   },
   {
    "duration": 19,
    "start_time": "2023-01-25T02:44:49.518Z"
   },
   {
    "duration": 46,
    "start_time": "2023-01-25T02:44:55.654Z"
   },
   {
    "duration": 251,
    "start_time": "2023-01-25T02:44:57.604Z"
   },
   {
    "duration": 260,
    "start_time": "2023-01-25T02:45:02.890Z"
   },
   {
    "duration": 241,
    "start_time": "2023-01-25T02:45:04.616Z"
   },
   {
    "duration": 84,
    "start_time": "2023-01-25T02:45:07.151Z"
   },
   {
    "duration": 261,
    "start_time": "2023-01-25T02:45:08.144Z"
   },
   {
    "duration": 265,
    "start_time": "2023-01-25T02:45:08.764Z"
   },
   {
    "duration": 10,
    "start_time": "2023-01-25T02:45:09.761Z"
   },
   {
    "duration": 373,
    "start_time": "2023-01-25T02:45:10.192Z"
   },
   {
    "duration": 11,
    "start_time": "2023-01-25T02:45:12.193Z"
   },
   {
    "duration": 32,
    "start_time": "2023-01-25T02:45:12.546Z"
   },
   {
    "duration": 10,
    "start_time": "2023-01-25T02:45:13.066Z"
   },
   {
    "duration": 282,
    "start_time": "2023-01-25T02:45:13.371Z"
   },
   {
    "duration": 15,
    "start_time": "2023-01-25T02:45:14.201Z"
   },
   {
    "duration": 73,
    "start_time": "2023-01-25T02:45:14.943Z"
   },
   {
    "duration": 16,
    "start_time": "2023-01-25T02:45:16.667Z"
   },
   {
    "duration": 338,
    "start_time": "2023-01-25T02:45:17.428Z"
   },
   {
    "duration": 6,
    "start_time": "2023-01-25T02:45:18.274Z"
   },
   {
    "duration": 12,
    "start_time": "2023-01-25T02:45:18.631Z"
   },
   {
    "duration": 14,
    "start_time": "2023-01-25T02:45:19.729Z"
   },
   {
    "duration": 62,
    "start_time": "2023-01-25T02:45:20.903Z"
   },
   {
    "duration": 24,
    "start_time": "2023-01-25T02:45:21.991Z"
   },
   {
    "duration": 2923,
    "start_time": "2023-01-25T02:45:23.257Z"
   },
   {
    "duration": 2939,
    "start_time": "2023-01-25T02:45:26.181Z"
   },
   {
    "duration": 28,
    "start_time": "2023-01-25T02:45:29.122Z"
   },
   {
    "duration": 50,
    "start_time": "2023-01-25T02:45:29.152Z"
   },
   {
    "duration": 24,
    "start_time": "2023-01-25T02:45:29.204Z"
   },
   {
    "duration": 21,
    "start_time": "2023-01-25T02:45:29.230Z"
   },
   {
    "duration": 65,
    "start_time": "2023-01-25T02:45:33.987Z"
   },
   {
    "duration": 11,
    "start_time": "2023-01-25T02:45:34.779Z"
   },
   {
    "duration": 13,
    "start_time": "2023-01-25T02:45:35.295Z"
   },
   {
    "duration": 4,
    "start_time": "2023-01-25T02:45:42.176Z"
   },
   {
    "duration": 311,
    "start_time": "2023-01-25T02:45:43.017Z"
   },
   {
    "duration": 21,
    "start_time": "2023-01-25T02:45:43.796Z"
   },
   {
    "duration": 415,
    "start_time": "2023-01-25T02:45:46.534Z"
   },
   {
    "duration": 33,
    "start_time": "2023-01-25T02:45:51.329Z"
   },
   {
    "duration": 7,
    "start_time": "2023-01-25T02:46:24.818Z"
   },
   {
    "duration": 2304,
    "start_time": "2023-01-25T02:46:28.496Z"
   },
   {
    "duration": 4,
    "start_time": "2023-01-25T02:46:32.144Z"
   },
   {
    "duration": 380,
    "start_time": "2023-01-25T02:46:35.119Z"
   },
   {
    "duration": 13,
    "start_time": "2023-01-25T02:46:39.491Z"
   },
   {
    "duration": 103488,
    "start_time": "2023-01-25T02:47:08.807Z"
   },
   {
    "duration": 6105,
    "start_time": "2023-01-25T02:49:07.387Z"
   },
   {
    "duration": 17,
    "start_time": "2023-01-25T02:49:19.754Z"
   },
   {
    "duration": 114683,
    "start_time": "2023-01-25T02:51:15.424Z"
   },
   {
    "duration": 3,
    "start_time": "2023-01-25T02:53:58.109Z"
   },
   {
    "duration": 4,
    "start_time": "2023-01-25T02:54:08.336Z"
   },
   {
    "duration": 10143,
    "start_time": "2023-01-25T02:54:12.758Z"
   },
   {
    "duration": 4350,
    "start_time": "2023-01-25T02:54:36.153Z"
   },
   {
    "duration": 361,
    "start_time": "2023-01-25T02:54:51.537Z"
   },
   {
    "duration": 102,
    "start_time": "2023-01-25T02:55:40.987Z"
   },
   {
    "duration": 5,
    "start_time": "2023-01-25T02:56:35.049Z"
   },
   {
    "duration": 1387,
    "start_time": "2023-01-25T20:17:51.678Z"
   },
   {
    "duration": 3070,
    "start_time": "2023-01-25T20:17:53.067Z"
   },
   {
    "duration": 17,
    "start_time": "2023-01-25T20:17:56.138Z"
   },
   {
    "duration": 12,
    "start_time": "2023-01-25T20:17:56.157Z"
   },
   {
    "duration": 134,
    "start_time": "2023-01-25T20:17:56.171Z"
   },
   {
    "duration": 90,
    "start_time": "2023-01-25T20:17:56.306Z"
   },
   {
    "duration": 38,
    "start_time": "2023-01-25T20:17:56.398Z"
   },
   {
    "duration": 501,
    "start_time": "2023-01-25T20:17:56.438Z"
   },
   {
    "duration": 74916,
    "start_time": "2023-01-25T20:17:56.941Z"
   },
   {
    "duration": 101,
    "start_time": "2023-01-25T20:19:11.886Z"
   },
   {
    "duration": 4,
    "start_time": "2023-01-25T20:19:11.988Z"
   },
   {
    "duration": 262,
    "start_time": "2023-01-25T20:19:11.993Z"
   },
   {
    "duration": 25,
    "start_time": "2023-01-25T20:19:12.256Z"
   },
   {
    "duration": 41,
    "start_time": "2023-01-25T20:19:12.283Z"
   },
   {
    "duration": 274,
    "start_time": "2023-01-25T20:19:12.326Z"
   },
   {
    "duration": 253,
    "start_time": "2023-01-25T20:19:12.602Z"
   },
   {
    "duration": 258,
    "start_time": "2023-01-25T20:19:12.857Z"
   },
   {
    "duration": 105,
    "start_time": "2023-01-25T20:19:13.117Z"
   },
   {
    "duration": 281,
    "start_time": "2023-01-25T20:19:13.223Z"
   },
   {
    "duration": 289,
    "start_time": "2023-01-25T20:19:13.506Z"
   },
   {
    "duration": 55,
    "start_time": "2023-01-25T20:19:13.797Z"
   },
   {
    "duration": 388,
    "start_time": "2023-01-25T20:19:13.853Z"
   },
   {
    "duration": 8,
    "start_time": "2023-01-25T20:19:14.243Z"
   },
   {
    "duration": 40,
    "start_time": "2023-01-25T20:19:14.252Z"
   },
   {
    "duration": 10,
    "start_time": "2023-01-25T20:19:14.294Z"
   },
   {
    "duration": 335,
    "start_time": "2023-01-25T20:19:14.306Z"
   },
   {
    "duration": 14,
    "start_time": "2023-01-25T20:19:14.643Z"
   },
   {
    "duration": 68,
    "start_time": "2023-01-25T20:19:14.670Z"
   },
   {
    "duration": 29,
    "start_time": "2023-01-25T20:19:14.740Z"
   },
   {
    "duration": 531,
    "start_time": "2023-01-25T20:19:14.771Z"
   },
   {
    "duration": 7,
    "start_time": "2023-01-25T20:19:15.304Z"
   },
   {
    "duration": 14,
    "start_time": "2023-01-25T20:19:15.313Z"
   },
   {
    "duration": 47,
    "start_time": "2023-01-25T20:19:15.328Z"
   },
   {
    "duration": 55,
    "start_time": "2023-01-25T20:19:15.376Z"
   },
   {
    "duration": 36,
    "start_time": "2023-01-25T20:19:15.433Z"
   },
   {
    "duration": 3047,
    "start_time": "2023-01-25T20:19:15.471Z"
   },
   {
    "duration": 2875,
    "start_time": "2023-01-25T20:19:18.520Z"
   },
   {
    "duration": 30,
    "start_time": "2023-01-25T20:19:21.396Z"
   },
   {
    "duration": 46,
    "start_time": "2023-01-25T20:19:21.427Z"
   },
   {
    "duration": 20,
    "start_time": "2023-01-25T20:19:21.475Z"
   },
   {
    "duration": 21,
    "start_time": "2023-01-25T20:19:21.497Z"
   },
   {
    "duration": 101,
    "start_time": "2023-01-25T20:19:21.520Z"
   },
   {
    "duration": 10,
    "start_time": "2023-01-25T20:19:21.622Z"
   },
   {
    "duration": 13,
    "start_time": "2023-01-25T20:19:21.633Z"
   },
   {
    "duration": 2,
    "start_time": "2023-01-25T20:19:21.668Z"
   },
   {
    "duration": 301,
    "start_time": "2023-01-25T20:19:21.671Z"
   },
   {
    "duration": 16,
    "start_time": "2023-01-25T20:19:21.974Z"
   },
   {
    "duration": 433,
    "start_time": "2023-01-25T20:19:21.992Z"
   },
   {
    "duration": 48,
    "start_time": "2023-01-25T20:19:22.427Z"
   },
   {
    "duration": 6,
    "start_time": "2023-01-25T20:19:22.477Z"
   },
   {
    "duration": 2487,
    "start_time": "2023-01-25T20:19:22.484Z"
   },
   {
    "duration": 8,
    "start_time": "2023-01-25T20:19:24.973Z"
   },
   {
    "duration": 493,
    "start_time": "2023-01-25T20:19:24.983Z"
   },
   {
    "duration": 96,
    "start_time": "2023-01-25T20:19:25.477Z"
   },
   {
    "duration": 310695,
    "start_time": "2023-01-25T20:19:25.575Z"
   },
   {
    "duration": 15300,
    "start_time": "2023-01-25T20:24:36.272Z"
   },
   {
    "duration": 100,
    "start_time": "2023-01-25T20:24:51.574Z"
   },
   {
    "duration": 5295529,
    "start_time": "2023-01-25T20:24:51.679Z"
   },
   {
    "duration": 16,
    "start_time": "2023-01-25T21:53:07.209Z"
   },
   {
    "duration": 0,
    "start_time": "2023-01-25T21:53:07.228Z"
   },
   {
    "duration": 0,
    "start_time": "2023-01-25T21:53:07.229Z"
   },
   {
    "duration": 0,
    "start_time": "2023-01-25T21:53:07.231Z"
   },
   {
    "duration": 0,
    "start_time": "2023-01-25T21:53:07.232Z"
   },
   {
    "duration": 0,
    "start_time": "2023-01-25T21:53:07.235Z"
   },
   {
    "duration": 1600,
    "start_time": "2023-01-26T05:55:55.286Z"
   },
   {
    "duration": 1080,
    "start_time": "2023-01-26T05:57:34.469Z"
   },
   {
    "duration": 17,
    "start_time": "2023-01-26T05:57:36.137Z"
   },
   {
    "duration": 13,
    "start_time": "2023-01-26T05:57:36.903Z"
   },
   {
    "duration": 103,
    "start_time": "2023-01-26T05:57:37.991Z"
   },
   {
    "duration": 98,
    "start_time": "2023-01-26T05:57:39.159Z"
   },
   {
    "duration": 45,
    "start_time": "2023-01-26T06:03:47.642Z"
   },
   {
    "duration": 565,
    "start_time": "2023-01-26T06:03:49.897Z"
   },
   {
    "duration": 86446,
    "start_time": "2023-01-26T06:03:50.915Z"
   },
   {
    "duration": 41,
    "start_time": "2023-01-26T06:09:21.260Z"
   },
   {
    "duration": 48,
    "start_time": "2023-01-26T06:10:15.172Z"
   },
   {
    "duration": 390,
    "start_time": "2023-01-26T06:10:31.685Z"
   },
   {
    "duration": 84,
    "start_time": "2023-01-26T06:12:09.625Z"
   },
   {
    "duration": 4,
    "start_time": "2023-01-26T06:12:10.551Z"
   },
   {
    "duration": 252,
    "start_time": "2023-01-26T06:12:11.157Z"
   },
   {
    "duration": 21,
    "start_time": "2023-01-26T06:12:13.997Z"
   },
   {
    "duration": 38,
    "start_time": "2023-01-26T06:12:15.544Z"
   },
   {
    "duration": 254,
    "start_time": "2023-01-26T06:12:16.796Z"
   },
   {
    "duration": 248,
    "start_time": "2023-01-26T06:12:19.748Z"
   },
   {
    "duration": 251,
    "start_time": "2023-01-26T06:12:21.215Z"
   },
   {
    "duration": 80,
    "start_time": "2023-01-26T06:12:24.832Z"
   },
   {
    "duration": 269,
    "start_time": "2023-01-26T06:12:26.300Z"
   },
   {
    "duration": 279,
    "start_time": "2023-01-26T06:12:29.188Z"
   },
   {
    "duration": 49,
    "start_time": "2023-01-26T06:12:31.131Z"
   },
   {
    "duration": 387,
    "start_time": "2023-01-26T06:12:31.991Z"
   },
   {
    "duration": 10,
    "start_time": "2023-01-26T06:12:39.565Z"
   },
   {
    "duration": 30,
    "start_time": "2023-01-26T06:12:39.959Z"
   },
   {
    "duration": 11,
    "start_time": "2023-01-26T06:12:42.046Z"
   },
   {
    "duration": 300,
    "start_time": "2023-01-26T06:12:42.874Z"
   },
   {
    "duration": 14,
    "start_time": "2023-01-26T06:12:46.758Z"
   },
   {
    "duration": 73,
    "start_time": "2023-01-26T06:12:47.463Z"
   },
   {
    "duration": 15,
    "start_time": "2023-01-26T06:12:50.958Z"
   },
   {
    "duration": 395,
    "start_time": "2023-01-26T06:12:51.224Z"
   },
   {
    "duration": 7,
    "start_time": "2023-01-26T06:12:51.856Z"
   },
   {
    "duration": 13,
    "start_time": "2023-01-26T06:12:52.482Z"
   },
   {
    "duration": 24,
    "start_time": "2023-01-26T06:16:50.445Z"
   },
   {
    "duration": 25,
    "start_time": "2023-01-26T06:17:12.813Z"
   },
   {
    "duration": 23,
    "start_time": "2023-01-26T06:17:15.397Z"
   },
   {
    "duration": 25,
    "start_time": "2023-01-26T06:17:19.969Z"
   },
   {
    "duration": 157,
    "start_time": "2023-01-26T06:19:48.500Z"
   },
   {
    "duration": 30,
    "start_time": "2023-01-26T06:23:37.567Z"
   },
   {
    "duration": 22,
    "start_time": "2023-01-26T06:23:46.503Z"
   },
   {
    "duration": 23,
    "start_time": "2023-01-26T06:23:57.873Z"
   },
   {
    "duration": 31,
    "start_time": "2023-01-26T06:24:12.072Z"
   },
   {
    "duration": 24,
    "start_time": "2023-01-26T06:24:20.868Z"
   },
   {
    "duration": 25,
    "start_time": "2023-01-26T06:25:45.312Z"
   },
   {
    "duration": 23,
    "start_time": "2023-01-26T06:26:17.021Z"
   },
   {
    "duration": 414,
    "start_time": "2023-01-26T06:26:30.458Z"
   },
   {
    "duration": 27,
    "start_time": "2023-01-26T06:26:49.415Z"
   },
   {
    "duration": 3,
    "start_time": "2023-01-26T06:28:15.213Z"
   },
   {
    "duration": 25,
    "start_time": "2023-01-26T06:28:56.954Z"
   },
   {
    "duration": 25,
    "start_time": "2023-01-26T06:28:58.185Z"
   },
   {
    "duration": 2505,
    "start_time": "2023-01-26T06:29:07.398Z"
   },
   {
    "duration": 3,
    "start_time": "2023-01-26T06:29:26.547Z"
   },
   {
    "duration": 456,
    "start_time": "2023-01-26T06:29:27.497Z"
   },
   {
    "duration": 478,
    "start_time": "2023-01-26T06:29:49.176Z"
   },
   {
    "duration": 13,
    "start_time": "2023-01-26T06:29:57.995Z"
   },
   {
    "duration": 499,
    "start_time": "2023-01-26T06:30:20.329Z"
   },
   {
    "duration": 12,
    "start_time": "2023-01-26T06:30:22.320Z"
   },
   {
    "duration": 15,
    "start_time": "2023-01-26T06:30:26.651Z"
   },
   {
    "duration": 20,
    "start_time": "2023-01-26T06:30:44.686Z"
   },
   {
    "duration": 18,
    "start_time": "2023-01-26T06:31:08.631Z"
   },
   {
    "duration": 85,
    "start_time": "2023-01-26T06:31:31.764Z"
   },
   {
    "duration": 23,
    "start_time": "2023-01-26T06:31:36.546Z"
   },
   {
    "duration": 3225,
    "start_time": "2023-01-26T06:31:37.643Z"
   },
   {
    "duration": 3249,
    "start_time": "2023-01-26T06:31:40.870Z"
   },
   {
    "duration": 37,
    "start_time": "2023-01-26T06:31:44.122Z"
   },
   {
    "duration": 92,
    "start_time": "2023-01-26T06:31:44.161Z"
   },
   {
    "duration": 22,
    "start_time": "2023-01-26T06:31:44.566Z"
   },
   {
    "duration": 22,
    "start_time": "2023-01-26T06:31:45.360Z"
   },
   {
    "duration": 82,
    "start_time": "2023-01-26T06:31:47.985Z"
   },
   {
    "duration": 12,
    "start_time": "2023-01-26T06:31:54.450Z"
   },
   {
    "duration": 13,
    "start_time": "2023-01-26T06:31:54.921Z"
   },
   {
    "duration": 61,
    "start_time": "2023-01-26T06:31:55.797Z"
   },
   {
    "duration": 555,
    "start_time": "2023-01-26T06:31:56.093Z"
   },
   {
    "duration": 79,
    "start_time": "2023-01-26T06:35:51.163Z"
   },
   {
    "duration": 50,
    "start_time": "2023-01-26T06:36:34.060Z"
   },
   {
    "duration": 3,
    "start_time": "2023-01-26T06:36:45.724Z"
   },
   {
    "duration": 293,
    "start_time": "2023-01-26T06:36:46.302Z"
   },
   {
    "duration": 21,
    "start_time": "2023-01-26T06:36:46.998Z"
   },
   {
    "duration": 464,
    "start_time": "2023-01-26T06:36:48.739Z"
   },
   {
    "duration": 477,
    "start_time": "2023-01-26T06:37:01.294Z"
   },
   {
    "duration": 456,
    "start_time": "2023-01-26T06:40:30.512Z"
   },
   {
    "duration": 36,
    "start_time": "2023-01-26T06:40:34.997Z"
   },
   {
    "duration": 8,
    "start_time": "2023-01-26T06:40:37.189Z"
   },
   {
    "duration": 2350,
    "start_time": "2023-01-26T06:40:38.958Z"
   },
   {
    "duration": 4,
    "start_time": "2023-01-26T06:40:45.561Z"
   },
   {
    "duration": 401,
    "start_time": "2023-01-26T06:40:49.005Z"
   },
   {
    "duration": 27,
    "start_time": "2023-01-26T06:41:01.426Z"
   },
   {
    "duration": 45,
    "start_time": "2023-01-26T06:42:05.068Z"
   },
   {
    "duration": 92136,
    "start_time": "2023-01-26T06:42:33.677Z"
   },
   {
    "duration": 17570,
    "start_time": "2023-01-26T06:48:14.440Z"
   },
   {
    "duration": 203,
    "start_time": "2023-01-26T06:48:32.011Z"
   },
   {
    "duration": 695527,
    "start_time": "2023-01-26T06:48:43.879Z"
   },
   {
    "duration": 3,
    "start_time": "2023-01-26T07:01:39.808Z"
   },
   {
    "duration": 4,
    "start_time": "2023-01-26T07:01:46.217Z"
   },
   {
    "duration": 71,
    "start_time": "2023-01-26T07:01:58.306Z"
   },
   {
    "duration": 4504,
    "start_time": "2023-01-26T07:02:05.603Z"
   },
   {
    "duration": 1237,
    "start_time": "2023-01-26T07:03:06.690Z"
   },
   {
    "duration": 388,
    "start_time": "2023-01-26T07:04:07.232Z"
   },
   {
    "duration": 4,
    "start_time": "2023-01-26T07:04:09.191Z"
   },
   {
    "duration": 50,
    "start_time": "2023-01-26T07:05:24.011Z"
   },
   {
    "duration": 15,
    "start_time": "2023-01-26T07:06:58.878Z"
   },
   {
    "duration": 22,
    "start_time": "2023-01-26T07:07:57.782Z"
   },
   {
    "duration": 30,
    "start_time": "2023-01-26T07:08:04.128Z"
   },
   {
    "duration": 24,
    "start_time": "2023-01-26T07:09:06.375Z"
   },
   {
    "duration": 10,
    "start_time": "2023-01-26T07:09:28.595Z"
   },
   {
    "duration": 134,
    "start_time": "2023-01-26T07:09:33.988Z"
   },
   {
    "duration": 28,
    "start_time": "2023-01-26T07:09:47.960Z"
   },
   {
    "duration": 13,
    "start_time": "2023-01-26T07:10:52.176Z"
   },
   {
    "duration": 11,
    "start_time": "2023-01-26T07:11:28.743Z"
   },
   {
    "duration": 35,
    "start_time": "2023-01-26T07:11:50.637Z"
   },
   {
    "duration": 41,
    "start_time": "2023-01-26T07:12:37.375Z"
   },
   {
    "duration": 4,
    "start_time": "2023-01-26T07:14:57.387Z"
   },
   {
    "duration": 3,
    "start_time": "2023-01-26T07:16:55.563Z"
   },
   {
    "duration": 4,
    "start_time": "2023-01-26T07:17:06.129Z"
   },
   {
    "duration": 67,
    "start_time": "2023-01-26T07:17:07.086Z"
   },
   {
    "duration": 5,
    "start_time": "2023-01-26T07:17:43.382Z"
   },
   {
    "duration": 4,
    "start_time": "2023-01-26T07:18:30.468Z"
   },
   {
    "duration": 25,
    "start_time": "2023-01-26T07:20:10.300Z"
   },
   {
    "duration": 28,
    "start_time": "2023-01-26T07:22:15.346Z"
   },
   {
    "duration": 12,
    "start_time": "2023-01-26T07:22:26.721Z"
   },
   {
    "duration": 10,
    "start_time": "2023-01-26T07:22:37.127Z"
   },
   {
    "duration": 10,
    "start_time": "2023-01-26T07:22:42.107Z"
   },
   {
    "duration": 11,
    "start_time": "2023-01-26T07:23:03.724Z"
   },
   {
    "duration": 683,
    "start_time": "2023-01-26T07:23:27.307Z"
   },
   {
    "duration": 14,
    "start_time": "2023-01-26T07:23:29.292Z"
   },
   {
    "duration": 14,
    "start_time": "2023-01-26T07:23:29.597Z"
   },
   {
    "duration": 103,
    "start_time": "2023-01-26T07:23:29.849Z"
   },
   {
    "duration": 88,
    "start_time": "2023-01-26T07:23:30.162Z"
   },
   {
    "duration": 43,
    "start_time": "2023-01-26T07:23:32.261Z"
   },
   {
    "duration": 624,
    "start_time": "2023-01-26T07:23:33.921Z"
   },
   {
    "duration": 97,
    "start_time": "2023-01-26T07:23:39.271Z"
   },
   {
    "duration": 4,
    "start_time": "2023-01-26T07:23:39.506Z"
   },
   {
    "duration": 252,
    "start_time": "2023-01-26T07:23:39.925Z"
   },
   {
    "duration": 21,
    "start_time": "2023-01-26T07:23:40.758Z"
   },
   {
    "duration": 52,
    "start_time": "2023-01-26T07:23:44.060Z"
   },
   {
    "duration": 253,
    "start_time": "2023-01-26T07:23:45.017Z"
   },
   {
    "duration": 283,
    "start_time": "2023-01-26T07:23:46.685Z"
   },
   {
    "duration": 242,
    "start_time": "2023-01-26T07:23:47.977Z"
   },
   {
    "duration": 82,
    "start_time": "2023-01-26T07:23:48.946Z"
   },
   {
    "duration": 254,
    "start_time": "2023-01-26T07:23:50.204Z"
   },
   {
    "duration": 285,
    "start_time": "2023-01-26T07:23:50.569Z"
   },
   {
    "duration": 10,
    "start_time": "2023-01-26T07:23:51.361Z"
   },
   {
    "duration": 438,
    "start_time": "2023-01-26T07:23:51.523Z"
   },
   {
    "duration": 10,
    "start_time": "2023-01-26T07:23:52.056Z"
   },
   {
    "duration": 33,
    "start_time": "2023-01-26T07:23:52.271Z"
   },
   {
    "duration": 12,
    "start_time": "2023-01-26T07:23:53.172Z"
   },
   {
    "duration": 295,
    "start_time": "2023-01-26T07:23:53.487Z"
   },
   {
    "duration": 15,
    "start_time": "2023-01-26T07:23:54.345Z"
   },
   {
    "duration": 76,
    "start_time": "2023-01-26T07:23:55.111Z"
   },
   {
    "duration": 15,
    "start_time": "2023-01-26T07:23:56.679Z"
   },
   {
    "duration": 23,
    "start_time": "2023-01-26T07:23:57.374Z"
   },
   {
    "duration": 24,
    "start_time": "2023-01-26T07:23:58.343Z"
   },
   {
    "duration": 2,
    "start_time": "2023-01-26T07:23:58.795Z"
   },
   {
    "duration": 405,
    "start_time": "2023-01-26T07:23:59.073Z"
   },
   {
    "duration": 12,
    "start_time": "2023-01-26T07:23:59.480Z"
   },
   {
    "duration": 16,
    "start_time": "2023-01-26T07:24:00.272Z"
   },
   {
    "duration": 13,
    "start_time": "2023-01-26T07:24:01.677Z"
   },
   {
    "duration": 58,
    "start_time": "2023-01-26T07:24:05.179Z"
   },
   {
    "duration": 23,
    "start_time": "2023-01-26T07:24:07.306Z"
   },
   {
    "duration": 2898,
    "start_time": "2023-01-26T07:24:10.057Z"
   },
   {
    "duration": 2957,
    "start_time": "2023-01-26T07:24:14.961Z"
   },
   {
    "duration": 30,
    "start_time": "2023-01-26T07:24:17.921Z"
   },
   {
    "duration": 75,
    "start_time": "2023-01-26T07:24:17.953Z"
   },
   {
    "duration": 27,
    "start_time": "2023-01-26T07:24:18.031Z"
   },
   {
    "duration": 31,
    "start_time": "2023-01-26T07:24:18.060Z"
   },
   {
    "duration": 67,
    "start_time": "2023-01-26T07:24:19.960Z"
   },
   {
    "duration": 15,
    "start_time": "2023-01-26T07:24:21.194Z"
   },
   {
    "duration": 12,
    "start_time": "2023-01-26T07:24:21.612Z"
   },
   {
    "duration": 56,
    "start_time": "2023-01-26T07:24:23.428Z"
   },
   {
    "duration": 543,
    "start_time": "2023-01-26T07:24:23.878Z"
   },
   {
    "duration": 4,
    "start_time": "2023-01-26T07:24:54.809Z"
   },
   {
    "duration": 12,
    "start_time": "2023-01-26T07:24:55.337Z"
   },
   {
    "duration": 18,
    "start_time": "2023-01-26T07:24:55.811Z"
   },
   {
    "duration": 3,
    "start_time": "2023-01-26T07:25:03.893Z"
   },
   {
    "duration": 308,
    "start_time": "2023-01-26T07:25:04.512Z"
   },
   {
    "duration": 20,
    "start_time": "2023-01-26T07:25:05.787Z"
   },
   {
    "duration": 432,
    "start_time": "2023-01-26T07:25:10.510Z"
   },
   {
    "duration": 36,
    "start_time": "2023-01-26T07:25:14.937Z"
   },
   {
    "duration": 11,
    "start_time": "2023-01-26T07:25:30.271Z"
   },
   {
    "duration": 13,
    "start_time": "2023-01-26T07:26:16.942Z"
   },
   {
    "duration": 15,
    "start_time": "2023-01-26T07:26:57.204Z"
   },
   {
    "duration": 18,
    "start_time": "2023-01-26T07:27:03.535Z"
   },
   {
    "duration": 14,
    "start_time": "2023-01-26T07:27:09.022Z"
   },
   {
    "duration": 13,
    "start_time": "2023-01-26T07:27:25.519Z"
   },
   {
    "duration": 6,
    "start_time": "2023-01-26T07:27:26.618Z"
   },
   {
    "duration": 22,
    "start_time": "2023-01-26T07:27:27.836Z"
   },
   {
    "duration": 39,
    "start_time": "2023-01-26T07:27:32.460Z"
   },
   {
    "duration": 4,
    "start_time": "2023-01-26T07:27:32.902Z"
   },
   {
    "duration": 34,
    "start_time": "2023-01-26T07:27:35.084Z"
   },
   {
    "duration": 4,
    "start_time": "2023-01-26T07:27:49.324Z"
   },
   {
    "duration": 7,
    "start_time": "2023-01-26T07:27:53.373Z"
   },
   {
    "duration": 69,
    "start_time": "2023-01-26T07:27:57.401Z"
   },
   {
    "duration": 1365231,
    "start_time": "2023-01-26T07:30:01.190Z"
   },
   {
    "duration": 13,
    "start_time": "2023-01-26T07:52:52.983Z"
   },
   {
    "duration": 20,
    "start_time": "2023-01-26T07:52:57.184Z"
   },
   {
    "duration": 12,
    "start_time": "2023-01-26T07:52:57.826Z"
   },
   {
    "duration": 135,
    "start_time": "2023-01-26T07:53:10.376Z"
   },
   {
    "duration": 24,
    "start_time": "2023-01-26T07:53:11.344Z"
   },
   {
    "duration": 25,
    "start_time": "2023-01-26T07:53:14.761Z"
   },
   {
    "duration": 69,
    "start_time": "2023-01-26T07:53:28.652Z"
   },
   {
    "duration": 4,
    "start_time": "2023-01-26T07:53:30.758Z"
   },
   {
    "duration": 26,
    "start_time": "2023-01-26T07:53:42.224Z"
   },
   {
    "duration": 4,
    "start_time": "2023-01-26T07:53:47.190Z"
   },
   {
    "duration": 4,
    "start_time": "2023-01-26T07:53:53.975Z"
   },
   {
    "duration": 4,
    "start_time": "2023-01-26T07:54:43.057Z"
   },
   {
    "duration": 5,
    "start_time": "2023-01-26T07:54:43.917Z"
   },
   {
    "duration": 71,
    "start_time": "2023-01-26T07:54:44.608Z"
   },
   {
    "duration": 151810,
    "start_time": "2023-01-26T07:57:16.172Z"
   },
   {
    "duration": 47,
    "start_time": "2023-01-26T07:59:47.984Z"
   },
   {
    "duration": 159371,
    "start_time": "2023-01-26T08:00:06.986Z"
   },
   {
    "duration": 139363,
    "start_time": "2023-01-26T08:03:44.250Z"
   },
   {
    "duration": 3,
    "start_time": "2023-01-26T08:26:13.192Z"
   },
   {
    "duration": 4,
    "start_time": "2023-01-26T08:26:45.328Z"
   },
   {
    "duration": 51847,
    "start_time": "2023-01-26T08:29:37.071Z"
   },
   {
    "duration": 30454,
    "start_time": "2023-01-26T08:31:27.462Z"
   },
   {
    "duration": 75904,
    "start_time": "2023-01-26T08:31:57.917Z"
   },
   {
    "duration": 3,
    "start_time": "2023-01-26T08:33:26.294Z"
   },
   {
    "duration": 7,
    "start_time": "2023-01-26T08:33:28.103Z"
   },
   {
    "duration": 229255,
    "start_time": "2023-01-26T08:33:37.069Z"
   },
   {
    "duration": 2213,
    "start_time": "2023-01-26T08:37:26.326Z"
   },
   {
    "duration": 533,
    "start_time": "2023-01-26T08:43:22.714Z"
   },
   {
    "duration": 6,
    "start_time": "2023-01-26T08:43:28.695Z"
   },
   {
    "duration": 53,
    "start_time": "2023-01-26T08:45:18.361Z"
   },
   {
    "duration": 47,
    "start_time": "2023-01-26T08:46:09.727Z"
   },
   {
    "duration": 42,
    "start_time": "2023-01-26T08:52:33.827Z"
   },
   {
    "duration": 5,
    "start_time": "2023-01-26T08:56:57.875Z"
   },
   {
    "duration": 46,
    "start_time": "2023-01-26T09:01:41.700Z"
   },
   {
    "duration": 7,
    "start_time": "2023-01-26T09:01:56.191Z"
   },
   {
    "duration": 47,
    "start_time": "2023-01-26T09:05:49.064Z"
   },
   {
    "duration": 60,
    "start_time": "2023-01-26T09:06:39.780Z"
   },
   {
    "duration": 79,
    "start_time": "2023-01-26T16:58:57.937Z"
   },
   {
    "duration": 44,
    "start_time": "2023-01-26T16:59:13.319Z"
   },
   {
    "duration": 1500,
    "start_time": "2023-01-26T16:59:18.463Z"
   },
   {
    "duration": 2988,
    "start_time": "2023-01-26T16:59:22.729Z"
   },
   {
    "duration": 0,
    "start_time": "2023-01-26T16:59:25.719Z"
   },
   {
    "duration": 0,
    "start_time": "2023-01-26T16:59:25.720Z"
   },
   {
    "duration": 0,
    "start_time": "2023-01-26T16:59:25.721Z"
   },
   {
    "duration": 0,
    "start_time": "2023-01-26T16:59:25.721Z"
   },
   {
    "duration": 0,
    "start_time": "2023-01-26T16:59:25.723Z"
   },
   {
    "duration": 777,
    "start_time": "2023-01-26T16:59:25.910Z"
   },
   {
    "duration": 99497,
    "start_time": "2023-01-26T16:59:26.689Z"
   },
   {
    "duration": 119,
    "start_time": "2023-01-26T17:01:06.189Z"
   },
   {
    "duration": 5,
    "start_time": "2023-01-26T17:01:06.309Z"
   },
   {
    "duration": 288,
    "start_time": "2023-01-26T17:01:06.316Z"
   },
   {
    "duration": 21,
    "start_time": "2023-01-26T17:01:06.605Z"
   },
   {
    "duration": 65,
    "start_time": "2023-01-26T17:01:06.628Z"
   },
   {
    "duration": 2143,
    "start_time": "2023-01-26T17:01:06.695Z"
   },
   {
    "duration": 249,
    "start_time": "2023-01-26T17:01:08.840Z"
   },
   {
    "duration": 247,
    "start_time": "2023-01-26T17:01:09.090Z"
   },
   {
    "duration": 127,
    "start_time": "2023-01-26T17:01:09.341Z"
   },
   {
    "duration": 370,
    "start_time": "2023-01-26T17:01:09.469Z"
   },
   {
    "duration": 397,
    "start_time": "2023-01-26T17:01:09.841Z"
   },
   {
    "duration": 56,
    "start_time": "2023-01-26T17:01:10.239Z"
   },
   {
    "duration": 417,
    "start_time": "2023-01-26T17:01:10.297Z"
   },
   {
    "duration": 12,
    "start_time": "2023-01-26T17:01:10.715Z"
   },
   {
    "duration": 61,
    "start_time": "2023-01-26T17:01:10.729Z"
   },
   {
    "duration": 10,
    "start_time": "2023-01-26T17:01:10.792Z"
   },
   {
    "duration": 337,
    "start_time": "2023-01-26T17:01:10.804Z"
   },
   {
    "duration": 20,
    "start_time": "2023-01-26T17:01:11.143Z"
   },
   {
    "duration": 114,
    "start_time": "2023-01-26T17:01:11.165Z"
   },
   {
    "duration": 21,
    "start_time": "2023-01-26T17:01:11.281Z"
   },
   {
    "duration": 29,
    "start_time": "2023-01-26T17:01:11.304Z"
   },
   {
    "duration": 46,
    "start_time": "2023-01-26T17:01:11.334Z"
   },
   {
    "duration": 29,
    "start_time": "2023-01-26T17:01:11.382Z"
   },
   {
    "duration": 442,
    "start_time": "2023-01-26T17:01:11.413Z"
   },
   {
    "duration": 17,
    "start_time": "2023-01-26T17:01:11.857Z"
   },
   {
    "duration": 24,
    "start_time": "2023-01-26T17:01:11.876Z"
   },
   {
    "duration": 15,
    "start_time": "2023-01-26T17:01:11.903Z"
   },
   {
    "duration": 123,
    "start_time": "2023-01-26T17:01:11.919Z"
   },
   {
    "duration": 25,
    "start_time": "2023-01-26T17:01:12.048Z"
   },
   {
    "duration": 3010,
    "start_time": "2023-01-26T17:01:12.074Z"
   },
   {
    "duration": 2901,
    "start_time": "2023-01-26T17:01:15.085Z"
   },
   {
    "duration": 31,
    "start_time": "2023-01-26T17:01:17.987Z"
   },
   {
    "duration": 49,
    "start_time": "2023-01-26T17:01:18.020Z"
   },
   {
    "duration": 20,
    "start_time": "2023-01-26T17:01:18.072Z"
   },
   {
    "duration": 21,
    "start_time": "2023-01-26T17:01:18.093Z"
   },
   {
    "duration": 113,
    "start_time": "2023-01-26T17:01:18.116Z"
   },
   {
    "duration": 32,
    "start_time": "2023-01-26T17:01:18.231Z"
   },
   {
    "duration": 25,
    "start_time": "2023-01-26T17:01:18.265Z"
   },
   {
    "duration": 121,
    "start_time": "2023-01-26T17:01:18.292Z"
   },
   {
    "duration": 899,
    "start_time": "2023-01-26T17:01:18.415Z"
   },
   {
    "duration": 6,
    "start_time": "2023-01-26T17:01:27.896Z"
   },
   {
    "duration": 386,
    "start_time": "2023-01-26T17:01:28.443Z"
   },
   {
    "duration": 22,
    "start_time": "2023-01-26T17:01:28.994Z"
   },
   {
    "duration": 1670,
    "start_time": "2023-01-27T01:53:23.828Z"
   },
   {
    "duration": 1303,
    "start_time": "2023-01-27T01:53:25.500Z"
   },
   {
    "duration": 0,
    "start_time": "2023-01-27T01:53:26.805Z"
   },
   {
    "duration": 0,
    "start_time": "2023-01-27T01:53:26.806Z"
   },
   {
    "duration": 0,
    "start_time": "2023-01-27T01:53:26.807Z"
   },
   {
    "duration": 145,
    "start_time": "2023-01-27T01:53:26.823Z"
   },
   {
    "duration": 64,
    "start_time": "2023-01-27T01:53:28.668Z"
   },
   {
    "duration": 703,
    "start_time": "2023-01-27T01:53:29.452Z"
   },
   {
    "duration": 87095,
    "start_time": "2023-01-27T01:53:30.158Z"
   },
   {
    "duration": 117,
    "start_time": "2023-01-27T01:55:03.101Z"
   },
   {
    "duration": 4,
    "start_time": "2023-01-27T01:55:03.290Z"
   },
   {
    "duration": 302,
    "start_time": "2023-01-27T01:55:03.499Z"
   },
   {
    "duration": 23,
    "start_time": "2023-01-27T01:55:04.228Z"
   },
   {
    "duration": 50,
    "start_time": "2023-01-27T01:55:05.031Z"
   },
   {
    "duration": 295,
    "start_time": "2023-01-27T01:55:05.689Z"
   },
   {
    "duration": 269,
    "start_time": "2023-01-27T01:55:08.754Z"
   },
   {
    "duration": 275,
    "start_time": "2023-01-27T01:55:12.735Z"
   },
   {
    "duration": 299,
    "start_time": "2023-01-27T01:55:15.534Z"
   },
   {
    "duration": 282,
    "start_time": "2023-01-27T01:55:17.483Z"
   },
   {
    "duration": 106,
    "start_time": "2023-01-27T01:55:17.961Z"
   },
   {
    "duration": 307,
    "start_time": "2023-01-27T01:55:19.365Z"
   },
   {
    "duration": 304,
    "start_time": "2023-01-27T01:55:30.451Z"
   },
   {
    "duration": 280,
    "start_time": "2023-01-27T01:55:31.687Z"
   },
   {
    "duration": 275,
    "start_time": "2023-01-27T01:55:32.823Z"
   },
   {
    "duration": 114,
    "start_time": "2023-01-27T01:55:33.101Z"
   },
   {
    "duration": 290,
    "start_time": "2023-01-27T01:55:35.027Z"
   },
   {
    "duration": 291,
    "start_time": "2023-01-27T01:55:36.633Z"
   },
   {
    "duration": 285,
    "start_time": "2023-01-27T01:55:45.579Z"
   },
   {
    "duration": 311,
    "start_time": "2023-01-27T01:55:50.473Z"
   },
   {
    "duration": 269,
    "start_time": "2023-01-27T01:55:56.333Z"
   },
   {
    "duration": 106,
    "start_time": "2023-01-27T01:55:57.290Z"
   },
   {
    "duration": 266,
    "start_time": "2023-01-27T01:55:59.023Z"
   },
   {
    "duration": 322,
    "start_time": "2023-01-27T01:56:00.155Z"
   },
   {
    "duration": 51,
    "start_time": "2023-01-27T01:56:01.232Z"
   },
   {
    "duration": 470,
    "start_time": "2023-01-27T01:56:01.523Z"
   },
   {
    "duration": 11,
    "start_time": "2023-01-27T01:56:02.389Z"
   },
   {
    "duration": 32,
    "start_time": "2023-01-27T01:56:02.600Z"
   },
   {
    "duration": 10,
    "start_time": "2023-01-27T01:56:03.674Z"
   },
   {
    "duration": 349,
    "start_time": "2023-01-27T01:56:04.039Z"
   },
   {
    "duration": 18,
    "start_time": "2023-01-27T01:56:04.667Z"
   },
   {
    "duration": 76,
    "start_time": "2023-01-27T01:56:05.240Z"
   },
   {
    "duration": 2027,
    "start_time": "2023-01-27T01:56:06.790Z"
   },
   {
    "duration": 26,
    "start_time": "2023-01-27T01:56:08.819Z"
   },
   {
    "duration": 38,
    "start_time": "2023-01-27T01:56:10.632Z"
   },
   {
    "duration": 2,
    "start_time": "2023-01-27T01:56:11.250Z"
   },
   {
    "duration": 443,
    "start_time": "2023-01-27T01:56:18.807Z"
   },
   {
    "duration": 13,
    "start_time": "2023-01-27T01:56:19.252Z"
   },
   {
    "duration": 20,
    "start_time": "2023-01-27T01:56:20.201Z"
   },
   {
    "duration": 16,
    "start_time": "2023-01-27T01:56:20.950Z"
   },
   {
    "duration": 63,
    "start_time": "2023-01-27T01:56:21.635Z"
   },
   {
    "duration": 25,
    "start_time": "2023-01-27T01:56:23.082Z"
   },
   {
    "duration": 3076,
    "start_time": "2023-01-27T01:56:24.108Z"
   },
   {
    "duration": 3172,
    "start_time": "2023-01-27T01:56:27.186Z"
   },
   {
    "duration": 38,
    "start_time": "2023-01-27T01:56:30.359Z"
   },
   {
    "duration": 62,
    "start_time": "2023-01-27T01:56:30.399Z"
   },
   {
    "duration": 23,
    "start_time": "2023-01-27T01:56:30.463Z"
   },
   {
    "duration": 32,
    "start_time": "2023-01-27T01:56:30.488Z"
   },
   {
    "duration": 106,
    "start_time": "2023-01-27T01:56:30.521Z"
   },
   {
    "duration": 19,
    "start_time": "2023-01-27T01:56:30.630Z"
   },
   {
    "duration": 12,
    "start_time": "2023-01-27T01:56:30.900Z"
   },
   {
    "duration": 60,
    "start_time": "2023-01-27T01:56:31.788Z"
   },
   {
    "duration": 553,
    "start_time": "2023-01-27T01:56:32.123Z"
   },
   {
    "duration": 2,
    "start_time": "2023-01-27T01:56:39.934Z"
   },
   {
    "duration": 335,
    "start_time": "2023-01-27T01:56:48.647Z"
   },
   {
    "duration": 20,
    "start_time": "2023-01-27T01:56:48.995Z"
   },
   {
    "duration": 493,
    "start_time": "2023-01-27T01:56:50.482Z"
   },
   {
    "duration": 458,
    "start_time": "2023-01-27T01:56:56.883Z"
   },
   {
    "duration": 41,
    "start_time": "2023-01-27T01:57:00.475Z"
   },
   {
    "duration": 7,
    "start_time": "2023-01-27T01:57:03.566Z"
   },
   {
    "duration": 2488,
    "start_time": "2023-01-27T01:57:04.706Z"
   },
   {
    "duration": 87,
    "start_time": "2023-01-27T01:57:07.200Z"
   },
   {
    "duration": 392,
    "start_time": "2023-01-27T01:57:07.402Z"
   },
   {
    "duration": 45,
    "start_time": "2023-01-27T01:57:09.338Z"
   },
   {
    "duration": 155739,
    "start_time": "2023-01-27T01:57:31.349Z"
   },
   {
    "duration": 8338,
    "start_time": "2023-01-27T02:00:11.047Z"
   },
   {
    "duration": 19,
    "start_time": "2023-01-27T02:00:25.066Z"
   },
   {
    "duration": 12,
    "start_time": "2023-01-27T02:00:30.886Z"
   },
   {
    "duration": 23,
    "start_time": "2023-01-27T02:00:32.323Z"
   },
   {
    "duration": 13,
    "start_time": "2023-01-27T02:00:33.034Z"
   },
   {
    "duration": 181,
    "start_time": "2023-01-27T02:00:36.196Z"
   },
   {
    "duration": 26,
    "start_time": "2023-01-27T02:00:37.023Z"
   },
   {
    "duration": 40,
    "start_time": "2023-01-27T02:00:38.528Z"
   },
   {
    "duration": 5,
    "start_time": "2023-01-27T02:00:39.223Z"
   },
   {
    "duration": 242802,
    "start_time": "2023-01-27T02:00:55.695Z"
   },
   {
    "duration": 3,
    "start_time": "2023-01-27T02:05:18.143Z"
   },
   {
    "duration": 5,
    "start_time": "2023-01-27T02:05:25.723Z"
   },
   {
    "duration": 5646,
    "start_time": "2023-01-27T02:05:31.744Z"
   },
   {
    "duration": 2211,
    "start_time": "2023-01-27T02:05:46.895Z"
   },
   {
    "duration": 536,
    "start_time": "2023-01-27T02:06:33.163Z"
   },
   {
    "duration": 6,
    "start_time": "2023-01-27T02:06:34.363Z"
   },
   {
    "duration": 1531,
    "start_time": "2023-01-27T16:31:28.789Z"
   },
   {
    "duration": 1082,
    "start_time": "2023-01-27T16:31:30.322Z"
   },
   {
    "duration": 0,
    "start_time": "2023-01-27T16:31:31.407Z"
   },
   {
    "duration": 0,
    "start_time": "2023-01-27T16:31:31.408Z"
   },
   {
    "duration": 0,
    "start_time": "2023-01-27T16:31:31.409Z"
   },
   {
    "duration": 0,
    "start_time": "2023-01-27T16:31:31.410Z"
   },
   {
    "duration": 0,
    "start_time": "2023-01-27T16:31:31.411Z"
   },
   {
    "duration": 0,
    "start_time": "2023-01-27T16:31:31.412Z"
   },
   {
    "duration": 0,
    "start_time": "2023-01-27T16:31:31.413Z"
   },
   {
    "duration": 0,
    "start_time": "2023-01-27T16:31:31.414Z"
   },
   {
    "duration": 0,
    "start_time": "2023-01-27T16:31:31.415Z"
   },
   {
    "duration": 0,
    "start_time": "2023-01-27T16:31:31.416Z"
   },
   {
    "duration": 0,
    "start_time": "2023-01-27T16:31:31.417Z"
   },
   {
    "duration": 0,
    "start_time": "2023-01-27T16:31:31.418Z"
   },
   {
    "duration": 0,
    "start_time": "2023-01-27T16:31:31.419Z"
   },
   {
    "duration": 0,
    "start_time": "2023-01-27T16:31:31.420Z"
   },
   {
    "duration": 0,
    "start_time": "2023-01-27T16:31:31.421Z"
   },
   {
    "duration": 0,
    "start_time": "2023-01-27T16:31:31.422Z"
   },
   {
    "duration": 0,
    "start_time": "2023-01-27T16:31:31.423Z"
   },
   {
    "duration": 0,
    "start_time": "2023-01-27T16:31:31.424Z"
   },
   {
    "duration": 0,
    "start_time": "2023-01-27T16:31:31.424Z"
   },
   {
    "duration": 0,
    "start_time": "2023-01-27T16:31:31.426Z"
   },
   {
    "duration": 0,
    "start_time": "2023-01-27T16:31:31.427Z"
   },
   {
    "duration": 0,
    "start_time": "2023-01-27T16:31:31.428Z"
   },
   {
    "duration": 0,
    "start_time": "2023-01-27T16:31:31.429Z"
   },
   {
    "duration": 0,
    "start_time": "2023-01-27T16:31:31.430Z"
   },
   {
    "duration": 0,
    "start_time": "2023-01-27T16:31:31.431Z"
   },
   {
    "duration": 0,
    "start_time": "2023-01-27T16:31:31.432Z"
   },
   {
    "duration": 0,
    "start_time": "2023-01-27T16:31:31.433Z"
   },
   {
    "duration": 0,
    "start_time": "2023-01-27T16:31:31.434Z"
   },
   {
    "duration": 0,
    "start_time": "2023-01-27T16:31:31.435Z"
   },
   {
    "duration": 0,
    "start_time": "2023-01-27T16:31:31.436Z"
   },
   {
    "duration": 0,
    "start_time": "2023-01-27T16:31:31.437Z"
   },
   {
    "duration": 0,
    "start_time": "2023-01-27T16:31:31.438Z"
   },
   {
    "duration": 0,
    "start_time": "2023-01-27T16:31:31.440Z"
   },
   {
    "duration": 0,
    "start_time": "2023-01-27T16:31:31.441Z"
   },
   {
    "duration": 0,
    "start_time": "2023-01-27T16:31:31.442Z"
   },
   {
    "duration": 0,
    "start_time": "2023-01-27T16:31:31.444Z"
   },
   {
    "duration": 0,
    "start_time": "2023-01-27T16:31:31.445Z"
   },
   {
    "duration": 0,
    "start_time": "2023-01-27T16:31:31.446Z"
   },
   {
    "duration": 0,
    "start_time": "2023-01-27T16:31:31.447Z"
   },
   {
    "duration": 0,
    "start_time": "2023-01-27T16:31:31.448Z"
   },
   {
    "duration": 0,
    "start_time": "2023-01-27T16:31:31.449Z"
   },
   {
    "duration": 0,
    "start_time": "2023-01-27T16:31:31.450Z"
   },
   {
    "duration": 0,
    "start_time": "2023-01-27T16:31:31.510Z"
   },
   {
    "duration": 0,
    "start_time": "2023-01-27T16:31:31.512Z"
   },
   {
    "duration": 0,
    "start_time": "2023-01-27T16:31:31.513Z"
   },
   {
    "duration": 0,
    "start_time": "2023-01-27T16:31:31.515Z"
   },
   {
    "duration": 0,
    "start_time": "2023-01-27T16:31:31.516Z"
   },
   {
    "duration": 0,
    "start_time": "2023-01-27T16:31:31.517Z"
   },
   {
    "duration": 0,
    "start_time": "2023-01-27T16:31:31.518Z"
   },
   {
    "duration": 0,
    "start_time": "2023-01-27T16:31:31.520Z"
   },
   {
    "duration": 0,
    "start_time": "2023-01-27T16:31:31.521Z"
   },
   {
    "duration": 0,
    "start_time": "2023-01-27T16:31:31.522Z"
   },
   {
    "duration": 0,
    "start_time": "2023-01-27T16:31:31.524Z"
   },
   {
    "duration": 0,
    "start_time": "2023-01-27T16:31:31.525Z"
   },
   {
    "duration": 0,
    "start_time": "2023-01-27T16:31:31.526Z"
   },
   {
    "duration": 0,
    "start_time": "2023-01-27T16:31:31.527Z"
   },
   {
    "duration": 0,
    "start_time": "2023-01-27T16:31:31.528Z"
   },
   {
    "duration": 0,
    "start_time": "2023-01-27T16:31:31.528Z"
   },
   {
    "duration": 0,
    "start_time": "2023-01-27T16:31:31.529Z"
   },
   {
    "duration": 0,
    "start_time": "2023-01-27T16:31:31.530Z"
   },
   {
    "duration": 0,
    "start_time": "2023-01-27T16:31:31.531Z"
   },
   {
    "duration": 0,
    "start_time": "2023-01-27T16:31:31.532Z"
   },
   {
    "duration": 0,
    "start_time": "2023-01-27T16:31:31.533Z"
   },
   {
    "duration": 0,
    "start_time": "2023-01-27T16:31:31.534Z"
   },
   {
    "duration": 1,
    "start_time": "2023-01-27T16:31:31.534Z"
   },
   {
    "duration": 0,
    "start_time": "2023-01-27T16:31:31.535Z"
   },
   {
    "duration": 0,
    "start_time": "2023-01-27T16:31:31.536Z"
   },
   {
    "duration": 0,
    "start_time": "2023-01-27T16:31:31.537Z"
   },
   {
    "duration": 0,
    "start_time": "2023-01-27T16:31:31.538Z"
   },
   {
    "duration": 0,
    "start_time": "2023-01-27T16:31:31.539Z"
   },
   {
    "duration": 0,
    "start_time": "2023-01-27T16:31:31.540Z"
   },
   {
    "duration": 0,
    "start_time": "2023-01-27T16:31:31.541Z"
   },
   {
    "duration": 0,
    "start_time": "2023-01-27T16:31:31.542Z"
   },
   {
    "duration": 0,
    "start_time": "2023-01-27T16:31:31.543Z"
   },
   {
    "duration": 1498,
    "start_time": "2023-01-27T16:34:20.288Z"
   },
   {
    "duration": 878,
    "start_time": "2023-01-27T16:34:21.788Z"
   },
   {
    "duration": 0,
    "start_time": "2023-01-27T16:34:22.669Z"
   },
   {
    "duration": 0,
    "start_time": "2023-01-27T16:34:22.670Z"
   },
   {
    "duration": 0,
    "start_time": "2023-01-27T16:34:22.671Z"
   },
   {
    "duration": 0,
    "start_time": "2023-01-27T16:34:22.672Z"
   },
   {
    "duration": 0,
    "start_time": "2023-01-27T16:34:22.673Z"
   },
   {
    "duration": 0,
    "start_time": "2023-01-27T16:34:22.674Z"
   },
   {
    "duration": 0,
    "start_time": "2023-01-27T16:34:22.675Z"
   },
   {
    "duration": 0,
    "start_time": "2023-01-27T16:34:22.676Z"
   },
   {
    "duration": 0,
    "start_time": "2023-01-27T16:34:22.676Z"
   },
   {
    "duration": 0,
    "start_time": "2023-01-27T16:34:22.677Z"
   },
   {
    "duration": 0,
    "start_time": "2023-01-27T16:34:22.678Z"
   },
   {
    "duration": 0,
    "start_time": "2023-01-27T16:34:22.679Z"
   },
   {
    "duration": 0,
    "start_time": "2023-01-27T16:34:22.680Z"
   },
   {
    "duration": 0,
    "start_time": "2023-01-27T16:34:22.680Z"
   },
   {
    "duration": 0,
    "start_time": "2023-01-27T16:34:22.681Z"
   },
   {
    "duration": 0,
    "start_time": "2023-01-27T16:34:22.682Z"
   },
   {
    "duration": 0,
    "start_time": "2023-01-27T16:34:22.683Z"
   },
   {
    "duration": 0,
    "start_time": "2023-01-27T16:34:22.709Z"
   },
   {
    "duration": 0,
    "start_time": "2023-01-27T16:34:22.710Z"
   },
   {
    "duration": 0,
    "start_time": "2023-01-27T16:34:22.711Z"
   },
   {
    "duration": 0,
    "start_time": "2023-01-27T16:34:22.712Z"
   },
   {
    "duration": 0,
    "start_time": "2023-01-27T16:34:22.713Z"
   },
   {
    "duration": 0,
    "start_time": "2023-01-27T16:34:22.714Z"
   },
   {
    "duration": 0,
    "start_time": "2023-01-27T16:34:22.715Z"
   },
   {
    "duration": 0,
    "start_time": "2023-01-27T16:34:22.716Z"
   },
   {
    "duration": 0,
    "start_time": "2023-01-27T16:34:22.717Z"
   },
   {
    "duration": 0,
    "start_time": "2023-01-27T16:34:22.718Z"
   },
   {
    "duration": 0,
    "start_time": "2023-01-27T16:34:22.719Z"
   },
   {
    "duration": 0,
    "start_time": "2023-01-27T16:34:22.719Z"
   },
   {
    "duration": 0,
    "start_time": "2023-01-27T16:34:22.720Z"
   },
   {
    "duration": 0,
    "start_time": "2023-01-27T16:34:22.721Z"
   },
   {
    "duration": 0,
    "start_time": "2023-01-27T16:34:22.722Z"
   },
   {
    "duration": 0,
    "start_time": "2023-01-27T16:34:22.723Z"
   },
   {
    "duration": 0,
    "start_time": "2023-01-27T16:34:22.724Z"
   },
   {
    "duration": 0,
    "start_time": "2023-01-27T16:34:22.725Z"
   },
   {
    "duration": 0,
    "start_time": "2023-01-27T16:34:22.726Z"
   },
   {
    "duration": 0,
    "start_time": "2023-01-27T16:34:22.727Z"
   },
   {
    "duration": 0,
    "start_time": "2023-01-27T16:34:22.727Z"
   },
   {
    "duration": 0,
    "start_time": "2023-01-27T16:34:22.729Z"
   },
   {
    "duration": 0,
    "start_time": "2023-01-27T16:34:22.729Z"
   },
   {
    "duration": 0,
    "start_time": "2023-01-27T16:34:22.730Z"
   },
   {
    "duration": 0,
    "start_time": "2023-01-27T16:34:22.730Z"
   },
   {
    "duration": 0,
    "start_time": "2023-01-27T16:34:22.731Z"
   },
   {
    "duration": 0,
    "start_time": "2023-01-27T16:34:22.732Z"
   },
   {
    "duration": 0,
    "start_time": "2023-01-27T16:34:22.733Z"
   },
   {
    "duration": 0,
    "start_time": "2023-01-27T16:34:22.734Z"
   },
   {
    "duration": 1,
    "start_time": "2023-01-27T16:34:22.734Z"
   },
   {
    "duration": 0,
    "start_time": "2023-01-27T16:34:22.735Z"
   },
   {
    "duration": 0,
    "start_time": "2023-01-27T16:34:22.736Z"
   },
   {
    "duration": 0,
    "start_time": "2023-01-27T16:34:22.737Z"
   },
   {
    "duration": 0,
    "start_time": "2023-01-27T16:34:22.738Z"
   },
   {
    "duration": 0,
    "start_time": "2023-01-27T16:34:22.739Z"
   },
   {
    "duration": 0,
    "start_time": "2023-01-27T16:34:22.740Z"
   },
   {
    "duration": 0,
    "start_time": "2023-01-27T16:34:22.741Z"
   },
   {
    "duration": 0,
    "start_time": "2023-01-27T16:34:22.741Z"
   },
   {
    "duration": 0,
    "start_time": "2023-01-27T16:34:22.742Z"
   },
   {
    "duration": 0,
    "start_time": "2023-01-27T16:34:22.743Z"
   },
   {
    "duration": 0,
    "start_time": "2023-01-27T16:34:22.744Z"
   },
   {
    "duration": 0,
    "start_time": "2023-01-27T16:34:22.745Z"
   },
   {
    "duration": 0,
    "start_time": "2023-01-27T16:34:22.746Z"
   },
   {
    "duration": 0,
    "start_time": "2023-01-27T16:34:22.810Z"
   },
   {
    "duration": 0,
    "start_time": "2023-01-27T16:34:22.812Z"
   },
   {
    "duration": 0,
    "start_time": "2023-01-27T16:34:22.813Z"
   },
   {
    "duration": 0,
    "start_time": "2023-01-27T16:34:22.814Z"
   },
   {
    "duration": 0,
    "start_time": "2023-01-27T16:34:22.815Z"
   },
   {
    "duration": 0,
    "start_time": "2023-01-27T16:34:22.816Z"
   },
   {
    "duration": 0,
    "start_time": "2023-01-27T16:34:22.817Z"
   },
   {
    "duration": 0,
    "start_time": "2023-01-27T16:34:22.818Z"
   },
   {
    "duration": 0,
    "start_time": "2023-01-27T16:34:22.819Z"
   },
   {
    "duration": 0,
    "start_time": "2023-01-27T16:34:22.820Z"
   },
   {
    "duration": 0,
    "start_time": "2023-01-27T16:34:22.821Z"
   },
   {
    "duration": 0,
    "start_time": "2023-01-27T16:34:22.822Z"
   },
   {
    "duration": 0,
    "start_time": "2023-01-27T16:34:22.823Z"
   },
   {
    "duration": 0,
    "start_time": "2023-01-27T16:34:22.828Z"
   }
  ],
  "kernelspec": {
   "display_name": "Python 3 (ipykernel)",
   "language": "python",
   "name": "python3"
  },
  "language_info": {
   "codemirror_mode": {
    "name": "ipython",
    "version": 3
   },
   "file_extension": ".py",
   "mimetype": "text/x-python",
   "name": "python",
   "nbconvert_exporter": "python",
   "pygments_lexer": "ipython3",
   "version": "3.9.12"
  },
  "toc": {
   "base_numbering": 1,
   "nav_menu": {},
   "number_sections": true,
   "sideBar": true,
   "skip_h1_title": true,
   "title_cell": "Table of Contents",
   "title_sidebar": "Contents",
   "toc_cell": false,
   "toc_position": {},
   "toc_section_display": true,
   "toc_window_display": false
  }
 },
 "nbformat": 4,
 "nbformat_minor": 2
}
